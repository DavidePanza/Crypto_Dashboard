{
 "cells": [
  {
   "cell_type": "code",
   "execution_count": 1,
   "id": "01a0b2b7",
   "metadata": {},
   "outputs": [
    {
     "data": {
      "text/plain": [
       "True"
      ]
     },
     "execution_count": 1,
     "metadata": {},
     "output_type": "execute_result"
    }
   ],
   "source": [
    "from jupyter_dash import JupyterDash\n",
    "from dash import Dash, html, dcc, Input, Output, State\n",
    "import plotly.graph_objs as go\n",
    "import pandas as pd\n",
    "from datetime import datetime, timedelta\n",
    "import boto3\n",
    "from boto3.dynamodb.conditions import Key\n",
    "import pandas as pd\n",
    "import plotly.express as px\n",
    "import os\n",
    "import time\n",
    "from dotenv import load_dotenv\n",
    "\n",
    "load_dotenv()"
   ]
  },
  {
   "cell_type": "code",
   "execution_count": 2,
   "id": "2e9e2f12",
   "metadata": {},
   "outputs": [],
   "source": [
    "# Initialize Dash app\n",
    "# app = dash.Dash(__name__)\n",
    "# server = app.server\n",
    "\n",
    "# AWS configuration \n",
    "AWS_ACCESS_KEY_ID = os.environ.get('AWS_ACCESS_KEY_ID')\n",
    "AWS_SECRET_ACCESS_KEY = os.environ.get('AWS_SECRET_ACCESS_KEY')\n",
    "AWS_REGION = 'us-east-1'\n"
   ]
  },
  {
   "cell_type": "code",
   "execution_count": 3,
   "id": "28ef9025",
   "metadata": {},
   "outputs": [],
   "source": [
    "dynamodb = boto3.resource('dynamodb')\n",
    "table = dynamodb.Table('crypto-prices')"
   ]
  },
  {
   "cell_type": "code",
   "execution_count": 12,
   "id": "963d6f00",
   "metadata": {},
   "outputs": [],
   "source": [
    "def get_data(table, time1, time2):\n",
    "    try:\n",
    "        response = table.query(\n",
    "            KeyConditionExpression =Key('PK').eq('CRYPTO_PRICES') &\n",
    "                                    Key('timestamp').between(\n",
    "                                        time1,\n",
    "                                        time2\n",
    "                                        )\n",
    "                                    )\n",
    "        df = pd.DataFrame(response['Items']).drop(columns=['ttl', 'PK'])\n",
    "\n",
    "        return df\n",
    "    \n",
    "    except Exception as e:\n",
    "        raise Exception(f'qQuery failed: {e}')\n"
   ]
  },
  {
   "cell_type": "code",
   "execution_count": 13,
   "id": "31beac91",
   "metadata": {},
   "outputs": [],
   "source": [
    "df = get_data(table, '2025-10-13T16:00:00', '2025-10-14T11:00:00')\n"
   ]
  },
  {
   "cell_type": "code",
   "execution_count": 15,
   "id": "9edb6638",
   "metadata": {},
   "outputs": [
    {
     "name": "stdout",
     "output_type": "stream",
     "text": [
      "   ethereum bitcoin\n",
      "0   3593.78   99400\n",
      "1   3595.99   99110\n",
      "2   3588.58   98994\n",
      "3   3596.14   99031\n",
      "4   3602.74   99128\n",
      "..      ...     ...\n",
      "80  3438.21   96250\n",
      "81  3408.78   95830\n",
      "82  3383.87   95384\n",
      "83  3401.61   95539\n",
      "84  3414.25   95839\n",
      "\n",
      "[85 rows x 2 columns]\n"
     ]
    }
   ],
   "source": [
    "options = ['ethereum', 'bitcoin']\n",
    "selection = df.loc[:, options]\n",
    "print(selection)"
   ]
  },
  {
   "cell_type": "code",
   "execution_count": 16,
   "id": "0019a670",
   "metadata": {},
   "outputs": [
    {
     "data": {
      "application/vnd.plotly.v1+json": {
       "config": {
        "plotlyServerURL": "https://plot.ly"
       },
       "data": [
        {
         "line": {
          "color": "#627EEA",
          "width": 3
         },
         "marker": {
          "size": 4
         },
         "mode": "lines+markers",
         "name": "ethereum",
         "type": "scatter",
         "x": [
          "2025-10-13T16:11:14.869496+00:00",
          "2025-10-13T16:27:35.479438+00:00",
          "2025-10-13T16:41:57.621896+00:00",
          "2025-10-13T16:52:47.604888+00:00",
          "2025-10-13T17:03:09.475261+00:00",
          "2025-10-13T17:16:36.588341+00:00",
          "2025-10-13T17:29:06.899306+00:00",
          "2025-10-13T17:39:51.669491+00:00",
          "2025-10-13T17:49:25.960711+00:00",
          "2025-10-13T17:58:29.675667+00:00",
          "2025-10-13T18:12:10.509852+00:00",
          "2025-10-13T18:29:10.595211+00:00",
          "2025-10-13T18:43:40.889049+00:00",
          "2025-10-13T18:53:46.984342+00:00",
          "2025-10-13T19:05:03.868564+00:00",
          "2025-10-13T19:18:04.890950+00:00",
          "2025-10-13T19:27:37.691384+00:00",
          "2025-10-13T19:37:41.059361+00:00",
          "2025-10-13T19:46:53.183035+00:00",
          "2025-10-13T19:56:10.482697+00:00",
          "2025-10-13T20:10:01.798969+00:00",
          "2025-10-13T20:25:27.737466+00:00",
          "2025-10-13T20:37:00.142411+00:00",
          "2025-10-13T20:46:07.829346+00:00",
          "2025-10-13T20:55:12.159325+00:00",
          "2025-10-13T21:06:58.014387+00:00",
          "2025-10-13T21:20:49.192020+00:00",
          "2025-10-13T21:29:32.206693+00:00",
          "2025-10-13T21:38:29.465115+00:00",
          "2025-10-13T21:48:11.797031+00:00",
          "2025-10-13T21:57:12.971070+00:00",
          "2025-10-13T22:09:10.370485+00:00",
          "2025-10-13T22:23:45.622352+00:00",
          "2025-10-13T22:35:13.407004+00:00",
          "2025-10-13T22:44:45.293636+00:00",
          "2025-10-13T22:53:52.443431+00:00",
          "2025-10-13T23:05:14.810252+00:00",
          "2025-10-13T23:18:57.771057+00:00",
          "2025-10-13T23:29:20.014491+00:00",
          "2025-10-13T23:39:24.258232+00:00",
          "2025-10-13T23:49:00.666294+00:00",
          "2025-10-13T23:58:07.345493+00:00",
          "2025-10-14T00:34:03.257103+00:00",
          "2025-10-14T01:03:36.807090+00:00",
          "2025-10-14T01:45:58.949098+00:00",
          "2025-10-14T02:21:20.167367+00:00",
          "2025-10-14T02:50:09.606824+00:00",
          "2025-10-14T03:13:08.340879+00:00",
          "2025-10-14T03:31:47.370732+00:00",
          "2025-10-14T03:45:50.784224+00:00",
          "2025-10-14T03:55:33.436646+00:00",
          "2025-10-14T04:10:19.524516+00:00",
          "2025-10-14T04:26:31.495723+00:00",
          "2025-10-14T04:39:02.108623+00:00",
          "2025-10-14T04:49:09.022900+00:00",
          "2025-10-14T04:58:29.976469+00:00",
          "2025-10-14T05:11:02.978132+00:00",
          "2025-10-14T05:25:50.582467+00:00",
          "2025-10-14T05:37:35.357219+00:00",
          "2025-10-14T05:46:48.828699+00:00",
          "2025-10-14T05:56:04.619605+00:00",
          "2025-10-14T06:13:04.471860+00:00",
          "2025-10-14T06:30:53.829838+00:00",
          "2025-10-14T06:45:44.270515+00:00",
          "2025-10-14T06:55:58.759632+00:00",
          "2025-10-14T07:09:34.396853+00:00",
          "2025-10-14T07:24:36.721774+00:00",
          "2025-10-14T07:35:29.624126+00:00",
          "2025-10-14T07:44:19.498106+00:00",
          "2025-10-14T07:53:25.195642+00:00",
          "2025-10-14T08:06:00.698477+00:00",
          "2025-10-14T08:20:54.557937+00:00",
          "2025-10-14T08:35:46.567475+00:00",
          "2025-10-14T08:48:12.946844+00:00",
          "2025-10-14T08:57:38.445667+00:00",
          "2025-10-14T09:10:13.901853+00:00",
          "2025-10-14T09:25:54.393851+00:00",
          "2025-10-14T09:38:20.333231+00:00",
          "2025-10-14T09:48:07.402909+00:00",
          "2025-10-14T09:57:27.824496+00:00",
          "2025-10-14T10:09:58.761512+00:00",
          "2025-10-14T10:25:30.193133+00:00",
          "2025-10-14T10:39:26.293584+00:00",
          "2025-10-14T10:49:48.898804+00:00",
          "2025-10-14T10:58:42.397178+00:00"
         ],
         "y": [
          3593.78,
          3595.99,
          3588.58,
          3596.14,
          3602.74,
          3599.65,
          3604.43,
          3615.01,
          3612.44,
          3626.14,
          3637.9,
          3654.32,
          3658.24,
          3651.14,
          3657.86,
          3679.37,
          3670.56,
          3675.57,
          3686.59,
          3691.4,
          3688.36,
          3678.02,
          3674.63,
          3683.39,
          3687.75,
          3701.96,
          3700.54,
          3693.5,
          3690.82,
          3689.25,
          3683.48,
          3690.38,
          3687.65,
          3684.08,
          3688.07,
          3696.22,
          3689.99,
          3683.7,
          3679.42,
          3674.74,
          3667.26,
          3669.95,
          3687.94,
          3667.03,
          3649.85,
          3622.78,
          3610.2,
          3590.79,
          3581.04,
          3590.18,
          3595.03,
          3587.11,
          3589.31,
          3572.53,
          3551.12,
          3536.28,
          3558.35,
          3547.13,
          3524.16,
          3511.61,
          3514.69,
          3520.31,
          3501.64,
          3461.93,
          3465.47,
          3455.65,
          3465.69,
          3465.35,
          3451.79,
          3449.2,
          3428.32,
          3438.27,
          3459.9,
          3458.64,
          3457.94,
          3465.44,
          3458.28,
          3464.31,
          3458.03,
          3449.65,
          3438.21,
          3408.78,
          3383.87,
          3401.61,
          3414.25
         ]
        },
        {
         "line": {
          "color": "#F7931A",
          "width": 3
         },
         "marker": {
          "size": 4
         },
         "mode": "lines+markers",
         "name": "bitcoin",
         "type": "scatter",
         "x": [
          "2025-10-13T16:11:14.869496+00:00",
          "2025-10-13T16:27:35.479438+00:00",
          "2025-10-13T16:41:57.621896+00:00",
          "2025-10-13T16:52:47.604888+00:00",
          "2025-10-13T17:03:09.475261+00:00",
          "2025-10-13T17:16:36.588341+00:00",
          "2025-10-13T17:29:06.899306+00:00",
          "2025-10-13T17:39:51.669491+00:00",
          "2025-10-13T17:49:25.960711+00:00",
          "2025-10-13T17:58:29.675667+00:00",
          "2025-10-13T18:12:10.509852+00:00",
          "2025-10-13T18:29:10.595211+00:00",
          "2025-10-13T18:43:40.889049+00:00",
          "2025-10-13T18:53:46.984342+00:00",
          "2025-10-13T19:05:03.868564+00:00",
          "2025-10-13T19:18:04.890950+00:00",
          "2025-10-13T19:27:37.691384+00:00",
          "2025-10-13T19:37:41.059361+00:00",
          "2025-10-13T19:46:53.183035+00:00",
          "2025-10-13T19:56:10.482697+00:00",
          "2025-10-13T20:10:01.798969+00:00",
          "2025-10-13T20:25:27.737466+00:00",
          "2025-10-13T20:37:00.142411+00:00",
          "2025-10-13T20:46:07.829346+00:00",
          "2025-10-13T20:55:12.159325+00:00",
          "2025-10-13T21:06:58.014387+00:00",
          "2025-10-13T21:20:49.192020+00:00",
          "2025-10-13T21:29:32.206693+00:00",
          "2025-10-13T21:38:29.465115+00:00",
          "2025-10-13T21:48:11.797031+00:00",
          "2025-10-13T21:57:12.971070+00:00",
          "2025-10-13T22:09:10.370485+00:00",
          "2025-10-13T22:23:45.622352+00:00",
          "2025-10-13T22:35:13.407004+00:00",
          "2025-10-13T22:44:45.293636+00:00",
          "2025-10-13T22:53:52.443431+00:00",
          "2025-10-13T23:05:14.810252+00:00",
          "2025-10-13T23:18:57.771057+00:00",
          "2025-10-13T23:29:20.014491+00:00",
          "2025-10-13T23:39:24.258232+00:00",
          "2025-10-13T23:49:00.666294+00:00",
          "2025-10-13T23:58:07.345493+00:00",
          "2025-10-14T00:34:03.257103+00:00",
          "2025-10-14T01:03:36.807090+00:00",
          "2025-10-14T01:45:58.949098+00:00",
          "2025-10-14T02:21:20.167367+00:00",
          "2025-10-14T02:50:09.606824+00:00",
          "2025-10-14T03:13:08.340879+00:00",
          "2025-10-14T03:31:47.370732+00:00",
          "2025-10-14T03:45:50.784224+00:00",
          "2025-10-14T03:55:33.436646+00:00",
          "2025-10-14T04:10:19.524516+00:00",
          "2025-10-14T04:26:31.495723+00:00",
          "2025-10-14T04:39:02.108623+00:00",
          "2025-10-14T04:49:09.022900+00:00",
          "2025-10-14T04:58:29.976469+00:00",
          "2025-10-14T05:11:02.978132+00:00",
          "2025-10-14T05:25:50.582467+00:00",
          "2025-10-14T05:37:35.357219+00:00",
          "2025-10-14T05:46:48.828699+00:00",
          "2025-10-14T05:56:04.619605+00:00",
          "2025-10-14T06:13:04.471860+00:00",
          "2025-10-14T06:30:53.829838+00:00",
          "2025-10-14T06:45:44.270515+00:00",
          "2025-10-14T06:55:58.759632+00:00",
          "2025-10-14T07:09:34.396853+00:00",
          "2025-10-14T07:24:36.721774+00:00",
          "2025-10-14T07:35:29.624126+00:00",
          "2025-10-14T07:44:19.498106+00:00",
          "2025-10-14T07:53:25.195642+00:00",
          "2025-10-14T08:06:00.698477+00:00",
          "2025-10-14T08:20:54.557937+00:00",
          "2025-10-14T08:35:46.567475+00:00",
          "2025-10-14T08:48:12.946844+00:00",
          "2025-10-14T08:57:38.445667+00:00",
          "2025-10-14T09:10:13.901853+00:00",
          "2025-10-14T09:25:54.393851+00:00",
          "2025-10-14T09:38:20.333231+00:00",
          "2025-10-14T09:48:07.402909+00:00",
          "2025-10-14T09:57:27.824496+00:00",
          "2025-10-14T10:09:58.761512+00:00",
          "2025-10-14T10:25:30.193133+00:00",
          "2025-10-14T10:39:26.293584+00:00",
          "2025-10-14T10:49:48.898804+00:00",
          "2025-10-14T10:58:42.397178+00:00"
         ],
         "y": [
          99400,
          99110,
          98994,
          99031,
          99128,
          99083,
          99021,
          99088,
          98911,
          98895,
          99247,
          99649,
          99562,
          99536,
          99580,
          99774,
          99909,
          99924,
          100048,
          100202,
          100189,
          100010,
          99885,
          99906,
          100000,
          100036,
          100097,
          100070,
          100032,
          100005,
          100041,
          100135,
          100060,
          99923,
          99936,
          99954,
          99889,
          99854,
          99864,
          99788,
          99546,
          99635,
          99878,
          99511,
          99049,
          98569,
          98404,
          98133,
          98020,
          98094,
          98196,
          97952,
          98038,
          97866,
          97640,
          97545,
          97845,
          97951,
          97301,
          97199,
          97248,
          97268,
          97125,
          96837,
          96904,
          96699,
          96868,
          96910,
          96699,
          96731,
          96667,
          96746,
          96935,
          96927,
          96825,
          96921,
          96712,
          96717,
          96488,
          96323,
          96250,
          95830,
          95384,
          95539,
          95839
         ]
        }
       ],
       "layout": {
        "paper_bgcolor": "#1E1E1E",
        "plot_bgcolor": "#2D2D2D",
        "template": {
         "data": {
          "bar": [
           {
            "error_x": {
             "color": "#f2f5fa"
            },
            "error_y": {
             "color": "#f2f5fa"
            },
            "marker": {
             "line": {
              "color": "rgb(17,17,17)",
              "width": 0.5
             },
             "pattern": {
              "fillmode": "overlay",
              "size": 10,
              "solidity": 0.2
             }
            },
            "type": "bar"
           }
          ],
          "barpolar": [
           {
            "marker": {
             "line": {
              "color": "rgb(17,17,17)",
              "width": 0.5
             },
             "pattern": {
              "fillmode": "overlay",
              "size": 10,
              "solidity": 0.2
             }
            },
            "type": "barpolar"
           }
          ],
          "carpet": [
           {
            "aaxis": {
             "endlinecolor": "#A2B1C6",
             "gridcolor": "#506784",
             "linecolor": "#506784",
             "minorgridcolor": "#506784",
             "startlinecolor": "#A2B1C6"
            },
            "baxis": {
             "endlinecolor": "#A2B1C6",
             "gridcolor": "#506784",
             "linecolor": "#506784",
             "minorgridcolor": "#506784",
             "startlinecolor": "#A2B1C6"
            },
            "type": "carpet"
           }
          ],
          "choropleth": [
           {
            "colorbar": {
             "outlinewidth": 0,
             "ticks": ""
            },
            "type": "choropleth"
           }
          ],
          "contour": [
           {
            "colorbar": {
             "outlinewidth": 0,
             "ticks": ""
            },
            "colorscale": [
             [
              0,
              "#0d0887"
             ],
             [
              0.1111111111111111,
              "#46039f"
             ],
             [
              0.2222222222222222,
              "#7201a8"
             ],
             [
              0.3333333333333333,
              "#9c179e"
             ],
             [
              0.4444444444444444,
              "#bd3786"
             ],
             [
              0.5555555555555556,
              "#d8576b"
             ],
             [
              0.6666666666666666,
              "#ed7953"
             ],
             [
              0.7777777777777778,
              "#fb9f3a"
             ],
             [
              0.8888888888888888,
              "#fdca26"
             ],
             [
              1,
              "#f0f921"
             ]
            ],
            "type": "contour"
           }
          ],
          "contourcarpet": [
           {
            "colorbar": {
             "outlinewidth": 0,
             "ticks": ""
            },
            "type": "contourcarpet"
           }
          ],
          "heatmap": [
           {
            "colorbar": {
             "outlinewidth": 0,
             "ticks": ""
            },
            "colorscale": [
             [
              0,
              "#0d0887"
             ],
             [
              0.1111111111111111,
              "#46039f"
             ],
             [
              0.2222222222222222,
              "#7201a8"
             ],
             [
              0.3333333333333333,
              "#9c179e"
             ],
             [
              0.4444444444444444,
              "#bd3786"
             ],
             [
              0.5555555555555556,
              "#d8576b"
             ],
             [
              0.6666666666666666,
              "#ed7953"
             ],
             [
              0.7777777777777778,
              "#fb9f3a"
             ],
             [
              0.8888888888888888,
              "#fdca26"
             ],
             [
              1,
              "#f0f921"
             ]
            ],
            "type": "heatmap"
           }
          ],
          "histogram": [
           {
            "marker": {
             "pattern": {
              "fillmode": "overlay",
              "size": 10,
              "solidity": 0.2
             }
            },
            "type": "histogram"
           }
          ],
          "histogram2d": [
           {
            "colorbar": {
             "outlinewidth": 0,
             "ticks": ""
            },
            "colorscale": [
             [
              0,
              "#0d0887"
             ],
             [
              0.1111111111111111,
              "#46039f"
             ],
             [
              0.2222222222222222,
              "#7201a8"
             ],
             [
              0.3333333333333333,
              "#9c179e"
             ],
             [
              0.4444444444444444,
              "#bd3786"
             ],
             [
              0.5555555555555556,
              "#d8576b"
             ],
             [
              0.6666666666666666,
              "#ed7953"
             ],
             [
              0.7777777777777778,
              "#fb9f3a"
             ],
             [
              0.8888888888888888,
              "#fdca26"
             ],
             [
              1,
              "#f0f921"
             ]
            ],
            "type": "histogram2d"
           }
          ],
          "histogram2dcontour": [
           {
            "colorbar": {
             "outlinewidth": 0,
             "ticks": ""
            },
            "colorscale": [
             [
              0,
              "#0d0887"
             ],
             [
              0.1111111111111111,
              "#46039f"
             ],
             [
              0.2222222222222222,
              "#7201a8"
             ],
             [
              0.3333333333333333,
              "#9c179e"
             ],
             [
              0.4444444444444444,
              "#bd3786"
             ],
             [
              0.5555555555555556,
              "#d8576b"
             ],
             [
              0.6666666666666666,
              "#ed7953"
             ],
             [
              0.7777777777777778,
              "#fb9f3a"
             ],
             [
              0.8888888888888888,
              "#fdca26"
             ],
             [
              1,
              "#f0f921"
             ]
            ],
            "type": "histogram2dcontour"
           }
          ],
          "mesh3d": [
           {
            "colorbar": {
             "outlinewidth": 0,
             "ticks": ""
            },
            "type": "mesh3d"
           }
          ],
          "parcoords": [
           {
            "line": {
             "colorbar": {
              "outlinewidth": 0,
              "ticks": ""
             }
            },
            "type": "parcoords"
           }
          ],
          "pie": [
           {
            "automargin": true,
            "type": "pie"
           }
          ],
          "scatter": [
           {
            "marker": {
             "line": {
              "color": "#283442"
             }
            },
            "type": "scatter"
           }
          ],
          "scatter3d": [
           {
            "line": {
             "colorbar": {
              "outlinewidth": 0,
              "ticks": ""
             }
            },
            "marker": {
             "colorbar": {
              "outlinewidth": 0,
              "ticks": ""
             }
            },
            "type": "scatter3d"
           }
          ],
          "scattercarpet": [
           {
            "marker": {
             "colorbar": {
              "outlinewidth": 0,
              "ticks": ""
             }
            },
            "type": "scattercarpet"
           }
          ],
          "scattergeo": [
           {
            "marker": {
             "colorbar": {
              "outlinewidth": 0,
              "ticks": ""
             }
            },
            "type": "scattergeo"
           }
          ],
          "scattergl": [
           {
            "marker": {
             "line": {
              "color": "#283442"
             }
            },
            "type": "scattergl"
           }
          ],
          "scattermap": [
           {
            "marker": {
             "colorbar": {
              "outlinewidth": 0,
              "ticks": ""
             }
            },
            "type": "scattermap"
           }
          ],
          "scattermapbox": [
           {
            "marker": {
             "colorbar": {
              "outlinewidth": 0,
              "ticks": ""
             }
            },
            "type": "scattermapbox"
           }
          ],
          "scatterpolar": [
           {
            "marker": {
             "colorbar": {
              "outlinewidth": 0,
              "ticks": ""
             }
            },
            "type": "scatterpolar"
           }
          ],
          "scatterpolargl": [
           {
            "marker": {
             "colorbar": {
              "outlinewidth": 0,
              "ticks": ""
             }
            },
            "type": "scatterpolargl"
           }
          ],
          "scatterternary": [
           {
            "marker": {
             "colorbar": {
              "outlinewidth": 0,
              "ticks": ""
             }
            },
            "type": "scatterternary"
           }
          ],
          "surface": [
           {
            "colorbar": {
             "outlinewidth": 0,
             "ticks": ""
            },
            "colorscale": [
             [
              0,
              "#0d0887"
             ],
             [
              0.1111111111111111,
              "#46039f"
             ],
             [
              0.2222222222222222,
              "#7201a8"
             ],
             [
              0.3333333333333333,
              "#9c179e"
             ],
             [
              0.4444444444444444,
              "#bd3786"
             ],
             [
              0.5555555555555556,
              "#d8576b"
             ],
             [
              0.6666666666666666,
              "#ed7953"
             ],
             [
              0.7777777777777778,
              "#fb9f3a"
             ],
             [
              0.8888888888888888,
              "#fdca26"
             ],
             [
              1,
              "#f0f921"
             ]
            ],
            "type": "surface"
           }
          ],
          "table": [
           {
            "cells": {
             "fill": {
              "color": "#506784"
             },
             "line": {
              "color": "rgb(17,17,17)"
             }
            },
            "header": {
             "fill": {
              "color": "#2a3f5f"
             },
             "line": {
              "color": "rgb(17,17,17)"
             }
            },
            "type": "table"
           }
          ]
         },
         "layout": {
          "annotationdefaults": {
           "arrowcolor": "#f2f5fa",
           "arrowhead": 0,
           "arrowwidth": 1
          },
          "autotypenumbers": "strict",
          "coloraxis": {
           "colorbar": {
            "outlinewidth": 0,
            "ticks": ""
           }
          },
          "colorscale": {
           "diverging": [
            [
             0,
             "#8e0152"
            ],
            [
             0.1,
             "#c51b7d"
            ],
            [
             0.2,
             "#de77ae"
            ],
            [
             0.3,
             "#f1b6da"
            ],
            [
             0.4,
             "#fde0ef"
            ],
            [
             0.5,
             "#f7f7f7"
            ],
            [
             0.6,
             "#e6f5d0"
            ],
            [
             0.7,
             "#b8e186"
            ],
            [
             0.8,
             "#7fbc41"
            ],
            [
             0.9,
             "#4d9221"
            ],
            [
             1,
             "#276419"
            ]
           ],
           "sequential": [
            [
             0,
             "#0d0887"
            ],
            [
             0.1111111111111111,
             "#46039f"
            ],
            [
             0.2222222222222222,
             "#7201a8"
            ],
            [
             0.3333333333333333,
             "#9c179e"
            ],
            [
             0.4444444444444444,
             "#bd3786"
            ],
            [
             0.5555555555555556,
             "#d8576b"
            ],
            [
             0.6666666666666666,
             "#ed7953"
            ],
            [
             0.7777777777777778,
             "#fb9f3a"
            ],
            [
             0.8888888888888888,
             "#fdca26"
            ],
            [
             1,
             "#f0f921"
            ]
           ],
           "sequentialminus": [
            [
             0,
             "#0d0887"
            ],
            [
             0.1111111111111111,
             "#46039f"
            ],
            [
             0.2222222222222222,
             "#7201a8"
            ],
            [
             0.3333333333333333,
             "#9c179e"
            ],
            [
             0.4444444444444444,
             "#bd3786"
            ],
            [
             0.5555555555555556,
             "#d8576b"
            ],
            [
             0.6666666666666666,
             "#ed7953"
            ],
            [
             0.7777777777777778,
             "#fb9f3a"
            ],
            [
             0.8888888888888888,
             "#fdca26"
            ],
            [
             1,
             "#f0f921"
            ]
           ]
          },
          "colorway": [
           "#636efa",
           "#EF553B",
           "#00cc96",
           "#ab63fa",
           "#FFA15A",
           "#19d3f3",
           "#FF6692",
           "#B6E880",
           "#FF97FF",
           "#FECB52"
          ],
          "font": {
           "color": "#f2f5fa"
          },
          "geo": {
           "bgcolor": "rgb(17,17,17)",
           "lakecolor": "rgb(17,17,17)",
           "landcolor": "rgb(17,17,17)",
           "showlakes": true,
           "showland": true,
           "subunitcolor": "#506784"
          },
          "hoverlabel": {
           "align": "left"
          },
          "hovermode": "closest",
          "mapbox": {
           "style": "dark"
          },
          "paper_bgcolor": "rgb(17,17,17)",
          "plot_bgcolor": "rgb(17,17,17)",
          "polar": {
           "angularaxis": {
            "gridcolor": "#506784",
            "linecolor": "#506784",
            "ticks": ""
           },
           "bgcolor": "rgb(17,17,17)",
           "radialaxis": {
            "gridcolor": "#506784",
            "linecolor": "#506784",
            "ticks": ""
           }
          },
          "scene": {
           "xaxis": {
            "backgroundcolor": "rgb(17,17,17)",
            "gridcolor": "#506784",
            "gridwidth": 2,
            "linecolor": "#506784",
            "showbackground": true,
            "ticks": "",
            "zerolinecolor": "#C8D4E3"
           },
           "yaxis": {
            "backgroundcolor": "rgb(17,17,17)",
            "gridcolor": "#506784",
            "gridwidth": 2,
            "linecolor": "#506784",
            "showbackground": true,
            "ticks": "",
            "zerolinecolor": "#C8D4E3"
           },
           "zaxis": {
            "backgroundcolor": "rgb(17,17,17)",
            "gridcolor": "#506784",
            "gridwidth": 2,
            "linecolor": "#506784",
            "showbackground": true,
            "ticks": "",
            "zerolinecolor": "#C8D4E3"
           }
          },
          "shapedefaults": {
           "line": {
            "color": "#f2f5fa"
           }
          },
          "sliderdefaults": {
           "bgcolor": "#C8D4E3",
           "bordercolor": "rgb(17,17,17)",
           "borderwidth": 1,
           "tickwidth": 0
          },
          "ternary": {
           "aaxis": {
            "gridcolor": "#506784",
            "linecolor": "#506784",
            "ticks": ""
           },
           "baxis": {
            "gridcolor": "#506784",
            "linecolor": "#506784",
            "ticks": ""
           },
           "bgcolor": "rgb(17,17,17)",
           "caxis": {
            "gridcolor": "#506784",
            "linecolor": "#506784",
            "ticks": ""
           }
          },
          "title": {
           "x": 0.05
          },
          "updatemenudefaults": {
           "bgcolor": "#506784",
           "borderwidth": 0
          },
          "xaxis": {
           "automargin": true,
           "gridcolor": "#283442",
           "linecolor": "#506784",
           "ticks": "",
           "title": {
            "standoff": 15
           },
           "zerolinecolor": "#283442",
           "zerolinewidth": 2
          },
          "yaxis": {
           "automargin": true,
           "gridcolor": "#283442",
           "linecolor": "#506784",
           "ticks": "",
           "title": {
            "standoff": 15
           },
           "zerolinecolor": "#283442",
           "zerolinewidth": 2
          }
         }
        },
        "title": {
         "text": "Crypto Prices"
        },
        "xaxis": {
         "title": {
          "text": "Time"
         }
        },
        "yaxis": {
         "title": {
          "text": "Price (USD)"
         }
        }
       }
      }
     },
     "metadata": {},
     "output_type": "display_data"
    }
   ],
   "source": [
    "traces = []\n",
    "for crypto in selection.columns:\n",
    "    traces.append(go.Scatter(\n",
    "        x=df['timestamp'],              # ← Use this if timestamps are in index\n",
    "        y=df[crypto],            # ← Crypto column name\n",
    "        mode='lines+markers',\n",
    "        name=crypto,\n",
    "        line=dict(color=CRYPTO_COLORS.get(crypto, '#FFFFFF'), width=3),\n",
    "        marker=dict(size=4)\n",
    "    ))\n",
    "\n",
    "figure = {\n",
    "    'data': traces,\n",
    "    'layout': go.Layout(\n",
    "        title='Crypto Prices',\n",
    "        template='plotly_dark',\n",
    "        paper_bgcolor='#1E1E1E',\n",
    "        plot_bgcolor='#2D2D2D',\n",
    "        xaxis={'title': 'Time'},\n",
    "        yaxis={'title': 'Price (USD)'}\n",
    "    )\n",
    "}\n",
    "\n",
    "fig = go.Figure(data=traces, layout=figure['layout'])\n",
    "fig.show()"
   ]
  },
  {
   "cell_type": "code",
   "execution_count": null,
   "id": "8fc208b0",
   "metadata": {},
   "outputs": [
    {
     "data": {
      "text/plain": [
       "'Tet'"
      ]
     },
     "execution_count": 41,
     "metadata": {},
     "output_type": "execute_result"
    }
   ],
   "source": [
    "traces.append(go.Scatter(\n",
    "    x=df['timestamp'],\n",
    "    y=selection,\n",
    "    mode='lines+markers',\n",
    "    name=crypto,\n",
    "    line=dict(color=CRYPTO_COLORS.get(crypto, '#FFFFFF'), width=3),\n",
    "    marker=dict(size=4)\n",
    "))"
   ]
  },
  {
   "cell_type": "code",
   "execution_count": 43,
   "id": "a73cdd72",
   "metadata": {},
   "outputs": [
    {
     "data": {
      "text/plain": [
       "[{'label': 'Tether', 'value': 'TET'},\n",
       " {'label': 'Ethereum', 'value': 'ETH'},\n",
       " {'label': 'Binancecoin', 'value': 'BIN'},\n",
       " {'label': 'Cardano', 'value': 'CAR'},\n",
       " {'label': 'Dogecoin', 'value': 'DOG'},\n",
       " {'label': 'Solana', 'value': 'SOL'},\n",
       " {'label': 'Tron', 'value': 'TRO'},\n",
       " {'label': 'Ripple', 'value': 'RIP'},\n",
       " {'label': 'Usd-coin', 'value': 'USD'},\n",
       " {'label': 'Bitcoin', 'value': 'BIT'}]"
      ]
     },
     "execution_count": 43,
     "metadata": {},
     "output_type": "execute_result"
    }
   ],
   "source": [
    "options"
   ]
  },
  {
   "cell_type": "code",
   "execution_count": 24,
   "id": "5a9d7f51",
   "metadata": {},
   "outputs": [],
   "source": [
    "def get_Options(df):\n",
    "    keys = [key.capitalize() for key in df.keys() if key != 'timestamp']\n",
    "    options = []\n",
    "    for key in keys:\n",
    "        cur_dict = {'label': key, 'value':key.lower()}\n",
    "        options.append(cur_dict)\n",
    "    \n",
    "    return options\n",
    "\n",
    "options = get_Options(df) \n"
   ]
  },
  {
   "cell_type": "code",
   "execution_count": null,
   "id": "75a51f20",
   "metadata": {},
   "outputs": [],
   "source": [
    "app = Dash(__name__)\n",
    "\n",
    "CRYPTO_COLORS = {\n",
    "    'bitcoin': '#F7931A',        # Orange\n",
    "    'ethereum': '#627EEA',       # Blue/Purple\n",
    "    'tether': '#26A17B',         # Green\n",
    "    'binancecoin': '#F3BA2F',    # Yellow/Gold\n",
    "    'solana': '#14F195',         # Bright Green/Cyan\n",
    "    'ripple': '#23292F',         # Dark Gray/Black\n",
    "    'cardano': '#0033AD',        # Blue\n",
    "    'dogecoin': '#C2A633',       # Gold/Yellow\n",
    "    'tron': '#FF060A',           # Red\n",
    "    'usd-coin': '#2775CA',       # Blue\n",
    "}\n",
    "\n",
    "app.layout = html.Div([\n",
    "    html.H1('Crypto Dashboard', style={'color': '#FFF', 'textAlign': 'center'}),\n",
    "    \n",
    "    # Hidden component to store data\n",
    "    dcc.Store(id='crypto-data-store'),\n",
    "    \n",
    "    html.Div([\n",
    "        html.Label('Select Cryptos to Display:', style={'color': '#FFF', 'fontWeight': 'bold'}),\n",
    "        dcc.Checklist(\n",
    "            id='crypto-selector',\n",
    "            options=get_Options(df),\n",
    "            value=['bitcoin'],\n",
    "            inline=False,\n",
    "            style={'color': '#FFF', 'padding': '10px'}\n",
    "        ),\n",
    "    ], style={'padding': '20px', 'backgroundColor': '#2D2D2D', 'margin': '20px', 'borderRadius': '10px'}),\n",
    "    \n",
    "    html.Div([\n",
    "        html.Label('Start Time:', style={'color': '#FFF', 'marginRight': '10px'}),\n",
    "        dcc.Input(\n",
    "            id='start_time',\n",
    "            value='2025-10-13T16:00', \n",
    "            type='datetime-local',\n",
    "            style={'padding': '8px'}\n",
    "        ),\n",
    "        \n",
    "        html.Label('End Time:', style={'color': '#FFF', 'marginRight': '10px', 'marginLeft': '20px'}),\n",
    "        dcc.Input(\n",
    "            id='end_time',\n",
    "            value='2025-10-14T16:00', \n",
    "            type='datetime-local',\n",
    "            style={'padding': '8px'}\n",
    "        ),\n",
    "    ], style={'padding': '20px', 'backgroundColor': '#2D2D2D', 'margin': '20px', 'borderRadius': '10px'}),\n",
    "    \n",
    "    html.Div(id='query-status', style={'color': '#FFD700', 'padding': '10px', 'textAlign': 'center'}),\n",
    "    \n",
    "    dcc.Graph(id='chart')\n",
    "], style={'backgroundColor': '#121212', 'minHeight': '100vh'})\n",
    "\n",
    "# CALLBACK 1: Query database and store data (only triggers on time change)\n",
    "@app.callback(\n",
    "    [Output('crypto-data-store', 'data'),\n",
    "     Output('query-status', 'children')],\n",
    "    [Input('start_time', 'value'),\n",
    "     Input('end_time', 'value')]\n",
    ")\n",
    "def query_database(start_time, end_time):\n",
    "    \"\"\"This runs only when time changes - queries database\"\"\"\n",
    "    print(f\"🔍 QUERYING DATABASE: {start_time} to {end_time}\")\n",
    "    \n",
    "    # Query ALL cryptos from database\n",
    "    df_all = get_data(table, start_time, end_time)\n",
    "    \n",
    "    # Convert to JSON for storage\n",
    "    data_json = df_all.to_json(date_format='iso', orient='split')\n",
    "    \n",
    "    status = f\"Loaded {len(df_all)} records from database\"\n",
    "    \n",
    "    return data_json, status\n",
    "\n",
    "# CALLBACK 2: Update chart display (triggers on crypto selection OR when data changes)\n",
    "@app.callback(\n",
    "    Output('chart', 'figure'),\n",
    "    [Input('crypto-data-store', 'data'),    # Triggers when data is loaded\n",
    "     Input('crypto-selector', 'value')]     # Triggers when selection changes\n",
    ")\n",
    "def update_chart(stored_data, selected_cryptos):\n",
    "    \"\"\"This runs when crypto selection changes - uses stored data, NO new query\"\"\"\n",
    "    \n",
    "    if not stored_data:\n",
    "        return {\n",
    "            'data': [],\n",
    "            'layout': go.Layout(\n",
    "                title='Waiting for data...',\n",
    "                template='plotly_dark',\n",
    "                paper_bgcolor='#1E1E1E',\n",
    "                plot_bgcolor='#2D2D2D'\n",
    "            )\n",
    "        }\n",
    "    \n",
    "    print(f\"UPDATING CHART (no query): Showing {selected_cryptos}\")\n",
    "    \n",
    "    # Load data from storage (no database query!)\n",
    "    df = pd.read_json(stored_data, orient='split')\n",
    "    \n",
    "    # Filter by selected cryptos\n",
    "    traces = []\n",
    "    for crypto in selected_cryptos:\n",
    "        if len(df) == 0:\n",
    "            continue\n",
    "        \n",
    "        traces.append(go.Scatter(\n",
    "            x=df['timestamp'],\n",
    "            y=df[crypto],\n",
    "            mode='lines+markers',\n",
    "            name=crypto,\n",
    "            line=dict(color=CRYPTO_COLORS.get(crypto, '#FFFFFF'), width=3),\n",
    "            marker=dict(size=4)\n",
    "        ))\n",
    "\n",
    "    return {\n",
    "        'data': traces,\n",
    "        'layout': go.Layout(\n",
    "            title=f'Crypto Prices - Displaying {len(selected_cryptos)} cryptos',\n",
    "            template='plotly_dark',\n",
    "            paper_bgcolor='#1E1E1E',\n",
    "            plot_bgcolor='#2D2D2D',\n",
    "            xaxis={'title': 'Time'},\n",
    "            yaxis={'title': 'Price (USD)'},\n",
    "            hovermode='x unified'\n",
    "        )\n",
    "    }\n",
    "\n",
    "import threading\n",
    "\n",
    "def run_dash():\n",
    "    app.run(debug=False, port=8050, use_reloader=False)\n",
    "\n",
    "thread = threading.Thread(target=run_dash, daemon=True)\n",
    "thread.start()\n",
    "\n",
    "print(\"Dashboard running at: http://127.0.0.1:8050\")"
   ]
  },
  {
   "cell_type": "code",
   "execution_count": null,
   "id": "0a6029dc",
   "metadata": {},
   "outputs": [
    {
     "name": "stdout",
     "output_type": "stream",
     "text": [
      "Dashboard running at: http://127.0.0.1:8050\n"
     ]
    },
    {
     "name": "stdout",
     "output_type": "stream",
     "text": [
      "🔍 QUERYING DATABASE: 2025-10-13T16:00 to 2025-10-14T16:00🔍 QUERYING DATABASE: 2025-10-13T01:00 to 2025-10-14T16:00\n",
      "🔍 QUERYING DATABASE: 2025-10-13T16:00 to 2025-10-14T16:00\n",
      "🔍 QUERYING DATABASE: 2025-10-13T18:00 to 2025-10-14T16:00\n",
      "\n"
     ]
    },
    {
     "data": {
      "text/html": [
       "\n",
       "        <iframe\n",
       "            width=\"100%\"\n",
       "            height=\"650\"\n",
       "            src=\"http://127.0.0.1:8050/\"\n",
       "            frameborder=\"0\"\n",
       "            allowfullscreen\n",
       "            \n",
       "        ></iframe>\n",
       "        "
      ],
      "text/plain": [
       "<IPython.lib.display.IFrame at 0x12517b010>"
      ]
     },
     "metadata": {},
     "output_type": "display_data"
    },
    {
     "name": "stderr",
     "output_type": "stream",
     "text": [
      "[2025-10-14 16:32:54,018] ERROR in app: Exception on /_dash-update-component [POST]\n",
      "Traceback (most recent call last):\n",
      "  File \"/Users/davide/miniconda3/envs/prefect_env/lib/python3.11/site-packages/flask/app.py\", line 1511, in wsgi_app\n",
      "    response = self.full_dispatch_request()\n",
      "               ^^^^^^^^^^^^^^^^^^^^^^^^^^^^\n",
      "  File \"/Users/davide/miniconda3/envs/prefect_env/lib/python3.11/site-packages/flask/app.py\", line 919, in full_dispatch_request\n",
      "    rv = self.handle_user_exception(e)\n",
      "         ^^^^^^^^^^^^^^^^^^^^^^^^^^^^^\n",
      "  File \"/Users/davide/miniconda3/envs/prefect_env/lib/python3.11/site-packages/flask/app.py\", line 917, in full_dispatch_request\n",
      "    rv = self.dispatch_request()\n",
      "         ^^^^^^^^^^^^^^^^^^^^^^^\n",
      "  File \"/Users/davide/miniconda3/envs/prefect_env/lib/python3.11/site-packages/flask/app.py\", line 902, in dispatch_request\n",
      "    return self.ensure_sync(self.view_functions[rule.endpoint])(**view_args)  # type: ignore[no-any-return]\n",
      "           ^^^^^^^^^^^^^^^^^^^^^^^^^^^^^^^^^^^^^^^^^^^^^^^^^^^^^^^^^^^^^^^^^\n",
      "  File \"/Users/davide/miniconda3/envs/prefect_env/lib/python3.11/site-packages/dash/dash.py\", line 1494, in dispatch\n",
      "    response_data = ctx.run(partial_func)\n",
      "                    ^^^^^^^^^^^^^^^^^^^^^\n",
      "  File \"/Users/davide/miniconda3/envs/prefect_env/lib/python3.11/site-packages/dash/_callback.py\", line 688, in add_context\n",
      "    raise err\n",
      "  File \"/Users/davide/miniconda3/envs/prefect_env/lib/python3.11/site-packages/dash/_callback.py\", line 679, in add_context\n",
      "    output_value = _invoke_callback(func, *func_args, **func_kwargs)  # type: ignore[reportArgumentType]\n",
      "                   ^^^^^^^^^^^^^^^^^^^^^^^^^^^^^^^^^^^^^^^^^^^^^^^^^\n",
      "  File \"/Users/davide/miniconda3/envs/prefect_env/lib/python3.11/site-packages/dash/_callback.py\", line 59, in _invoke_callback\n",
      "    return func(*args, **kwargs)  # %% callback invoked %%\n",
      "           ^^^^^^^^^^^^^^^^^^^^^\n",
      "  File \"/var/folders/yc/f5g0c28x47g53ndmf5dwnb1c0000gn/T/ipykernel_46615/235980911.py\", line 63, in update_chart\n",
      "    df = get_mock_data(crypto, int(days))\n",
      "         ^^^^^^^^^^^^^\n",
      "NameError: name 'get_mock_data' is not defined\n",
      "[2025-10-14 16:32:54,027] ERROR in app: Exception on /_dash-update-component [POST]\n",
      "Traceback (most recent call last):\n",
      "  File \"/Users/davide/miniconda3/envs/prefect_env/lib/python3.11/site-packages/flask/app.py\", line 1511, in wsgi_app\n",
      "    response = self.full_dispatch_request()\n",
      "               ^^^^^^^^^^^^^^^^^^^^^^^^^^^^\n",
      "  File \"/Users/davide/miniconda3/envs/prefect_env/lib/python3.11/site-packages/flask/app.py\", line 919, in full_dispatch_request\n",
      "    rv = self.handle_user_exception(e)\n",
      "         ^^^^^^^^^^^^^^^^^^^^^^^^^^^^^\n",
      "  File \"/Users/davide/miniconda3/envs/prefect_env/lib/python3.11/site-packages/flask/app.py\", line 917, in full_dispatch_request\n",
      "    rv = self.dispatch_request()\n",
      "         ^^^^^^^^^^^^^^^^^^^^^^^\n",
      "  File \"/Users/davide/miniconda3/envs/prefect_env/lib/python3.11/site-packages/flask/app.py\", line 902, in dispatch_request\n",
      "    return self.ensure_sync(self.view_functions[rule.endpoint])(**view_args)  # type: ignore[no-any-return]\n",
      "           ^^^^^^^^^^^^^^^^^^^^^^^^^^^^^^^^^^^^^^^^^^^^^^^^^^^^^^^^^^^^^^^^^\n",
      "  File \"/Users/davide/miniconda3/envs/prefect_env/lib/python3.11/site-packages/dash/dash.py\", line 1494, in dispatch\n",
      "    response_data = ctx.run(partial_func)\n",
      "                    ^^^^^^^^^^^^^^^^^^^^^\n",
      "  File \"/Users/davide/miniconda3/envs/prefect_env/lib/python3.11/site-packages/dash/_callback.py\", line 688, in add_context\n",
      "    raise err\n",
      "  File \"/Users/davide/miniconda3/envs/prefect_env/lib/python3.11/site-packages/dash/_callback.py\", line 679, in add_context\n",
      "    output_value = _invoke_callback(func, *func_args, **func_kwargs)  # type: ignore[reportArgumentType]\n",
      "                   ^^^^^^^^^^^^^^^^^^^^^^^^^^^^^^^^^^^^^^^^^^^^^^^^^\n",
      "  File \"/Users/davide/miniconda3/envs/prefect_env/lib/python3.11/site-packages/dash/_callback.py\", line 59, in _invoke_callback\n",
      "    return func(*args, **kwargs)  # %% callback invoked %%\n",
      "           ^^^^^^^^^^^^^^^^^^^^^\n",
      "  File \"/var/folders/yc/f5g0c28x47g53ndmf5dwnb1c0000gn/T/ipykernel_46615/235980911.py\", line 63, in update_chart\n",
      "    df = get_mock_data(crypto, int(days))\n",
      "         ^^^^^^^^^^^^^\n",
      "NameError: name 'get_mock_data' is not defined\n",
      "[2025-10-14 16:33:09,799] ERROR in app: Exception on /_dash-update-component [POST]\n",
      "Traceback (most recent call last):\n",
      "  File \"/Users/davide/miniconda3/envs/prefect_env/lib/python3.11/site-packages/dash/dash.py\", line 1388, in _prepare_callback\n",
      "    cb = self.callback_map[output]\n",
      "         ~~~~~~~~~~~~~~~~~^^^^^^^^\n",
      "KeyError: '..crypto-data-store.data...query-status.children..'\n",
      "\n",
      "The above exception was the direct cause of the following exception:\n",
      "\n",
      "Traceback (most recent call last):\n",
      "  File \"/Users/davide/miniconda3/envs/prefect_env/lib/python3.11/site-packages/flask/app.py\", line 1511, in wsgi_app\n",
      "    response = self.full_dispatch_request()\n",
      "               ^^^^^^^^^^^^^^^^^^^^^^^^^^^^\n",
      "  File \"/Users/davide/miniconda3/envs/prefect_env/lib/python3.11/site-packages/flask/app.py\", line 919, in full_dispatch_request\n",
      "    rv = self.handle_user_exception(e)\n",
      "         ^^^^^^^^^^^^^^^^^^^^^^^^^^^^^\n",
      "  File \"/Users/davide/miniconda3/envs/prefect_env/lib/python3.11/site-packages/flask/app.py\", line 917, in full_dispatch_request\n",
      "    rv = self.dispatch_request()\n",
      "         ^^^^^^^^^^^^^^^^^^^^^^^\n",
      "  File \"/Users/davide/miniconda3/envs/prefect_env/lib/python3.11/site-packages/flask/app.py\", line 902, in dispatch_request\n",
      "    return self.ensure_sync(self.view_functions[rule.endpoint])(**view_args)  # type: ignore[no-any-return]\n",
      "           ^^^^^^^^^^^^^^^^^^^^^^^^^^^^^^^^^^^^^^^^^^^^^^^^^^^^^^^^^^^^^^^^^\n",
      "  File \"/Users/davide/miniconda3/envs/prefect_env/lib/python3.11/site-packages/dash/dash.py\", line 1489, in dispatch\n",
      "    func = self._prepare_callback(g, body)\n",
      "           ^^^^^^^^^^^^^^^^^^^^^^^^^^^^^^^\n",
      "  File \"/Users/davide/miniconda3/envs/prefect_env/lib/python3.11/site-packages/dash/dash.py\", line 1422, in _prepare_callback\n",
      "    raise KeyError(f\"Callback function not found for output '{output}'.\") from e\n",
      "KeyError: \"Callback function not found for output '..crypto-data-store.data...query-status.children..'.\"\n",
      "[2025-10-14 16:33:10,387] ERROR in app: Exception on /_dash-update-component [POST]\n",
      "Traceback (most recent call last):\n",
      "  File \"/Users/davide/miniconda3/envs/prefect_env/lib/python3.11/site-packages/dash/dash.py\", line 1388, in _prepare_callback\n",
      "    cb = self.callback_map[output]\n",
      "         ~~~~~~~~~~~~~~~~~^^^^^^^^\n",
      "KeyError: '..crypto-data-store.data...query-status.children..'\n",
      "\n",
      "The above exception was the direct cause of the following exception:\n",
      "\n",
      "Traceback (most recent call last):\n",
      "  File \"/Users/davide/miniconda3/envs/prefect_env/lib/python3.11/site-packages/flask/app.py\", line 1511, in wsgi_app\n",
      "    response = self.full_dispatch_request()\n",
      "               ^^^^^^^^^^^^^^^^^^^^^^^^^^^^\n",
      "  File \"/Users/davide/miniconda3/envs/prefect_env/lib/python3.11/site-packages/flask/app.py\", line 919, in full_dispatch_request\n",
      "    rv = self.handle_user_exception(e)\n",
      "         ^^^^^^^^^^^^^^^^^^^^^^^^^^^^^\n",
      "  File \"/Users/davide/miniconda3/envs/prefect_env/lib/python3.11/site-packages/flask/app.py\", line 917, in full_dispatch_request\n",
      "    rv = self.dispatch_request()\n",
      "         ^^^^^^^^^^^^^^^^^^^^^^^\n",
      "  File \"/Users/davide/miniconda3/envs/prefect_env/lib/python3.11/site-packages/flask/app.py\", line 902, in dispatch_request\n",
      "    return self.ensure_sync(self.view_functions[rule.endpoint])(**view_args)  # type: ignore[no-any-return]\n",
      "           ^^^^^^^^^^^^^^^^^^^^^^^^^^^^^^^^^^^^^^^^^^^^^^^^^^^^^^^^^^^^^^^^^\n",
      "  File \"/Users/davide/miniconda3/envs/prefect_env/lib/python3.11/site-packages/dash/dash.py\", line 1489, in dispatch\n",
      "    func = self._prepare_callback(g, body)\n",
      "           ^^^^^^^^^^^^^^^^^^^^^^^^^^^^^^^\n",
      "  File \"/Users/davide/miniconda3/envs/prefect_env/lib/python3.11/site-packages/dash/dash.py\", line 1422, in _prepare_callback\n",
      "    raise KeyError(f\"Callback function not found for output '{output}'.\") from e\n",
      "KeyError: \"Callback function not found for output '..crypto-data-store.data...query-status.children..'.\"\n",
      "[2025-10-14 16:33:12,898] ERROR in app: Exception on /_dash-update-component [POST]\n",
      "Traceback (most recent call last):\n",
      "  File \"/Users/davide/miniconda3/envs/prefect_env/lib/python3.11/site-packages/dash/dash.py\", line 1388, in _prepare_callback\n",
      "    cb = self.callback_map[output]\n",
      "         ~~~~~~~~~~~~~~~~~^^^^^^^^\n",
      "KeyError: '..crypto-data-store.data...query-status.children..'\n",
      "\n",
      "The above exception was the direct cause of the following exception:\n",
      "\n",
      "Traceback (most recent call last):\n",
      "  File \"/Users/davide/miniconda3/envs/prefect_env/lib/python3.11/site-packages/flask/app.py\", line 1511, in wsgi_app\n",
      "    response = self.full_dispatch_request()\n",
      "               ^^^^^^^^^^^^^^^^^^^^^^^^^^^^\n",
      "  File \"/Users/davide/miniconda3/envs/prefect_env/lib/python3.11/site-packages/flask/app.py\", line 919, in full_dispatch_request\n",
      "    rv = self.handle_user_exception(e)\n",
      "         ^^^^^^^^^^^^^^^^^^^^^^^^^^^^^\n",
      "  File \"/Users/davide/miniconda3/envs/prefect_env/lib/python3.11/site-packages/flask/app.py\", line 917, in full_dispatch_request\n",
      "    rv = self.dispatch_request()\n",
      "         ^^^^^^^^^^^^^^^^^^^^^^^\n",
      "  File \"/Users/davide/miniconda3/envs/prefect_env/lib/python3.11/site-packages/flask/app.py\", line 902, in dispatch_request\n",
      "    return self.ensure_sync(self.view_functions[rule.endpoint])(**view_args)  # type: ignore[no-any-return]\n",
      "           ^^^^^^^^^^^^^^^^^^^^^^^^^^^^^^^^^^^^^^^^^^^^^^^^^^^^^^^^^^^^^^^^^\n",
      "  File \"/Users/davide/miniconda3/envs/prefect_env/lib/python3.11/site-packages/dash/dash.py\", line 1489, in dispatch\n",
      "    func = self._prepare_callback(g, body)\n",
      "           ^^^^^^^^^^^^^^^^^^^^^^^^^^^^^^^\n",
      "  File \"/Users/davide/miniconda3/envs/prefect_env/lib/python3.11/site-packages/dash/dash.py\", line 1422, in _prepare_callback\n",
      "    raise KeyError(f\"Callback function not found for output '{output}'.\") from e\n",
      "KeyError: \"Callback function not found for output '..crypto-data-store.data...query-status.children..'.\"\n",
      "[2025-10-14 16:33:13,146] ERROR in app: Exception on /_dash-update-component [POST]\n",
      "Traceback (most recent call last):\n",
      "  File \"/Users/davide/miniconda3/envs/prefect_env/lib/python3.11/site-packages/dash/dash.py\", line 1388, in _prepare_callback\n",
      "    cb = self.callback_map[output]\n",
      "         ~~~~~~~~~~~~~~~~~^^^^^^^^\n",
      "KeyError: '..crypto-data-store.data...query-status.children..'\n",
      "\n",
      "The above exception was the direct cause of the following exception:\n",
      "\n",
      "Traceback (most recent call last):\n",
      "  File \"/Users/davide/miniconda3/envs/prefect_env/lib/python3.11/site-packages/flask/app.py\", line 1511, in wsgi_app\n",
      "    response = self.full_dispatch_request()\n",
      "               ^^^^^^^^^^^^^^^^^^^^^^^^^^^^\n",
      "  File \"/Users/davide/miniconda3/envs/prefect_env/lib/python3.11/site-packages/flask/app.py\", line 919, in full_dispatch_request\n",
      "    rv = self.handle_user_exception(e)\n",
      "         ^^^^^^^^^^^^^^^^^^^^^^^^^^^^^\n",
      "  File \"/Users/davide/miniconda3/envs/prefect_env/lib/python3.11/site-packages/flask/app.py\", line 917, in full_dispatch_request\n",
      "    rv = self.dispatch_request()\n",
      "         ^^^^^^^^^^^^^^^^^^^^^^^\n",
      "  File \"/Users/davide/miniconda3/envs/prefect_env/lib/python3.11/site-packages/flask/app.py\", line 902, in dispatch_request\n",
      "    return self.ensure_sync(self.view_functions[rule.endpoint])(**view_args)  # type: ignore[no-any-return]\n",
      "           ^^^^^^^^^^^^^^^^^^^^^^^^^^^^^^^^^^^^^^^^^^^^^^^^^^^^^^^^^^^^^^^^^\n",
      "  File \"/Users/davide/miniconda3/envs/prefect_env/lib/python3.11/site-packages/dash/dash.py\", line 1489, in dispatch\n",
      "    func = self._prepare_callback(g, body)\n",
      "           ^^^^^^^^^^^^^^^^^^^^^^^^^^^^^^^\n",
      "  File \"/Users/davide/miniconda3/envs/prefect_env/lib/python3.11/site-packages/dash/dash.py\", line 1422, in _prepare_callback\n",
      "    raise KeyError(f\"Callback function not found for output '{output}'.\") from e\n",
      "KeyError: \"Callback function not found for output '..crypto-data-store.data...query-status.children..'.\"\n",
      "[2025-10-14 16:33:23,822] ERROR in app: Exception on /_dash-update-component [POST]\n",
      "Traceback (most recent call last):\n",
      "  File \"/Users/davide/miniconda3/envs/prefect_env/lib/python3.11/site-packages/flask/app.py\", line 1511, in wsgi_app\n",
      "    response = self.full_dispatch_request()\n",
      "               ^^^^^^^^^^^^^^^^^^^^^^^^^^^^\n",
      "  File \"/Users/davide/miniconda3/envs/prefect_env/lib/python3.11/site-packages/flask/app.py\", line 919, in full_dispatch_request\n",
      "    rv = self.handle_user_exception(e)\n",
      "         ^^^^^^^^^^^^^^^^^^^^^^^^^^^^^\n",
      "  File \"/Users/davide/miniconda3/envs/prefect_env/lib/python3.11/site-packages/flask/app.py\", line 917, in full_dispatch_request\n",
      "    rv = self.dispatch_request()\n",
      "         ^^^^^^^^^^^^^^^^^^^^^^^\n",
      "  File \"/Users/davide/miniconda3/envs/prefect_env/lib/python3.11/site-packages/flask/app.py\", line 902, in dispatch_request\n",
      "    return self.ensure_sync(self.view_functions[rule.endpoint])(**view_args)  # type: ignore[no-any-return]\n",
      "           ^^^^^^^^^^^^^^^^^^^^^^^^^^^^^^^^^^^^^^^^^^^^^^^^^^^^^^^^^^^^^^^^^\n",
      "  File \"/Users/davide/miniconda3/envs/prefect_env/lib/python3.11/site-packages/dash/dash.py\", line 1494, in dispatch\n",
      "    response_data = ctx.run(partial_func)\n",
      "                    ^^^^^^^^^^^^^^^^^^^^^\n",
      "  File \"/Users/davide/miniconda3/envs/prefect_env/lib/python3.11/site-packages/dash/_callback.py\", line 688, in add_context\n",
      "    raise err\n",
      "  File \"/Users/davide/miniconda3/envs/prefect_env/lib/python3.11/site-packages/dash/_callback.py\", line 679, in add_context\n",
      "    output_value = _invoke_callback(func, *func_args, **func_kwargs)  # type: ignore[reportArgumentType]\n",
      "                   ^^^^^^^^^^^^^^^^^^^^^^^^^^^^^^^^^^^^^^^^^^^^^^^^^\n",
      "  File \"/Users/davide/miniconda3/envs/prefect_env/lib/python3.11/site-packages/dash/_callback.py\", line 59, in _invoke_callback\n",
      "    return func(*args, **kwargs)  # %% callback invoked %%\n",
      "           ^^^^^^^^^^^^^^^^^^^^^\n",
      "  File \"/var/folders/yc/f5g0c28x47g53ndmf5dwnb1c0000gn/T/ipykernel_46615/235980911.py\", line 63, in update_chart\n",
      "    df = get_mock_data(crypto, int(days))\n",
      "         ^^^^^^^^^^^^^\n",
      "NameError: name 'get_mock_data' is not defined\n",
      "[2025-10-14 16:33:24,260] ERROR in app: Exception on /_dash-update-component [POST]\n",
      "Traceback (most recent call last):\n",
      "  File \"/Users/davide/miniconda3/envs/prefect_env/lib/python3.11/site-packages/flask/app.py\", line 1511, in wsgi_app\n",
      "    response = self.full_dispatch_request()\n",
      "               ^^^^^^^^^^^^^^^^^^^^^^^^^^^^\n",
      "  File \"/Users/davide/miniconda3/envs/prefect_env/lib/python3.11/site-packages/flask/app.py\", line 919, in full_dispatch_request\n",
      "    rv = self.handle_user_exception(e)\n",
      "         ^^^^^^^^^^^^^^^^^^^^^^^^^^^^^\n",
      "  File \"/Users/davide/miniconda3/envs/prefect_env/lib/python3.11/site-packages/flask/app.py\", line 917, in full_dispatch_request\n",
      "    rv = self.dispatch_request()\n",
      "         ^^^^^^^^^^^^^^^^^^^^^^^\n",
      "  File \"/Users/davide/miniconda3/envs/prefect_env/lib/python3.11/site-packages/flask/app.py\", line 902, in dispatch_request\n",
      "    return self.ensure_sync(self.view_functions[rule.endpoint])(**view_args)  # type: ignore[no-any-return]\n",
      "           ^^^^^^^^^^^^^^^^^^^^^^^^^^^^^^^^^^^^^^^^^^^^^^^^^^^^^^^^^^^^^^^^^\n",
      "  File \"/Users/davide/miniconda3/envs/prefect_env/lib/python3.11/site-packages/dash/dash.py\", line 1494, in dispatch\n",
      "    response_data = ctx.run(partial_func)\n",
      "                    ^^^^^^^^^^^^^^^^^^^^^\n",
      "  File \"/Users/davide/miniconda3/envs/prefect_env/lib/python3.11/site-packages/dash/_callback.py\", line 688, in add_context\n",
      "    raise err\n",
      "  File \"/Users/davide/miniconda3/envs/prefect_env/lib/python3.11/site-packages/dash/_callback.py\", line 679, in add_context\n",
      "    output_value = _invoke_callback(func, *func_args, **func_kwargs)  # type: ignore[reportArgumentType]\n",
      "                   ^^^^^^^^^^^^^^^^^^^^^^^^^^^^^^^^^^^^^^^^^^^^^^^^^\n",
      "  File \"/Users/davide/miniconda3/envs/prefect_env/lib/python3.11/site-packages/dash/_callback.py\", line 59, in _invoke_callback\n",
      "    return func(*args, **kwargs)  # %% callback invoked %%\n",
      "           ^^^^^^^^^^^^^^^^^^^^^\n",
      "  File \"/var/folders/yc/f5g0c28x47g53ndmf5dwnb1c0000gn/T/ipykernel_46615/235980911.py\", line 63, in update_chart\n",
      "    df = get_mock_data(crypto, int(days))\n",
      "         ^^^^^^^^^^^^^\n",
      "NameError: name 'get_mock_data' is not defined\n",
      "[2025-10-14 16:33:24,643] ERROR in app: Exception on /_dash-update-component [POST]\n",
      "Traceback (most recent call last):\n",
      "  File \"/Users/davide/miniconda3/envs/prefect_env/lib/python3.11/site-packages/flask/app.py\", line 1511, in wsgi_app\n",
      "    response = self.full_dispatch_request()\n",
      "               ^^^^^^^^^^^^^^^^^^^^^^^^^^^^\n",
      "  File \"/Users/davide/miniconda3/envs/prefect_env/lib/python3.11/site-packages/flask/app.py\", line 919, in full_dispatch_request\n",
      "    rv = self.handle_user_exception(e)\n",
      "         ^^^^^^^^^^^^^^^^^^^^^^^^^^^^^\n",
      "  File \"/Users/davide/miniconda3/envs/prefect_env/lib/python3.11/site-packages/flask/app.py\", line 917, in full_dispatch_request\n",
      "    rv = self.dispatch_request()\n",
      "         ^^^^^^^^^^^^^^^^^^^^^^^\n",
      "  File \"/Users/davide/miniconda3/envs/prefect_env/lib/python3.11/site-packages/flask/app.py\", line 902, in dispatch_request\n",
      "    return self.ensure_sync(self.view_functions[rule.endpoint])(**view_args)  # type: ignore[no-any-return]\n",
      "           ^^^^^^^^^^^^^^^^^^^^^^^^^^^^^^^^^^^^^^^^^^^^^^^^^^^^^^^^^^^^^^^^^\n",
      "  File \"/Users/davide/miniconda3/envs/prefect_env/lib/python3.11/site-packages/dash/dash.py\", line 1494, in dispatch\n",
      "    response_data = ctx.run(partial_func)\n",
      "                    ^^^^^^^^^^^^^^^^^^^^^\n",
      "  File \"/Users/davide/miniconda3/envs/prefect_env/lib/python3.11/site-packages/dash/_callback.py\", line 688, in add_context\n",
      "    raise err\n",
      "  File \"/Users/davide/miniconda3/envs/prefect_env/lib/python3.11/site-packages/dash/_callback.py\", line 679, in add_context\n",
      "    output_value = _invoke_callback(func, *func_args, **func_kwargs)  # type: ignore[reportArgumentType]\n",
      "                   ^^^^^^^^^^^^^^^^^^^^^^^^^^^^^^^^^^^^^^^^^^^^^^^^^\n",
      "  File \"/Users/davide/miniconda3/envs/prefect_env/lib/python3.11/site-packages/dash/_callback.py\", line 59, in _invoke_callback\n",
      "    return func(*args, **kwargs)  # %% callback invoked %%\n",
      "           ^^^^^^^^^^^^^^^^^^^^^\n",
      "  File \"/var/folders/yc/f5g0c28x47g53ndmf5dwnb1c0000gn/T/ipykernel_46615/235980911.py\", line 63, in update_chart\n",
      "    df = get_mock_data(crypto, int(days))\n",
      "         ^^^^^^^^^^^^^\n",
      "NameError: name 'get_mock_data' is not defined\n"
     ]
    }
   ],
   "source": [
    "\n",
    "app = Dash(__name__)\n",
    "\n",
    "\n",
    "\n",
    "CRYPTO_COLORS = {\n",
    "    'bitcoin': '#F7931A',        # Orange\n",
    "    'ethereum': '#627EEA',       # Blue/Purple\n",
    "    'tether': \"#6F9C8D\",         # Green\n",
    "    'binancecoin': '#F3BA2F',    # Yellow/Gold\n",
    "    'solana': '#14F195',         # Bright Green/Cyan\n",
    "    'ripple': \"#C51CDF\",         # Dark Gray/Black\n",
    "    'cardano': '#0033AD',        # Blue\n",
    "    'dogecoin': '#C2A633',       # Gold/Yellow\n",
    "    'tron': '#FF060A',           # Red\n",
    "    'usd-coin': '#2775CA',       # Blue\n",
    "}\n",
    "\n",
    "app.layout = html.Div([\n",
    "    html.H1('Crypto Dashboard', style={'color': '#FFF', 'textAlign': 'center'}),\n",
    "    \n",
    "    dcc.RadioItems(\n",
    "        id='crypto-selector',\n",
    "        options=get_Options(df),\n",
    "        value=['BIT'],\n",
    "        inline=False,\n",
    "        style={'color': '#FFF', 'padding': '20px'}\n",
    "    ),\n",
    "    \n",
    "    dcc.Input(\n",
    "        id='start_time',\n",
    "        value='2025-10-13T16:00:00', \n",
    "        type='text'\n",
    "    ),\n",
    "\n",
    "    dcc.Input(\n",
    "        id='end_time',\n",
    "        value='2025-10-14T16:00:00', \n",
    "        type='text'\n",
    "    ),\n",
    "\n",
    "    # dcc.RadioItems(\n",
    "    #     id='timeframe',\n",
    "    #     options=[\n",
    "    #         {'label': ' 7d', 'value': '7'},\n",
    "    #         {'label': ' 30d', 'value': '30'}\n",
    "    #     ],\n",
    "    #     value='7',\n",
    "    #     inline=True,\n",
    "    #     style={'color': '#FFF', 'padding': '20px'}\n",
    "    # ),\n",
    "    \n",
    "    dcc.Graph(id='chart')\n",
    "], style={'backgroundColor': '#121212', 'minHeight': '100vh'})\n",
    "\n",
    "@app.callback(\n",
    "    Output('chart', 'figure'),\n",
    "    [Input('crypto-selector', 'value'),\n",
    "     Input('timeframe', 'value')]\n",
    ")\n",
    "def update_chart(cryptos, days):\n",
    "    traces = []\n",
    "    for crypto in cryptos:\n",
    "        df = get_mock_data(crypto, int(days))\n",
    "        traces.append(go.Scatter(\n",
    "            x=df['date'],\n",
    "            y=df['price'],\n",
    "            mode='lines+markers',\n",
    "            name=crypto,\n",
    "            line=dict(color=CRYPTO_COLORS[crypto], width=3)\n",
    "        ))\n",
    "    \n",
    "    return {\n",
    "        'data': traces,\n",
    "        'layout': go.Layout(\n",
    "            template='plotly_dark',\n",
    "            paper_bgcolor='#1E1E1E',\n",
    "            plot_bgcolor='#2D2D2D'\n",
    "        )\n",
    "    }\n",
    "\n",
    "# Run in a thread for notebooks\n",
    "import threading\n",
    "\n",
    "def run_dash():\n",
    "    app.run(debug=False, port=8050, use_reloader=False)\n",
    "\n",
    "thread = threading.Thread(target=run_dash, daemon=True)\n",
    "thread.start()\n",
    "\n",
    "print(\"Dashboard running at: http://127.0.0.1:8050\")"
   ]
  },
  {
   "cell_type": "code",
   "execution_count": 48,
   "id": "c18e295e",
   "metadata": {},
   "outputs": [
    {
     "ename": "AttributeError",
     "evalue": "'super' object has no attribute 'run_server'",
     "output_type": "error",
     "traceback": [
      "\u001b[31m---------------------------------------------------------------------------\u001b[39m",
      "\u001b[31mAttributeError\u001b[39m                            Traceback (most recent call last)",
      "\u001b[36mCell\u001b[39m\u001b[36m \u001b[39m\u001b[32mIn[48]\u001b[39m\u001b[32m, line 81\u001b[39m\n\u001b[32m     12\u001b[39m \u001b[38;5;66;03m# App layout\u001b[39;00m\n\u001b[32m     13\u001b[39m app.layout = html.Div([\n\u001b[32m     14\u001b[39m     html.Div([\n\u001b[32m     15\u001b[39m         html.H1(\u001b[33m'\u001b[39m\u001b[33mInteractive Crypto Dashboard\u001b[39m\u001b[33m'\u001b[39m, \n\u001b[32m   (...)\u001b[39m\u001b[32m     78\u001b[39m     ])\n\u001b[32m     79\u001b[39m ])\n\u001b[32m---> \u001b[39m\u001b[32m81\u001b[39m \u001b[43mapp\u001b[49m\u001b[43m.\u001b[49m\u001b[43mrun_server\u001b[49m\u001b[43m(\u001b[49m\u001b[43mmode\u001b[49m\u001b[43m=\u001b[49m\u001b[33;43m'\u001b[39;49m\u001b[33;43mexternal\u001b[39;49m\u001b[33;43m'\u001b[39;49m\u001b[43m,\u001b[49m\u001b[43m \u001b[49m\u001b[43mport\u001b[49m\u001b[43m=\u001b[49m\u001b[32;43m8050\u001b[39;49m\u001b[43m)\u001b[49m\n",
      "\u001b[36mFile \u001b[39m\u001b[32m~/miniconda3/envs/prefect_env/lib/python3.11/site-packages/jupyter_dash/jupyter_app.py:176\u001b[39m, in \u001b[36mJupyterDash.run_server\u001b[39m\u001b[34m(self, mode, width, height, inline_exceptions, **kwargs)\u001b[39m\n\u001b[32m    154\u001b[39m \u001b[38;5;250m\u001b[39m\u001b[33;03m\"\"\"\u001b[39;00m\n\u001b[32m    155\u001b[39m \u001b[33;03mServe the app using flask in a background thread. You should not run this on a\u001b[39;00m\n\u001b[32m    156\u001b[39m \u001b[33;03mproduction server, use gunicorn/waitress instead.\u001b[39;00m\n\u001b[32m   (...)\u001b[39m\u001b[32m    173\u001b[39m \u001b[33;03m    ``Dash.run_server`` method.\u001b[39;00m\n\u001b[32m    174\u001b[39m \u001b[33;03m\"\"\"\u001b[39;00m\n\u001b[32m    175\u001b[39m \u001b[38;5;66;03m# Get superclass run_server method\u001b[39;00m\n\u001b[32m--> \u001b[39m\u001b[32m176\u001b[39m super_run_server = \u001b[38;5;28;43msuper\u001b[39;49m\u001b[43m(\u001b[49m\u001b[43mJupyterDash\u001b[49m\u001b[43m,\u001b[49m\u001b[43m \u001b[49m\u001b[38;5;28;43mself\u001b[39;49m\u001b[43m)\u001b[49m\u001b[43m.\u001b[49m\u001b[43mrun_server\u001b[49m\n\u001b[32m    178\u001b[39m \u001b[38;5;28;01mif\u001b[39;00m \u001b[38;5;129;01mnot\u001b[39;00m JupyterDash._in_ipython:\n\u001b[32m    179\u001b[39m     \u001b[38;5;66;03m# If not in IPython context, call run run_server synchronously\u001b[39;00m\n\u001b[32m    180\u001b[39m     super_run_server(**kwargs)\n",
      "\u001b[31mAttributeError\u001b[39m: 'super' object has no attribute 'run_server'"
     ]
    }
   ],
   "source": [
    "\n",
    "\n",
    "app = JupyterDash(__name__)\n",
    "\n",
    "# Define color palette for different cryptos\n",
    "CRYPTO_COLORS = {\n",
    "    'BTC': '#F7931A',\n",
    "    'ETH': '#627EEA',\n",
    "    'SOL': '#00FFA3',\n",
    "    'ADA': '#0033AD',\n",
    "    'DOT': '#E6007A'\n",
    "}\n",
    "\n",
    "# App layout\n",
    "app.layout = html.Div([\n",
    "    html.Div([\n",
    "        html.H1('Interactive Crypto Dashboard', \n",
    "                style={'color': '#FFFFFF', 'marginBottom': '10px'}),\n",
    "        html.P('Select cryptocurrencies and timeframe to compare price trends',\n",
    "               style={'color': '#B0B0B0', 'fontSize': '16px'})\n",
    "    ], style={'textAlign': 'center', 'padding': '20px', 'backgroundColor': '#1E1E1E'}),\n",
    "    \n",
    "    html.Div([\n",
    "        # Controls Row\n",
    "        html.Div([\n",
    "            # Crypto Selection\n",
    "            html.Div([\n",
    "                html.Label('Select Cryptocurrencies to Overlay:', \n",
    "                          style={'color': '#FFFFFF', 'fontWeight': 'bold', 'marginBottom': '10px'}),\n",
    "                dcc.Checklist(\n",
    "                    id='crypto-selector',\n",
    "                    options=[\n",
    "                        {'label': ' Bitcoin (BTC)', 'value': 'BTC'},\n",
    "                        {'label': ' Ethereum (ETH)', 'value': 'ETH'},\n",
    "                        {'label': ' Solana (SOL)', 'value': 'SOL'},\n",
    "                        {'label': ' Cardano (ADA)', 'value': 'ADA'},\n",
    "                        {'label': ' Polkadot (DOT)', 'value': 'DOT'}\n",
    "                    ],\n",
    "                    value=['BTC', 'ETH'],  # Default selections\n",
    "                    inline=True,\n",
    "                    style={'color': '#FFFFFF'},\n",
    "                    labelStyle={'marginRight': '20px', 'marginBottom': '10px'}\n",
    "                )\n",
    "            ], style={'marginBottom': '20px'}),\n",
    "            \n",
    "            # Timeframe Selection\n",
    "            html.Div([\n",
    "                html.Div([\n",
    "                    html.Label('Quick Timeframe:', \n",
    "                              style={'color': '#FFFFFF', 'fontWeight': 'bold', 'marginBottom': '10px'}),\n",
    "                    dcc.RadioItems(\n",
    "                        id='timeframe-selector',\n",
    "                        options=[\n",
    "                            {'label': ' 7 Days', 'value': '7'},\n",
    "                            {'label': ' 30 Days', 'value': '30'},\n",
    "                            {'label': ' 90 Days', 'value': '90'},\n",
    "                            {'label': ' Custom', 'value': 'custom'}\n",
    "                        ],\n",
    "                        value='7',\n",
    "                        inline=True,\n",
    "                        style={'color': '#FFFFFF'},\n",
    "                        labelStyle={'marginRight': '20px'}\n",
    "                    )\n",
    "                ], style={'width': '100%', 'marginBottom': '15px'}),\n",
    "                \n",
    "                # Custom Date Range (hidden by default)\n",
    "                html.Div([\n",
    "                    html.Label('Custom Date Range:', \n",
    "                              style={'color': '#FFFFFF', 'fontWeight': 'bold', 'marginBottom': '10px'}),\n",
    "                    dcc.DatePickerRange(\n",
    "                        id='date-picker',\n",
    "                        start_date=(datetime.now() - timedelta(days=30)).date(),\n",
    "                        end_date=datetime.now().date(),\n",
    "                        display_format='YYYY-MM-DD',\n",
    "                        style={'marginTop': '10px'}\n",
    "                    )\n",
    "                ], id='date-picker-container', style={'display': 'none'})\n",
    "            ])\n",
    "        ], style={'backgroundColor': '#2D2D2D', 'padding': '20px', 'borderRadius': '10px', 'marginBottom': '20px'}),\n",
    "    ])\n",
    "])\n",
    "\n",
    "app.run_server(mode='external', port=8050)"
   ]
  },
  {
   "cell_type": "code",
   "execution_count": null,
   "id": "92ef5de4",
   "metadata": {},
   "outputs": [
    {
     "data": {
      "application/vnd.microsoft.datawrangler.viewer.v0+json": {
       "columns": [
        {
         "name": "index",
         "rawType": "int64",
         "type": "integer"
        },
        {
         "name": "tether",
         "rawType": "object",
         "type": "unknown"
        },
        {
         "name": "ethereum",
         "rawType": "object",
         "type": "unknown"
        },
        {
         "name": "binancecoin",
         "rawType": "object",
         "type": "unknown"
        },
        {
         "name": "cardano",
         "rawType": "object",
         "type": "unknown"
        },
        {
         "name": "dogecoin",
         "rawType": "object",
         "type": "unknown"
        },
        {
         "name": "solana",
         "rawType": "object",
         "type": "unknown"
        },
        {
         "name": "tron",
         "rawType": "object",
         "type": "unknown"
        },
        {
         "name": "ripple",
         "rawType": "object",
         "type": "unknown"
        },
        {
         "name": "usd-coin",
         "rawType": "object",
         "type": "unknown"
        },
        {
         "name": "bitcoin",
         "rawType": "object",
         "type": "unknown"
        },
        {
         "name": "timestamp",
         "rawType": "object",
         "type": "string"
        }
       ],
       "ref": "7978e49f-0d76-4aed-9cd2-4c2eabc9b8fe",
       "rows": [
        [
         "0",
         "0.864732",
         "3593.78",
         "1109.34",
         "0.620478",
         "0.182245",
         "170.24",
         "0.277479",
         "2.24",
         "0.863804",
         "99400",
         "2025-10-13T16:11:14.869496+00:00"
        ],
        [
         "1",
         "0.864693",
         "3595.99",
         "1108.51",
         "0.616431",
         "0.181916",
         "171.11",
         "0.277444",
         "2.24",
         "0.863591",
         "99110",
         "2025-10-13T16:27:35.479438+00:00"
        ],
        [
         "2",
         "0.865189",
         "3588.58",
         "1106.27",
         "0.617337",
         "0.181516",
         "172.21",
         "0.277501",
         "2.23",
         "0.864147",
         "98994",
         "2025-10-13T16:41:57.621896+00:00"
        ],
        [
         "3",
         "0.864757",
         "3596.14",
         "1105.54",
         "0.615812",
         "0.18149",
         "171.58",
         "0.277292",
         "2.23",
         "0.863806",
         "99031",
         "2025-10-13T16:52:47.604888+00:00"
        ],
        [
         "4",
         "0.864816",
         "3602.74",
         "1107.84",
         "0.61914",
         "0.182571",
         "173.19",
         "0.277334",
         "2.24",
         "0.863815",
         "99128",
         "2025-10-13T17:03:09.475261+00:00"
        ],
        [
         "5",
         "0.864824",
         "3599.65",
         "1105.36",
         "0.620353",
         "0.182879",
         "174.16",
         "0.277857",
         "2.25",
         "0.863774",
         "99083",
         "2025-10-13T17:16:36.588341+00:00"
        ],
        [
         "6",
         "0.864872",
         "3604.43",
         "1101.69",
         "0.620612",
         "0.182837",
         "174.11",
         "0.27792",
         "2.25",
         "0.863829",
         "99021",
         "2025-10-13T17:29:06.899306+00:00"
        ],
        [
         "7",
         "0.864749",
         "3615.01",
         "1102.96",
         "0.620189",
         "0.183373",
         "174.44",
         "0.277992",
         "2.25",
         "0.863778",
         "99088",
         "2025-10-13T17:39:51.669491+00:00"
        ],
        [
         "8",
         "0.865108",
         "3612.44",
         "1100.25",
         "0.619669",
         "0.182694",
         "173.79",
         "0.278156",
         "2.24",
         "0.864051",
         "98911",
         "2025-10-13T17:49:25.960711+00:00"
        ],
        [
         "9",
         "0.864877",
         "3626.14",
         "1104.94",
         "0.619045",
         "0.182707",
         "174.29",
         "0.278191",
         "2.24",
         "0.86387",
         "98895",
         "2025-10-13T17:58:29.675667+00:00"
        ],
        [
         "10",
         "0.8647",
         "3637.9",
         "1102.49",
         "0.624675",
         "0.184049",
         "176.85",
         "0.279285",
         "2.26",
         "0.863647",
         "99247",
         "2025-10-13T18:12:10.509852+00:00"
        ],
        [
         "11",
         "0.864726",
         "3654.32",
         "1104.53",
         "0.625721",
         "0.185448",
         "178.09",
         "0.279287",
         "2.27",
         "0.863651",
         "99649",
         "2025-10-13T18:29:10.595211+00:00"
        ],
        [
         "12",
         "0.865071",
         "3658.24",
         "1100.74",
         "0.624744",
         "0.185559",
         "177.96",
         "0.279565",
         "2.26",
         "0.864051",
         "99562",
         "2025-10-13T18:43:40.889049+00:00"
        ],
        [
         "13",
         "0.865161",
         "3651.14",
         "1092.8",
         "0.624256",
         "0.185268",
         "177.99",
         "0.279281",
         "2.26",
         "0.864162",
         "99536",
         "2025-10-13T18:53:46.984342+00:00"
        ],
        [
         "14",
         "0.865366",
         "3657.86",
         "1095.65",
         "0.623795",
         "0.18506",
         "178.11",
         "0.279116",
         "2.26",
         "0.864313",
         "99580",
         "2025-10-13T19:05:03.868564+00:00"
        ],
        [
         "15",
         "0.865157",
         "3679.37",
         "1099.9",
         "0.62661",
         "0.18607",
         "178.83",
         "0.279454",
         "2.27",
         "0.864134",
         "99774",
         "2025-10-13T19:18:04.890950+00:00"
        ],
        [
         "16",
         "0.86497",
         "3670.56",
         "1097.88",
         "0.625873",
         "0.186333",
         "178.97",
         "0.279544",
         "2.27",
         "0.863966",
         "99909",
         "2025-10-13T19:27:37.691384+00:00"
        ],
        [
         "17",
         "0.865154",
         "3675.57",
         "1101.83",
         "0.626149",
         "0.186654",
         "179.47",
         "0.27961",
         "2.27",
         "0.864122",
         "99924",
         "2025-10-13T19:37:41.059361+00:00"
        ],
        [
         "18",
         "0.865245",
         "3686.59",
         "1105.14",
         "0.62777",
         "0.187381",
         "179.9",
         "0.279774",
         "2.28",
         "0.86419",
         "100048",
         "2025-10-13T19:46:53.183035+00:00"
        ],
        [
         "19",
         "0.865345",
         "3691.4",
         "1101.2",
         "0.628296",
         "0.187371",
         "180.05",
         "0.279883",
         "2.28",
         "0.864293",
         "100202",
         "2025-10-13T19:56:10.482697+00:00"
        ],
        [
         "20",
         "0.865635",
         "3688.36",
         "1103.41",
         "0.62682",
         "0.187222",
         "179.58",
         "0.279851",
         "2.27",
         "0.864571",
         "100189",
         "2025-10-13T20:10:01.798969+00:00"
        ],
        [
         "21",
         "0.865331",
         "3678.02",
         "1103.9",
         "0.626727",
         "0.18741",
         "179.21",
         "0.2798",
         "2.28",
         "0.864277",
         "100010",
         "2025-10-13T20:25:27.737466+00:00"
        ],
        [
         "22",
         "0.865349",
         "3674.63",
         "1106.56",
         "0.627409",
         "0.187201",
         "179.22",
         "0.279788",
         "2.28",
         "0.864304",
         "99885",
         "2025-10-13T20:37:00.142411+00:00"
        ],
        [
         "23",
         "0.86539",
         "3683.39",
         "1109.65",
         "0.628962",
         "0.187815",
         "179.71",
         "0.279831",
         "2.28",
         "0.864328",
         "99906",
         "2025-10-13T20:46:07.829346+00:00"
        ],
        [
         "24",
         "0.865351",
         "3687.75",
         "1112.17",
         "0.632984",
         "0.18819",
         "179.96",
         "0.279917",
         "2.28",
         "0.864279",
         "100000",
         "2025-10-13T20:55:12.159325+00:00"
        ],
        [
         "25",
         "0.865286",
         "3701.96",
         "1106.54",
         "0.632959",
         "0.188274",
         "180.37",
         "0.280167",
         "2.28",
         "0.864176",
         "100036",
         "2025-10-13T21:06:58.014387+00:00"
        ],
        [
         "26",
         "0.865115",
         "3700.54",
         "1109.39",
         "0.634605",
         "0.188417",
         "180.07",
         "0.280116",
         "2.28",
         "0.86408",
         "100097",
         "2025-10-13T21:20:49.192020+00:00"
        ],
        [
         "27",
         "0.865076",
         "3693.5",
         "1109.6",
         "0.632354",
         "0.187836",
         "179.95",
         "0.280037",
         "2.27",
         "0.864032",
         "100070",
         "2025-10-13T21:29:32.206693+00:00"
        ],
        [
         "28",
         "0.865085",
         "3690.82",
         "1107.32",
         "0.631939",
         "0.187201",
         "179.82",
         "0.279958",
         "2.27",
         "0.864095",
         "100032",
         "2025-10-13T21:38:29.465115+00:00"
        ],
        [
         "29",
         "0.865075",
         "3689.25",
         "1108.99",
         "0.632865",
         "0.186949",
         "179.98",
         "0.279958",
         "2.27",
         "0.864029",
         "100005",
         "2025-10-13T21:48:11.797031+00:00"
        ],
        [
         "30",
         "0.865068",
         "3683.48",
         "1111.3",
         "0.631212",
         "0.186529",
         "179.98",
         "0.279937",
         "2.26",
         "0.86401",
         "100041",
         "2025-10-13T21:57:12.971070+00:00"
        ],
        [
         "31",
         "0.865117",
         "3690.38",
         "1121.17",
         "0.633189",
         "0.186454",
         "180.58",
         "0.280059",
         "2.27",
         "0.864054",
         "100135",
         "2025-10-13T22:09:10.370485+00:00"
        ],
        [
         "32",
         "0.865022",
         "3687.65",
         "1118.56",
         "0.633728",
         "0.186443",
         "180.17",
         "0.279887",
         "2.26",
         "0.863959",
         "100060",
         "2025-10-13T22:23:45.622352+00:00"
        ],
        [
         "33",
         "0.865209",
         "3684.08",
         "1113.27",
         "0.632",
         "0.185934",
         "179.96",
         "0.279595",
         "2.26",
         "0.864203",
         "99923",
         "2025-10-13T22:35:13.407004+00:00"
        ],
        [
         "34",
         "0.865146",
         "3688.07",
         "1115.09",
         "0.634653",
         "0.186348",
         "180.23",
         "0.279547",
         "2.26",
         "0.864114",
         "99936",
         "2025-10-13T22:44:45.293636+00:00"
        ],
        [
         "35",
         "0.865252",
         "3696.22",
         "1116.31",
         "0.633241",
         "0.186205",
         "180.21",
         "0.279662",
         "2.26",
         "0.864202",
         "99954",
         "2025-10-13T22:53:52.443431+00:00"
        ],
        [
         "36",
         "0.865407",
         "3689.99",
         "1117.34",
         "0.632276",
         "0.186135",
         "180.17",
         "0.279639",
         "2.26",
         "0.864453",
         "99889",
         "2025-10-13T23:05:14.810252+00:00"
        ],
        [
         "37",
         "0.865636",
         "3683.7",
         "1120.83",
         "0.633941",
         "0.186011",
         "180.31",
         "0.279705",
         "2.26",
         "0.8646",
         "99854",
         "2025-10-13T23:18:57.771057+00:00"
        ],
        [
         "38",
         "0.86548",
         "3679.42",
         "1123.02",
         "0.633238",
         "0.185826",
         "180.62",
         "0.279601",
         "2.26",
         "0.864529",
         "99864",
         "2025-10-13T23:29:20.014491+00:00"
        ],
        [
         "39",
         "0.86533",
         "3674.74",
         "1118.62",
         "0.632735",
         "0.185558",
         "180.26",
         "0.279458",
         "2.26",
         "0.86429",
         "99788",
         "2025-10-13T23:39:24.258232+00:00"
        ],
        [
         "40",
         "0.865414",
         "3667.26",
         "1117.57",
         "0.630839",
         "0.185099",
         "179.79",
         "0.279388",
         "2.25",
         "0.864371",
         "99546",
         "2025-10-13T23:49:00.666294+00:00"
        ],
        [
         "41",
         "0.865487",
         "3669.95",
         "1117.84",
         "0.629753",
         "0.184961",
         "179.87",
         "0.279157",
         "2.25",
         "0.864493",
         "99635",
         "2025-10-13T23:58:07.345493+00:00"
        ],
        [
         "42",
         "0.866302",
         "3687.94",
         "1137.51",
         "0.633615",
         "0.186289",
         "182.11",
         "0.279548",
         "2.27",
         "0.865273",
         "99878",
         "2025-10-14T00:34:03.257103+00:00"
        ],
        [
         "43",
         "0.865896",
         "3667.03",
         "1125.16",
         "0.628411",
         "0.185306",
         "181.11",
         "0.279255",
         "2.26",
         "0.864876",
         "99511",
         "2025-10-14T01:03:36.807090+00:00"
        ],
        [
         "44",
         "0.865097",
         "3649.85",
         "1115.9",
         "0.626703",
         "0.183796",
         "180.96",
         "0.278836",
         "2.25",
         "0.864105",
         "99049",
         "2025-10-14T01:45:58.949098+00:00"
        ],
        [
         "45",
         "0.865124",
         "3622.78",
         "1112.02",
         "0.620223",
         "0.181929",
         "179.01",
         "0.278565",
         "2.23",
         "0.864094",
         "98569",
         "2025-10-14T02:21:20.167367+00:00"
        ],
        [
         "46",
         "0.865073",
         "3610.2",
         "1113.97",
         "0.618737",
         "0.1812",
         "178.95",
         "0.278311",
         "2.22",
         "0.864062",
         "98404",
         "2025-10-14T02:50:09.606824+00:00"
        ],
        [
         "47",
         "0.86498",
         "3590.79",
         "1105.31",
         "0.615823",
         "0.179438",
         "178.22",
         "0.277457",
         "2.22",
         "0.864041",
         "98133",
         "2025-10-14T03:13:08.340879+00:00"
        ],
        [
         "48",
         "0.86475",
         "3581.04",
         "1100.78",
         "0.616126",
         "0.17907",
         "177.72",
         "0.277101",
         "2.21",
         "0.863778",
         "98020",
         "2025-10-14T03:31:47.370732+00:00"
        ],
        [
         "49",
         "0.864451",
         "3590.18",
         "1104.89",
         "0.615764",
         "0.179499",
         "177.97",
         "0.2771",
         "2.21",
         "0.863491",
         "98094",
         "2025-10-14T03:45:50.784224+00:00"
        ]
       ],
       "shape": {
        "columns": 11,
        "rows": 90
       }
      },
      "text/html": [
       "<div>\n",
       "<style scoped>\n",
       "    .dataframe tbody tr th:only-of-type {\n",
       "        vertical-align: middle;\n",
       "    }\n",
       "\n",
       "    .dataframe tbody tr th {\n",
       "        vertical-align: top;\n",
       "    }\n",
       "\n",
       "    .dataframe thead th {\n",
       "        text-align: right;\n",
       "    }\n",
       "</style>\n",
       "<table border=\"1\" class=\"dataframe\">\n",
       "  <thead>\n",
       "    <tr style=\"text-align: right;\">\n",
       "      <th></th>\n",
       "      <th>tether</th>\n",
       "      <th>ethereum</th>\n",
       "      <th>binancecoin</th>\n",
       "      <th>cardano</th>\n",
       "      <th>dogecoin</th>\n",
       "      <th>solana</th>\n",
       "      <th>tron</th>\n",
       "      <th>ripple</th>\n",
       "      <th>usd-coin</th>\n",
       "      <th>bitcoin</th>\n",
       "      <th>timestamp</th>\n",
       "    </tr>\n",
       "  </thead>\n",
       "  <tbody>\n",
       "    <tr>\n",
       "      <th>0</th>\n",
       "      <td>0.864732</td>\n",
       "      <td>3593.78</td>\n",
       "      <td>1109.34</td>\n",
       "      <td>0.620478</td>\n",
       "      <td>0.182245</td>\n",
       "      <td>170.24</td>\n",
       "      <td>0.277479</td>\n",
       "      <td>2.24</td>\n",
       "      <td>0.863804</td>\n",
       "      <td>99400</td>\n",
       "      <td>2025-10-13T16:11:14.869496+00:00</td>\n",
       "    </tr>\n",
       "    <tr>\n",
       "      <th>1</th>\n",
       "      <td>0.864693</td>\n",
       "      <td>3595.99</td>\n",
       "      <td>1108.51</td>\n",
       "      <td>0.616431</td>\n",
       "      <td>0.181916</td>\n",
       "      <td>171.11</td>\n",
       "      <td>0.277444</td>\n",
       "      <td>2.24</td>\n",
       "      <td>0.863591</td>\n",
       "      <td>99110</td>\n",
       "      <td>2025-10-13T16:27:35.479438+00:00</td>\n",
       "    </tr>\n",
       "    <tr>\n",
       "      <th>2</th>\n",
       "      <td>0.865189</td>\n",
       "      <td>3588.58</td>\n",
       "      <td>1106.27</td>\n",
       "      <td>0.617337</td>\n",
       "      <td>0.181516</td>\n",
       "      <td>172.21</td>\n",
       "      <td>0.277501</td>\n",
       "      <td>2.23</td>\n",
       "      <td>0.864147</td>\n",
       "      <td>98994</td>\n",
       "      <td>2025-10-13T16:41:57.621896+00:00</td>\n",
       "    </tr>\n",
       "    <tr>\n",
       "      <th>3</th>\n",
       "      <td>0.864757</td>\n",
       "      <td>3596.14</td>\n",
       "      <td>1105.54</td>\n",
       "      <td>0.615812</td>\n",
       "      <td>0.18149</td>\n",
       "      <td>171.58</td>\n",
       "      <td>0.277292</td>\n",
       "      <td>2.23</td>\n",
       "      <td>0.863806</td>\n",
       "      <td>99031</td>\n",
       "      <td>2025-10-13T16:52:47.604888+00:00</td>\n",
       "    </tr>\n",
       "    <tr>\n",
       "      <th>4</th>\n",
       "      <td>0.864816</td>\n",
       "      <td>3602.74</td>\n",
       "      <td>1107.84</td>\n",
       "      <td>0.61914</td>\n",
       "      <td>0.182571</td>\n",
       "      <td>173.19</td>\n",
       "      <td>0.277334</td>\n",
       "      <td>2.24</td>\n",
       "      <td>0.863815</td>\n",
       "      <td>99128</td>\n",
       "      <td>2025-10-13T17:03:09.475261+00:00</td>\n",
       "    </tr>\n",
       "    <tr>\n",
       "      <th>...</th>\n",
       "      <td>...</td>\n",
       "      <td>...</td>\n",
       "      <td>...</td>\n",
       "      <td>...</td>\n",
       "      <td>...</td>\n",
       "      <td>...</td>\n",
       "      <td>...</td>\n",
       "      <td>...</td>\n",
       "      <td>...</td>\n",
       "      <td>...</td>\n",
       "      <td>...</td>\n",
       "    </tr>\n",
       "    <tr>\n",
       "      <th>85</th>\n",
       "      <td>0.866865</td>\n",
       "      <td>3442.11</td>\n",
       "      <td>1034.53</td>\n",
       "      <td>0.586241</td>\n",
       "      <td>0.172299</td>\n",
       "      <td>169.7</td>\n",
       "      <td>0.269121</td>\n",
       "      <td>2.12</td>\n",
       "      <td>0.865843</td>\n",
       "      <td>96379</td>\n",
       "      <td>2025-10-14T11:11:25.513994+00:00</td>\n",
       "    </tr>\n",
       "    <tr>\n",
       "      <th>86</th>\n",
       "      <td>0.866616</td>\n",
       "      <td>3443.71</td>\n",
       "      <td>1030.31</td>\n",
       "      <td>0.5867</td>\n",
       "      <td>0.17271</td>\n",
       "      <td>169.6</td>\n",
       "      <td>0.269006</td>\n",
       "      <td>2.13</td>\n",
       "      <td>0.865576</td>\n",
       "      <td>96563</td>\n",
       "      <td>2025-10-14T11:23:53.673851+00:00</td>\n",
       "    </tr>\n",
       "    <tr>\n",
       "      <th>87</th>\n",
       "      <td>0.866311</td>\n",
       "      <td>3440.84</td>\n",
       "      <td>1025.47</td>\n",
       "      <td>0.586533</td>\n",
       "      <td>0.172723</td>\n",
       "      <td>169.5</td>\n",
       "      <td>0.268734</td>\n",
       "      <td>2.13</td>\n",
       "      <td>0.865273</td>\n",
       "      <td>96571</td>\n",
       "      <td>2025-10-14T11:34:06.024064+00:00</td>\n",
       "    </tr>\n",
       "    <tr>\n",
       "      <th>88</th>\n",
       "      <td>0.866358</td>\n",
       "      <td>3442.29</td>\n",
       "      <td>1017.7</td>\n",
       "      <td>0.587644</td>\n",
       "      <td>0.1727</td>\n",
       "      <td>169.41</td>\n",
       "      <td>0.269553</td>\n",
       "      <td>2.13</td>\n",
       "      <td>0.865305</td>\n",
       "      <td>96486</td>\n",
       "      <td>2025-10-14T11:43:34.246441+00:00</td>\n",
       "    </tr>\n",
       "    <tr>\n",
       "      <th>89</th>\n",
       "      <td>0.866551</td>\n",
       "      <td>3449.18</td>\n",
       "      <td>1015.42</td>\n",
       "      <td>0.587419</td>\n",
       "      <td>0.172683</td>\n",
       "      <td>169.49</td>\n",
       "      <td>0.269784</td>\n",
       "      <td>2.13</td>\n",
       "      <td>0.865481</td>\n",
       "      <td>96596</td>\n",
       "      <td>2025-10-14T11:53:07.888901+00:00</td>\n",
       "    </tr>\n",
       "  </tbody>\n",
       "</table>\n",
       "<p>90 rows × 11 columns</p>\n",
       "</div>"
      ],
      "text/plain": [
       "      tether ethereum binancecoin   cardano  dogecoin  solana      tron  \\\n",
       "0   0.864732  3593.78     1109.34  0.620478  0.182245  170.24  0.277479   \n",
       "1   0.864693  3595.99     1108.51  0.616431  0.181916  171.11  0.277444   \n",
       "2   0.865189  3588.58     1106.27  0.617337  0.181516  172.21  0.277501   \n",
       "3   0.864757  3596.14     1105.54  0.615812   0.18149  171.58  0.277292   \n",
       "4   0.864816  3602.74     1107.84   0.61914  0.182571  173.19  0.277334   \n",
       "..       ...      ...         ...       ...       ...     ...       ...   \n",
       "85  0.866865  3442.11     1034.53  0.586241  0.172299   169.7  0.269121   \n",
       "86  0.866616  3443.71     1030.31    0.5867   0.17271   169.6  0.269006   \n",
       "87  0.866311  3440.84     1025.47  0.586533  0.172723   169.5  0.268734   \n",
       "88  0.866358  3442.29      1017.7  0.587644    0.1727  169.41  0.269553   \n",
       "89  0.866551  3449.18     1015.42  0.587419  0.172683  169.49  0.269784   \n",
       "\n",
       "   ripple  usd-coin bitcoin                         timestamp  \n",
       "0    2.24  0.863804   99400  2025-10-13T16:11:14.869496+00:00  \n",
       "1    2.24  0.863591   99110  2025-10-13T16:27:35.479438+00:00  \n",
       "2    2.23  0.864147   98994  2025-10-13T16:41:57.621896+00:00  \n",
       "3    2.23  0.863806   99031  2025-10-13T16:52:47.604888+00:00  \n",
       "4    2.24  0.863815   99128  2025-10-13T17:03:09.475261+00:00  \n",
       "..    ...       ...     ...                               ...  \n",
       "85   2.12  0.865843   96379  2025-10-14T11:11:25.513994+00:00  \n",
       "86   2.13  0.865576   96563  2025-10-14T11:23:53.673851+00:00  \n",
       "87   2.13  0.865273   96571  2025-10-14T11:34:06.024064+00:00  \n",
       "88   2.13  0.865305   96486  2025-10-14T11:43:34.246441+00:00  \n",
       "89   2.13  0.865481   96596  2025-10-14T11:53:07.888901+00:00  \n",
       "\n",
       "[90 rows x 11 columns]"
      ]
     },
     "execution_count": 38,
     "metadata": {},
     "output_type": "execute_result"
    }
   ],
   "source": [
    "app.layout = html.Div([\n",
    "    html.Div([\n",
    "            # Publication year trend\n",
    "            html.Div([\n",
    "                dcc.Graph(\n",
    "                    figure=px.line(\n",
    "                        book_data.groupby('publication_year').size().reset_index(name='count'),\n",
    "                        x='publication_year', \n",
    "                        y='count',\n",
    "                        title='Books by Publication Year',\n",
    "                        labels={'count': 'Number of Books', 'publication_year': 'Year'}\n",
    "                    ).update_layout(height=400)\n",
    "                )\n",
    "            ], style={'width': '50%', 'display': 'inline-block'})\n",
    "        ])\n",
    "    ])"
   ]
  },
  {
   "cell_type": "code",
   "execution_count": null,
   "id": "19022276",
   "metadata": {},
   "outputs": [],
   "source": [
    "\n",
    "\n",
    "# Calculate summary metrics\n",
    "book_data['publisher'] = book_data['publisher'].apply(lambda x: x[:20] + \"...\" if len(x) > 20 else x)\n",
    "book_data['primary_category'] = book_data['primary_category'].str.lower().apply(lambda x: x[:20] + \"...\" if len(x) > 20 else x)\n",
    "total_books = len(book_data)\n",
    "ratings_count = book_data['ratings_count'].sum()\n",
    "avg_rating = book_data['avg_rating'].mean()\n",
    "if book_data['publication_year'].max() > datetime.now().year:\n",
    "    latest_year = datetime.now().year\n",
    "else:\n",
    "    latest_year = book_data['publication_year'].max()\n",
    "\n",
    "# Category distribution with \"Other\" grouping\n",
    "category_counts = book_data['primary_category'].value_counts()\n",
    "filtered_df = category_counts[category_counts >= len(book_data) * 0.02].reset_index()\n",
    "filtered_df.columns = ['primary_category', 'count']\n",
    "\n",
    "# Dashboard layout\n",
    "app.layout = html.Div([\n",
    "    # Header\n",
    "    html.Div([\n",
    "        html.H1(\"Book Analytics Dashboard\", \n",
    "                style={'text-align': 'center', 'color': '#2c3e50', 'margin-bottom': '30px'})\n",
    "    ]),\n",
    "\n",
    "    # Overview section\n",
    "    html.Div([\n",
    "        html.P(\n",
    "            \"This dashboard provides summary statistics and visualizations \"\n",
    "            \"for the collection of books sourced from Google Books and made \"\n",
    "            \"available to the Book Recommender. \"\n",
    "            \"Here, you can explore how many books are included, along with \"\n",
    "            \"insights into publication trends, ratings distribution, and \"\n",
    "            \"category breakdowns.\",\n",
    "            style={\n",
    "                'textAlign': 'center',\n",
    "                'color': '#2c3e50',\n",
    "                'marginTop': '40px',\n",
    "                'marginBottom': '40px',\n",
    "                'fontSize': '16px',\n",
    "                'lineHeight': '1.6'\n",
    "            }\n",
    "        )\n",
    "    ]),\n",
    "    \n",
    "    # Summary cards\n",
    "    html.Div([\n",
    "        html.Div([\n",
    "            html.H3(f\"{total_books:,}\", style={'margin': '0', 'color': '#3498db'}),\n",
    "            html.P(\"Total Books\", style={'margin': '5px 0'})\n",
    "        ], className='summary-card'),\n",
    "        \n",
    "        html.Div([\n",
    "            html.H3(f\"{avg_rating:.1f}\", style={'margin': '0', 'color': '#e74c3c'}),\n",
    "            html.P(\"Average Rating\", style={'margin': '5px 0'})\n",
    "        ], className='summary-card'),\n",
    "        \n",
    "        html.Div([\n",
    "            html.H3(f\"{latest_year}\", style={'margin': '0', 'color': '#27ae60'}),\n",
    "            html.P(\"Latest Publication\", style={'margin': '5px 0'})\n",
    "        ], className='summary-card')\n",
    "    ], style={'display': 'flex', 'justify-content': 'space-around', 'margin-bottom': '30px'}),\n",
    "    \n",
    "    # Charts section\n",
    "    html.Div([\n",
    "        # Publication year trend\n",
    "        html.Div([\n",
    "            dcc.Graph(\n",
    "                figure=px.line(\n",
    "                    book_data.groupby('publication_year').size().reset_index(name='count'),\n",
    "                    x='publication_year', \n",
    "                    y='count',\n",
    "                    title='Books by Publication Year',\n",
    "                    labels={'count': 'Number of Books', 'publication_year': 'Year'}\n",
    "                ).update_layout(height=400)\n",
    "            )\n",
    "        ], style={'width': '50%', 'display': 'inline-block'}),\n",
    "        \n",
    "        # Top publishers\n",
    "        html.Div([\n",
    "            dcc.Graph(\n",
    "                figure=px.bar(\n",
    "                    book_data['publisher'].value_counts().head(8).reset_index(),\n",
    "                    x='count', \n",
    "                    y='publisher',\n",
    "                    orientation='h',\n",
    "                    title='Top Publishers',\n",
    "                    labels={'count': 'Number of Books', 'publisher': 'Publisher'}\n",
    "                ).update_layout(height=400)\n",
    "            )\n",
    "        ], style={'width': '50%', 'display': 'inline-block'})\n",
    "    ]),\n",
    "    \n",
    "    html.Div([\n",
    "        # Category distribution\n",
    "        html.Div([\n",
    "            dcc.Graph(\n",
    "                figure=px.pie(\n",
    "                    filtered_df,\n",
    "                    values='count',\n",
    "                    names='primary_category',\n",
    "                    title='Books by Category'\n",
    "                ).update_layout(height=400)\n",
    "            )\n",
    "        ], style={'width': '50%', 'display': 'inline-block'}),\n",
    "        \n",
    "        # Rating distribution\n",
    "        html.Div([\n",
    "            dcc.Graph(\n",
    "                figure=px.histogram(\n",
    "                    book_data,\n",
    "                    x='avg_rating',\n",
    "                    nbins=10,\n",
    "                    title='Rating Distribution',\n",
    "                    labels={'avg_rating': 'Average Rating', 'count': 'Number of Books'}\n",
    "                ).update_layout(height=400)\n",
    "            )\n",
    "        ], style={'width': '50%', 'display': 'inline-block'})\n",
    "    ]),\n",
    "    \n",
    "    # Data table\n",
    "    html.Div([\n",
    "        html.H3(\"Book Details\", style={'margin-top': '30px'}),\n",
    "        dash_table.DataTable(\n",
    "            data=book_data.head(5).to_dict('records'),\n",
    "            columns=[\n",
    "                {'name': 'Title', 'id': 'title'},\n",
    "                {'name': 'Author', 'id': 'primary_author'},\n",
    "                {'name': 'Publisher', 'id': 'publisher'},\n",
    "                {'name': 'Year', 'id': 'publication_year'},\n",
    "                {'name': 'Rating', 'id': 'avg_rating', 'type': 'numeric', 'format': {'specifier': '.1f'}},\n",
    "                {'name': 'Ratings Count', 'id': 'ratings_count', 'type': 'numeric', 'format': {'specifier': 'd'}},\n",
    "                {'name': 'Category', 'id': 'primary_category'}\n",
    "            ],\n",
    "            style_cell={'textAlign': 'left', 'padding': '10px'},\n",
    "            style_header={'backgroundColor': '#3498db', 'color': 'white', 'fontWeight': 'bold'},\n",
    "            style_data_conditional=[\n",
    "                {\n",
    "                    'if': {'filter_query': '{avg_rating} > 4'},\n",
    "                    'backgroundColor': '#d5f4e6',\n",
    "                }\n",
    "            ]\n",
    "        )\n",
    "    ])\n",
    "], style={'max-width': '1200px', 'margin': '0 auto', 'padding': '20px'})\n",
    "\n",
    "# Add CSS styling\n",
    "app.index_string = '''\n",
    "<!DOCTYPE html>\n",
    "<html>\n",
    "    <head>\n",
    "        {%metas%}\n",
    "        <title>{%title%}</title>\n",
    "        {%favicon%}\n",
    "        {%css%}\n",
    "        <style>\n",
    "            .summary-card {\n",
    "                background: white;\n",
    "                padding: 20px;\n",
    "                border-radius: 8px;\n",
    "                box-shadow: 0 2px 10px rgba(0,0,0,0.1);\n",
    "                text-align: center;\n",
    "                width: 200px;\n",
    "            }\n",
    "            body {\n",
    "                font-family: 'Segoe UI', Tahoma, Geneva, Verdana, sans-serif;\n",
    "                background-color: #f8f9fa;\n",
    "                margin: 0;\n",
    "            }\n",
    "        </style>\n",
    "    </head>\n",
    "    <body>\n",
    "        {%app_entry%}\n",
    "        <footer>\n",
    "            {%config%}\n",
    "            {%scripts%}\n",
    "            {%renderer%}\n",
    "        </footer>\n",
    "    </body>\n",
    "</html>\n",
    "'''\n",
    "\n",
    "if __name__ == '__main__':\n",
    "    app.run(debug=True)"
   ]
  }
 ],
 "metadata": {
  "kernelspec": {
   "display_name": "prefect_env",
   "language": "python",
   "name": "python3"
  },
  "language_info": {
   "codemirror_mode": {
    "name": "ipython",
    "version": 3
   },
   "file_extension": ".py",
   "mimetype": "text/x-python",
   "name": "python",
   "nbconvert_exporter": "python",
   "pygments_lexer": "ipython3",
   "version": "3.11.13"
  }
 },
 "nbformat": 4,
 "nbformat_minor": 5
}
