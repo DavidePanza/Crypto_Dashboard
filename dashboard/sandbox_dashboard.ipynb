{
 "cells": [
  {
   "cell_type": "code",
   "execution_count": 17,
   "id": "01a0b2b7",
   "metadata": {},
   "outputs": [
    {
     "data": {
      "text/plain": [
       "True"
      ]
     },
     "execution_count": 17,
     "metadata": {},
     "output_type": "execute_result"
    }
   ],
   "source": [
    "from jupyter_dash import JupyterDash\n",
    "from dash import Dash, html, dcc, Input, Output, State\n",
    "import plotly.graph_objs as go\n",
    "import pandas as pd\n",
    "from datetime import datetime, timedelta\n",
    "import boto3\n",
    "from boto3.dynamodb.conditions import Key\n",
    "import pandas as pd\n",
    "import requests\n",
    "import plotly.express as px\n",
    "from io import StringIO\n",
    "import os\n",
    "import time\n",
    "from dotenv import load_dotenv\n",
    "\n",
    "load_dotenv()"
   ]
  },
  {
   "cell_type": "code",
   "execution_count": 12,
   "id": "2e9e2f12",
   "metadata": {},
   "outputs": [],
   "source": [
    "# Initialize Dash app\n",
    "# app = dash.Dash(__name__)\n",
    "# server = app.server\n",
    "\n",
    "# AWS configuration \n",
    "AWS_ACCESS_KEY_ID = os.environ.get('AWS_ACCESS_KEY_ID')\n",
    "AWS_SECRET_ACCESS_KEY = os.environ.get('AWS_SECRET_ACCESS_KEY')\n",
    "AWS_REGION = 'us-east-1'\n"
   ]
  },
  {
   "cell_type": "code",
   "execution_count": 13,
   "id": "28ef9025",
   "metadata": {},
   "outputs": [],
   "source": [
    "dynamodb = boto3.resource('dynamodb')\n",
    "table = dynamodb.Table('crypto-prices')"
   ]
  },
  {
   "cell_type": "code",
   "execution_count": 16,
   "id": "963d6f00",
   "metadata": {},
   "outputs": [],
   "source": [
    "def get_data(table, time1, time2):\n",
    "    try:\n",
    "        response = table.query(\n",
    "            KeyConditionExpression =Key('PK').eq('CRYPTO_PRICES') &\n",
    "                                    Key('timestamp').between(\n",
    "                                        time1,\n",
    "                                        time2\n",
    "                                        )\n",
    "                                    )\n",
    "        df = pd.DataFrame(response['Items']).drop(columns=['ttl', 'PK'])\n",
    "\n",
    "        return df\n",
    "    \n",
    "    except Exception as e:\n",
    "        raise Exception(f'qQuery failed: {e}')\n"
   ]
  },
  {
   "cell_type": "code",
   "execution_count": 160,
   "id": "31beac91",
   "metadata": {},
   "outputs": [
    {
     "name": "stdout",
     "output_type": "stream",
     "text": [
      "     dogecoin      tron bitcoin\n",
      "0    0.182245  0.277479   99400\n",
      "1    0.181916  0.277444   99110\n",
      "2    0.181516  0.277501   98994\n",
      "3     0.18149  0.277292   99031\n",
      "4    0.182571  0.277334   99128\n",
      "..        ...       ...     ...\n",
      "289  0.170015  0.276375   95382\n",
      "290  0.169983  0.276569   95324\n",
      "291  0.170975  0.276927   95549\n",
      "292  0.170897   0.27719   95575\n",
      "293  0.171221  0.277295   95747\n",
      "\n",
      "[294 rows x 3 columns]\n"
     ]
    }
   ],
   "source": [
    "df = get_data(table, '2025-10-13T16:00:00', '2025-10-16T11:00:00')\n",
    "options = ['dogecoin', 'tron', 'bitcoin']\n",
    "selection = df.loc[:, options]\n",
    "print(selection)"
   ]
  },
  {
   "cell_type": "code",
   "execution_count": 106,
   "id": "49706589",
   "metadata": {},
   "outputs": [],
   "source": [
    "base_url = \"https://api.gdeltproject.org/api/v2/doc/doc\"\n",
    "\n",
    "# using proximity\n",
    "personality = \"Trump\"\n",
    "crypto_keywords = [\"bitcoin\"]\n",
    "newspapers = [\"wsj.com\", \"ft.com\", \"nytimes.com\", \"bloomberg.com\", \"coindesk.com\"]\n",
    "proximity = 15  # number of words between personality and crypto keyword\n",
    "\n",
    "# Build domain filter\n",
    "domain_filters = \" OR \".join([f\"domainis:{d}\" for d in newspapers])\n",
    "\n",
    "# Build crypto keyword part\n",
    "if len(crypto_keywords) > 1:\n",
    "    crypto_keywords_ = ' OR '.join(crypto_keywords)\n",
    "else:\n",
    "    crypto_keywords_ = crypto_keywords[0]\n",
    "\n",
    "# Build nearX query for each crypto keyword\n",
    "# e.g., near5:\"Trump Bitcoin\" OR near5:\"Trump Ethereum\"\n",
    "near_queries = ' OR '.join([f'near{proximity}:\"{personality} {c}\"' for c in crypto_keywords_ .split(' OR ')])\n",
    "\n",
    "# Combine with domains and language\n",
    "if len(crypto_keywords) > 1:\n",
    "    full_query = f\"({near_queries}) sourcelang:English ({domain_filters})\"\n",
    "else:\n",
    "    full_query = f\"{near_queries} sourcelang:English ({domain_filters})\"\n",
    "\n",
    "\n",
    "\n",
    "params = {\n",
    "    \"query\": full_query,  \n",
    "    \"mode\": \"artlist\",\n",
    "    \"format\": \"csv\",\n",
    "    \"startdatetime\": \"20251013000000\",\n",
    "    \"enddatetime\": \"20251016235959\",\n",
    "    \"sort\" : \"datedesc\",\n",
    "    \"maxrecords\": 250\n",
    "}\n",
    "\n",
    "response = requests.get(base_url, params=params)\n",
    "# data_dict = response.json()\n",
    "csv_data = StringIO(response.text)\n",
    "\n",
    "# Read CSV into a DataFrame\n",
    "df_news = pd.read_csv(csv_data)"
   ]
  },
  {
   "cell_type": "code",
   "execution_count": 107,
   "id": "40719890",
   "metadata": {},
   "outputs": [],
   "source": [
    "df_news['person'] = ['Trump', 'Musk']\n",
    "df_news['Date'] = pd.to_datetime(df_news['Date']).dt.round('1s')\n",
    "df['timestamp'] = pd.to_datetime(df['timestamp']).dt.round('1s')"
   ]
  },
  {
   "cell_type": "code",
   "execution_count": 108,
   "id": "68f9532e",
   "metadata": {},
   "outputs": [
    {
     "data": {
      "text/plain": [
       "[<matplotlib.lines.Line2D at 0x12c8dfd10>]"
      ]
     },
     "execution_count": 108,
     "metadata": {},
     "output_type": "execute_result"
    },
    {
     "data": {
      "image/png": "[encoded data removed]",
      "text/plain": [
       "<Figure size 640x480 with 1 Axes>"
      ]
     },
     "metadata": {},
     "output_type": "display_data"
    }
   ],
   "source": [
    "import matplotlib.pyplot as plt\n",
    "\n",
    "plt.plot(df['timestamp'], list(range(0,len(df['timestamp']))), '.')\n",
    "plt.plot(df_news['Date'], list(range(0,len(df_news['Date']))), 'r.')"
   ]
  },
  {
   "cell_type": "code",
   "execution_count": 162,
   "id": "98663043",
   "metadata": {},
   "outputs": [
    {
     "data": {
      "text/plain": [
       "240004657.14699998"
      ]
     },
     "execution_count": 162,
     "metadata": {},
     "output_type": "execute_result"
    }
   ],
   "source": [
    "time_range"
   ]
  },
  {
   "cell_type": "code",
   "execution_count": 129,
   "id": "0019a670",
   "metadata": {},
   "outputs": [
    {
     "data": {
      "application/vnd.plotly.v1+json": {
       "config": {
        "plotlyServerURL": "https://plot.ly"
       },
       "data": [
        {
         "line": {
          "color": "#627EEA",
          "width": 3
         },
         "marker": {
          "size": 4
         },
         "mode": "lines",
         "name": "ethereum",
         "type": "scatter",
         "x": [
          "2025-10-13T16:11:15.000000000",
          "2025-10-13T16:27:35.000000000",
          "2025-10-13T16:41:58.000000000",
          "2025-10-13T16:52:48.000000000",
          "2025-10-13T17:03:09.000000000",
          "2025-10-13T17:16:37.000000000",
          "2025-10-13T17:29:07.000000000",
          "2025-10-13T17:39:52.000000000",
          "2025-10-13T17:49:26.000000000",
          "2025-10-13T17:58:30.000000000",
          "2025-10-13T18:12:11.000000000",
          "2025-10-13T18:29:11.000000000",
          "2025-10-13T18:43:41.000000000",
          "2025-10-13T18:53:47.000000000",
          "2025-10-13T19:05:04.000000000",
          "2025-10-13T19:18:05.000000000",
          "2025-10-13T19:27:38.000000000",
          "2025-10-13T19:37:41.000000000",
          "2025-10-13T19:46:53.000000000",
          "2025-10-13T19:56:10.000000000",
          "2025-10-13T20:10:02.000000000",
          "2025-10-13T20:25:28.000000000",
          "2025-10-13T20:37:00.000000000",
          "2025-10-13T20:46:08.000000000",
          "2025-10-13T20:55:12.000000000",
          "2025-10-13T21:06:58.000000000",
          "2025-10-13T21:20:49.000000000",
          "2025-10-13T21:29:32.000000000",
          "2025-10-13T21:38:29.000000000",
          "2025-10-13T21:48:12.000000000",
          "2025-10-13T21:57:13.000000000",
          "2025-10-13T22:09:10.000000000",
          "2025-10-13T22:23:46.000000000",
          "2025-10-13T22:35:13.000000000",
          "2025-10-13T22:44:45.000000000",
          "2025-10-13T22:53:52.000000000",
          "2025-10-13T23:05:15.000000000",
          "2025-10-13T23:18:58.000000000",
          "2025-10-13T23:29:20.000000000",
          "2025-10-13T23:39:24.000000000",
          "2025-10-13T23:49:01.000000000",
          "2025-10-13T23:58:07.000000000",
          "2025-10-14T00:34:03.000000000",
          "2025-10-14T01:03:37.000000000",
          "2025-10-14T01:45:59.000000000",
          "2025-10-14T02:21:20.000000000",
          "2025-10-14T02:50:10.000000000",
          "2025-10-14T03:13:08.000000000",
          "2025-10-14T03:31:47.000000000",
          "2025-10-14T03:45:51.000000000",
          "2025-10-14T03:55:33.000000000",
          "2025-10-14T04:10:20.000000000",
          "2025-10-14T04:26:31.000000000",
          "2025-10-14T04:39:02.000000000",
          "2025-10-14T04:49:09.000000000",
          "2025-10-14T04:58:30.000000000",
          "2025-10-14T05:11:03.000000000",
          "2025-10-14T05:25:51.000000000",
          "2025-10-14T05:37:35.000000000",
          "2025-10-14T05:46:49.000000000",
          "2025-10-14T05:56:05.000000000",
          "2025-10-14T06:13:04.000000000",
          "2025-10-14T06:30:54.000000000",
          "2025-10-14T06:45:44.000000000",
          "2025-10-14T06:55:59.000000000",
          "2025-10-14T07:09:34.000000000",
          "2025-10-14T07:24:37.000000000",
          "2025-10-14T07:35:30.000000000",
          "2025-10-14T07:44:19.000000000",
          "2025-10-14T07:53:25.000000000",
          "2025-10-14T08:06:01.000000000",
          "2025-10-14T08:20:55.000000000",
          "2025-10-14T08:35:47.000000000",
          "2025-10-14T08:48:13.000000000",
          "2025-10-14T08:57:38.000000000",
          "2025-10-14T09:10:14.000000000",
          "2025-10-14T09:25:54.000000000",
          "2025-10-14T09:38:20.000000000",
          "2025-10-14T09:48:07.000000000",
          "2025-10-14T09:57:28.000000000",
          "2025-10-14T10:09:59.000000000",
          "2025-10-14T10:25:30.000000000",
          "2025-10-14T10:39:26.000000000",
          "2025-10-14T10:49:49.000000000",
          "2025-10-14T10:58:42.000000000",
          "2025-10-14T11:11:26.000000000",
          "2025-10-14T11:23:54.000000000",
          "2025-10-14T11:34:06.000000000",
          "2025-10-14T11:43:34.000000000",
          "2025-10-14T11:53:08.000000000",
          "2025-10-14T12:07:05.000000000",
          "2025-10-14T12:23:58.000000000",
          "2025-10-14T12:47:03.000000000",
          "2025-10-14T13:07:05.000000000",
          "2025-10-14T13:24:17.000000000",
          "2025-10-14T13:41:16.000000000",
          "2025-10-14T13:51:53.000000000",
          "2025-10-14T14:02:27.000000000",
          "2025-10-14T14:15:59.000000000",
          "2025-10-14T14:31:50.000000000",
          "2025-10-14T14:44:19.000000000",
          "2025-10-14T14:54:18.000000000",
          "2025-10-14T15:07:22.000000000",
          "2025-10-14T15:22:12.000000000",
          "2025-10-14T15:34:43.000000000",
          "2025-10-14T15:48:08.000000000",
          "2025-10-14T15:57:17.000000000",
          "2025-10-14T16:10:11.000000000",
          "2025-10-14T16:26:41.000000000",
          "2025-10-14T16:41:27.000000000",
          "2025-10-14T16:52:35.000000000",
          "2025-10-14T17:03:08.000000000",
          "2025-10-14T17:16:20.000000000",
          "2025-10-14T17:28:04.000000000",
          "2025-10-14T17:38:19.000000000",
          "2025-10-14T17:47:50.000000000",
          "2025-10-14T17:56:52.000000000",
          "2025-10-14T18:12:21.000000000",
          "2025-10-14T18:29:53.000000000",
          "2025-10-14T18:44:28.000000000",
          "2025-10-14T18:53:41.000000000",
          "2025-10-14T19:04:28.000000000",
          "2025-10-14T19:17:43.000000000",
          "2025-10-14T19:28:05.000000000",
          "2025-10-14T19:38:01.000000000",
          "2025-10-14T19:47:37.000000000",
          "2025-10-14T19:57:12.000000000",
          "2025-10-14T20:09:43.000000000",
          "2025-10-14T20:25:12.000000000",
          "2025-10-14T20:37:23.000000000",
          "2025-10-14T20:47:11.000000000",
          "2025-10-14T20:56:55.000000000",
          "2025-10-14T21:08:55.000000000",
          "2025-10-14T21:23:02.000000000",
          "2025-10-14T21:32:53.000000000",
          "2025-10-14T21:42:30.000000000",
          "2025-10-14T21:51:49.000000000",
          "2025-10-14T22:01:30.000000000",
          "2025-10-14T22:14:27.000000000",
          "2025-10-14T22:28:43.000000000",
          "2025-10-14T22:39:23.000000000",
          "2025-10-14T22:48:30.000000000",
          "2025-10-14T22:57:16.000000000",
          "2025-10-14T23:09:22.000000000",
          "2025-10-14T23:23:36.000000000",
          "2025-10-14T23:33:23.000000000",
          "2025-10-14T23:42:24.000000000",
          "2025-10-14T23:51:33.000000000",
          "2025-10-15T00:01:53.000000000",
          "2025-10-15T00:36:26.000000000",
          "2025-10-15T01:07:10.000000000",
          "2025-10-15T01:51:10.000000000",
          "2025-10-15T02:27:26.000000000",
          "2025-10-15T02:57:44.000000000",
          "2025-10-15T03:24:38.000000000",
          "2025-10-15T03:42:35.000000000",
          "2025-10-15T03:54:18.000000000",
          "2025-10-15T04:07:28.000000000",
          "2025-10-15T04:22:36.000000000",
          "2025-10-15T04:36:20.000000000",
          "2025-10-15T04:47:07.000000000",
          "2025-10-15T04:56:10.000000000",
          "2025-10-15T05:09:09.000000000",
          "2025-10-15T05:24:55.000000000",
          "2025-10-15T05:36:35.000000000",
          "2025-10-15T05:46:24.000000000",
          "2025-10-15T05:55:08.000000000",
          "2025-10-15T06:11:37.000000000",
          "2025-10-15T06:28:51.000000000",
          "2025-10-15T06:44:56.000000000",
          "2025-10-15T06:55:42.000000000",
          "2025-10-15T07:09:59.000000000",
          "2025-10-15T07:25:15.000000000",
          "2025-10-15T07:36:40.000000000",
          "2025-10-15T07:46:26.000000000",
          "2025-10-15T07:55:42.000000000",
          "2025-10-15T08:11:46.000000000",
          "2025-10-15T08:29:07.000000000",
          "2025-10-15T08:44:34.000000000",
          "2025-10-15T08:56:03.000000000",
          "2025-10-15T09:09:59.000000000",
          "2025-10-15T09:25:43.000000000",
          "2025-10-15T09:38:03.000000000",
          "2025-10-15T09:48:17.000000000",
          "2025-10-15T09:58:01.000000000",
          "2025-10-15T10:10:50.000000000",
          "2025-10-15T10:26:55.000000000",
          "2025-10-15T10:41:10.000000000",
          "2025-10-15T10:52:01.000000000",
          "2025-10-15T11:02:00.000000000",
          "2025-10-15T11:14:48.000000000",
          "2025-10-15T11:26:25.000000000",
          "2025-10-15T11:36:36.000000000",
          "2025-10-15T11:45:51.000000000",
          "2025-10-15T11:55:20.000000000",
          "2025-10-15T12:15:27.000000000",
          "2025-10-15T12:35:27.000000000",
          "2025-10-15T12:59:20.000000000",
          "2025-10-15T13:19:13.000000000",
          "2025-10-15T13:37:57.000000000",
          "2025-10-15T13:50:25.000000000",
          "2025-10-15T13:59:41.000000000",
          "2025-10-15T14:12:53.000000000",
          "2025-10-15T14:29:23.000000000",
          "2025-10-15T14:42:28.000000000",
          "2025-10-15T14:53:06.000000000",
          "2025-10-15T15:04:28.000000000",
          "2025-10-15T15:18:14.000000000",
          "2025-10-15T15:31:06.000000000",
          "2025-10-15T15:42:25.000000000",
          "2025-10-15T15:51:33.000000000",
          "2025-10-15T16:01:30.000000000",
          "2025-10-15T16:14:54.000000000",
          "2025-10-15T16:31:11.000000000",
          "2025-10-15T16:43:49.000000000",
          "2025-10-15T16:53:56.000000000",
          "2025-10-15T17:05:51.000000000",
          "2025-10-15T17:19:37.000000000",
          "2025-10-15T17:32:02.000000000",
          "2025-10-15T17:42:45.000000000",
          "2025-10-15T17:52:24.000000000",
          "2025-10-15T18:03:19.000000000",
          "2025-10-15T18:18:05.000000000",
          "2025-10-15T18:37:15.000000000",
          "2025-10-15T18:50:44.000000000",
          "2025-10-15T18:59:56.000000000",
          "2025-10-15T19:12:32.000000000",
          "2025-10-15T19:24:10.000000000",
          "2025-10-15T19:34:12.000000000",
          "2025-10-15T19:43:47.000000000",
          "2025-10-15T19:53:14.000000000",
          "2025-10-15T20:04:34.000000000",
          "2025-10-15T20:19:01.000000000",
          "2025-10-15T20:33:01.000000000",
          "2025-10-15T20:44:05.000000000",
          "2025-10-15T20:53:15.000000000",
          "2025-10-15T21:04:11.000000000",
          "2025-10-15T21:17:24.000000000",
          "2025-10-15T21:28:53.000000000",
          "2025-10-15T21:38:57.000000000",
          "2025-10-15T21:48:36.000000000",
          "2025-10-15T21:57:32.000000000",
          "2025-10-15T22:09:32.000000000",
          "2025-10-15T22:23:42.000000000",
          "2025-10-15T22:34:33.000000000",
          "2025-10-15T22:44:09.000000000",
          "2025-10-15T22:53:39.000000000",
          "2025-10-15T23:05:07.000000000",
          "2025-10-15T23:18:29.000000000",
          "2025-10-15T23:29:17.000000000",
          "2025-10-15T23:39:13.000000000",
          "2025-10-15T23:48:46.000000000",
          "2025-10-15T23:58:20.000000000",
          "2025-10-16T00:35:31.000000000",
          "2025-10-16T01:05:49.000000000",
          "2025-10-16T01:49:16.000000000",
          "2025-10-16T02:25:07.000000000",
          "2025-10-16T02:55:47.000000000",
          "2025-10-16T03:24:05.000000000",
          "2025-10-16T03:42:13.000000000",
          "2025-10-16T03:54:06.000000000",
          "2025-10-16T04:06:45.000000000",
          "2025-10-16T04:21:26.000000000",
          "2025-10-16T04:35:11.000000000",
          "2025-10-16T04:45:56.000000000",
          "2025-10-16T04:55:26.000000000",
          "2025-10-16T05:09:07.000000000",
          "2025-10-16T05:23:55.000000000",
          "2025-10-16T05:35:48.000000000",
          "2025-10-16T05:45:01.000000000",
          "2025-10-16T05:54:03.000000000",
          "2025-10-16T06:08:50.000000000",
          "2025-10-16T06:25:08.000000000",
          "2025-10-16T06:42:49.000000000",
          "2025-10-16T06:53:49.000000000",
          "2025-10-16T07:06:06.000000000",
          "2025-10-16T07:20:18.000000000",
          "2025-10-16T07:32:10.000000000",
          "2025-10-16T07:42:21.000000000",
          "2025-10-16T07:51:34.000000000",
          "2025-10-16T08:01:20.000000000",
          "2025-10-16T08:15:37.000000000",
          "2025-10-16T08:33:53.000000000",
          "2025-10-16T08:48:21.000000000",
          "2025-10-16T08:58:44.000000000",
          "2025-10-16T09:11:44.000000000",
          "2025-10-16T09:28:04.000000000",
          "2025-10-16T09:39:53.000000000",
          "2025-10-16T09:49:52.000000000",
          "2025-10-16T09:58:53.000000000",
          "2025-10-16T10:12:07.000000000",
          "2025-10-16T10:28:09.000000000",
          "2025-10-16T10:41:13.000000000",
          "2025-10-16T10:51:20.000000000"
         ],
         "y": [
          3593.78,
          3595.99,
          3588.58,
          3596.14,
          3602.74,
          3599.65,
          3604.43,
          3615.01,
          3612.44,
          3626.14,
          3637.9,
          3654.32,
          3658.24,
          3651.14,
          3657.86,
          3679.37,
          3670.56,
          3675.57,
          3686.59,
          3691.4,
          3688.36,
          3678.02,
          3674.63,
          3683.39,
          3687.75,
          3701.96,
          3700.54,
          3693.5,
          3690.82,
          3689.25,
          3683.48,
          3690.38,
          3687.65,
          3684.08,
          3688.07,
          3696.22,
          3689.99,
          3683.7,
          3679.42,
          3674.74,
          3667.26,
          3669.95,
          3687.94,
          3667.03,
          3649.85,
          3622.78,
          3610.2,
          3590.79,
          3581.04,
          3590.18,
          3595.03,
          3587.11,
          3589.31,
          3572.53,
          3551.12,
          3536.28,
          3558.35,
          3547.13,
          3524.16,
          3511.61,
          3514.69,
          3520.31,
          3501.64,
          3461.93,
          3465.47,
          3455.65,
          3465.69,
          3465.35,
          3451.79,
          3449.2,
          3428.32,
          3438.27,
          3459.9,
          3458.64,
          3457.94,
          3465.44,
          3458.28,
          3464.31,
          3458.03,
          3449.65,
          3438.21,
          3408.78,
          3383.87,
          3401.61,
          3414.25,
          3442.11,
          3443.71,
          3440.84,
          3442.29,
          3449.18,
          3428.7,
          3417.56,
          3413.19,
          3412,
          3400.4,
          3399.63,
          3421.36,
          3417.14,
          3442.83,
          3430.47,
          3446.75,
          3432.14,
          3441.48,
          3421.73,
          3442.44,
          3482.23,
          3507.59,
          3502.58,
          3558.44,
          3552.97,
          3569.24,
          3502.52,
          3556.1,
          3552.61,
          3540.67,
          3540.38,
          3538.41,
          3552.25,
          3552.46,
          3533.64,
          3548.96,
          3553.52,
          3559.75,
          3568.74,
          3555.16,
          3509.36,
          3538.46,
          3531.61,
          3543.01,
          3543.62,
          3553.97,
          3549.2,
          3551.02,
          3536.23,
          3544.47,
          3536.25,
          3541.08,
          3550.64,
          3563.66,
          3556.11,
          3546.22,
          3542.44,
          3549.25,
          3565.32,
          3569.62,
          3568.14,
          3566.72,
          3565.48,
          3555.57,
          3532.61,
          3527.08,
          3533.41,
          3561.83,
          3545.55,
          3520.71,
          3519.96,
          3513.04,
          3511.08,
          3533.08,
          3527.69,
          3531.63,
          3545.4,
          3542.54,
          3544.24,
          3544.1,
          3537.93,
          3532.98,
          3527.55,
          3523.13,
          3538.25,
          3532.98,
          3535.28,
          3540.8,
          3532.33,
          3536.82,
          3543.73,
          3553.93,
          3572.75,
          3610.1,
          3597.01,
          3593.34,
          3574.15,
          3575.83,
          3583.32,
          3570.88,
          3572.45,
          3562.57,
          3547.04,
          3548.41,
          3548.61,
          3544.86,
          3533.07,
          3533.28,
          3540.96,
          3532.35,
          3531.15,
          3515.85,
          3526.26,
          3508.77,
          3525.64,
          3477.74,
          3489.6,
          3527.62,
          3514.73,
          3488.31,
          3462.92,
          3441.94,
          3442.17,
          3449.9,
          3430.7,
          3413.87,
          3422.08,
          3423.92,
          3434.91,
          3425.44,
          3430.29,
          3410.5,
          3393.09,
          3394.87,
          3408.85,
          3423.32,
          3428.93,
          3430.74,
          3427.93,
          3432.74,
          3449.86,
          3426.64,
          3442.16,
          3442.76,
          3431.22,
          3423.27,
          3429.84,
          3425.14,
          3394.34,
          3416.34,
          3417.16,
          3404.46,
          3394.77,
          3407.25,
          3418.25,
          3405.45,
          3387.83,
          3402.17,
          3407.39,
          3406.44,
          3413.61,
          3401.6,
          3403.07,
          3419.15,
          3415.83,
          3418.82,
          3422.41,
          3422.22,
          3419.02,
          3424.71,
          3425.08,
          3447.49,
          3454.13,
          3458.62,
          3454.51,
          3449.93,
          3448.7,
          3455.56,
          3455.36,
          3439.99,
          3438.97,
          3431.4,
          3434.4,
          3440.3,
          3447.27,
          3422.02,
          3438.12,
          3436.65,
          3451.17,
          3465.33,
          3465.74,
          3454.83,
          3438.31,
          3438.91,
          3439.29,
          3436.47,
          3436.26,
          3430.18,
          3424.18,
          3428.59,
          3435.33,
          3426.01,
          3393.25,
          3454.55,
          3459.6,
          3462.19,
          3476.24,
          3478.39,
          3481.71
         ]
        },
        {
         "hoverinfo": "text",
         "hovertext": [
          "Bitcoin ( BTC ) Price News : Bounce on Powell Remark ; K33 Sees Constructive Setup Post - Crash",
          "U . S . Targets Cambodian Pig Butchering , Takes $14B in Bitcoin as Biggest Ever Seizure"
         ],
         "marker": {
          "color": "rgba(0,0,0,0)",
          "opacity": 0,
          "size": 50
         },
         "mode": "markers",
         "name": "News Events",
         "showlegend": false,
         "type": "scatter",
         "x": [
          "2025-10-15T00:00:00.000000000",
          "2025-10-14T19:15:00.000000000"
         ],
         "y": [
          3390.2318,
          3390.2318
         ]
        }
       ],
       "layout": {
        "height": 600,
        "images": [
         {
          "layer": "above",
          "sizex": 48001000,
          "sizey": 31.809000000000015,
          "source": "data:image/jpeg;base64,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",
          "x": "2025-10-15T00:00:00",
          "xanchor": "center",
          "xref": "x",
          "y": 3390.2318,
          "yanchor": "middle",
          "yref": "y"
         },
         {
          "layer": "above",
          "sizex": 48001000,
          "sizey": 31.809000000000015,
          "source": "data:image/jpeg;base64,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",
          "x": "2025-10-14T19:15:00",
          "xanchor": "center",
          "xref": "x",
          "y": 3390.2318,
          "yanchor": "middle",
          "yref": "y"
         }
        ],
        "paper_bgcolor": "#1E1E1E",
        "plot_bgcolor": "#2D2D2D",
        "template": {
         "data": {
          "bar": [
           {
            "error_x": {
             "color": "#f2f5fa"
            },
            "error_y": {
             "color": "#f2f5fa"
            },
            "marker": {
             "line": {
              "color": "rgb(17,17,17)",
              "width": 0.5
             },
             "pattern": {
              "fillmode": "overlay",
              "size": 10,
              "solidity": 0.2
             }
            },
            "type": "bar"
           }
          ],
          "barpolar": [
           {
            "marker": {
             "line": {
              "color": "rgb(17,17,17)",
              "width": 0.5
             },
             "pattern": {
              "fillmode": "overlay",
              "size": 10,
              "solidity": 0.2
             }
            },
            "type": "barpolar"
           }
          ],
          "carpet": [
           {
            "aaxis": {
             "endlinecolor": "#A2B1C6",
             "gridcolor": "#506784",
             "linecolor": "#506784",
             "minorgridcolor": "#506784",
             "startlinecolor": "#A2B1C6"
            },
            "baxis": {
             "endlinecolor": "#A2B1C6",
             "gridcolor": "#506784",
             "linecolor": "#506784",
             "minorgridcolor": "#506784",
             "startlinecolor": "#A2B1C6"
            },
            "type": "carpet"
           }
          ],
          "choropleth": [
           {
            "colorbar": {
             "outlinewidth": 0,
             "ticks": ""
            },
            "type": "choropleth"
           }
          ],
          "contour": [
           {
            "colorbar": {
             "outlinewidth": 0,
             "ticks": ""
            },
            "colorscale": [
             [
              0,
              "#0d0887"
             ],
             [
              0.1111111111111111,
              "#46039f"
             ],
             [
              0.2222222222222222,
              "#7201a8"
             ],
             [
              0.3333333333333333,
              "#9c179e"
             ],
             [
              0.4444444444444444,
              "#bd3786"
             ],
             [
              0.5555555555555556,
              "#d8576b"
             ],
             [
              0.6666666666666666,
              "#ed7953"
             ],
             [
              0.7777777777777778,
              "#fb9f3a"
             ],
             [
              0.8888888888888888,
              "#fdca26"
             ],
             [
              1,
              "#f0f921"
             ]
            ],
            "type": "contour"
           }
          ],
          "contourcarpet": [
           {
            "colorbar": {
             "outlinewidth": 0,
             "ticks": ""
            },
            "type": "contourcarpet"
           }
          ],
          "heatmap": [
           {
            "colorbar": {
             "outlinewidth": 0,
             "ticks": ""
            },
            "colorscale": [
             [
              0,
              "#0d0887"
             ],
             [
              0.1111111111111111,
              "#46039f"
             ],
             [
              0.2222222222222222,
              "#7201a8"
             ],
             [
              0.3333333333333333,
              "#9c179e"
             ],
             [
              0.4444444444444444,
              "#bd3786"
             ],
             [
              0.5555555555555556,
              "#d8576b"
             ],
             [
              0.6666666666666666,
              "#ed7953"
             ],
             [
              0.7777777777777778,
              "#fb9f3a"
             ],
             [
              0.8888888888888888,
              "#fdca26"
             ],
             [
              1,
              "#f0f921"
             ]
            ],
            "type": "heatmap"
           }
          ],
          "histogram": [
           {
            "marker": {
             "pattern": {
              "fillmode": "overlay",
              "size": 10,
              "solidity": 0.2
             }
            },
            "type": "histogram"
           }
          ],
          "histogram2d": [
           {
            "colorbar": {
             "outlinewidth": 0,
             "ticks": ""
            },
            "colorscale": [
             [
              0,
              "#0d0887"
             ],
             [
              0.1111111111111111,
              "#46039f"
             ],
             [
              0.2222222222222222,
              "#7201a8"
             ],
             [
              0.3333333333333333,
              "#9c179e"
             ],
             [
              0.4444444444444444,
              "#bd3786"
             ],
             [
              0.5555555555555556,
              "#d8576b"
             ],
             [
              0.6666666666666666,
              "#ed7953"
             ],
             [
              0.7777777777777778,
              "#fb9f3a"
             ],
             [
              0.8888888888888888,
              "#fdca26"
             ],
             [
              1,
              "#f0f921"
             ]
            ],
            "type": "histogram2d"
           }
          ],
          "histogram2dcontour": [
           {
            "colorbar": {
             "outlinewidth": 0,
             "ticks": ""
            },
            "colorscale": [
             [
              0,
              "#0d0887"
             ],
             [
              0.1111111111111111,
              "#46039f"
             ],
             [
              0.2222222222222222,
              "#7201a8"
             ],
             [
              0.3333333333333333,
              "#9c179e"
             ],
             [
              0.4444444444444444,
              "#bd3786"
             ],
             [
              0.5555555555555556,
              "#d8576b"
             ],
             [
              0.6666666666666666,
              "#ed7953"
             ],
             [
              0.7777777777777778,
              "#fb9f3a"
             ],
             [
              0.8888888888888888,
              "#fdca26"
             ],
             [
              1,
              "#f0f921"
             ]
            ],
            "type": "histogram2dcontour"
           }
          ],
          "mesh3d": [
           {
            "colorbar": {
             "outlinewidth": 0,
             "ticks": ""
            },
            "type": "mesh3d"
           }
          ],
          "parcoords": [
           {
            "line": {
             "colorbar": {
              "outlinewidth": 0,
              "ticks": ""
             }
            },
            "type": "parcoords"
           }
          ],
          "pie": [
           {
            "automargin": true,
            "type": "pie"
           }
          ],
          "scatter": [
           {
            "marker": {
             "line": {
              "color": "#283442"
             }
            },
            "type": "scatter"
           }
          ],
          "scatter3d": [
           {
            "line": {
             "colorbar": {
              "outlinewidth": 0,
              "ticks": ""
             }
            },
            "marker": {
             "colorbar": {
              "outlinewidth": 0,
              "ticks": ""
             }
            },
            "type": "scatter3d"
           }
          ],
          "scattercarpet": [
           {
            "marker": {
             "colorbar": {
              "outlinewidth": 0,
              "ticks": ""
             }
            },
            "type": "scattercarpet"
           }
          ],
          "scattergeo": [
           {
            "marker": {
             "colorbar": {
              "outlinewidth": 0,
              "ticks": ""
             }
            },
            "type": "scattergeo"
           }
          ],
          "scattergl": [
           {
            "marker": {
             "line": {
              "color": "#283442"
             }
            },
            "type": "scattergl"
           }
          ],
          "scattermap": [
           {
            "marker": {
             "colorbar": {
              "outlinewidth": 0,
              "ticks": ""
             }
            },
            "type": "scattermap"
           }
          ],
          "scattermapbox": [
           {
            "marker": {
             "colorbar": {
              "outlinewidth": 0,
              "ticks": ""
             }
            },
            "type": "scattermapbox"
           }
          ],
          "scatterpolar": [
           {
            "marker": {
             "colorbar": {
              "outlinewidth": 0,
              "ticks": ""
             }
            },
            "type": "scatterpolar"
           }
          ],
          "scatterpolargl": [
           {
            "marker": {
             "colorbar": {
              "outlinewidth": 0,
              "ticks": ""
             }
            },
            "type": "scatterpolargl"
           }
          ],
          "scatterternary": [
           {
            "marker": {
             "colorbar": {
              "outlinewidth": 0,
              "ticks": ""
             }
            },
            "type": "scatterternary"
           }
          ],
          "surface": [
           {
            "colorbar": {
             "outlinewidth": 0,
             "ticks": ""
            },
            "colorscale": [
             [
              0,
              "#0d0887"
             ],
             [
              0.1111111111111111,
              "#46039f"
             ],
             [
              0.2222222222222222,
              "#7201a8"
             ],
             [
              0.3333333333333333,
              "#9c179e"
             ],
             [
              0.4444444444444444,
              "#bd3786"
             ],
             [
              0.5555555555555556,
              "#d8576b"
             ],
             [
              0.6666666666666666,
              "#ed7953"
             ],
             [
              0.7777777777777778,
              "#fb9f3a"
             ],
             [
              0.8888888888888888,
              "#fdca26"
             ],
             [
              1,
              "#f0f921"
             ]
            ],
            "type": "surface"
           }
          ],
          "table": [
           {
            "cells": {
             "fill": {
              "color": "#506784"
             },
             "line": {
              "color": "rgb(17,17,17)"
             }
            },
            "header": {
             "fill": {
              "color": "#2a3f5f"
             },
             "line": {
              "color": "rgb(17,17,17)"
             }
            },
            "type": "table"
           }
          ]
         },
         "layout": {
          "annotationdefaults": {
           "arrowcolor": "#f2f5fa",
           "arrowhead": 0,
           "arrowwidth": 1
          },
          "autotypenumbers": "strict",
          "coloraxis": {
           "colorbar": {
            "outlinewidth": 0,
            "ticks": ""
           }
          },
          "colorscale": {
           "diverging": [
            [
             0,
             "#8e0152"
            ],
            [
             0.1,
             "#c51b7d"
            ],
            [
             0.2,
             "#de77ae"
            ],
            [
             0.3,
             "#f1b6da"
            ],
            [
             0.4,
             "#fde0ef"
            ],
            [
             0.5,
             "#f7f7f7"
            ],
            [
             0.6,
             "#e6f5d0"
            ],
            [
             0.7,
             "#b8e186"
            ],
            [
             0.8,
             "#7fbc41"
            ],
            [
             0.9,
             "#4d9221"
            ],
            [
             1,
             "#276419"
            ]
           ],
           "sequential": [
            [
             0,
             "#0d0887"
            ],
            [
             0.1111111111111111,
             "#46039f"
            ],
            [
             0.2222222222222222,
             "#7201a8"
            ],
            [
             0.3333333333333333,
             "#9c179e"
            ],
            [
             0.4444444444444444,
             "#bd3786"
            ],
            [
             0.5555555555555556,
             "#d8576b"
            ],
            [
             0.6666666666666666,
             "#ed7953"
            ],
            [
             0.7777777777777778,
             "#fb9f3a"
            ],
            [
             0.8888888888888888,
             "#fdca26"
            ],
            [
             1,
             "#f0f921"
            ]
           ],
           "sequentialminus": [
            [
             0,
             "#0d0887"
            ],
            [
             0.1111111111111111,
             "#46039f"
            ],
            [
             0.2222222222222222,
             "#7201a8"
            ],
            [
             0.3333333333333333,
             "#9c179e"
            ],
            [
             0.4444444444444444,
             "#bd3786"
            ],
            [
             0.5555555555555556,
             "#d8576b"
            ],
            [
             0.6666666666666666,
             "#ed7953"
            ],
            [
             0.7777777777777778,
             "#fb9f3a"
            ],
            [
             0.8888888888888888,
             "#fdca26"
            ],
            [
             1,
             "#f0f921"
            ]
           ]
          },
          "colorway": [
           "#636efa",
           "#EF553B",
           "#00cc96",
           "#ab63fa",
           "#FFA15A",
           "#19d3f3",
           "#FF6692",
           "#B6E880",
           "#FF97FF",
           "#FECB52"
          ],
          "font": {
           "color": "#f2f5fa"
          },
          "geo": {
           "bgcolor": "rgb(17,17,17)",
           "lakecolor": "rgb(17,17,17)",
           "landcolor": "rgb(17,17,17)",
           "showlakes": true,
           "showland": true,
           "subunitcolor": "#506784"
          },
          "hoverlabel": {
           "align": "left"
          },
          "hovermode": "closest",
          "mapbox": {
           "style": "dark"
          },
          "paper_bgcolor": "rgb(17,17,17)",
          "plot_bgcolor": "rgb(17,17,17)",
          "polar": {
           "angularaxis": {
            "gridcolor": "#506784",
            "linecolor": "#506784",
            "ticks": ""
           },
           "bgcolor": "rgb(17,17,17)",
           "radialaxis": {
            "gridcolor": "#506784",
            "linecolor": "#506784",
            "ticks": ""
           }
          },
          "scene": {
           "xaxis": {
            "backgroundcolor": "rgb(17,17,17)",
            "gridcolor": "#506784",
            "gridwidth": 2,
            "linecolor": "#506784",
            "showbackground": true,
            "ticks": "",
            "zerolinecolor": "#C8D4E3"
           },
           "yaxis": {
            "backgroundcolor": "rgb(17,17,17)",
            "gridcolor": "#506784",
            "gridwidth": 2,
            "linecolor": "#506784",
            "showbackground": true,
            "ticks": "",
            "zerolinecolor": "#C8D4E3"
           },
           "zaxis": {
            "backgroundcolor": "rgb(17,17,17)",
            "gridcolor": "#506784",
            "gridwidth": 2,
            "linecolor": "#506784",
            "showbackground": true,
            "ticks": "",
            "zerolinecolor": "#C8D4E3"
           }
          },
          "shapedefaults": {
           "line": {
            "color": "#f2f5fa"
           }
          },
          "sliderdefaults": {
           "bgcolor": "#C8D4E3",
           "bordercolor": "rgb(17,17,17)",
           "borderwidth": 1,
           "tickwidth": 0
          },
          "ternary": {
           "aaxis": {
            "gridcolor": "#506784",
            "linecolor": "#506784",
            "ticks": ""
           },
           "baxis": {
            "gridcolor": "#506784",
            "linecolor": "#506784",
            "ticks": ""
           },
           "bgcolor": "rgb(17,17,17)",
           "caxis": {
            "gridcolor": "#506784",
            "linecolor": "#506784",
            "ticks": ""
           }
          },
          "title": {
           "x": 0.05
          },
          "updatemenudefaults": {
           "bgcolor": "#506784",
           "borderwidth": 0
          },
          "xaxis": {
           "automargin": true,
           "gridcolor": "#283442",
           "linecolor": "#506784",
           "ticks": "",
           "title": {
            "standoff": 15
           },
           "zerolinecolor": "#283442",
           "zerolinewidth": 2
          },
          "yaxis": {
           "automargin": true,
           "gridcolor": "#283442",
           "linecolor": "#506784",
           "ticks": "",
           "title": {
            "standoff": 15
           },
           "zerolinecolor": "#283442",
           "zerolinewidth": 2
          }
         }
        },
        "title": {
         "text": "Crypto Prices with News Events"
        },
        "xaxis": {
         "title": {
          "text": "Time"
         }
        },
        "yaxis": {
         "title": {
          "text": "Price (USD)"
         }
        }
       }
      }
     },
     "metadata": {},
     "output_type": "display_data"
    }
   ],
   "source": [
    "\n",
    "\n",
    "CRYPTO_COLORS = {\n",
    "    'bitcoin': '#F7931A',        # Orange\n",
    "    'ethereum': '#627EEA',       # Blue/Purple\n",
    "    'tether': '#26A17B',         # Green\n",
    "    'binancecoin': '#F3BA2F',    # Yellow/Gold\n",
    "    'solana': '#14F195',         # Bright Green/Cyan\n",
    "    'ripple': '#23292F',         # Dark Gray/Black\n",
    "    'cardano': '#0033AD',        # Blue\n",
    "    'dogecoin': '#C2A633',       # Gold/Yellow\n",
    "    'tron': '#FF060A',           # Red\n",
    "    'usd-coin': '#2775CA',       # Blue\n",
    "}\n",
    "\n",
    "import base64\n",
    "\n",
    "def img_to_base64(path):\n",
    "    with open(path, \"rb\") as f:\n",
    "        return \"data:image/jpeg;base64,\" + base64.b64encode(f.read()).decode()\n",
    "\n",
    "IMAGE_PATHS = {\n",
    "    'trump': img_to_base64('./images/round/trump.png'),\n",
    "    'elon': img_to_base64('./images/round/elon.png')\n",
    "}\n",
    "\n",
    "# IMAGE_PATHS = {\n",
    "#     'trump': './images/raw/trump.jpg',\n",
    "#     'elon': './images/raw/elon.jpg'\n",
    "# }\n",
    "\n",
    "traces = []\n",
    "for crypto in selection.columns:\n",
    "    traces.append(go.Scatter(\n",
    "        x=pd.to_datetime(df['timestamp']).dt.round('1s'),              # ← Use this if timestamps are in index\n",
    "        y=df[crypto],            # ← Crypto column name\n",
    "        mode='lines',\n",
    "        name=crypto,\n",
    "        line=dict(color=CRYPTO_COLORS.get(crypto, '#FFFFFF'), width=3),\n",
    "        marker=dict(size=4)\n",
    "    ))\n",
    "\n",
    "fig = go.Figure(data=traces)\n",
    "\n",
    "y_min = float(df[selection.columns].min().min())\n",
    "y_max = float(df[selection.columns].max().max())\n",
    "image_y = y_min + (y_max - y_min) * 0.02  \n",
    "\n",
    "# --- Add each news image as overlay marker ---\n",
    "for i, row in df_news.iterrows():\n",
    "    date = pd.to_datetime(row['Date'])\n",
    "    \n",
    "    # Calculate width as a fraction of the total time range\n",
    "    time_range = (pd.to_datetime(df['timestamp']).max() - pd.to_datetime(df['timestamp']).min()).total_seconds() * 1000\n",
    "    image_width = time_range * 0.2  # 5% of total time range (increased from 2%)\n",
    "    \n",
    "    fig.add_layout_image(\n",
    "        dict(\n",
    "            source=IMAGE_PATHS['trump'] if row['person'].lower() == 'trump' else IMAGE_PATHS['elon'],\n",
    "            x=date,\n",
    "            y=image_y,\n",
    "            xref=\"x\",\n",
    "            yref=\"y\",\n",
    "            sizex=image_width,\n",
    "            sizey=(y_max - y_min) * 0.1,  # 15% of chart height (increased from 8%)\n",
    "            xanchor=\"center\",\n",
    "            yanchor=\"middle\",\n",
    "            layer=\"above\"\n",
    "        )\n",
    "    )\n",
    "\n",
    "fig.add_trace(go.Scatter(\n",
    "    x=pd.to_datetime(df_news['Date']),\n",
    "    y=[image_y] * len(df_news),\n",
    "    mode='markers',\n",
    "    marker=dict(\n",
    "        size=50,  # Large enough to cover the image area\n",
    "        opacity=0,  # Invisible\n",
    "        color='rgba(0,0,0,0)'\n",
    "    ),\n",
    "    hovertext=df_news['Title'],\n",
    "    hoverinfo='text',\n",
    "    name='News Events',\n",
    "    showlegend=False\n",
    "))\n",
    "\n",
    "fig.update_layout(\n",
    "    title='Crypto Prices with News Events',\n",
    "    template='plotly_dark',\n",
    "    paper_bgcolor='#1E1E1E',\n",
    "    plot_bgcolor='#2D2D2D',\n",
    "    xaxis=dict(title='Time'),\n",
    "    yaxis=dict(title='Price (USD)'),\n",
    "    height=600\n",
    ")\n",
    "\n",
    "fig.show()"
   ]
  },
  {
   "cell_type": "code",
   "execution_count": 170,
   "id": "95f05465",
   "metadata": {},
   "outputs": [
    {
     "data": {
      "application/vnd.plotly.v1+json": {
       "config": {
        "plotlyServerURL": "https://plot.ly"
       },
       "data": [
        {
         "line": {
          "color": "#C2A633",
          "width": 3
         },
         "marker": {
          "size": 4
         },
         "mode": "lines",
         "name": "dogecoin",
         "type": "scatter",
         "x": [
          "2025-10-13T16:11:15.000000000",
          "2025-10-13T16:27:35.000000000",
          "2025-10-13T16:41:58.000000000",
          "2025-10-13T16:52:48.000000000",
          "2025-10-13T17:03:09.000000000",
          "2025-10-13T17:16:37.000000000",
          "2025-10-13T17:29:07.000000000",
          "2025-10-13T17:39:52.000000000",
          "2025-10-13T17:49:26.000000000",
          "2025-10-13T17:58:30.000000000",
          "2025-10-13T18:12:11.000000000",
          "2025-10-13T18:29:11.000000000",
          "2025-10-13T18:43:41.000000000",
          "2025-10-13T18:53:47.000000000",
          "2025-10-13T19:05:04.000000000",
          "2025-10-13T19:18:05.000000000",
          "2025-10-13T19:27:38.000000000",
          "2025-10-13T19:37:41.000000000",
          "2025-10-13T19:46:53.000000000",
          "2025-10-13T19:56:10.000000000",
          "2025-10-13T20:10:02.000000000",
          "2025-10-13T20:25:28.000000000",
          "2025-10-13T20:37:00.000000000",
          "2025-10-13T20:46:08.000000000",
          "2025-10-13T20:55:12.000000000",
          "2025-10-13T21:06:58.000000000",
          "2025-10-13T21:20:49.000000000",
          "2025-10-13T21:29:32.000000000",
          "2025-10-13T21:38:29.000000000",
          "2025-10-13T21:48:12.000000000",
          "2025-10-13T21:57:13.000000000",
          "2025-10-13T22:09:10.000000000",
          "2025-10-13T22:23:46.000000000",
          "2025-10-13T22:35:13.000000000",
          "2025-10-13T22:44:45.000000000",
          "2025-10-13T22:53:52.000000000",
          "2025-10-13T23:05:15.000000000",
          "2025-10-13T23:18:58.000000000",
          "2025-10-13T23:29:20.000000000",
          "2025-10-13T23:39:24.000000000",
          "2025-10-13T23:49:01.000000000",
          "2025-10-13T23:58:07.000000000",
          "2025-10-14T00:34:03.000000000",
          "2025-10-14T01:03:37.000000000",
          "2025-10-14T01:45:59.000000000",
          "2025-10-14T02:21:20.000000000",
          "2025-10-14T02:50:10.000000000",
          "2025-10-14T03:13:08.000000000",
          "2025-10-14T03:31:47.000000000",
          "2025-10-14T03:45:51.000000000",
          "2025-10-14T03:55:33.000000000",
          "2025-10-14T04:10:20.000000000",
          "2025-10-14T04:26:31.000000000",
          "2025-10-14T04:39:02.000000000",
          "2025-10-14T04:49:09.000000000",
          "2025-10-14T04:58:30.000000000",
          "2025-10-14T05:11:03.000000000",
          "2025-10-14T05:25:51.000000000",
          "2025-10-14T05:37:35.000000000",
          "2025-10-14T05:46:49.000000000",
          "2025-10-14T05:56:05.000000000",
          "2025-10-14T06:13:04.000000000",
          "2025-10-14T06:30:54.000000000",
          "2025-10-14T06:45:44.000000000",
          "2025-10-14T06:55:59.000000000",
          "2025-10-14T07:09:34.000000000",
          "2025-10-14T07:24:37.000000000",
          "2025-10-14T07:35:30.000000000",
          "2025-10-14T07:44:19.000000000",
          "2025-10-14T07:53:25.000000000",
          "2025-10-14T08:06:01.000000000",
          "2025-10-14T08:20:55.000000000",
          "2025-10-14T08:35:47.000000000",
          "2025-10-14T08:48:13.000000000",
          "2025-10-14T08:57:38.000000000",
          "2025-10-14T09:10:14.000000000",
          "2025-10-14T09:25:54.000000000",
          "2025-10-14T09:38:20.000000000",
          "2025-10-14T09:48:07.000000000",
          "2025-10-14T09:57:28.000000000",
          "2025-10-14T10:09:59.000000000",
          "2025-10-14T10:25:30.000000000",
          "2025-10-14T10:39:26.000000000",
          "2025-10-14T10:49:49.000000000",
          "2025-10-14T10:58:42.000000000",
          "2025-10-14T11:11:26.000000000",
          "2025-10-14T11:23:54.000000000",
          "2025-10-14T11:34:06.000000000",
          "2025-10-14T11:43:34.000000000",
          "2025-10-14T11:53:08.000000000",
          "2025-10-14T12:07:05.000000000",
          "2025-10-14T12:23:58.000000000",
          "2025-10-14T12:47:03.000000000",
          "2025-10-14T13:07:05.000000000",
          "2025-10-14T13:24:17.000000000",
          "2025-10-14T13:41:16.000000000",
          "2025-10-14T13:51:53.000000000",
          "2025-10-14T14:02:27.000000000",
          "2025-10-14T14:15:59.000000000",
          "2025-10-14T14:31:50.000000000",
          "2025-10-14T14:44:19.000000000",
          "2025-10-14T14:54:18.000000000",
          "2025-10-14T15:07:22.000000000",
          "2025-10-14T15:22:12.000000000",
          "2025-10-14T15:34:43.000000000",
          "2025-10-14T15:48:08.000000000",
          "2025-10-14T15:57:17.000000000",
          "2025-10-14T16:10:11.000000000",
          "2025-10-14T16:26:41.000000000",
          "2025-10-14T16:41:27.000000000",
          "2025-10-14T16:52:35.000000000",
          "2025-10-14T17:03:08.000000000",
          "2025-10-14T17:16:20.000000000",
          "2025-10-14T17:28:04.000000000",
          "2025-10-14T17:38:19.000000000",
          "2025-10-14T17:47:50.000000000",
          "2025-10-14T17:56:52.000000000",
          "2025-10-14T18:12:21.000000000",
          "2025-10-14T18:29:53.000000000",
          "2025-10-14T18:44:28.000000000",
          "2025-10-14T18:53:41.000000000",
          "2025-10-14T19:04:28.000000000",
          "2025-10-14T19:17:43.000000000",
          "2025-10-14T19:28:05.000000000",
          "2025-10-14T19:38:01.000000000",
          "2025-10-14T19:47:37.000000000",
          "2025-10-14T19:57:12.000000000",
          "2025-10-14T20:09:43.000000000",
          "2025-10-14T20:25:12.000000000",
          "2025-10-14T20:37:23.000000000",
          "2025-10-14T20:47:11.000000000",
          "2025-10-14T20:56:55.000000000",
          "2025-10-14T21:08:55.000000000",
          "2025-10-14T21:23:02.000000000",
          "2025-10-14T21:32:53.000000000",
          "2025-10-14T21:42:30.000000000",
          "2025-10-14T21:51:49.000000000",
          "2025-10-14T22:01:30.000000000",
          "2025-10-14T22:14:27.000000000",
          "2025-10-14T22:28:43.000000000",
          "2025-10-14T22:39:23.000000000",
          "2025-10-14T22:48:30.000000000",
          "2025-10-14T22:57:16.000000000",
          "2025-10-14T23:09:22.000000000",
          "2025-10-14T23:23:36.000000000",
          "2025-10-14T23:33:23.000000000",
          "2025-10-14T23:42:24.000000000",
          "2025-10-14T23:51:33.000000000",
          "2025-10-15T00:01:53.000000000",
          "2025-10-15T00:36:26.000000000",
          "2025-10-15T01:07:10.000000000",
          "2025-10-15T01:51:10.000000000",
          "2025-10-15T02:27:26.000000000",
          "2025-10-15T02:57:44.000000000",
          "2025-10-15T03:24:38.000000000",
          "2025-10-15T03:42:35.000000000",
          "2025-10-15T03:54:18.000000000",
          "2025-10-15T04:07:28.000000000",
          "2025-10-15T04:22:36.000000000",
          "2025-10-15T04:36:20.000000000",
          "2025-10-15T04:47:07.000000000",
          "2025-10-15T04:56:10.000000000",
          "2025-10-15T05:09:09.000000000",
          "2025-10-15T05:24:55.000000000",
          "2025-10-15T05:36:35.000000000",
          "2025-10-15T05:46:24.000000000",
          "2025-10-15T05:55:08.000000000",
          "2025-10-15T06:11:37.000000000",
          "2025-10-15T06:28:51.000000000",
          "2025-10-15T06:44:56.000000000",
          "2025-10-15T06:55:42.000000000",
          "2025-10-15T07:09:59.000000000",
          "2025-10-15T07:25:15.000000000",
          "2025-10-15T07:36:40.000000000",
          "2025-10-15T07:46:26.000000000",
          "2025-10-15T07:55:42.000000000",
          "2025-10-15T08:11:46.000000000",
          "2025-10-15T08:29:07.000000000",
          "2025-10-15T08:44:34.000000000",
          "2025-10-15T08:56:03.000000000",
          "2025-10-15T09:09:59.000000000",
          "2025-10-15T09:25:43.000000000",
          "2025-10-15T09:38:03.000000000",
          "2025-10-15T09:48:17.000000000",
          "2025-10-15T09:58:01.000000000",
          "2025-10-15T10:10:50.000000000",
          "2025-10-15T10:26:55.000000000",
          "2025-10-15T10:41:10.000000000",
          "2025-10-15T10:52:01.000000000",
          "2025-10-15T11:02:00.000000000",
          "2025-10-15T11:14:48.000000000",
          "2025-10-15T11:26:25.000000000",
          "2025-10-15T11:36:36.000000000",
          "2025-10-15T11:45:51.000000000",
          "2025-10-15T11:55:20.000000000",
          "2025-10-15T12:15:27.000000000",
          "2025-10-15T12:35:27.000000000",
          "2025-10-15T12:59:20.000000000",
          "2025-10-15T13:19:13.000000000",
          "2025-10-15T13:37:57.000000000",
          "2025-10-15T13:50:25.000000000",
          "2025-10-15T13:59:41.000000000",
          "2025-10-15T14:12:53.000000000",
          "2025-10-15T14:29:23.000000000",
          "2025-10-15T14:42:28.000000000",
          "2025-10-15T14:53:06.000000000",
          "2025-10-15T15:04:28.000000000",
          "2025-10-15T15:18:14.000000000",
          "2025-10-15T15:31:06.000000000",
          "2025-10-15T15:42:25.000000000",
          "2025-10-15T15:51:33.000000000",
          "2025-10-15T16:01:30.000000000",
          "2025-10-15T16:14:54.000000000",
          "2025-10-15T16:31:11.000000000",
          "2025-10-15T16:43:49.000000000",
          "2025-10-15T16:53:56.000000000",
          "2025-10-15T17:05:51.000000000",
          "2025-10-15T17:19:37.000000000",
          "2025-10-15T17:32:02.000000000",
          "2025-10-15T17:42:45.000000000",
          "2025-10-15T17:52:24.000000000",
          "2025-10-15T18:03:19.000000000",
          "2025-10-15T18:18:05.000000000",
          "2025-10-15T18:37:15.000000000",
          "2025-10-15T18:50:44.000000000",
          "2025-10-15T18:59:56.000000000",
          "2025-10-15T19:12:32.000000000",
          "2025-10-15T19:24:10.000000000",
          "2025-10-15T19:34:12.000000000",
          "2025-10-15T19:43:47.000000000",
          "2025-10-15T19:53:14.000000000",
          "2025-10-15T20:04:34.000000000",
          "2025-10-15T20:19:01.000000000",
          "2025-10-15T20:33:01.000000000",
          "2025-10-15T20:44:05.000000000",
          "2025-10-15T20:53:15.000000000",
          "2025-10-15T21:04:11.000000000",
          "2025-10-15T21:17:24.000000000",
          "2025-10-15T21:28:53.000000000",
          "2025-10-15T21:38:57.000000000",
          "2025-10-15T21:48:36.000000000",
          "2025-10-15T21:57:32.000000000",
          "2025-10-15T22:09:32.000000000",
          "2025-10-15T22:23:42.000000000",
          "2025-10-15T22:34:33.000000000",
          "2025-10-15T22:44:09.000000000",
          "2025-10-15T22:53:39.000000000",
          "2025-10-15T23:05:07.000000000",
          "2025-10-15T23:18:29.000000000",
          "2025-10-15T23:29:17.000000000",
          "2025-10-15T23:39:13.000000000",
          "2025-10-15T23:48:46.000000000",
          "2025-10-15T23:58:20.000000000",
          "2025-10-16T00:35:31.000000000",
          "2025-10-16T01:05:49.000000000",
          "2025-10-16T01:49:16.000000000",
          "2025-10-16T02:25:07.000000000",
          "2025-10-16T02:55:47.000000000",
          "2025-10-16T03:24:05.000000000",
          "2025-10-16T03:42:13.000000000",
          "2025-10-16T03:54:06.000000000",
          "2025-10-16T04:06:45.000000000",
          "2025-10-16T04:21:26.000000000",
          "2025-10-16T04:35:11.000000000",
          "2025-10-16T04:45:56.000000000",
          "2025-10-16T04:55:26.000000000",
          "2025-10-16T05:09:07.000000000",
          "2025-10-16T05:23:55.000000000",
          "2025-10-16T05:35:48.000000000",
          "2025-10-16T05:45:01.000000000",
          "2025-10-16T05:54:03.000000000",
          "2025-10-16T06:08:50.000000000",
          "2025-10-16T06:25:08.000000000",
          "2025-10-16T06:42:49.000000000",
          "2025-10-16T06:53:49.000000000",
          "2025-10-16T07:06:06.000000000",
          "2025-10-16T07:20:18.000000000",
          "2025-10-16T07:32:10.000000000",
          "2025-10-16T07:42:21.000000000",
          "2025-10-16T07:51:34.000000000",
          "2025-10-16T08:01:20.000000000",
          "2025-10-16T08:15:37.000000000",
          "2025-10-16T08:33:53.000000000",
          "2025-10-16T08:48:21.000000000",
          "2025-10-16T08:58:44.000000000",
          "2025-10-16T09:11:44.000000000",
          "2025-10-16T09:28:04.000000000",
          "2025-10-16T09:39:53.000000000",
          "2025-10-16T09:49:52.000000000",
          "2025-10-16T09:58:53.000000000",
          "2025-10-16T10:12:07.000000000",
          "2025-10-16T10:28:09.000000000",
          "2025-10-16T10:41:13.000000000",
          "2025-10-16T10:51:20.000000000"
         ],
         "y": [
          0.182245,
          0.181916,
          0.181516,
          0.18149,
          0.182571,
          0.182879,
          0.182837,
          0.183373,
          0.182694,
          0.182707,
          0.184049,
          0.185448,
          0.185559,
          0.185268,
          0.18506,
          0.18607,
          0.186333,
          0.186654,
          0.187381,
          0.187371,
          0.187222,
          0.18741,
          0.187201,
          0.187815,
          0.18819,
          0.188274,
          0.188417,
          0.187836,
          0.187201,
          0.186949,
          0.186529,
          0.186454,
          0.186443,
          0.185934,
          0.186348,
          0.186205,
          0.186135,
          0.186011,
          0.185826,
          0.185558,
          0.185099,
          0.184961,
          0.186289,
          0.185306,
          0.183796,
          0.181929,
          0.1812,
          0.179438,
          0.17907,
          0.179499,
          0.179966,
          0.17958,
          0.179556,
          0.17904,
          0.178086,
          0.176741,
          0.17768,
          0.178031,
          0.176867,
          0.175108,
          0.175787,
          0.176125,
          0.175054,
          0.172985,
          0.171996,
          0.171656,
          0.172275,
          0.1718,
          0.171169,
          0.17105,
          0.170765,
          0.171238,
          0.172224,
          0.173243,
          0.172947,
          0.173338,
          0.173224,
          0.173867,
          0.173595,
          0.172792,
          0.171793,
          0.170613,
          0.169436,
          0.170051,
          0.170913,
          0.172299,
          0.17271,
          0.172723,
          0.1727,
          0.172683,
          0.171723,
          0.170833,
          0.170118,
          0.170198,
          0.169203,
          0.16924,
          0.170666,
          0.171238,
          0.171867,
          0.172484,
          0.172586,
          0.172624,
          0.17243,
          0.171467,
          0.17266,
          0.174084,
          0.175059,
          0.174504,
          0.176293,
          0.175397,
          0.176151,
          0.174688,
          0.17614,
          0.176147,
          0.175418,
          0.175492,
          0.175585,
          0.176057,
          0.176405,
          0.175352,
          0.175668,
          0.175792,
          0.176237,
          0.176766,
          0.176374,
          0.17388,
          0.174849,
          0.175188,
          0.175639,
          0.175641,
          0.175852,
          0.175852,
          0.175695,
          0.174602,
          0.175143,
          0.175166,
          0.175302,
          0.175717,
          0.17643,
          0.175953,
          0.175727,
          0.175618,
          0.175475,
          0.176234,
          0.176628,
          0.176599,
          0.176604,
          0.176579,
          0.176221,
          0.175249,
          0.175514,
          0.17524,
          0.177211,
          0.176695,
          0.174905,
          0.174861,
          0.174182,
          0.174043,
          0.174887,
          0.175033,
          0.174931,
          0.175549,
          0.175915,
          0.175693,
          0.175192,
          0.17558,
          0.175519,
          0.175269,
          0.175064,
          0.175303,
          0.175325,
          0.175375,
          0.175774,
          0.175243,
          0.17519,
          0.175576,
          0.176187,
          0.177149,
          0.178167,
          0.177348,
          0.17678,
          0.175759,
          0.175495,
          0.175709,
          0.175289,
          0.175245,
          0.175383,
          0.174866,
          0.174634,
          0.174614,
          0.174637,
          0.17375,
          0.173685,
          0.174121,
          0.174072,
          0.174199,
          0.173282,
          0.173725,
          0.17258,
          0.173373,
          0.171934,
          0.172308,
          0.174353,
          0.174278,
          0.173693,
          0.172725,
          0.171546,
          0.171628,
          0.171821,
          0.171066,
          0.170253,
          0.170828,
          0.171232,
          0.171725,
          0.171153,
          0.171353,
          0.170508,
          0.169535,
          0.169603,
          0.169932,
          0.170833,
          0.171161,
          0.170854,
          0.170649,
          0.170699,
          0.171404,
          0.170391,
          0.170458,
          0.170969,
          0.170065,
          0.1696,
          0.169624,
          0.170153,
          0.168897,
          0.168914,
          0.16967,
          0.168878,
          0.168219,
          0.168833,
          0.169523,
          0.168916,
          0.167423,
          0.167976,
          0.168349,
          0.168341,
          0.168499,
          0.167595,
          0.167688,
          0.168101,
          0.168263,
          0.168495,
          0.168727,
          0.168502,
          0.168139,
          0.1685,
          0.16918,
          0.169964,
          0.169509,
          0.169474,
          0.168947,
          0.168837,
          0.168842,
          0.169338,
          0.169605,
          0.168997,
          0.168436,
          0.167958,
          0.168335,
          0.168726,
          0.169248,
          0.168371,
          0.168513,
          0.168677,
          0.170436,
          0.170675,
          0.170695,
          0.170081,
          0.169292,
          0.169476,
          0.169806,
          0.169441,
          0.169348,
          0.16898,
          0.168382,
          0.168454,
          0.168857,
          0.168854,
          0.165024,
          0.168652,
          0.170015,
          0.169983,
          0.170975,
          0.170897,
          0.171221
         ]
        },
        {
         "line": {
          "color": "#FF060A",
          "width": 3
         },
         "marker": {
          "size": 4
         },
         "mode": "lines",
         "name": "tron",
         "type": "scatter",
         "x": [
          "2025-10-13T16:11:15.000000000",
          "2025-10-13T16:27:35.000000000",
          "2025-10-13T16:41:58.000000000",
          "2025-10-13T16:52:48.000000000",
          "2025-10-13T17:03:09.000000000",
          "2025-10-13T17:16:37.000000000",
          "2025-10-13T17:29:07.000000000",
          "2025-10-13T17:39:52.000000000",
          "2025-10-13T17:49:26.000000000",
          "2025-10-13T17:58:30.000000000",
          "2025-10-13T18:12:11.000000000",
          "2025-10-13T18:29:11.000000000",
          "2025-10-13T18:43:41.000000000",
          "2025-10-13T18:53:47.000000000",
          "2025-10-13T19:05:04.000000000",
          "2025-10-13T19:18:05.000000000",
          "2025-10-13T19:27:38.000000000",
          "2025-10-13T19:37:41.000000000",
          "2025-10-13T19:46:53.000000000",
          "2025-10-13T19:56:10.000000000",
          "2025-10-13T20:10:02.000000000",
          "2025-10-13T20:25:28.000000000",
          "2025-10-13T20:37:00.000000000",
          "2025-10-13T20:46:08.000000000",
          "2025-10-13T20:55:12.000000000",
          "2025-10-13T21:06:58.000000000",
          "2025-10-13T21:20:49.000000000",
          "2025-10-13T21:29:32.000000000",
          "2025-10-13T21:38:29.000000000",
          "2025-10-13T21:48:12.000000000",
          "2025-10-13T21:57:13.000000000",
          "2025-10-13T22:09:10.000000000",
          "2025-10-13T22:23:46.000000000",
          "2025-10-13T22:35:13.000000000",
          "2025-10-13T22:44:45.000000000",
          "2025-10-13T22:53:52.000000000",
          "2025-10-13T23:05:15.000000000",
          "2025-10-13T23:18:58.000000000",
          "2025-10-13T23:29:20.000000000",
          "2025-10-13T23:39:24.000000000",
          "2025-10-13T23:49:01.000000000",
          "2025-10-13T23:58:07.000000000",
          "2025-10-14T00:34:03.000000000",
          "2025-10-14T01:03:37.000000000",
          "2025-10-14T01:45:59.000000000",
          "2025-10-14T02:21:20.000000000",
          "2025-10-14T02:50:10.000000000",
          "2025-10-14T03:13:08.000000000",
          "2025-10-14T03:31:47.000000000",
          "2025-10-14T03:45:51.000000000",
          "2025-10-14T03:55:33.000000000",
          "2025-10-14T04:10:20.000000000",
          "2025-10-14T04:26:31.000000000",
          "2025-10-14T04:39:02.000000000",
          "2025-10-14T04:49:09.000000000",
          "2025-10-14T04:58:30.000000000",
          "2025-10-14T05:11:03.000000000",
          "2025-10-14T05:25:51.000000000",
          "2025-10-14T05:37:35.000000000",
          "2025-10-14T05:46:49.000000000",
          "2025-10-14T05:56:05.000000000",
          "2025-10-14T06:13:04.000000000",
          "2025-10-14T06:30:54.000000000",
          "2025-10-14T06:45:44.000000000",
          "2025-10-14T06:55:59.000000000",
          "2025-10-14T07:09:34.000000000",
          "2025-10-14T07:24:37.000000000",
          "2025-10-14T07:35:30.000000000",
          "2025-10-14T07:44:19.000000000",
          "2025-10-14T07:53:25.000000000",
          "2025-10-14T08:06:01.000000000",
          "2025-10-14T08:20:55.000000000",
          "2025-10-14T08:35:47.000000000",
          "2025-10-14T08:48:13.000000000",
          "2025-10-14T08:57:38.000000000",
          "2025-10-14T09:10:14.000000000",
          "2025-10-14T09:25:54.000000000",
          "2025-10-14T09:38:20.000000000",
          "2025-10-14T09:48:07.000000000",
          "2025-10-14T09:57:28.000000000",
          "2025-10-14T10:09:59.000000000",
          "2025-10-14T10:25:30.000000000",
          "2025-10-14T10:39:26.000000000",
          "2025-10-14T10:49:49.000000000",
          "2025-10-14T10:58:42.000000000",
          "2025-10-14T11:11:26.000000000",
          "2025-10-14T11:23:54.000000000",
          "2025-10-14T11:34:06.000000000",
          "2025-10-14T11:43:34.000000000",
          "2025-10-14T11:53:08.000000000",
          "2025-10-14T12:07:05.000000000",
          "2025-10-14T12:23:58.000000000",
          "2025-10-14T12:47:03.000000000",
          "2025-10-14T13:07:05.000000000",
          "2025-10-14T13:24:17.000000000",
          "2025-10-14T13:41:16.000000000",
          "2025-10-14T13:51:53.000000000",
          "2025-10-14T14:02:27.000000000",
          "2025-10-14T14:15:59.000000000",
          "2025-10-14T14:31:50.000000000",
          "2025-10-14T14:44:19.000000000",
          "2025-10-14T14:54:18.000000000",
          "2025-10-14T15:07:22.000000000",
          "2025-10-14T15:22:12.000000000",
          "2025-10-14T15:34:43.000000000",
          "2025-10-14T15:48:08.000000000",
          "2025-10-14T15:57:17.000000000",
          "2025-10-14T16:10:11.000000000",
          "2025-10-14T16:26:41.000000000",
          "2025-10-14T16:41:27.000000000",
          "2025-10-14T16:52:35.000000000",
          "2025-10-14T17:03:08.000000000",
          "2025-10-14T17:16:20.000000000",
          "2025-10-14T17:28:04.000000000",
          "2025-10-14T17:38:19.000000000",
          "2025-10-14T17:47:50.000000000",
          "2025-10-14T17:56:52.000000000",
          "2025-10-14T18:12:21.000000000",
          "2025-10-14T18:29:53.000000000",
          "2025-10-14T18:44:28.000000000",
          "2025-10-14T18:53:41.000000000",
          "2025-10-14T19:04:28.000000000",
          "2025-10-14T19:17:43.000000000",
          "2025-10-14T19:28:05.000000000",
          "2025-10-14T19:38:01.000000000",
          "2025-10-14T19:47:37.000000000",
          "2025-10-14T19:57:12.000000000",
          "2025-10-14T20:09:43.000000000",
          "2025-10-14T20:25:12.000000000",
          "2025-10-14T20:37:23.000000000",
          "2025-10-14T20:47:11.000000000",
          "2025-10-14T20:56:55.000000000",
          "2025-10-14T21:08:55.000000000",
          "2025-10-14T21:23:02.000000000",
          "2025-10-14T21:32:53.000000000",
          "2025-10-14T21:42:30.000000000",
          "2025-10-14T21:51:49.000000000",
          "2025-10-14T22:01:30.000000000",
          "2025-10-14T22:14:27.000000000",
          "2025-10-14T22:28:43.000000000",
          "2025-10-14T22:39:23.000000000",
          "2025-10-14T22:48:30.000000000",
          "2025-10-14T22:57:16.000000000",
          "2025-10-14T23:09:22.000000000",
          "2025-10-14T23:23:36.000000000",
          "2025-10-14T23:33:23.000000000",
          "2025-10-14T23:42:24.000000000",
          "2025-10-14T23:51:33.000000000",
          "2025-10-15T00:01:53.000000000",
          "2025-10-15T00:36:26.000000000",
          "2025-10-15T01:07:10.000000000",
          "2025-10-15T01:51:10.000000000",
          "2025-10-15T02:27:26.000000000",
          "2025-10-15T02:57:44.000000000",
          "2025-10-15T03:24:38.000000000",
          "2025-10-15T03:42:35.000000000",
          "2025-10-15T03:54:18.000000000",
          "2025-10-15T04:07:28.000000000",
          "2025-10-15T04:22:36.000000000",
          "2025-10-15T04:36:20.000000000",
          "2025-10-15T04:47:07.000000000",
          "2025-10-15T04:56:10.000000000",
          "2025-10-15T05:09:09.000000000",
          "2025-10-15T05:24:55.000000000",
          "2025-10-15T05:36:35.000000000",
          "2025-10-15T05:46:24.000000000",
          "2025-10-15T05:55:08.000000000",
          "2025-10-15T06:11:37.000000000",
          "2025-10-15T06:28:51.000000000",
          "2025-10-15T06:44:56.000000000",
          "2025-10-15T06:55:42.000000000",
          "2025-10-15T07:09:59.000000000",
          "2025-10-15T07:25:15.000000000",
          "2025-10-15T07:36:40.000000000",
          "2025-10-15T07:46:26.000000000",
          "2025-10-15T07:55:42.000000000",
          "2025-10-15T08:11:46.000000000",
          "2025-10-15T08:29:07.000000000",
          "2025-10-15T08:44:34.000000000",
          "2025-10-15T08:56:03.000000000",
          "2025-10-15T09:09:59.000000000",
          "2025-10-15T09:25:43.000000000",
          "2025-10-15T09:38:03.000000000",
          "2025-10-15T09:48:17.000000000",
          "2025-10-15T09:58:01.000000000",
          "2025-10-15T10:10:50.000000000",
          "2025-10-15T10:26:55.000000000",
          "2025-10-15T10:41:10.000000000",
          "2025-10-15T10:52:01.000000000",
          "2025-10-15T11:02:00.000000000",
          "2025-10-15T11:14:48.000000000",
          "2025-10-15T11:26:25.000000000",
          "2025-10-15T11:36:36.000000000",
          "2025-10-15T11:45:51.000000000",
          "2025-10-15T11:55:20.000000000",
          "2025-10-15T12:15:27.000000000",
          "2025-10-15T12:35:27.000000000",
          "2025-10-15T12:59:20.000000000",
          "2025-10-15T13:19:13.000000000",
          "2025-10-15T13:37:57.000000000",
          "2025-10-15T13:50:25.000000000",
          "2025-10-15T13:59:41.000000000",
          "2025-10-15T14:12:53.000000000",
          "2025-10-15T14:29:23.000000000",
          "2025-10-15T14:42:28.000000000",
          "2025-10-15T14:53:06.000000000",
          "2025-10-15T15:04:28.000000000",
          "2025-10-15T15:18:14.000000000",
          "2025-10-15T15:31:06.000000000",
          "2025-10-15T15:42:25.000000000",
          "2025-10-15T15:51:33.000000000",
          "2025-10-15T16:01:30.000000000",
          "2025-10-15T16:14:54.000000000",
          "2025-10-15T16:31:11.000000000",
          "2025-10-15T16:43:49.000000000",
          "2025-10-15T16:53:56.000000000",
          "2025-10-15T17:05:51.000000000",
          "2025-10-15T17:19:37.000000000",
          "2025-10-15T17:32:02.000000000",
          "2025-10-15T17:42:45.000000000",
          "2025-10-15T17:52:24.000000000",
          "2025-10-15T18:03:19.000000000",
          "2025-10-15T18:18:05.000000000",
          "2025-10-15T18:37:15.000000000",
          "2025-10-15T18:50:44.000000000",
          "2025-10-15T18:59:56.000000000",
          "2025-10-15T19:12:32.000000000",
          "2025-10-15T19:24:10.000000000",
          "2025-10-15T19:34:12.000000000",
          "2025-10-15T19:43:47.000000000",
          "2025-10-15T19:53:14.000000000",
          "2025-10-15T20:04:34.000000000",
          "2025-10-15T20:19:01.000000000",
          "2025-10-15T20:33:01.000000000",
          "2025-10-15T20:44:05.000000000",
          "2025-10-15T20:53:15.000000000",
          "2025-10-15T21:04:11.000000000",
          "2025-10-15T21:17:24.000000000",
          "2025-10-15T21:28:53.000000000",
          "2025-10-15T21:38:57.000000000",
          "2025-10-15T21:48:36.000000000",
          "2025-10-15T21:57:32.000000000",
          "2025-10-15T22:09:32.000000000",
          "2025-10-15T22:23:42.000000000",
          "2025-10-15T22:34:33.000000000",
          "2025-10-15T22:44:09.000000000",
          "2025-10-15T22:53:39.000000000",
          "2025-10-15T23:05:07.000000000",
          "2025-10-15T23:18:29.000000000",
          "2025-10-15T23:29:17.000000000",
          "2025-10-15T23:39:13.000000000",
          "2025-10-15T23:48:46.000000000",
          "2025-10-15T23:58:20.000000000",
          "2025-10-16T00:35:31.000000000",
          "2025-10-16T01:05:49.000000000",
          "2025-10-16T01:49:16.000000000",
          "2025-10-16T02:25:07.000000000",
          "2025-10-16T02:55:47.000000000",
          "2025-10-16T03:24:05.000000000",
          "2025-10-16T03:42:13.000000000",
          "2025-10-16T03:54:06.000000000",
          "2025-10-16T04:06:45.000000000",
          "2025-10-16T04:21:26.000000000",
          "2025-10-16T04:35:11.000000000",
          "2025-10-16T04:45:56.000000000",
          "2025-10-16T04:55:26.000000000",
          "2025-10-16T05:09:07.000000000",
          "2025-10-16T05:23:55.000000000",
          "2025-10-16T05:35:48.000000000",
          "2025-10-16T05:45:01.000000000",
          "2025-10-16T05:54:03.000000000",
          "2025-10-16T06:08:50.000000000",
          "2025-10-16T06:25:08.000000000",
          "2025-10-16T06:42:49.000000000",
          "2025-10-16T06:53:49.000000000",
          "2025-10-16T07:06:06.000000000",
          "2025-10-16T07:20:18.000000000",
          "2025-10-16T07:32:10.000000000",
          "2025-10-16T07:42:21.000000000",
          "2025-10-16T07:51:34.000000000",
          "2025-10-16T08:01:20.000000000",
          "2025-10-16T08:15:37.000000000",
          "2025-10-16T08:33:53.000000000",
          "2025-10-16T08:48:21.000000000",
          "2025-10-16T08:58:44.000000000",
          "2025-10-16T09:11:44.000000000",
          "2025-10-16T09:28:04.000000000",
          "2025-10-16T09:39:53.000000000",
          "2025-10-16T09:49:52.000000000",
          "2025-10-16T09:58:53.000000000",
          "2025-10-16T10:12:07.000000000",
          "2025-10-16T10:28:09.000000000",
          "2025-10-16T10:41:13.000000000",
          "2025-10-16T10:51:20.000000000"
         ],
         "y": [
          0.277479,
          0.277444,
          0.277501,
          0.277292,
          0.277334,
          0.277857,
          0.27792,
          0.277992,
          0.278156,
          0.278191,
          0.279285,
          0.279287,
          0.279565,
          0.279281,
          0.279116,
          0.279454,
          0.279544,
          0.27961,
          0.279774,
          0.279883,
          0.279851,
          0.2798,
          0.279788,
          0.279831,
          0.279917,
          0.280167,
          0.280116,
          0.280037,
          0.279958,
          0.279958,
          0.279937,
          0.280059,
          0.279887,
          0.279595,
          0.279547,
          0.279662,
          0.279639,
          0.279705,
          0.279601,
          0.279458,
          0.279388,
          0.279157,
          0.279548,
          0.279255,
          0.278836,
          0.278565,
          0.278311,
          0.277457,
          0.277101,
          0.2771,
          0.277203,
          0.276823,
          0.276308,
          0.275514,
          0.275441,
          0.274896,
          0.275551,
          0.275792,
          0.275101,
          0.274069,
          0.274199,
          0.27398,
          0.273041,
          0.271299,
          0.270531,
          0.270269,
          0.270903,
          0.27089,
          0.270295,
          0.269926,
          0.269499,
          0.269522,
          0.26993,
          0.269952,
          0.269883,
          0.270138,
          0.269791,
          0.270136,
          0.27006,
          0.269647,
          0.269258,
          0.268463,
          0.266939,
          0.267139,
          0.267507,
          0.269121,
          0.269006,
          0.268734,
          0.269553,
          0.269784,
          0.269293,
          0.268912,
          0.269017,
          0.268625,
          0.268184,
          0.267565,
          0.268026,
          0.268259,
          0.268324,
          0.269286,
          0.269395,
          0.26965,
          0.269035,
          0.268614,
          0.268992,
          0.269431,
          0.269868,
          0.270215,
          0.272335,
          0.272402,
          0.272946,
          0.272141,
          0.273679,
          0.273589,
          0.273019,
          0.272869,
          0.272899,
          0.273297,
          0.273244,
          0.272848,
          0.272817,
          0.272874,
          0.27301,
          0.273199,
          0.272756,
          0.271082,
          0.27162,
          0.271917,
          0.27204,
          0.27207,
          0.272375,
          0.272196,
          0.272198,
          0.271825,
          0.2723,
          0.272286,
          0.272382,
          0.272755,
          0.273198,
          0.273109,
          0.272669,
          0.27266,
          0.272722,
          0.273035,
          0.273255,
          0.273347,
          0.27331,
          0.273234,
          0.273157,
          0.27274,
          0.273201,
          0.272838,
          0.273918,
          0.273499,
          0.273282,
          0.273269,
          0.272484,
          0.272544,
          0.273125,
          0.273143,
          0.273184,
          0.273528,
          0.273744,
          0.273618,
          0.273294,
          0.273286,
          0.273321,
          0.273197,
          0.272997,
          0.273024,
          0.272828,
          0.273149,
          0.2731,
          0.272928,
          0.272897,
          0.27332,
          0.273519,
          0.274461,
          0.275343,
          0.275335,
          0.275442,
          0.275523,
          0.275693,
          0.275706,
          0.275578,
          0.27583,
          0.275808,
          0.275045,
          0.274718,
          0.274305,
          0.274139,
          0.273725,
          0.273793,
          0.274164,
          0.274066,
          0.273926,
          0.273291,
          0.273319,
          0.273117,
          0.273566,
          0.272864,
          0.272582,
          0.273117,
          0.273098,
          0.272421,
          0.271263,
          0.270619,
          0.270454,
          0.270273,
          0.26958,
          0.268528,
          0.268312,
          0.268456,
          0.26903,
          0.268696,
          0.270334,
          0.270174,
          0.270944,
          0.270984,
          0.271772,
          0.27215,
          0.272566,
          0.272304,
          0.272492,
          0.27253,
          0.27332,
          0.272766,
          0.273178,
          0.27301,
          0.272593,
          0.272754,
          0.272945,
          0.273137,
          0.272775,
          0.27267,
          0.273187,
          0.272889,
          0.272843,
          0.273042,
          0.273708,
          0.273828,
          0.27336,
          0.273648,
          0.273925,
          0.274088,
          0.274218,
          0.273819,
          0.273855,
          0.274146,
          0.274237,
          0.274094,
          0.274348,
          0.274243,
          0.274206,
          0.274514,
          0.274399,
          0.274596,
          0.274684,
          0.275356,
          0.27598,
          0.275771,
          0.275791,
          0.275912,
          0.275911,
          0.275771,
          0.275615,
          0.275169,
          0.275344,
          0.27532,
          0.275441,
          0.275134,
          0.275234,
          0.275244,
          0.276019,
          0.276568,
          0.276692,
          0.27633,
          0.276291,
          0.276471,
          0.276357,
          0.276137,
          0.276028,
          0.276019,
          0.27572,
          0.275861,
          0.27628,
          0.276213,
          0.275,
          0.275513,
          0.276375,
          0.276569,
          0.276927,
          0.27719,
          0.277295
         ]
        },
        {
         "line": {
          "color": "#F7931A",
          "width": 3
         },
         "marker": {
          "size": 4
         },
         "mode": "lines",
         "name": "bitcoin",
         "type": "scatter",
         "x": [
          "2025-10-13T16:11:15.000000000",
          "2025-10-13T16:27:35.000000000",
          "2025-10-13T16:41:58.000000000",
          "2025-10-13T16:52:48.000000000",
          "2025-10-13T17:03:09.000000000",
          "2025-10-13T17:16:37.000000000",
          "2025-10-13T17:29:07.000000000",
          "2025-10-13T17:39:52.000000000",
          "2025-10-13T17:49:26.000000000",
          "2025-10-13T17:58:30.000000000",
          "2025-10-13T18:12:11.000000000",
          "2025-10-13T18:29:11.000000000",
          "2025-10-13T18:43:41.000000000",
          "2025-10-13T18:53:47.000000000",
          "2025-10-13T19:05:04.000000000",
          "2025-10-13T19:18:05.000000000",
          "2025-10-13T19:27:38.000000000",
          "2025-10-13T19:37:41.000000000",
          "2025-10-13T19:46:53.000000000",
          "2025-10-13T19:56:10.000000000",
          "2025-10-13T20:10:02.000000000",
          "2025-10-13T20:25:28.000000000",
          "2025-10-13T20:37:00.000000000",
          "2025-10-13T20:46:08.000000000",
          "2025-10-13T20:55:12.000000000",
          "2025-10-13T21:06:58.000000000",
          "2025-10-13T21:20:49.000000000",
          "2025-10-13T21:29:32.000000000",
          "2025-10-13T21:38:29.000000000",
          "2025-10-13T21:48:12.000000000",
          "2025-10-13T21:57:13.000000000",
          "2025-10-13T22:09:10.000000000",
          "2025-10-13T22:23:46.000000000",
          "2025-10-13T22:35:13.000000000",
          "2025-10-13T22:44:45.000000000",
          "2025-10-13T22:53:52.000000000",
          "2025-10-13T23:05:15.000000000",
          "2025-10-13T23:18:58.000000000",
          "2025-10-13T23:29:20.000000000",
          "2025-10-13T23:39:24.000000000",
          "2025-10-13T23:49:01.000000000",
          "2025-10-13T23:58:07.000000000",
          "2025-10-14T00:34:03.000000000",
          "2025-10-14T01:03:37.000000000",
          "2025-10-14T01:45:59.000000000",
          "2025-10-14T02:21:20.000000000",
          "2025-10-14T02:50:10.000000000",
          "2025-10-14T03:13:08.000000000",
          "2025-10-14T03:31:47.000000000",
          "2025-10-14T03:45:51.000000000",
          "2025-10-14T03:55:33.000000000",
          "2025-10-14T04:10:20.000000000",
          "2025-10-14T04:26:31.000000000",
          "2025-10-14T04:39:02.000000000",
          "2025-10-14T04:49:09.000000000",
          "2025-10-14T04:58:30.000000000",
          "2025-10-14T05:11:03.000000000",
          "2025-10-14T05:25:51.000000000",
          "2025-10-14T05:37:35.000000000",
          "2025-10-14T05:46:49.000000000",
          "2025-10-14T05:56:05.000000000",
          "2025-10-14T06:13:04.000000000",
          "2025-10-14T06:30:54.000000000",
          "2025-10-14T06:45:44.000000000",
          "2025-10-14T06:55:59.000000000",
          "2025-10-14T07:09:34.000000000",
          "2025-10-14T07:24:37.000000000",
          "2025-10-14T07:35:30.000000000",
          "2025-10-14T07:44:19.000000000",
          "2025-10-14T07:53:25.000000000",
          "2025-10-14T08:06:01.000000000",
          "2025-10-14T08:20:55.000000000",
          "2025-10-14T08:35:47.000000000",
          "2025-10-14T08:48:13.000000000",
          "2025-10-14T08:57:38.000000000",
          "2025-10-14T09:10:14.000000000",
          "2025-10-14T09:25:54.000000000",
          "2025-10-14T09:38:20.000000000",
          "2025-10-14T09:48:07.000000000",
          "2025-10-14T09:57:28.000000000",
          "2025-10-14T10:09:59.000000000",
          "2025-10-14T10:25:30.000000000",
          "2025-10-14T10:39:26.000000000",
          "2025-10-14T10:49:49.000000000",
          "2025-10-14T10:58:42.000000000",
          "2025-10-14T11:11:26.000000000",
          "2025-10-14T11:23:54.000000000",
          "2025-10-14T11:34:06.000000000",
          "2025-10-14T11:43:34.000000000",
          "2025-10-14T11:53:08.000000000",
          "2025-10-14T12:07:05.000000000",
          "2025-10-14T12:23:58.000000000",
          "2025-10-14T12:47:03.000000000",
          "2025-10-14T13:07:05.000000000",
          "2025-10-14T13:24:17.000000000",
          "2025-10-14T13:41:16.000000000",
          "2025-10-14T13:51:53.000000000",
          "2025-10-14T14:02:27.000000000",
          "2025-10-14T14:15:59.000000000",
          "2025-10-14T14:31:50.000000000",
          "2025-10-14T14:44:19.000000000",
          "2025-10-14T14:54:18.000000000",
          "2025-10-14T15:07:22.000000000",
          "2025-10-14T15:22:12.000000000",
          "2025-10-14T15:34:43.000000000",
          "2025-10-14T15:48:08.000000000",
          "2025-10-14T15:57:17.000000000",
          "2025-10-14T16:10:11.000000000",
          "2025-10-14T16:26:41.000000000",
          "2025-10-14T16:41:27.000000000",
          "2025-10-14T16:52:35.000000000",
          "2025-10-14T17:03:08.000000000",
          "2025-10-14T17:16:20.000000000",
          "2025-10-14T17:28:04.000000000",
          "2025-10-14T17:38:19.000000000",
          "2025-10-14T17:47:50.000000000",
          "2025-10-14T17:56:52.000000000",
          "2025-10-14T18:12:21.000000000",
          "2025-10-14T18:29:53.000000000",
          "2025-10-14T18:44:28.000000000",
          "2025-10-14T18:53:41.000000000",
          "2025-10-14T19:04:28.000000000",
          "2025-10-14T19:17:43.000000000",
          "2025-10-14T19:28:05.000000000",
          "2025-10-14T19:38:01.000000000",
          "2025-10-14T19:47:37.000000000",
          "2025-10-14T19:57:12.000000000",
          "2025-10-14T20:09:43.000000000",
          "2025-10-14T20:25:12.000000000",
          "2025-10-14T20:37:23.000000000",
          "2025-10-14T20:47:11.000000000",
          "2025-10-14T20:56:55.000000000",
          "2025-10-14T21:08:55.000000000",
          "2025-10-14T21:23:02.000000000",
          "2025-10-14T21:32:53.000000000",
          "2025-10-14T21:42:30.000000000",
          "2025-10-14T21:51:49.000000000",
          "2025-10-14T22:01:30.000000000",
          "2025-10-14T22:14:27.000000000",
          "2025-10-14T22:28:43.000000000",
          "2025-10-14T22:39:23.000000000",
          "2025-10-14T22:48:30.000000000",
          "2025-10-14T22:57:16.000000000",
          "2025-10-14T23:09:22.000000000",
          "2025-10-14T23:23:36.000000000",
          "2025-10-14T23:33:23.000000000",
          "2025-10-14T23:42:24.000000000",
          "2025-10-14T23:51:33.000000000",
          "2025-10-15T00:01:53.000000000",
          "2025-10-15T00:36:26.000000000",
          "2025-10-15T01:07:10.000000000",
          "2025-10-15T01:51:10.000000000",
          "2025-10-15T02:27:26.000000000",
          "2025-10-15T02:57:44.000000000",
          "2025-10-15T03:24:38.000000000",
          "2025-10-15T03:42:35.000000000",
          "2025-10-15T03:54:18.000000000",
          "2025-10-15T04:07:28.000000000",
          "2025-10-15T04:22:36.000000000",
          "2025-10-15T04:36:20.000000000",
          "2025-10-15T04:47:07.000000000",
          "2025-10-15T04:56:10.000000000",
          "2025-10-15T05:09:09.000000000",
          "2025-10-15T05:24:55.000000000",
          "2025-10-15T05:36:35.000000000",
          "2025-10-15T05:46:24.000000000",
          "2025-10-15T05:55:08.000000000",
          "2025-10-15T06:11:37.000000000",
          "2025-10-15T06:28:51.000000000",
          "2025-10-15T06:44:56.000000000",
          "2025-10-15T06:55:42.000000000",
          "2025-10-15T07:09:59.000000000",
          "2025-10-15T07:25:15.000000000",
          "2025-10-15T07:36:40.000000000",
          "2025-10-15T07:46:26.000000000",
          "2025-10-15T07:55:42.000000000",
          "2025-10-15T08:11:46.000000000",
          "2025-10-15T08:29:07.000000000",
          "2025-10-15T08:44:34.000000000",
          "2025-10-15T08:56:03.000000000",
          "2025-10-15T09:09:59.000000000",
          "2025-10-15T09:25:43.000000000",
          "2025-10-15T09:38:03.000000000",
          "2025-10-15T09:48:17.000000000",
          "2025-10-15T09:58:01.000000000",
          "2025-10-15T10:10:50.000000000",
          "2025-10-15T10:26:55.000000000",
          "2025-10-15T10:41:10.000000000",
          "2025-10-15T10:52:01.000000000",
          "2025-10-15T11:02:00.000000000",
          "2025-10-15T11:14:48.000000000",
          "2025-10-15T11:26:25.000000000",
          "2025-10-15T11:36:36.000000000",
          "2025-10-15T11:45:51.000000000",
          "2025-10-15T11:55:20.000000000",
          "2025-10-15T12:15:27.000000000",
          "2025-10-15T12:35:27.000000000",
          "2025-10-15T12:59:20.000000000",
          "2025-10-15T13:19:13.000000000",
          "2025-10-15T13:37:57.000000000",
          "2025-10-15T13:50:25.000000000",
          "2025-10-15T13:59:41.000000000",
          "2025-10-15T14:12:53.000000000",
          "2025-10-15T14:29:23.000000000",
          "2025-10-15T14:42:28.000000000",
          "2025-10-15T14:53:06.000000000",
          "2025-10-15T15:04:28.000000000",
          "2025-10-15T15:18:14.000000000",
          "2025-10-15T15:31:06.000000000",
          "2025-10-15T15:42:25.000000000",
          "2025-10-15T15:51:33.000000000",
          "2025-10-15T16:01:30.000000000",
          "2025-10-15T16:14:54.000000000",
          "2025-10-15T16:31:11.000000000",
          "2025-10-15T16:43:49.000000000",
          "2025-10-15T16:53:56.000000000",
          "2025-10-15T17:05:51.000000000",
          "2025-10-15T17:19:37.000000000",
          "2025-10-15T17:32:02.000000000",
          "2025-10-15T17:42:45.000000000",
          "2025-10-15T17:52:24.000000000",
          "2025-10-15T18:03:19.000000000",
          "2025-10-15T18:18:05.000000000",
          "2025-10-15T18:37:15.000000000",
          "2025-10-15T18:50:44.000000000",
          "2025-10-15T18:59:56.000000000",
          "2025-10-15T19:12:32.000000000",
          "2025-10-15T19:24:10.000000000",
          "2025-10-15T19:34:12.000000000",
          "2025-10-15T19:43:47.000000000",
          "2025-10-15T19:53:14.000000000",
          "2025-10-15T20:04:34.000000000",
          "2025-10-15T20:19:01.000000000",
          "2025-10-15T20:33:01.000000000",
          "2025-10-15T20:44:05.000000000",
          "2025-10-15T20:53:15.000000000",
          "2025-10-15T21:04:11.000000000",
          "2025-10-15T21:17:24.000000000",
          "2025-10-15T21:28:53.000000000",
          "2025-10-15T21:38:57.000000000",
          "2025-10-15T21:48:36.000000000",
          "2025-10-15T21:57:32.000000000",
          "2025-10-15T22:09:32.000000000",
          "2025-10-15T22:23:42.000000000",
          "2025-10-15T22:34:33.000000000",
          "2025-10-15T22:44:09.000000000",
          "2025-10-15T22:53:39.000000000",
          "2025-10-15T23:05:07.000000000",
          "2025-10-15T23:18:29.000000000",
          "2025-10-15T23:29:17.000000000",
          "2025-10-15T23:39:13.000000000",
          "2025-10-15T23:48:46.000000000",
          "2025-10-15T23:58:20.000000000",
          "2025-10-16T00:35:31.000000000",
          "2025-10-16T01:05:49.000000000",
          "2025-10-16T01:49:16.000000000",
          "2025-10-16T02:25:07.000000000",
          "2025-10-16T02:55:47.000000000",
          "2025-10-16T03:24:05.000000000",
          "2025-10-16T03:42:13.000000000",
          "2025-10-16T03:54:06.000000000",
          "2025-10-16T04:06:45.000000000",
          "2025-10-16T04:21:26.000000000",
          "2025-10-16T04:35:11.000000000",
          "2025-10-16T04:45:56.000000000",
          "2025-10-16T04:55:26.000000000",
          "2025-10-16T05:09:07.000000000",
          "2025-10-16T05:23:55.000000000",
          "2025-10-16T05:35:48.000000000",
          "2025-10-16T05:45:01.000000000",
          "2025-10-16T05:54:03.000000000",
          "2025-10-16T06:08:50.000000000",
          "2025-10-16T06:25:08.000000000",
          "2025-10-16T06:42:49.000000000",
          "2025-10-16T06:53:49.000000000",
          "2025-10-16T07:06:06.000000000",
          "2025-10-16T07:20:18.000000000",
          "2025-10-16T07:32:10.000000000",
          "2025-10-16T07:42:21.000000000",
          "2025-10-16T07:51:34.000000000",
          "2025-10-16T08:01:20.000000000",
          "2025-10-16T08:15:37.000000000",
          "2025-10-16T08:33:53.000000000",
          "2025-10-16T08:48:21.000000000",
          "2025-10-16T08:58:44.000000000",
          "2025-10-16T09:11:44.000000000",
          "2025-10-16T09:28:04.000000000",
          "2025-10-16T09:39:53.000000000",
          "2025-10-16T09:49:52.000000000",
          "2025-10-16T09:58:53.000000000",
          "2025-10-16T10:12:07.000000000",
          "2025-10-16T10:28:09.000000000",
          "2025-10-16T10:41:13.000000000",
          "2025-10-16T10:51:20.000000000"
         ],
         "y": [
          99400,
          99110,
          98994,
          99031,
          99128,
          99083,
          99021,
          99088,
          98911,
          98895,
          99247,
          99649,
          99562,
          99536,
          99580,
          99774,
          99909,
          99924,
          100048,
          100202,
          100189,
          100010,
          99885,
          99906,
          100000,
          100036,
          100097,
          100070,
          100032,
          100005,
          100041,
          100135,
          100060,
          99923,
          99936,
          99954,
          99889,
          99854,
          99864,
          99788,
          99546,
          99635,
          99878,
          99511,
          99049,
          98569,
          98404,
          98133,
          98020,
          98094,
          98196,
          97952,
          98038,
          97866,
          97640,
          97545,
          97845,
          97951,
          97301,
          97199,
          97248,
          97268,
          97125,
          96837,
          96904,
          96699,
          96868,
          96910,
          96699,
          96731,
          96667,
          96746,
          96935,
          96927,
          96825,
          96921,
          96712,
          96717,
          96488,
          96323,
          96250,
          95830,
          95384,
          95539,
          95839,
          96379,
          96563,
          96571,
          96486,
          96596,
          96245,
          96112,
          96072,
          95975,
          95526,
          95360,
          95814,
          95961,
          96481,
          96516,
          96560,
          96340,
          96345,
          95981,
          96335,
          96834,
          97129,
          96854,
          97147,
          96859,
          97217,
          96426,
          97228,
          97144,
          96963,
          97153,
          97155,
          97516,
          97615,
          97265,
          97294,
          97357,
          97649,
          97738,
          97644,
          96881,
          97087,
          97049,
          97257,
          97235,
          97360,
          97348,
          97253,
          97227,
          97361,
          97300,
          97420,
          97548,
          97812,
          97609,
          97459,
          97357,
          97597,
          97780,
          97783,
          97793,
          97734,
          97660,
          97444,
          97127,
          97056,
          96954,
          97454,
          97178,
          96575,
          96452,
          96449,
          96300,
          96667,
          96570,
          96607,
          96758,
          96774,
          96764,
          96775,
          96846,
          96778,
          96641,
          96460,
          96672,
          96629,
          96597,
          96729,
          96608,
          96644,
          96733,
          96930,
          97182,
          97359,
          97188,
          97188,
          96889,
          96809,
          96911,
          96734,
          96782,
          96792,
          96743,
          96677,
          96709,
          96703,
          96414,
          96415,
          96468,
          96379,
          96434,
          96061,
          96205,
          96087,
          96359,
          95477,
          95866,
          96494,
          96354,
          96006,
          95642,
          95460,
          95303,
          95627,
          95337,
          95023,
          95241,
          95362,
          95424,
          95214,
          95188,
          95128,
          94959,
          94967,
          95170,
          95455,
          95505,
          95545,
          95508,
          95653,
          95882,
          95586,
          95819,
          95855,
          95660,
          95549,
          95741,
          95769,
          95289,
          95510,
          95593,
          95395,
          95123,
          95173,
          95690,
          95423,
          95124,
          95270,
          95550,
          95490,
          95530,
          95135,
          95075,
          95246,
          95216,
          95217,
          95255,
          95096,
          94854,
          94948,
          95127,
          95469,
          95615,
          95842,
          95708,
          95610,
          95615,
          95743,
          95718,
          95280,
          95300,
          95257,
          95349,
          95454,
          95563,
          95110,
          95360,
          95245,
          95555,
          95747,
          95787,
          95550,
          95160,
          95180,
          95144,
          94940,
          94918,
          94925,
          95028,
          95112,
          95149,
          95069,
          94187,
          95552,
          95382,
          95324,
          95549,
          95575,
          95747
         ]
        },
        {
         "hoverinfo": "skip",
         "line": {
          "color": "white",
          "dash": "dash",
          "width": 1
         },
         "mode": "lines",
         "showlegend": false,
         "type": "scatter",
         "x": [
          "2025-10-15T00:00:00+00:00",
          "2025-10-15T00:00:00+00:00"
         ],
         "y": [
          105212.0917488,
          0.176221
         ]
        },
        {
         "hoverinfo": "text",
         "hovertext": "dogecoin: $0.18<br>Bitcoin ( BTC ) Price News : Bounce on Powell Remark ; K33 Sees Constructive Setup Post - Crash",
         "marker": {
          "color": "#C2A633",
          "line": {
           "color": "white",
           "width": 2
          },
          "size": 8
         },
         "mode": "markers",
         "showlegend": false,
         "type": "scatter",
         "x": [
          "2025-10-15T00:00:00+00:00"
         ],
         "y": [
          0.176221
         ]
        },
        {
         "hoverinfo": "skip",
         "line": {
          "color": "white",
          "dash": "dash",
          "width": 1
         },
         "mode": "lines",
         "showlegend": false,
         "type": "scatter",
         "x": [
          "2025-10-15T00:00:00+00:00",
          "2025-10-15T00:00:00+00:00"
         ],
         "y": [
          105212.0917488,
          0.273157
         ]
        },
        {
         "hoverinfo": "text",
         "hovertext": "tron: $0.27<br>Bitcoin ( BTC ) Price News : Bounce on Powell Remark ; K33 Sees Constructive Setup Post - Crash",
         "marker": {
          "color": "#FF060A",
          "line": {
           "color": "white",
           "width": 2
          },
          "size": 8
         },
         "mode": "markers",
         "showlegend": false,
         "type": "scatter",
         "x": [
          "2025-10-15T00:00:00+00:00"
         ],
         "y": [
          0.273157
         ]
        },
        {
         "hoverinfo": "skip",
         "line": {
          "color": "white",
          "dash": "dash",
          "width": 1
         },
         "mode": "lines",
         "showlegend": false,
         "type": "scatter",
         "x": [
          "2025-10-15T00:00:00+00:00",
          "2025-10-15T00:00:00+00:00"
         ],
         "y": [
          105212.0917488,
          97444
         ]
        },
        {
         "hoverinfo": "text",
         "hovertext": "bitcoin: $97444.00<br>Bitcoin ( BTC ) Price News : Bounce on Powell Remark ; K33 Sees Constructive Setup Post - Crash",
         "marker": {
          "color": "#F7931A",
          "line": {
           "color": "white",
           "width": 2
          },
          "size": 8
         },
         "mode": "markers",
         "showlegend": false,
         "type": "scatter",
         "x": [
          "2025-10-15T00:00:00+00:00"
         ],
         "y": [
          97444
         ]
        },
        {
         "hoverinfo": "skip",
         "line": {
          "color": "white",
          "dash": "dash",
          "width": 1
         },
         "mode": "lines",
         "showlegend": false,
         "type": "scatter",
         "x": [
          "2025-10-14T19:15:00+00:00",
          "2025-10-14T19:15:00+00:00"
         ],
         "y": [
          105212.0917488,
          0.176237
         ]
        },
        {
         "hoverinfo": "text",
         "hovertext": "dogecoin: $0.18<br>U . S . Targets Cambodian Pig Butchering , Takes $14B in Bitcoin as Biggest Ever Seizure",
         "marker": {
          "color": "#C2A633",
          "line": {
           "color": "white",
           "width": 2
          },
          "size": 8
         },
         "mode": "markers",
         "showlegend": false,
         "type": "scatter",
         "x": [
          "2025-10-14T19:15:00+00:00"
         ],
         "y": [
          0.176237
         ]
        },
        {
         "hoverinfo": "skip",
         "line": {
          "color": "white",
          "dash": "dash",
          "width": 1
         },
         "mode": "lines",
         "showlegend": false,
         "type": "scatter",
         "x": [
          "2025-10-14T19:15:00+00:00",
          "2025-10-14T19:15:00+00:00"
         ],
         "y": [
          105212.0917488,
          0.27301
         ]
        },
        {
         "hoverinfo": "text",
         "hovertext": "tron: $0.27<br>U . S . Targets Cambodian Pig Butchering , Takes $14B in Bitcoin as Biggest Ever Seizure",
         "marker": {
          "color": "#FF060A",
          "line": {
           "color": "white",
           "width": 2
          },
          "size": 8
         },
         "mode": "markers",
         "showlegend": false,
         "type": "scatter",
         "x": [
          "2025-10-14T19:15:00+00:00"
         ],
         "y": [
          0.27301
         ]
        },
        {
         "hoverinfo": "skip",
         "line": {
          "color": "white",
          "dash": "dash",
          "width": 1
         },
         "mode": "lines",
         "showlegend": false,
         "type": "scatter",
         "x": [
          "2025-10-14T19:15:00+00:00",
          "2025-10-14T19:15:00+00:00"
         ],
         "y": [
          105212.0917488,
          97649
         ]
        },
        {
         "hoverinfo": "text",
         "hovertext": "bitcoin: $97649.00<br>U . S . Targets Cambodian Pig Butchering , Takes $14B in Bitcoin as Biggest Ever Seizure",
         "marker": {
          "color": "#F7931A",
          "line": {
           "color": "white",
           "width": 2
          },
          "size": 8
         },
         "mode": "markers",
         "showlegend": false,
         "type": "scatter",
         "x": [
          "2025-10-14T19:15:00+00:00"
         ],
         "y": [
          97649
         ]
        },
        {
         "hoverinfo": "text",
         "hovertext": [
          "Bitcoin ( BTC ) Price News : Bounce on Powell Remark ; K33 Sees Constructive Setup Post - Crash",
          "U . S . Targets Cambodian Pig Butchering , Takes $14B in Bitcoin as Biggest Ever Seizure"
         ],
         "marker": {
          "color": "rgba(0,0,0,0)",
          "opacity": 0,
          "size": 50
         },
         "mode": "markers",
         "name": "News Events",
         "showlegend": false,
         "type": "scatter",
         "x": [
          "2025-10-15T00:00:00.000000000",
          "2025-10-14T19:15:00.000000000"
         ],
         "y": [
          105212.0917488,
          105212.0917488
         ]
        }
       ],
       "layout": {
        "height": 600,
        "hovermode": "closest",
        "images": [
         {
          "layer": "above",
          "sizex": 120002328.57349999,
          "sizey": 10020.183497600001,
          "source": "data:image/jpeg;base64,iVBORw0KGgoAAAANSUhEUgAAArEAAAGJCAYAAACdG2twAAAAIGNIUk0AAHomAACAhAAA+gAAAIDoAAB1MAAA6mAAADqYAAAXcJy6UTwAAAAGYktHRAD/AP8A/6C9p5MAAAAHdElNRQfpChIJKQwPHo8QAACAAElEQVR42uz9aa8sWZqdiT17sMHdz3DniMiMrMxkVVapsjg0SYHsbhJotYQWpP7QkEAI0N/hf9AfkD7oqyBRFNBqkCVIZHHqIquSXXPlnBFxI+54zvHBzPakD+/eZuZ+zo2ITGYMlWHrwq8fd7fZzd2Xrb3e9cKCBQsWfAWQUjJf9DYsWLBgwYJfHtQXvQELFixY8FngDaRVAWn2OAIWMIDOr+vZtMymT3n6CAQgKKXiF72fCxYsWPBVxUJiFyxY8CuFE/J6+h23QkioAhrgPN/m06o8DfneIyRXIeTVAHV+fg/sgNfAsJDaBQsWLPj8sJDYBQsW/MpgRmDLd9tq9nKNENZHTGR0BQxA9wmL1ieP18A9YJPXdQ28D2wRUutm8xTltqi4A+CUUulNK0spVXn+4eOmW7BgwYKvMhYSu2DBgl8qUkoKUJ+3KnlCYAt5fQA8nk22AiqEZL4Jc1JbiOgpaZ2jBf4acECIbM9Eal/MlqMR4mzyOm7ytANiVZgTZZ23/fnpti2kdsGCBQsEC4ldsGDBfxIKaZ09VRTOA6JAAvBZk9pMYguBnZPXi08x+12kdkD8svc4Jq+FtH4SCql9H/iIu9XehonInm5DxaTgFhRSu5DZBQsWfOWxkNgFCxb8QpiR10Ja51CIetkj3lGYkdpPS2hTSrpMm1IqhVfjy/leI2Sz2AXuI8R1hRDOjuNiro/DKZG8YCKwn5a8nuKUzH7Sthxmx8wgZLYQ4EJqn7MQ2QULFnzFsZDYBQsWfCwyWS3D4eXvCiGNxbsJt8nZBjhDVMZX+bkhz9MDV2XCE6JaYBAVdEAKqB4gBM4gZK7O6ygFWkWBvYeQ0aJwniqgmkndLPP9ePa6Ay7z3+u8jsgvRmAL5kR2h3hnPwmGY1vDnPjvEEK8ENkFCxZ8ZbGQ2AULFhwhk1bLscJ5xlShX+XnC6G0TMPhZyeLqxEFsxQ/JYSAFt9oQY8Qu3uz5zSihJ4jyuQ6r4+87hXw8GSeN6GQ2sRt1fgbCPndAU+5m2B+65dwaA/AMybyHoC/nL3+aXJsh9nfEfhJvndKqfAp5v9EpJQapVT/y1jWggULFnyWWEjsggVfcfwcpJX82N6xmPJdMietczRIKkBCSFyXb9v8XI+orSumyKuaqRDqPD/u8naWQqufF56JtM5hga/n/S4WiGfA9/I2fuuXcKgLiT3FS+CHnzDvKm/fcyTOKzDl1j7Px2VOcD81qU0pNSfH4V3gR/Np5qQ2ny8sCvCCBQu+aCwkdsGCryByEVQJ+C/Es2JSVus86Tz4375hcYrb5LWQ1jk04lfd58dtfs4jpMwxWRJKLNXApMg+QshaUVWrPG+p7K+ZIqzKdhVPaYwxPtBaF/I6J62neJi3v6QHlDzYsu4uz18hQ/qvf45D/yYiC/D92bIKaf0kPM+3j06en5PaBPhTUpvJayGtc9QcE2KYSO2AXFA0SPLCSGQXUrtgwYLPGwuJXbDgK4RMXmumqCmYOlbNySv8YgR2Tl4LaZ3jAiGOa8R3ej9vi0YIUdmWojI6hMzaPI9m8rkWj+4+T1MUxUKKyzbUed8j4iElbwMpJSA9TCnPm1JhZY1SqsnHSCFk1gFJKWpQZ/K32jMVYpVCN4eQ0es8X494gl/n7d7lbauZLBgb4E8RQlrel58HzxFyfH82f8h/rxA1+WeI6rvjmLzO3/NH3I71gonUvszvYeS27eJFPiYLmV2wYMHngoXELljwFUAumCrV+vPh42IZ+EUILHlZpwS2kNeaqbq/RYb/7yNkdJX/3jAVh5WisUKCLMdtYuffV2H22DH5c4vnNs1eN/kYKAVDgi6lREpJa2G05dYCJpGigpRAK1TJdoUpMQBIKsEqxojWGqU0mRzPW9Sm2fYM+dYjZO8jxH/7Mk9/ltd/xZSQ8MeIGvwmPMjH72dMpL8Uv4W8ved5uQ74kKlQbJu341Qt/xYnVgKOSW0pzDucTDMntS+WzmULFiz4PLCQ2AULfoVxB3k9LR66i8DC3ST2PP99iRDREl11DnwX+BqTf7ZGCFKZp+S3luKsoggX8lq+i0pXKzN7LZ1MM992uJ2KkDghvqK45n3K8iugUopKKV1mmns9i7JqmFIBctvZlEhJpxgNKalESigVUiJqY7VSsu6U0Eqh82IL6S52h04pdUpqS0TYNsb4EaReKb1WSpXmDK+YFGefj/WrvMw9U8HYp1FCC6k9/xTT/ijfFzKrmeX/ZhRSW8jsQmQXLFjwmWMhsQsW/ArhpPGAZlLiPs4OUEinRZQ8jwyF3+OYtBZYbpPWX0dIq4VUpUSllCqFWXNCrLndwvWzPibjykWBjSilhcWq6Stw/vfpvPNppucSKUaid0Q/EEKkblcoY1FKw+3lxTIfCZVfT5nsxXGhoLL1IQFaKTUn9IXUF7XVMam87wH/E0JO93w6r65j8ih/En7EpByfopDaAwuRXbBgweeEhcQuWPBXHLlApxDGUnBU8AR4ByErzzkmIZfcrtIv0Ezk1eRl/BpCVJ8AbyN2gKLwNnkeNSd+dxHDz/G4zB9Rvu5SSkVyPd7GNGqx0zTcIfOmRIoBlZep9HEPhkRCxNk7iezpwo7I9HS8EjGmPLv6tMfRM0WddYjC+zPgLziO8jrFL4vIgpDZQmR/vJDYBQsWfJZYSOyCBV8ipJQqRJ3zd7xWKu0TE2mtESK6ZiqKujyZ9a08XSnqASEuDiGf9xDv6kOkVesDJoK7YVJ0H+Tp500O7vwOuUvBnL3KL/LVMyeWslD570hpBUgxTx/z8wqxts4dBmmaT5ujRZ4acBOJFEImpJlQKjWuQ83nHs0PKrsOEokkvtlCoqeX79rLk2OThFurT01k55iT2gPy/r+J1P48RPbff8Lrgamhw6LGLliw4DPDQmIXLPgCkUnrHA8R8nHF3STxEVN1fyGtZZqLfF9I6xyr2XxFfV0jiuqGKS3gAiGqZdmmWBRUtgEUmvXJxsuUmZqQvtN5isr4Mcfm0xzBvJqEIhGDRxXip7NrYU4gJztsnicSY0Lb6paimmcguD6/bo7U2RQDBAemntZV9i3vYNmH6AbQCm2qI5PvkVKbp03MyHH262Ym+4sq26VVbbEeBMRL+xPgdxGy+ctUY8nLXNTYBQsWfKZYSOyCBV8AMnmtERW0xF1dINmgN8hQcGmrWjpieYSg/nVEMe2APwQ+QAjnnLyektYns3U9QZTVEj9V/LAa0GOYPW8iqun2Q3X3ZJO1E0oBVX4AI7V8wzGaFjJ7Is1em70+I4CKrK6OhG+mvKYEKU5kNiaiH0jRo7QRsmprUJoUJCRA58enWxedQ2mFMrcTsU4V3QRE15NSRNv6SP39hBNlijtIEf0x830CwZ0nJRQ4pA1uIbOvgH3fH2iaFZ+A7zNrG3wHihq7kNgFCxZ8ZlhI7IIFnyFSSucIOdVIsdQZQiRLpf4nBdprJtI6xxmS8/kzpmijEsL/mMmvWvMJpJUTH+sb9iTfH+mIn/IgRFL0pCAOCaVtHpLX+cYdy0sTaU2RFIV4Kq2n8Xhuk1vyciefq/yXZmQ3zedLiRQGkusJ7kAMkYSCBLquqdaXsk6lR+KplMoFXQPKVmhzWjOnbj0aiWgMxODFXmA+ZRxssSXEgA+BumnvnOxTqrTp5L4Uh/0U+NO+7/7d7vWr9x+89c5d81aAizESY/yhtTby8UT2moXELliw4DPEQmIXLPgl4oS0FmgmNXSNKFRnn7CoU/JaSOspzpnC/kshVgnPLyjduOA4peBTkNePxy3iVAqVONFrUyAOB1LwIxkcldHsMRWlNi+vENviLY2RGBxKaxQapbWovEqhUPL3uKxy6FMZ9z9OIijrUioLuYEUA2HocYdrhv2W6CPGVhhrwViUrVDaYpTK9gQhpLqqs9XAzg+K2AbMpAarsi/I9sSR0JuJ0H/M8U35GEDC+4AxBm3MrWk/7v28g+SmsuzswfYpxq1zw/frpv33iMo/xwVw3R8OKJWwdYvW+vvc3RwBhMQuvtgFCxZ8ZlhI7IIFvwSckNdT0nqKT/rczQnsKXk9P5nuLtJaM6UFzOOt5tv7c+3fnEydPleePyauaVQQ5T4QXUd0Ayk6Ugwk70jek1KQZaWxwwBJa7TSKJWIyYBWouQmhTYKpStQUdoS6EQMCoUHDKiExONGSCWaNQu4WoG2aK1zr1pFTAmFIkZH6Aec6wl9TyRiENKaTI62TUkIeQxobTBaYaqKFBQheaq6xmhLSAqMwdrsl9VaCLHSo61CSLgmBk+KkardoIxBZ2+u0ndF48qexBBlG4wZlxczyS1BtWpmo1CnCjXHpDellERhDgmlvdb6CrEM/Hvgh2WeGCPe9WgN2jRora/zS3eR2eKL/dHSxWvBggWfBRYSu2DBfyJmBLbkrL6JvMInf+Ya4LcQAvsWU9vWQl41UvwF4oPdcExayzRvXM8nEdjjyKk71L35kHyJOx3Jah76j4EYHGHoSckT/EDyA9EPEKMQrOhISZavtdynAFprtDbynC6v65zxCpCEvMH4OMQ0Rl4lEjEyPh59tBpUUihjUCn33EoKeQAxREgRHyMxBGJK6KRBgzE1oSwqJbwfhHwn8fpqrdBaEyOEGDGmwhhDjAkXPZXJiitKlOi6pm5abL0CFEN/IMZIVdfYukUphbY2Hwd9i4CmlHDdgZQSpqrQxogVIvpRgFZZxR7JrjYYY99MjlMkBIexTZo1fHgO/I/A/w9g6PtV9N3BBcX5xcV87mtuE9kAPFNKffjJn6IFCxYs+PmxkNgFC35B5G5YGz49gYXbn7nSArbNy/oa8Jv5camuKX7WOXmtEAV2rrjeHi9OabKPfsJw8x17yEgCS5FWKYhKkZiKPzTgux3dfkttZBOC9/ihww0HtNJEPJDQKIwxQvK0QXL8BTGKH7UMwGutUEbPVOBAysqqzBfzbkdSUgjvyo9zcyyVG26NauSIab7pOMnxiTESPYTkUElsBy4GmSaJdSEGh/OO4DwxRrq+p64qQhIye35+SWUtgYQxBt8PefsUQUmGrK1rrKnBWlKEEALOO2JMrDbnVHWFGwYUClvnej2lIclFQMjFaCrbI9r1ZlRmJ+tE/i/bPFLeD2MMKdsw9CzP1vUHTFWji80BAintUPwpqP9nDL52/WHQVUNVjQEYpVvXXUT2z5VSpy1qTz9DRinlWLBgwYKfE/Y/fRELFny1kH94S1OBEkf18xLYQl7XwDeYUgMechyP9UkE1vKGi9FpqHh84vYGzYlt6WYFMI+MygRWRvwVxEhwAyl4Ygz4/oByB5Tr2DsnJEklrLHUdcW+62jWDUkptLaZxFqMLlGzTGSSY6VYa52Jsj8mqaNNQN95f5vkpnF/y/pSCoAovFU1FVmllCCATx6DIek7LBQh4r0nREeMETcEvBefqzGGpA3OexQa21istdkmMNu/EpkVA0oZfAw0thI+GQPdrmcYBtarNdcvn2OMoa5rQgj0/YAxGqsNfT+gjGZfN1R1Q9W0VE2LqeykvOaIM1WK0PLFyOQnlm0xtsp9eiNJ3hsDXJD4G5DalNL3UOpDa6s3EdN3EFK7QxI1jrywhbSefCbWKaXdfLqF1C5YsODTYFFiFyz4OZB/hEu6QInAKg0B3uF2Pusc5fPWcExeLxEFltn8VZ6m4pjAluisOi/v44uzchGRUnkYW+m7O1GNDQIm9TXFQImhSsHhh44UBmIYiH0PKtFYy+B6/OCo24bD4cBqtcIoTdd1bDYbsaVaOxJUpSYFNsWpU5VSk31gTjqVUqTgRkILWbUd91vI6ul8ZX+Kynrq6y2vpZREES17PnteKZWtDOFoewo0kQhYZencgE6QtJFlWovRlmEYsNaijMIoQ8zZtNnOS0iTZQLAx0AIopYCOCd8rht6UogcDodx+mEY2KzWQqhDoKoqwuAJMdCsVpiqZn1+QdW2NKtVLgabjnma20CAFDzaVuVkP05kSCmkGF/EFJ9aW32PSXEtXbqGfP8f8vMH4AdIdJdjyjQ+vdCr8utz7PJ6FzK7YMGCN2IhsQsWfEp8DIFVfLIKS57u4wjs4xkJs4jKuiJbDVJKI3nNpELNo6iOi66KTTWO+aTGViidQ/3Hqv+Qb5EUHDG4fO9J0eWFKHneB1keCZ0rsIzSMuSfAK3u7CwVFTKsrycVdNrO4+njyXMjmUxJ1kG85Q1FRaypj8jpBCG+MWYin8nzMQlmtC0ozNG6y3QxiRI8V3KBcb+trqRQTKk8TJ+OtrEQdIOR2rN8PMSWq6f1xCg2XcwRmU4p4WLA9wPe+/EWoiOFOBJg2bnE4BzBB5QW+0bb1NRty8XDJ6zOLm41Z8hbSvAuWwl0PraM9oQZsQ9KqaeIV/ajPPMOIbNXSCFYIa4B+BOE8JbPx2m2WJHR5yjkdbcQ2QULFrwJC4ldsOBTIqW04W4Cq/hkFZY83X1uE9jHefkNKdWJpHPFuUYI7MVsvWpigbPK83Hxx39KnmkvBVbRo1KQIqsEMQSC2xOjkNkYPQowWfHUs+gnW7JdM1G93VY2K6snBHMk5bMs1VN1VJYnSmdUt1VUQsTqKq/nRHVWcwU5k8NxmxRzElu2806lN693TmLH5apICOFo3aUgbSqCKyrxRMCPlqPMMWHXaty+Mm1KiThm2OqjbUhaEaNsR4yR5OXeh0FSCWI6IvF+cPR9Tz8MotBqg600VdVw8egRlw8e5aYL03omFTqOin1KgYSaNVlIZR8D8AxRWp8DpXjrGnjK1Na2tDf+M6aOYHcx6Is8b0Gczb8Q2QULFtyJhcQuWPAG5K5aUSkV7lBhSzesT0tiVZ73HHg7pfQoxfhrMYbHWqsmhNBE75Um1rZuHqBMnXIBFaLd1aB0ip7Qb0muB2XQ7ZmQkVlxjlgBckKAHxgO1/jDjXSgShB9T/Quh/onotJoFMoorK0xVnyrhZTB5E29RTAzdM5JvSsMNKU0ktjT+ebqpjw+JpA5WB+jCgmOR9vASfxoIbHTtupxPlnvse2g7Fck3Uli5WiGPH18o5J7aouYk1kATGkfO5FW2YDp+Jbtmy8nqZKne8z7yrEppLZsj0oTIR6GgcPhgHc9fd9LtqxKuBDZbDa06zUXDx9TNas7GjZMrXxDkP23UyFX2f7SAeyAdJj7M4TQvgL+I5NKC9KI48/JNgGmFslzNEA/e3zN1C53m7NsFyxYsGDEQmIXLMjIpHUOhZBVh/yYlqH9s3w/l0DvJLHB9SuV0n20fowy65QifuiVVrxjbPXriXSRx2wbUnwA1NrWgCpFW0d+1TAc8IcrfH9gd/2S1fkDbLsZM1ljcATXEf1AjJ4UgtxSRCUZ7lYqb7i2OQFASCtKYYzNEVdTwdWY48rxEHshWjJtIYPHdoDRw8ptmwHllTuenw9fp5REos3TH3lacxfVsr23ldRCEguBPspGnbbTHM8/X7+8cNvGML9p9eauXSmlkcTeIrv6VLXVd74eA7eO6fy9gIlYa60xShNJBCdeWW1gu90SnGcYOrq+x2hD07as1yvqzTnr83toY0frSYlSU0oT/EDwDls1aGPf1B2sQ9TZa+Al0izhe7PXPwT+Aonugqm4seAJx8QXhNS+Bg5KqS0LFixYMMNCYhd85TEjr4W0zmG4nRgAU7EV+bVTP+wKuB9DeJyiW4d+QCWnUwpn6Opc2eabpqrvK6XXKC5IqSKlOvdkNZwiJWIY8PstIQ4oXRH6LX77gu2+o65rvOtJRMlHDUJAYrYFGG1QGGprxkD9khQwdo3SolzGcZVFuQwYdVoMVUjW5JeEiXypk+HzkOKJmnusZEpQPxDzcvSsGCvpWRRWON6OrJLOp72LxE5WgCkhoJA+UYqFuGtlj/ylt7yzSr2RdJ+cU0f35as2Km4tq2z3/Plib5BjZgjx9npOt6sosoGEQTy4Ok372g8HiIm+79nv99S1FJ0512OMZX1+yYPH76BtJevNnclKcVe/u8JUDbZqxrSDu1sG0wE3CCF9Cfx/kLa2Bd9DFNkn3MYlx61sC6n9ALha1NgFCxbMsURsLfhKIxPYU/J6gRBTzceT1wKLVGaXaVeI9/Wx0nqtqJpUxXeCSw901V6aqnmgtLlUsEpQQVIpJZWCN8rYWfvVRAyeOHT47obD1TOCc1TtSvyQQ4fv90TX43IXLGWy0pq9rCZbBEh6zGcdyaQRgoRWoMwt8jpVsZtcGDWv1i8K6+3mCSnHN83JZSGpk8J7MhxfSGlmayorijJ/onxVFcI89wHfZUeY7ic7wfFjmaYMlY9kVZ8M98+mmz+eE/Iy/93rL4ru8QnzJjI8HovZ30rFXDB2HNF1enyVUihr0HF01hJVrvszmvXqDFtpnHM0q5YUItYOeF8zuIHDzRXPvOPhk6/RbM4lsTcl3NBRVQ26qgluEJWW7JfORYUn+9IiKmuNENVL4F9xnB/7/Xx/ecchuDz5u5DagKiyCxYsWAAsSuyCrzDuILCFvBYz6KchsAXrGON58P4xKW1sZZ8keJeY2pTiQ+BMaX1PaVOKwypGu0BS0ukqkILLHsiIdwNEhzvc0G2vMDoRo8bUK+nMRK7YT55DdyA6B5OgCoC1NVVVobSdlFelIM2KmXJ+60hiFaOSClnl8+6kEOuYlWlthXydKI3j/IVkjfNOHk6ZXx8po2X4flzGWND+8Z7YU+/oJGrH8bGeqcfFVxpSPPLE3lZWZ0VP3Caht5Xo2/OfHhe4rcyeElRRRO2ofJfUgkJTy7p8isc5tLMCPClKU/jB4ZzDWkvbtvihk30PQbyzQy/vQ1JcPnzM6uwcpQ3BDUDC2IrD9pqzyweZu6YjL/YbSHmPKLM/QewFEVFpXwO//zGfp1N/LIgV4SnwKheWLViw4CuOhcQu+MoipVQKtOAXJ7AGaQ/7d2OM7+bOAE1K6S3gHZXboCqlWxQbhWpyiTyJpIqSBUAMDN2OMBwIbkDFgOu2KG2wzQoVBg7dHmNrCI6h7zM78tkP60kJTGVGn6oxhqpuSbmTVPG+FlIGkPSsoElPdoB5LqvVJx7VjIkQZmJ5x3B5PtbjvdxEAdWoW4rmnJyWoqaJVB+T2zmJTSmR4inBLspqGvfLGDMSvjIEr4y+c/6yLmNsJrz+6Bic5tLeRWJVPt7z6cq8Ud2tZM8Lz4rNgWwJmScZjEqsmi0z70+5eChqsxBXxzAMtG3LMAxURo1xXcMwEL0jBmkCEWLi7PI+9apFGyOFgs5Rrc+o6rasUPzW2ryJxJYTfECU2J8BW+A94CaE8M+89zRN09wx34apEAyE1P4FUjg2f24htQsWfEWxkNgFX2rMWrsapMBqALy6lbX0cy93rsLOCSwnfxfcRWK/Bvxd4F3gIqVoQZ2R0jvS4Uo/mBIDaJnC3stWjMOxMQZS8NLCtT8w7F4TDjfoqqa99zakQPfqA7rda4ILYjNIHmL2e2qJT6rqFmVzhf7YHasSQjMnrbMq+nF4fuZlTXoiYgY1ks187Kbp7iBheSXHj9VduQXTvEbd9qnelX5QFNxRqTTzyv5pvXPvbplvTmKNMUddyYq9IYa7tzGM26FHNVuSAeSV0pBg3N2sok4k/+7zUKnJrqDU5GGd70NUauxudnyhMRV++Xga6TVtB0AY69OKlzhfLOTHlZkIr3NuVG19jDRtw3pzhjaW4EXt31w8xBgrF0QxklI8Sjh4A6FNyGf4FUJOf0hKP3TD8M+UMVhrNyfTX+bp5j7YHdJMweXny1uzkNkFC76CWDyxC75UOCGtc5QWrxFw+Yf+P4XU3lXEVZ7/NAT2N4C/le9zYwL1ALhE8SD7Wms+NnZLgUqkmMp4tSQJxEB0PUO/o6lqXLcjDjuJynIDMSpCSoSgJAM2BDabM1AGZUV5LQVBsprJ0ymq69zXmRXJ0Wd6XPkOwhIqbdDpWFWdk1itT6rqOVFu1fEw/K0h9yhpTYWQnt6meY+D91MKIwHMG3fiSy3bPBWPFcJZCKkxBlPZfEzMuJyi0oK0kp03JDhVVNu2nUjnjIiP8VS2uhVPJkT85Iw4Ua9jjDNiG0hJo9J0kaHR0mxBaQIn5H+WfGBQOYN3fprnU1ApnBuy4izHQzWi1O52Ow67HUN/YH12js4XL8FJWoGx9WgFIXm0nbW1vU1kywjHW8hndwN821bWDv3we9ba8zs+JKfE1gL/EPjd6XOHR74b7qeUFiK7YMFXCIsSu+BLgTvIq0hPn4yIeO56hMzGTzHP3Erw86qwbwHfBr6OENgWeACY3FHrAaQ6E9jsP02cMmwp20K6Y3lHSpEYPcP+mmF3jdvfEH0HMRJSxBgrvMBYUAY/9NIG1veQo5JM3dDUK6qmxRgjObAwkqWYK8mPSKQ6HT7PTQv08SHQs6r/uRI6Lp/bCu5diurdntGIOhmWLwrh2Ba2FGSdRF3F6I+jstTJsHYSUqxsaVcrJNZ7EfcKabO1FLwZPaWszffTp2lYXsjv8fX/6T7PUw1KodaRxeBk3kKM9cnxI8RRjS37M65P53gzPXUiSykRcmHePIs2nX4qVIkuO47nUvmxsXJe9H1Pf9jjXEdSiqpqMbZidXZJVTeQwFTVuA9aa4y14x5+jMWgwKWUfkpKv49SO6XUf/ykGTJ2wO8x2Q2KKrsosgsWfIWwkNgFXzhOCOynJa+n+LnI7C9AYgt5/c28nU+ANqX0AInX2uTl1UBdkoeOhpFTIkVPCB6FypmuQ1b9HK7bMRxuONy8JA5D9mkG4tBjjEYrIxmdiNNWVzXWWrSphHQqg9YWbcysw5IQG1NP5GwsYNIpV7xHTvNJIxqlp5B9NSOK80r8kaRmkjsnsfP1j6pgOia3o/czSazWuI1pNi8yDB5jPMqFLR7Zo/1SU7MDmOWy2qn5wdwnWqYt/tJ53quRIW6UtXjvjva7tGUtivY8veCOc220cswV49N0BtmvE9tGIZmnZLAc7/FpfWwzSPqoaCzGEyJdDnCcHYMYic5LcwmrRlU85PPUOUfw4rtWWmOqFVpblDVszi8x1ozne1XVn1TwNd/vQEofxJTeN8Z8HykAu6tD12lXrx3S+rZ4ZD3SFWwhsQsWfEWwkNgFXyh+SQR2XBxiLyi3cJfN4NP6YZ1zhBDWbdv+Q+B3ELWVEII2xrwLPEgprpF2tGugVdrctg9kv2WKAT90YhXo9hA9tllh6pZ+f4Prtgzb13S715lYKVIcSDGwWZ2htcZaO3pci+eV3BI2jkPEkgF72gIWJhuBRG0B2jAnsdMmK1BxvJ8XecnQcbYhqJOmAbNoq+MCrEy4ThTWUhg0J6u31FuA4EcSe5QLy6lN4bhjV+ngNYRhTGGYN3Mo6PNwelFuQYhyVVVYa0dCOD8GYmPQR8dm7smd32trJPVhltsq6me4va/jqXy8zuO/Z8qvrOH2cSgJBcoQQry13PlxDiEc7Uf52MQYSSGMbXtTmC4AYlL0fU/Xd2htefK1r2PrRshvjFRNi9YmR8meWlGO9yFvV0iJH2mt/y3wQ+4msi1ysVrwIfA+0iFsUWMXLPiKYfHELviiofPt5yGwZfo631fIj1dAfsh2ZK9sSqnLz0WATGo/lR9WKXVeGfNfhOB/J8ZkSrcrUngUfWyVUmuU3pBYx+gbpY1VlMWnUW2T+KySk2rASkFMTIHu+iXOdRAdwfX4YYdRgYhCk7CVwZoVIKQVZXI1kBECGQECxlRQPJ1GqtmL8nhMCjVaF9tAyiRVHcUKzH2tSqsc73SagZoJ0izq6Xg9M+WxKJ3cUbmf72MMo/I4b6M6vuGZeKYTz+7YltYU8jqPDdPj43kawXyZBXWdrz2SPlq/NANw6NEzq2/5f48Ky24dQ6bit9nxmwhjLrzKxFBxTC7nsVtvUjQVoLNnd+qmlsQqYS1Kix0kKjVeMJyqwMVXfJomIds/Ffz56PHRo1FU1soogg/sdjt+9sPv8+itd1ifnaO0xvUddbMq7dJOfMRyjkzJFJBSNEqpb6eUjFLqEvhLpKXtKdrZ399ERkm+Bvz3LFiw4CuFhcQu+MKQVVhhaB+POk9XzHYlY9UwEdfSmKAQVMcxqT3kdQ5MbWTvzeYpJHqF+F0vrNWPUky/E2M8N4p7KUWVUGcKVaGwSmtQegOstAR4qhRzsc4RUctEzrtsF3hFcntctxVPrOvwzkMKJJUwSouKqhTaNFRNjRsiUZVCLIVKQjyFUCni2FLWIH7I3MQgCZGzpWAqkovJMrmiEJqTXFalcyyVKLUpxSwj6rw/mYwpdRL0f/xWhuz1jJnY3yrsShO5F9sB6JQwR4pswpS0A2WOCq6K93NOJI+9qPK3tWMk7xEBHomoNeO7VdIHxg5YIRBmCrC1FpsLmkph3Fhclo4JrNYWtGIYOo4aM+RzRGOPiGpRp9VRe9wotgI9pSSc5vhqlbJFIKdQpEBUiRASCivv20iSj+0JSimqSuwm03FJxxccWpPQRCI+AiEQk8IoS7tqQYFzA/3uhuAdFw8eErxj2x04u/fgyH5xSqCnLGBFDF5rU30TsfB8A+nu9ZTjhIJTtAiZ/W+B/8fP+TW0YMGCv8JY7AQLvjCklCxiJSjdsQo+jrR+EgKTUbKwquKVK/VUuzzNBvmx/DpiK7hk6ha0Br6TUnoXqEaVDN5SSp0hP5x2tg5KZFaKOQLLD4ThQAwB7weG/Wt8J+TVDx3D0ENwRAIESJk4RKWJuYCobdesVmualahbGnNUda7G4fGS85pJ0Ww4X2rTOSruEYU0kRB1rnho36T23So4ytOe2glOv1LSOL0emyvMt0HljUrx2BZQ7LGFxOZB/EwqHckniRhjGvoWcjopmfOIK9kHUagDUjAVSEevJ8UdbWtLzFXEeykiM8ZIByutx7zdogSPHtxTsq6nJIejDl9HpDfmSLBIjFK0RlQkwqhUz4+dyd7nec7uacTY2BQhF6KVArxTe8R8nqLklugv7/0UqZaS5Mr2olCr7GWWaRRGK5zztJsNtq4hRnRVc/ngCUp/8kBLyhaLfF57xDrwFPhT4M84JrM1MuIyx88QIvveYidYsOBXHwuJXfCF4Q4SOyevmilC59OQ11MEJHbHIAR2DoeQ0DeSVyT7dayGys0LzpRShbzq46HzwmMj/e6Km2fvcbh5KQojgWF/jTts89SKkAJEh0ZjjWG3O1C3DW3bYqpGYpOspWlaqmZFQhQ9o+xIDEuBkdZ6zIZNs2qeqTWqISZ1RHZK7JVWFqXT6B2dv340XK6n2KwyXbl/U0MDZkdnynktiEfD51O0Vo60usN6MJI/FYXcpZCVQz+mG4zrzaSvZMXOfa6mslgtHlXvPYP3o8947Ho1I3nz4xYDR1aHotpOt2NPrNaapMydy5vDx5CJrRTajQp4gJSEi5UkhrJcWY8oxkVJPd3eW2Q2k9F5d695ZJjCTNaNQli9h2xXKM0edI4sc76n73v22x11bSEm6rqmaowcdzTD4Ln/+C3OLu/Lek/sJKem9ZQSwQ9YW4/EN6W0jTE+JcU/1cb+xez4PQBezmYfENL7T4AfLUR2wYJfbSwkdsEXhhMS2yI2gEJYfxEC+2mn7/n0BPZRXuY9JlJctp85gY3B012/5PVHP+Xm+ftEIu3mAp0Cbn/FYXtFiAG0xWjQaIzRRBTr9RpTNdR1LfFNWo1qmzIVzjOqrnMCpHXuPmWyypX0LRVQlMCp2xPANDAtOCVXx9msklYwL8S5paiq2x295kQ3oU+IW1Yi8yNjzOQfzt7Yo8zVTKrUSXQVmchW5mQbgj8i4sFlxVcxFsiV6v4YI8Enkj4msUfD9fq4o9epB3by5B6T2PFcmRVanb6HIErpacbs3PM775g2P7an3b3mBHW+/SHFk4sTc+fFRzl/5iQ3pYSfWRvK+xNCYHAdwzAwdAdCCHT7A1VVsVo30u5YaZyLNM2adnNOs9lQtc2tiLJTeDcQgqdp1+UIlrPlhVLqLxG/7JssBi+BF8D/HfhTpZRnwYIFv5JYSOyCLwQnqQTnvIHAeu8lnN57VKWwth39jTP8vGT3EZ9MYB/l5w1wHyHZ4+dl6hAl937o6HfX9PsbXj/7GbuXH9INe6wyKKvR0ROdQ2WFta5r6rrNMVqKtm1B56B5bSeCkTNAja2FBGGO1l9SAMbOULN2sUcqptLcpZ5OhUDqloo3RzypubuLxJblzZ8v21Kq4++yK4yWgTk5P6niZyS5JZIrk9WsTo7+1kxqS6GUMQajNEafED5TTUVaWo25sRF9i8AXO0B+Q25t+7zZwzTfSdOGWfyVqJG327TOSWXkhCznzmDz5+bv0ZQze7vorESInRb4HUV5zewId50PLk4dxWKMxCRpEUWp7fY7lFJ0XScWhEGCBS4vL1mtVoSgSEqRtCRnPHjymKppOTmY5UAAsLu5ks9Kuz4pKuQKaVv7p8DNx3zOfwb834A/XIjsggW/mlgKuxZ8USipBKcE9hZ81+GSQx0g2b0oPStxHVhhtJ+GwLZ5XV+bPbd+w7SFwGpOCOwRcfAO1+/Zv36JGw5UTUuKAZTCxcgw9PQ+oFKgqio26zMuLs6pqmYkRtZUKJsJjTLHKllJGTBTu9HTCKdSLDQnsccFWrn6fdax6jhKSR2RwDkZO43COvVRnpLiObk6JbVy/4bq95TG9q1lWYYTks0xWVaFLM/8rgAqyTD80fo1RB+Prthj8kckrW4bOQYB/IzwjakGYVKO32QJOPasMrNIJHyKR2RRwfi+Fu/pkX83d9gqRDu4k1a08TgG+VRFn7/Xhagfv1fHyvlp5Fg88SibXLQ2Xlhk24dEvhlqa8YmEkopiAnnHLvdjq7raNs1xlSZyAa2r17SbM6oW2meUFIsShQdKbE+OycG8Zdrbeae2kvEdnQJ/DESsQXib38x2413gX8EqJTSHyxEdsGCXz0sJHbBF4XigT2t9jiyEVhrqVYrcOAVdIdrlIKbG09dr20IwZRQ+hMU7yrID97X7ni+WAYeI923HgJvz7bpQZ5eHSuTieA925cfcfXRT0khYpsWnbtqaV1hTYPVFV5Jhfxqfc7ZxTmb83OMtnjvM3E0U3ZpVgfTLOtUa4sy5CIaleOxsj3giHSqcdsgEU8UQ6PUVGQVA2MEFqBJxBQldSBOyQNSpJZygoEfK++LifHIEXxK6GavQyaZs6KpUz1WZ+UykpW+/HwhsdofK7sjaVZGCtOMFnUwpVzclkhlON57iAE9J/up+EtlvdZasRBosEm2sKQ2hJhIxSaANKpQydxSPe+2U0ykuzQ9kFQzjY569NQaXdIgpAXwmKELxHibMN/6MOnbCjFIakKMcbRRTB5efeTtnSK2Ekqrse1uccxorTFKy4MUjpokkCTiK6Wp/a6rHHG3wwVPN/Rst3suLi7YbDZolRi6PTElXN9h65qqaambNu+nxrkOYyzGis1i6MvjquxrnT/TD4CPgD9HbEK/hTREmBd8/R/zMflj4KB+/hbVCxYs+JJiIbELPnckKcGuEIK45hOU1LYVC0EZ8iXfu3Ag1JrGNIQQSoeleWrA24htgPxcjXTd2iIh6SAE9reAd/K08wKzJm/rbOMjwTu63RXXz9/H2hqfW6EG74kxELwTUqg1TVNTVxWXF5fUdU2KSFEXUoyldJUTYUuUkcVoPSplXiqJZp7Lu9W/uTKXUjoiwjCPmMr2B39blDodRj+qVjd3k6S78lGPtiPf5gVQc9/u7fnuzlstSiVMCudR4VlKqGRQs80slgKflNg6VLq13HKc+74fi77mEVvee+lVO7MUHHl377BhzHNX4fZrxERQd6ugk2f5OHv21OKhtT7yz54ey1ue1vz5eJOK7py7dZEwX0f0IUcU3x1BpjVUVXU0T5lOa8317oZhGNjv91xentO2LWE4ELzDBz+mL9RNAyjquiUETwwBpQ3GWPbba4ytWJ+dlzQNlT+nv4Z00Psx8Hr2mQcZVXknf6Z/D/h3KaUPWMjsggW/Elg8sQs+dyRp+XqJENhTEntnQZeQLo/35Iif3oYQTHm+si31umnruqmstm9ray/ysr/9CZvza0w/cqXI7Cyl1DAqslPjguAd/f6Gm49+xtAdsFWFG3piJhL9/pr99WtidBhraJuauq5ZN6ujaCNjqpw3alFaTxaCWfFWqSov1ecpk9+7UgBGrn3SKWseL3XyHoxKZJ7gzsKhMm2pfr97Gdw5z/z+eJrbUUviDU6cFqaV4+V9uJP42hPCNt+OQkJT9OAdIbhJ2T1RdMtzxlQ5umrKf/UxENFHjQ5Oh+u1tsce2NOEh6xUHjckOC4cA0j62OM8HmemfTy1DcQY7/DkTjaREMJYqDZPrJhPOzZbOLFKTCTWYbU5upgpy/beCykNga7rxhEE5xzOObbbLf1hz/X1NUopzs/P2Ww2rDctKMXgImeX96ialSRyrNbYqsn7GMfRANd3HHZbtLFc3HuANkdfEQkp9PoRx5aCOa4R+8G/Af4F8L76hPbUCxYs+HJjUWIXfK7IyuanLsIqhSPit+vw3rG/PhDjQAg93bbDOcfF5qw1ra3OLu6/vbm493ajVt9WuWPTx1yrFQKrU0rnpLROsCElU0KWikcv+IEwdPQ3r7l+9h7dYZsVKMPQ90Bi6PdE12MqTdOsclyWkNKYAkabseAnBIfWEKKWof7kiRF86mftZcthSgxDN3opY1LSd0DNldgZoTJWcu9nFe2F6NyujJ9IS4BPJKV3EeQ73uPbhV9lO8dlHRc+GaVuvU1l+B04Iqpzv+acVN7lCy3eYoUhBFdaCY9D6+V4lHSEYvM4zZeNLo5tfOck8U1/z2OryrrKNHO18tb+zuOu5v5hpW69B+rkufnfRZ0u67H5ImT+3FxVtda+kWAT09guN91x7AH2+71Ea1VVXodcFKxWK4xR7I2WphGZ6L6+eslms+HRo0cYY7h59Yy63aCNpdrvOL98QLNaS+GiETJrbEXdrnB9x+7mms3F5XwbFPJ79i1klOfpHafmBfBd5ML2N4DfTSn9PtAvquyCBX81sSixCz5XZBJb4rROldgjFdZ7z+HmhuurF1xfX+HcAefBDXucCzZ5Z9rWoqg4v3d+vt5cvL1anb/drFbfrusGnT10c4xER6lvIj94m7wNZ6RkYgwE1483PwhBjW7g6vl7bF9+RPCB84eP6fc3bK9eEvxAbWpsbWmalQxJVxV1XaOtBRI6JrSWvFQpwCoEp7TzDGhlj1RBXdmRWBWSYVAkbSBEXJQh4rqu8S5ibSbMqJHEFnJTfuyNMeNNKUWKjBmip9XrR+kATHmuY8X7jNCc+kFPCZrs+1zJnFS+kNKRMiixYtM6Yox4F0fSWYbrJ/XUTOszxzmnIQQIAbzDWDnmfd+z3+/p+x6V/Z4XFxcjARuGAaUkMUIphQte8lNz69n5usu+d90g/u2qmsWFzYvXjiPNdFZ8Y4w4545IreT+HivySp+cG7P9K6S83IpCCoxq/zD4k2K7OC47hDCeO+WYz20qIQQ0x+R8JMr5QspaO/lvUxpV2NFvHCKD6yBEdrsdP/zhD3n//fd58OA+3/nOd9hsNhhjiXi8j5h6zfm9B9x79Ba2kpbAKUb67kAMjsNuS9W0nF3en8d1JSQfOgHPgJ+84WvoGung9xr418D/C/jpQmQXLPirh4XELvhckUnsGinIuCuVwALWe2+6ruPq+VNevHyOGw5ABQq8O2BtZZumNVbB+YO32rPz83tG6+8opb+dYsjFMQGjLYqErRsSYIz9prH1t5TWa4TAyjbkCpaE/Fi6ww397oqq3WDrFcENPPvRH/H62XsorTG2Znf1jKHrSEQuzi9pVi1tu85FQuVHXlRIq297FQNThyWQIXViIuQOWiXLtJADKQCqRoW2hONHBZU24rHFHJOhHLR/qtJNVffHYfjjtqjpbSlE5DSOa64s3orkmmWclgKpOQGeL7+kKszXV9IYjJLK+uBP0wxuJy3EGGdtWaehc52kGMnmQx1CoO97hmEghcm/WWwThbwW37CtK9wQphQJTuKwYhxJOVC82VMXr3wuzklmyc2dK7dHt7z9I7nU0/E/vZiYb+t4PE+WOXUYm9oMj8cs+3fHC5vZ+TMqtyEeXdDMo7tilAuoU1W4jKKklNBKyHKVO8O9ePGC9957j91uS13XPHnyhM1mQ91Y+r7n0PVUzYqL+w95+Na7tOuzTLADrjvghgE/dCSluPfoLdQUIVdsBZHJVvCM3HY643r2OAC/i3T5eg3s1NIgYcGCvzJY7AQLPm9UCInVSOcsuMNe4L1nv9/jPEDNw0f3qKsV1bqm0rXV1cR62vasslafpxwj5fuO5Aaid3gcJg+lGlN9U2v97ZTCI0JUSpvNJAEi4/MxEFxHioH1vccobYjBs79+zv7qI1x3g0IxAMF1VFZjbIvWFmtrmqYZ1wcTebQ6ijpKypmdMQ+xz4bLVa6GTwE/BGKOKzoqANKJlKvarRF7Qogx+z6lm9WkhmqUzkPRRU0FUrYOALfzSFWpuA/TdgEpTeriXZaDNxUXjWQ3dwwrCQlpbBmbi5+YDYmnRIrZH2sMWllMZSYFloQ2pQBKHV0cRO+F9M/IugEqq4llu6yhNRW29kQn9oGu34/LKEpsUXkBtIGYAikd+2InwjcRwhgnQjkOdysDSgr4xlSH2QVBIYE+JZL3kNXecvGSZgR2VJjhiCyfkkxg9KwaUx1HfKnbtoPTjN8jMqsUIiafeKajFKqlMO9pDEZrTFVjlJaLhVwgF5Js88OHD6mqipcvX7Db7UgpiTo+qPE9c4ctr73D9T3v/Nqv067P0NpQtSv5XMZAv7vm5vmHnD98MiZ2UEI3JjxGiCwIeb2Y/Q3wX+f7fwpcpJR6hAQ7FlK7YMGXGosSu+Bzw8xKsEKI6xsLu7quMzc3N4DD2gqlKs7OzjiZrsRwvR1j/I5S6tspRbx3uMOe6F3+QTVU7fqbpqq/rZR+lFJUKYYNYJSxKBQpRYIfcLtrgusw9YrgHcPhmv3Vc66evcfh5hXaSPBB8JLgU9fie60qaRnbrtdiI5ipXioFVIokAsHPPIlGYouU0aQQx8YHPhOxpBVWlYr8qWo+pITVGm0rdAIXi1Jb8mYVutwjSqwU98yjuwpZnVqiCpG+XSSlc1pCwV1e2NPq+dPpNMUTe9yJa5r2OE1h7ifVWmN0NRZ5Ha9Hj0V1hdzNFdmC2hgU01D4uG1ZiT10u+zd5RZBTEoq713IqRKzdZXpbhd1TR3XjDFjYdexSj4pyCMRzcP5xbIwHp95A4yTi4hTT+v8+BW7wZzTyTE9LvYr+3Ja3HdXUoWc08fpE0dFaDObR2lNGwZ3NKIwtbWVbNntdit2jFqOQ3/ocpGY5MWuzu/z5Gvfom7XuaBLiiyH7sBhe402lstHb6PlM1Lae0Xged5FD7zK90P+u1xE9/n+dxEiS37N5/uFzC5Y8CXFQmIXfK5I0qmr4W5PLMzsBONwbvb1nWCeYPA28B1S+rbkagbC0OPdkH/KwsrWq79vrH2klFagdCKtw9Bp1+1Gn6rrtiQUtm6IKXH10Y+5evZT+t0NfugJ3mNtBRqsNjRNja0blDW0zXoc/pV2m5nU5Y5SwQ2k6I8LZ7TC6gpyPJc68SQqo7HajCSy2At8DDIMrjTRB1wQz6zKFfQYjVViM9BJ7n04jqRSysBsOFoZe+x3TcdKYbyjhvu0yOvUD3vskT0mZePfcSI9pxFS47RKSO5ICIvKmAvE5uuOmWyH0/WQ0On4ObFnMFo2uq5DxUTTNEJsDwdS9NhaLAbhqDCLMdi/qqqjgqx5MV0hj1Vd31mQlWYWgzLvXekDxtZvLAQrNojTVIH5++R9PCHRxyR1Iqrh6P0r1g+xHJjZev1IZuXo5mYNMY3WhlPFWi6EZLtKsWZKQuDjLKc2xsjhcKDrOjl2VUWKnna1oWrWnD98i9XZBSlFYibfh+0VSmvuP3l3/BzdgQh8kP9+/+S1jxAy+39CEg5AyGvx2e5ZiOyCBV86LHaCBZ83Pql4wsNIXD9tJy6BUrl1pUKNzQAMaPMkeEeKIStirBTolCQIP6aBarWhWp2jbUVwA/3VR1w9+yn7q+ckbVDakHCE6KiMZb1esdqsMbVEAZWirFKoM2WXBlH3vNj0johITLggYlBKCT0rwFL59aTK8HEcVbVSCFQioZRSuH4gKTBZsU15OaXnva5qUMfpBCpXvQNHfktRc48V2RgnYjP6c0+iqG6pnHAn8Tp6fqbcTaoht0hhCA5T2VEdHV+bhfjLPmUyxqnFIRPXeDwcj5lsB03TkHyYiKMxpMzS+r5HZRINjBcsBWX7yzrLa87J+5WAuq6nC5GstpfllFSE+fLKvaQT6BkxnqaZ+1/naQvlYqj8Xdd2PL7yPk/FX3Miftr+N5+ok8o/ftSOm1aEkBXWfF5MftgSaVbsDIz+49LhK4TAqm3x3jMMw9H51XUd/f7Awwf36HdbVAjcRE+333Lv0dv4vudwc83gO7wbiN5z9uCJKLazZhTlkAFfB+aXZIXMPsn3/x3wf0H8sRVCZMuoESmlhcguWPAlwkJiF3zReKMv9lOiQtrJAtkMp3KPdmPRSq3Q5tuE4ZHr9yoMTmtjlK1bTNWwvvcYPxzwQ0+1OkMbLbaC/kBwDlO1JJUIfQ8porFSLKYMoEkxkwidK9Y5VmBVmg3fhxlZHBMB4lg4pZKQLLTYAEJMhBiJ8sJRxbfWGgUYBba2olrFJE0TtMoWCfGXjuQVPbbulPVKYZf8yMvvss8FMrq0r825oD7O/K/Z28odXko4UfgyqbLKzjyjEaWOCX2IPls/ikqZtz2/qdZqaTThBlLQoAthi7mjVZPXmUl6jKOEBowV7EknSSsotoYkCQ2kSNO0KBvY7/d476nrGmOEXIXoUCmRghQNiuJuIM1VVCFzKIXSmcwqTTRmfN8CcoEWEetAyhcl08Ez4mEunb60+IXnEWl32RLGxg5ZHT5NbZj/LfMfK7kTAT9uvjBGcVVTYRlKYYoqmwu+RnVZgdYKrRXeB1J+bV5kplQY11MZIc/brRR41XXLMAwMh60UTeaLo+fPnwORFANNdBy2N9RVxer8PsPQsaor+m7Hs/d/xOsXH/LonXdpNpes1ud3dZTTSLTeB0jXr9f5+T3wDxBV9p8CN7N5CpH1eboFCxZ8CbCQ2AVfFMoQ3Zqp/WvBvJ3Um8htmWaD2AmkqYFSQEIJidUphkutRAntd1u67eu2qldqdXFfCFb2gQbv0K4jpYoYHNEH6vaMmMD3OxSJuqmobCPkJue/SiFVlB91saFilSiXIThU0hgNBoVPieA8PoYxAktn0hl9yPYCI+1RSVkM1YB4PJVSNE1DVVVHHsjoA3Vdj77Y0cvJbKg/q7oEaUE6kulMRsryQiqeRVH2lE+idiqFNXVWJxUaGc4v5KdpmrGIqAwnK6OpjGxLyYedCFgeqs5dsAbXY4yhMvZIXSzZuE1W6opyRzpWWnsnMVG2zk0kciSVSSl7adUJ8ZP9JZOwlBX0trKcnZ0xDMO4LmstOh2H+xf1sqRBnHo9nXPZ1mGp65phGOi6DuM8TSPnkEIRfODgnFTtG43WMpIQgyKpiEqSzkBMKGuwWjy60Qd5r7L7UyUYsr9UlNd6bFBRLhrKuSDbeKySTyo80zkzkl5RWAvZVUph8/sWYsSHYVRy5xaUshyT7TpBQ3DgwjBGm5GtFMUOUdThtm2p61pSJPoD28NA21Rc39xgD3vuXd7j5Qc/5qw7UK1WuGHg/uOvYauaGAKvXzzDP32Ph29/g4sHTzC2+jgiew+4yt8lCfjfI8VffwD8ACGzhdDalJJVSt1uebdgwYLPHYsndsHnjjt8sVW+3Rm3xZuJrAXeQoLL7wOPy1BpSlGHvq9RfBfURfTDo35/swlDZ2zTKmNq8ajmEfXgPP3+NdvnT9lfPScGh1YRZaTSusoFXGUoW1Sj+kgFG4d7Y1H5vFTYE9ExE4CY8CmK4mo0BsUQPAaFrqwUcmVPK0aU3hiFeCY9IwZl2NeIvzXGiNJWOkcpUGiimua3mjGCS7pQSayUtvWY91nXNcSpMUKMnhCK33JScUOKpCBFWuPwdVbUQpplx2ZFVIa6Fcz8liPJiVOh0NxOYEsRW35OaT3m3s6bQRTV0IXjYfBSWKW1FM5pNRVGFTU4n4tyfLJaOpI0OymZyQuRjbPh+FFdz8sstpJ5K9aYEnrmNz0cDvS9kPVyMWKMkQsupfB532W/DIEIQaLYrLKgNRrwMWKUQluLSgkXAkapcYz8tAgLkAumEyV3nnVrjGEYBvq+H20OVVWN2zj4Kcc4Jk8KPq8rTIo/CTOmRZjxWPtByHUiopMiaQiDo+/7W004yr33gxyvriNGjzGGw2FHTAFtK2pbc355SWMrPIn12X2c8zz+tb9GQuGHnv6w4+bVC4w1XD7+GmeXD27ZXZDCrx65oHYnz/9rJqIbgX8F/E9II4VhIbILFnzxWEjsgs8db0gpeBORhY8nsxbxuX0npfTtFCMhOB28q402340xrJTWlVL6azH4VmqELNE7hv01fugZui2v3v8xNy+f0h8OxOhom4bLizNM3Yi6pfVIYlNKWG2wjcFgicnn4VuNRojXMAwTIdOSPhD9cFQ9XnrNSwTSlNEprVJlSLrkyCprhCBGsQKUIhgp0FKkEMU+UdVoUwmZRY1exjnhG3xuVWpFtVSmyqqYGoeHi39XFaJjqnGo/qSNwZhDWyKshDDZk0IjT0phsghQfMBy39bNSFhjjJJ4NlNjfQhjoVtphFDyWK214j0NAZXSkXe1HGulqluFc2X5IQSqWx2rjgus8GFUwEvObDkvrLUoWx01OuiHYbQQAKyqety/eZV+vWpps8p8VPR3ksM7DG5sVXyaHTz3z0Y42o9SDDdPhSjrKt7dchzJ8w7DMHpTS6Fiwk6FWpnEzgvBjJ4uSuSYTzYH7z1GK4acOJBSGv3BhTjP/diSjZsJsJN2wdv9DUop9jtJMbh//yGm2VA3LatKoaJnHzTRDTRn92gv7tG0G6qq4ur5h2xvXvHoa9/k7PLhKYktCQaeyVZQ8CPubmH7PeCfAN9fiOyCBV8sFjvBgs8dSqmUsxhBiGyxFYCoIadk1nNsMZiT2vEXSQisJ3hXG2O/q5SurbVViulRSrHS2kjuqDaQErpqYOjprl7y+tnP8P2eGBMxeAYig6uotMpqkUGhc9BqIvhAQhOVB5J0ilIaUIScURsz0XDRk7zDu/6oaCUGUXIL4S3B9lCUxDSSwdjL8HH0acwhlSSh2XBzzqo1tkYpTVJG1LSmpVcaW8kQc92Ioqayt1eKxwK+95N6N26nIgQpOiv+X4yeFVdFYhlmNqLWqpTJ8Iw8a5X9unGmEM68maUSXatp6BqmAqe6rim5SSEP/4eYiD7gtaOuW1x0eOdRJpBmJBats0/zuEFAkoMoHt9ZA4HJuzupxm22S5TttFWFzUPoQgrTmBKgtcYaOcd8Vm6HQTp6NU0zEkXv/UjgTouQ7oqucq4npZCV8ek8KB+VckGjtKTRKiTfVhsI/rjN7BhFFqZCtmJBKO9Z8eqK+povvvRxTnDBeHEWy/t2rJqnGLBNTYUcCxcDpKk4zvshH5Mw7uOohKtIWzdcXb9mu91mz3Pg/OIeTfsEc/YE3+3g5hX7Xcfzjz7k8uETzh484d6jJ5w9eMR+f8Ozn/2IZrWhque1oEojI0I+f6dE4GV++VvcTWL/Zr59L6X0T5RSf/ZZfl8uWLDgzVhI7IIvBEqpeEJkt4hPbU5mCwqpjflWugQo5AcIgBADMXitlcbYqkZpo8DH5OsYglHaqFLwFIMnDB399hVDt6VZn9O2Dc45+t0ViUjfH8Yh2ta0kIdxxyHx4InkjkRJ44OiD3no1OdCKecYXEddaYIXFUoKrwzOe4iJQ99RmXp8PHiH6yclF8ReUAif5iTDU0FlpEuYU6LGSqMAC6sV2oCxLSkGUtRT8VsKaKVRelInx7SBmWIcYyAlRRiL1RQpVWMbXa0Stq5Gj29SSLGUiogVU5RV6SehZsuNYzpBGWavZukD82HveWFQKVrS5rjLV2WsJD44OX4lhxetxBpiq7GzmSkFcJnYnXo552otQD8MQrBnsVFlP+q6xmUbxjAMo7JZ1zU6SHFTuVApx7iQ3d479vv92CVsTrTLfoUQxor/QiyLAj1vOyvLn8eozZT92fPlVjy/ZV+LN3VudygWC7GCqPH94oTIjp8JjjuqjWp3LpSrqoqu68YIrSYr2FpP+1oU7JIzW45ZuQAoy95trznstrzlA/XZPbbXN/S9y6/d4EOgqmvWZxfce/gW29fPefXhezz6+rdQs/QNpVinxF4pdQb4mVL7EnjI3UQWhMiWff+BUsqxYMGCzxULiV3whWFGZIv6WshswZzU7pHfSMukvmrEluABZ7R5piv1DW3Md8dJskc2Bo+KgYiSoe0YiTFw2N+g64ZH7/46u+tnDM8/JClPXTVYq8cqc02E6IkpyjA/UrwVnShqQ54u5eHTKUJKOm+FmAg5GitpJRmvSZoVBD8QB0fI1e+9c8S8DOnMVXPop6pzm4dqy7ZFBckNJGUwxqJzpqcyFd5obFWhlZU82uyllfXnTdSG1WqFUWnMTY1+KvKRwxiQqKWsshElASBJ96zoIyUVNY5vzZSTqs1kL9AjkdVEFceCtePXjlunVlqIp1aihkfnxyKmfJhpmgbbGClyGgaU5DGISqo8eIgmYqSqCAIYpRCBWBodxHx8pF1xSZKIeHfchWseLSaFbauJyKUpTcDk4qVCQkMIhBgy0a1R1ozny5FXNauhZf+trY6I59wi4pyjqiopfMtRV/Os4hCk8C+lmM/7/L4p0HYi5TF6+s6NFgSl8vsM+TFIgRzEWUQaKY0eWDUj/3P7hDEa5734y3PBWd/3hBRIMUmBX1b4nXP4MIjDdnaxVlUVZ+sNNzc3vH75krZtWa1WPH/6U6x5ivMSoXdz9QKra+q33+blhz8jhrc5v/+I9cV9Xn34M6qm5fLR29nyIPskRDbtlVJ29p1T8CYSC5nIAv8kpbQQ2QULPmcsJHbBFwolZdMxpVTaPBbMSW1AztWzk9kNQm4vgUob41PSKKXqUgGfYiAl8YsGN7B7/RExeC6efANja2yzQptz9lfPuH7xIYebZ6gUwAZiNDRa0bYtMQR0dGPEUMku9YPDB5cVOCVV7GnqGW9yLub+4CZyqxVeaeoYqW1DbWqatiYiLTx9DJMvMYuxj996gjFWqtNTEtvETEUrXcJMVWF0hTEV2ubh4arGNA1d17G/uabrHRFN1dScnV2wWjX0+x2BJLmzWiMtIaZuUPMA+zIEHAJ5SFvT90VUPy7SKXDOgRJSp2c5r/Ow/rkH9rQwafJKCmk7HA7SzlRnMqfEl9y2LU3THBUwRe/RRpNSkDiuMHlzJ/9paWPLEUGMMUoDjGbF4bDLXaQUq9VqJN7ee7quGz2zAH5s9zr5TYv/dJ7fOled50VhZTvmiQdl/iH7befLGaO2/BRhWtY7r/q/K8t3/nxRe4dhmJp3WIn9Uuo4iaEo6UfZtSfv2Xz7i9dZostMJuXDSM6rqhobUoQ4379Eu2qIKXBxccHNzQ0ffPABjx8/pmkaPnj/fWpbsdlsMHWFsTWH7ZaXT9+nj/Dqw/f5xm/9TR689S66esGf/uG/5bt/5x9w8eAx87IQpVSrlOryd41nIrMfp8YW/P38PfajhcguWPD5YSGxC74UKGS2PD4htRF4MJt8k+8rJOXAIYrs/dOg/RhDrZSudVVJ/wA30O+v6TeX3Dx/n8P1S7z3fPTjPyF2W+q6QlcyTKu9F5VJKWkbW4hjKsU5HkIEAsl19J2bhpnT1DrUGANJlKoSfaWTZMHWpibloheMptY1bdWybs6n1qNaszm/FNKdC5C864+C4Yvyl5JiiAqjFDZJFFMcdnQvXoxD3Pcuz8WL6wLd9obt9RXNak0kEcMeZQ2bdoWuK0lW0BqsziS8DFnnofwoSrfV5jY5SnlebYhDICoZWvcxHA3nlhitkVAy84tkcta5gVpBpSuUNVStdEorx/TQDXRDL7FeVUVttJC9fIxSToyV2CqxXghvLcVqM+Kd1W3KNiEV9fWqxdQVwzBwGHqG4FnVDavViu12f0wUZecQz7Cf0iC0pBEIWS9F/SrbOiTJYv5aOZ7eS3crnf29KSlC8DPy6VAKqqoUqAWci6OqWlTrOeE9JbLzbNnbtyj2ESReKyTZjjDPiIXZdieO1eJhPLY+BBIBZaC1LVprum4v51RlMFbR9yoTdbnws0Zz7+KSvd3z1ltvsW5r3n//fV69eM67777Lfr9nu73mwYMHbDYbfGVQOlFrBVXDRz/6M9ww8PDtrzN0O/7k9/8Ff+sf/DfU7UreE5VPBvke6WaHZQ38NvAvPubr628ixV4auEgpvVIl02zBggWfKRYSu+BLiTtIbfnzHhOJXc1m6TgeBjSkpJRSbwOmECRtLEN/4MMf/EdefvBjuu01IQYO21fU1mCtwURRBtu6QScY9jssOeg+DLNuRLnjkoLaaLadZIFWRhSsmDsQhZCwpsFUNW1rMSVb1EWcCnkY3RJc4BA7VKdIehYlpSxX11uqph3Vv+ACkqsv3tB2VecCIo/re2IEpQ0hRLx31JWRLk05ISGlhB9jlixaBWJIDH2HGgxtVv2C70mVparbsdIcGD2Mc2WvqIqla1nJrdU6UDfyVhWSH+CW2mqtxeZh8HkHK601yU4RWdoYVtYSstfSeS9tYXMqhK0rTM5TFVUzEYYBnUCZqWBMioYmEjsvrorM1ERNzuHVR/5U7z2Hw4HtdsuDB4+mODCljjpzDcNAs1qPj8vFybz7WOnyVrytJU2gnPulgGwefTWPBBuGYYx9K97ccmFTiGuYWV1OI7TmFpj5+1hisNpmDZUdUweKooyaXZylNObuTuqsGi/kSoFbCAFbicdVoUaCbYzBZPW4bItzkeA8Q9eTgnh2Hz9+yLqt2e12fPDez/jzP/9zHj16xDAM/PjHP+ab3/wmjx8/whjDy1evuH7xlEfvfJunP/4zqqZlc/mQD37w5/zhv/wf+J2/91/Rrs+wVkYgcvxfnTe++GM3SIzfX37C19bfR2K4ruffXQsWLPjssERsLfjSI6VUI20h3+ZYhS0k9hzpvPOfAd8F6pQSwbsK0m+QS6mC67l5+ZRnP/4znv/0L7LCeZ8QHC/e/z4ER9PUrFYrNpsNq5X4HF3foaIjuokAypCrDC03dalSFxIbfBnaFuUUZVDUY9yV1hpt8zByrvhvW9mVQB5Wnnf3UhC1IamZf9ELEaqsHoexRfHVuFD8tFPYvbWSECBk3mTCUOd1CoFs2rV4J/OwsTIyfK+0IWkzRmsJqZr8oELI6qMc0lHpS/ooJH/eMjaEgJtVxiulMLlgSedmBYX0eT+Mql5SYJREnol2mQhhIp3aWqzWuBDkwiNGkneEYWoGoK0MaZuqHklcIWXFglGGuX1webvTUYtb5xyu63HOocp8mazNp/PeE3Jzi3L85ukLxhjquh5JZskaPkpSUBMBNMaMnteCm5sbaaKwasfGA3Mia9BH9gPnJKe1qirW6/VRgdswDOO2OefY9x2rlZyfxR5RCHkhvyorzVMx2WQHKMuRvN80Pu77niY3l/DZPpOS7J/J53qxjhz2OyG/Ws5VjWTJPn36lO9///sQxQZhqmYk89/+tvQ/udnvCapmc35BYzTf+Tv/kETiP/zzf8I7f+27fO3XfwvXdxLXdXZR1HKntTrMfiI74PeROK678D2k09e/QgrCFjV2wYLPAQuJXfClR0pphZDUd/NTFTKKUCwG94FHwK8haggppUcpxgcx+qp0NIjBc7h5yYc//COe/uX3OH/4No++8ZtsX33A07/4Q3Rw1E1NXVtWTTOqntF7/LDHDQe8D8QY8D7gvRtjk0KQH+nSZrOua1arBmMqErDf98SQSUtlRxUvxkwg69Wovhb1KuVOTCiDrmri3G+Yd7w2+qiD1zBMsU2mnkhVqWAvJMaamrqVCnRtxI/a5arwuhESb+tWiJg2BCXZr1pr6dI0BAY/2SeqSsL+y/ILCS8EDTiqpC+EL86aRcQYx1QEY6qjAqNirw3ZpjEqd/n1YfA5z9aMRHpUHUGK+pwQHZ+ipDcohbbVSApjjPiQfblKj8/byuBcf6tZgNaa2liMtRz23bjOYRjGYrW6FruI88eRVjAR2LkCPL5Hsw5hYimZHdusys4JLUihlItSxNW2bc6XFXLYVsfNGAqKat627fielIQAmFIQ9n13lK5wus1p5sWV19Kt7UwpEaI7ev+il1bKF2dn9P1hJPHRh6PIs/Wq5cWLF9xcveJwOEAMbDabUYH//l/8GR999BFXNzuxzTQ1MSb++u/8DpvNho9evGLwnnXb8vDJY37z7/7X/PCP/wBrK37jP/v7cl57aWf77P2fEBO89e639uf3Hvjs4S4WgzcR2YXELljwBeAX7Ve/YMHngqzCPs63GiGwCiGt94FvIDaCbwDfAc5SSm/Ja6lKMeZhf/EiEgPdzWu661doZdAk9q+fMVw/p7KKurIS3J6zSJPzxODY3rymO2zxzlPXls1qgzGKrjtwffUaa2tAYWyV81hLN6/EMIif0VYWFOy6PYf+QFKJmBJd39G7gZACSstwudLFlykZrkPfoYg0laFtxPNZW01rLU1lia6XbFrXQ/TUVrNpatZNRV1b6qqiqSsqa6RoC4hJetFHH7DiDxD/r1b4wdN1B2KQ4qQkXXGxRmMrS1tJMVpTt9RVPQ0DK4OxFSl7HyPiaw0xSHcrpQgp4rINANTYtQpVmiRMEVMhRXwIGKuPlGDIpM5K8wOUzsVHx4VLKVefW2PRWrbN5uYOKR9fSJiRzFqpWE9JLkgoLXdzURpKfL05xqvve/quo21X4/C8ND8Q5bp30nnK2qlwbV70NrcJzM55aRM8U7QTxwrutJ8apXIWa2I8RjF3iIPcLCEX3hUSPI/AguNuafMCtTKPKT7fmFMpophfS3RaUYbnUWjzGLLR2qCZlObsNY/ZXx5jxCgtGbje472T4+wG+v2Bpqq5d++Stm1xQy8XgX6AFHn8+DG73Y6mriBFXr1+BcDN9pqmqTk/P0cBL58/JwZP3x1oV2s++OGfcPn4HVZnF1R1TbPacO/RW9x79ITdzevqP/7b/28fY2R9fumNsSBFpFdIl6853kKKUP8CKTbt/vE//se3A3UXLFjwS8WixC74UuMOFbaQ2qK+fgO5GPtr+fknKaVLwMbgiV7URZvbgg6HHR/+5R/y8v0fApF+f0V3/QKTPKumoV3VkskacgelHD0Uk2O7vabrpE9820pget/39MNA37usvq5GQoNSOZRfFEllzTg8qpRitVljlKV3A24ImLpiVa/QlR2JS2lbumlXVMZijCXGMHY/IvsNKyM57cWCQK7aB6k9s/VqHM6WaSbVD8Rbe+h7QoK6aWiadrQVJAWrzbkosVaU1aZuUUbjfaR3ooq5kDtOGbnOCCHkIh4hJ0V1PM4ClY5QcSRnJ3aDIEPW1uojBRBmUVdGY009qnhFoQWm51IhY9KGtiiQo9KpzDgMLeuekhJkXeTtO04ucM5l/y9HHtPSIthnsu7cFKM1X8Y8D/eo0CpO/lRjDC4cd/Q6zdIdVcvsAy7Wg6qqqOsa30/Wgvm2l0xY5yarRYmuKk0ohqGXhI6j7Fx1RKrLcStqtHMzK0OOzYKpWULpDKdz4eBudyPKdiVqvx/cuE3OObqdZOm2qzqPjkiCwvb6NVdXV7zzzjt473n27Bld1/Gjn/6Evu/RxmC04Wtff5eHDx/w0UcfEYae+4/e5sHjd3j/B3/K5Vvf4O/9N/87bFUj8dKSpYwUzO0/fO8nHqW6J2+/WzzbN8DvnXxVfY+J3P4rYEkpWLDgc8BCYhd8qXFCYosK+5u8gcBCukwJnWLUwfcEJ/6+4v/stq95/pM/xfcdKXpe/PSP2b38gIvzjQwN54Kl4tELrh+LuIacQOC9xychS6v1WfYLaqpaLAjFiyo97zXKShHMoe9ypmiTW4HCulmzPj/j5mYnSmJSY1GPtobKiK82OC/RX0mTEPU0xohOQnSIktdaSM/oXcxEafC5uxe5YYJmJFEybC1kNSkztqNFCeEcgif47Hk0Mrxs61ZivYwlkqhXa4yt0doSUso5tfrIyhCCkL15XFackcVCrqEoqLP0ghSPFdYZgUIr6lx4Bsc5rmW6cXhcG2xdHZFpCeNP4zbNjyEI6T/s90etWqvcNrW87tOkqhby1jTNON0wiI2h+EiLSmmYPKpzYls6m43vEemI9M6TEI5sDrMLlULQ5SKoZcitcsdWtHkaYEq9yES2NCYoZLcfBun+pbJPWh238C0tassxcW6KAQOwRk2NE4DKzFr6AikIWU05U06lMEtm8Ox3nczvpYBt04rVZ3/YStxadxALhTW8fPmSq6srnj59irIVfT9g6pp33nqCNYab62vaumV9cc725QsUlr/xX/1vePubv0G7Psdme8bsXLsOwQN0OcmgU0rtgX83+6qa2wkGRJVdLAULFnzGWNIJFvxVgkLIKkwEtgIeppTu5ewnAJ1SJHqXbQQGGZYHP4h6Wa827F5/QL99hVYBnSJuOND5Ad8P9P2Boe8ZBvECFhVTa42tDJURP2m7WtO2ay4u70Eunumc+FILMaowxAh1tRYCW9UjwaiaM9rVBX0/KaKlMl7IgcL5hPPSYhUS1ihs1WJCJhjdwGq1wUXP4BxD2JF8Iukc66Qsq9VmJC3iSUxHQ9rGVHnbFP1hz85HUXOzD5YUMKZGowj9QH/YMzQtzWpF1bQMhz3tRqO1IcRI74eRDAthOm4xP5EwfVQMJdGjaSSx5TiopEZlfD60rpRCRej2B7Q1Y45uIVDznNYYI0OMRNJIUKd8VX+U0yrD82kkcaXwTLZ56oRVSOT67IyU28iWgqq+73HZKtCs19TKjukBhUCHwY2e0bKN0vZ3UmZPCfW8QKscyynpQY1kct5etjscxoi1QqTLcekzuW3blvV6Pfp6S3ZrXdd0w4EYFTGVdIrJj1xQ/K/lmFZVNZ5vZVnGGBm96IfxoiGEwDqPbLhBiHQK7mj/pFlDQhFHwr3b7RhcR9u2GAXb7Zazi3POzs7G4/XBR884O9vw8vVrPnj6Ht/82rtUVuOC4+rVS+qqpt8f+PM/+Nc8eOtr1O2KlOzRfimlVtZW13MrB2Jh+i7wx3d8T22B1wuBXbDgs8dCYhd8aZH9sA8R60BBsRGAnL/fTimdpxjrGP2F1laL+igRU1qLskhKJKBq16ASNy9/xvUH3yccbjBW4V1HiA4/9PhhoO8OBOdIbgASfR/ohp4QAk3Tcn55n9VqNZKd/X5PjOAT+FCq8aXQyFQtBs1ms6GuawYXSLislNZst46Ysgpoa+ws4sj7iAseFyOmslRVQ9sIGVAx0cSIInHYdwRlCNETtAKrQCdiVs22+0PuXlWaMCTSTNmLKXHVyT7YuqFt1lS5gQKAiVBrJd7VIEVtLnqCG1BmR7ORPhShDSQkrzZ6h0u54CfbG+paCoe8E5tFVdUjsRJrxLE3NPgESTo9peylRB83UpDIMS8KsE6jAkzuthVUkAgzFVAxSQOJI2+pxlZxsl+EIGH7uSuYcw432KOWreM25nvj/Kjitm1LyssphLG7uhqH7ottoW3bMTHBz0i0pCScFH4pMynmCaw1I5mL0Y/pDCmBTyU7WBRxazXDfn/LZlGir6qqGknr3FNctqmqqrHla/AlMWJqAQxgbUlXEMVb5/fIWEmcOOxkRKTShqgNvRc/sc0NNYZeNr6taqKx9IOkJEQvZH+1lvOrXCRsWhnNUD6r2FpzdnbGRx99xDvvvINSir7vefzAcxh6qkqz3e558fIVZ2cr8AFjLO36DF21DPsb/uT3/yW/8/f+F5zfq8TjnRubIBfKKAlHnirY5IJ6A+zu+vr6or8/Fyz4KmAhsQu+zDBIM4PNyfNFhdXkbl2JVKcYCDFqWzU5dH2WtQljTmq3fcX26Y/YvXqKTg6SYnuzHYetg/O5ilp8m0obtFWYpNA2Yetahs5NA8qCsqRkCESUttSVker6ytI2a5pmhVHZ56qgrhNGy49+P8g61vlHOikzFupobUfV0at70gZXKVw/cLPd44eOuq5ZtyvO7m2IfsjEw49Dzt47IX8UklVlT6I78jhK8ZYQUGJg6A8M/YGqFh/i7uaa4Fqa1ZrKWprzM0xlCTHRu0C330ke6jCwPr9g1ayIihxRJZm4oRBArShNBopiOW+xCtMwubEKlSqyS5Goj32dZR+stRJ75iWDtLINyoq31Q9OcmBlwZOFQhqborLPdz7EHnzC6ITVFabOncKGgBsCKEdlG7RhPM5dJrHW2lFxJKuRAA15nYOjy0PvWmsSiahAWYNJFfak6CuFgAsBsjpc5/3snWPwnmpGTJ1zDDlvtiwfQMXE+cUFISuswHjxVZTTi4sLdrsdNzc3U1xbXmYIgSZ7UVOKMxV9GnIv6Q1CrMPULjepkbx3XUeMkcaKp/xwOND3vaizXUddVzTtSnyz5MQKJe/1fnfDer2G1HJ1dUXyjrrJlpTo2W53xBjZrNY8ff8DNpsN63aFRrHJKRpP90957/33ePudtzlfNbRtzVu/9uv0/YH3v/9n/Owv/ojucODv/a/+O87vPZBmG9N3zgWS/2o4bojwTeCfI37YBQsWfM5YSOyCLzN64JDvT1vOWuBbSEYsSimllLYxeEJwUjmtIAZPDB4/dHTb1zz70f/Eh3/5B/TXH6HiQIie4eBJUYY7EzC4jqH3SHZ7wg2OPmrW5/docvTW+fm5kFNjaFcb6UClNUrXKKMlN9XW5IpmdBRCoI2SLNk81D0MUuR8OOyEgCrES2kbtBZCVDWSfCAdtSIRRd20Y6vWwQWMranbNTZGum5PcH22EoDrB2lHq5ipiFMhDoDreurc7ckPDp+kgE0Ziz9IoVAk4YLPObc1zUpyZWurcye0jv32BkUieUdUmna1ErIW7Vi0FZIojXN/65ALl9RJVb6Q10x8lcYU8pdVsipbFqIfGHIMVVRJcmXRVFWNcC6ND1OxFEaK97zzJB9xTohdpQ111YJRMnStLBjx7iok2zSEhHOeCouta5pmsjCQYvb++qNCNqVM7swl+6SVRStNTBGlFToXyQ0hkLIFodxMJpz5oGEqBTonAeSLNedE2V83dmw6kGJpe1uxz0psnf3Yzrmxha41hq7vR9I9LxYrSr3rM/k1mnqzmiwH2ctbVZIKkJKcqVrlyLQh4ZTj/PySEOWzFbK/t25btM5d5WLg5csbrpXm3v0Lalsx5GNprKJpDd3+Gq0U9y/Pcf2AG/pRUV6vVvhc7KVIbG+ux7iwfr/nYr0mPnrIyxcvubm64bDd8a31GSE43v7mb/Hi6VP89jUvnv6MP/wX/z1//3/9j6iKhUHdKh2Z2wQeA78O/Aj414gfdsGCBZ8TlsKuBV9a5O45DVLYVYq37gN/G2l08BvA15FWj01KsfbdAdfvJPs0Bg7b11y/eJ/+5hUv3/9Lbj78MUN3g44erSMmJVBSICVZrwkXct5nHk71yWDbCx49fot79+7RttI5C8D7QFKZaOWiKGUMSmUVVRsMikppnOsxSvx4WhtMbaVqXEmBj591TCJpQooYZamaGpcQO4Gtc0qBKQeJlBL9fi+Zr5k8qBRISQrAvBuIfpja5s5ingrR2m63osBxHMFUoOqapBQa+QWX4q5GFD2g3WwIEXoXaFZryIU/7eYst3Q1GD1V7o8NH9BEUiafU6HTWHkfopBeNL0LRC/tS62e2t4CrJpqJOQ+5fQDJdup0IQgQ+tFiU1aiOBUUJZyMZVCtioTzgRRga3qMbe3KJjODQxe7ACr1Wq8eBqckKmqNpydndG2Lb5PY9xXKJ5fI4qxtqUITl6D7I2OHu+FyLUzL63s/6Qoi2KbVfU82m3VcaZtXYs/tXTgKpaGkpZRIrIUx3FbxVPc94dbRWTz7mOnLW31yWC6z6kXqCgXcbkNrUoBPzi50PSe3c0VXddxvlnz8OFDYvK8fv2a4bAfP3Ol0LHrOryX1ys75eVut1tc14/7tN/v8Sny4tVL+r7PkWeW3/md32HXDXznb/9D1meX/MHv/Q9szh+wu3rBd/7Wf8Fv/8//S0CVpAKHqK+FpM4tBD9Airz+LVLY9aFS6tgEvmDBgs8EixK74EuJlFKFWAVahMgOHPth32E6f5VSqgaJT3Ldnn53RUqRw+6Gpz/8jxxePeNw8xy/vwGVSp3WmFGqtWbYe4Zc9e99YOh9VlrXPPn6N3jw6DGbzWb80U4pEZLH5XB7VEAZi9FaorDycKhRGuc8PkIk4mJEJ00KEZ+S+Au1RunShjT7RiOS2Rrh7PxsUudQpFwNH50Q7bpUVMckhDxKu9lCELr97igyamwWkDstNav1aG+YE53VakVd1xycxwUvKQlGExIMYVYchqFuG6kQNwaXw++dc8SAkMPK5eYJYmswSfY3lfchpjGmC0Q1roylrqTbWVIDMQvJRuXkgyTv1+AjtsqJBEFJl7EYiSFha03yXvy2udiJKEP4WqmsHopC7H3AI97NkiCRYsL1B4nyUsUSgbS3NYbUhGxBGEghYrWmXrWyPcGzfX1NXUvhUozy3kQkSSBqhzIaU1eizmavq8RlaUwCn/3FospOBV7lOFRVjarVSD5T9gaLLzcSYsBGmy2e0ohAPK1pHOofBumIZmf2hPnyImnMiZ3HfJXpcg9k5MAqUv58aMRCo7VhcB0qIe+pztvrcg5xDKzXa2qrefXqFTc3N+J9PVtJ+keQ1rN1XXP16jWoJLFu1z1NXbHbyfldG4tVGqciMXnqqub8YsN230FMVMaydR6toDIa123543/zz/jtv/e/ZLU+w7ueR1/7Jn/+73+PR++8y+Ovf7PYCirED1shBFYx+V5tvr0DfBt4nVKKS2HXggWfPRYSu+BLh0xg7zE1OCiZ6onJDwtCcjUlO4ocpaUU25dP8UHC0g/XrzjsruQHGSF6yiqMqdBGjTOLUphEcYyKZl1ztrng4v59Hn/t6yPR2+6uSYFRGYriJM2ZshGDGRVK0LlDVTOqfVV0OaeVsb2qVMSLOqatxZhqrCav6zoXjkViEBLMWMgjRKGoaiG3ow0x4H0pEtK06zNRzgZH7x06AlqxqlrqVUt0ntQoYhupczFTCIHBBfrQcf/BQ7qhx/WepOKoxMUYxdNpKpLSrCspdiNHhekESSeGbpgq143GGIcJouQqo6mslcYICdy8yr2Gxhi6viOVLk85MWCuBIYQaFU7C9a3RBwhgUmKqmpGn2q5ANE5/qwUSImKWDqGTTmsMRegQe5wFaVATKmEzf7nFDxtXfzGQTyiIWGtFLMZowlRjkXZ55gUwzDQDR2qkySIqqmhrrG2xhiFMZpaN3TDMCrnRU2PMYJEPh2poPPOWMUW0OdmB2XoP4TA4XDAGIkCK/vpvQiIanasQwij/SPFKZVh6qamSVGIc8mPLQ0NIhKXZmuLGwaIKdtlcvpD3vb1ej3GjD148IB9XbHdbrm5ES+sRjqgvX79GgDnB7bbLQ/u3c+2HGkq4bKf3Fo7np9N03C20pyfn7Pdbun7nvPzM3Y7sfAcui3f+5f/b2lIgWZzcZ9h6Pn3v/tP+c//2/8Dlw8eF+Ju8ndQ8egXNba0v35n9jV2miO7YMGCzwCLnWDBlwoppQYhsO8g5+c38kvvIl1xvo5YCy4QkmuQiK02L4Cb5+9x9eFP2L7+iFcf/pTtq6e4bk/o9vh+h9HQ1FYC9ImzIijJQ03aUNmG1WbNxcUl7dklyjbYJpPY7TWu96NKKWRB4aNUwbdtS71aiSKVJJ+1bdeYqsGgCIScBjb1m5e4Iz0F/Lsw5aCmhB3zXLPSNjtmOskQainqUkqNofJKifo0DgUrRUxJOiF5T2Uttqp49fIlVa6Yn7eJLdmt7XrF4D0qKpKeoqcKSUpJhufb9RlVUxNDIiQhk4VUnNoJTCXpB5EcXVZX1LYhkhj6KXqqqoQgj3FYWcGbR0t576nbZjwmRlcMYcD7OHpdSzHZfJh9XL6elPV8HuJnaQGla1V5LTgvrVZTAiK1rXLHKblQGYYBwhTZ5X0UJdfaSbHO2cURSbdAmckHayzGaKwWwpuMxqepkE2rKTas3Mq8xXd81JwglWg18b3qRH7/ZL7VSnyuLjdJmIixHM++78fYrrGdr9aScpGkeA6KzzmO56iMUBh8SNimxqipHbC1Fo081rlJQ8rFlKUdrcSU9bTGcHX9ms1KIsB2u52cn87z4MEDbrZX8hkY3Fi0VtYTUhTV1jlevnzJBx98wMPHT1AlAaI5o2lqdvstBhkpCFE6uX3t27/Nf/m//UfUTQswzPyxEcmFLfgfgT/Lf38A/F+VUi++6O/TBQt+1bEosQu+NDghsL+Wn76PKB+FwLazWQzihx3P4+AHlDG0Z5fcvPpwLPBKfiCFHqMV1paMS00KMrTa9xJGn5KirirOLi44O7+kqhr6weP6wCppNptzLi8NNzc7fPQolyu1jTQqmBPi0rUrxsSrV69oVptRTSsEo22FyOz3UuwcY/aAJjWSwxgcsaiHEleQ7QJ+VCQLwShD0YXEai3xR9vrG6qqoWlqKmtIyeBCz+BkfQ8evV3eA1wuDPJJYbCoyuBCEgtAnSOfmJE7Y9hebRmCFztDSKRc+e+GXgqoOo2psn1AQYqKQC7+yVx9tVqxXp1h6moM0y8dy0iZVPvJrzlXHrXN25WyvUGRW9jmTlTVlFVrlb4V7D+R6+NGC2U9zjmi1tKeNz8XjKQ8pBDZ7/eipmtNU0lBHjpyOBzyawldCueieFNtXdO2kh18dnYm5C3kRIdhwANea7G71PW4XcpojFJEpgzZuTqrlBSKFcIZQiDli5sYZZvsrFXt1D3NHGW3joR5Rvrn569YGkS5ds6NBLa8b4weWpkquB4/W070brQduNKEwVqG0mgkdxxbNRVDd8AYw6tXr3jw4AH37t3j5cuXVFXFs2fPqBsZtVBp2paSiHD16jX9oWN9JhF377zzDs1qxUcffcSDBw9IKvLud/4G7//kL7l58RFtu+Hy8jHP3v8J+5srfvBH/4Hf+Ot/F3tc6KWZ4rUS8AD5PfX5++u3U0r/Uim1RG0tWPAZYiGxC74UuIPAlmzYdX78CEkouMjPKyAkafFkZRkR1+1JMeCHToqZUqCuVyRzTbDiN5VipkwYY8KHSECBqqgqy2q9oV2do6saH6FzDlOvGHykTQpbt9g6sN9viSETI2tzY4VJMR29jSRpjFDLx80YKTQKIaLy0Gu/76ch7OzCi1lN8v1A7z1Kibo1J2+kACmg0Bijs+cRfCgxWxBCz/nFA1F5faAfcoGX0lk1bo+GiCtjUEBM0t++KFvWWqyadYOaRSGtVw11tGxW7dg215iKLvtrYeomFhDLRlIQo8IHaW/a5XgzU4lqW9cytB5joK4bNKC0eFRT3jZtSsxS9omWdq9JiqNKLq2tDSAFc6SE8mHqjBUig/OgRR3HaLnXhUQb2s2GFKdWq0kJ6SLYMZNWZVUzOMduv0ejWJ2dc/ngoRAro0lRcRh62d/tnq4bsHXFZrPJhVXmqMAqhiBeU+/QVe6IlSKBmL2m2aNrFSqqkcTnfNMx9sq7qYFDyYSV14Vo9l2XGxtYtJ4818lHAmGMNCOT4XzAs89W5U53s85rJUM2BIIx2Kphv9/jnKNpKpSyUhSZs4HbqmYYBnrXjyS3XAymPGIRfRitNbWx3Du/4GZ7JTnPg1gRYm6moJPkHTdWurMNw0C8lvPj8ePHEtMVAmfrlm7w+P7Au9/8dX6wvcG5gQeP3yL5AYg4N/D86c949M43sDm9IRPZQmI/zN9Bj4Cn+fvpbwN/Aixq7IIFnyEWErvgC0cmoi3whInArpEMRg38z5AorQez2TYgYs846h4jftgzHLZsX33I4eY1/eEGI6FPmbyWqm6phi7D6tbWGFuxWq3YXFzStBtMLpYyzQpdtew78d21bTvaBOZdhUqlfxlqn3sY3RDopPEV2iqiTwzeUdsKF7z8QLcNlanF/JukM1V0Djf0Qh7HfvMTIayMpTJ2HAIuP/7lh1ZrjdEVWhtSApNJnwsSmzX4gNvuM4FTGBMxJo4kWXykkeur17SV+DTLsm1pHRpyB6mQcEOH33uUMkLMQkDlLlyRBCkK4c5eVGVyVfz9+0JachtaUMTBsc8qYZ2bBGhtcIME5UcFTb3KYfyrsUMXSqFCHK0CLjp6N4jXWEWE68qwukrTeydNH7wUKWlJlk0KUIHdjTs+pvlc0rm4yWg9Ni0YgseFREoef1DovmO12qCSkiYG1oj31Tl8CLgusD8cqCrZxyrHshUJT86HJEPrXY+pheAblav0S+xZZTE5tSH4MKYzSEJDK/Pn7mOEmFvDxlGNTkkU4rKPlTakXEBnAOd7hplntnQVs1aPncjK6ECaTVcaD9iqwtoGNwwMOR/W5pbMJe7LGDMS7PLZOXQH/NBzdnaGUhJRt9vuMMZwfn5OjJFXL14e2Se8l31JKbGqG0xdcX19LT7w1Yr3339/JMuuP7C7fk3VvMXFo7d5+tMf8PLDD3j87l9jd/OKs4tLzi4fsN9e1+eX94fynjN58Qdgn/9+GyGy7+TvsIXELljwGWIhsQu+DKgREms4JrDfZSKvmnlWbEoaxf2UxqIKUs6Edftrbp6/RxgOObsyQEy5H7zNhABpvWqgUobVak27WtG2azA2K0CKyjYYK8rRvXsbuq5ju91lclDR9/3oIY2lc1QI2JjoQ5wID4m+22MwDC6gs2IWComw0mTAuQNDmDyDSikaa4hBMkhVkoKZEDypqHBG1qGyHUIISC46UxBIXG+3gB7JbyHhdVvfCvo3xqBL8wDniHFAxcRhvx2Hnq3VrHJWrdXgc5U53mGSqNtXr17m9VVC2JuGqBTOibK3Xq+xdcrV+mXo2aKQwrRCSpRSXO+2rNdr1uszaq0JRoqVtvsOtKKupQXuer3GaIOxJufqOkwmR4Pv6Z2XrmTZ+qGSJNHWRSXP75dSKRcCelCGRltCVhmjC7hOOrkVotwHUQJt1VDVNav1FNkWo2d/6NHZxmJMxaZZkbQa81alO1nEhYjO7YIZVc1AbSuUSgx9z253Q1VVnJ1dCHnUCu8dIXiCdmOxmtgAIkMv9gGdwGZPccqjA8XTSwjZZ62y4h9JMY0JBVIgVaGRIipmrXqNXtFUNQEv76WTBhvjSMSsCNBaS1tVxJxV67rcujd7a0vRmVImXwhaye2Nga7rWDct5+sNyQf2+z3dXkjpN77xDd577z2GQ0dtLBg7ElprLT5IQxFjFCrBZrPBe8/NzY7VasPq7BxjK/r9NSk4tq+e8+3f/ptUTUNwjtXZGSkK8a91e1d27IIFC74ALCR2wReK3Fr2gkmFPSWwxUYwn0cB90mcUYoTUyL4gapZU6/OsXVLioGNusfQ3bBqK4yWgIPyg1qGWpXRnG3OMbU0GEhR4WMk9J7BA8pzftGMLUXbVshb6TZUftDmhVfzblJj8VBK+CjD1omINhqiBpWkqUJWZKfK8FD2l8pYkpEM0xIrBYy97UMIuBhIPlA1NU3borWmcwNdN4zRXaNnNitkJg9Rl9708/anKSWaqqJta/rd7sgjqsl+yzz82+0PR52iSkGNykkNtmnp4kFya70HNK7raVpJMwg5jCggWa0qk8mqaqSl6IOHotT2otjVxlC3a1zlcYOHFNlfX7F9fSU+ys06p0cYKaQjogkSfxCjKIpRYbL39urlDZCr960eLSdVVWHrChcTFo2pKokYC5JF64Ib1cvSrGKMLzPS8hVq7t9fSYRZDuTvc2RWAoy11HWTo7+mJgMxRlQuGuyHw+h5blLi+vqaDz/8kPX6jAcPHuRUixwLlhLDoSMQqXPKRenUVYh3UZ2Lx9igICczJD8VBUphnhb7Q9dhtKapc/euqsJ7nxXibuz0Vdf1UYGYNUbivJREnd3s96NnVWcFu6Qf+NzooRDeUpzVNA1umArZ2raVEY9hkBzZocVay9nZ2ZisUfa773vuPXzE69evefjwMa9evRq7lEm0mMXamvXFfdabc674APxAv99y7/HbHHZbSGBsFWPf6b7bx3a1Ll89p90EYVJjv5lS+tnii12w4LPDQmIXfGHIBPYSUVrPERX2MR9PYEkpNUqeVylGgu8JfqDfXlGvz1nfe8LDr/8Gr57+iJQiZjAoayBGIaeZaFprsVWdf3jbsUJ98B7vAyRN0gaUoevd+KPbti3N/ftcXl5ycXFBVVW8eikh7eGoSltyPOuqxvlhjB1CK6zOkfpJEWLEGkMKQsa0NigiwU+B84fDYerElBJaJbSqCF4xqEiKKkdXiQJ1OPQ5wkhI53keii2FNPNORCl4djfdkdfWe89hv2PohKh/4+tfEwXYD+z3e65evuDls+e4QeY7X28kLikmqCtihL7PREZrYnxNIFHpakxAcN2B/Y2kKoQEFxcXnF9eYKuKwTncoSf0A3Vds339ir7vGYKnrmvOzs9p2zUhRcIQRhWvahtijOxevWKbEpv1OeeXZ/ihp65zB7IU0CmC1tn/a8CJ0rff3RCdl/etsTRNg60q6vaMmBsxFOW7sobVSsjToe/GuDGdi7FKkkKKkf1eAvbrqqFtVmOjhaJ0FoVbTM8qZxcrxLwduNisJRXDOdq6orovbYgPh55nHz2VC6u6lqzVVUtT1yQVISpSDGjF5FcFGZ1AmktoI57ScmETg8vFcwljAtYa2ka8qIQ07ldVVTRtyyElXO7eBbL/xV5QLAZGK7QCH6L4fJGiNZM7o0lahxrtDoXEDsMgDT1QKKUZQiAAbVWz2Whu4jWDc2y3e7bbLSAq61lVliFxZTFHdCmtub7ZYSs9JhYorajqGqMN68uHmKoGDbub15w/eMLV8w9BGnJorU18/vRnvP1r3577Yout4AzYzr6uFl/sggWfMRYSu+BzRVZRm3yrEQL7ECGt63yDNxHYGFWKYSON2zUxOvavPuKwu8L3e87V11ldPGB97wm7q4/obl4Q+j3JDagEPk7ZmYW0AbgYIEp2ZwgR78SGkLR4RDerFSqrRvv9HqUkoL4sa706E1XUSiU7ZNXIB1wOwU/Ry491UkKISivRvG/VrN99dOLNLDFAttIEn1CIGtc21Tj06pyjHyQNIZhE7wa6w0BSsDrbcHZ2xna7HeOs5p7ZMn9TVYSUUCmhreVsvebexSX2nqirr19fYbKqJopgLSplVt6qqsqV8bk7l4G6alG1bO9ufwMhSAcu51FVzbptqTZyYbDrDsSYuHn5WlTMWgpyohvYHvZiE2hqmpjjvw49267PkWRSGGaMNFxoGml1S0wM6YabMJAMmOSxOebM5E5eKSlC8LmNcMO6r7MHVFq5bm9u2Hcdm7N7oKWdsK0NWluMUdimparkQgcV0Rh0kmYWIXliiCQfOPTSrY2RnBqqWjqw1ZWV80MrUgSQYrOENGsgytC5UQqTc4TbtmW9XudiqIFhkHi1/W5HPxyobIOtNNbUKGvyhUs518LsXkRCsZEoyc5V4skeiwpVZLM+xyjxCTvf4wch302Ts35hVEALGR4/s/mCsWT/rlarMT5La6jreiwsLMR+HpElXdAGbPZjO+docrvhtpX32jvHW2+9NaYvDMPAarUafbUkePL4LV5dvR5Jstaay8tLANr1htXZBfubKzHaK0VdN9TtCtftZ/sT7X772qeYohJrbCGwxdY0J7GLL3bBgs8YC4ld8JnihLQWNIgHVjNlFSuOVdjT5SCq69Bobc6UNlLC7WF/9ZLt1UfU7QbX7ajX52hjsdVKqrzdQMxKk/ggyYokOSUgoGxEa1AYaTlahjS1+EP7QyftQZUCYwnBwyAFJM459ruOzWZDVTWyW1Gq94eYcH7IQ62W8punsvJUqtFJOS6JKYdThn2lSGwIYUwLCCGgvRBy1w+5bWhD3/f4BGiF0RVVU1PZWhoPxICIiBpt9EjiY4w4o6lthY+BoevxQ8/Wi+2BKKT2/Pw8q3OKdrVhtdqwuTiXYeswdecKzhNy7FiM5MQEw6OHT0gE+v2B3W7H65cdfSNErK5r1k3Dft9x2O+F9DR1tjgIwbrppXq+tGklBlRRQk0N9+/RdR3OOWyMYxSW2+853LymXdXEfYWrRVnVtgUd8c7T9T32niUmP0VJGc3Z2RkXZxt8TPRDPh5oKRQ77PFhQJuKqpbUA6Ulv1XZQvLFDqErS21KrFfEDT0hgusSJk+ntQVxBqOQFrlKCdlNEXx3oG4alJIGCX7oxvippq3kootADNA7UZSd6zGmom4b6qodI7QqK1/7ISZcP+D9gCJJtlhIaBWxGpJK+OAIwXE1TKkCMXkqbRhcz9AfRk+1NGeox3OhRF1ZayF4OSFKpy8tzTCij/gkVoeYz3nfD2Osmcq5xjL6UKGQTnS9C2OHNlDYqkYbGcEw2rLdb3l1dY3VUrR2fnmPZtXy7MVzyejVmqZuWa1W7A97bLOSuLFebDF109KenZOyLUHl8+n1iw+ltbQe+6t0+b40QpjjAFx/0d/BCxb8KmMhsQs+E5yQ10JaC1YIUS2s7hyxFRQcq7BZjQl+wO1vqNfnYCtIEdcfSEGGMrXp2F89J8RIf/OK3asP6W5eM3R7qlmnphgjpR9kIZNd1x1V8o8/+LliPEYhviC/VKWoxeUe7vQ5ZN1aqbROcaoMVwqlGVVKIdI5AknZI+Uq5ra3RleivobAYegw1tJYaWk776wUcyGWy5XuWlvqVcuq3WAqS1KTv7Cs40jxChGVyN2bsmc2Rrk+8GFsNXrY96OiZkyaupBFjUmBSkt0lk5IF6mYGIIf2+LeXF2R0tTGdN2uaNsWYmJ3s+X1y1eirNUt5Jakw6EbI8ViSDgX8KqXlANA5w5nJX9WlG/PbrclBSncq6qGqjL0r68YlELXFc16Q7OOqKomRbkwuHr5Sqr+M8FLKWR/prw3F5dnkhYRwTlpPzsEqLTEUu33nSilWtiMSQmdIjbIxYNKkcpo1lWD2rT4kBhcx+AjYejxaZCCKmXGe+FJmpSCJGKEKFaIXAA3Lwqrqkpaw2rFqm2xxtD3Gu8D0Tu81sRoRy+sXMB4Ugooif3NPuicwYtYXrABpSyu60lG00cZZahag41wyEp+/syTh91HX3A5z5h5xYdhyCqqRLt1Od6reK6LYisXEwZlKuKswKyotEpV4/IAXrx4QXCe+/fvs1qtuL6+pgueJ2+/Q9W0vHjxKiu5ZRqxtewOHUpb9jevcIcttbXU7Zp7j77Ge9//I6rVWc4pdnz40x/wm3/rP7dKqWIyvpp9bx1mf78N/J+ZunotWLDgM8BCYhf80jEjsBdM5NUg9oFCXstzBe0blzcuN+J7ET5qEmHo2T/7KbtXH5GCx/WK/euX8Ow9Djcv6V5/hNu+AN+DnU71OYk1WfGKzhNSwmnJJK2rNqtWUpwTo1gOgpeCpRDSWOQlBNHQzmKG/NCPkVsgbTeFBZXh1ly8g5J/mUR4H6SgKwZcyeA0ogRZa9FZiRtbimafprVKvJt1S71ZYXQ1dm1SStFUlhT96MEstxKTJNsSx5ioSht0ZVnVDc16Q8Sg7DTEf9h3BD/IsLqtuLnZ5o5blcR4GUVlLY6BmIuxhm4Qwg8kJypgyMPKm80GPwx0+2Z+3wAAAIAASURBVH1uAtBSV1Zal8Y4tiktEPU64PoDg1MS5wXoGEhuwPUeiAwcSNFTZ/KfjGFY9xzWPbZtse0KXdc8fvAgpwUM9PsDh64jxYjJcVM3uy2msjR1S52tHD5URB+BxPnZmpSiWEViILoB3weGsMWniDJyHhhdYaxCZeVVLpgUPrexjdHj/EAIKZN+eY4o+17nY1Oi1JRS1E2Nc3JsS+OLpmlYtzUKaeIwuEgkEvxADHkUoOQOk5MGcqGXfDBlfSpJ0wpVGZk3FxR2Xfa+Gg3ZeiCFjXI+GVthbJW7gPWyvCijKfk7Apj8s/OGDaXJh4xqQLIKNyCFgmryzsp3gyYpgx8G1uszuv2O3W7Her3myZMn4wWcc06yYYvamyLKWlwM9BEOuxteffCjfM7VmKalblec3XtMiJ7D/oanP/4LHr79Dep2Ne6DUmpOYud4CvwgT2eVUv6L+TZesOBXGwuJXfBLxR0EthDVOYGdk9dyDs79sPMFlj8goWJwm5tnz4jBE/sD+1dPiSlRn92nblZcHW64/vAndNtXJN9hEpiqxpdq8JSD9mMcVyGtOG0uMMpFTzqNBLRE/sz2cfwxt5kcHw79WJlvjEJnQitq0hRHVEhjyWslhVGtKtMXn2oIgbqx4gfN1eqxKFsw2gF8DFycnROTQtlKLBBGhqGJQrL6Q4fzfS40mhoyFPVVkf2YylA3kpdbSHNMUDc1ISSGw57D4UDwknhgtaHC8PbjJygN3gXcMOQ8W7CZDNmmpa0slxcXhBDodh3b7VaaGxjD7mY7VrYTI8E5dN7Hyhjc4I86SkXFUceym27g7GzDul1RaU1Ph/cOn6vv3eEgXbeSottuUbUQlfXFJZvLS7YhokpSgzHUuYNWWYdWmugDfTwQvBtTKaQxlUalxNBL0Zvre2kbTCRFSVyw9RSSb60VT25WK3VWkueZw+W8tFoRMVzdXElgf4xUlTRHWK1WY5B/iHJ+KUAR6bv9uBxjDKZpJYlBKwzSC6GcAzFGfBDfdowRFYP4o8fzPaAQW0sZWu+7/fh++ZAIw4CyFQYY/NRFThT7ijQMhExQi2pc0j3W63VunqFwncPaakokmBWLqdzcIiVp0xtjpK5r8VzvDjRNTQscDjsO/UDb1mzOz7i4uOD162uapmEYBi7v3+fQ7cbPcEBx9fwpw+5avOExsbm8jzGGt37t1/mjf/O7/PHun/Obf+cfcH7/cfkOyPr1kV3gYb5/9UV/Dy9Y8FXBQmIX/LLxaQmsZVJf7/TDluHJGGRINLiuca4/e/X0x8p3W0K3x1jL2Vvf4PKd3yDFwOH6JWH4/7P3n82SZHmaH/Y7ylVEXJWiqktOT4/E2BALgEYujSS4FK9o+xn5MWB8Qxpga7bAcoFdYGZ3ZnZ0d5fMzCtCuD6CL/7HPW5Wd8+MGbq6V8TfLOtW5lUR7h7hz3nOIwYcCWMrpjQwTx5XFCvgSVE0i9oaQDPPIW+9G0y+ybpSmqIW8OSTaPZs7rtfkg20tmy3DUrJruE0yI5iXVUohQCMecyARKOzySb4M9gDiPEMZJVSVEVBUQim95lxe75tO09hjSmqmoq62ZK0tEvFGJnmYWVVU1QixwgBnUGDLVwG7EpyVl0lvz+dwccwjqQwU1UVIc68ffOGeZ6pq5LKGrZNw25TS9XnNDG0HX70PLx9R9d1q5lniQCrKsn47MeRXVVR58+HEOj7PjPiYlRKRQH1mXFMSQDfPAkAN0hZQZEvqP7UMpOolKG2GlMUDNGD0RTaURQOvbSc5YQBZR1paOn7A7112KqirCpsufwpcDqBUXSdnNcxl1jU9YaQQW5RFLiyxBYF1znBQmFICHPvY6CfRubgZYGTDYJKa2yuSp3mMWfQCmheM1WrirIsef36w3WBM44jUz9wHI8UhaUqS2H4c+Zrijqz0ovkxDP1Q762DJu6yfnG5xrcxRy1NNmRkuT1zrMkCChQyTP187oII8E8DSQ0Win8NKKMYZMTIvpe8v+rsiTqhEmQVGR/eMRYSVKYY2KOCRaA7RRouZ5U8Ex+prRyzR6eHteFwNXNLV3X8bg/cHNzw3an5ecqTdVsAc3tizvKsuSbb78lxkiz3VJ4z93dHW1brjs8Yew53X+LJqFsRV1ZNtsbimbL/Vc/QSW4fvkhV3evn7/PpWeSgmUMZwDbI3rZK6XUw6/7Tfkyl/mPdS4g9jK/tMks7CIbMD/nS54D2Oes6xXSejOR9bCLkStFzzwNGcROyRqLLUqGw1timNjcfciLz/4A4wrCPHH9+lMO3/6YwzdH+mkEBLSMw8zsRxRiBkKfMynruiYpk7WGJjdD6aw5FNCirJMy2Ly9nJ/v+veqyiDQC4M6TQJKUsjmlNwTH1eXs0QfxQxcrSlQWhPydunz5ASTzu1Zi0ShKgXENU2Dc46+79HPkg6es2wpxPPWLIrJz0yZEdbGYZ1jXNhFHEqBNQXFRhgxq2H/+MimqXF6S5gnxr7lsTvy7mtPf2oZ+o7kAypBm6OO6romzp4jiXGa2Wx2DM1mNewsANB7T9M07z3ucRiYxjHHQSXqskE7B0rJMUuJMM2omHKEk6Z7OtCfWuq6Fte80ozTwKk7UVmDzlWqMYXMkEZCiMzBgzW4usEWJclYXF1zfXPD9vqGqnDUO1lbrWUPGZiPJIyCQkv5wjQumtGSsiwpnMGicVZDTndAduDRRmGU+IHmucoVwppEwM/nhcjcj0Tls0bbYauSUlsScrzncZT4qCT6VaXEwR+mAWMcVV0w+CHnCE9MKRC9JyLZx2VVSqOZksXVIl+IKawmyDlXsIo2VGplLQ6lDRFPWTZ43zMMIylJakFdFTmFoF/NkqDXhUnf96SsPy/KCkJgjJM0peUUAilE6Nlt5Tqf51n8ZyHI9ZWUFKxZQ7PZkaKXxVJOmzjunxhyhm1ViZHreDwyTCNXV1c8PDzQHo9UL4qctGBI2nL18jWP337J8fGef/R//X9SVs/iYGUh5IDvgtM3z/6/+wXvgZe5zGV+iXMBsZf5ZU7J+7mJ8LM62Kv8cTF0LfPj/LVFSumHpLRdutiNcRjjyrLZfZiu7lSxveG+anj88i8Z2z1P3/w1KYjzWSmNrRpCZn2s0YABo9Z4rZAiBiftUMaBthTOZV2oaO/iJE7vZQs76cWIlUQ7O8/oocdPM2GWOJ95FH1nCIEybx/Puad++Tk2JxzEILWg2ohGUvJUFTblbVPOtZ7Aan5Z9YM+rXFCXdfRtsIEpwx4gVUbWTQFp5NoVqtSWNg5yPeO40jqYbfbsas3kggQZqJPxCXI3s90TwdOhyeGrsdaTVWW6BQZ+p6x6yTFIINvqyRHtTC5xCB40uzzQmTEKMU0yXGqmpoxeOIkbLXL+auRLNnIpQd936KoKa3L7n0JC0ha/gztadVlDs5RNtLeVTvH5uaWeeiJKeDHmWka8D5HqCVFSInCaFxK2BSklnYamY4nDoOw5f0o6RNlKcAvDoMsYkgoY9jv97JoyGUCyk/ErsXHQJg9VSHyjMkHpiBaYq1BGQGd1lpSCpIm4AylMVivmRLMKeJcQUgBFTXkJrIYA2GeOR73sgDLP6cosjwhBcZuoj0KOaiUIvgEXoD2MAuRWNSVmOMUxBRxSgC+9zM6gZ9EL+ucQyfFHESrK0kD4FOki6csl4F5nCDm3F5j0ShOp9Nq9CrrhqLMMVs+cDwe2WTmOcWAdZYUz/Wzyw6KtK7ljNk5cnN3TUIWDwvAHwYxaS3sf9sPJKWZJk9KI8b4XFrSME2ecZzZ7a7zDouw0VEnTo/3JOCDz3+Lze4ma7DzgnjsKasm8ovnb/LHPwD+5a/7Tfkyl/mPeS4g9jK/zPn7WNgrfha8vtffuORCCuupUUaBVbVS6k72gaG+uuP6B7/J0B04vvmS/m/+hLJoUK7AFSXBi9O7cI6yLKSEIERhq9RZD7p0zS9b+GglDnDvsTnQfkkYALlZCxsVSEFc6jPnG+zqro6eeX6m48sShbWFSalVG6nyoVoir0zW3j5nfHWSilaMXpu1Jvy6tbz8KYqCsqzfSyJYdLPXtzdyfCFHhyleZBd3XdeS2YmiPR55erinbzvCNIvkwc9sNhs2zrG5dpLX6QOnQ0scRypX0B6ORCUNWClJA1kfunPBxDwTp4nBR1xhGdoeH2Y2rpRShWkWBtg6jNES/+QnUgRljURTbTY0pShQVDrrkb33qJhwWuGDYmhPtPsjh9Kw216z3TVc3VzlxIEKPzXvnQeQZq5hmumGQdq8tGU6nVCYNQ1BTSOxqtb2s9l7+r6nn0Y2m+1yeYJWDEkA6tJitX9zLyBsGOlzXJgpnJQmlMJG+zijlaVsSkl+SAFlLNraLBEJUOSFyQKArcKypes6UoqM7Yl2P1GWJZtNI8arqHJLlUikfSkscQiBcZqwvaOsG6wzkBSmsJikiUmKCQQkaoIOGGUxKGJMAvhCACWxY9ZajNLM3q963EWaUtd1rnk9rrsKoKgLWRScTid2u917r5WFqY/zlBlwuXa1MfjoV1PYsnBcjJbjOLJ/OhKTP/8ML8xt13WitQ2e+/v71ZgpCxBFvbuhb4903YmPf/P3ubp7nTXyYnVLMfD49hs+/PQ3O2D+Be+DXf74j4D//tf9pnyZy/zHPBcQe5lfxSzVss8BbE5vWggNMcEIDlBrDSVK3yJxWyswVkpTX73g5We/j3EVU3ekvnpBfXWH704c3vyU4GdcoXBGM5HoJ09d17iqFMPOLLkAWhu0NfgY0Qitp4zGFOVaBhBCwBUGNUtougGcs2hrchyWYhx6NpsNhbPs93uJh3J6bafyEdluznFARVFgjV23w5umySBWr2B4icJat9nnmbEdVxC+BrD7wK7ZrIAppShazKVCVoEtpAigaRqqUoAYUTENA0PbcnzaMw093eHINIwUVpi5IkSUSjB03N7e4pzjdDzweDwytifRLsZEYYQ5i4iMwLlyjfCySNWr1aLPTAGS9xA9YRiZ+06apVSEpNDKoJOII0JMJB/YlCWNKyltZuhiJAuVidOEMwat5XyXqmRWHh8Cw+HA1J14erpH23NZg0rSVrUc47qu6U7duRlNW4LRWCtyi3boGPYP0lJVV2w221xr65mnnipLVJQSg5xWUmpholz089CjjcFME3Ya0URUkuPlJytMfr7umSeGcWKeR9ECO8vu9o40joRgcxh/XMG7jZ7ruiSmwKhhGCJxnBiCpygqrIZKJfzsmceRcewx2yvRtqZI8jOnpydcYbCmIM4iWVE5JUPn8oU5TkQlSQuKyDxO2RRZUuY6Xiln8KAM0Xs8sogqrMEoRZ9TJsZxJMRIXW+onGUeNComVD7fVoHTCms0o1LEIK/7FBWmcEBkCpGAmBnneSYq0SorpWjbVrJgs5lrnP26iO26jlPXYozh5uaGrusYxpGybLj54FPK4xNPb77hs9/+Q1xRiZHPWqah5+ndG15+8Mn62gM+Ar7K//+IpBIs88+UUh2Xucxlvre5gNjL/FImLXVAv3g0sJNs1VFFP0EE49yrRLqK88Q0DLG5uqmMLZwSFHuLgF59/j1RqlmNo75+icotSEUtLM7h258wdnvmqaN0zcoClXWz9qgvW4+SVMC5HjQlfAQVz41UkmggppmUw/5TDqM3atnuj4zjKNWfTpz9zpwzWb33jLkAYPm9SxRXYQTArGA1SygWILtUd845sUBhMot1Zmt13nJfUg1kYaBXOYG1mmrToIwA5L6TVIAQAmGa8fPM2PVYpSm0oqocKUSmYSSFQGEtZWk5PrxjGj2zHyFEmsKRjJPw/aXoIATJgC1K0XMyM/U9KXj8KJmeaS6YxwGV4Hh4Ymi79Tkl68HLsS+0QRWKqBBwGwN+jIx9jpJayhpGkSIUTqKvrNWSMIAiJkVKkWEY0dYwk9nwmHIWqhzH8diSUqKyshUd0xJlNpCC56oomMIkUW6nE4/HI9ZJa5QOgTc/+TFJifykahqutluKusYkIAQ++cFraRDL1+A4T7R9T9t3UvFbb0Tu0dQ4W+GsxuiC5AMhBU5P96sed24rylIMhktCwDzPzFMPMdIUBg+07ZHusMdaS1OXzEqis3wM2Jwpq7WUXJgUCUPAFDBOCa2FRY3eY5UUD8wxYPBrU13M2/06y18MYI0lGov3cq5LjMhX5nFtt3t+3S6LxLIsc+7ynPWu5ar/XhhzZXQunADt7Kqtdvm8Q263swUgILUq5d/HfuDpSdq6FtPh9fU10zRxOB5R1oHSPL37huP9W0IMvPnix7z69IfEEJiGni//+s+5fvkBtijgnP+63EPfcAawL5CWrkVWcJnLXOZ7mguIvcwva36RHvYFz4oM5nlU4+kAKb7S1l3ZovivFeozjKWsG1IMKK0+BlXzfqMXKcUMJAFS/lqJk5raJw7vvuDdX/9b2odvMUAMM+PUY7Rjt9txOHWEYRC3vhWmb7lxoq3oFJdfpiR31RiH0TB1B1CRFBUpSpORFBOIqSSExHEfV4DcNI2Ak76VkP4Iriil0z5ramOMud3JMnTnnPQlnmqN2woSeRRCoHQFtrD5c3NmqCTCyznHpmkoy3K9qS8guDueSJwbvpaaTxUl/YGYpIUoRMZxIkwzwU+U1lFUBfv7d4xTL4av0hK8z2YfLXmqJKrSEYLG6BzLlEG+916YyRhQUcxvmkThLNM0ZEOTPN9pnJnGfgXgzjmUtiSNNF0Faf1ajgX5PMcYJR9Wa1BxbdCS2lVF2VQkrdEJQja7Ce1v5HnHhDUGozQhFzTolLBaGrQaa3FK3P0hSA3sPE3Yuqa0FluWtH1HdzxyeHzg4ApcJZWsCbi+vnsvccBay+5qw+46d3oYjS0c1pWQM2Xn4AWwTxNNsSUZy6k9cHq8ZxIgJZm+zlBV1bP8YLkuo59IUbStQzYYVs4xeSk8MFiqoqCfAikoZu+xtWIcp5zgYddFX4xSn+uTJ4Q5x8Nl+cwQUTYSvMMVJcZofH5s1gRqUxOMkmi2kOj7jiqmnO0bZfcggvczSiWmacDa89vI0lymlOTHjj5gjSNFsM6inSzsxnEU81pu6QJIUZI3drtE27br86kaKUM47E85Qk5xGO85PjxSNht++7/8P3DaP/Dw7deQIrvbl2x21xiR+MTF1An8JD/MnyKbNIFzzaxPKWml1N+ln73MZS7zv2IuIPYyv6z5eXrYJcXmLCOIERSv6u31P9XGfZY//7FSqszso44haG0s/DwAm7fx/DjQ7++ZhhY/Dzx98Re8++LPOb77BlKkLOyqwTO2YPKBqtmuffPDe/FWkcKV2bTjcoC8NHUpJVWWE7L97PNjiSkSo4BXB8SQ6Lx0rDdNjsbK9bFlWWIkIlYMYfqsbZ3nmWEYKKzLzzOtebFrfqz3uKJEpbPOdmFdFybOoNBWQFrysxiIpoFhmBhH2SJ31kj52TxD7pMnJaKfqMuGFISRjX7CKIvTimnsuR86jNI4YylLR4wen3WdSilOfUdRVDQb0ZoKqD9rIp0z+DmzduSkhZyRGma/GtkSEicmcoFEVZRrI1ffjQSt1wiqFCLRaqwWeYDTBh8mptGvukprpKY0+sRxv6eoKpqywRUFRAVRwF4KAWJEaU3KiQ4Lo661ZvIerRJ+nEiIFGTb1CtDOOYUgKZwlGYrGasL26gUSUHbHui6Dq0FnC+srctGsXqzwUfP2HdEUmYULTombIwc7t+IrrTrGNojummIJE6HIz7KY767u6WuG4ZhYBynNQt2mia6lB/31Y7RT+gQqZqaYitJHG8O75jnmetNg07Crlpj1kYwayR+zntPmmbIj2+5zuuyYRil9reqGwrjAI33kb4fUVaOx26343g8vse6VlWFVqKdbaqS0+l0XuQ9a9nTWuNTJE4e1xQrC/v880pBmU2HXdcxTdOagHFzc8PT0xPWynvDl19+yW57zetXLzkcDsS8q6O0oT8d6E8HtNZcv/hQXpsKnGiyH5VSz/WwS0pBDZye/ft4AbCXucz3O3/fFvBlLvMPmpSSQWKzrgGX/1kDHwCLLEDFGF+R0j8FPlNafwyUwqpGYggmxaDi0mqlteKZbjGliDGW4Gf23/wth3dfooBu/5Y3f/vHtE/vCNMsLu+8XQmJmEDrgs3umma7yexgrkDNjV3brWgcrSvzTVGeQAgBP4+EucdPE9M05e17uREmL+70lNRqYoEMULIcQZISzGoA01qL7i+bxmKOEhvHca1pXcBDVZTYoqTIEVnrzT9K5FJdS31rYR3jPDH2I97PhBDXj6JH1WgSIQiDC6wVqyHMpABjL0aswoomdZz6vG0vpQZNIyC1bVvi7IXZzTFIN3cv8/OTLXGj5fHMs2gqu/YInHNQXWYkVd5in4ZxdaOvFbIxstlsuLq5pSxqjl3L2EmerM4muZQ1u0sZhDRbxfcMdbYomXzWkCoj2apVg1WS5hBznup7jWDW5HOYo9fy0uy5HtlYYe+BzOY/qw+O57a0ZDTRKKZ5RiPXxRKXtkg8JK9Y2FKbizKmaUIp0VUv142Y+YZVkpBCxDibSw+G1RDmExSFXc1/oNlsNkwh0Oy2YB3DOHJzc0dVVez3e47HI2H2XN/e4MoC4xzaGt68eUNZWIp8zY/9gDas1+40TZRVw93L1/Tek1D0w8TV7R3jJDsERV2QMqjuuo5xHLN2WuLhqlKuraoS417XiZTUOGGDXVWLQdMLc1uWJV3XybWWSzekFU5KLcI8rfW13nt8zuFddgbavhOpUbWBlDgOIyTw88z25o6Pfvv3+ORHv8v2RvoL+tOB/f0bXn38eXRF+TZfJjPwP/O+bOAEHIH/D/A/XkDsZS7z/c6Fib3ML2sEPfzds1NK/VOU+gw4A1hhHY2S4FK05NmQYiKGiTBPoEBrS9QzY7tn6vZSwTqcOLz5CcyjbKEHzzyfmRkgM2sCIpebo8oxUCuoTAKmfBDn9DR5TqcTXdcR/MSmdphcODBNE84Va9xVSgnrhO0Zsz5z1dzmQPyylhxUnQyaCIsGNH/Nwkr5zMzO87wG3VdVxfHYglZYbaX21NQraE4hsj8+vZezKvFPEacUSUOcRmFhU0LlutqUMpkUI36eBehqlfW609qIVBQFVps123OaJmISU5HWms3V7syEGQENY/TZWAZaC4sVfUBnprrM271DK2aqpVb1mWEGYD1nSQnYVEpJiUCQitgwC9u9yEz0+XpayyBKHzNYlc9HpQl6JmVN7TmpIJ+LGGASAGW9LIYK64jJo5WlKC0kzTRMoP26WBFjW3rvOSxs6xg9OCjsmeFds1BztizeCzkegizqxpF5CgzqEWUcSieKsqaqRKpQO3n7ttbSjwPDNHNqO4Z5WjOQF8B3d/sS6xyJXKSQdwOW3Ypts6GyTqLasl7YKKlEvtrueHj3huuPPmLsB/p0wiRLCpGubaWCdx4Z+xZblISkKPPPBhj9TJo0rjAY7dbfKyBdroehn9bzsLRwPa+hXV6nPoX1/5fFgLWWeZzW1jNjDH5K68+PyRMXTXle3Gw22QB26sDVvPr0h0xdi7aW3/zD/4rbVx9SVPUahzd0J4wrorXuKV9bvyiZACTv+i9/3W/Il7nMfwpzAbGX+aWMUio+Z7I4s7DXz/6tUkrplFIGsJBiIvjJxJxdaVyhjCuyECERg0EbK7rH4JlOB7r9W9r9PWP7RP/0LaHfs6lKnFZ0eWtVwcrE6nTWlzLl/1+3fPvMYtXZmAXBe6xz3N5eY4zh4f4tQz9RNyVFVaGMQWeG2Giz3nCJnhRmcaEri1GJpBVaF6gkDKdKMffTn00tSin8OL2nl/TTnLNDpWJTKclhNbmK1Ois+R3mHGw/r4Da54gjpRIqSSUqfqm8jeil3nQBgEmamZwR53tKiQjYosC5EmcsXSvRSHPwoBXOFPJ4spzhdDrhigKtYZoGpjkDaetQSXNzcyP6zlGY7KX6Vmu7OsqXeS6pWJ5T27bE5JGgA0k4CGEmprCauwTYlNhncWY+JhhHjHHCxAaVJRohg09JNQhLTqmW+K6UwnoZh5Boxx6IuFKt7KmPKUd9nQsslNJYszDckjUc8gJhAdp+EGnKGpHWSyRWyOa4Obe7WUAHCATqqqEdWnxIdENHNwhLXm2a1VBYWoOfR5yC3faKKkseiszsdqcOj8IVFaUtIc3s95JG8RuffkZdNgJSWzGbubLAVBbrRAYwdD2KyMu7Fxwen0jJUxVuLX6Yp4FN1WCsxWGYouTWzkGYZpRBW0chSg7atmWIE1rZVX+76LXRIn3RSVGWNUoZtDKkNK0yFq2lCjhy3gXx07jW82qtmaeB/X7Pw8MDd3c3vHr1CmMMwySvG+0Mtx9/zPHxLc5V/ME//r+wubpFG51fCxE/T+zv3/GD3/itqGRh7DizsN8dA7zlLKW6zGUu8z3OBcRe5vuaiNQuLlKCK+CfAp8ozu/wy80okFScZxWDx9UbqbVEo620AqnMXEU/0z294fHLv6I73GOZKIsCp9W6fWitXU0ngLQkPZsFJC2sjbWWrusycyih+WVVSZ3ldktRWNrTAa0SJIntMdmxHULIAfPFqnVd5A/TNBFZChNKrDYkHxi9RyfpmBfw6VZ39nP2aYnMijE+KxKQLc+p69cQeGISI0sKhDniRzE+LcxU9IFSF1kDLDmbKQmQWxzjRulVx7oAnwUItnPPNHmq0q1OeOdkWzxleUPKz3P5nhiCgBkjmbVhFsayymYsn0HEokteQUkGrwv7tqQWhDBLPqlavj4XBOTvMcg28fNzsjyepGAexvVn25QYlxpeLayecSaz1Evs25lRFTAqoDeFSNtKA1VRnQ10C+u4mAWXj8F7hl6kH3OuHxYjU1xZ4DDNxEmMgquO2jpZ0GiNT5rT/kkqWMuSqBX98cSQZRinfN1pa9AhMY8ThS3RKMZhpD2eMKagHwZsVVNvN7mQwa8yjsN+T1MWFMowK531vwGTHIHEpqxo25YUJVFjzOYrlSDMI86VWeYyU9gKpR0qgdKS8yqpAjofc0vTbFdpQd/37HbC5g/DIA1bRbnupCyv2eUakWgz1tfYunCLnu54EsY+IbsFCcrS8aMf/TCfg5nHx0fmILrnBLz96V9TNTv+8P/0/2B3+1KMjvma9NPM8emecRwo64Z/wNTAE3C8SAkuc5nvfy4g9jK/zBmAPWdd7AnJTtScc2I/RqlyBZlKGaUNxgr7Gv1EmEYoQGedW0pJAs/7E+PxHd3jN4zHdyQ/ouwiBZBteD/PIvReXPEotBX39hwD0zzIdnt2X6ssCSiM1JhKoYAlhsD9u3dsdztubm64ubmh706cTh0QKVyBsyUxu/yXLeXFfBVSfM+cEuYZlVKOofKgNJqItpoiRxD1fb9u4Ys+NwM5raVxKsCUErP3a10tgFEKos8a0UQKfmVs5RgnfDhv15KUsLOwmpO01jnCSWGtQUw5gWnyxOhpNg2Fscx+JPk5N155UhTWtypLnLXETGAaYyicwxiVwYkXALsAVZ8wGFSWL6SY5JgoSRdQ1qxAmiiOeKkgnjJwz487g06lRL+6gMTV/BYSavbomBMYjOhbjUpiZMuxVTGKtlSp9B0ZhVw/PkiGqZ8nxtxkFULAZ9nIc1nKHM7XHTERfW6OIlAYi7ZplXzI+dPM44BVskiJSRq55rxrMM0zQSPRWCbvAJBoCodWmn4YmIaBzW5HVTViHitKFLLgmaeJMYhm12hN8J4wTxRWs6lL5lnTHvakuuR6d4WxG05ti9IKVKJvW5gDV7sd3fEg7W/aUBUFx/2eqCKpzvF02nJXbsBI5FmIOic0KJLS8txSpHSOerNdd0iWhYcrq5xmYSSuS8E4e1SaiCGgE1ilCVk2siQyRC+v/7EfMEYxDgOn04GrzZbbu2tCSvRDy+l0kva7opJ4sRCkJawomPqWsaoZupbN1Q06Rh7ffMXju2/55Ie/HZVSh2epBN/m97zTd94Dvwa+4MLEXuYyv5K5gNjL/DLnu7rYZU/2ZxiJBZwCKG2UcUoppfEpEYNHzQpsbu4Ze9rHbzi8/YL2/gvGw1tKZymdkZv9POPHQW5oPqHNWWu63EkWQ9SiFVx0dyrrXEMQViyxZFkKCzQMA4+Pj7x+/Zrd1Q11vWEYBggRXCR6C5lB9d4Ts2HLOLt2vXs/iRlm1eieG7rE4S0M1NIutPS+S21tYBpHnBZt3lJgAFkuESIhipHl+THVuSZzyaPVSqQCC0OYUlgZp+dpCAszuYALpw26LEkp0o2DyCUyc+u9hxRWwCfHWMDiUtrgJ2FGC1NITqoX0GGzYel5g9pyPlJaZBiL5ELC9n3wa4EC5CSGfC0tRroF+J4XEGCM5vpqR/ATPgTM2qTlwEjC6fF4RBuIURrjYgiEcSCK6oW6qsSYpaRlKsVImD3DNIsJDAnht0rnzFSFVhpjlCxWgJT0emxlGzxRWIfOpRjL812Amc8lEVFBXVYYP6/GP4MCo/FzYOh6Kd7Y79lE2F1fsdls8N7z5L2Au3bk5QcfULmCMHumfqDY1BSFZTge0Qn6eaZUBh9n+ral3jVYq0ULPg10nbDiVV3i9JJlLOdu6HrmBAFNte2obYHV9pwNq42kQpBrZOeQM5w3hBz/pZTCoZ5dixqdNdZDLzW/MWRpiYLT6UTbtvR9z6aunmU2e7yXVAJXSPTWFMSUeTwe6ceJGKUM4e7la+4++IhXn/4mb774Ww7vvsVVDW+++BuJrSsqtte3NFc38Tt6bZ8/1kgqy5T/fgT+mguIvcxlfiVzAbGX+aVN1sU+Z2PLZ5+u/s7vRZFiYDg9MY8d1hbi0g4zpzc/4d1P/5zhdI9BAIbEB6XzFnK+KTon2seYcqNVZswOh4OAnUKMNYWr1rgqgO1WboLjHHIMll1B1jTP/PjHP+X69oa6rPLNNBcLZC1v6ZwAkLGnbf1yPJi8gOzCOrTKNZxKk6JHaSuRoClwdbVdt1pBwHNKadWOzj7kBiVJG1h1oxl863wDX34vQVq7YowEiWcQZlAJExZTesaCys8RRtqiEBOU0060vVbTDm0+Tyazw/m8JUvhSnSEaZiYc3qDtUZ+b5BigZizYAEKY5e8TVKMkBJVmbePM6idY1gXBgImDMY7Slfk2lORLKSo1oD7EALTMOetZWGd66KgrBzzMNAPLcMwEAM5IL9cwex1rjwVs9XInAsg5m4A4PbFS6wxOFegrJFUhSBb/yjFPE3yXK2mcgWKSEiBlOtxFzOTaGkjSQViLtuIRlFUsggIacarQFBBGGkDScPT09MK1rUVCYxPZ/C/vdrlFAIx0C3xUn3fM3Y9WhkKY0RH7CPj1JNMQiGsr0YxTjNPfqafBkKKaAdRRVxhCB7u7+9xWnH34halFMPQneOtVML7QBpHHh8fMVVDUBZlHNpYMBZyykVKiXkYUZrVnLUY45yWi6QfJ6bgKcx5oSOL0kTbnTDaMg+jxKT5maFLq0zDWcuuFp2wInLqWr59+y3D0DPPgarZUJayUNWu5OrlB9x98BF/+i/+W9qnB7a3L/n4t/+AT3/7DzDWorSJWuvDd96yfjt//IYzgAX4Uy5Sgstc5lc2FxB7mV/2JGBJ7r9GJAYfk/Wwz7/wOXMYY6A/PvLFv/kfaB++RqlEUVYoBVP7RIoe5yxWG6YY6PqBKWs/CWd2NfrwHuOaAD+GtcfeOkeMkePxuH6Nc44rpak3DS93O0ia0+nE09OjMKRJtqu77kRZFOyaDVVVSHvTPGM1+GcgctFlLjfnwkqzkwLKssJYkStYaymLOtecqqz104z9II78lCSRYZ4Y+pbSurNGNJuylscf/PTeceWZQ79yjrYfccmhnIBHrTVGnzM4fRQjGVrjQ4CYNYFxZmg9222z5muK+UYWDXplzlhZ4qVBycRIVDGb4AzzcDbdCIsrda+73e6sp12Y5AwonXM4o5gHYc6czgaeeabPzLscE73qUqtKDGlJSUasn2ZcZSlTjk8LrPrbYRiIseN0OlHXNZtajHXKyqJES9Qbb968YbPZkKoKprNuOCp53pvNZn1uIvUQ9721lsY1+BwbZ5yj0JrZOXyY8rUfORwOkkwQ/Zr7GuccpzZ7TDw3XKlZdL4AZdXw4sUL+nEQsOxKDoeDMMtZknF9fU1hJXP30HeYWBCsZcqFAzdX1zy9u0cn8EFeO1VT44wlzDOFMVRVjVWax8dH7u/vef36JTYEpmMr7XXGoH0ghpn94wNXN7cweZpskvLzxBQ9qqxloWYCiSgAV+UkkRgorLDpMcgiwefsWYWUV4DsslhrKeqKZiMxXUtMG0pxd3eH1vDw9h1D35IU3Nzc0LaOtmuxWlE6xzjPdId3fPNX/5b7L/6Kst7y0Y9+D1dtuHv9EUVZM/Yt9e7657Gqf8H7FbPL/Mmv+w34Mpf5T2kuIPYyv9R5llIwI2B2RNCd6GHfZ2ffc1wZYyB62odv2TQlD/dfUde11HsaTVXUzGPP0HX4WbSZKQQKtxiAIolATJ4QwWR3/+RnVIj4CEVS7+WQLlvZ0vCTOB0OXF/fsNs29N2JaUwUSmGMIqVAGjoOQ8eBc/GAVggbqTXTODL0PWVZcntzg3OONofchxDwIZF0oiyEYeqGcS0t0Lk5KkyybZxSQumI0ZpdI+1GJAFfi7aUlPDzDCFRVdW5DSwIoJakgZltVQMQ/dk4RWaqidKIFFFMkxigqqZhs9nk7/GEYSJkLa5WCoXFGovOta3Hp30GG+TM33k9vkkpuvYooDhLAoqi4Gq7lTzZrHO1OXc1fEc2QQrM0yjue+3XKDIAV+RqUhLG5Irf0efMWoWKismPzLPKBq6SyY/4bliLB4pC3gadc3TdgDGGm5ubVYJydXVFWUtpxOl0eI8ZLMuSpmkI00idXfopRZx1xLxtr7XGlcWqjR695/mCZxx7WbRo0fgGZPFijMGZglIXzNMget2QGGcBv1dXV1KA4D1tKzWrKSDMa5JiCT8Fqm3NZrvl1HfUZQVaMR1baRSrNzwdT+viaJwn0Jrd9Q0heuZxZhpPNFXAOMfNzQ3KGgYf8Fqzvbmlb6W8wBlNUZRMc6S9f+DVRx+BH0lEOSamEj11gpAiSeV8Ze0whaEuHH6S14MrLL6fmaeRqm4kDmvocXkROkwTrizQKHbXDmOlCEMpKYB4fHhH37cQo2QpNxXb7Rad0z4OhyN+nnDGEVPi6vY1v/+P/29Um51IZw57/vif/3/56Ie/zeb69u9723uFJBL8M85tXZe5zGV+BXMBsZf5PiYhmrERcer+FPgjhIl9DmSjUsqklJQ2BlttePn57zIc3hGnE1dXV4QYpcVpDkzjnnHo6LoWlQLGKOqqyAzhvDYVTdNEiORcSAE5c0hss3Zzmibatl3BozGGuihx2jDPM8f0hK9rVIxssqRgYQZJZwnDnAEfQK8EuGrOCQWSJ+u42u2Y5oAxLicDCNCcxgmftZvGGHFzJxESa6Wk+lYJQFO50SpmE8ySYrAw2U6bNVprmiZUOqcFLIz3PM95y/v9jFo4G7yW7FvjnNR4zjPEyK5qBMQumaqcA/2Xn1PXNdaYFYQCxFmyc1NKGGvZNtUakRRjYBzmFdQKIE4klbLMQlji6GcxzqlnRrR8HFNU+BBpmmoF53JOctFFlIxYY5Y6YMduByqeiwnSM/Y3WNExH4/t+rnHx0dcWazPcwXXwDRNa/5omdu3FkC4FAEM87QWEiwLn5gNcd7L9y/fu/zMEJLollVkDoGycBwOB0KE3W7Hbrejqiq6YeLdu3cc25MUQ1xZynydyzUox3/2nqKuqKqKw+GAtoY0e+Z+oD0ceXh4QDvLzd0t17e3TNPEfr+Xlq2rLeMwUGU5jitLtBNWfholTUDFQHs8Epzn9sULkhaJxW6zZd93aGOIxoDSoDRJGSIJP3lGFdlQoXTAkHXiMWG1YVbC2kd1Pk9pkWHkBVJKCRWh2jRMvcSPiT76mj6/zsf9SIxievTZXGkUlE3Fj/7wf8fNqx+QUpRoraRxZUWKAePKAPjv5hd/Z+r88V8BQSkVuMxlLvMrmQuIvcwvfZRSKaUUEa1Yjzh2/wz43yAgdpnEqpRUqqg2vPj897FFyenha9LY0Z+e6A6PHJ8eGLoWPw2E4HEGiqJcmZkYE13Xr9vwKcf5FEXO0KwF7C4AdiklWOJ5TqfTmkl6jtuK7wE1YI2UWvSNzwsTvPcYdW5kWrarnXMoLc73lEsAxlxooJSkAagUpdDBKKx421HxfHgWo1J85mp/DlCfP5dFJqHQGK0lnkxFQvLCiGkNWnS95OewMHohBGKKpCCGoJQB5tPjfW7HUisQk/KG5UwmYaFzPFhTyrZ8l0FsXRXy3OckUWAZ6DojrWMLGxpjwmgFzgI2g8ZidfMLeE9g1BqjlmLk1PUrwJSIK4OxCo1ZDXXn/FyFMVmLmTOEm6ZZPzf5WRz4VgBh3/cc2xNJn4+7c26NevLeU7iCOQbmGDDR4EhoZ6k2TY6eAmMdRSnPqe+nNR6qKCqMURnIW6wt1nri5TgbY9hE1vKLvu8F1Cb5/Mu7FzRNQ1HV9H2/Hq8UInMYsUVJcpFh6DmdjtJ4NfQYo9nuNqIzdY7dZsPVdsPxeKQqJD5saLvVDMhoKaKn3DQi9bAbdEzMfYevat58+47D6URz84I+RIn0qmvmBOR2PGU0zmgSmmjEmDjPMzFNFMqgNPgQSShMNncuC5JxFEnKItWQWmNHN3Y8Pj7y47/+K77+5lvubq65u7vDTyPWWepqQ7nZ4f3M/Vc/xhjDdnvH7/3v/wmf/NYf0B737O/fUG+uiDFwuH/DH/zjf0JZN2Yeh/13I7++Mz9BWNhr4IYLG3uZy/zK5gJiL/N9TUJIxb+XlVgZMcBWG+4+/wNuP/1dovf4qefp67/mp3/6rxi//om0GSVyVmlkVoHZjyt4WyUCOetp0cqGpOi6TgLWBzHrGGPOLvYczL7oDvv+fVC0FA8ozpmVyw10Ab/Lvy/Zs8+buIwt3vt5wDmWSymmXAJgcq5r8uE9EL3kuKZ4BpLPG8kWoP08ueBc15vW5xufpQHEGHOwf8JPskVtEYnBOAy0hwPTMK4a1+W5rprjzPZqrdlut+vvBdnSfvv27Rob5ucRZwxNs8E4JVrI7LJXKdJUZXahj/gcewXnkgpbVuvj9t6vhi6lz/myJIUhkpScz6QMWkvMFyrip3nVrUoxgaQIKKV4enrCObfW+Dpbrtel0ppNUwgz+l7Dl1qP63Jc5ixzKIqC7Xa7mgOXRVXfjaDiWmu8/Aydtb5LQsMiWVj+TbS7OQlgGGjbVsBz1VDXNWUpC7ow+xUcC/PcgFaE9Ex7m5LoZHPmL8APPviQcZ5W5nIYBupNRWFLlJaFHSEyjD39NFKNI/Vmk2U4cgzu7u7wc6TNhQUhG8uuNhspmYgShYeKaFdgrLyGrNS54SdFIhJ8zNcN2LJAaY1TaU2gEAmGvOaXXFmUxG3d3t6y3e1wRkncnam5++AjPvjsR1jr+LN/+d9RNRuKesOP/vN/zG/8Z/8l2ljeffUTvvirP0Epzfbmjpcff4aVTOPZZTPns/muHvZr4K+QaK33Q6kvc5nLfK9zAbGX+V4ms7FL5Fbg76+kZSlBUFqjdIE2Dm0dzc0HXL/6mHHoSXuNPzwyDgNaR1KSkHU/zZA01pX5Ji5tUNYUWFMw9N1amQoCjsbc8mStaCOXG/rCyC1MT1VVa4WlfgYgn2/TL1vizrkcm8V7gf19N55jhDJYXrJMg/ds6vpZ9NIZgOucr0lKUr2af8aan/sM2BljiCmC0e8XD8RI2ZTYzAJO00ScPFmxANEzj0mqYEPkdDpx3B/oug6rNMV2g3YGq5GmMKCsS5qqXkHMYpY7Ph3X1iVhu7bsdjtSiFincbaUKKtsyJrnQD9OdN++kVzXDJAN6lnRQSCcWtQzfLAsIIqqXgGkwqCVtG/5eWacJmkO85G6cCij1xarGPK2fTaYNU2TyxMkumqpTfXe46oSSChtcVa/x8gtj2McR5S2aONWrWxZNQKwk8L7uMZBucKsAFekKWOuKWZlUH0GcovEYxi6nOO7SCYQeQrSMHccBqa6JiW1HnuNwjkDytBNk+S8di02x8ddXV0Js+ln5nkkhYBRit2mprCaU39i3z5QVXIsbFkIoxo14/I6IErbW26Z++STTzh1HW8Ph2xO84RpxtZb5ijmrYDIUZRSWKMAi1EGo6QWeJ4lrzmRQIkEQSqBwyrfWEoPltfiw+M9KSU+/PBD+fv9W05dR9Vccdw/Mf/JvxYTaEr8zv/2v+ajH/0eu7vXK9N79+En/Ot/9v9me/OSDz//LfS5ICU+X7DkueLnm7pQSr35db/3XuYy/ynNBcRe5nubZ5FbD/wdulgW9kKdt4hhadYKoBTV9pYXH/0GcZ4Z9u8onENhGIeZcRrx07yajITV8itDukQPLQzOCoCydrCqKgxqBarPG6OWj8+73J8zm8vNbcmdBd5LJlh+/8KqLazh858DEqkVQmDOml5CXEEsIEUC8f11wPOg+Ofs4MLULl8Dcf39UhyRJQeZiQw+4ONEmj1D13N/f09/arHWsru95XZ3Rb3bSutSTCt73bYt7969W+OcYowQ5Fi8fPmSq6srUko5XL4UJvLQMY79e8cvxsjpdFiPj9EGnZMklFLYlAT85ue0AF0BNIGkwGiHc2CKgjLXyc4+MMaJ4GeOT49Yp9lsNux2O5wtV42zMYbNZrPWwC6M+rJA0NagjV5ZdvNM97s87wVgPq8Sbtt2lZkoZSjLel3kFEWBNsLGV1UlIPJZ3e53z6cxwhIvkpgQzqz+klBROsfk48rm+lzEgQ7rDsNioBvHcX2+qMhmsyHmBVnXHnP28kTwE32XzXgx4lEoa4ghpwTkXOUUzobBonBs64bJTxz2j9x+8AHalpJTnMDmWLJVCpMCPpxj6Zwt2Gx0NkFKu9w8DfRdx/F4pG3l2txsNhIvtt3ygx/8gMPhgHN2zdltqorCRHyKzMPANHte/8Zv8fKjz9HGMQ89wUxoY/nqb/4ddbPjd/7RP8bYv/O2+C2i9X8+F/nAZS7za5oLiL3M9z0BabX5Aomf+UW6WCna4pwSnlLAjz3T0GHLiu2LD2mf3nF4Z3DlVmK5TiIPWFhUiZfSaG1JUdEOQ75hy9bjYsCpqmoFp845htwXv9THLp9btiyXf+eZlGBNFFieaDZVLaBiiZLyXqo6U1L4ML+3xb8ANz/lfw9BwvGNEqY0A5p5PssVnrPAz6UFAlIDkJ5tfQuAaQ9HhNCV1jCQ5iOlNSlGKVfw4qy/3m354MUL0apah3GWx8cH5hDWpi8/h2ykEzB0d3fHZrOhLOt87tIK7EDTdzMRhUqOZiPHXzSlouNtNtf5WObc2me6X5E7jJi8pWwKS7SWyFkX3PcjwSeJOkuSf1oWDqM0qET18gUhzisQneeZrutWVu94OkkcWVVRFIXkuxby3EUmEFDWYBM4pXFFSVE3K+CcgoDHqCYCM0kbfAJCxBUlQ9tl7e+OEPJ2eO/RhrxASs/kIQGtLJumzJKJJNsYWtOPUsxR1/W6IBKjnWy1xzCsJqjgPdoKoA8RqVudJ+7u7gRkThNhHjl2bQbvYc1ZFt2vxlQlb9++ZbvdouQMQkyMg2ecenQM0i5nNU1VE6KY1D7cXXP/uJcmva7HmppoCzF1xUQkg30iKknWq866V4XGFCWFkWOYkmZ7U7DdSMLA6XRaAfwis4h+pu06nJXXhnUWV1TMfqYdW8I8gzJ8+81X6OLf0B0fSSlx++oHvP70N9lc3fL60x9S1M3ztyOA9tl71dLS9eNn//YvgP/x1/0me5nL/Kc6FxB7me91/gFsrJSq51kBbAz4aST6CWMdtqiYjz1j1+LniC0UoHKv/TOXOCbHJhXv6Qe7ruXm5oZXr16tPe0LQwqw3W4Zx3E16yxMzwJC+14cz+Wzpq8lpWAxeQEYJaTyUlaw6Pii/1lD1uJe996vaQI2a3hN3vL107yybc+3NJfHvaYTODHheB9ydm5ct6YFfEf8FFAx4aylyIygURqDNFy9e3jkzZs3FNby4YcfstGafhzon/ocHyZsMcA8yXNvmobb29tV+2ltsVbYLtpjZ2u2mw0xyHMqCpFvSJHEQIyJ6+sbIeJDXFMREgLmtIFCpzWCzKeASlEqalMixMimLpl8JEwj0zSgoiLlPFDZqg8kwmrKWsDOkgxxf3/PPM/UtcgThmFit9txfX0tx9o8k3/k47pIULque49pX2QoK5Orz01dcs34VYKyNHBtNhvRtC7saNLrwmmapnUhtf5+a9efsRzL5bpYFk8LwDOFYwLKqub6+ooQAk9PT8QYubqWmK7Rjzw+HmmaJr82RMqwPK79fk+9aSjKOssrJKt2keLYnDk8TxNVY7IGWlE1G/b3D7zY3ubXR/5PlFxlq6SAY54Sc5BjGRJst1fooiQGhdLw5s09WkHw59ftNE2cTifKqsZo0dwurzNXltx98Bn1bseXf/EnpAR3P/iE09MDVbPl6u4l1y8+4OXHn+OKkmnsSSz5xFlmc2Zcv+UXz8LCfvHrfq+9zGX+U5wLiL3Mr2I8cEBA7L8EdsD/GfiUn9PklVJkngbCNK0O+rlvuf/pX/Dwzd+iSCtAXUwsJInGSWSnvtYM87xKBO7u7nj9+jVjbhTa7XbvmbPqouTu7m4FXgtAWaKirq+vn5mCnrNmZ6PPAogWLee5VhamaX6PuV3bqDIgUryfLrAUJMQY6boOV1QURUVZnHWtS1vTwqLKdn42NSEmtBAC4zCwrSoqV2ZTVJICAh/phg4/zRwOB/b7PUVR8MEHH7DZbhlnAU9+nnPpgF3lBNYZdldbrq9u2Gw2aG3pOtEdy3Z5xXZbrOfGe0/pqsza2bz1PpOClCFYrUWWkBlBOS8FMcLYtyg8czaC2bKgqmp8lMVL9B6VFEYlAhGVItY4jLVoBdM0kDLzt+hQSed2t6qqePXq1Wr8k+g1tzK1u91uTS9YFg1LhanW58pYuXaFTex7kUx476UtLpJBqTDBZelWk1IIgbZt1/NpjMSlPT09rddItaky49yv2uHdbifRc22P03LdLdKORZ+ttWa329F5j1t2E5B8XZFxSMnD4XBgnmf6vl21pss1fXV1xfZqwzyH9frebXZ04yAabh8YoqdpGoxR9G2HNgUqQX88MCnHtmvRjUI7h0KhYsoxxbIRs+yQaK3phjHnzhpSTBwOe9588zV1JZKUr7/+mjgFiqJk9J7bD7ds6w3XtxUpSSat0Ypqs2V784LPfv+/yHFsgdef/AYvP/qcsm7y1k9eUPpAUdbAe/rXByQi8BfNf8MzFvaih73MZX71cwGxl/lVjEFY198AfjP/m//uF63tXSEwng74qSf6GT/1vPvpn3D/kz9D5e344/EkIGMYVhnActNeNIsLC1ZVFS9e3LHb7dhsNqs2dhzHld1y2ohW0kke59u3bwFhaJ1zfPnll/lGKIzbZrNhs9msv2thRp8zYsvviTFilf4ZreWinVy0r0sm66IxHIYBlaBptlhXriAXzo74Zdu+MHYFPOaZ9ra0jsaVpHnm6f5+ZdfGuVsd7kqplYX+wQ9+wN3dHYfDgWmaMLkNaWEIF+bv6uZamra0zUDerwy4mI5M3pZPzFMgzhFNIs0TbXvKFaBzPm5xTTEonHxf3584ZkAv0WUJaw1lmUsisq53yuUNQftVD+2Mk/pcayDEbAgKJN6XZCz61OVxLwyqPK5zA9k4jhza05rlujDvwvAm2rbl6urqvKB4lkKxyEvC5FcGftHELudzyRRejq9IAdLKGi9s7Ol0Ws/98XjM/+8kDkxp6lqkHMvCbLnW2rYlZUY6xigsbDrn9/oU14XDMAySI6s1ZZ3Z9UJ0u66MKBwhb/ubvBPSti0pyXWBVoxjjzWJqmloyopRG1QI6BgwykIQpjgpUDpJioCzEjOHZB4DhGkmKU3TVFxdXWG0mNyapuH4eKDve/Ts8dPI1Cva/QNaJVzZUNQNx6cH2uOBoWvZ7K746Ie/w6uPP5NkjO+874xDR1nXzwHs1/x8ALuws88B7IWFvcxlfk1zAbGX+VVMCXyI5Ch++Pd9cQye/viInwbax2/55i//Nf3+HUoritIyTv3KmvlnN/6iKFagMT4L5tdaczweCSGw3W6zdrN8z4AzjiNv3rxZ2dclVkvqZ59Wloi8LbwwwAtQWbadF3PPAnQWZs2oJfNUnOc+b3sao9HaQCLreAMxZEMbYuha5AspJXIRF2YxsSVIMTHOnYCXqkJltjTMMzGIVGE4toxZEtEjINtojbaW4/FIQqo5N5sNp9Mpm2QkUsvnaKZNLdKB3W5HWQr7GCKkpEgJisKhrQX0WkggoDrRd0cwPWNmKYe8+Ig5N7dwjq470UE+1uq9YoUhG5IWB//CKFotx2+apqzvlWM3B0+aZEE0zYGoWAslSAmf/Hvb7st52mw2WbOsJL5pnpiz7nNhXBegs2zjz88Y/+ca6eXvy89ewa0Cn+R3d6OwvUNe7Cids30NK9BeFiTzvBj4PH0/4lzJdluw2WzkOGkpeLDOrmUEMUUMiTrLPU4nWfxhoR+HFYSnFLi6uZbrTEnYv9KWOXiMcmhrcEWF0SWTn6kqKU4IpJy93DGMcg2mEPFxxI+GqGeickztE5WzaKfxMUpUnlaQpGpYKc3sg8SkGYPPhsBFjnN7fcPDo0g+lt8NsGkUwzQzt0fZ6TAa5yy3rz+kbjb44Pn89/6Q3c2LDFJ/ftbrPPRcvXy9/PUXAViAPwX+XwhLCxnAXljYy1zm1zMXEHuZ73VSSpqfZWF/DwkFL3imh12/J0buv/4J9z/5d7SPX+NUQJszeFwMRfM8EzJYXBi259moCysrYEyvW8CLXnX5MwwDhTmzY+4ZazXPc2YXM0uUI7cWfWRRFOx2OyBHcyX13uNZAMzYve8+X5jUJZt2Hidh0oKA4hSiPO7sbh/7cf1aEO2ryo1eRgkwkMxVmEbRB6cYGfpeTGvDSF1WOGOJPoCWx9b3PafTidts5Fr0nS9evGAYBt68ecM4jmybZtUUC1MqWmNtlpSHKrv1/erIn6bMWGqDdRq1nhdyrqmh7yM+TGt0lQA3u5ZFhCCA1FrLFDz9QXJGLRalE0a71eUPZK3lWcohoDOtTVBnJvz9vNe+77PxqsipCXJu1NCv7PNyXpcF0BKBtfye53Fry88GVlnIc6nBNA35Z7TrwmmJcxND4TnBYmXYjVlTLJqmWTWzNzc3a15qjBHj7FrakELElcV6LR+Px5wXfJbFNJsNPkh5QF3XFHkh2E+jyFOMoR9nSm1INjPyPrfOBc8wdIQQOLWHZ/KcmjDNVGWJLmva/SM4Q2ERqQERlYywsXkhkFLCZOOd93OuOVak6KmbirIr2e/3wi6fTpxOLdvtBqMlhzemxOb2FZ//7h9w9/pDXFlR1DXG2HPmb7aPPtenx7zL4IpyQkDpd9MHlhmBP0YA7Mq+XgDsZS7z65sLiL3M9z0KAbELC1sBt/mPUEegnsdN+XkiBc88toxty2yhLAuGsac9HWnbE13XriBiaU+y1hJIuRBAvmfZJu77fs00XUDs83zXGOOqe3xu1KqqSrbNjbB9MbO3zyOyFuC8/P8yy++QbW//MyUJC9O5fK02hqQUNlq0lZt5zI9naeFaixViZt6yE70wlqHrZYs4RrTOLG3WLEqmaol+pst99+4dh8OBsiy53u1oMtO4APsvf/pTvPd8/vnn3Fxdr2Cs73tmHzDWYrN2N6TEHNIKrhOg88KgKgs2ZUEKPteg9jnsP7IdR7ruJAuJ7XZdSMixnlHWYILLCwRIShjsKRdUaB3QEfx8NrqllCQ+bJFcALvdNcAqI1kAdlVJo1uTDUyw1BULiCyMJWmzRp8ZY2QRA/hxWuPbFkC56FWBVa6glKJs6jV9YZoG5vlc1wu8V1kr0o1hjeYCVo1tjHEtUrDWkpQwqjFFtDWU1uCKAmctGM00jkzzTDgduL69oWiKtXq2KArKfH0DJCXXO0ZLLBqSaSytFrLlb6xDzzMRmGNan7srCw6HJx4f7yGAM5ambNhuNrhmh9psKOqKUFfYUuGUIShhvAPyUWuzJhQYFFYhqSJ+ouuPaA2Vk8zaYew5jT13H31KWdeMh0emcaDebHBlyem45we3L57nvb732nz+mp2nkappJoW65+8GsH/KOWnlAl4vc5l/D+YCYi/zfc93S8cHhM24BV4B7vkn/Tzhp4Hdiw+Yhh8RE+zf/hSUaET7vl+3o+dsOFoyXI0xWHWOvlpySBegujCfC+AYhoHj8SgsmCvWyJ6u61ZAsYDGq6srAa7P2raqqnpPp7pUtgLvJQos5prvxmotj21h7cZxJPpwZvWGmRgCMSW22+175iFtbG73mpnmiTAOK4AtrcNPM6dcF7rki9Z1zTiODNNECkEMY87x2WefrT/fe8/9/T3ffv0NSil++MMf8tknn67a0DVxIFf+KmWIEfrc7FXXwlgqbdYWKYBTZgn95JmCpBBorbHNlt1mx1VMBKTGdpgnYUBJqJhNbH1P6WrqjSZGzzwH/JSb17Swtk6ft/P1s4D6hflWGdCILMCv8VrwrNZ3Zcrdeh6Xc7boYdu2XfOFl+toOY/LuVzavxZjX5lTD7Q+R7HF6FHKrZKBZb6bYrF8/TiOXF1dyTZ+TokobMnT0xM3NzcUWd7gvQel2O12DM7xsH/ieOhotpv1dxVFsQL3qqlzPJhc18M4ElNam8BOfYfW0oyRFIDOEpJFLuM4nPbMXqQ9Uz8wJWl/i2WBH3q01cz9ibnfYFxOsIiSLBGfvUOsbXIpSCRciIR54tRLLXTfyut/HEfKouTFR59w/eIV7775gq//8i/46m/+ihgTv/2f/1dZXvE+eP3upJQ4HZ4ma9290vrp53zJAmr/NL9vHZBEgr+3vOUyl7nM9z8XEHuZ73tKBLD+vRP8TPt0T3d85OrVR2xuXnE67el++u/wXtP3LW17pOskJ3IBSct25PPKTsjJATnJQCVhYDebDdvtlrIs34tQOjw+reDk5uaG4/G4bjGnlDjlHFGTt6nPcUnzqtMLIUA8g48FMBtjco3pmXVdjF3ey03bKi2NUzmqKIRIiAmtDM4K+xeRCCEBXJIdOg0C6MMo+sHCOUgSzRXyMSmsxZQFxlnSNNKPAxrFTc52vbu7E+PQ4cjT0xPH45Hr3RWfffYZu92Oh3f3FFWZwZ1odI0tMsBKa0OUcw6bExBClkXMIUkZQbWVFrUiUiDpCIvm0znH2PVMwWM1FMZAjIzzzNj3hNORF7sbdAaJsx/pszxDdJ+KcfIEc275Whq/jNIopd9jMhfZwLKdnlKia9uVQRZTmlxDi/HKWo1zhhDmvBOgVtOfUuUqwziDXvBevt57T8zb5iHMWeqgGQY5964wzPO4arTPBQdLnu2QF0WS+pCSYpgEWyWV4+W8F0AYI6OX896Q8FGus67rePf4sJq/Ntvte1FvISRsIWcmaUO12a7GNW0NVVNSFAJY5zkQMvMt139cX4+bumHsO/bvHtjvH4njjKkqdlbB0eDKAmMd1BCCwidFUgZMggCGJapOo1SUhQ2Jq82WbhzQWjOOI6fTiebqmpQSu5sbxu7ElymgTM4+Tu/FT/+imUhpPj3dHz745IfvkPvhd5nYP80f/xjJvP5rpMUrcZnLXObXPhcQe5nvbX6BHvb56Px1AAzdiftvfoo1Gn39gjkOHB6+4Xg40dSO/tRyPB7puoHSnQ0t0zThqhrtLGSX/xJXZAsBSVYLK/vRRx9xfX29pgYsEVa73Y43b95wdXXFp59+SlVVHI/HlUFdQKc1wjAurK3KjFffdpldNCvb9VwnOYzn+KS1Mpb0Xm1p0zToJUYpiRbXmXMLGED0gWkYxbTlA2GaGaeepqpxVpN84Nh1kKORFpYaWJ9zWZYU1q1b2KfTCT/lvNsQ2W2kAWm73eLzFvoCYBc2G3VuHosxUmQQH2MvsCNGkoJdU7G9uWVOmilnomp3ztn13jOnhK4r1DgSEBA5xxmvDeXumt3tHbUxTEOf2eqJq1sF0UMUsDLkdAM/ijZ0niZy+C5Ka+4+eCXM+/6AT9IsNs8zKm+JV2XJFDxzzu19rpkWfa5apSlKqVV/utlsVlZ2SaNYmNNFmjIMA9XphE/xLEdQ55g0Y2pImuA9Ifj3mHr5/o55Dlxf367pCbYQicySJLDk8iatKEuXWfUpg1MnRq8Q2O6uUSqxu77h6ekBpS1VI3nIymim/PurqmLOjWSuLORatxtZZCnQxmCsxXsY/cwcIsYoqiazt4cTT/cPpKS4qQvR/qqEKUuKZkNhLSlpEhptFDFC0olkjHyOiJ8UWkesjcxBQPyrV6+IMfL4+AjANHR8+Zd/zrtvvqTZXfGjP/wvuL57yTSOxBAx9j3J/QxMz/5+aI/7d8en+/0nv/X7AFvOoHWZP84fQ/74k1/3++plLnOZ81xA7GW+z/muHhbgDvgA0caeSw5SYup7jg9vsUbRnw588e/+F9789G+x2tKfOjRGjDsRXFkyZ/1hsTBISgweyhhc3s4+b+mK/rHrpDnpyy+/XM0/3nua62t++Fs/ojueePv2LU3TSA7nkjKgLUVZrIYjIlht8X7muD+QvNzjAoHkPTzTnsaU0KYUjumZ2csqhVE2N0U1kns7zlhX0tTb3K4lYJWoRIOZAZqKCaMVyhiULSAmpm4iEVZ9sFGaECMhgUXYyJcvXzLPM1998VNevXpFWclzGrqWw+FA17V8+umnXF1vGYYOqzRlWdGPI66osVkeEEKi6/oVyJXWrTIMWxiU0pjC4ueOL3/yQFIWbZzk82LXjNdhEklIWdc0Tc04T8Kwl45u6FcQPxnLXFa4qkGTCMOMzqax4CfKahSDTt9hyz5v66fVGDajaK5veDye6A8nmroWqWdOLYh+xiio67wlH6X5zFpDUSyKl4h1mmZT4VMkAj5lyahxOS1ASjOGsZMGLKuJpaXtjsQgsoSpH9bFS2lL/ORpB2H9q8quaQfLAqEsS3bXNU3TiMHNjxwOLU3TsNnUcj2qyKk95NdAnR9/xLmS25e3VFdXJKPZ3t0iLWkRbQuGYaQdH0QaM89UdcmpbTHWCqtpNC4XWDRlQz+OhKSYw0ywClOUVJSkwVK5grKp6I4nPvrhD9ne3tG1LXZTYypL0okQPNPYo1yJKRs0mmEe8SGhrCwA07LTMXtiAmUsiojLbParV68wCg7HI49f/YSPfvS7fPrbv4crCu5e/4CyaRjaEykG8i1uzidwRpjWt2RJwP7x3fHm5QcPxthH4AVn0LpMePb/J+Dx1/2mepnLXOY8FxB7me9zEpIH+y3wZ0gqwYfA7yKFBxHJkEUB1WbL689+xNgeefPTP+f+678mTDPGWApdsX94wHvRty6GqcJV1JUwsmVRr1u8KfrVjd113dpUtGzzb7dbiZbK2r8la3bRhi6O9eeJB103EIJUly6ay8IYNtt61ZMuLHDgLCvQSoFejfOrS11kD2GNkdJaSxh8jpFKGaRHHxiOrbCbXqpfjdIoFDF6qSxN72s3n8c62ZS4210zVjX9qeXLr76gLEtub8Xs9PXXXzONPcfTgY8+/Ji7u7scu5So6mYtBLBGMU8DQz9ldjcfp7YjzJ6qqSFKiYHRhu70JMH31jHOAaUM7f6Roq4p6wpjC5wFpRJd161aZWU01hrqDDAnH8BKeYFKopNMhSL6KLWkyqILjYoepxXKmbzNPeFTYg6KPnlC1BJuX9j1PCxa03mecWVB2ZQYZ5kmMXKJdKRhmuT6qOuazWYD2ma2X2QVKceaLbvMi0GLJCanWJay7T9JPuvSCGdtgfeRplk0z2ldXEkSgrCqtijXZA6Auq7X7X65NjuJj7sSVvX+4eFc1LDbcn17xxQjZNY2+BkfxQxW2JJhyouHomCrFCFFxmEkaTFeRaAfR0CTFBz7DmU019c3hBj58PaWm5trnLG8e/ONsOwJfEzs+5YPbnZEbaRK2k9YP2OsaHc1YI3EtBHAIwvHQMqvGZFfqHBOgijLEn060Z2OoA1lTgwxmSmXiLDV1OUQAGs5lwK+JSVU4nTz+qM/yv/2Fe+D1u/ON8Dx1/2mepnLXOY8FxB7me9tnlXOfgv8CGFgr5CbxS3C0q5axLLZ8OIHnxPmEeMc3/z4L3l6fIToabsjp75bI4iOpw6lYHsrua9N06w39aenJ46HpzVo3hjD4+PjGo318PDAJ598IhWX4XzP6vseQlzB1CJz8LkRKoT5WSuXbPmafKNcIoLW6tFnxjLJTHWglbDJQIqSjyltRfL9Rqm1EStMs+hao4DYwlhJL7BWqkrXnFlDXdfMQ59NZO+bmRZW9rQ/st/v6Qdhoj/99FNhDLseZzWP705s6oYf/OADrDUcHvvcxKWxRJy1jLkhbZ6XsP8SYzQheMbBA5HgPbP3GK0ZxpFxGLDOMQyTsH1+JoaZME24qqLZXaGNpWkqlDGM88w0zmueqkURsp4ZZKEQZ49JohZwSnS1wU+gDErXOFegw4z2IzYEmpSIRFTWeiYfsDGSnENnoBWR0H89B7TNEWsKVEw5GQK8n2jbXGIwilbWVAKcfBBwupi6VH58ENGaHENWEHxajYmiudarzlPMgiJNWOQq3k9rs9YwjvAsnk0ptZZ8tH23SheWzNqmadBas9/vMXWN0jbXvmpSUITg8/VTYXITnABxRYghpzfUq3bblYZxmJhD5Pr2lqqu2e2u0c5yfNrz9t094zhSVyXXty8yqCzwfqLebIi5DWuaJuw4oI1UCpM0UmMbCAF0WuQUWrJkVcLZgtPpxOPjI23bcjrsSUBRaL756z8jzj/k7sOP0cagUDhXPDd0zZzBaw1sgE5p/T9/+PmPnpvq/i4AC/BX+f3qooe9zGX+PZkLiL3M9zYpJYvIBj4H/hD4Qf7UYqCon3+91gZXlljnuHn9MS8++g2++ps/J/lcaamErRkGMXi8fPmSjz/+GOektWi/33M4HARMEFdNobjQ1ZomcDqd1raupaFoLT+Iae2LX4BgSgmV1Oo0B0S3q0WDumhj33vu8vzXfy8wEMhxQml1dy+P0yxlBt4TJgGuYiRzaKsoi5Ix5+Mu0U8ahc86TJfLAbTRqxTCGEPbtjw+PtK3HVXhctGDw1rN4dBxPB1WZvCzzz7DOcf9/f0KgBfGOIWZ7nQghUjVbLJUQUw3OleeLi1SWku0kzDeDX3f46ywbTFORA9Ba+IIPga6aaYoa1zdUJQVripxhVud8CoECid61GmaGPshSy088zzhksUaQ0rS9uQKi+Zc+ACROYpcwChNGCfmvsMmRVkUKGuY/LgWWISUMFZjkXapJSFAzmfOj8Ws2avPI9uWxU+KfpU0AMRsNKvrak3UWI6t5Ai3cl3Zc92r9wKM5+ClQSyE1aa07A4s19eaEYtZUwPWOlyl6E8tWIMzFuPsz2i2XVmsGl7j5LGZQjKAnw57NpsN/ThSVhWbmyv6YaDebiibmq+++oqnp6esC57WgoztzS2761tO7QGlxGQ2jZ4wDLiiwYRAIhBjYIoJtEbrANailUFpICRiSnz99deE6Jf3FdnNyDsa7dMDX04TNy8/gCSVy64o0UbzC4IJCrK29XkqxD9gfvprfku9zGUu8525gNjLfJ9TIKUGrzhnxCq+o4ddJqVImGfmsWfqW2KQRidrDCFMFEXJHGTb+sXL11xdXXHqB56+/mbtvCf4tblrMbyciw9sZhAVfT9k9rbgcDjQtl0OaS8xxhJyNaaYec7FB3N2hYt7WqFSWAsSYowEnwsN8pbw2nq1sMJaCgyWrc6UcmtRNo6FyUNmkpb6WR9mDofTKoVQSq0MYUSMO9M4cHNzw+5qA8D+dMwZpgnnLHrTYKxi6gVwnw5HyVJVGj+NuW72hqeHB/r2yMu7Vxidq1dTYp4iwU9SCmENRil8hJQEiHofiPNEVHkrXEWSEj3uIrFwzmX9MiLLMAoVc4yZlgWHrUBbA8YRYhCphM2xUGVJUdZUdTb0DaPU1YaZKchWOcZQFBXWanQMhNmTCOhJzG5GaSaUpCHEhCGhCwcxoAuRZ/gYGDoxnTljKbWlG4dc4yvpBsZqdNL4eWFmJS0Bo5iif1YpLIkISWn6bsTaaS2HWJIMlqIDpRRdNzDPR5FkrDFvcs30wxGI7KqKzbOygyWfVuqNc+Vs3mFIWuGspq5LRj9z3D+irGG73ZKixwfZ3i9iJUY/q1A6EZOHpBmGjq7rGIaBq5tbqZWdJrS2HI8t9/eP7A8HMahZiysqdje3zClxeHyktI6yqjjtn4gEhn4iGU9ZNVRpSwwzEdmBSMlkHXAgaYMyWuQpydPU1Sr9OB32HI4nrHNoBWVV4ocTX/zVn1A2G3a3L6jqjbzV/OKAghecW7f+IfNHwOOFhb3MZf79GvO//kdc5jI/OyklhWzb/Q7wTxAdrM1/bhBZgc1fCykx9R1vfvJXfPmXf8zXf/0nfP3jP6d9esAajdUSPzVmR7dW4qr/9s1b9vv9mtXqcsTSmF3qSikBHea87V8UxQqqnhcOFEVBCnE11ixO8yVCq+/7lWnSmeVNUTS6Z0e7sDsqywmWzFp8QiuNsS5vw0srVIq8B2ZSAKXP2adz3r4nA+Uym8vkpp8oCkfTNNxcX0mFbnc6Z9/mytpIwmqk7cgHXry4Rakc/D+IlvLzzz9nHEeeHh9pmoar3dXKPkpBQI+1wpSDZIaWZYU2og09tCeMK/Ah5IgnJ1vsk6esSl68fEFRFmjtOI09/TyD0njAWMeL169RhcMVhegwUyKkCAiDHhVruYMyEuhfNTVlU1NtNhRVgS1KlDZZBysALSVye9VESB6jDYlE8EGiv4xFGZGzKK1JREKMJBKKXCiREkoL2zn0Qy5LmLK0RI5x17bLlb+yqJI5G3NMlz3rpUNgms7mrZQS47MaY1l4xXMTGHJd9UOPMZqrqyvKfA0vhsWykmizOUtelixYlUFuWVY4a0kp5iriRJtjx0w+nspoTl0rkW0pyd/bE8fjgYiww9ZZpnnmq2+/ZppmNtstALuba+5evsBovcp0Xrx8hdKGN998Q9e1pJAYJ0+KibppcGUpOtiUVi0rKRKiJ3n5SJSc5BSSFGjkhdXhsMfVNVXVyGvaWdr9E/unBz749Ic026ulngsl2XZLrqtG5AUdInNaTF9/3/w3Sqn2H/i1l7nMZX5Fc2FiL/N9jubc0OU4s7Dld7/Q+5mHN1/xl3/0PzB1BwFE00gInqAM0zRS1zW77TUhBI5dz+PjI10nfe03Nzcr8DTGYDIDtugPm6Z5L9B+yZZdjFyLfvC0P2+vL9u6wFpYQBKdqEZlgCvb+2QdX3KLEYxn2slAaQpSUrlOdAQtcWAxRhKKuqxAGZKVGzUhMg8DEYW2ht3Vlq7raLsBozRVYbPGUipm/TSuhjRrLSYf/AVQDUOPMYoXN7ey3R8CwyA6ytvbW6xWPBwPaBRNJSqPJQNXAJkwXijDHDzJWPn5KpGMBWNxVY0qSmwSXbFPHh0SVVXQDiMP+yeMcfiQ2N7ccvvqFcd+ICrD1+/eoZzl+uaWQucmsIVJ14lC5ZKDGOU4RgHUyirCHNnd3QgTPky0bUvfnZjHCclu8lgV8fNM0gZrLPXVjpAjthRgy9wENViSGjApYZUmJo+fZnTSayHAufrXo9Kw5sgK+FSrXvV5eYKK8b1M474XRn+RqLRDvy6qBLyyLq5AGr2ur6/zwqRgzvFkIUZCPFE3pewaIPm3aFn0aCcgexxF4xw18r1BWOeicpSVwznD5CcOmVXdXl2RFDw+PhIVNM7RNDVte+JwOgroVwkfJjbbmqrZcn9/z8ODkJuVE/Plfr/neHjiKicroIwsD5Qi+YCPkag0LiWiylKMEAhRoeKycHm2eNWaqiypqwI/T2xf/Aanhzccjge0Spj9A+3+gZtXH2DMe7c3h8RreUTG9J8Bb/jZNIKfN3+klHr7634zvcxlLvOzcwGxl/m+xuQ/+u/4/MrC9u2RL//y3/L07ZdY59hUNdPQMs8TWhU4W6x5rafTibf3D5K/WVWrEWYxYkk8TyIRc3B9sYK7BVhorVcH+uIkv76+zo7xc57rsgW+FCUYreg6yYRdAvOfnp4orUQzJZ2NXDkv1mUtp2gVRcfoI1gtppfKOYxx4vBPsv2slGZO+XEaQ1mUDL0A6/paEgXCKAYea4RpHvsupxyoNe1AgFQg+ik/n0RRFPR9j5+lfatwjk8++YT90+NqLhJzz4j3nuPxiCsKbFkRtSEkiEpBZmj9HEErsCWt92x3O3ZNLeYiEiZGTl3H/tRjioaPP/+cOUSmEGlD4u1+T1E17K6vMFpY42PXEuNxNTxprdF5UbAAM2MLiigmpLZt2e/3XG0bmmrD7mpD4QxjP+CniXkeCH5g8jMheerswjfGMA1D1i8bXGNJVoucIOtcjdG4smAeRQ6y2IMW5j2asBY9LJraBawuf5eGq7SC36VdbpGgnE4njLNrbq6kS+i1TrmqamKAzWazFjwUheX6WhZ0+/2eEIXlLetamNlaJDVd3pGomnNpxziOXN/eUJby85NStH2XNchCWabM1D8e9tzd3UkhyOEgLGuKbK927K4lh/hwOvHVV18xzBMWkex8+/AojysEtht5TJvtlpQU0+zX9rMpyCJuGnu0EdnIovzVCAsOEGfPOE/5NSVyiMPxSAoT2jqqzZZx6OhOJ/qulYxYnXIt89ratQgLWkTqtAEahJX9RfNHwP/0634zvcxlLvPz5wJiL/N9zXM9bMP70pVFVgBAiIH+dOD+2y8Yu5ZgDcfDO6b+RLEwUwm8j5z6jqenJ8ZhxtkSZ0tI+nxzNxbnZLvdOdGBdl231oMuZqXnwfUL2zgMA1ZJ0PtzwLDoDd+9e4e1YuwZ+p55/4TVosE0dolcksdL0pRFiSsFYE9TkNrOpDDWCGupDFXT8O7tAzfX12vpQEiB2c9gbO6PF31jWZb4caLrOkojjzN4iV0KWU4R/ZQfR6591QZdFITZ0zRbYvKEOK/g/fUHr5jHYQU4L168pGpqnh4PkphgLR4xlqVcJpGSYkyKfhyISbHZ7GhcRbPdMPnAYejXYoTgJ/R2y8cffIy2FpyTgoFxRGnD57/1OyhraJqG4/HIFOR4930vADxG2sORIgO6aZpAKTZXV2z8lqIoIHhC9Iyj4qsvvuT1yzu2zQa7rUm+4HRKjGnGmoLgPeMcOPVHNlXN7cuXvPn2G7nGjEObhKsblDX0p5apn9htalLh0HqbEwM8tihkdRbTarJaMoclzUDneDDReOq8gJGFjCIlKdkARV03KGME9BLXGC9haWMGl3It1rXEyC1mswUQl2WR5S6yO96Pg2hmnSzWlJbvn6Z5XRyoXHSB1kQUT4c9ZVmKlvrY0rYtdbWhawcqV2CqrJlNmqYq8dPAV1+8YX9sxURmDV0vi4/CGeYpL/xytrLWlq7rabsOW1YorZlnjzZOqqG1ZhwGEnnXA0kMSVqa8uI8EZHjvWs2aCJvv/yJ7HokyfRVheXweA8pEVMk+oCxbgGxS9RWQnJiQVJTfh4b+8f56/6nCwt7mcv8+zsXEHuZX/pkPWwBfAz8I86pBAZpxWny1wEw9T1/+2f/Cw/ffonRipQ8cejQKMpSMlijD0zTsNZ7Lk1JC+DRhmxs0cwzRC/SgUoXOUS+eo8lq+uaeZ5XQ5joSwuwbv13ODNuC9s7TWH9/s1mg8rGpcVgszCvMbA6v4PPUV0hst3sUNaRlKFsNtzv90wx4oEQE7YssUYTI2gihTX4cWJTN3R9yzSOlK7AGbVqWgFUZm6JYc0ZfR4TtsQ8QVxBeVPVOC3gab/fr01NwiRrMBpXlQI4qlLiqaJi9DOg2TZbtLPUzUbSHSIoM1M6AbBRQUVDpQymrOn6kW6QcoPi6nqNSwshcGo7un5EayirAqWg604QI82mQAUFMTCPA3MGun4cqTZiZJvnGZMiRiW++eprXtzdMQ8Dd3d31FWB0VsB1eOERmE1TNPM42GPKUumYRRXPonJzyg0zW7L1A/047zGl2lrUPn4hZTQgFFmlahorXONa8BnEA5g7LlyeNGryiJJFijzotEuLHV9LjaY55FhGimqCvtMkrCc2+VcD8NAUUnyweTnNWYrhUTbtoRQoa1IHZKCcZ6Zhx4fwTiLcQVzCPi+59T1oI3kJBvLdrthHOU1YQpZTHz77be8ffuWeZ6pNw1jn9heXVGWRX7OapVA1EVJVVX4EBiynvh0OkmkmCuYY8ha2hZrHcbA8XDAZnmFpJFYitxsFwnra8tPg5jAgODhBz/8nOgDx/0Dty8/ABANsFqB7DJ//p23redANiFg9yIjuMxl/j2fC4i9zC99lFIpV87+Ij2sBwolX4gPM/1xj0KkBTEKqDTWAmE1V3XDlIP2E9aJiz2pfBNWGoyANWstRSXmqSXvvK7rFVzM87ze+J+bYIA1kmu/36+lAUso/gIa2hzub62lzkAMREKQomKeAkllx3huabJFSYqJKUSsBhE7KJLSbK9vQBlsVaJzjWpZlhA9WkFVVdJA5CMa2aZux17YP6MkaitrBhWRonIU1qFQ+DiTQpQGM+sYxm5ll3dXogcWI06UbWvg4emJYZhICmptMa4kmZKkC9CglLC8zWZLUdaohZ2eZnQIhBQ5Ho+culaAynbHHCOqLNnsdqvRbonJGifP5mqXgV3AWUNwI8SJaUgoqxhPA01V4tSGbujp+o6xa7kNkd1ux9APfHX/wO3tLX4Y+OLHP+bli1u++lKayeRcFqScsVuVDUMaOJ1OlJWjn8YsUxCQ5qdZcmhtuWbyhqQIPhEikKIULyDpDEuz2FqnG1JeyCjIsWdyfcU1ueA5yx9ynNsiQ1h2C7RmXSBpZyGd0wyWaxkgKYP3kZQmySPWmnbo15i4OXhMjgWLyHPxMZCUwThNDDAME7vdjsJFjocTUSmut1dM08A+17wWVYUxPafTiX4csVYzDSPWJvq2XYsIykIWje3hyN4/Utc1WkvJyPb6BjgXc3TjIHW8pWOeA8M84VyBn0f6rpOCCjXjqpJhCPh5zokYE5UznLoeW4qJrahqUPCTP/8TNlc3GfS/p2hqkOat54j2p7xfR/tHwINS6u/Ljb3MZS7za54LiL3M9zUe2AN/gehifwfRnt0gN5D1JlIUFT/4jd8BlZjbA+3jN6QUSSGC0bniVKJ+lkD5xbC0MI2yhW7RWrSvS1VoiHKTP51Oq1FmycM8Ho+rDnRhLq82WwGQsDrFFx3uwoBprSlyIL5f+uVzrmzM7nBlRH+boqKsG8bZs91dM8+BZneFswXjOOPKihAjU/Bst1eE2aNjoLoqaI979o8POC15r/M45txTsFqzbSoUAhhTBkPOStvVEru0JAwsJpdpmgizRyVhZhfzW9u2vHz9Wpz2Q88wTCitub7RuKam2NwQtMnHOVFtNtS7K5QR1/1pGOnHAetKjHEkI/W/uhANq1YW68o1j/d0OkmiREyEOPPu7bdYJaxZ9BM65+kGP0GIpBg57ke6diAgea0xBE5Pe6ZOTFHXmy3ffPElNzc3lIXl8Pgkms3Hp7V0ghTou46YI8xijIzDLC1U7YmqKClKYaOHUyfmLy05tLMfiWphUy1aJcnzjTEvoLLhK4ZVH50SpKx7Lct8bHLOqdZ6rUXuc26xsXq9PqWwoKIqa/phwpizbAbOC66UcszaNNGP0jImrxvBYK6spCkrCuj1+fr0MZJUgtnSjS1+0adOnkPbsdlsmEbPm7fvBDBWFZMP6+/f1A3aGpGzhCBgtnBY4ziOx7WF7fb2BU0jTHizk4+LLENpqauVRAtLCBPBe6qqXiU+Wkt98lZrnDbMzIR5Ws+pUZBiYHvzIfVmxzwOPH77NT/+s3/D57/7B5R18933phLZHfoC0cX+LpIb+2dAq5Qaft1vnpe5zGX+YXMBsZf5vqYD/hYxRfx2/rcEPCGygoJ8/RVVzae//QfcvPqQ/vjE4f5rvvqLP+Hbn/wF+4MkEPh5pBt6+lFupsY4tLarc76pKuq6pi5zZFYUAFdWEkF1PIjZY2G+VGWoqw3OiqtbChKUbFsWFUqZdUtWa4u20rhUZDe5UcIipRAhgcJA0ueteAwpnksNms2WsqwpirQyvIdTK6H5AZqmPjNrfmbue/ruxNj19CEwdAKoqqKkritUSsQYVpBHShitpb/eObRShOjRCWyOgfLeM4/ynOzilA+RcfZMmRU8nFqmObC5vmGz27LZ7UBr6qZh8BGlpBY2RTFU+dwwhra0fQe6XWUCNzc3KKPxPkiMVfRMoyw+SIFNU6FRooPWCp2SgKRhgpy1OvStNK9FnaUjIzab5kII+H5mtJbdbodNivHU8ZP7R374w895Oh5X938IAaLIQsZxpj/1wrjm511tGg6HA8MwsNtssUqTnmXc3tzcCJjyAkAJkRizaUtpfMgGpMiaVGGUzj/fM3jJVl2uh4W5X8xbc1jKLSx11aCWfNmF/Q0RkxQscWAZwD1f0EmcmshrMCIzUEZSE6xzxISwyQn85OnHgdlHlG0py4rd7pphmHh4kvKPeQp89fgNIcxoa4nJ4Ce/miTbvifGyHa7XSPoxmmGJMarspSUC2OcZAoreHwQs5daGu9Mm7XphnYYUVaMlN2pXUH+ovk+nU64wuD9tL4Gu6FfNeDT0GOdLMyKuuHbL37Mq48+/XkgFgTIGuCA6GL/LP+JXOYyl/kPZi4g9jLf1wSklevv+rxddGr19oqyboivP+L1p7/J7Qefwn9v2D/9C6qq5qFtVwYIznrapmlEd1eKxtCoxWgj+sEqu7Tr1xvaVswqCziVLU6dm6W2Emafc2OXG/XyxzgnetHcUz8N4t632qz1rJKeIL9fZYmCcyVlVVM3OyY/0+yu6Nqe2Se0soSQaJotZVlxeHpABU+YZ/b396ggcoLu1EL0bLdbmqoWc1fbEsJMoXMOrRJH+1IzG3O70eKC17lMYJFPlEW5snqLvCIpOGRz1cYatldXVHXNHMWpPgXRFFvn8HNk6ieUMqAWJvxZA1TWMwJ4PKVRpBRI00z0szQradEBT12HzjWr0c85WivSH06c2gPTKM1VdS1NYdZaUoxMw0wyEVUUdOm4srBD1/Pjv/kJrz98RT9KI9v17or7x3v2T08iM0nk8yWM/BJFFb0w0wapZQ05jmCOEW3tCnxHL8kHemG0U1wjzjAabTQOSChmH3BV8R47rvN5m6Zp3VFYcomNMVSFMNbjONL1PTrLWnTeGn/e9hVjZJrnNZO4LKXYIISANZJZHKVTg5Ai/TjSjxP9OIC21HbD9c0d3ThwaiU7dp4D09TT9z1VU+MDqFnyba3TGOOYPYQ5Emvou5GiqCjrKl8D4SzF8ZF+f+T29paiqESfXZU5aky050rJ4i5m6U7wgiWVOefljuOYI8+m3O4lx28YBiqjOTy85e3XP+Hq5iVl0xAyS51ilKiu87j88QcIiBWHnUgNLlmwl7nMf0BzAbGX+V4m62L/ri8Jz75WbtDGoo2YTF5+/ENeffpb/PH/75/Tt6e8LX5mn5YtV4kgqpinUbb8k5QPWC3xWFMfGdqO69sXa5PXEtu0uLnbtmW329E0DXUGgYuBZmFutS1Er9dKkPuihV1AIVExz9OaEwoCYjebLWVVcTi1JKVpkoT3+yhGsnmWw9D3fWZ3LSrKz5/6jjCNWA1XN3eoBO3hKLFX1tA0FSbBOHoK56icmF8kw1Y0mwsjGDMzLbnvvOekn6ZJdJ3OYa1H+5n7+3uUMdy+eMnu6pp+HJl8ElOUtZKtqjQqlym0hwNFVaGNISQvdbTIsdmUFq0ibXukO7Uc2xNdK3pklYQpnAaJDCustKbF6IkhULoKq4WBPZ065szEb5sNhEQ/9Owf91RVBcD+cc/HH/2AL776iv3+yO2LO969e8em3pICHPdPwvCVFVYblGE1ti11w/M4SWPbPIv2WcljVEa2tc+yEkvKYDHlrW4wos9OCrQixrSWXiys6VIXe174hPeMeJLAkL5rRFq33+V74trm5X1Ea2FjXVkIUz8Pa6GH0popRMZxpmsHunHAB1lEVc2Gq+trpmniyy++lteY0Tw+PIpZTmtmH8A61CCAWxtIUWNLh1OWfpzYbrf040Tby3ndXt1wc9Pk12mgqiqKqlxlNwsAN8at7wFFUXDsesZxZNNss9RFEkWM0zhnhD2eZ1gzkQ1KsVZHf/WXf86L/+MnkCAtx/Bnu2cbpGzlsBxahIH1XOYyl/kPai4g9jLf5/xdutj3rr3lhp1SDp93BXcffEIk4ecJpRIxeqkrVeeb4X6/XwGIsHXi7FZK4YymzLmnT09P1HXN9fVtdn3PwtBmk5FzTmK1Qlg1fkYL4zjMEyC6V1sWVEpTFmdjjUqyjex9XKs3URpdiBlq8pCUpqwb2ralabYMfYcxhqvtNSkljk97rpqat998zcObb6nLgqnv8OPA61cvMMZwPB5p2xads2GVgqQit7e3jEOXt48VKab3Sh1i8mvP/MIGPjcWzfNMWVeEEMTJToJcq9t1HeM0U9bXjMPEPA4MY0mKoIwmJkU79Pn8xfX3xqZeixhCCPRHaX6asyEupcQ0zkzDyDiOlLYEH5jmQLc/6ymrsqQfBjSGcZ45Hk+cTi1t2WKVxmoHKvL0eKDZVAz9hLHvuL6+4ZtvvmEYRGv6eP+QY9UKTqcD8xwwznJ1dSVb1v0kcWRaQ4oY64iTGAmVThR1RfA+R5nJQiRowzRCCudSA63fB0zLoqsqa0pnc1vXJNmlCVIUMyN5F2A5L0PbobK2WS/SgayljTHig6fIjG/SCqtzxbGzOR1As92Jce/huGf2kXYYaHvJxXVlibYFrizQtuKbb97I56IsfJYFzuBzNm9ebGitcRgOp45iFmaakHj66VeklNhut+x2O7Z1s36uqKXSViXw04wxitJVVNfnhJCUEof2xDSdK3jlGjfs9480W1lgnDrZkQkZ/JdVxeg9b+7vuXvxgmnsePvljynrDbYomIb+F70v3XIGsSWwQxbWl1rZy1zmP6C5gNjLfJ/zd+li737RNyXAzxOHxzc44wn+hDWOpnZQizlIKTH3hBil/lJpjC2Z5kjbz9SFbFceDh0hzIRppis6UpJtd4nokkii7XabgYXCR+TP5ClLB8bC7PNWLJnVlC1nYI3Ycq5EG0Pd7NCu4DTMNKZEVRvabqBqtvgQUEozzUHKEsqKbVPx7s1bNmXB0/07Ht++I80e6wpQBucKDIb9wyNzDDl+6lmTmEoMwyAmsxSI84xRSipbtVqjx0II5ziuvLUcSYyzpBBYW2Sm25BioCpqdNKEYSKYwNhP+JBodldYVTKmwDyM+BjXytV+kGit169fk3zg6e07Ukq8/fataFhnzzjNHMYx62JFV+y0xU+BcZxWoG2M43TqOBxOEltmCubRk6IipkSfJlI2zlmnKYuafvYY7Ti0HXNMOFfy9LDPOaqiPZUkhkS9Ken7kWl64OXLO7x/YuyF5W02G969fYDoMWUJMeTFVcIqhc/yCZFl1NnQF/A+4nRAaUWIAQIU1lHsRIrinMsGvCTaZMBpSWmIPlAUJRhN9B6lNHUlpq8pePpuACdmMG0MxiR8CBigbhrGUcorTEjMMbA/HtDHE1c3NzSbK968e+DUjVjXgNF03UBZQVVXPD6cOB46SIYQIv0wSdGZkt8VIsRR6mKjiiRlMYUDn+PWVERjqZuS0pWkkHj35h3DMHJ3e8Pp6YlOa653W4yzlHXNNAx0/YmqrjFGcerHrBWPhOQZ55GkEtpqrm9vcqauLBL6vpPHpnU2XBqaeosparCWp4e3NLuZm1evCeHnkqstsERnXQHfIPdCzQXEXuYy/0HNBcRe5nsbpZRPKbX8fDYW5IbxM3t9MXj2b77kr//Vf4dNI01VUBSlRFNFRbWp0aak73tCWDRzljmMtMcDDw+RqiyoixKrDSjJj50mT9d1q1Rgidh6fHxcGdzdbsd2u6Vte47HI9YUXO1ueNw/YY3BWnHoh8mTokdj0FrkA1XVMIWIUZGb2ztc0eAjuLIGJcaruq5FOmAMRinefvsGFRNv3r7h7dffsCkKrm6uOT3tqZ3lxavXUsJgLeMwM2YzjdWSw1mVDu3khh6TsIFTCITsbo+R7IYP721hL8kLi052STFQSkGQrenoA1VTUzY1CYMtHNoW9GNP1w4oa0hoQvA457jabNhsthyf9rTHo2geu47oI20r8uhAQiUgKryfmcZR9KBD1i9mCUQkEaP8fZ4CuIi1BXWt1lipkAI+zvgx4EOiShVGZQaarGs2RQY73fp8QSQEE4jsQWuICWsL2cqH7JSX6LKydKIO4Lw1vcRiWbKRb5EILJrVfKytEda570dSUjijzsc4JezK/op2UyuFQeFJ79UkL0A32Uhaig5ixKfI6GfmQfJXl2pcYyxJa7qup3s6MPuITxBDRCdQ2qCU5XAaeHh4IKRIjItHcKnMTQSE1dUp5sVAueYNz3NYtddlYWlbkefc3NwIaM+FF4V1DN2Jb7/+GmUMVzfXXF1tUYWlPZ0yKBeZi8oJDOMwczgcqKqa3W6H1iI/8HlBEXIChJjGpCACFB98+kPGvqfd3/PBJ59RVNXPvsHILO9BP0CSCU4IE3sxdl3mMv8BzQXEXub7noWN/ef57xXwf0euvffuL4uGduxa/uJf/recvv0JpdGUL+4w2lGWA8En6u0GbYRpTcO8tnAtIC1ktksMNoYQQBmRFXRdlysvs8M5m2FiNhYZI+1Ry7/7MDFOmtevX9N1He1JmqxK66jrBqtdjrAS93ehCzY3N1T1ln6Y8D5Q1xucguP+QOkSpauIeKwp6KaWd9++oT0d+PjjjwnzRHc68uqDD6gKy9PjPd3xRD/1kh+ao4iWP891lYkIcQGgPtfpphWghpCAuBq6nmfkLgahGAWs7HY7ASNNjXYWpR3DNDIMHUobbm5uwAirLKYwRVGUnE4n3rx5g58EgA2dAPayKMW5n7epwzTL9nzuOl1C/5fHprXFaIvSaq1mXYoY4GxsspnJ1EheLrAC0SX793meKlmnO2bwrBFAf72TCtXjsaXrulVjKy1Zcn2hFSjei3cz2q55p0sjl2zFB4wBkl+1yCEEdDISN5b11GSDWYqImWmNAmM9R0krYdcl+kBiuKJ671gscWlzfmzBS+Vq1w08HPZgLEGSg4lIqgKM9OMsizVXrhmyMUYkcThHhKWIQq0LHwHVWSuuzppfOMeMSTHIxDRMWCvXk1KKqmlwpbD+YY6MU89mu6XZbER6khdiKaq8k3LgdDpxc3eLs5ayrCjLimGa1vMZk+f/z96f9dqWpel52DO62a1uN6eJE5GR1bGqWKRESpQlUBAM2DQEw1e2Yf8C/z1fGL4TCMitrmQJAkxarCqymuwiIs85u1vdbEbni2/MufdJZhMGXRmZyfUFDiLi7LX2nmvOudd6xzvepqotU5hIMfH68y/56q//lfy81eZXvT/V5d8fkEX1hYm9zGV+i+YCYi/zdzqFjX1E4ms+A/5XSGvXzydIcmbqTzx9+Aqj8lI3KmBHMfkoW/fKLsar5z75CrPZSG1maUMK47QwVM5Y1hvR6gmjZD/5AA4h8PDwwPF4pOtE27c4xI8nlNGs1+tF5xmSRpegfzDorNnsrqialuNpIKHYdM/1mdvtlru7O7bbLZ+/e8ePf/xjPny4QyvF27dv8TGSc2K926IU3D/d8/jwwDj1qNL/3jSiL2wqVwxxYpzJqjRzPZ/3T0DO/O8Z8M6ShBnEtm2LqyoxneUkms8s4HEMgWEcSSjh5ayBbMtWsimVo2IUe//+vSxGkuhp191GQON5XBYRfd8v5RFZmeLqf9Zhirb0hdufZ2A6X6f59c0Acl50zBmsM9iav8cMSlXR+s7nQJXUhpd5w7NGc9ZmhhCwpkQbp1w0wwqtxLw1fz/g39Ijg8hNVqtmOa65OS7nTC6xb1DyZZPky1JAY1JglSXESJzzZQvwTSlhim7WarNIEULMpdXMM3mROaQYpH44iSY3xlx0pRm0WvKX84vfytlwOTPMMzAVUxufnHuA9XqNtXq5XnNxQwia4XTGlMaw2VTY+0kAqPeksxCjqWDIuhbd++FwZL/f8/T0tJy39XaLKhKWGCPEKBRqjPTnPd+7+vtoNMPxsBzbz8zLzz1f3o8mLnOZy/zWzQXEXubXMb78GZBtu0fE3DU3eX0y2lrWu2uOH2tqo/Alhsh7zzQFQgajJdz9efs3lIajktvpR9EMao0pH95OK2KSmKGQIttuh9YCipwRY8w4jpzPZ/wwLm51SPSD5J86W5ONIsWJkBImKayy+KRYrzYY13A6i6Fpe3VN26w4HA6FHYau7mhcw9PTgY8fPwJwc3ODs5r7j3dUVoDB3d1HprGnXndYb7EoVE6Q8sI2g2hitVaLAVtRtuMLU6e0QheAF2fTVWG7ZlA7TRNNm5aosSkKizuOIyll0WT2PXXbFMY5Y41h3dSEKIuF/iga4fOxL3m6NVfba+q65ZtvvhHtZwStLU3TUZVGp1zkDtM0kXwgFjc/PANXYXIts3FMq4xSkFIkYRZ5yAywXpZazM93zj0nSYBkn2qNKUzuNE3lcTVaj8v/13WN9xOVM9K+lUQBY4y0xGlk/3nysq0+s8Hzccwu/Blc5yAMZkb+XhLKRG87pw6ALl4vIQaTypJ8UQA3k7xWHwKqXKshikEuRQGfMSvOw4CPGW2cRHSVFrnRxxKhJTrwqpY0CGUUinLfkJfXIfdKQJdjfrm4mBcS/emMM5ZUPS8oQonAstaSvIcJYn7g7bvPqOua0zgAmmGYwEvSiLESlZeyLALm38F+mJjGgLYVXdfJgiB6fBRNbpqigPtx5HB/x2Z7zXQ6MvU9bbf+2TeZ6sV/PyH6/Nvy63ORE1zmMr9FcwGxl/l1TCx/fgD8twjz8Z/+3EcqRbvZ8cWf/SdEMn6ayDlw3j/x9P6nHPv3+PEIWdP347K1m5IwjTN7NrNIxpiFhUspMsUAg2hrBWDYEqLfLyxlSlIAEGOJBirRXMDSeITWOFdjqwZsRaUsrmkZQ0Rry9u3t4veNqVE23T0w8ibN2952j/yw3/9r9ntdrx984bpfGI497x5dcPpdOTp6YGqsrTNjnHssbrG971EIKRcEhrEtGULQFNle5cXDnZhYM1yLuT0PrOXc0zZzCx775kKM2icnMekFNlrNtYSc8KUFIem3eBT5PHhwP58YLPZ8bc/+AFt3fHq9g3TOPL+/XvO569pXMVpGgt7HZdjEUNU/kT3+bIC+CVrPCcazHIHrcUtP9f6znKIl4+dvx+waGFftq69lGIMg5Q0zZFtMfrl/pkm0eVmpDAh54xVmqREt8sLplsVw9F8/EuaQCkjMNaWzN1IrRTWfnocISd00qAVMWdhGeciBGuXxwFMMZCDL+dLFmg+eGKGaQr0oyeRqZuWqDTDNBUd+TNAjWURMZcPLOCU53vGMEfgPR/rzCijJA94u90WiUSUqLq2XVjcqqpwpQzBlzzbpmkwp+NyvXyKJb7LLSz1nIawWm/pVop+GpfrXzU1JhpSDoxjRJsISpH8mbuvfsCqbTFk/DQs7ysv32UQ4HqPLKTXiMErK6UucoLLXOa3aC4g9jJ/51MyY3vEQPGvgH/2Cx5Xtgxrvvyzf8Kr7/0RGfkgcWKdFwAAgABJREFUfPzwNX/9L/9fDP/9f8Ph6Z7z8bRsgQoTZxYwVlWV1KFOE3n0KK2lRcoY1pstm/WqaBznLey0NP8YJearVdMuOZZaaw7nE13XUbctOcMUkIKBusXVLdY0VE1DjBmnDcZW7B8eOB4OtF0HWnF1c80wjXz4eMfmaseb12+YRtGM2rZlv39iGge6uiFFT386M469sH3ThMrPAfdGa4wWE5BKon+UMHxVXPC+vLbZzBU/0Q0LBSimN5QpOuFAP8i2f1tqQnM5R9vtlpgT7WqDc477hz0f7u8IXrajHx4e+P3v/wFt0/CTn/yEr7/66RILdRhOqNJU9XKhMIMcpRTeSw6wBlJhNZlNSEkYTGst2ZlPtrFndtVaeS1GuwWga62XxipKSQI818aCMLIxRkQxO75Y/DjG0aPSfHx+OX6ApBCTVk7lnnNFd6tEbpGeZQoJAcNVVaGSSF9iyqA1oJcM5JQQdt8ojHuuDg5hwhm9SBtQkqkMwsgqY7CmWkoGhhCJWQB1SpHBB3yem9kiOZWFjK3QeZYM8Mni7+VrnQG0Qip0AYwWaYZRepFEiPlsYlAaM8shfEClTHRWFgpG8/R0IOe8LAyNs5yPEmuXip7BOCcxYFpjtJP0DC1E6egTOmiUsqX6eYKkAYnV69qam7efo3Mmx/jzcmJnUTDIDtEjAmYvLOxlLvNbNhcQe5lf13yrIHGlZCOzblfU7QpxvsD66hZXNRzu7/jx3/w5x5OALVfNtbF+ib3SBbQaY3DGslqtqGvZct7tdqzXaw77J2kV0izJBDlHdMkAFRDrGIaB0yB6Vh8Sh8ORhKZu1qzWa+p2g7EVShlW6x2Vczw8PPDjH/+EnJM4q43B1S1jTHz8+J6rm2turq/o93tp3aos0/lE5SwqGqaxZzyemfyAQWG1olp1z8ULWmPKR/DMYlonfyGFBRbNixgwpRaGcAZCL9nPZSveiUbYx7DoMbumoWlbqqZeWMWPHz/y1dcfSCmx2VyhraWqOpxz/M3f/A1PT0+ynTxNomcuTPdybC+aq2ZQ7ZJazE4vkxLmLfl5cYLRn7CsL4HXy/9OSfJNKc+ti/755Tb4S7A2M3+UbX3nHH3fk3yQ/OD8b0eIJorXSym0tegXrPGsQ56BoCtNcDnH5dhnQ2Hf98tzZgOZ1gqjNTEnqYkdJ2oFPkV0srSdNKxNwaMnx5hO+JiYfCTljKlkd2DoTwynHu3mxi9LRFhPOR8FRCs+YcjncwSglWhuU3l9wlZXy30jMh8pPEA/M+jOOdq2Lb+LerkmYz8QVy2vX91yPJ/px2FJPUhZ6owTLM8lR5KS47WuIeaiYVbPmmdjDBlF1TRcv/6M688+J04j+udrYj0SszW7/X6ItAtGLnOZy/xWzQXEXubXPb9SF/uy+ADEEW5dze277/OH//if4n2ADF3T8pOvfryE9rethKd771mv11xfXy/tW+tuVQw+4sS/urkW8IEipYAfx9L0ZUgJHg9H+vO46CwBbFXhp4itG1abDU23RpuK9fZaHPT9wHj3gPcjpnICQK2lqmtOQYwu7z7/nKauSUUrqKKTD1uUhPyfDhgkusm6GqM1SkEME0ZrXKl2jVPRdDrznE6wADHAaEwlOlBlDOM4yRZ1SgtYrapqARu2rooUI6OtoW1bxiDmKFXY2JQS5+GE957bmxtCjFhbi452THz46XumfijbzwmrjbRfhUAYJ1TKwhrDAsiNMUWa4Yo7Xn2iK53vA+cMMXqIonHNKRNn535hZUVGkEoer1nupa7rUBliEMZRa03Mc/arxphZ2So6VKXE6OScWyKyyhEBc1arIobIFCPOGLLSKOOk9tjo55SIAtzqWhYBGTn+mKQpLZfz4L3/BIwv13JmSK3Bh4i2AtbO40BVVaxXWw6nI1pbQpLrnkOkHyZ8lBxdYxwx5SK5YcmATShyiiTyYtyaFwKmqGKlDlYYUOfkHDdNTVvVpVBEMRlVjJOG9U6MjGHyVNbRVDU5Jqbgl3KSqm3YXm3Y7/eElOi6jvunx8JQF6bcGDEBnqXApO5W5HLf3N7eUtc1d/fvpXUtA2R2N7dcv3rH6y++z+7156ic2dy8+tn3n1Dee3qeY7b+HPhLnkHtZS5zmd+SuYDYy/y65tvrYst8Cmah7la8/d4f8PTxp8ThxGe3t4QoEUEzm2atXeKhttvtYvqZI5+05kXf/MisgKutaPEMsu05DAPT5IteUKGV5dSPrNdb3rx9R7vZCQNbor5mTa6wbRUhj6SciSnjU6JqHJvNBqsNh4cHjo9POCBPPYeHe4b9gRQ9rbPU1hC8ZzhPTKXWtO3qZykAoGxmlu+llNDmOY1AtmWfGb/ZoPSSgf1ZxlPY6prjuafSllCkC+e+F9BmzWIEUmW7XgFt3dC2Lfcfv2IYBvJcd4v6hNaqquqTNIklkxaRC4T0nBDwsqIVkJpTnuPQ5lrfmS2e75GXeldy+XcBhC9ZXwCl/222cdauyvd4Pp8hhAJin1MHjCma0ZQJcw1yKn9CIPqw6D/nazRHi83XZX59S7wZLOkAswxhjuAaRmkOs1QobUvblyGRiVkRozw+ZUhKk5Ac24QiKTGMzffpy7xgmDNx44vzB2AL+wympB/ostiY2XSRJDTLveWcW37fcvl5x+OxLIT4JClgbjkb+5798SDX25hl8bEkS6CZYsCWxYA20oxXVRWvbt8wDkVyozWvPv99vv8P/gmf/f6fUndrkYUUGcTPmZ8FrH+JANvLXOYyv0VzAbGX+bXMz+hi/wfgP+NXpBS8eG4BKZrtzWuu33xODJ77H/w5V1e3HI9nrNXLlnPXdThj5YM0TUvVZ13X4q4vUUEhRKryodyt10DmcDix30sbZVN3S4bqGCK3uxtub1/RtCuS0mhtUVozjhNKSwySL4yTsRWmxBBlYLvZ0DTSzrV/eGDXtgzHAw8fPtJYw7pbMZ6OpHFkGKUYoLaWugCM4CchApUcj3HPW+MZkUEIQMslCF/UGzNLOesu561yW1eYqvzbGDabHQD+8YhzGu8DbdtiXV62wg8cl/PXe89ms8Fow7/5y38NEYIfMUpArspBgJZS6GyJVj1vl2cBjbN0JJYUCRQLowoCHiN5kUIIsCzsLC+d84mQPpUTZLLkm6Z5IfQcWwVAmmUWefl6inIuhaWuBayVnFQBfIasijZW6XLHZpSxhAJuM1pMgV6SFdwL/W4Yp8WUBSXyLIJSRsyCPLOlJfK31AZL5nGkpBeMXqK93LMpy/tImAsKEqUoYm6gk3a7RCDmiDVWDIKz2c1aYb8zqJxKgYcuTKxCa3DGURmLdVqYWZVQWuGMW5Isog8c94dlAWKMkfYEwLXC9LuqomobrJUWNqUG+r6nqhrwEVcZKTwoKRVGO6YYGAYp19AJfN9jnaZdr6gbx/l8xEf47A/+Pp//vX9I1ayW343yBvLy7WTWhJx51sMCpIup6zKX+e2bC4i9zK9zRqDlmY0F+I/5/wHI1t2aN1/+IafjgftDTyxu6DldoKrkw3LeVpeILPjss8+W7yEs6ygNXWsxMA3DQIowjVJCMFfS5pwZQ2azvebVm9coDKdhpG46QkiM/RFrHf35vGjzYozEEAFD3Qio1krz1//m36BT5nq3YToeCUPPqq0ZD0dMTkQ/4v2AymCVwpRjTzkU7d+z2QbKdrtKi5LvJXP9UjP68jzMYf8LM1hAVd/35Fnf6Sx1LTW6uSQYHI9H1us1WlsOpyPOyFuHn0YaV3HsT6iUsVqRtCZHTdYRlQ3GZcaUUCUT9uWxSlOUpErMAPYTjWsBkFXlynGXDNgXyQPyWj+VVTw3Oj3/zHleAsms5Of4IBrdWWc5yxvm3FetnzN3P9GOlq8rV4oneI4ue5lfm/ynLPjMRGqec2sBQgySDYtID5TRwqxmRUSOJ+dMiBkzM6paEVLCx4ifIjFDouhpy8JqbsKaX7/Kz/nBsz5WijD0AlD1nGRRjFrza55TLbTWJBM/SY6Ymer5HpRSkBasWipzdZGn6PI7OjPAPgRUYf21FomCNY5IZpx6XBCm13uPD3Kdamu5efWah/2Z3au3uOq5EEOpn/t2Muth57noYS9zmd/iuYDYy/za5mfY2P/qxZf+Y+ReXPMtwOz25jV1u8KHzPncs1qtiD6QjaV2lhQ8x0GMRLvdruSSVngf0Tqz3W4x5lq2JxHn+TQGQKOsw1mHNo4IGGtZNy03t68ZpkTfn2jaFV3XMY5+yTKNYfpE0tCsBARrLZFKT+/fo2Jiu1pjIzw9HegPB3QKjMOZOEyoGNBKkcmFKQ7lewioIkWUzqVyAKk6BZFEqFnvaZ6/VsL4ExlXuSWYX8BMYcick+SGyhGCZHVSQIU0mDl8DOx216zXa77++mv2T09c717x8f0HPr6/4/r2huBHyEk0vIh7P6mMylJdOrOrcmjPINCgF3e8s2Zp6BIwBBZFKEkD5dnyOlHlXBWw8jMAfmZdFzCf53goytcKC1k0x8+A12G0AP4QAsQZZJd8VExpsDJIhqs0YA2TR6MkFWLyqJTR9XPc2+FwWL6n955ctL3Omk9kDkRNilLPm5AmshThNIxklcA6lNGElNCEIl+RVINpmhgHidhCW6KGKQTRo47PGbkhhsWANrOmaYltM1htsMYuLLXSmRQDKibI+pNrGLQvYNLQliIOXfJhZ3DcNA253HvKPOfmikzD0HVrmqbh0J/xPmDKNU0poWpD5zrS+SSMvZkj4+T+xFW0zYp+GBlO+18FYEEY2G94ZmEvetjLXOa3eC4g9jK/1lFKDeUD8C9f/HVA7sUZzDpg83OeW0Ciwzkxyjw+PvD5u3d0XVdMXGZxvs8h96tVK07zBJvNit1ut1SZRh+KZrRdNIPOOdoCfLuuY3t1zbH3hKmnW+3YbDbkrJYP6LnhiRIGX9e1sK9aM46e4XTC5My7t285Pu355uuvyNPI+emJ8+HAq+sNyRnGOJaoqUxKEaslMsg4jeIFYOMl6JJzE+Nzi5Xkxn7KGr7MSZ2B9txc1nUd6+2O8/nMMAlj2LQdLgTa1ZqUEoenPR8/fuTp4RGtLefzGVf0x2MvWZxGyda5VQqqjArCZhI0rrKlxvRTxm7WVs7M+Uu97EsgMh8/sDR8zVvtOWfCz0RCzTWpM8M51wP/rM560Q3r52IC0XU+P2ZOU/jZgH8AyuuYBsnBzX4SM5ex1C+u1xg8lXlmmVMprZiPaWYzTcrk0pw1s8DzveyTANBpDIx+QtvSllZqdMdpYgqp5BiLXjiEon2Oz6atT87Ti3M8SweEQZbK2Zg8yksDG/rTnYCXY5aIL7+kEszfM6WEK/IMtMRnWStSHIDaSTbvEDzDMBJzWu6LKmfaVUdWCZ/iEp02M+V9P6IUGDL7j1+9MOH9wtnxDGBnFvYvuOhhL3OZ38q5gNjL/Nrn5wDZfwn8BzyD2V9q+Eop8uGnP+Hu4zfifA+BrmtYr9c0xQUOuQDYFW3bEUMmhITKmqeHPafTiWma6NYrmm6FDwNV3dJ2VnJiV5vn5igf8TGx3l7Rth0heA6nUzGweFIQ4LLdXrEqHfFDYaIU4vRfbbY8fvzI490958OR4XiAMLHuGuLk8ePENIgWtqocztnC8I3kMbJuWtErmudYKfkza0M/NQrNwOtl/ak0OaWi2xUAMY4Cvp4ORzF+oem6bmHSpvDEOI6cDkdOhyPrtYTaP949UFUVV5stT09PNG1Vfn4BSQXM5pyZTEThShZqIqlE1M8gdv53CAFyxtkXlcKIKew8Di9MVWYxXinEmBR8+BnD2KfMbCwmpWdG91OJwZwOMC+AZoCpSc/Vs1ZitnLO+CJXoDC6c1kEhX10zqGsIeYEBaALoBYtNfo5lUBkIbpcS8kvnutXU0rEnKiblhw9sWi5h2EQlj1mtLNlkSZyACmRkOKEuJD2eTFLvYwm0yh00bqCgMEcIiGFci6KEY1Pm7rmc1kZi7JqaT2bdw+urq6WRIZZgz7HiIWS/KCUtLLFoh2fTXs+Pp/T+Zjruib7sRxTXmppTyEwjhMpRc77j4znPe3m5pe9fThgBfy/y/vOXwL9RQ97mcv8ds4FxF7mO5kCZDPPHyQ/Lv/9fwDqX/bcsT/z1Q/+isPDHbvdhhAmbq5ec3NzQ1OVpiCdC0iYOBz2GF2RkoCVsRinttst3XpFitA0DV0nFZcxCbibvDBY2jpWuyu6umXsxYiStWIcB8ZxpK5rtkVbOzOKRmlc3RQmMrC/v2P/8SP7+4+M/YAl09aNhOWPA+SZYZoD3MOyHVuV6tuX4HXWJsY4t0GZ5UMfxOUeY5RGKyPb0kqrJTlgBnPee4ZpZLUS8O2nEvtfiiSij0tcklqvBeDERNM0nM9nplFyVCWrdySEWBjtOS3AUKGIWUuywayzzFmc+ClLjW3RMaeYlySDqRQMzHre5xYyFiaWmT0l430qta0GrbIAw4Wp/pRFXEoLUOicMc4ubVwvkxs0EjMl4O3TXFn5BmJySomSzKBxtqaqGrRWBJ/wqaQVxBm4P4P0kMUAldSnsWCqXMM0v+7oyYCtKxotebFj8IwhQkr00wyGAW0IMRBilOiv8rNms9Vs1JtBozOWuhGtaZwkVi6lREz+hRFuWkDsS81vrqU+uO/z0m43L6CWKt/K4mNEG5FGhHEithFX7lnvI8eUcE0tBrgUX/ysQAqS8lCpCu8D4ziSiTRtgw8jKiUwhjQOHO+/+VUgFuAV8AEpXrmwsJe5zG/xXEDsZb6zUUqNwJhzrhEg+0+Aa6D5hU/KmZ/++Af89Ad/TfJncr3CVZpM4vHxEWvKh63OaA3WSbWnD9IrfzqJp+P69hVtJwwtwHq7JSeFD4msDVpbqqamspbKNXRNR3/q8X4ixUh/GohkuvV6kQ7knIuhC1qnsaVTfn93x3R4Ynh6QoXAtmvQKePHAVIJcTe1sFJTwGmLSlm255WW/7YaZxSmGJhyBqdFDzl5aYCqq4opBmJMuLpCeYNPnk3T4fszWcsx6aoiRk9Isk1tKieayhCWjNSqqrHF2IWPBB9ly92wGJOMktc89D3TIOc9RQG9fpoKa+pkezzHZyY2JWYmVGdxxaPAKstE5Hzqn0F4ivTTiFUGnRUKTfKRoRyrrRxKg9UKW0vurZ8COcnxac1SszqzmsLoCghLUeG9AGVniiY3isvfoNBKMmRj8iidSryUKXW5kVwAXZwi1lY0rpKaVevIRFIKBC962SlKLqzRTiKrgIzk3TrnpLjAaJSB4APejxKfpQqziqQw+ODxKTP6QFYC+k3dPVcIz+yrkqa2kLPoaZUqUgVhe9EZZQCdCTHStC19zpxOT/R9z+mwX1I9pjguRkfnHNe7q7LwGAVoRoefJm5vb8g5czju2Ww2KKeJRIw1DMMZV1cYqwhholu32KB5uHsgZtheX7HZbnHOcjyfROashOHd7LYc7g6M48DuaoPKE8M5sNt0S7mGyeCHb4VHq/I+8xfAw4WFvcxlfnvnAmIv85swHuiAPwLeAj+3ZifnTMqJr3/4V5z39zgr26BKCZMXQ+LYn/A+4pxhtW6IKXE+e3KcXfo1Nzc3uLrh48ePKAx/8Ad/KCHrOpO1+LBjEDOLMW5hCcd+YH880IcJVzVsr6+om0YYJyvHYCsDJdx/2O857Q+cnx6Zjnum/kztKozSjMORnDOrtkWjGPqTOPRfdNa7YrDJREypPp2zR2c3v1LSTjYDGGX0i0gtFr2k1XapSJ239JURZ3tKCVOZf6vZy3vPeB45nU6s2vWylfzSZa+1uPJtSSt4li/owhIL653IuLpezqVKLKakcRw5nwcJ8s+Z0XuG4SyANIlGtzLPBjdVHhdzRAePtZqmEU10VVVoZRZWeN6KDn2plGWuvg0vMmE1Opbt9DmfNmXRIedE1glr9ScMeIrlteZn6YKzFU3TYq0hx0QIiVy0tMG/jDxTGCUg9lPJR5K81wK0TeXIPuGngagicS4oALSyJCRaK6YJpYyc71g0x6WuOak53aFaUiDmbf5ZQtGWHYOnx0fu7u447Q/P6QlZL5rdOU927Ac++o/Udc2ma9lut5zPZ7qu4/HxiapyGGd5fHzENTXrtVybECTXNueMLskYGkVVVeSsOJ/PEve23XJVuaUNbE4PqeualD3j2GOdIodMJqBVJkcB9+pXKWJlHJJGkJVSl6rZy1zmt3guIPYyvwmTgS3wjp9j6Ho5KUaePnzNNErZjrWW9XrNfr9nHCb8pLG2wrmVMIYhEIInBWibFZvdltFP7I8nbm5uuL55hfeBysm26OAlk5Is4FApxbE/M557CW5XsNltaVfrouvLVMVMpoI46uPk6U9n+sOe8+HIeD4Qz2de3d5AjpzPZ9pWZA/j2EumbdlSB4g5Q/l/ay0pU4oK4nNtqw8MMVE3jq5tmQrAtbUwgVOQ7WVHJk4T4zCiX1TDK2tKkoFkcs7mtLpuC+AQ8Ni2LZvNhuhTcZSnkl86PX+vlyULCYxxVJVajHIATamfjSFI9qrRhJwYh4lhGolR9KfejzweRLMsUU4e7wO51NI657CVW0x8TdOQS0yZtEk1om2uaryXLe0xPuuCNYqMwv+M+U+SGIywsXOTm1ZLjJVcF7W8HpLQx8roBShX1mFL2kBMSbTSIZKR161URhXGPqsoKGqOBStAMWaI6Vm/q5ca10xQQb5OXhhlkZ0ktE6LYSxnlqivVK5PUpTYOLP83jSVgNnT8cg49oznHpUin715zfX1NZvVakkw8MkvwHc89+z3e+7v77n/+MDYT3I/N4pxCqAUtRaD46pZcdofaVZiQJNK3We5wXyfGeMYB4mp61Yr2lVX8pk9wzAQYmS32+GDZhx7ckm1SMFT1y2ZKKkRP79m9ue930z8rDD6Mpe5zG/dXEDsZb7zKdFbGsmLrX/J40R/d9xjjSGUGKinJ40zoskk10vMz/FwBjUtWa277RW2bIleXd2wXm3xIdL3PefTIFFbUdqAVt1GmJ8k5pPTNKAqy+3VFVc3NyXd4ATl8TplwjQQJ8/Unxn6nvF8IgaPM4bdzQ1d13E+SRi8qyumQfSH0USqFy1Vs7Fo1o86XZHCBKSFhU3EJa/zpcs/h0jQYdE8TjGAMVS1hfgcOZWUaDiN1pjC0vV9zzBInWnbtvJ9kxjGxjCVn5cWzeQ8KSUUaQGxn8Y3yf+/jMnqp5Hh3Ev0UxKW9nTqmaaJ/UkA7GzoiVGMO1pZQJOInzR7OSdyCDEStbRdoG4DztVSuuAqrE4FdD43e/1spm4qKQa6fN85sitJ6zExCWs4RzzN12fOgq2sI0a5lwBMTou+NkS/6JBfGqOccxgnRQc55xKBplFewGlOkZTleVarwrZPTDExhUiIuRRYiBb4k7SBLKY/XrRyCXsvEpWqqrDGcDweOTw+YbXi9e0rPvvsM66222XBUNc11mqmYVwWWf04cHja8+HDB7766ivu7++Xc2mcxZgdTSPsaQhSV9v3ozDQzi6a5xkUT9OEUnG598/nM7aSn43RsnjMmZQDxihiCqhQms5yIoQJoxVKJ5T5VkxsQkykl7nMZX7L5wJiL/ObMhWyzdf80kfljLOa8+nIw/0dTSN1rKo1aGswSO2lAK3Iat1wc3vNm9dvef/+I7l8gH/z0w9U1RPr9Ybz+UwotbGr1Ybrq1vqui2RU7INfXV7hasqmqZh8oPEc00Rqw1TCKQYScEThpHhdGbsB3IKNNZRtzVX2w1f/fhHkDNd13E67Ane07ZtMWbJNnvOSYAGBZCoRFU12KbidNgTfcDqAkqR7d1hGFitVqiqou97fIqst1K7qXwqkWEVYRT21BjD4CeGQbbw27rGFyOTtdXCQPd9T38e8cNI9LI9HsJcD6uhsGHSuGUXJnCWE8wAC1gMb/3kOZ/PpCjGrvPQ83Q8ME2TAPoYJVWiaQvYkfapplszE2fCQE6LSc/HwFc/+gpXt6w2a65urnn15jNW3YppChzOj6yrBpVjadbKQIPGS1VrYY+VUiS0AOsstVnzNTBGkmFRuRQfaGm4KmDeZ3mNqWiBG2s+TQFQGme0GOyUwlmJlZpNa95HfCk6MNZijCOkiEqJWoNPiSEn4gjDFBjKggEgF3Y5ZyBmYSUpMWzlOLquk+ukLF3XkaLn8PhEmDzb9YYv3r1lu92y221wRlIEZpCdY6JtGrbbLUop9ocDm27FF198wdu3b/nzP/9zfvjjH6GMpjGax8fH5fnn88Tt7TV9f8QYRdXUS7KAZDf7UkDSo2u3SGFmLe78uKqyRD/JK80JPwVsWzJp/cCqadHW4Kru27zXRODAJRv2Mpf5rZ8LiL3Mb8pcIVrYX0qlxDBRVRZrXjr0I6fTia5b0bimMIGG9XrH9c2Grmt4//7jYr4ahkFSCGLk/v5eWEVtub19zc31q2U7va5r2lWHMoasEuM4yuNjJPkgpisFOWbO+wNGa/IUiNNImka0gco1NE3N4WlfajT10pTlnBQrBD8S43OG6txsNDNTKQVifs4VDSGQiYsudn6OUYoeSD6I075sKTvnGM/nIhcQ8ITRCyCdt6WFgZXKzuPxyOFwkHQDrYX5m/zC/Fr7zKallAgqFNf6pxms0p4lbPXd4wPns0RDhRB53D/xdDwQQqBpGlarFdvVmt1ux6oVHaU2CqMtoeSqvoyISkmuyTRNPO73PB32fLh74G//9m/5eH/Puy++x/X1NVdXV+RxRGNRCxMr388XbWzKz5m6LxlNg5KCCWUWcC5aWEGQqSQXZPtsepJ0gee4L2csds5fLZpjU0opZga2XXXkcRCdrjEYJya1fhyZppmZN+Xns2hyY8mSNUbu51iawZTR8ntSJA7ee6qqoq7rUg/7xNgPXG93vH37lu1mJcxnykQiTdOw3m4W+UFta6wSBn82eBlT4uNWK4yz/OhHPyJnSSl4ejpwe3tL10lGc8wRpfTy+wolCs5+2qg25ywbY+RcOEvb1rRtyziJKVNrzTQGUpIFwDSNdHWFdYaq+VYgds6JvbCxl7nMb/lcQOxlflMmI/mNz9b1XzCt0/yjf/SPOR4PHAuLp7WmbTsqsyJGYS/btiXGyMPDA03TcTicqCr5ED73PcYYXr16RVVVNHXHdntFVobHx0dOp1OJC7JMYUQ7zeF0JIVIVzc01qFyJntPDpE4DmSlBESECW2gqeolyP90OnF9fYWfJu7v74Vhck4kBzFCEobPoMRU5DKmmK6maSJHT+UM1onhZTj7BZA6Y5fYsJgCmcy51ODOz5/GEsFkPPgSMl/XEuOUEqtmxTRNnM+9PC9CU3dL/ukMXFJWy8V61mBmkg8F1M4JBP6TRUaMGe/jIi14fHzk4/0dzarjiy++wGnDZrPhalsA7FxPmyVqypYtaMrPtQXMhgL0Rz8x+omHpwNff3zP+w8f+OqHP+B02PP69pbW1RhrpYihfG9jDMorckz4GJZYrZdygaQ0RhmIwm+quZo2F9mENjijFwnIwr7mZ+mGVorKauGutSlyBVMitCSnNSRAGVB5MT9RIrByAqVNaQt7jgBLWVjkkCHFXGLEkKSHIjuZFzqxaKRjjJyPJ8ZhWNjVpq457g+4a4tt2wXcf3y4p2karrc7jscjfpDfg7Y8BhKrdcvvtV+y2a355//8n3N3d8d63ZFS5uHhjt1uR1VZMHIdQwj0fU+1gGRpjEsJknmWxczXWWekPSxliAnMcyFFzoowTqiUCX6kMxZlvpXMdUSA7PRtHnyZy1zmN3cuIPYyvynzEdgjW32/8L50VUPWlsP+wDgNOCf6TWFWE3GKwGweSYzHnr7vcW4oH6gVx+OR0+lE0zTEGIs7OvPjH/+YYQpl+7Iq25oBSBwOT7jK0FQ1KiamMNK6iugDp/0BawzRB6bhjPeepmloOmG2hrHn5uaqgMQzhkyKidGXcH/niN5jbU1GEZNfwMeyxa70Yuqaypb1nPc5jiOqAKnKSr1sKtmZdWH0Nrsd0Xv6aT4fAh5cXS3MYFVVRMp2vfcLgB1Hj8Es+aCf/nm+NlpryHrJuJ3D/Mfg8T4SUuRwOHD/8IBSmi+//JLXr18v5rF1tyrZuVnyebMY+SbvqawAFJX5BGi6nInWUFmLVmBvr7m+2fHFZ2/5+v1P2R8PvP/ma969/RxbQOGnJRHFpZ+ekxdetlolraU9SxlhcTOAMN+VVcIkGss0Dahcbl5tqKzGGdGgQsI5CylhjMVWpdrWWKq6pmk6jucTXVORUEzTuLjynXME4DB6lJrKIgFJIsiJWDYu5m15DVhblcKMCqXl66vVCu89/XSGJGxpXdWLBrXrOqbgCfsjVVtRNTX704mv3n+grd6ThkH001bSMpxzvH79mvV6Td/3vHr1iv/N//Z/zf/t//p/56//+q/Z7XZFTnAmqQaVFBa5d32MuLZZdgm6riOEBPr5tQiTXJVrFDn3R0lXMCK1aLQmE+mngHNmeY5S3wrETggLe0kmuMxlfsvnAmIv85syZ+CeXyEnUFrTbna8f/+eaRxouhbnLMMw8OrVa+q2YxhGttstzhl+8uM7mqZis93S9z13d3fknOnaNev1mhACd3d39OeR9XrNqm0Xs840TZLlCtTG4rTBjwPRB252VxAC9+8/kGPi9vZ6aZWSbfkaZc3CUHrvOR33jOcerTVNXaNzYhpHxnHEGUMOkbapmCaIPuCMpnYW51rG05EwCbBp6wbVqCXEXnSEAZBK3mEal0rcYRgWsJBSonINzopucpqEiKrrmkTJb31RgnA8HvElaomkUBgwkgX70tiVcyanjEHisrz3WFsRUl5C+EP2fLy74/Hxke12y5dffimygdWa2+sbAVZVRfSJOAVqV2GdhZxZtQrloO5qwjgtpRKznvT+6RGNoq0csR+otObLd++4ub7ihz/+ER/ef2R/eOR4tGy3WzGt+bgAP2MMuiQCpCxZvHOKQMrgQyJlCd632tF2NcZInuw0TWClZSwFyY2NMeKzFGVUzuGcWeQpddXimhptnLR5WYeuKq5XIp/ISZERnfPcppa0ZuJEHyNKiyEupAjKEEMqCQlqaf9yzi3MuYoZW87T+XymP51pqpp2uxXpiHUMIbJtWpq25ulw5LAfuP/BQ0mNiIzjyFXXQY7U1hWtquHc96w3UnTRdA23t9f8z//Z/4yqdvzFv/nX3N7eEnMkpgBZoXWFjxmnFW27IoTE/uGJdr2irh3KFMMhEaUy3o+EIE1fPkgcmEHRdCv6vmfysSxEfSk4Mc8lGL98JsArpeJ3/aZ3mctc5t9tLiD2Mr8pk5BtvgExef38UQpjHXXbcj6dOR6PdJ0wsev1Gmc7um61ZEvOYHbOx5xd103dLVmnzjl2ux0hBE6nk8Q42WftntUKP430Y5Iwe1uxv3/g8LQnR3j16hXH/V6MUlqzWrXYWtISck40Xc3DTz+ilWhSU4z0xwOxNHI1VYUtesFZp2rKtqn3njANnzRGyWlQnzCGVSWnLCthAjOQY1ySGuat8uUPz1pYiYSaSm6qIZKXBIL5+8cESonLP+ZECSsVZlIrcsxLeUJI4tJPCECcguf+6ZHBT7z9/B3v3r1ju1pzfXXF1e4ajaJ2TlrBlMGg6JoWayvGfuDUH1GVph97hvNAu+qYYuLx+LhszcccMJXDBc/94wP7/SO2clxv1lhteDicpD2rmOnme2FmjOdEhZTlGgCLNGDewldKEVVinAKVMxJ/pRRT8FgtWljtLDYrjMoYPW/pG17dXJXSB4WxFU3XUjUdTdfRrlakYvjyXnTHWIdylugTU8qkw1GuQ2HHQ8gkkwlJjE4pxCUnV/J38wLmQggcTwdZLDnHervBOMdpHKjJbDZbHg4HfvjN19w/PJAUnPoz++NxaY37Omcqa9isO5qmoq1r2rbmYf9EUzn2+0e+//3vc3Nzw5/92Z/yeNhzOBzk/u6aT5IZ5oSNuc53TsRASxSYM1aqh7VepBNA+f2CrusAMR764Kkqqe3trt5Qtetf9T5zAn6ANARe5jKX+S2fC4i9zG/KGCRe65dv8eVMfzrSNi3TasUURqx1vH79iu12S/Cw2ezQaA6HwNXuNcNwxhcX/9PTk2hAu82ytdw0DU0jDGxd1eScmErzjxjBAkZlnAaT4eHhnuP+QNd1bDYrYvTLFn3VVotpagadwzAwTRNOQVZ5yUuNIUBKpAzZOXIKgIA4qzUqZ4x6DtN/Caas0hRYS0bAsSqAam5/GoaBqmkWycHL2lZJTFXkVKpAvWf0E5SyhWkq7U9ZttjJVrZ785xWlcWdn7UAZqXwIWCUJSYBQank3T7t9zwdHrl9/YrP3r7h9vaa6+01bdPgrKFxFVdX11JBm8BPkdEH+iHwdDzw8f4DyWSmMJJCRO8fCSEs4fhznWrOEuZf1S0pB9EOl3PfNA3H2HPqzyijFwNbzElYzawxWmNtibJKEY0IcmOMy+JHoZiiZL62TYVWUooxB/er0hJmlMFoKTaorWMqTGzVtLTdmtXuiqppScI7grbElPAZIgqlLcZVKDKu8jR1xxAikUwo+a8xlrpbXeQR1qCtLWA5l+soKQ79+ST3SKUZ/UTKog2PwH4YOJ5OPB0P7A8nPtx9lGg2rUrph8dq0Cmx26xZr1q2q45VU2NU5mq3ZZrkPM8Sg9/7vS/56puvAYRhTVKVq+eF24tkBqludiitUVotUhqQzGSp3Y2kEBn7ibDy2GKSnGLCaEuzu+Xmiz/DuF/aWA0CYP9b4K+/6ze8y1zmMv/ucwGxl/lNGssvyYkFIQCHYWAaB5yT9IDVSpi1cRyZxkTTdPjRF3e95+HhDuNEX2etXULWlVKL/nUOvB9H2bbMSS0RP+QIIZB85v7hwDfffENd13z55ZdYbfjw4YNoDOsaZWc2zaNLScE4nDFaqkRjmNAZdDEFqZRKuUJcmKqZoZrBWVNVTCmSs37ONS1gNuUS2v/CfOWcI5Hp+x5Ttv5fMrjAJ0zd0sAV4rKCmNkv0ccm0FHaqfIzQCI/M8M5l1izKAxuKuD9fD6zPx159eqW3/vy+7x69Yp113G1vaJ2FToLiyzXLkgk1qnnfD4TMwzTyN3DA0FFEhHQ+KK5nWKgMpYQp6UCddV2XO026KwJCXKSRcAsETmfRbM8DNOShTvPrLM1xojeNEaJ20qJrDTKZJQClTMBYWRdMWz5FLGACll0sKUEwRUjV84ZZSxKW6mSzZCXPFolBrUsUV1GW0yt0c6S6sSUI9vtliH6hVHX2kiyQs4YzAv9qEhFpDFNIsj64YydDWXAFAK6qnDO8DQMPL3/yN3+kY93D2jn8CGiS+SbrRpe337O8fDI08M9/nxmzEleR8w4Iqu2I1jHhw8fuL+/5/t/8Pvc3NyQyEwhlPi0sLSTOedYrVZLCoH35fcxa5R9LiuY78v598EYkXTs9/sXOniLrRu+/w/+Kbff+xP41Y1dE8LCPnzXb3aXucxl/t3nAmIv85syFnEM//LYmyya09N5ZOx73nwmxqCnpyeU0nTdGu9HpslDzmVLX9jbw+HAfr/HOcerV29om4q6qqic43w6EmNk1a3F5DLJNmfwIzrD+XTk+LTnfB6wznLz6hYfA8fjEW0NTSfd9akfl5xLP05kEk4r4uRRJAyKmCIxRVQGqzTWGFQSgJTwxU0emGKkaSqSFZBCfGZSlYacn+tfz+fzAl7btpVczWhxJfxdl6rRWULwUl7wHOX13PC0FChkUCoTYiSXeCgUZHR5joDdGDI+xmURgDEM3jN4z2azEQ3sZsWrmytWbQcJGicmncfHR7wX8HoaRo79wHEYiSlL4sDhyNPpyHmQDNwYI+M0kRQi76glL7eta67WkbtzT5UzbS1Mb0ARpyDGH6M59z0hCDiagVROagH7xhhUELZ8rtYNPpEIqFphrcanSDhPVM6wqkXKkVIipIxTFmXVsm2O0bi6oWlbqrZDG0dWwjIq6zAl6UKFREZANDmTfDH1VZ66a3FHt8gNVG3JoSxMtIA/hWTagmhwp2lcMoi7pkUpWeBUXYsylvujRJI9HI4c+xGM5erqhtifSVlha0XXrbDrLYSA9oEQA33U9DHRYPAxcffxibHrudptiTFzPg9sNitG74k5YSuHc/WyGzBnv84Sg1kiYZiNcM+7DuSM3HKSnyyLwh5tJCbNOMP29ff44k//s6KJ/dZ62Eu81mUu8zswFxB7md+U6ZGEgpFfUj2rtGF3+5a6ahhOAymyGGBCGHGuZpomrJF8yb6X9qf3798vAPbzzz/ns8/elSxKaapar9clWirz8PDAMEhsl0GY1buP7/HDyHq95fXr13Rdx/F4ZBxHXt++kprXwgKNvWytGhSVtRgNR++xRqFKO1QKAYPC1BKDVNln4DFLA2Z3vwK6uvqkbUrrZ6BprWX0zxmuM2u1ALScSTEv0UXz93jJxM7f62fTBwSYRWKW7NNn9z6f6BVDSMv3no97zuN99+4d2/WazUr0qaSMSnA4HDgfe+4fHwgpsz+f2Z97TlPkNI7s+xP3+wP3+wNPhzO5lAyE5Dn1I6uNRIChMpV1tM6yrls2bcO2bditVjTGEaNHGzGw1XW9JD6cTqclBaCu2gXI55zlOs1MoCnb2iGRLOjKkoJnGkcUNaqRXGIVIypLcoEzlsq5knVbaomto1ttsE2DrWqisSQUPiesrUAFVLYSKZUhak32Hu2kTrfruudc4BzJWuG0XYxbudwTIQSm/sw4jhgr9cnOaqq6xriKyXsOxwOPxxMPxyP7vgdb8e57X1K3Kz7+4Accjwc26x1pDHzz139L1oraVdS2IaVAyJZ6taUh8fDTb0gh0LUtGdg/PKKNoe97QsoYa2nKPT3fw3MqxHw/vVw4vdQhz6yzc5awtNbZpQmt3lzxvX/4n2Pr5tsA2Ise9jKX+R2bC4i9zG/K3CNatf8SePWLHqS14cs//Y9489n/gzD5pepTO4vRYvYIIdDYRhIB9k9MfqCrG9pXNdfX11xfXxOnkaw1q9WGqqpKG5XneDgxjqO0ReXE3f09Hz9+ZN1t2OyuefPmDdZaTn2PtpZN04EyjOOJtm5KTW1AxUTbdmgyp9MBrRQ6PzNMc1zQsuWsNREgZaw2aAM5BWFpC1sFfPJB/zJTE8CXrFJx3Qu4nfNLQwhoa5YaUjmXorsFyOV7zccWo0RiLdIBRD+qyj8pQnhRM4tW5JSxlYTu+3OPsZbrazlnm82aq6srNIrT4QDA/vHAxw/3+Bh4Op3ofeAUA0NSHKeRnz488PHxiTEmIpb15gptLJrE6emJ5tUtDw8P9Kczu6ZiGEbu9kc657hZr7ldD2xXazZdi04JBxjnaLqOOEWGcZTM0qoitc8pC2muatUaP5dLKCd6ZvIn9+N8fub4M5uzVLo60cbO8gRtZREyBk+OFpUrsqJEblVkJZpcrSRWy6KIRSIyX5Ob21s2uy35/TclUkoWQCIhkAll+z5MU9GezlnCchzDNPF4OnDyE14CZYlG4ZqKj48PnL95zxQig88c7+5QWRNzIim42W1RVmFtg88abSpe3exI00Toex7uD6hS/tCs1yQUKWdyCIQiZZhlHUv+cZG//GyRxcLEludopfEhojRoA2Ea0XXNH/9P/he8+b1/yLeQEYDoYC962Mtc5ndoLiD2Mr8p0wN/hdRBRsTo9XNnc/2a9dUN+sc/wY8BY2og0rUN0zCRgsdnJeB11XBd73C2JqVEWyK0Yoxst1c453h4eFpC2GNISzTV119/zTRNvHr1htVqxartWK/XPD09cTweeffuHavVioe7O9HUjmemU4/OCVdVpOLSP+4PrLtGKkALsPTjSNkNxlSO4CX7VRfpgDYssUzWWlR6BrHAz5i0CpgqgHXyAYWA2BQiyhUGTLpIP31OSkvlbEiRlDIhJxICRozRWAtTeNbV5lTa0gqgzSXWaG79stbi7JnddsPbN6+52q5ZdyumQaQG537km/cfOJ1OBB8ZJs/oI9kZtHGQItPo2U+BQWua1YaYLbE0d1WrjrA/8NSPvH/ci4Hpcc/VdoNCcff0xPnUM04Bn2Xr/2azQhLEDE3TEdS0xIE555ZUCl2Y4jmqKuYs0hStUdksBiVyIqnn2l2rNMoonFJU5kWrmAKj5XyFkj5RUUxYriZpaazKSi8lByInAGUMOguTWdUtV65ivV4vLKYhk63F+0jjKnKOTGEijKIR3u42pZhAEise90/szz3JKLrVhilFhgR10cD2PvDx/g5XNSQyeq4S9gllDTFmhhxorGEIntM40G6+5NWbt/zob/6GeD6z2awk2zYEgo+oylLXFSZrTCW1u3OtsTCrYK2WRZCWhRn6WXctiwBFKIslnUWvnbzn1R/8Ce/+3n/0bWO1TsCfA/9PLnrYy1zmd2YuIPYyvykTEPAqrpRfMkoJ4yrB84ZVu0PrjPc91hiqymFUxhqHSlLH+vR4z9XV1QK2nKvx3rM/nTmf+8XJbm3F+WnP453U0b6+fcNmu2W9lt74H/74Jyil+P73vodzjsf7e6xWnM4n4jQxjD1OK4yxBD8RwsRmu8Iq+fANcyRWU7NqO6rGMYy9uO61pmkbccz7uEQMAUspw8yq5jh/wMupGn0gx8QUR6qmxmhDfxrwQZq8XNNii/SgsnbJIQ0LEFaklBn6iSkGEgrBvAbtLDoFVIaQIloplKnRBGISdzgqs9rUjOceP53RJF69vuH2qmPdtaSQGYeJr96/5+l0FP1rfy4s9ig1tsli647NdsdPjwNDVNTrG47nAaM9T3cfGfoJVVlSVjwejmgjgGlKmX4MWMB1G8iBwzhQleYyqzTJQ1VZuq5jfbVBa8vj/QN+ijSNbP0nYBwnUqSAWkuKnpwjVktcGH1CCZoi6efYqNpaCH5ZfJjaYCpD3VbkpHDW0lY1zlhylLgyZw1aOzyUSlxp4KqMxpgKZTWd1XgSKgS+//3v8y/+1f9IPJ/QKIbTGWst5+MJUwow6rqmqiyr1QrXOMZx5G7/yPsPd+jacXv1inazY38+cfd0LKUMFq00lZbSjqpqFjmIsobJDzRuy3bd0dY1eeoZUmAicf32NT/9+ivOjyfInWjR+4FMYv/0yOu3b1BOZBKrruX12zes2oa+P1A3jtGXDFhjMLYSzXCOEqdn5Lz5IWJQjMOAMqCN5s3v/anoiX81gM28YGEvetjLXOZ3Zy4g9jK/KfMF8CdITuwvbO1SAEpRtTUxR9HpuQqlMlplnMm0bYPSmeE0cj73jON5AX8uxsKSJu7uHjjsj/gkge5dMWft93u01nzxxRdc767o+5GHhwe0le753W4nj50mwjRyOJ+J04RWCkNGZUVOoYSwRwnQL8ARoGmauZyoxFglNpt10QhGsoW6kpCGVGpbddGawvMWthi0WP5u0RYWtioXhlA7i598yYHVi+GoqipSee4wTWhrUMZhgieEhA+BKSbCGMhJoa3FoIkoNBTGsBhx0KSUMVaToqGundTkao2fBsIAP/7qp/z4628YoqcPkfM4UTU1XdcJ6HMVVd2iuzVtuxKAmgDrpDbVGGzlyEYTUyYG0YVqa5jGCTqJZ6orDcGjTaZqG7JS7A8nQu/pOpF8hGqiqmpub2+FgS8s6Xw+Uo54LxFmVVUx+EDKkRwVgYzSEZ2SmIuMkZYuo6XZK2kBucjpyUpRtU3JQp2rY4EY0TGRdMnd5VmvnFRh3ZOY0TbrLafzkTdv3nBzdc3j/kki2IyVvGGlqOuGVdtR1w5bGZTKHB6feNg/cP9wwDU1b9684er6GmyFz4mrqyumlEAbotI8PD3ydDgS4rSkdhxPe9q6QuWItYa2qxnjJMxzU9NWonv+y7sPxBhpqpoYpEq5q0XWc7W9Yr1ec7PZsd2uJT/XGJrKUXc1Pjzf2/N5cM5hjSopEUoKN5TILLRtWF9/9snOwi+Ze+D/AvyfubCwl7nM79RcQOxlflPmj4D/AvgcYWV//r2pBBC++/0/4kf/+l9RWUfT1cTgado1jbMonTkfe077M+fzQM6ZN29eUbUVxlj8NImb3nvO53ORBnwhcUR9j8qK9WqLxnAoGtmQIo3W7K5uudruSKUYYRxHacXynrowpeQCTmNc9H0vm7OkmUlMRNoakTgoCOHZULUYr8p29WyYmrdYUTwnFbyI5pp/3jhNTNOE1izMcMzp52prZ5e+5JgmRj8RY8aHwHkUhnqcxOUeyXgfQCWMNmg7b/takp9ELuE1rpjKUko83T/weHfi44d79g+PPJwOjLG41rXCrld0TY2rG7R1ZKNoKodWWdIhtEHXFkdDYGRMAYwk3UpCgWTs2lI9q3QmpYBzFbv1BgMcPnzgPD2x6jupwq0s6/WatpWt8/1+TwrPEVZJQUweKHFoChQZjTDSGoXTiso66spirLDcCg0xLfrOWQNqjLSAKaXIJfq3JJahyvUwpaTiWRuawcjXbGMIseb169f88Z/8ET/40d+KKUonVMpYW7Ndr1iv16KLDiNPT088PT1xPh9Zd1uurq54tbvG1jURw6rr2A6iRw4FNG42G3xMTMGTiCjjaNqW7WZF7SqapsGgyCEuOm9h0i23t7ds1tI8VjkLXtH7ica45dd3ll9gJaEgxEgik5SW/NuUyFHSc+cc52EYXkSLScSaqRz1avtt3lcG4F8C/0fgBxcW9jKX+d2aC4i9zHc+Oecvgd//2b/mF7g1lDZ8/od/n9u3/x15jHRdi7UbrBGw4aeJYCJds6KpRKNnTIaYCGHCx8wwTAx9z2q14u3btwvbOk2B733ve7x59Zr9fs/Hjx8B+Pzzz9lut2y3W1JKHJ4eeXp4xE8DOiNmoJjIWRjMnMInpQRzYL5SkqeqleSj1rUTw83p+BzvVJqbAEzRZlrF0ualdSkqeKEbfLmlOoNdcdtn8Jqqtp+awOY0A2OKoSsXLSJzm0HZInd4HakqQ1aGpKTiMxHQSQCeNhqrFf2UJO82R6oSOt+PI48fHvjmRz/l4X7PefJ4P+Gahs16Q7dase1WWKWpCsBTCrbrFTfbDZwHlDPoqoKTYYyJfPaoAhBzCBgN17sr1l2L8gGnAOtZNw3bzRrlPb527M8n9vs9SmVS2xKCJ0bRje52O8axp+9HvB8BDWpOaMgoMiYrSBJpZbUujn9bwvkl3kqh0FZ9Cl6L1llZh3FWkgjMc7VtSBGKyY8XqRE5KxS6VLAGqspST5Z/+Pf/jH/xL/4FH+/u0AqatmGz2bLb7tBaczgceHy65+npkZQCXbviendFt1pJ49owYeqWdd0yrgODn0jeo8m8ur1mvdvy+PTEw9MTVW25ub3CakPXNjit8ENPVzneXN+ybjvUNLBarfiTP/0ztpvVonEdC5AegmfqJ3pO1NpKHNz8enPGBw/aSi1cuW9j8oWV1YzjiEoJRcQYVYxju28LYn8A/FfAv1ZKTd/1e91lLnOZ///OBcRe5jdhZhb2nyFMbPXLHqxQrHc3fPF7v8/h40eargXATwOnoSdNnhSF9Uwhk2OinwbqtiGlzDgMZCR6aJw89/ePfPPNe16/fs1nbz+nrmseHx64u7ujrmvevXvHq1c3bLoV0zRxf3fH8fBUjEkjTSlSiDGSgid4j0qiYbWVbB/XdS1NUKULvl2v5e+mwv7GUPIzrTBdUYConbf+i/Y1piAZsbG4t2N6GTgARpcKVU1V2YXVHccRZT51gCslsoAZ8OYEoxdpRcwC1mIs27xKTE3ppcEmiBnN1jWkgMqSzWu1kZgwDOfTwP3jnqEfebx/YIyJet2xalpMhjD0RL/CaiUrlpwwGm43G7787A32/oEhZ4LS+LZmkxPwbDLzXtE1Na+urmmshWmi0nJMV5sNm7ZhTIFX1zc4NE9PD5xOJ1TODIMihYizms12y2pdM42Bc3/k1EvGqveBmAIpJFQ2KKMwzlE7S10ZaqdxRqpSoUSVlTxda+XaZQV1u6JqGlxdoYwlaWk6i2RICW0ApRYzVUzyOskZVbJ9jZGFy+vXt/zZn/wx/93/cMC5mvVqy/X1DSEE7u7uef/+PefzkRgDq3XLbrula1o27Yq6bsAakrYkBeumJW4zT+czU7lPb5uWzWZD1wmrul6vpVWrqpie9qRh4M2rV9yst6iQqK2jubqitZZ3n79Fa7i/v2ejNqyaFT/66ieljU3upRQkYm65ZZVeEiHk/CliKtVwZUElkpq0JD6sr96gza/UwwbELPp/QiQFl7nMZX7H5gJiL/OdTs559Yu+xM9hYsVRHxnPe5puxcHccxp6fvrTr1Epo3NCZ6mHzTERvMd7T7daFVASOQ8DoEkZjsczp9OJP/zDP6TrOpRS3N3dMY4jb968WWo0t6uOcRz55ptv+PD+GwGHyFYuKWOtIXhPfpG56pwrrUKRMI1L3FXbtjRNs/TGxyhAamHgtEK/aOcKYcLgFuAGL+QApY1qZm4zL7NknyOzjK0+kRPMsUazFjQWHe00BaklpTw/yzGFEEilrctpgyIJQ6kSVsnWr121yzF37VrKIM4nEhmM5vb1G3TlqJoOUzu0E5PV1c2uAMuESoo0TVhbcdV17J8OwlIbg0Nzu9uxqmu8D2gtIHS32dDYCoInK4UDVl3H9WZNrRTKVXifuNpsGc5H7u7uOBfd81Mjms/Xr2/Z7XYC3lYV3Xlgf9rTHwMpBNquWRjXqqpou5qmqlg1NU1TUVUWFQN2iYpSi+4YpYvm14ERllIphZ6jt6xeSg500czKvWAgR1LR3aoUsVYTYuJP/+Tv8aMf/4DKNbimxVnL3d0dP/nJT9jv9xijaNuWumpRKVM7h9UaUsZkUDmRAjTGkdqGGCP785k8TWAtV23L+vN3ZeEVsHUDOZIVbK92/NGX3+fd7S3btuHV9RVGK25urri62jIMAz5mDk8PGKV5+/Ytp3FgChOn44G2cay7hsrIx08sRRoK5HfXGJR6Xsc6bZiyJ6ZICBHXNtx8748kSeKXzwH4S+DpIiO4zGV+N+cCYi/znU3OWQF/H/hfAr/3Kx+fEv3hnoev/5bHj9+ANljXMPZnzv1I21i6tsYajQqJNHnIgZRg9BNTL+BVKcMwjBxPJ66ubvizf/gfMgwTfd/j/RllDdeb17x785br62vIkdNhzzdf/4RvvvmGaRANYFs7TFWhtZhPYowYLfpSndNS85lKtWzbSV/8LCmYt/TnLedyToCX+taI95nkA5mEURpKpJCAHmGmQpwKo5qWn5ljIpWMz7ayL2K5sug/c8bHtBiavA9MPuJjIKuZ+YWQIEZVGpHmFiWNqx3WaJqqLtKImhAiymicrZmCZ5oC9l3DzZ/esl1tUa4ipMzxeJSsXS0mqLZu0NbgY2YMEazhs+tb/CRayHOK9D6walq8sUwh4SpD8oG2rojeM/mBioxTipv1itfXV9TGsq4qjjERjObVzS2kzOl4kDxcH9g/PuHHgdNxz2effcbt6xte3VyzXjecVlJosW1X0r6lMgnJKq2MZlU3rLqG2hmygcpYjNLkIhdp6pZshI1dSiQUKK2kmtYaMJpYGG5lNDkljDLl+htUVGADISSaqsKPPbdX1/zpH/+JFDaExN3dE/3piNZIzJU2NE3DatXRlEQEqTnOGKVFy2s01tW0vsEojc0KX2LWMp7aVkQD5xB4OhwwZLZ1zffffsb3X3/Gq+2W9arl3dvXvP7sDbevbzj2Zz58+ClXN9f0fc84em6uX+GGI+/v33M8Hqlrx83VlqapRN7jfan1FQ21QVG5qsR0TUu2cc4KH0aubr7H9bs/+DamriMSqzV+1+91l7nMZf5u5gJiL/Ndzp8A/3vgPwHeAe0vemBOiX7/gf37n9DffQXnM7V2vH7zGePQS6yWBpW9hKv3I6fhzOP+gYeHJ5SrefP2HbVrOA89682GL//gD6lcwziKdm+aJrbbLZ999hnX17c0TcNpf+DHP/oBBM+PfvBDpmlis9lgtTBGlbPEyS/uf1O7Jdd1zvMchjNVVdF13VIRa61d2NBpmjBNRdbPWkrNc8kAwDgOAviM/cQwllP+9P9fNG3NZiFjNCnGsl2tl0atGKMsBOyzXjYrMNEQMvgYIIlcQSmNtZoYNDGM4iwvzvSqqjDGsF6vGIeArRzGVlQxE7Oirlu6akNdtxhXc3NzQ1Zwd3fHNIgxbjZRjdPE/txTty3NesNus+V6t+NH33zD3X5PjcKjqBU4bRniRDqeUDGhJ8+qk8aut69ueXd7ix9HrDa82l4xDQN8/gXTNHL34SOn86G87sT799/QH0/cf3hP29a8fbtmt12Rbm6EfVaSVxpjpB/PwrpnYdAr6zBaoTBUVq5pIqOdpa5rsG4xi1mlFt3r3DqVoljGtNbkJW6CTzTMymh0AihSDZX54z/8A/7qr/6G/enI6bDHGMMX7z5DGcvUD6gMm82aTbfizZs3XF9fLzW4PkTGFDC24jwObNqOXbsipsQwee6fHgl9j1aarXVcv31DU9d8cfOKL16/5oub19xs1nRdw263ZbfbcOzP3N3fczz1RDLXtzd0XUff92yvdpynM2EcUTozTRNKZXKRcwxjMS+G2cAlgNZPk8RtlbFVw+//o/9Ckgl+9dwB/yOSEXuZy1zmd3AuIPYy38kUFvZ/yjOAvQWu+QV62OAH9t/8kP7932JzxtQWnRIDiXq7panEmR6nkYf7jzw+3fH0+ITWjneff4Fr15iqZlV33L59S0pw6s88PO7x3rPdXvH9V7/HbreTD/qU+OqrH/PDH/6Qp7t7LBlnDPWqxaiMRpNCZPS+aFcVVdVgC5tk1Ytt+JTYXd8weQnXl3rXyDTFJVg/Z/lgNzkJk6syMQbZ/jXCqs1SgJwzKklRAUq2rUP5mi3AJ5XjyIolRD4ji4FZ8jC3PYXoUapaKmxDFq0tIGallDEIENYZtHM4Z4phTn5OXdecz2dQFkIgxIwyjjdvPqNuWpRppcnMOYYUMUrz6s1baufIOdGfzgzjWbaW0ZyHkfMw8tnuhtdXr/iDL75kGIUt7yc5j95Pi4nNKo2rDG3laCvHumlp6xqtxElf2Ura3CZpNX59fcP5fCxyDs/f+8PfLyUYUvPq+562tnRdQ9e0EuukYZomUp7EPKYszlqUosSWaYyWIg1bVWhlmKaJrmnR1tFPUwFnmZQ9KSvWuyu0lRitnLOc31J+EFMWo5hxpOSpmpqnh0ecc6xXK07HA11bS/Xx61uy0kvtcg6Z9XotKQ8ouqZltVot8WrGVXIPVI7BT+QsucApJXyURU5IUofr6op2s6auLCtbUStFZyt2q46u68BqPnz4wOP5yOgnxuBp6wbravrJ02xW1G3FZreGGEFJ5XKMUjRx7M/SdNf38rtTGXKulhplOWcixXn79/4Bb//wH2Pr9tvoYb8C3l8MXZe5zO/uXEDsZb6r+RPE0LVBAKzj0/txoaFmZqbqNvjtW6bzgZwyU5L4pVXb0DrRJRqluN7d8ObVO4bTmbE/S5TWMGLrihgSj4+P+JhYr9d8/vnnGGPYbHa0rXwwPt4/8KMf/YiffvU1KSU26448jlTWYm3RqsbnuCulFLWzizxgrnv13qOVYlX0uNM0ieTAGNFzpoRWClcJg6eUwhYDlw+B4D2k0uI0b0dTtp3hEwnCzMbO0oT4ot6WBFOMWOeWwoRUcmanaUKV6l5ry5ZzpYhTFglBae2axgnKFrdWmRQSw5DRTU1T1+z3e+qmo65F34kyNG3Her2l7lagK4wPEDMxJ3JWEBNGiZxitZq36wVgr6eIjxGy5NLCW2J5PTPgG4OX+LNiMDPGYJRcGwoQ997jx4k4BZxS2Komxsjgz+SYqK3Btg1VLaypcwbjBJhrV1q3woSbUyOUaIKjk8VFbRxtVS8/3xr7fCzGELPUq1rk9arS6BVRTD5KiYKyWOtQRqPQ5KyIUfTLCtAaEsKGCzsr2+vOWNq2lUramxt8zGhbMwwDYQx0TYPVUmfbtC1VYYSFOTaSm6w0681uadmSoASFttWzAdBo1leSfKBDIo4DcZx4uLvjq69+wnk841Yt0aii74WkFdZZVtsN09iz2W0l4SJETucncog0jfwMnyIpT2j0UrEsGu8kWmOlGMcB6xy/9x/+51TdFqV+aR8KwJ6ih/2u3+guc5nL/N3NBcRe5ruamYVdIwD2imfg+nM/oer1FfX6mhi8bDP+5Aec777GakMkYbOjchXNpmPT7OjXPWM/EMJESJ5jf17qRaumpes6nJUoKFKmPx15fHzkm6++4uHhAaMVlXMM5yPbbk1TCcgLIeCZyFnqPLXW9P152ZaPMUIMi2TAWMW55MSiFAnp1JXHS0yVAOJnw1ae45bMvPUcpaFsNgXpTEaAakxpYXNnB3goDKWzGm0Mgw9SMbswwXNZgoDfmekNUcw7zkm2ZxwTUz/RuBplC7sb5Dmig22xznHuR7SxWFcTsyqu+Q2r1Qqsw9QtDoUfPGGaUMW4Nssa/DgSk0dnyrEl0TYg59MoTU4RciaXBIYqZzSK8IL9NkrhcyRMoeiUJ3L0y4JArnVcGrOs1lTOlQWKVKQmip5ZCYjSWkvLFpGQBOxZ5Lo7LV+3BcAabUkpo5VFKUPOyOtVhpyTXHdjsMoQfGG8UxRTW9YoLdc6RXmtyjiM08Ss0UbjajGwGWOoqppNAf/dasMUEspU+HFi6kfJsy1Mvg+BwyiJC10rBrzj8UjjKnY7WcDJgiDinKWq6mJkk6rkYb8n5ija7CDXwzpZDOUcOR2e6K535Ay+gNCu6zC24puvzzw9PdE0Dp1hGAZUyjgnmvG52CBq/8JsOJXKZbfc13XVsbp+i9bmV7GwICzsRQ97mcv8js8FxF7m1z455xqJ0ppZWPgFADbnTAoTfuypVju0daQYSPfvycnjjEGHQFXVhNEzjJGqalDKYVWCytB1a3wcqLuWm5ubUj2bxHjSDyileHp44OPHj/SnMwAOzeQHnKpZrTqqApxeAsX5/+eUgZlNFD0qi4krBM8wDNT1iyiu8sGtNaVJK4uJp+SfqtLYlFNCZcg5FVZujsf6lIl9CWJTellqIN+v05YphsWA9lI3KyB8IKRIKKCnqlts2+JcTVNHdAFr0zRx6s+ypb1eS2C9j6w3W9r1hso1oA1NLYsE7SpiSvT9CVvVpFwMcCoTS1JEjpGMsJIGsxiupPI1M40jtXWE4KUSNyVJPADQCmZdcQGz4zgSpllqIIC1rluiD+QcC3PuUDkTo6RXWGuZpgmQsgfnLMaKw7+qrADgck1zzpTOY3RiyfedNazzsc3a2Bn4pyxpGcYYtFNoEjHIcUc9YaAsSp4b2GbWHmNBgalqfIgY7Zb0i5CSFG/4iKsbSOW+iIkUExqFL0UOIQSGJPfs4fGJhxB4urtf2upyziKLMA4QOYGpnksYrDE4Z6iqhipaEpkpBHRlGU5nAoqqqeU+RxrTmvWK4+Md43jGaI3RCVdSGLJWNF2LGkQbrJUt969Ezs367RACq6oG8rcxdD0B/zUXPexlLvM7PxcQe5nvemYWFv4tBjaTomf//m/RtmF1/RZyIgdPf/cTGE5YP6GUpq0a+qwYx4lh8hIoXwBaCJ6YMm0lW6+Hw4HzeWCaRGN5Op0EzIaEU3A4HOhPZ7pVQ1c5og+4SpjKMfoFxIJs+8cYRRsIxJQkVilHplkvq5+ZzUxE6UwEfIq4EpHlbAFBSoCXLgAm5ry4swW0Sn7ovLWs8nMSwctt7KwFqIQgmaNKGUIxm826SKCYiyJXV1cYZ9FWjjNlacNyThi500n0irOxjRIhpYzF2Zq6bmma5/pYYyTcnyyGqDCOZJ9JUyBOHqUsKUSmYSCFiZTmFrBn5s0UQO79wNhLGUQsxjUfA6FkjSqjSyYwy4IiTL4AdAtFf5lIGK0XSYWtKgG8cZLnIy1qsqhQZK3xMaKS5OJa9WyCmxcNcfKiGS4g3yiLy0UfbaWRakma8JHxeCRMnrrriD6irCcnByVCLeVEilJLu0SkRZFnRBLaOEC0y/M1jDHy+PjIMAWqpsVqh0mKShvRCmtDVAZVO6KNTIOwtJvVir4/EaaR+/OpAFiLc0YWiylI4YLK1F0r96lzTEFznka0YWHv61rSKFzb8eXv/x5t0+Inj2lXfO973+PrHEhhJIYgWm8oi4i47A44LfdLKPpXkFKOcRwxxrLe3mDr7tu8p/wI+FfAX1/0sJe5zO/2XEDsZb6L+X0+TSL4ufKBlCL7r/6C4903tLdfLkam/vEjwzc/Qvc98XAgVg2H0dM0K7CK06nn6J9Q5YNw8MKwJUQvmVIiJ2Gq/Hmg3x/p2pa7p0fGfqCrHOvqipgCJmfWq9XC9s0fuC8zWHPOC+s6V8xqlZfaURD97TD0pBw+eazWRlILvHzWLg1OJZ911kCmpMhJ2qNijKjC1M3M7DiOpab2maWa9bFSeWoxyi1/P9ffggC/uukwTrbDI5nJx8IYy2tdt5Li0Lg1tq4Yp8Dj8Ygis95t6No1rq7F0GOrZw2wyrjKYI0iBk+aJtLk8Un0wQRPjoGQyjXSocgn5IqlEJn8sCwcMnNUVSQriRwzJWP35fWYX6MplafjKJrfumlkkZFK1JVSJGqMUaQIox+ZYiAHaKpW7pmksM6IdISiZS7XX2dE22sMRmusFnBZ1Q3GuUXDbLRGK8U0jqRhEMMdCqKDHImTLHiUFqMbKJR6jmjDSsardRXBWSw1vmlwrsKYkaqqGL0AwpAjNmu0E3OZUboUKhgUit4LwF+tVtTOEkqFsix6JnwE56TaNZOI0TM+ljg0Z1FWobRFl4WXUZrT6cR6vWbTdqiQCOOEcXaRnXz5e98nxYnj056H+/fEEKiqShaGfiLmhHWWlBUmskgGfFkIdl3H9uY19Wr7baQEcyrBw3f9RneZy1zm73YuIPYy38W81MPO828BWX/8yOn933J6uOf8dMafB1zT8fSDv4DHOyqlSFqhvGccewgRZQ05DsQwCgBRCZLidDqTlaGtWmon7VmDD1hjuL254ZuvfkJX1axcDTEU9lMyP1VODP3IeeiJUZq4ZhnBrH31MUj0UcrSwKUzq9UKZyzTNCy6v5RfxGhpTVVatMaypa1KBmwu+k1FFlZQKVAC7FNKUJ6vSwTXDN6yKvrYkkgwM3bHUy8Mbc6MoUdr5HitbNkejmfQCq0kt5QCoCIKlTKVE6e90pasFd4HvPe4Sl5L07UobchoQsyEmPEhkdLAOGWcEtYyxwghMPQTcYqELMxz09WEFMhaIqgyCZInqUw2GR99qdFNz2UAWmOcRH9ppYkxE6O8ZqPsUvMbY8Q4S1U7qkZMWD5MTMGLRMMa+f9p4tyfiESyyrRmLQ1ophQRKKnnnetQjTHYWkuuqa0FzJaF08wkKmWoSwubrhxj0IzTBCkvkVLJB2JAihkqt9z/SmW0KUBbGbCaSmsmfcI6lmzeahrZ7XagLVOI+DGQymItRJFmSLqttGNZLdesdhWuvLbdbkMIgfMg6Q/GKNpVVxIbIsPxhFJZ2r6MWP99DLL4iomb3RU319dsuzXD8QSTZ3N9hR9GIFGVT5pZHuCn54VljJGUReKRsloa5+ZkD2vFwOYqu+xK/IrRwINS6vxdv9Fd5jKX+budC4i9zK91foEe9uc9jtgfIHjC+cTT03sevvkJztY0OnNjHG1dE/WE94GkIo8fvmIKidWmY9etCQR8UGCgvb7G+0B/HjmcjvLB3bV4ZzmdTry62snW6DihrTB1+/2eaTgvzOMwCdupCgCZdZgCSG3ZhrY0TfNsWvLCLB5OR7quxemGMHm0zjRNgyEz9AKOZ42j1HAGYgiknMhFcpDyCy1rYRvzCxALiObQCtCcgXYorFddi4ltdvTnnMk+CPOYFNY4rDWkDMFPhJwwxi06X601seTcJqVZrTY07UpaoQprNiaPLsdrNATvmcYB0zhykqiryjoIkbMf0TnhU+R8jkyh7PwaTS4GLyILG+djhJRQxki0lTELo32YywuiXBvrTDEOSQ5sVUnRhDUCdufzojJoIn6cCIUdtrWlsk7KLBLkFIhemFMfAzGLPKOuBQRWVvS1fpxIImglRY9G3mDrsjVvbY2pBOA2rsKnSI6eaVDoSpYjprjufbnOOiZySayYwfucBQwCoI3SdK0szMwU5Jg1co6IRB9KIkTGtq1EuM1yiBipmpqcDe2qo91u6cczMWeatsI6R4qR3XYt8hs/MqWAUtDYRq6nsay6DkWmH04MPuByxPY1QWVuuxtpgxunsghsUIjOGwVNu+LYnzG2QudMJGOMpH3EBHXrMM6SUxBzH45fMXV5f7nMZS7zOz4XEHuZX+sopcac8wMw8Kke9mcfh3INxjhhh04H8vGA70fe7K7J1zdkH6iNxcQooK02ZGfJMXC++0ixQjGMnqwVbdextoqoRL94Ph/YPz3JB6vWJBQhefbHI1M/iCwAg3M12U9sm4YpSIVV3XUEH5lGz2q7EQ1hlvKAafSkEFmtWozWDMOAqxu67RX96UxII29v3hKmgf3TA3Vds9uVCCOVSSVeKcZICnP+67yFWiK+kkJbK5rYKHmzxgn7GFNimkS7q62A7M1qhVKK41EaqLqmLaazQOMqyRb1E1orjJFtcGHtRE9q6pZxEmBrXU3btChToY1btJTy/U9SvZo1IUxYIKaRsfdiUDNly19DU2pq9STGN1VYuBQz4zAJyESAatvVoitOWYxTKRd95bOEQAHVixKJECakoS3TFgY2hGnRQyukSsKPkWkc6cezRFA1NVfrFa0xkvcbo0SPKY2parIxZGWwVUNV2HdnxbAXc8bkXPJoJQd1OB3RVpjNGFKJaROT1Th56jZT6YroA9YVNlcv/ixZIEQBgNp7rq6uGA8HiAdq1+DUCe8D21VHWyeO6sjYT1TOYJxlOCfwabmWq1VH3Tb0fc8UFMMkBRU+C/OuqxpyZvAeHUvMlVYCpqNGRdEIm6SwxTi4P5+KfGbEVjXOKYzTdF0j7XAx4rTBTxMaScM4nU5igdNQuUYauVKiqlsU0KzWZN2DNpi6QllN5lszsb8yg+syl7nMb/9cQOxlvov574H/FMmJvflFD6o2rzHdFZWrxJ2foTIGk2WLdBgnzn5iOB3JSba3M+B9ZP90ZoridvcZAQEKmrrGVQLajv2ZHCIYzW69oT8dOR+OhGnCakPXtICYp5qqJqdMjhGfEilllNG0bUsMiYfjw9KI1PelGKFupbQgJbrVivuHJ2pr+PLLL/nw0/fUTrNebXGVwZdGrqTybHwvbnBh3jAKDcT04kM8zXWcwurGXExJ1tC2YsShMLJ93y+gVQLtw6LrzFHM9rYqbWMKslGEnJj8wDgFVq5miuKcb51ju93i6oZxSpzHgaE/0XUdTVUxnI/4FMq2PkzTQG3qYnBKRffrC6Mo0oFZ32uMK3mrzbNEImfIAtRfJkM4bcHI66/rumidBfk9Sw8i2iANVjoTQxa5CFL8ME4TwzAAErmlVYacsFnRVaKVDSGgURKhVTdgrKRLVBXaWLKKEn1mDCZFTBY2W+WMioGYAqPPjH5CK2HJQ0hkNG3d4Gr5OUopkVtkMXYlo+R1z5KSDOMwUKWaFCReLBVjobFiVFutHHVl2T+dCdPEFMr9ohLj1BP7uGzRV5UUHmA04xTIOi8mNFXuq77vGYaMIi2pFrLQiPTnM9MkUVjaSbWuMhbXOJpGsnedKebKaSKkiDOWIZxwRrHZbBhH0SBb64SBD1J7K+pnYfSrpsZWNdoYtPlWH1mJSz7sZS7z78VcQOxlvov5K+DfAP8Ukdf93JYubSvqqze0bUvX1tSmolaGlXYo75nOIwRPGqXCMvQjw+Q59T2n08jkAylkhiAgo/eTBMBXlcQqVY6r7Q5bOe4+fORcPpRTSuJI15qqEmPMWOQBOc+6vomuXVO5umgIhTEcpwFUpq4b2d41iuvrax73T+QsOtnj8ch6veZ8fMIZS9/3khWqFFmDLjpUXtTIWjVrLOW4yM/byyAANHupbp21sHPYfkpJWrgyYDRWV6J7LUakmDOudhjnSCDtX9pglEXphLY1j09PdJstt7trmkZitIZhkHMSEnHSUFdSNlAWFFZBLufl+U8mJckBlRiwEjmWk8glgkSNZRTaCFeaUkZjl+3vGOPyGvULDaqcl08NdyK/yAyTgNiEJsSALyaoc98zDANVVTGMZ5rKsVqt6LqugDbRDmsMrq6o21Ziw0C2v7VIL6zVeK2JFMe+95DEeJbI9ONIVkj5Q9MQyj2ptTS/OcvSwpZyLukQStIqYsbZlsY6fM5U1qKriqkwznVdM4wjMSZsJZFVk8+cYiR5jyeJsUsDKGKYOB33JbM4o6whxgxzmYLWOCPa6KgglBiymXGfDYHe+080yjnnF9cCQpgYBkWVAtMworWm6zpOpwMxBppVs+jKnXMoY9D6uUJ5bhTruk5+prYobX7Ve0sGeuDjd/0md5nLXObvfi4g9jLfxTyWf98BX/6iBymlWL36HqbpIEOlDdt2RZ0U8TSAn/D9mfHcg1acTycenp54eNpzOPaMPhJCkqgrLfmVcbXCVm6JmTofj5z6nuN+X0CnbL+HmRGLEjzv/SglBVbYSm2tsLPFrd62ErbQ9z0GMXFN08Q4hqWS9dWrV/J1lVm1HdvtlqeHR4xVuGLw0hrZKo+RnBK6aDxDyAtQewlw59pZyTiVuKlcGFdfGMdIRhdTV1W2/eeMWIWBFLGuQpcyA6UyZLXUuxpb0W223Ny+ZrvdEmNkvz9yHnqgmJiC5vBwL8A0JQx50QzXVcXUT0vV7ZxXOmuIZ/AjcVKRqbB2AlSr0lgmRp+5HGE2qc3pDL7kr84RXYscozC3fhowRuQlkpwg6QlyDCL5QCEu+O2WpunKNZefUdkKYyqMcWhj0cqgrRFQHoWtn0sqskpopHAiligwpRXGSN5s8B6yRqlI9J4cAihDpRXKOpQ1YujLSrbPkzDJpqmoTU1KAZ3lXnvZ1DZn0hpr2e02tG3L+TzQH/bEXqFjxic59+fzkZwVKWfQirquhRXPGbSA1aRAkaTgQ4VPfjdns5UuKRAKJbsEMckixXsySTKdY8BPgbqpaFzLdremP54I4/RJXJ0xBlvNUhBfUh0q6qbDugplK+BXJhOMwBGRK13mMpf5HZ8LiL3Mr31+RhcbfskjMVWL3bwijP8fhpjYuUpyMHNGA34M+FPP4XgkZpjOI/1p4Hw8EWLG2opVu8ZWBltXpTwh0tYdOWQe90/0w4BWCpJCG0Nla6wW+UIKkX4csFX5sDbCcLq6LtIFT2UsYZxQdSPboSVay1rL8Xjm/fv3rDZijKmMoXaG8/lMZZXky6pELtv7Wovh5dnARdmOlfQCp40ApfKYOcIp+FAAnX52cC+5saUKlIye6zpnAFMc4r60Zo3Bl5QCi/cB7Rybqx1ffO/3yVmA6fl8JoQJo0rO7OSJ00jf96QskUrWCjgNXjJyD8enBcTOsgZJU5gbyCggE0k+KCa6Of/2PI4L6yfsq2yvex8XA5uwz9MnhrZZXhCiJ3vREs9lEKFsj2ut8WHk9evXvHnzegnZb9sWaxRksK7+tOxiLp0oGk0xiYmMZG5l08CUhK1s64au6/A+cH7qcU2LqyoSAVdXjP1QSiZEJqC0IioxaCl0SR2YUNpI8YfWjOMoublpZkFL/FfO2Kqibhts5SBFItAf9vT9mZRSiVirUMDoJ/IYUXE+N6Ewsmr+fUUpuYdmOcpzRFtm8uOSiOGyReUIMZJUIpIJShNDJEdL8oHdeoND87h/EKCqhI23UBhXhcoJyEtDnasb2t3rb/P20iM5sZdkgstc5t+DuYDYy3xXM+ti/wM+jdr6mVGs33zJ6Xwm5oFb1zEwMt49kgcPU6BzNQ/DAwlNHCM6K1btmpQVWWmUMXRdw+Q9x/OpfCibhdmb++ebkiE6g8a55WgxLmlNTlkimCbZDk9AVddS7ell23W73WKMbLebF9vpzjle3Vzz9HAnjx09t9c39MOJXBg1jbR0zVvhc+QW8Elb2Dzz4xZNbEku0NZgisaV2dGuWHS0xpRtfLLEURlHNhpTNzRNg2tq0NJYtd1dyxZ/zpiZGfaeYSiaYmT7fhpHQJP9RKwrnK0/YURn8DjHNgFkZpf882t7lgEkYCrg2S8Lg/mcSlC+yAKApfxg/nkz0zyff4l2ip+cu/m4ttstm42wlwK08wK658zZrA1GW9DCdi93aJKFUQgT2Uv5QQ6xyFFEd5p8WP4++LEUYmRIUuEaeF64zAkMM8DLStPWbrlfU4oYrbCups6ZKXh870VyYS0xBJEQO4smY53mNJw59f0nzWYheVKiMNMiqYhF+6pUfo4JM5qsRPM6s9wCmuW/x3GUilmnsYpiNvSQReMr19xJVNd4pu12bLYrxqnHB6lNnoqBUUyLEghmrUMbRSSDqbh69/e+TUbsAfivLyUHl7nMvx9zAbGX+a7mr4C/AP7ZL3uQUopu95qYAn0/0Z+PTOPE/uufkvoRk8AYx65bM6WMT4moDNpZfEg8HY4cTydCnIhJAtXbtkUhGZ1GW5wVo1flarTS+EkApvceVfJUgWXLWiEsmNaaqqkxWtG0IhlQShVQHOj7E23bStHBNHJ7e0t/Pi3A6Xq343A4kIlYXVgwWDJEpZFLPbOPMeFLbap90R+fUkJZ0cnO52zRiJaZc2lnoFdVTQGVCescXbcma0W32rBer1HW4KNsuU9T4HQ6YJzDzdvHKhOnkRQjxpR6XFKJ4/KEMX3CkFprmKZICH7Jus05k8uW/gxmBZxKHSywuPiVMqCyhO+nTCoxWbO8IM/JBqVxC551skopUlZMU1i23+V7S6JD4xxvXt8uCxhjDM7oxdz0UrrgnCMbxRTEXEgKBD+S/YQfJ+I4klNAZ40zFq0NlbGch4Hz6YRC4rVImeQDtnFUxmKsRmtTjj1jnEO557fnRGkqC4G6apjGAVtX+DAuxwVIhW/OZA05gTWa7arjYA1ZQcwQQ6Qfp6XswccokW5kjBFN8WI0KwuKyU+Sl1sWBCkExhifjy4LUJVaZS8NbEXza4KjbufiDc00jFRW0zQN0+EkqRJGsnTH4CXCrBi6dGFiY8rYuuVbzAT85Lt+c7vMZS7z65kLiL3MdzXvgf8G+N8BX/yyB1btmjfvvs/+B38LKaBzwmnFEDz3d0+cTj3KOnTdMuZMQKJ/piCVldM0YZyAk9Vqhdaa/f5IzInNWljTupbt4v4FW+WcNBYZY4gpEKaJar2mqirSMFLVNevVmtFPDGdx/3ddh3OOcZSWqaqqSCnx+vVrzuczh8dHpuHM69tXaJWWAoTayfa7yhGllWz754wKAnit0vjkF93uHFgvVayJ4XRCzXWyurBXMS6d9zMzmWKUOl6kLCBnqAoAijFyPp4Yx5GsFcZZUoTD6UjVrOj7gaMXGcF6vaa2hul8EoYzTEQyTisSiikGxnMgxoxZr5aQ+1mDCkUDm3IpTWgWJnZJFdDy9iTsX1jYW9HO5kVLO4PX+Wsvmdj573yQr8+gdgan6/Waq+stm9WaupYcWZ0TWhnaVvJUp2nCJqiUASdMY46eECMpBqahJ00jKYyoLFFSKutntngcRbc8jFhXYZzFjyPERLva0DQNSRsCiilGYipb60ajdamiJWOsNL1tr9Z8fD/gqmYxpYUgiya8VOgqV6G1wVUG3VjevXvHMAw8PDyJfCBndDFpLXXEIRCTLsUIlpxFOpBQxJxR2UgCQ2FyU0pYp2mbZmnugkQOkahKY1xZPM0MfNc09P2J6IsMZvKgWGLRUkpMMdBYW/JsJaorFbnEtxjPL5UoXeYyl/ldmguIvcx3MkqpnHP+K+DPgT/ml0gKtHVcf++PyE+P6KxKKLxUePppIkwepSxpGDjFzBgT6XQqoLVld7Mj5UwubOf5fF6MQ9MkjJTWltPpiNZQNTXeT6DUEt2ktTBHuRiPZPtUzFuxfK+UEqvVqpQZiBP7cDhwdXXFMAyiGS1b1zlnhnEghUjTVigEVKWQiCEs2tY8b8MXVnMG2EqppWF2BnMgYACtGEr00VztSWHc6mIckvilgNaGPvfk00DdNuAE/PuUUYXha5qmPFZj65roJ6w1dLsdhyTnwxlLH85QSZNUDpF103F390CcvLB4Vhi1mDwx5OW8tm3DOE4LIJcbBGKcY7iEMZ63saXKVxPTs6Y1hFhY2PSJ2Wlmg0/n/y97f9YjSZZl6WLfGUVU1czcPTwyIiO7srrY6PtwCZL3iQCfCfAX851PBAkQ94HgBXHBqVm3p8ysjMndTFWGM2w+7HNERT0iI7xBVLl3pm7A4TaoispkquusvfZaM2EcqKlutlBv377l9ZsnvvjiC2W2pfJ4PDFNCswdGncarENKBSnUnKgGNeWXpgdOC5I1hYtSSbXpk4sjZx3eGkPQBY3oYmEcR0zQBc66rowPj8ra+gETPcZ7lqLn4nA6kotgvLLGlcrr3/wGUxLOG/6nf/xOz4u1UJThLUXb9LlWjLG8evWK3/7u7/jhh3e8O7/gfaQUlRTkxopXQ1tkwMPhqINZ7Z5Oy6J/cw2MhujAVGpVHasPQX1fTeV4PLKsCqbjOLAsC19/8WX/u+d0OjGdn8m18PDwwI/nZ12cSSTGyPlZPZqXZeHh1SPO2xbIUPmIKsDxU7+/3ete9/qXqTuIvdenrB+A/wvwv+MXQKwxlq//m/+O/Mf/iP3uT9R1RUrBiiAtxSqGwIolBsfzux+p1uCByw8vfPn1Vwocrdlsgdask901aAt7nmfO5zPWsulXnXPEGHHOUOTKJJpaFdS42nSNyhQeH067Frp6yHagnIqmZsXDAUR1nLZpLuGqA910mtrLhrob8tppNHurvDOLtjF/3Re2s42bC0AbEFtKRWZNewKoTYs6DAekVKrJVBH1RG0JYsZa8EIRiN5BDJpMWwvSLI8Egw8KmKUNBOU1MY46US6wJX8ty3JjD9adFWqtlL3UQATENqB6jZDtv+/nLaVETl1TyXbsXY+bSuZ4PCJWn388HjmdTjw8HPXrw4iUim3BCFKzxsQq5Yp36p1vqrAuE6VWRAXG6jlbBWdMCwdTw36VQBik3mqaS6kYPEUMrn2/LIlqZ4bTQ0siC2A90Smw1HAIBeRrrRj03jfW4IbI6eGJ5x++V81tc3LQXa/NB1nvg8fHR377u9+RpPL8fOYyzzcDXCRDzkk7AMbpsB06hNcHuTob3iUrtVbmeUbmefMmXtcVDNsi6+HpCWsdohifIQbG4YhNM1PRgcWK3teUqza2NicFsC1h7KNArEETu+51r3v9DdQdxN7rk5Ux5iwi/4ja4vzS43j4zd9xevMV0x//wDov1Jz1Q7pUbZ8L+CHwMq9MKeGcTpybqkMqKS+bx+XDwwPWhxZrKczzzPv37zk39vZwOPD09KgfqqZirGW0ASmZzNUHU6SoKX0DmEOInKeXBiy1tZ/KSq0FSjeSV02iEbCOm0GVDlZFtIXcQezeEkv1qEZZZQPWWbU5ErO1eNXnVjD1qhuVXDiOB42UbTG01juksrkYYAy1ZmWmxWJqoayVaiw2RGzTZeaUWGtWOyUxjKcHBdjDuAFUawxLa21fLhcFoSgosgK1+93Cppu11mCL6nZzbWDJ6iJmmZdNL9sB4uaAkDPQXQ6kmeVfwbwytwqiHx8fef36Na+fHnQxgOF8PvP0+IA34J0jWI21tbCx6iEESl7JpZBb7Ky1YGvB1kLJGW/auUSHk0Cwzreo26oOGPTjmyA7QhGytUTniA8PGq/qLOJaWproAgrrKQi15PZzcAguRJ6enpie32vbv4ouxBrAFgO1GqYqHB8f+Pqb35JrwZg/spaVlCvS7uGKKKOdNTTEeZWdVCOq85a86Y2FuF2/dV1xzXLLNN31eDoShoi1nuPxuHUEdBGi51MdKlZN8uLWB9l5u9M4q/WalI9SCUR+cVD0Xve6119T3UHsvT51/XtUH/uLuljrPeHwwCSQ5oWaVmit5BgdGeHh+MA/vfyTalmNUHPm66++InrLj9//QBgi43AkjANvXh1IJXM5T5ynC0auGr1puvDq6ZE4eKQYHbRy18GebiGVa22xsMJ40AjVeZp4ahGynbkdhoEQVJYwrQuWSvQBETW2t7KzxdpVB4PGGGWWd04F9WaCHwWfzYFg77sqKJg1LRygVj3OGGMb9NHBLmOMMq7W4I3qWmsu+hgEUwoVBRhpmTcmGes4PD4xtEXBuq7aVhZBFjbmuNZbyYPD3mhZuwSghxhQzW4Knu14ar2mSu3dBQx2WwD0EIV+vQbveHx4hR8ix+OR16+feHp4oNastlWI6qyDJzpLDo7oPSmvLNOsr3c4UFEJhzVg0cmpWrP+n1bEW71G3tMdGwSNj62l4IeBGBzTspBKxmAYRtsGBx21qr2Y1BZMERy1aBSstxYjlWqqOm5AY4SFMEROhyNlmijLQpXa0t/aEFzVhVM8DAzR8/btG6CSauGHH39kWtabgAHjug2bBSPNK9jcBE306xhj1HM8jlsXIB5GXr15TRgGrPXEODKMR/KaqHllWRLR2SvbDlTJiGjmibe68NBFni5IclqpHwdiD8BBRIwxRj7mCfe6173+6607iL3Xp65/Qp0K/uf8YhtQ7YasGMqaSPNMzqtqKoeRSawOFsXI6AzLNDEMIw+nA9PlrElSJZNW9UA3USelx6gvaasOorw8v2e6XDg/vxCjZwiR5hnQPFcDrk2NdwDWJ9o7iHJtkCWlRJW6MYb9Z84I3jq8N42d46Y9rtZQBhpz25OosM3vtVb9PTq1Xkqm1rwxjn2fAKyA8R7vIy5ETPMRtd5trJruX9EhGu+2/RAgtFCH3AapQgjIEBvg9BuoKaWAwHEYyU336eKgQ1LWsixqb2VwBN/9YBMrdXNN6Kyp9x5XCom0yQdCUJBsTMU5ZboV5JbmMeua/KBLQVQKMQwDYYgcxhPxMDIMYXMhsNbrCH8tm39tv66lFPX8zRpbm9YZYzUhzDgLNVNFGVjJCaQ93jmoOzlDZ4ONw4WIs00qIGCC53g6MR4OrFU1y2VZsM0LWbJaj2E1cljQ+8IYHfxTF4ey6Uznl2fm6UJtw3/BOYoIDUqTlomShcM48MXbNzxfzixpvgGwFQM2ELzHOWXNjaGdixVn9X5wDcAejyrJECw5q03d6zdf8PrVG+JhxFqHbfelcw4pLcZX7PZ3Q05N/qDBCN3rFsBb26J/EyWvNzKUv1AD8AgE1KngXve6119x3UHsvT51DegHzi+yJiIVWQuSKzVllmlmuUxq9O6F8fjAXCpfffUVP76cuVjHq8cjVMEKHMcD1jus8WQpzNO52ToBIgwhUOuI1N7yzFiE4Axr1ra92hgpg5Rraa1+i3eq9bSlbJPia0+QailYz8/PjOPYPshTszGK2q6VTN0xXGqtpSdkH+W5j/a8nhe5aZv371VDKFcJgmvMcRumUsbNEYJjPB5U19i2WRBNX2qvG6NntJ41lU2HOxyOBB+5XC7MaWWdF0o1uOBwPiKytHSxwjAMODuw2GXzdN0zsH1/u9Z37x6waYXrVWphdlKEzsp6ryyes34z8u8g1seg4HkMm0REF0AG5wzOe5w3SE7qaDFP5CZH8M5srW9jSmOs+yJG2+u1JPIyU8x1UVKqJVewVqlb6zximgTEO0IY8DGCcUzTQjyeGjiz12vpLI3wxYgCulxV62pau11TrQJxPDAcRsIlkEpG3YzBWrZ7Ky0zpRTCMHIcB96+ea1+wSK8e/eOZVlIq9ptWbq8RYcL+351yzgXdeDv4eGBYRxJbfDu1RdvePvll7gYlf1vfzPrmts9F/DWqOsH+je15qQBCVwlNTrUpwuUGCPiHDV/FBNrUDmB5w5i73Wvv/q6g9h7ferSXuqv+eeIQE54gUOIzKhdVMpCKReG4YFqNKb0cKgEb3kYI2l+5nQcKUY/UL0PpKzDNNOSSEn1l0YpTh4Ox2av5VSlV4WaV6wdN2BYG9CFqxepiLAsS4vvFHJZcX7A2rB5l+acCfbq4aqgjG0KHPq41XU4Sbppv1UgLe05VSpGKlauvp6gAKeUgmnsrwgQWtISzcDfGsRoDK8Cxaal7fIEZ1WGYAxJEmZ1gDJkGAXlqVTCMHKZZqZ5RmrFh0hOmXEcOWcNg4gNmHp3ZTr7uYsxgrNbClS/zF3/20FtrZWAEAe1/Nr74Ko21bZBq1sQ26UJLnjevHlDbtdBuAYeDMPA6TByfn6mLDPONMeKXLBGcMOIGEte5raAsBi/szfLGclZfYONBkcYZ6nikE3SMDa7KWXSiwjeKNOeamFJifHpiTBE1b7WSi6FEKL6GZuqkhYByZlCxpmAxeFdwBpDXWaGYdDQi5IoJWENFANFCpIKYtUJQUQYDiOvHh84HAawnofmpDHPi3qzNq1xSWptNhwiMaqmeBgGbIg8Pj5yenhqUbWqUX54esXp4YE1V9acqDWpHy0OqZXovcbYpkVZ7t7FWFUV263tXHAE5zcde8JSyy9K5/f1iGpj76ld97rXX3ndQey9PnUl4NfHjlv0pQ+B8XhiOIxML2eWdWFJCz/+4T9hjw+8O5/xIRC84/1yxklhjJ7DOOK8ms9bbzbELC31CWOpOePHgRg9hkrNSSfxnSOXFUszlBeNBhVrcNbpEIyxTMvEMASkxbbuWdJxjNSSWDMchoD3TlukpRD81cdVWtN4Y6RqASP4Np3fW+9by3v3GqVoZn0HiX1f+1S8GN1PaS3m0MD3y8vLxrwa74g24ptkwjQf11ohxLHZbRVyFeqaSVltlsAyjEcu52eOhwPrulLnC8Px1FKqrp65y7JgvGPwRw4iLGnd7X/dzsU+sKHrNLvNGFiiD9sCwrlwfZ5RH11sk6B4R0qLmvl7xyGesNYwTxOXlzPkxDLN5HXmECNWIJWEVFHT0XWhtPhYjCNIwNqxnZ9rfC1GpQbWeGW1BWiuEdZajNf7xxSLtO+DhsxSsTjnKcawzgsZo7IC76+LFmNIaSHXjHUQXIs3do5JhBAGhjiyLJMGDohgRO3ZaIN+adbBu+gDg7N4O5Br5Tdv326SjWEYcC3hLK+q6z6cRg6HA4fDQQfMxPD6zRuOpwemacIGHeAaj4c2mCXYIpsM4zgOpJTwVrW0ZZlZU0Jst0hbcWgoxjgEwuAJ0eG8xQdHXhJpeu72E3/pXWJG14Ffo0D2x0/95nave93rn7fuIPZen7p0MupXy+DiACFQ2iR3uMyUSdmZcYhM00RZV/zpAWNUm3qIgcNxwGLw3oFYSsmQCrZZRol4UhG+ePuaOAxU0Yn+NSfMMhOCTtabhrXTshLjiHGWaVp0qKtN/6dUGI7Dxor11KtaCqUkxjhotKdUMLAsC95p3K00N4JSCoJgmwPBPM+cTidKA3u262Cl4kJQP9liSLlgrMaMVmmpVcaT00IIA2KNJiPFoMlkywq2yQ2aJ2n30jVZh8EwhlIzxkbEWOY1sWYFbSFaTqcTp8dXLMtCCI5hPPJ8uaipv3OkXPDW41xhHA8cHh5Y11V9ep2COgXlsHdXkGquTg21Ekb1HO264vmyILnsjPb30gSPN1YXE6LHFIfIWjLBOqbpwvnlhegDD4cj82XGiXCMI2XRFLgYldHMacF7S63KZFsjiFjSPLVBJ1FbLlGZgWApAsYFonVt4EyHs+q6Mo5HLIINnvHhpP6vxqg9m7NY44iHEYyjlKTbxmBoYR2PD2TRqF+MgLMKTLOFYjjEA3VYeXl5j/HSQhIc3jjKnKi5sKQLthgOpyPjMODHyLxm/BevsU2WkZalOW5oZ8FYC051xCFG4jiAs1RnefziixacoechpQRVGJyjritlnREM5EwqHncYNiZ7XVfcGDWUwcIwOMIwIkaIw8Dp9RucD9iwUtcZqUX35efrArwDnoCvgP/wqd/c7nWve/3z1h3E3utTV0HZ2F+UExgDOI9pH6LrMODGiA8DmYy3DomGYjyuVsgJ8QZjdDo+Wg8CqRRMrTgLg9HW5cEcte07Bqx3zPMF6L6sbmu5Q2vPG9XsBTvgvSd4z9r8Z40xOBzFKNhKKZFr4ngYmOdClYIzyhpaA+M4bsySiLJlgDK97YxUYJkuN/Gi/fE5a7s3xrj9bM/OAht7a61FrMNUoZoOFmnbjZsGt6KA0IpgncP5wOnhkXlVP9Y4REIY2n6rq4ExBusjMVbSqiEOIm0YzntwHow6H1jvqKIAXarBR/kgnatoSEApmCoUquqZrQUy3keO4wmabdU6K4AupVBTVn9RyW1C3yAYclk1eWtQj1jvnMbGovtIAucsLg6amiZgTcHgcR5KMjgHBgumbgyr9w6o+CG2QAkBCkPT5DobdKArBnIRDTtA8AplsV7jaVOpBN/2xak8QgcZ1Y4MqSzLRKbgvGE4HBijJ82wzivzPGOxysYOI8dxJEmC0qKFUdY6et+8jkXt6ZrDRvSe8XhgmhZSKbx69UpB5rwyjCOlDZRhDNYHfBzVok1EpQLql6CLkFxU6oJgS0FKoeSEsw5r1LYs17Tdm5TMOA7NDqzgB4ePkfF4xA8nfIhUmcnrRC0J6wO/UH8ARhTI3ute9/orrzuIvdenrgX4HgWy8S8/zOAfThh7zXPvKVq4TC5tKh1PRcFQaCA1hKCuBrvEJ9PiWa2P2NC0d0Ns/qRVbaUMGOda8EAfRjK7Aau6sXQ5Z7Jcv4du3p+2wZo+xd8BZ62V4Bw5r1v7fgOh/ai7xdamGb1aTO3r+ryysZebXRW32l3Vx17b9tVZvA/baypw0ucMURcKBvBet2faIFsuBWMcARiCDqxRNeXKG0tKC0tjLHuiFmIJQyQEbR1773HeXwd/2nlOqWxgC2DJqvEUA2NsIQzN0H9pxydeKG7ddJ+uR6QiV19ad10IJLtS2ms5C3hl+JTVVPmFnvs20KUXpIH/9jOjC5vBB6CyokEI/Twb7wi2R9BmctEgC2NX3DSBcZgQtUvuPD44nL16/vbEshAiNF9boUIupFrIi2qPT48PmJKpaSXliRhGpvNEHLWLUEvFWQ3vMMbgvO77Nhzm9e/m6ekJ01jSWivBx+YKIXrNYmAcDsQxbglfSMGU1qmoddMPe6e69VoKc5kZxwPeN1eJ5jhhxJDKqg4YtVCt4JxnfHiDO5yw8YA/PGLtuem8680C7WfqT8ALarMVjDHpU7/B3ete9/rnqzuIvdenrgllT375w8YY3MMriqlUyc1W6grUqgjGOQxOx7kRZUlDUKZrWTXrvYEmEUhUXPDEccBYj/GmTX47YryyPR387kEs0pwDjGFZFtbW6henpu7GWQVGJrIsiw7HDAPLPGEFvHUs66qpV7tAA7p3prNNAuGbBleHezbt7AdT+r32gQm9rLWYlvi0JV61gag+PLWua3tcm3q3V6BsqEzTmTgcVEu6zJqQ5TzeC+sqjOPI5XJBSuX0cCA6r8NF1mEMPDw8sqak+mO0xe+d2i/daF+hMZzaujbVIKjNVQgOIxo0oT6yiRAi4dGwTCvWQrFxA/Q9da1IxcaB4/GoaVjGEAhtCKowOYMt6gUstadkFRwKmmspylLXSpWkgBNlj/Wcpu0+9N42EFtISRceoUYcA9YWqkCMg8pRcHrfWUdOldC01sZYVprBv6j+lObRa40C0mV90cXBulBS4vXjI2WZ9Z4eIoeHE88vP2CrbLpaZ12zrHK7IIFMjJrGtRS15nIhsCxLWwTY5nUcGYaI9wHjIKdl843t95AUdURYl0kXH95SUiLVgtTuPAE0WzVrQWpLITPqFGFD4PDmaw5hNEA9AACAAElEQVRvv8Faw/DwJYdXv2H68U9IXX9ND9vrub2fuF99X7nXve71X3XdQey9PnXNwH/iI+xw3OMTqRZKYxH3EaTjOFIE5qxArYcEeOdaq3pVkBEHfNB2PjVjg2MYIlhLFrXwsk0nilWgVERBq6GxSFubX1qE7IJIxfuAD7aBGo9zERc8teqU9+HhgdIArR1bZGrOHMY2JNTatQCIWmC50JjYvJJrVllDH/TBYJq2VmlKoLbQgqZj7LrWfaStMQYb1BPW9djYDnwbw22kquVU0UEs6xxLA8Ypa2KVdw4rkGtimStSMzQN7yVlBZneE2NkWbPqRttEvm3yBmVpsyZCtThfgxreYy2iTmbqfmDUMUJqYZlW5vmC91EN8YtKE2rO1JSbvIHNU9U2VTNVmU2cxcVAsAMhOnV1yDNr1QQ4mlevSjF6eEShVDZbNWvZ7sFSCqUqmHVWZSnVCNYJ7RTjnMeIBk3EGDFB70frA1WukcJYhyuivrGlMY9icBgwmsjlm/escQ5qZU2ZeVmxGOLxxJOFdz98x7pckLUyno6AJrF1T+NpWchVNEhkqAzDwOVyYc1ZU+2sumE8vXrEeo+xwrokypSukpXmQ2yca7ZYQl2Xxlbb5gahvsQlryxSNoY8l2alVQpLyoynkfHpS17//X/L49e/R2pt0oUDNa+s8zPOxb+kO+p6WIA/o/7TdwB7r3v9ldcdxN7rU9cK/JFfjZ4Ff3xgKYllnnVYKtdmyeOxfmTOGfKCSIHakINodObYDO6N89fEIeOJUYewjLNclvnqo9qm4UvzdKWxovvs+C5pUEbTb8xvrVUBBzpBnkMgLVej9pQSy2I11160rVpzwgrbgMxmam8bU5oV4/fX3KdWbUb1tf4kX76zbQr2rhGs/XclK0MdhqF5jtpt+xurW7Q1X9YFsFinkonpkvA+aBrTsiowxLBOeh4PhwPeGeZ5ZrosxHFozPjA4MPmqTvPM7WBXilo1C/q59otntK8UFa3xffmVe+DZPW1hmGgSCWtyg52GYVzDt90sWvKVArOezx6HZxzxDaNP70kjLPb4NC+bb2x2KI62P25B41o7RG/MQoxjjhjgUopGT9YgvdkAesCuYLJFTdoStowHPB+QIzd2HgL5HYN1mnGB0dwGnIgNav7gncMw0AqheotrmmeowwcHx6Ynt9TELV+s+rc0O/ZUHt8rmWaJkZjGMcRX6+LxOM4KrhdLpAyaUnUkhjDiLHo9VlWqnD1AKbJaVDHD+Mcp3FgLX3hmZFsKfSugFBrwtSB+PCK4xe/JRxfbfINgHB8woZRQftP2djOwv6h/f8/AH80xhTuda97/VXXHcTe65OWMUZE5B237cCfeyQ2RApqMt+HnIzV5KhpyfqB2bSQ3vtmXqSAM7Tp/4oOuuhUvtMEp0G9OUtJyqY5g/MqA5jXxGW6QIXHx8cNADtnt1hX500LNSjqiuAMPlhyScToOQwjToSSVoYQSSRyi/q01m36R2cd1gYFMBsYVUFuB5btnN2Y/cNV8gC3MoNSSpMK+K2NLKJDPbWKAo1aGVBjfmuVs5SmwXXWgLGaSmX0MaZqS7vmqvG0JRG8I+VMBZzVpK/gLTUXzuezMo9UakkYsaRaSOu8WWapXrdC1WAL1TCr1rjkjDe2uQXowgURnDW6z8ZSciKX0rSfFh8s1oGlYsRhvMMa05LHul652YoZHXqqTRXsnKMaQy1VE6vQmN8i6pqwH6jri55iRP1YEbIUTEqU3K6bjQwPBj8c8Fhs8FRjqVj16g0DPgzQtbCg0bLOE5ol2jJdoFqK6PlaLmeqgePDieNT5PB0wESNal1eXqhp5en1G7770z9BVR/bMA5glIl2znM4HAAF7TnrffL21RMuBt6/e9nuuefnd6S0YKxQi2Bq0UWXEeq6UnMhLQvTOm+DfM65FnlbCc5QasJUsFKppZJEFxTGmJZu2zTm45EwHDHmVibj4hEXjz+nhZ25srBdDztxZWXvda97/RXXHcTe63OoFz6i9WecxwXH4XBgFI/NwnrJ1CzM5wuJCtYSg2uDQ35jLI1hs7ASUCsj18zwjWVJiw7JpKzAwjqmWpmmief3LyA6sKR6Tf2QXpblRnvap+ltUEP3UgrOGPww4AxcLhdOpwdijFxe3rfpdXSauwrYa1ws5RpDq2byHkg3etc9qO1MrDF2FwRw1bWu67ppRPs2u7F8f6zd+9M2xrmbzffWsebXZ0JQjamIsKSk9mLLShXBx0BJmfP6gjGG6AOPp4eNqay5bAyjFfAGyppa698omC1ATtR1RUrBDyMUWvxoavsoxBg39rjWirFOdc4+bAEUymwr81tyZVpmqtOFDWOzMDsc9JwYiw2BYheuywhlVNX2qzGypWzbjoNnmRPOWUJQt4J1XZt9WsSPiefzmZOPOB+xzmJMwDtLGA6aKGY9WXRhgb3G7/Y6HUZKypo0l8vVOcN7lbdYQxhHQvSktFDXyNOrN5o2tuoQWGz3g8YNq6yhiCGvK3E8aEjF+YxdPQ8PD9Raef/uHdN05nQ6KLMsiXmemdcXEO04RB+YXl6YlgsxRoZxxES1ftNQjsj5+aX9Pbqtu7H9XRoQUzFiCcNxs/n6lXhZuAWwnYXteth73etefwN1B7H3+hxq5lfkBADGWo6vXpHefY81gfn5wuEQePfDe23150SVqpnz1uCd5RAjDoO3lmotIoXccjxFlA1MeeFlnshFdbO1Vi7Pz7x7fub5/Qs//vieZVl4eHzF08Ojmu2LxeBY09wYLTVxT3kleqtDKUNkWWZyTkQfOI6HNsGv7W9NsjLUXNRTNqUWjDBS1oV51lz70IC2t9ykWwE3Olff8+4bKO2PVWBcN82iiGzg1BptTa+Z9ny/6VS992BF/WRRJjKEiHUBb8EZWFPBGeHl3bsNgK9NHtBfJ3pPXhbVR/b9EUFKUQ2sBXKm1KqBAUbIuVKrJpyJGNJ0aWC0+cmWouCyaSxLqZuO83y5ME0TMUZ8G9Ara2atgvWBMQ6sokBUkrblLy9nSsp4YzSi13sul6ySFW9YkZZkVplWjWdNqSBSmJK0wS6HC5Y1J+ZJ9bHD6JnXhXAyVAuHk8bDWj+2LASDjQHrApIz65rVLWGXWGbRr/OadNHxAD55whBxQ2StBVeE4Tjyww8/cHm58BgHUlr53d//a/7H/+H/xuE0sq4rBcPDwwPRR5akDDi1QC3M84XjwxPzNGPFqtxjTbx59ZpSF42tTVmHteYZh1qGPc8/YAUGZ3HWaBqXZGxQzfNiDHNS2UwMakvn2iJPqIhRhwKMZXz7W6wPHwNgv+fKtv6BKwt718Pe615/Q3UHsff6HCqhLcBfLmMYHk4MDw9cvj9zPD6QLusGjgAcGqnq2lCO9544qLTASiFXg2uJVVINNa0UhMvLmTUnMI4s8MPzM999/yPv37/nPClQXZbEEhKmGeuXUm60sc4YarMZMiIaByotZrV9MFtjN/mAEWDXNt3rUPu+d3N/qiir237WW9kdvHa9qzGygdw9a7sf7Oom86WUjZ01xrVo3HIDjK8Mr27PtdhZGiO5rpkihsEHSrWbBlfTrVRjiwjrouEEIoIYBe65rBhR8EwueAfW6HYlJWUsq6iWtWljb1noSqKdX7GaCDVEhhgJLWo3Z43BlXS18AIIViUGMUSCc6qxTgogTUnUlHHGYpzZzqlqmVfSWrZwhr7NUhJYeHnRpFNnPaWISikOHpzFx8hwGPGxMbLeIS5QnaGK2rpl0ddJ6KJoCOqmkFLCWnDeE6oy6JV2rQ28vLzo4qx5xWLVJs34gG8hEaVWpCo7bUSvAVbZUtecIkrSQI4hRBB49eoVY/T8+OMZKTp4V1MmzRNTuy9rXjmOB2pWdl+FARVrGxubsl7vnlyGqFxA1I2j2gI1g/cc3n6Dsb8KYP+ALnw7+9oB7DN3Pey97vU3VXcQe6/PoTLwER86prkIVKxpAy0vagWUc8a3D+5iBEzFW/BO2517381a1auz5kJFSEUoKWlkK5klF97/8J73Pz6TUmYII9Z43r9/j7WWh4cHpCpb6fzV7soYtejatJLeY4ylFmWvjBH1+rR9Wr4dlVFdr7U6AZ9zszqKA6wLac3qiYrs5BHmRi5wjZe9MrWl+dP219DHla0Vr21lNmCxLkqGO+dwRp0HJCtj6bzdXsNUyHWB7BRgW8e0Lpimu3XogH81guREroWSryBU3Q9Aii4+1qxg1lWnFk3rjOSCDR5ThWWaNieDK4t8jQAuNWOMoxbB1rYPxt7E78YYsc4Btvn/KtOog25Vh45SpkwLNc3kaaHkFSuontNbHV7KlVQ0YewqJak4Z8gN2Ov+OaZpwWbP09sDWINxV59esUUzEyrUnBjiARc8Bx8IIVGLLlpEhHmZScuMM4Bpg4dGWLM6Z5jo8WFQV4YqOKORxsuaWUqhNBAcq4bc6nlUFw4RwVtLWhYGeyCvidPpRC2Jl5cXTsdH5stETRlbhZzV+WMcBpYqpKzXZhgGlmVq3rOQc9k0vuu6Is5TsyEjGF9wVt0/QKONRQQzDDgf+ZXcE4D/iC58/4R6cpxRAPtn4P8NfPup39Duda97/cvUHcTe63OoM8qkFNTb8WfLWANhYJpnTnFkmSs5V8aouewiFWMqzmiru7fVa82bBVIp+rWxQq1oLGxO5LUwnSemlLnMM99/947n57Mmep0OSIX3714IfuDh4QGwzZLKXR0NjKFWQ0nKAA7dgqrHa7or8PTeNzumK6PnnKO0AZth0LarafIGSkHacQCbTVEHzL1E6vZ9H/DaBx1cAfdObwubXrUPzHnnb5hb1cTesrmQKblinVBSxQXBN4BYRcEJpg2JVR1sK0Xw3jKEgLGWlPR1HYa11g1kA0RjthQxYxVsWeM3bWVnfXtE7zgM2BD0XsDggjLUOVUOg8bTirE6/BfUSUJESCnjrO6TgtTWZndOE69EyG1xoQDQNJ2sgtaCsJaMK3lbjJzPE+eXiVev3vD4+MTx8VGBtNU4XJGinQCp4LzqZyVgjNvOdS1VnR2mC6YB/lRWYow8PBwVLFtN2nI2MM8zVMFahzMghxNSM8eHB3787qzbDf2+s20BIGoXFqKC2SIs08z5fCalxNPDK0SUEZdakVqJzuMf1H95Mk2eEh1L6ouq7mqhLHHX4KolnW7H2cbamkpFWfki5uecB36uFlQy0MErKIC9s7D3utffWN1B7L0+h1pQr9huUP4XyhDffIV1HirNzigyX5Y22NMAmhV8sHhrsFRq01uWqqxilawm+o05rblAqazLwsv5wst55vz+zHSZkNHgXcKNkXVNzPNCyYKzV9slcPhmhdVZrpIKxdXNKqmnS1XT0ruah633twwjUm4YxGquvp7VqlWUHqMyrNYa6INYrvvDXt0JnHPY0E35m8zBWtRp6yoXkCJQ1d2AKlRyA7y6r7U0iQFpG/zqgNYPkSEM4AxGCmldyUkTr2Kz0qpUtc4SvR5r0e3XlKGZ5M/zvEkceqqWOMENGhHrvSdEh7WGtCbWdSULbQEQNBwBS04ZMZboAtZYkhQStV0HZUT7cZeUWVeVOtCCAQhB98s4He6qhnmeuCwz87oiVZlznaw3iEDOQhUhBMM0a2rYOB758jdfczg98nA6tUSwircB6xxrc0hwzmvyHJBzVRYaQ/AOfzwwOIektYVmXKWeIkKedd9TKqRlZRxH4uAJwWMOFWvhi6++5v0Pf6ZKRsRv7KjeARYbLWVNGnwwKBsrpXI6HJGSWS4T0jTOlEoVNDa4qp7VeR1KS7VA6Wl1IKLyGW+8hoGIU49nY6guU4JGERfJpLy2fRI+gokV1JYPFLyCAtj/ozHmT5/6zexe97rXv1zdQey9Podagf8vqnMbf+mB4c03uHHk8u6lmeSf+O7P3wNokpPRL4J1arPUGUi6nrJrUaEJG1uGvChzWHr2OwQb8MYDVge5jGonz+cLp+MBJUjT1dLLWoJcmcuSs5rmN21oZ4RrrQpi23OMMdSUmw1V2JhaaI4HIohpiUv+liF1TqNEl2XZxeGyuRAAN2wqN2zs1S6KetXjKqutz/Ve3QswZgPXGwO60++Ki9jatMZZLZgKzcpL8o4dFlJKzA0UBXs7ha+P0X1ZclImtGi86j6lTAe/KtZ5vI8tTUztosIQqZXWtjdY78htceG9Lm6ktbpTk1+kdcWQ1ZatsaV5LeScmlZagSuSKaVuUgwxdZODmKbnLUUYxyN///t/4O/+7vfYHjNcCkU0itYSkJwoRY83GYtUQ856LwbnENStoS8EgtPBPZqHcUqJ88tETom6qIzhFAZcUZ1pbhZo4/HAeDiQ1hlLY5fXdt+6QMgF6zzrmiCOlDXhjeXhcCSvicv5jClV7eOMI5fEnNK24NAwi+kq1Wlyle4bW6Tqn5AIQn8MBABndYED2PBRUgJQR4I9eIU7gL3Xvf4m6w5i7/U51Ar8P1BJwetfeuD49rcUc41JLVk/vHPWSE6spbqeaqTAVkSTivRDtmlDS6FI3YZ/5lmZqJorNVXV9AHWaOvaGLPFcb579w7vLLUWLEL0YZe2pNvvQE9ZQks118x3jRK9AtEPrbK6VKADP+ccUstPOq37x/bWeCl1A3qdKe4DaF1GsKV2WW2J56yJYrVWnAsKVksbDhOjTg9t+3sJAtBzsMhpuR0EE/X+rHVlyTqFD7XpH0vTdurQFA0IDmMgi57rXDO1yAaynVMttOTU9ttivNPY2TBszC0tMncbnrMBZwPFghjBNbmDGFRGktIW+4uoBMU254bSY3i9w+EJAiFXKollTlewb+rmQywiPDw88K/+7u/5V7//PcfjI6kKwXllIEHPrdMFiI5iaZKYQRiHgDctqSwXcilY4GWaqKLnQZqnrnOO0/FIXRJZEkMYGa0nzSuSYc0La11xTm3p3l9eCE5TsFR20IYRa+X160emecZIZV5ndYRY9bkPhyPnl/f6nNZBSDXrUGDQ+2xNRZlrMZQ29LauKyVVxFT8IWBtW1Tlq5+xQSUFek99FIAFZWI38Ao8G2Mun/g97F73utcnqDuIvdcnL2NMEZH/D8qu/A6wf+FxhNMrZHjCxxeCgefnHzgcAylr5rw4oSAYo0M8Cp4MprQYVuMQyUhWeUFJClo16jTgbEbkosCuXlvyAME5pnni/PzC48MJb11LWxqwTj/Q+zBLSgqKjaBaw7y0Nr5rgEnBnMj1T3DPZHVAaK0leAWxpSRKzgioN2rbVq11swbTUjCq21eNIlwHuPbOBjS2tDO53qimU8wVjJdUGpBWH97OLGt4xBV83wQAGH/V4hpaNO/Vn/ZwOCigz2VjNRWQ6xBeymp3BQptxnFEsgLyIgXPlZFUJnXGOocVIaXS2vSO6B0+OBYp6FVWSUPJhTRPpHXFSlU2Myeqs23hU3S6v12DkjQ217mANQKkzc0BhBhGSlkx1vLll1/xb//tf8Pp8ZF1rRwPkUpjf7PqXH0F7yNODKYUjMntWNXRIs0L0+VCThoWkKZFhxWHSG0A3DlL9FEXUkPEUpkvL7x7eYePnmIryRSkqr1Vrno8wzBAFWIIWFF173d//id8DIzjkeOgdm/TyzO+Laa8ddvCbu+VnKsOgK3r+oGbxZXpdq6lo4lauqmbiNH0NAJiYM4X8vrrBiWtPPB/AJY7eL3Xvf626w5i7/W51LfAPwL/Lb8gKbDeM/7mX/P+H/+It8LxFDm/uzAEBau15cr7eMLHI8Z61rKC1QQhjCPYgSQrtoDJmbwK65zVPikVlqR2RH6I2GBZlonXD1/w/PwOKRWL4fnde16/fs3hcOTx1RM+Nja2qv5W06eqsm5F5QPGiupxMZuG1oraSsUxAnVrrfd2fWigGGtAHBi1RKKCWLDYDRzTYlFFCqWCMcoklpLwjo0VttZSsw4OCcr0DY1prbmQdtG2tSpDO71o6halkmtRuyyroGWeZ7yLm3OBxWrb3vkrqPED0zRtet7pok4IwzBgfVSQlbM6ARjD0JjNPu1vsjoc1FIpUqmSECw1aPACqDOFc0ETo4zBlEpJBiRTDeRKs7fyOArzOlEvF8ColZUzpLQyp2ULrgC0zb9o6lWuwjzPnM+KnYyoU4D63sLpeOKbb74hjiPZCOPTA/O6qFMDOpwopbJeziQz7+JrzQYwvffqNFAWfK6sU9JoZOOb3GWhTBPneb71/LWWcRx5++aBLJVvv/uO8/xCCA5vAzplZ8i58PrpCamVvKw457FBJRfzfGEYBoboVfZxOVOK+hhbb5sKp2wWcLZaDkPdmF0N5hCWpNZ3uiDSi1NLaY4dhlQTdS14o0yt6tU/2tp1AGZjzEej3nvd615/nXUHsff6XOoM/I/A/5Zf0sUay+Hv/oHv//v/nlRmLOC9JnR1P1NpDCDmqgstTbvpoiPXRQdh5pUigkNZXOcCxmWsb+151L3AWkuaJ8qaNM9+Xant9R4eHhiPp425KwguBgWbWWNQrWvjKrskrc5SguoDO9v7YcvedonBbt7NNgnCHrzUfAUW4Hf+tSqtcP21yrV1qx6n3XkAdHhcton8LT0McEZfo7O9OpSlx6yT/Gw/BzZG2bb9cB9ocLvUov8PbOb3+3hc0zx/q04KKRvfhqqAxkbLVV+8s94SqdS0UmvGRQ2XCAbIK8s8s14urMuEN/rzWquysblQa6J0Rr3dA5fLTM61BVIcmwtC5XgcWeeJ4Xjg97//Pd57pmXmGB94uTxjfSSXhK1NlmLBYdsAoDo89Mjbuk7KSFdLWiaml0m1pY+PykInDa1IKW1uEjJEUprBWUqemecXSik8vzzr8Ft0HI8PPJye8P6qp3VWbca896SqjG2RgnOWcRgI3pGBaV2pUqginfy+sXcD9bTd2NfWhVD7NWX3S87YaoGrlnq75qZirCGfn/nIwa4vgQc+xlv6Xve611913UHsvT6XSigTu/7aAw9ffkU2gqwrA2obFGtsgyTqxeqcw1hpvpUG21vDdDCl7flcr8NMtV5N/kMIpPZ9b506b4jusLFf1loeHx8ZhkHTv2qhUghWh4fqmkl178WqxvjWXFO14Ar8PvR8NUZb5tY5nNibkIP++H1M7BXE3iZ5WevxzpHz2pjapmXdZA2yuQ1I0wwbZ7f9VjcFq5rhItvQWPfbtdZuQzyUqxeviOhAW5MQ7Mvs5Aqm+ZiqhvUqOehAuIksVc7wQayucAXGIQRlF3dJZcYUSrEMPmCDaoDneeZyPrMsk27TWabprMb73XkB2c7RPlBif55FhMwK1jCejvzud7/jt998BQYu5xcA5lxwofnRigq0rbVEo+ej5My6rFvq27rMzCnhRa+XFOE4RNI8cblcWJeMsdeFAs4huS2KDJR5ZS4XsmSkFk1Ws2bTRZdSSFWYgOC9hlSU62LEGWVML5fLdl/06yOmIvV63+611/vr2RPfSik4q38n8zw3qY3en7W5StQKFdXalssLUgXzC/4krd4Ax0/6bnWve93rs6g7iL3X51IV+A6dPP7F8ocTxJE1/4jzgvdOPxxrQUq54XG0hW7U2D2LRo02EFpDIDerplIKdfNYbRrTkjFGCMERB08uOkA0jgPjOPL09MDxeCQEp035AmK87oPRWNBSU7OuumVZ9ywnH+yv2YFc7xWQU8sNePhLz+tgsYMPAOcihnrDnvX4VnaJXr1ErudpA9vNz7YPw221GfirDMDU2+3V9nopJSpXsNOPv4PdLQiBWzeFWit2B7o339jtWMzNY4WyDVz1Ya9aVtbFEiSSXCYtK2meMEBwnugDL8+Xm2tEA9OaL2CQKpzGAyKG6TKDpfn0GtZ15TdfvuU3v3nLsiy68AnK/B5PD0zLio/KlpYG9muIDH7A1Iqnsl5eiHGkrivz84vuY0oMPnL44gusCK5WPM0v12pym3OOIaqcwgbPuq7Mc0YoeO+aY4PZAjRKyrgYsPaKFLdzH/x2rVQKYAnWcxgiS16oGJy5Xrf+mP31S0nDLfS+a84T7TE56QBhH4Dsz61qGsJ8PlNLbqEUv1gnFMj+T///v+3c6173+q+57iD2Xp9LCQpgfxXE2hAwhwOLFLwARrDeY3OBFt9pO7tpBYtVxmcXBNDZNNOsnnQwquCMGsHjTdN8OkIbmooxEH3g6998hQuepzdPHA6HDfC64LHNFN8awzAEpA4sy4Ljyo5iDFid1De+aVQb6Oyg0XzI1rZ0J4PdJAbKMDcGrDso9MExDNBZQ8cyX7ZMtD0DKxtj2trwPfa1VnJOm9tCNq39X8vGuobQJv97AMBOMrABm50bg7KR2uaHK2vXmVcDClirtDQpsEZBmJEr6O7ncc/u7r1ljXdIs+6qtWqy1ToDVT1ga8Y6PZcqVbiC8m2hkYVS1aUi5cSyJAW91vFSVCbiQ8A4iw+Bb373O44PJy4vZ6ZlJoYWYGE9eV2RZSaltA1A1RApcURK3X7++PhK74mSqevC9PLChMXWyhAi6zTpcFXwWKtBFxI8wV2dJmpayWmhSMWWJsuw4EYNd5jOZwbnwXqVlhh3vcdyYa1lY5tDUKeErkveJ8DtI4B1seOVfW3XNgQd2OrX2TmnbhC1YmvRoTZnEDFIs3ebzi9Iyajk9Rcrcmdi73Wve3EHsff6fEojoD4iftZYix9GkhEKYBo7ZaLHGvV97TrPK1PUpr93+sv9VLyU3FqgqT0OxtYGdl7brA9PTwwh8uaLV8qyHUf17aRSa24tePVK9QZ8DMQmAegm8HDVi974nqa0AYQ9eN0e94FWdt/C7cewr32b1xmHqYa6lyn0bff0rXIbaXtzvncT53vLrr4fCnq7R625Oba+pWEct3jgft47m3dzPO187CUTprW4P0wQU3urq+65g/iettVlD65F4FojGHTa34lDUNeB3I5nb4EGugwQaeEPuZCKgloNtVCXgWEMfPnlW77++mtKTRwOA5fLC+flBRHh/Y/vCSFQa7lxZ5BUWOeFkpKmdbnIJG3/ayFYx+A1fWyeziyXaQuDuC5UwIe4xSdjVfJxaXZnTUOD8ZYxajTsPM9qyTWuBOdwTTrT/YyDu3oraxpau1eoN64We11rl1vsk+esd5tMZ0kJ668dAnXMyC16VuOUS1bwvk4vhMPp194CBuCbf963o3vd617/NdQdxN7rcykDHNARIbXP/AtVS6Y6Q/aOlUoVwQeHcxbjDMu8bvZI+oQG1KQiVHJeNzDVP4g7G7ZpTo0jDmrkXhq4+eLNK07jYWP8uvl/H06SBrT2WkFogLIqmygomKy5qDerM9dW+c/IDTpo88beAlj9gi4C6BrSK3C1YK6AVYFUbZpci7MqEUhJNh3pBgC5jazVbWuruAPYvUa01kotTVO5A7HWWnzbptSqk+loDK1qhNnkDJ2Jdta1uNIrqMTKzQBYPwd6HgqIkJJex65VJWcofttXMRVTCzU1NjcXahZyyUjR3/X8C9NDGxpTvcXslhaMwfXeGo+qhU0psawTFoFayUtmFkgpM+3YdeNskyHoNkrKlDWzSGKZZqKLLRijbvpZHehaqK1VX6u93h8i1FpYkt7zJVdKkzpU1FYujBGzWF6/fo1zjrQkSvCEBoattax5uXodY1hXXeR5o8NfyPV+dy2OV/+udFFZ2t9BKeq0oJOCkNu9FZzdrO9UWqDpb8Hq3ywCMQzk6fyx7xdvPuWb1b3uda/Po+4g9l6fS1ngC5Rl+cXx5LTMFIRsDAmhGmF0HpXfWdZc1G+pt8Kl4JxhLUJuU909834/FNU/0L2BQiU4T3Cesk6UVBlD5HQ6sS6zDqvUlgRWBe8ta+5Mm9mGnUop2Jbo2gHnfhgrZ3ONnG21175KcwyouySw7tO69539MK2rD7ABW2u4FGUTrbVYlDErDTB1UPohmL6mcrmNve5gR0RIbSEg1bSfcQPe+z7O83yNuP0gMayzk/trAPyEdd2D7H6c/Xx662/syTpjPAwDQ3DMKasms9QGYJufLe6GVa5VAXNqspB1XVmXTCq7JLZSwCiz+erVK778+ivm5zPWWqbn9yDK8L47T/gYeH5/Zng4btdfgbW6AlhU2lFTVtu1wYL3lKQeq6AWacs8b4zrfpFUy6KDUcGTa6FkHVQzzpIa8B/kwFIzb9++xXvPMq83LhIpJYzR2F8R0WHCdj69adek/f9z94aIsK6LOia0joML18UQ1mgkbb+nq6GUCiQNrHBhC+14+e4PvPpX/+Zj3i9+/6nfsO51r3t9+rqD2Ht9LmVQduVXBXF51gz7cDxRlhdKTYhXzZ9DqGJYltKAon5QBx/xvpKX69CTtrd1wh70AzavOlDz+vUXxFEdDx6OJ7UicoZalLFd15XH149QKmFUbWQqZfNVDcEyDIGaVl4uZwWVTRZgRKexjbSoWyrV1hsgu8XlNvDm0JZ6aYDzcDjctOM3wEpnfK9DWV3j2rd7c9J3+ltNPsvb913LqC3slmIlHbSsen4bqIpBXdG8uU7ud9Dbj2Oa1BGp/3w/5X84HFqruWx6y+4wsGd9AWKMLXo2X4fPqNSSqHKVPhijQ1fzktXOqiZKlo1NBfU8Vb3zyLom8pK34yql6OPbsczLihhHCAPvX56Jw8Df//3fc7lc8NayrBnEkrMCummaKM8XVhGW54nczpWLAbMq832IA+RCWVLz6jWEUKEI07owL2pvNcZASqqnjTFqMhZgg8UYyCIkqaSqll0FYW3pZqOtvD0d+OGHH/De826eGbwjOLe5QjhvNjY/p0yxolG3Pmzn3jkFn7Wq1/HmHoEmsu07CDl1aUEgBFhLxvmog4FF7b0UJHuVKruIFJi+/9NPpDJ/of61iERjzK+6mdzrXvf66607iL3X51IWlRJYfoWJFRGqtZgYMQxUCtlYqnN4GhNphSL6T4AlrddhFGcxTqBorGdn7jojerCWMQ54p+bywVueHk8KpvTpWKPep85ZTTMS9YMNXifEc14xXNvZyzSrBvEDxnGzqmrgcZ96BC2lzLqbwa+9VGFrl7d979Pje3BbStl8WqEPSF11qD9nf/XhYNk0TVfP3V1b2e7YOdDhuQ5wu09sZ7r3UgW41f52aUe3RNuDmP0wnohaZPXv+8/6tm/2pbGEVQoilVwyebnqOtVSym2AfW+dltuAUsmi1lDGMWcNxOhSlcfHx7ZwaudKus63sq6JddH2+iKC9QNLyUyLJpcNh5FXj09QKtPLhYP1QMVQKFXdBKbpwpIV2M/zTM4r3kfG3bXpQ3JFKpdp5mW6IAZcH3IzYJMGNYwxcDgcGIZB93NNrE03Ph4iNviNtZfmXqASm9TA8vVekSw3zPowHLb9ENGhuFIKublZlKoLsJIbE2+v+mXZscvTt3/42PeLf0CHu+4g9l73+huuO4i91+dSho9gYQFKyRQc1TncELFSSAIVi3UGP4zYfP1sU8ZVQaDxDuscYgUxt619ESFGz2gtY/RgDSZ4HsYjX7x6jXUWZwRnFLBsjGoVak2YzTaokPLVvsp7z6UUYgsn2LfUgRbr2dO71M6pNtcEY4Rq7A27uLc0gsau1isw6CBz3/72PmCNw9q6DXTRJAXee6QPbtFbwPaqd22Mb5cR7B0FnLMbe6u64OsAkF7Vq8wBbgHyhwNsHcTup+D3x9GZwnXVa9sZ2ZsAhj07WPcyAdXAdpmBM061mJ4bltcG3xLChLQWrNXRwYAjxsg0r02HqkEXwTlAmWm1pqptWEwoAqlUllx5v7zjD99+x/c//kBBePPmDX/3ze/4zRdvGMYjl2miFKEWcE4XVtOykoqek1oSOSd8EdLeYqwvIqxhzYW1SktU00VMGAbcGHl5eSE4yxdPj4zDQF2X7dz0e6hbmNVaqVI3jbNqrM3NQiHbDOY65NWvrTXXBUEpRSUOTcai2ulycx+o/L1vw3L59k+I1BYb/Yv1r4FH4Md/0Xepe93rXp9V3UHsvT6XOqD+j798T4qwLjNLThQMLgRMKeRUKRiMD8TBkHJjGp1FHYV8AyrKutYsG5Dy3uOLGv0PzqltUouF9XHgzesnjodBh31KxUhFSt6M+Jc6kaSqxZaodVYphWIMXq7+rR8GHOi/D8INuIIxZRgV3V+ZN7k5HVfwcduC/VAnC2w2VsrSmq1dD2xWWLenWm78QLvbwN5FoXJ1L+jDWhsLu2NKO7Ddg9f9pPuH1k0fOiX05+/P1R60fvi7G0/cD8z5QaNx9+enlHojv0jpGiyRa2FKqkethma9lRmGQQG8wMvzM2leyKuGZhjjEOMoUlhK5d1l5t/94Q/8+dvvsN7ypx/f8cfvv+Mfvvk7/s3vf6/3H+ry4KtQa6YIOlSIoWDIQM6FpVwQMZrE5gK1HXNpzhjasldPX2mLDF1EOb54erUlpUnUAcHOlvs2eNYdGcRoRLDKOeTmnti8ZZvmubPv2KuDxdr+RrZ/6MLRcrtwwRgM+rc0vzwjpYD9VRD7Cnj6JO9U97rXvT6buoPYe30uNbZ/vywlQIezFI4agtEhllogS0WwWB9wtpCLRodiHDgwxuKLRWLEFgVRfijEWsA4XC1Y61rwZcVZy/Ew8OrhEWsdWbQlmle1RTqkRXWYCEU0PvPWiB+g4lwbejKGIrIBP7gyYSVlim22UF1KAPjGlJqW69pZT2fD5vdqcRR0sl6BnPrbdgDpnGytfdMGwSpt2r+FE2BuLbw294OdW0L3Ae3fd+1orZWS1frJyi0Q/dAW7ENWtteVQZUb1nnP1HYNbB8C2rezr3KEq1fuzQBZVdY8uABuF8aA/i4XIVhLaUxvSoVSFbjmWpjXRa9dA3DGGMZhYJlmSspML2fymiilsqZCKiplSdUwZ+Hb9y98/3xhAaL3vKTE5c/fsi56TP/w1TeaRuYbi05jkw3aii9CqX2/NarYeIM3soHq7uEr1jQNtyfnyst54vEwsizLxmL34+iDfUuaOR6PxMO4OVmICGtpPsqW2+d15tqpZCFNaVs07hcVwFVz3jolRlB5R9aBMmv9dq3yMrOc33N8/eWvvV88AP8W+L9/mrere93rXp9D3UHsvT6XinwEiEWkpf54sjVULEYMGEepQqpCwCojlCpSwGfZLH+ss4TB43CbflFEsK5g1xV27XLfYjkVBBW1TsqZmjIlr0zTxDRN+HEg5xXbgGb3KVWHAJUTDMNw47PpdnpYuLJTe8AHqExAdL8/BIN7lnL//z4wwRhDdJ6cls2DtYNQEUEaaNwD1j1z2fez787PsbU3iVvCz+7nh6DyQ7nAuq6N1TM3rPNVDuF/AmL3x7lnBruutZ8PuOpqjfmpTKFXvz6qA72dwh/HkXld8TGQZ3U9iDEyXxYuL+9xxmowwlqY18Q8r8xr4jytPM8zf/z+e17WBTGWFWXFnfG8zAv/+Y9/4vXxgdfjgWBGJK9UyRRRAL1k9S4WNDyhUpTtFUjNKq67AmSpmGpIJWtCHVBrZnCWxVouF80SiWHcpALdSmw/cFfqVWurUbX5J+4E+4XYjf0Zu06AAbIOnwEY1H5Lyu2iqQNfJ/DDf/h/cXj19teGuwLwvxaR/70xpnKve93rb7LuIPZen7xExKIgdviVx22gxjgH1lGMpjvhDLlUUs54F3ba0Yopho5dLNrOtt4QhsjYTP6ta6b7DQQ5YBxHgnfkZaEaZcVqSTivH9CX5xd+/P4Hnt68poh6ePaWvZFKadZUQ4z4x8D5fGZZVIuIuWpblT30m/+retrefrjTWN7OcG0DNg0UhxBu4mA38NfcAmouWGORXZZE11T2hK8Ph7l6698aQ+pMa73GunYNZDfg32sjt1Z/N8KXK8NqnduAjg75KGgyVll1swHsK0BSvXK8kQDswW53MOiDSVYNaRsDDbZpLK+t7VtQ7dqkfk8j2wc7tBfDOPVMned5Szhb15VlWRhCbNrPzFoUVK5rZppXzpdZAxWsRwzMy4qLnsPjA1KE8zLzpz//E+6Lt0Sj5ziXFaxtgLVirGq0BduGpNp9L0Iqaqusx1K2/Sgd8BvPPM9YEd6/f49HiN4D1/vI+wjNzaFfk73tWtoFVHRZSAhhW4xsPsWGmwWU0rB1u5bt1tf7Sv+EN+VASgmK492//3/yu//F/+Zj3jr+O3S46+Vf/l3rXve61+dQdxB7r8+hDFcW9hfvSam1gZPuNADiPAW05SqyfZBapzGqxmjiln6IKjslVm0GfHRgR4y9TvMbYwjeM44RsDpUUzVCFRGidwzW8sPLe959/wNhiIizmFIwUQFyrdr6t9FinePh4UAuq3pxUqjVk/O6AdIeNtBBrLVWmVOvGl0Fnz/V1G4n0BhcY3Nda5GXUhDn8SFc2+9Sb55jNkZUh3r2wHBjTI3BlIqPAVOu/rfOOTAtVrTFz/5solOTIvTf9f2/YXx37KqIao9VHKLRuuu6cjweCSFstlB9+33orIMrPY+3so7uk7v9kw8SvoQtACOEgGngPCWN3p2mFx2ycqqtNjhyqkgF7yJrKuRm9G9Uu9LkBKW5VWganPFuc5w4xIHBOJ7GkW+//ZaHOPAwjtgqpLQqSPRmY0ZFLNUUHR6rBSd6XXEKtJd15XKZKKJ63dAs20rKZCBZy8vzhUPw2KApdmMcdBiy2aeVTT5gN+eAfq26pKNbr20g1lpsUT3utvhSsa0OQG6SEEAK3jrEmbb4bLr0EFhTwq6F6c9/0u38us3W/4w7iL3Xvf6m6w5i7/U51B68/mJrUNnKzOCAaEklUU3FYKliCCkTMThTsZLJJWOrgaYJpWlFs1GG1kog+IozFtsAR/SBcRxw3rCkomCzFLxX66WUEh7hEDx5npifz7gxEg4jZSmEMCJBeJlfsNEjHsRUfHQIhXWZ8eNJ2dM1QRWc9xvDeTgcFMgZCHFkWVcMrQVtDbXqtLo1nmDdlibV7bXmy4RzjjEOlDVhnGy60W3y3wnzNEGpjKPqJZXx6216BZ86ca9a2NoAjg0e41XjK4VNr+ucanPXlBQgegdtGyrJqDjv8U33W3dMaP9ZXpVV9U7N+6VUalVHCKqQ16TsM+jXbREgpRJ903KWxvzpeofLNOGcMqeb7VbOpBb1ezweqRVicBs4r2gr3MfAkhPeOrwPzGtWdwpjSElZ9FwtKRdSLqxL5jJPnJdlu3dKTWAqwTuWnBmd4WkcGY3h8RA5DQHME9Ny4Yfnd7x+fCAcR2wDgN5U1qRShtpsvIxz+BgaCNSggj//8CO1Vg4xkFcN/DC1UKmY5Bico6REMWBDYDwcdKElhpQ0lMDaa0iC956yLJh6ZcO7XMPZQC2wUHCOG21yanG11niKpJ3vb97kOc55jLPkIuAE5pXT6QAJLt9/rw4Ffzm0r9drVBv7T5/6Dexe97rXp6k7iL3X51AWlRIcuAZb/WxJLZR5QQmgztrBeZk5GQ8mYINn8JacLGnRQSzvGuvoaD6fFjsos2VSwUZLTRmDsnYxRsQKtlxtsqyFiFWzd6ts4ZJnvvv2W55evaEWICgItIPjdHwkRMeSVmgf8NCn6AvGXJnVnxxn+3FByAJR++M3bgbKEjY5gYtIj3112gamVHJjLeHKiK3rerVHQtu4vrk3pFpZc2q0WQPOwSPzsq0u9oNTPUJ22+/9cFhncq3FG5UlfKhf7cxvB7reOqhCoWyRrwp0b7d/jcOtN5KDPngEbBpa/f76WlvaWAPo6jtrN1a2lEJt3q9ZumWYIFKZzxd9XTFtIl/1vNTabLUqgkFE3QLE6KpMSmVwXhc/w8hjjBxj4OAj0YctRa2gU/2+2bdZUZ1rroW8VipWFzdO920+z7xczvzxj38gLcpWO+e2aF2oHMaoCVzWb9duWRI1Z6J3jIeBeUna2g9XCUFPLMs5E6Lb2O79dShNXlIaw1+b3ZfFqoTEsDG0rl2zrpuu/T5v12VdM94Z1vNMWVfs4Vc/nk7A18C/+4TvXfe6170+Yd1B7L0+h7JoW/DYvv6LVUsmLTM1N6BUZYvOlKDtbWstgw/kNDAtM2vOgMeKYNXgFecjIXicy1RbyJIxoSiE9gF8wDgwjc1yLa2rFPWAXWb9ek2Fl8vEdFl49eUXHB8fySERHcTgCQ0cTtO0BRoANwEAe/sp6H6bt4NeXbvYLa7209/7NvzmNtBeo7SUrxgj3l+jY50RgnNUf5u81IFhvQGj3RLrGnKw91bt+7kFCOz0sdt1q1ddZMm6WNifi34+qrUarSr8RC6xf63+Ovtzud/ejZzhg8CF/XnXIS4NQ+jnUSf9b2NZnQ0cT0fSWhFr+PHdmZeXF3WtyJlau1Shqia2SRP2Q4KPccBaGELgMESO40AMsYVGKNCdc8EuK945gnU6MFYLNqrFW0qZaZ65fPcd5+nCy+WyhT94awlJE+WMdxRjsFIBjUsOLQBB7d901tHb2/hfXRC57RrWUrZAC7VQawuHJjOoTXfcrblEUel2nfZDfptzRBV1EhEBc5V16H0ZWS8Tl3ff8+pw/LX3jUfUoeD//M/79nSve93rc607iL3X51AWnTY+8CtygloryzJvtkK1XmNka5vmzqUiY1ANp7PUlFib5hRR7agNjjAMxDCSfWJh2SyjcA68x0ePhIAZApJWJBuMLXiBmIuC3cvM9O4d6/JO969IG1x54DQEvA1IqeR8DQjYG/T3r7smFhoo8+7KIpYKoUspbk3nuzaxf58aKPvJcJZVZmwDjDsXgL0GdnMu+MD+6sZJYefp2l9rz6zun9OBnKm3wHNvhbUHmD/n6arfc8O67l+jb6f/rJ+Lrt3s8cIKqMzWKo8xXq2d8nVRoAuV5lRQdP+DHxiGgXFMzEltqqZp4nA4No1wA621H7PadqWi1/bgI/agrKsxQvCe6DzeXUMGpLGWa8mkWkjGYq0ugqrNzOvC+Xzh+Xzm5XJmmibWkrFCSw+LWO9YUwIq0XnCEHh6euLx8QRZk7uqNcRhwPUByAohBqrcDgb2c+m9J5W1XTtzc727Dtt3zXG9BmSUPgSGIe/Z8sZQ69W4gt3+erUUph+/49Vv/+7X3jcc8KsPute97vXXW3cQe6/Poa70DaRffGRndmCLs+wfgjlnLlI4estD9VgXMC6wTgvGqDTAOYNxfgsy8DYwlApyVvulxkQWY7HOYr3TAZkhYlHwY6nM88w6L3z//ffUCuuSuDyfSaVQpRBjxD0pk7RZX3EFbluYgbNQDSWVjR3MOeNtCwPYpR91A3rb0r1upAVl2VrkHbzBdVCrbzfNC5IL1djNTmkPJkvK1Kz7262qKsK6pm17HXjvfVk7EP3QbmnzVa23rHEf5rGtbb0H1PpC6nywWToZ2WykNKHsCqCHYdh0nP0xoBG4ptmtfQh8++v1CXyRFj9cr560OSuY7I+5XC4bcA8h8PLygnN+O8acs4YM7IBcrRVqJQZHcA7ffFQlF5IIyJWB13E0S6o6dAVgTGP8a+HH5/e8e/esCx7vCYcjrnYLrEJoYQy0a3A4HHjz+omvfvs1ZVkouV1bdz3XnWm23qqCxPWoXrldXIltCWi39loeA47t+EupGzur96/c3Atd4oE1uOaQsP/55vn7i6Ki23eET/Wmda973evT1x3E3utzKGn/VDSq/35eVtAsmtT/UjY7qlwLU844E5hz4bImor1GlRrTLYAKoUVcUgXj9MP01ZvXlIfMuqg9UjU0ZwB92RBCG+7x6o6wJNb5wjAc8D7yw/c/8sO7H9W7c81M5wvz45GhyRsEs+kGrbWU3MGmbt+3SNq9fdTGPDab2/2n9Z41XNeV2gDdhzIFui0XbPrGznJ2cNxB6F5SYJt+UgGGDkB5e42LvcoHrtvq+9OtvvoQkDGGmq4WTb1qt9VqYGqzDWv7/HNa2w99Xfu5+7mAhH4stVaM76+Tt33/8LFrTiB2C3TorzWOo7oRlMLxNBLKQKln/vSnP1FK5enpaQO3/Z7ct+edc5y80/sJy1qaWwHCNF+tzfYT/7ncSiEuaWGatQOBU2CuPmLq/baFURTP6XTkq7df8pu3bziOB4ZhYE4JF6MOq2F25/gKZI0xGDGb1dseiHfN9F6icV1gwDRPTYZiEHubyFWlRRrXayRx7zSAbBrkPUv/X/jeca973etvtO4g9l6fQwmwABeugPZny1qLDRHN7rrGjiobmanek6mclxk7DMTxQAhXBq0zmzVllstEdso0PT09cTwe8D5QpA3omBbHagCrINOUTEkrDAMueEqWTaaANbgYoGlP13XFOLXz6nZNNWVMlR2AvLbEu6E/oNP49pZN/dD+Ss+cSgj640pNOB+V4dxZUPUT2llX564sZymFtKwfSBCu+lJNefpplKtKFK7s5oc+tmpV1SyiGig3u1CHnDOleZD2GNfBXf1cPwxK6GB13+bu4QT99x04933fLL0MGLsDaeYWaOUGsOwOnBnvCDjGcdSI2SKcTg8sqTAvytC+f//+Bgxi7A0Taa0lRgWmYtX6zBtDRSNkKzrkV5vu2LXBqlz7sTtSzjyf32O8wwevw1ItqMJZsNYRfcBheHp64re/+ZJvvvqat29eqbvDujAMA7ZWkhHKqgNtwTmsvepftzjgtjC01uK8x7prWly3M9u6Bp1JFrUpE6mI7M6r/DTFTtnpfr7atXA9vlhwMVDzLzdkdhU+9ZvXve51r09XdxB7r8+hBJhQEJtQRvZnw9ON87g4aESntUiWjV0sAtUZklSmVDmOkWEYOBwOWyuYqq4COS2kdb0xun98fOT09IgPAcHdOAQY7wnDgBTV2dreJveOOAzK5EqFoNZTLrimuTSczy8EY5uZ+y3gu7blb5kv4AZUbt6xdBb22g7uLd/9NsXepmWllDZ96H7b/fn7oSgF0lcWuz9OusRhB2T7QNN2IXdDVx1M9p+VUlSPbG8BdG52Vx309sn4zs7qcZvN67Wne8UYN3eBDhj3Wto+VKULGNlkCP28dQYy57wtGIyzSNK2fAf83ntev37NmorKB8gcjyPffPMN//7f/wf++Mc/8Pbt22toBUIpCal6HoNri5NasTiis3gTWJ1pbga+AT6ouVCkNk9abeGvaSaEoAxna9F7F3DObElbKSWOjw/87uuv+O3Xv+HxcCQ4i7GGgsYWlzWRz5llnsE5xhj1nDkLqKsAxmysfu8OhBBUPtP01ptEhSsTOwwDa05IzurosAOwolN8PwGyek+Ba4tGWyu5Zg7u8DEesfv3jnvd615/o3UHsff6HKoA74D3KID9ix9MznnCeIDWcg3Os7bfhXEgSeVlnXHjwFoFbw2PT69bK739WwzRWZwL5JRYJx14STWxSsKHAM7jvLbUxTtKBnEW7xwmOMpScMFyfDio/rAUvnCWl8uZJBoMoPpMTTYypZKXK2MK19a6tZpSdZknDsNIjHEDnZ2ddSF01ytEzMZClz4Fv6abwSqRQgjNaaBqe7jsQgGcsWBgnRcOhwPTNN0O1+zAtG5Tjfv7Pu3TrMZxVNa5gcPeMu763H1UbM4ZirolWGupOeNt3IBu7RGoXR7Q2ECDvWnP71vgPcmrV0/dAjbN7LK06FarzO88zzdWXxW2/Q8hsBY9/qdXr3h6etq2M88L1lq+/vprxvEd67ryhz9U/vN//E+4YAlhwFhHqsKUVGMLKkdBKo+vnhiGBgpL1lb8suCCZ02FyzJTVv0TkJ08wYAOgVlloJ3zhODx1nF5eUFKJQC/+/q3/MPf/x01F9b5QvCBJWec1yGsNQRqLFgD87pSa+bI1St4WjRSdzg2N4M2lJha/K2I4FG7Mb22hrQWfHO5AN0/AfIyk7MOKRprKUUwRhlsaRqZEPTa1SJUIxp6sGak/OJ8581bwqd+87rXve716eoOYu/1OVQFvgO+RWUF+S890HrP6dVrfAw4b6Got2iyhZKrskjOsrRhmJM/EL3hdDohUpjPF9Zl2fxgjVhqKZznd5yXCy+XM8PpyOF0ZBgGXBiw4iAMLDlR8oqUjK8VHyx+iPiUePXmFceHE8flkWmZyLVQrYAFawOX6fkqFWgaVOAGNPb/923wPWvYf9+tibz3mK6jLdcBsFormXTD3Hbw1xOvumtASmkDgfsIVpErs1ukUs21BX/rA3tli7uvKFw1vl2H25nSva5ybykWY9yO78PhMd3/q+9rf04HoDHGjVHehugaW3i1ueoMYNnY371kobQWOLvthhA4HA4cDge1BLOWUgJiDD4c2j4YYvRIzVwuF96/+4FpXkmiNm7D8cQ4jjw9PTCOUaOMh4h984pcC0UE6x0/Pr/nMi3E4Ej5wLQuXOaFairH8USW6xDe4+MjT6cHBYOl8hw88/nC2y9ecxgCRire6qLLSOV4OugxUxmOB5CCrJkqmVodc1qxwbdwWEi1YLtG1hhqO/ddqhFC0HtNKkYsBtWk05nfWvVvRVT7GmLcXEQ0hY2bgcLeWdhricsdxN7rXvf6iLqD2Ht9DlVROcE/opKCn/0EUwxlOb35EuuVmZQdaEm0RCkqa80sKZNcYXADx9PjNp2f1hUjQBWCdbrdkrm8TExp4ZGi9lzeMXiHxeGDRYyQU4KccMERog57GSOUIsQijOXAK3lFkcolTTxfnlmnC6UlTdWdlKADVD22K0AspeBa3GstZWsZq3yiaXu9J0aPdQo8cm18dFUms3YdqXU465BSMK1dXXMh17RpHKdp+sDOylxBZB+82fl97ge3uia2A8xr+5+NiQ0hKOCxFruTPOwHmvzgt2EnYw3O3MojrDMbAN6Dn9727vu03+7elcGYW61tH4qyTYua12vscN+G70y8CMfjEWOtRr8CzjcppgjBW0Yf+PHH7/n+++85zwtZKlhPHMdNU/v69WsOhwNj+9ll1qACFzzjEHg5T1wuF6YlESaLE0hNKpJLIXjLw8Mj33zzDa9evdrO+xdPj8zzzO+++ZrXr5/02Ns+z5dps7XqgL+sgWlZockd1kuLPHYWnKXkirCoZXKThLjgibZH6urfTLR+06LP80w1mpBWmi7We43F7eyqXrPmDmHsjezDObu1X/qw5kfWf9EU2L3uda+/rrqD2Ht98jLGiIgk4M/AD/xFr1i1+BkOR+LhQRm2Bp420OIM1TqSVC7rwolAxGKDJ44Dw3BQkFegpkwNBhs8p9OJmmaMDwyHkTAOm5wghIBroC6VRFomTHEUpwNYLlhSWjDGEsdACEHB6otwPj9vrXbTQelOq3ojKdilTrkP/FY/ZCD7c6yRm8f1MIT+2CtQVLDQ42WxV7usdV03du36PG40q2W3vQ+u3cZ+GmM2XStcNanO6VS+tZYWgHZjtdWlBjcT/TvXgpwz1lwJt/3jOnPdX2v/mP0+7vXF+5/fHrPZtJvO2atTQGOYQxw1fcxaQoyEEBiHgeNx5DQOvH7zwFdff0ktkKikXMn16ol7ejhwPDxwPI3EMDLOZ6xTtvjw5g1PxyPv3ke+f/cjTkYOwbOumXm+ICHw+PjA27df8vt/9VsOhwPn85lawb15DcBXb7/g8fSEsTq4+PhwQqhM04RzhixgfV+gqEa3GsOaE2GNuBhwxv/kugKb3CCteg+5FnsrVZjTqmxtC3soNAutBnLXdaVlk+g5Nwp0Ta1YINdCdGF33Szy8VLXO4i9173+husOYu/1uVRBNbHfoazsE3/BZsuFyPj0CucDy3LeWtDqIqDtz1SFKa9Mkoh25RAO+DgyHJV9XNaFtWSqsQTrGI9HHsYBPx54fPOa8XBqWfIKsOqqgzplmlguL6y1kKdBB3lKJaWCd2o2X0phXhbO52dKygTvWbvFVGeOd4zlHpTtdakioj6bIhirHrfS9KDOqEVYBWrZWVDV24n+IrfM6lUuoLG3McYWn1pv2uvOXYGwc24bptozoH2avLOtndntrXjv/SZdsL7ZZ7VrZJzFOrclc+0ttUQEcQbnA9IApCk9TKFHzVacdRSp5GW+nsO2390vtv/Msh+Ku5VvKLvrN4N+UAZyHMdNu1sqxCZ7cM7hfNgGkyiBOka8e+Th2FKmrKW06FljurZ5JYSBcYyA4eF0YBwGLtOkbPA4En3AG8PZXzS4I1dSOjIeR46PRx6eHnn9dCKEQV0yxHA8HpuuGpw3jOPINE0YB4fTiI+qRc5roiywBI/1jpp38calIFlDF6x3G9CU5pvrgqeK0dSwnJC04qpKMuZ55ng8qhTD1o1tzW0Ib8kJ7yNWuHG9kKb73jPz3UGkfrxRrP3YB97rXvf666s7iL3X51LdZuufUBCrgfc/U9ZaHl6/wfpAKRWpzVrWGqSqJm+tGV8VzOQqpFIw1hOHA2uYWVhYUqGSEWsIFQ4PDzy8ecXx6RWmtVUVtIGkFdqHd1kX1mVmPp+3lnMpFWs9cV3xcSDnFSlF5Q6lUku60ayGD6I+uxfn3qaqR7SKiFok7TWumJt41Q4iRW7BmRi7sVv7SNhlWShFZRMdpH7IxO51uR96tF71i9dp873Pa9kxzs65mxjbvh/qFiA3z98HQezZah0KusoE9vvV3Rn2z+9a2M3XtsjN/dNtojq4t9Yzt3Mi1jDsttc1tbpPjSGXTE6JsibWNDOOA8PoN20y1mO9B+8Q9PU0pra19EshOgvRYkzBimUtDmdhcJb3MTBdlPGM48DhScFoKQJSMGSi1/0L0W9MqfWW8XiglKQ2cxgenp44n8/KulcNahiGgaXOiFSNqEUjZquBYG8H9ACWnDDOMroRgJfpAlO+JuW151qvwQgpJdaSNwuubVBxJ+tgt3DZOhIIZF1UfGStH/vAe93rXn99dQex9/pcquti/4w6FfyWv+ABaazl+PSa4XTk5Ycrs2OsVZ/NUpAi5FxYZOGCpVrDGD0uRIbDibRkQDPnc67kXHkcDjw8vSYeDjo5Xou2SOeZUYSaK5SKFSgps6alxZeOSIWVTFoLQ7OsklKhlk2H2lnHUgpmS6lyWyDAHtR9mDD1oT+rtDjT7Zzs2vyqiUSHlaTocoBbE/4O8kLQWNw+TPZhdGyRK0u2bbuzvKUgch3qGoZhA8QdlHTANK/LBlz38g+xbd/rTyUTndlVoC43Q1t7ycTezmt/PvaA9wrA5eY4Nv3uLnbWe88wDJgGvpZlwRgFjMZpXK3nmvhVRRcy3jpwqhFV67URMVaHnqgcxti2b4nBUWshpcwQPM44QrEEA07A1sIpjrovhxE3Wkx0XC4TlIwjcDjq+R7iwNPrJ3LOHI9HsmTCEJlLopZEauEKpp0XHwNxHEgpIRUOLX631IoUwFmkGLJUvAubrKJfP1cLdrFbcpgO1ql7hfrx2tv70TvWdfmJlOMausF2jTq4dW3Q7yNq/md+X7rXve71GdcdxN7rc6l94MHCX9TFgjFNkziMOO8RCmsqeOfwTn1aJWWSFM4pUQvgHcGeCENgOJ0opW4gpSCstehjhgHjHdISteqSKMtCjJ66LtS00rJJ2+S9hosdxiNODNUoy7muK9M0USUTQ2Ce1I/T2UAmt2ltwbkrQHTOIdQbcLVna/ff77W01lrWZVLmsfmwusbAlpzJNRH8dYK/A7gOSnorv7OZCizqNsHfAe7evaD/XK/HNb61P6e7E+zBYgea+yGs/vy9J+0exF6dGq4DZZ397gC/63n3g2B9O/11XI973YUz9PMJUDcgbxnHkcPhQGhWZyklHh4ODcy5dkyCMUK1otILKxpZbCq1QmiMK9ZhcmJeEmGIlKwRusM4kJtl1eEw3mh6l2XhOA64R406TiUjOTMMkeo8BSGGwGA9fogM45Hj4wPjcKTWyrfffsvpcODp5Dg/v2c6z6Rl0chlYwjBIePIOs+UYjgcj81iTbsaZucdbI3b2OOfnN/O7LchuTyvpJyvnrY07WvSTolIQfAtGcxuYQtSula5LWxAvaA/ru4g9l73+huuO4i91+dSPXb2AjzzCzZbxhjCEInHA8NhZL4UHE3zWQ3WGHCe1RR+kMJaDWFaOMYBGQb88cjJB7KF9eWMc5bhdCKejiQp1CWrDrVkmGdsylzmM5jmydoGjQ6HE7UIORVKKOoRaqBQmOYzl+nCMAxqZZUzFRBjqWIoSVvUzgWM6WASnPXNU9Q26ykFONOSOBw8Y4wYk1nz0vSDBescJeXNv3WeZ4YhYpxBsqY77YfLjFF5Qq2VJa0YZ6k5bRpQ1bFWXSw4BW5pXnHO4l1s4QSZbot0M5TlLKH5vuZaMNKuifXteB3DED5gWeumYd2DXZUqWKwVDC2VLSVKUS/TEJSoV73u1b1gzygrONSWuTEGU3URJNIsn3IbXCuCswpgvVUfYWthziuvX70ihpFpmjmdjjgDQuV8ea/s8+i5XF4oizCOIzZEqnGI8SC6WKnWUZwGYOSyYn1UYBkCYRgIKHiNY+SVf0VaVuZ1xWJ4Op1I00w+X/DGcno4EY9HirFYF3DDiB9GbAhYEd6+/ZI0zZR1xSajsphNi22gOrCWV29e8+233/JyedZFh9HzleYJ55RBxwhrWmC6dgJKFQRDNYaCDjdO09RYaUNKRYfEXMCsmVISvi+qLDhnsUkwBWxLjqsVBdnOko1a6X1k3eUE97rX33DdQey9PqcS4Hvg3wP/y/b9z04fx/HIF7/9V/zTf/h32v7Mzbi+2XAhhmIMWFjRIa/3lzNEz8PwwPBw5NFoQtO8rtghgDHX9nmpkDI1qQ52mp4Rru3sIUZq05Yuy8L5PBFjoTTGMKW0sZBrSqRU1Be0FKxttkU73eWHWfZifjpFn3Nm5VZi0BnTvSRh37bt7ftarprVvQ9tf2xnZJdl2YBiZ2UNBm8sqbG4+8d3Vg7Y/Gv7Pu9bxnnTF8tP2GV9nL35Wf+57gM4DJhbp4Y94/ohM71/rX68IgJVtseICHlzYNDhpVIKh+NRgXmpHA4HQBlmI3s9L42Z1WAJ7z25JNW/DpEh6AIrp4otFeqKiJ6LYAacC1jrsVwH55xzauVlDNO6wPmsLX8DUBmGAXEeafseogLYYRjIqRC8MA4Dznhkrax2pWJYl8QwRpw3UCoFQ44tRKO5I/R7Y38t99ZpIV6jk7tu2Iq9LkbaZesLi96NUBY84A1UIySp5FQJ2WBFENRPdu9VjDX/JSD2o/Np73Wve/311R3E3utzKYtKCPYOBZmf08Ua8HHg9PAK7wPZOfpnmUihM4TQ6F0jTBR8SsQ1c6oG4zWBqTw+UaeJOGr7UlJW661cqKu2kvOycLnM0NhCP0RtNzvHapTFq1Vbw2vJ20R+CAqMtcWeScsC2CZ5uNV2bu1wWriBaY4LoDG2DbikUjaz+B5yUEpBatlkAXt9aAe3pQEt4CZ8YB8asIUbtNb29n1L6lpy2gBzZ1/7vm/gcwdi94AypXIDQOHWCsxifgJut8ttwFlNfYIriO+sax++uwXFH2iI+8BcG7xS8HkF1OpEcdXr1lpJtTCOozpPeG19m50cQcFs9+MNeKcJctEHTX1rgKyHZnjvid5rW11EI3iNwRnPODa5Q/f3larxx06lIUte8EOgVOGyzrhaGDFE5zHrzDAcKDnBEAmDp5wGxEO1wlxmjIMQPLmuV82v0RCQ9+/f35x7a61GDBuwDeT3EIuU9D53USOAO4Pek+B6XOy6rhsw724X1hrmWqm54Iz6PJeUoLHozrlNQxSGj5YTvPyLv1Pd6173+mzqDmLv9blUQe/HCfgTmt71NT8HYkXw3nN4esPx8TXrfL4Cn27ZtJuux1hWgee8MKwzw3RhSIEQHceHB/w4YJyCkzQt1JQVzGYd7Eq1tDbqderdVMEPESnXJKpuJ7RnCDczf+83j1bvPXZng3ULxmQDsX0bH2pka0/KKleNYm1+rluca72yxh8ypntLox5f290B9mwtKODNtWBc+Mmg1B4Ed1DbU5/2TGx/zT043QOm/vj9/7fpTYL1usr5EOD22kA9tx6xnU3ux3MNa7iCarUE00Gi7g2cpd7sw56BthhqLcoOt+hfrGeMg7bguUbfVmPxMRCMx7d7od8rxmgQhXWOGA/ksrI0plPtuzT0wXhH4AAO0mVhSTO+Ci4u+NVTBAqO99PMOi+6D9YSx0Gv3XuPyNVyzDVZg4hwOp24XC7bAmdzJejt/7agWVNmHMeb8987DjFGvPecLxdE8k8WEzlnHG7rQGzXC6gYXHuMDR6Ham3jePiY94yM+krf6173+hutO4i91+dSCQWyP6C62B9Rvdtx/yAd8TG4EDm9esPp1Rt+/PN/3kBMZ9pEpLU8DVjLtK4sueJfzqozfHjk8PCGh6cTYuDH5x8VCKaKpAwfRJw657DeU1tLtdaKy2mbSl+WZdvHn4txHYeBtUkPclY2zArQdKPedZN5gEqRDDhsozbFBARl70AZ5yJF5Q8Izjtctziyho5Zay1bKlcHklv7t15dBkopN5KEIi1EQLp/7DX2dM9EdvC6nf/2+P6YDsg20PyB1ZYei6hWE26euwejCqYsu3XJ9twPAXXfzv73VyeHvlBoIBbV8TqnXqqn00kTxrgmgVnrSCltFmjWadiVNYacC3lNxEHDNEIIaleG6kJLrdSkt3b0kWCsxtc2NjP6gA2eVAu57KQWYnBYStVFkz+om0BueuYhHjnEgWAcHnClkNNKbqDQeo8bIj56xuMBmc6UfLtgcs7BOGh0cjs2U6v6xbZ9yZvOWBcCpblcuF10bx/G0utmNH62exOLJsglgeB803oDYtEljyDGU2oitr81gsd/3GDXjHZu7nWve/2N1h3E3uuzqJbaNaPM6/fAfwL+Vz/zwE1DORyOnF59gXwgm73xO0UlBdXpgMvzMjHGgVdOrYvCMCJScDhymmEtmFRUC2vNBpZMFWhT+KoxLZhktCXsHUOIGxgKow5NpZQ2UW90njFE5vOFNWdN5GoAcM9I9v0Gru3ZXcBA/701V1cBAKl58zT9UDObSm7A9pYN7YBx70LQf55LvgGb85p+wtL2VvG2r/CzcgSVIMQbtnm7Ph/oZPfpW7f61lvXAWuuWuG9J+0VGHOzra5Rtm0C/sPI3+6Tuzk3NBeCeZ4JwW0JZikvYCp50fAHpBKdMusOA6IBFGGIxHHgMis7b03AOfV0tcZCXhnjSbdhhHWZWdeZdV0ppbH5VbaQhloNVQzeRUJ0jHHEig70UQ3RCMEEgtVFVbdZG0Lkyy/e8uf/NDFNF4w0n2LvWofA8vj4yMvLy3b9tnut/f2oRCVs137TU3uHk3pzfgvmZgGzj5ItpWCcR3qoAYDVBYZ17dpZg4/jNdb3l6svdu91r3v9jdYdxN7rc6oX4ISyK/+EfkgV4HbqxBhMG/74ze//gX/8H/+v5MvlBhx1sEvXQhqLCYFaYJFCMRp3Oc8zRip1zciUKTlhi5DaNH+1hpoTUioGizOeasEaaX6YDhHD4XDAhWtMbWo60lorOSXEqidrrZV51ZavgRubqn3pEJmhYjCyb9VXrA0Yqwxc19CmuShjmJersXzTKZY21CUGjfO0t7GuHdTtmdcPB7ZughZ2wLVrGbv7QeWW7dsD0Q8Tv/r3HwLK/XM3oKo6Ed2HKlhR9wA12zdUqVhzjSut7capjSVUBlaHiwShioFmvC9AqXlzkqi1Yp3f7Mj0XKpFGaWCraRlvVqjBa8RruqbpiA4eLAW6x3RW2wYGY5H1bnWSrmwaaZTWhF0+G2eV2rSbQffwKN3LBTiEDADONS6rKZKrtqqlwKIUNaCsxlT1f/YOccxDkQfOKdE9LYB0T5Y6DkcVBcLUMUgLfZ1u0cM4HSwD9jupX4/TPO8sfjbokhFytQWOBHCgIbPGUSaBtZaZbOLOmxs8hPvsR8Mmv2FWrkzsfe619903UHsvT6n6pPGE/BHVBf7DR+CWNQmyVrHw+svefXlV5y/+3NLsrotnUBXsDX4AEaFdFPJnKeFmoXROcza2LUiSC2UVKABvrJmjXltOlXX9HzOOUwDR1bAW7claZmWsgVQU+ZlTQSnLG5Z003b+8NAA/3dLnbTFHJN1IpKJKxtTK7FlNqsuDQOtdS0tc57CEHO+SZMoA9m7ZOruhxi76G6378Yx227e0utzgb3IZ4Obnr0bP86pXIDWPesaa0VI1f96l7f2tlU9WW9lRxs7gkfJIzth5T6Y7Ls9J61IvV2+GsYBh4eHm7AdA9wCEGT4Ywx+BB02GtZSSnpIshZTk+PmirmwLRhr1wVwA2HEesiYdRhqjxn1pLxJuKNUXBnLBiHwYHzBOcJQX2PqxUObtDQAxc0brg2v13R7oAFpmXRIcOsdm+08xqc43Q48t45vHeN7W1yi3a8wzA0+YBsw1tZ6qYxTylvnrzOOVLROOB5WTYZBs5uvrqu+QT3a+VjZM1p00xnqar3dQ76oJ4YihgO4/Evap8/qGfug133utffdN1B7L0+p9rrYv+Apnf9xC+2SwQUyFpiPDRNXsHbNjjTBk6sc8znM8EGahaytaxUfry8YIE3hxPWeWrKmFxZl6UlbQlSGgNrwUZHTpW1ATm1V9JJc2XsIqUI3jtqFdX9lbrpZ72PvLxc8D5SygvztPJwekJM06nWawu9lELwV/1pjJFShRA8VNnAwTRNHHwb5Cr6fWcO53negICCam78VfeAtDOw3ntq29/OGu/jYEEHlkIIG3O7B52n0wms4eXl5WaYTVk6t8WPdj1tB5R90O1Dd4IuBejbuoY8dPP8KzB3zZNV2r8PtbXBBETU4xfMFpDQmfAwDhSE8XjCtWPvj5nneZNSxDhwubzggmdeF+Ko4G9dMvFoeHz1xI8vz2p7hXA8HvAxcJkTeVkBS14Lh/EEYki5sObCECJuyAyGJm8xWAchRo2ITYXD8WE7hz5ETqcTOVfev7wwxshQK5fzzLxcMEsmREfJlXV+zziOvH37lj/84Q8cjgO2n6fGXQuWaZ4IIahjwVmx4eWizh3eqmZ4XhfWnG4G3ZxzXJZ5uy9c8yu21jIcD0wvZy6XC2Isi+jf6CHqUGRfBFS5dgPs4eFj3y/+zD3s4F73+puuO4i912dTO13sAERUWmB+5oFba7nkzDy9KLDd6SM3Vq/5cJa1JRB5R7aWy7pAKpgl4Y6P1LVQ1sK6ZEpV8CopY4sO8kAEe7Wscs5pKpbd9h1TBckKCKUNXalpvTJkHbTl3nq2BsN1MGrPgu5Zx5QSIY4KpIxsLXYrt16p1lqsYxtI6uWca+zdddipbzvnzLIs2v7mqjPt4HvPeHbw/OE+aurUYRvwCSFoWhVsMgPnQgs6GLZr1KUIzjmN5f1AM7vXCd8co+1ubNdr/hOrMrndz6u209+A2z6pH9qEfd/O3je1XxuAeZ6Z53ljxYeo0a+nhydlWt01npXGgltryfNMmdUrtgN5HwPe6jmJMWK9o5SR0vXIpoK1lJZQl9aKMUIcD4zHI348YIHX4wFjHDmvFDTRKy0r83vFdzE4jL0eay0aLKBuGYXj8UgIYVt8zE3OkHPGx3Bj25ZKvnryOkdswHNalZEV7NXWrRRoA2xwdaGoyObwIcjm1IH1hGHg8e0XH/uW8cLdJ/Ze9/qbrjuIvdfnVmfgSxTIev5C2AE0wFI1btZ+MHTUf5/lgyhTyXjjWWolrwtmzbBkDkaB7pK1fV1TRnIhVPDFUMyCi9cceWgDTEZ1fiXlLaqzt8yXnMjLTKqFVCprriypsKTMmq/pUqlUbJHG4DY2EoezoWlBLSWp2b5Bgbupt3ZS0sGl6PO8q9qaBoJ3SL2mY+0dA3ItVAS7A46dDd7Hw344rNUZ035eN59QazbmtoMdlS9cNaZ7oFhKYVmWTU7QX6//vm9nD551G1dLqA6YbnxfUaZ+zyDv5Qt9QMnFARcHjFHdawegna3ugLOmvF1TgFIF71TT6seB8eFERci1gtXo434/SqmcbEBKpVYhGIs4p5GuXrsFVQQfI87E5nUMuB4hbHDVMb3MLGmlmISEjIRKiJFxGNUVYLWEDEdnSfPCdLkgueCCJedJXTLGkW+//ZbDEDbZiveew+HA999/T6pFHTOMRYxhaIuRVPJmx1ZKweyAbXcsKKVA8z/GWdaScSLaSZgrxtntnKRtISeI14G7lBLWe06v336snOCfjDH1Yx54r3vd66+z7iD2Xp9bFRTI6hTTL4DYDkpKA7Lee+rm/3ltKYMCqR5CsKSV0ak+9mWeKJeFpzhAvtoG1VwwJWMJOGPJKW3eswrc2iQ/3eLpCqiMs0ippLRutkc5q0vAmhPTNDGOI7kIzlnMDiR2j9c9UOzt+lIK1iiTZ7sfbtOkdu1rP+YPgwysU31qB2YbG2m4adV3lvknAQjregMC+/nvj1lXtQ3rqVd7xwBty98Oke11tz0Naz9g1vdjP+S1d17Ye8J2MPah68H+Xy0qWzD7NC9rGMdRr0UD2B28m3aeuxyCUjcf4OPxqE14Z6nOMBxGHWjDUOS6YDLGUHKhkJDLyjovlFyx3uHHA955nHW4oFZcxlmqATEqZfCDapdNFcjC4EemSdv5ZckUu0I1ZJOvbhgpc4gDbx6fWJaFy/MLOU2cX1a8h9PpxJ/+9CfWVVo6GEzTpLZwXq3inNNY2n4MPcltfx+adn+kNhzZnQVKbiDXuxsgqjlhV7Y8t+AJu0uOE6NDZfFw+tj3ivOnfrO6173u9WnrDmLv9blVQXVu74AFnUD+WedzYwzD8cRwODKMI7T2fY/K3EsLJBeMVUC2rismwGgcK5VlnjT7vainpS0aT+oB8YZsNGZUo22XDybnrx6rtQqYgqlW/WSXlZwyBWEF1lRY1syaCilXqmk58j5QsRjbpQKmyQ+urGds+syNmSw6tCNSdOyt+XH2QAbnHK6BW1ocbN/nnPPWFjbNNgzYwBuwTaQboLaBuQ/DDm7CGbpfqGEXN6pgeGlJZX0AzRjTWvIKLMdxZJ2Xn5jk71lb7yMiiVpV03pj4yTCOI4398VebtAHudSj1OiCw6AMfgNf6iZgSI1R35jFUtUXlopzBlubhy4wDJFhPGLjQBJhGCI+RnKtGmTgLDkvpHXF5sQ6zZynWS3ZcqFWGMVjxIKBkksDwwVZVc6yNmkHGQYfCMYBlnVaeXm+kCvtXF8XBsfjkeMXkVOMyBCZytqub2UcR169esWyTtjgMbXy448/8ubLt3jveX5+Jo4DpfniLu1abosOYzAfRPuqdZYleE/JiTmtBJpuWmobkkTvb+nXVm3yXFDWe82JUAes9bz6+rcf+17xh0/9ZnWve93r09YdxN7rc6uKAtfv0QGvCpvd6m0ZQ4gDh9MTpqchNTbtprW8G0LyzV+1lEJyRj/8o+P5ZcKlissVk3QQylvLEgqxOA6jp6wV29rlfUq7g6R5nhXY2R2D2dv2GNas09wpJU2DsgZrdYK7G+QraPv5ln3fZ2utAnLpWs3bNKnrNL+5cRE4ny83uts9s9nb+DeuBnLVwioDfAWUmzQjXyUKnek2tWxa1xjjxhBb6zfGeA9S9y4Cfdsf2m7119rbkZl2HfepYHt2l13ru5SCFYvJOwsw3+QnogzmHjR3Tef+tVNSW7TReYpUXPAM44gfB+acCEGZzH7c/dybqguiIhXjDfEQcSEyjqpxlqquGDlXslRqzbvj1mCNvM6UIjijVlXeOtZp5uXlhZLytgix3oGzzMeBfDkzHjUnJFjHq1eveHnReNmnpye+/2FlWRYG77eFxel04t3z+3Zd2v3UzmEH/PUDuc7+fvDes7hCahG1+sesASQUsAaS0ZQzY1yTAfVr3Vh25/ntv/m3H/M+8QPwf/rUb1b3ute9Pm3dQey9Prcq6LDG96jNVkJB7U2ET5/tciHy6suv+HMcsAjLNN+AsV7irTqv7tq9qRbEWtwYkJwRk0lrgVUjZ6212Fpx2SB4LLLpJfcs1LomctZhGOvaAJKAlIL8/9j7819bsvy6D/zsKYZz7rn3vvdyzmIya2AVZ1EURUrWRLVEWZTktoGG4R/71wYa/e90Aw30D41u22jJNmRZgLttaLBhTZREkZQ4FFkkq4qVWTm+d4dzTkTssX/Ye8eJ83Kox2JJmVmMBVzky3vjxI2IM9wVa6/vWj7gY+I4jRzHCesDJHGq3Uw553S2ExSVUWhR0gkymcokztGoZo6kWlbKVgvBcjm8Eqn6eLNQc81T6qu1dlZwnx6oyuT8vCzhlBRwIp6ZxMqZDFZCmFXqvK9K1mvt6Sm9Qc/7XS5bV0IuZK79rTclORMWpM7e2Vjat6De7YiyvB9LuH++6ZCCmcRqrRHqZImoRCylHFO1vLbBeyZANYYkZFb+lUQWBVdqlQlxONW7BuuYxjxcddzvMUrTbHu6tqdpOkSSeB8Ik8eWSuLkAzHm2mPnJoLzhBSZfI5AUygUgmQ9bpyyFxrBYCekUkijGXvD+OQG1TU0fUe37Wgv+pxyMA1z9Jm1FmMMu+trhMhWg+12SwiBpu3m3NsYI3FxU7Z8/uvrdjlIuFTII+U1HTxRRBy5OMQoQ5QQkyQ4R9v22W+uDO3mrKTvo2CB3/2kP6xWrFjxyWIlsSs+VSgJBZFcdPCYbC3YfciWQC4c2O4e0F/smA6c+Tm11nMeplASbx3RB7SQoHN8lROJJCSqb0kJvHbY5InRI5IAG9BKIDGYEhAfqbWd8eSbVBJygRMp5YiuSnDHGJlsYHAeH1PJBJXzH38lS1SROAnOy5ipGAXGqKwmaoWIEVG2CTHmulxfFLnyeyWCWAgZkMsYlJpJoyxDVZWM1MYqo9tM5EIeMiNJgk9oda50Li0Vy4EsKU+ke2kXmCY3E9fZL7qwexhtzpatK4GtaBp1VmM7q8j6lAX7tCc2H18iihxBlvRp2E9FMR9vTVeYh92sK5P7uY0r//6Gw/GIDB7Vdjlb13q6C8Xl9dV8/bzNqi7BMg4Dd3d3aCHZbDZZyW36fLPhHOPksEc/30B4HwnOE53HTgN2nJBEpNH46NDG4KLAu1zIoRA4axn2h1y6IRNKaxrXMI5jPs9Gsb2+5OELj+gueoLQJJVm5Rwo75NcxtF1PYfDga7rOB6PH2hkWz73gZOV5OmSC8jDdEmcaphzQkG20SQp5tdvCgGjmnwL0hrEUzdRH4G1cnbFihUriV3xqYQje2J/h+x7u+YjfLFSKnYPn6fbXJGcQxkDUubGppSQOmemSk5/XG3wmFSUShI25TID2RjkA4XpG473dxzv94TJY5Ck0GFk9nS2CY5j8X1yqqJFQozFU1nInPWew+QYlGJvA/vBkoQkklW4mgUrUl6y9d6RQiAkTyQgdSGeLtA1OePVSIW3LpcmxMhkHZCTBlIIdI2hNYaYIsSAc4FxtDRtS9O0OOfY3x8K6ZCMg0U3WXlLUoHUKGAcj4Tk55zXTCIrmZEzYQ0h3zS0bY8LmYyd1FxZSgDU7Aupvt1lVm0kMTk7q8mtabIiWJbmnffZqlH2GkOJOZMKKUqJxJzhq8kJV75UnyakUkzezfvsunK+IaIbxTSMJ4uEDyiR47NOynNANYZhshhlGCbPdtehpMHZwHiY2HQdKUasnfKNToTdZosk7+ti0+MHx5P3bwguIJJkmEam0TF4y+E4YkP+/Xac0FLm63DY59eC0TnP1U646jONWSENNmcLSwRqLAUIWtB0Zib9L7/6MloIfErsdjt8zDFw1rtTlJtumabHsz0nioTpGu7v98QIm02Hs5bo/Byjphsz3wgplePVnAvZxwx4F+lMi4+5fjlJQYiJYXK0StO1HaLGnV1fPutnxFtkz/yKFSv+GGMlsSs+jai+2LeAbwJf5kN8sXVJv7u45OrlH+DuvXfmoZOagTovj8d09guennCffG6caoxC6Z5WZsVoGkeEj+zdhE4CbR2NzokFQogcf+Q8QqQy1V0m38vvsRGmlLg/TowuEYRCqNzQFEhlsEoiAic7wiLmKiKRWtMaBQmmacrqZTrPdDVKzEQkk+KELLmnkUTbdUUZzkSxKo91uR6lUYoFYfV5OEky2yeWyQJPRyBVH6lQ8uzncw0pnFsfyuOWHtQz+8fC05wVUxYEmjN/bv09dR/55iScKbM1gq1WA1dl0RhzlqurEMQcDLxIY/CzXQPA2UATQib7KkdnKSFyokXMCmkqannfdhitGceR/e0eexjY394xHcdcnhE8IcIUPbeHI8cp22HclBX6vukRKUdRCSEIiEw6kyBJQXT5OY3W0xqNRCDJ6QZdYzKJL+1kj9vHNF1De9HQNj0pPWEYR5TOw2UCVSwXWZmNKeR4kJIw4VyY/cOQ1XJlNFqcsm9j8UODLM1gYR5WPCVIlBtKlT3qWkhM0yKl5NHnXnvWz4g/YC06WLHijz1WErvi04hn8sVWKNPw3Ode5+2v/zbmeIc2DXY4Yq2laRqapsHaUyb60s9acVZVKiVd1+UlWylJ1oNzJOux3uNCQFfCVcixlgptZCYEQkDxkI7OMfrAYTjO1atSqDNPqVKqtMzmfNjlknwS6jS4I3NawKxi1srZroXS+EUhv4SAKUvsLni0aefigbZtz5bclVK4RTNXvRaVYDammW8M6jL/cum4BtgjRa4SXZDd2Tu58LrWc6n/XZYJLFMHzp4XKc6ePyHkmS9zGfuVbyJqXFo4S1WYiWiZvl8OuymVa1BFjDmIfzFgFwW0fYcwDUK3bC53XF5d0HXNXLnr3DRXvYokzwYAtZAMh5HhMDCME/f39wyTJURwCW4O99wPI74M78WYUFIQosgpB+U8sl0kEn2+RpOzs/Whbdu8oiChC+Aj2JiYQiRIwCguLi8wGz1fpxohZkybFevyfEzTRCISYX79La9bfWzTtfNreJomkshJEULkMoU65BdCyLFaSpBSRCay5UXk5w8f8JPl+de/9KwZsV8VQqRn2XDFihXfv1hJ7IpPHT7CF3vxEdsCsHv0PA8/9wWOt09ouwOiKJTL2Ki6/bKx6unpeBdCTvyMEVQeQEIoVNPgG5d9tfHUKZ9K/SlF7FUp5OrTkAfHnAtM3hOSAKlyFFZyOXpozlLNyuEyJ7VmuEKEGFFJQ6lnFTFlLyE5ON8Yg7fT7EGdz1EKUixDN+JcXVwSVSEEzrozYg0nf3G9GViS2PrYqnS7cp2X0Uv19yxRf64XxLXu7+nt59Y1KefrnBZ5snUJu/qB63OZz7fGfp3U2GXGbFoot1VFrMdXfz57ZFMihNxepRuDNmYejooxEqKjMZpp8OADRunTmkGIefDPBsbDwDCM5TWRPdKD8xzGiXs7sR+OjM7PjxMJ2pJk4GPerxESESJu9LjR5cSLmEf/Y/KoRtFqQ1SKKQTClP2qIUakkehG0wwtslFnz29Kp2taVwGAuZEOKHm6dk7TqCrr2YDfnB1cvMplG19vBmIi1npgBF5JVAgk75EkXv7iF5/lI8IBv/Yf+GNpxYoVn0KsJHbFpxVViV36YgOgPmzjpt/w2o/8JILI8Mv/HDfZHEWQIghFWvT6CJHJXQiBkHJmZSShpSRreOVxZdsgAAHC6FndrLmpktMQSyTlJqKUSYMNpXpWSkzbkZzDl0rRFHOwO4gFkdaQLFONpNL5uL2f0LIM9BQSp0rkVQqVyJUoKUnOMkqU9iyNjgZn3dkgVy1uAIrtwnywCrbYEyphWaKS0WW261LJrYR3vuZPkVs4TzhYqqJZcT4vO0hPP0act3gtjyOXO1TV97yxre5fGo1ps8Jch7Lg3PKwtDQIlWPHUhII8o3BMAyZyCNKo1oeFNNSEkPCe4uPDucCh7s993cHxnFkmhyHwXE3TDzZ73nv7oab45EgQarSCocieM/BDRjnETrfvCgvkD4iXCRZTwgJT6LpWkYb0IBqO3xSpOBwKSCUZvID4lbm1rltS697BKqQ9Eicck6vSKfnQmsNKlsJhmEs3z/FjnnvUaU8o1bnIk8pE1rrnGoQI6LYWgQJKQUyZQtGbvdS+ASb/oLt5dWzfDbsgW98gp9NK1as+JRgJbErPpUQQtiU0gD8HvDrwOfJw13qQ7YFJJcPn+cLP/VnQCp+9X/5HxF7IBQylfIf0WLNO026c1pepm1pugYjJNGBD6U8oAxMGaUQuiyDi6xCNqrYB8YxDw65SCDhy1Kwl2RvqdbZ2+jyUEudzp7PQeqSG5pp8Ry3BRAF0adMyjl5QFNKeVl24Y2VMueFeu9RKc6DUTb5OX6r1oIuywi6Ts3KWq6JVXNsVr0+qrSiLfNnq5d06YVdZtHOJHQRzbW0bizzYuvPcx7pqYlMCIFuagNUWeZP8exY4WRNyM1ctQrVnUVBVdTzW1ojZuvAU+Q4iZLBKvLQW9O1qDLMlCfwJdPhgESglSbGgB19TgjwkeQTx8PEMEzsjxOH4cjN/sD7t7e8f9hzMwxEpdFNi247zKanbztSgGBdKVuAcX/gMBwRU6QNgD+9DjQCHxLeetRoUXnKEC0lIeXX635/pOkMu4dX9GSLwmEc2EhBo5r5NVdvYPLNVipZwma+HssVjqW9pEadZV82Z68HLRXlXjDfX0mZ28pKi5rSDZvdA0zzoY6hp3EPvPlJf0atWLHik8dKYld8mmGBN4DfBH4WuCTn9Hw4kZWSbnPBy6//EG/8zq8zHvcMd7ccj3s2fZ16liSRCOQmrbqsHEmzh1EkSE4S44kkJFHSDgoZUzIPMaFkJqSNJkZPEIJYMkyTTKU3V83LrJlAmpkc1ZgiJVXxy2q0akpNaz7iulQuxWkJ2LtTBJQyJuekThMJSRIKF6e8zKzKAFpjspIYY/Z9LjyitXZ1aUcAZlLbtu1ZSUFFjVZKKWGKz7cWIMw5tbX6dqHCPq3gLofsKiqZrMeFbGbfqpSSFE/1tMtl8Eponyaj1fu5/H1VgRVSoOTJp3zmkRUCAYQIqJMCX4menyxTCOA9rWnmyuLoA95ajocR5yLTGNgfR+4PR+6OR967u+edmzuOKdJeXvLyD76GS5H9MGK9p2kMnelmku+9JShFEJKoHfaYbRQScvKCyyq8KG1eSgiM0XlC0gW2m4bJDdwfB27v93S7fraWeO8x0sxebqE+aCfYbi/LDZCaY9OAk1e3vF58rDcFJxV9/qLeggVqgxtAFJK237B99OhZ47XeLV8rVqz4Y45n+sRYseKTgBDCAjfArwK/RM6FjB+5PfkPen95zcNXXsO0HdLkP7qR9IGl51kVFHlKXRkN6pRsYL3Py+7VRyqY1dxUSLMoJHFWGsVpSTvJbBnIubLF36nMXHX69LL7ctBLlGn3lNI8QV+bwSr5WpIQyIQYJefl4JRPFlGWzO2iQnSaJvb7/Rx4X4lZ/d3ee6ZpmslrVa59WT6uv1NrTdu28z7qda2o13Imo6fndia9deCskvxKVCshhVOVbW04q4S07n9ZUVsV0kqol4ru0rNbt6nX66MINWQ/qG6aYvEQswqstUaK7F015WYjhKxKatXgfeQwTLz/5JbbuwNP7g/cHI/cHgdu7URsDI9e/RxDSkxSYYUgKEU0LbFpOMbIzTgyCqAz6Msd8qJnaBQHGRgl0BiO40AIuR3LO0co3tpI4minvJqQEtPouLu7y+r7dsN2u50Hr+rNx9OZu/XGaRiG+Xmo17s+r8tEkOVQYH2+lNLz81ptC5Q3c0wJHxOvfOXHnnWo65eFEGsywYoVK1YldsWnHhb4bc7VWADzgS1LjVfTdlw8eJ7t5TWHu8ecFQjUQRShkMoQxWm4C3KmZYp5KEoIQUwJrRSkul3Kf5C1QMjsuVRKYZRiWiyfS6EISeQhsRIxVP+w+6TOltyhqGG6QWl91p4lyqR4a/Q8Ne69p21bpBBM3s0kY7PZZIXRO5Ru0EJgrWd0luRDXgYvCqIMck5uMMbM2a5VoXy6mavmqo52wpi8lN73/Ww3aNt2TkeYB4YKwXl6YK1tT0vGuUVqOovIqr5cIURJlrAoLfM5S302VFarfIGZ5CqVl/7nnNhyI1DPZ0nYK2IeHSs3KPl7IRWFXCpc8Gw3O5TJvk9dnqfD4a7UpxpIieg8wQe8g/1x4DhOTNZztJ67w4Hb48D9NHHnHGp7wcXDa4LR3B72mH5DUpogAl4KxhiYYshDg0Q8kdhIhN6QUuTueA92hFahi4UEn3NdcYFpGGm2PaYxjNZiGkNEcBhGHj+55cHzV5lUKolEMRXvc30tjeOIaZr5XJumIQQ3pw5UIg/M+bumVcVikM58xaL4tIXIlguVlkN9Cq00P/xn/+yzfB4cgb//SX8orVix4tOBlcSu+FRDCDGmlJ6Q1dh/QSaxL5Qfmw97jFSa3YOH7J57heP+lifvvJX3tVhGD5yGjnIEVPa+AogQ8/i0zEv+PkWEFMgkEOLk9YQTyasT90qUAZZEmcDPZCilTJQQ8Ux1rPtAVCX2fLleFjJd1cbl8nkqU/ORBDHNqjAs1FwBOuVChGXk1dLfWkngfCxwpsotf+9SrawksW6/zMeF07L78jFLhW/pr1VKzSqe1jnvtP5/27aIUuc7V9EWR0kl4ac80kKeypGcyOrp2izVxno8NSt2+bzW52BOoRAS3XSzcnk4HLDHI33T4ttE8BI/OdzoiVFinWe0jrvDwHtPbrgdLU8O99xPI7Fp2D18gL7Y8OR4pOl6xuB4/OQJo524nixtn28cZBb9cW5iclm5vt/vef9wgxgso514eXNFqzUagaBk8QZKmkAPSJwtsWxNVrbt5HE+D8mJVLJlS8lE9b4myRyZlb9OpDWlVF7b6ey1nC0ZaTGQV/3SEikSUUQEmdQqpZCmobu64vLRo2f5SHgC/Jv/oB9CK1as+NRiJbErPguoauw/JrO8v0omsh/wx9Zg+wcvvMLnvvQj3D9+iyfvvk2Mub0rh+aHeVuhZO6fr9mkMS/JqpnE5uB/LQRSCLINNge057/QgRQjquS5Ghewwec0A5FQIuU60VQC+clJW3MJAyfCGFIkpkgS+SumRAqnqCvINoZUIosySZCQRBkBS2Vwpgw+LZIP2rad9xNKFqlQmXBbawGJLGS4kvK5CIGiTkoxk8Llsr+UkrAgqcsigrMs2oUNYTnc9TTBXZLh+fG6XqtC0MSp8lZKyfF4/MCLZjkI1pRq1ZDiBwhXvSbLIaVIfp6TqN7nXNMqpilnCEs57zunVShCyARznDzBw3Gy7I+Wx7f33LvAwTvu7cR7+z3BaI5KkQ733B+PuBBwwXN7e8voLLvNFt025XolorcEAi7m9AzrAnayNICfPA2gN5cYnQm9VApZ3GJaa0jgQyDEgPIRFyNSq6JuS+w0zTccSin6i21uD0v1+pTUCHE+FOd9tphUpfv0nJTXDZT2tHBWVzLH1GmBUIarlz/3rFaCt1j9sCtWrChYSeyKTz2KGvsu8E8X365E9kMjtza7S174gc/z9a/+CgjN5DytLDpVjDNRU08RrorqbRUqdyDJJJAClCp/pEX1DZ7yRY2SOC2RHkLyiBIeG73NA1dlwEksCGAdKpOqkNx0vqw+R1DJ0yT9cun9pCwnZEozIXs6HaAtgzjLpfdKZrMKWoagnvKELlXXpZILnMhwIfhL60B97HIfS1W3EsZ6LFWNBcrAkphrTXOxw2nSvaJei7qvSq5knnCaH+u9RyQ5D6JVJXU5Vb+81nUIafm6kIWEpzjMKrJMzBW2AN4FrI9YHxkGy/4wcXcYuB0st8ORt25veO/uhrtx5EDAP36XgMATEAiMNrgyGHW7vyfdJ1zMJFYCQgosCV992ioP/zkheW860CqNkVualJBJo56KNKvRctM0cTgcmKacIuBLW91SnW7blq7rmKbx7DmSkg+QzbOVhTL4lQcTIz4EYDFkl/LNXSWx3nuS9vzgj61+2BUrVvzhsZLYFZ8JCCGOKaW3yN7YHwbeAbZkS8GHpBVI+u2O7cUDtG6wri59izNFToqsGoWUSsZlJIaEKFmw9Q90jDnfsqYM5IXShKgVmrNNAIQkT6yISEqn5fZyHgghESKVIP6yzCrlHAcFIHU+phA83ieiPPlogXJsWXX1zhF9yMvzuqQOJPLSsZRIIWZyFFMucUg+zENdbdsSwjSri6fjPJGgumS/VIWXObDqqWpaOA2qVRK8VE6XhLGS12Ud7PL354n/SmLn18M8SFQfu8yV5anjGMcxP9/6pEbXxy5LL6rlRCz9nICIeWhOynztxskyjiNt09C2LYf7A8dxwNqI9Z7748Dj2z23hyODdbxzf8fbNzfc2ANJGqRSiJRj01SSiJhJflcJdplfNFqjlMBNHiEkpJAj2srPQ4KUJkBx60f61NACKXo0DcJ53DhBFPlFoUQuWxjzzYxqDMnnKC2RGSqhDO85l0s5Iid1nacGJOuQ3ZwKQVW48+Cc854YT89XDBGtT77p/DKNvPajP/YsHwMR+Gf/QT94VqxY8anGSmJXfJbgyGkF7wLfAh6RiewHLAU1oH5zeY3sWsQ4ni1DP72Uz4eoj6nsKyKRCw8tNTs0FYtBIV9CVrWxRLomyjCXJLiApBDXdH6sQqQPXVLP51Fao+LJy7pUHCuRE6kS5VoScCJqMUZcDGeFBKFM8OdMz0j1LdamqiXZXJLRqtYtCSecFN6nEwDqeSwTAPJw23ntb/XEQl7+Fok5hSGlNE/+P11b+zTZhkKuxamGVkqJt+FDLRz131VVZuFVXj4+f0+c/d6+79FK4WIo1zpf02GcuLnbc3N7x+39wPv7A7//1hsc8EQUkYjziagy2U4A8uQBjvXGR+aGspBfiMWXLZEpILTOdzEikAJMKfHYDmx8z4XSyOjZkFAoYgg5UYESdbs4h6yaBlIKRWk+kXetNUnkYzhlA4czNb56q+uwlwt2HmQMIRBTQkqNEHJWX6UEo+ugnWbz3As8/7lXn+X9/zbZF79ixYoVwEpiV3yGIIRwKaX3gN8Cnge+BISP2l6bhourB5h2g9J7ggskav5nHejK2z5dxxpFHsxKIs7qUuVJddpaCoFWuds+hJSnrHWehI9kv6AUAi0VVtSldmbf6ZIIzIRO1oGpGv+VPbAxCmISKClKxWhVcetyd/a31lQDLU7ZndZakhRnOanLxIBhGOi6Tb4ei4ik5fJuDu73ZwQ6D/ac57E+/biKp7+/HFBbxjQt48UqKlFaWhCWqq7Weq6OnbcR8YysmVIVuyxlOIsOy6HAZz7epyt0l6S3RkexiJ5yzjFMlru7PTe39zkXdn/krffez1Vzpkcbg42B4CZiikhqPrAgxYAUoFXO/Y2ylG2EXFpAEsSYcplcSoQywJUAheQGy3UM+VxTyK9hnXOHdWsY/AREVLk5OR6PjG7EuYlt12dvdLlBmRMdio1FKX12g3VqWjulPCwHumpOrJISpTKJ/bAYLyEkL33xi2jzoTOaT+P3WZu6VqxYscBKYld81jACXyNbCm7JQ1/bD9tQa8PuwXPsrh5yuHuCtxZkGaqKghCy0kmSc7RSCOARtCVaKf/BDoiQSsJAJWKSJGvTViVoeSo9BD0PxUQKmRJFqa0LwfGkUkoUITiUys1j2edZq2FruP9Jqa0Kq9Yao04Kp3OOEFxWLZsmV68GkZfBF6QvpYQq8VrLnFXgTO1cJgvIkmtbB3jatp2X3+F8WO7DyF8lMOl0J3BGJK217HY72rbNpFvEeehomYBQydPT3thlUUFVxfPvyxaEpmSWJsFZIUO9nkZrXImGglAaqmKOiiI3o22aXYkjy21c1QNsJ8f9/shwGDkcRm5v77k7HJiS4EDgvfEe3W85upEwjSRVCfJ5HW6KEVWuc4iOWBTYXPVarlnK04w5aliA0GiZFV1rLbG8jp3PhDKV8oIk8vK+koKu6Wj7nHvbiIhSguM0IlKgNR1CJIZhylFrSp49r08P5NWbiaZpsoNGMSuxbuGjrikbIgpEynXJMQmijLz4pS8/qx/2N4QQh0/6A2jFihWfHqwkdsVnDQ+NHMcAAIAASURBVB54D/gq8AfAF4EJOOurrMM4D196lYcv/yBvffN3aYxBCnJ9bKOKEqvQpsWFRNt2uOAxSjMNR1qj8dYQ7++RMdsBlFJIbRBCYoxCS0WMObpIi1xw4CRoAU7VsH+HKZ5WWSK6JORlXh+gySphXaqVUhOSwzuPUtmPiogkToNINXar2gGUUjnuSEhiyhWkhEBCok2b1WBr8S6eZbFKmZe3pzKdHiLkaAXFOOV9b7dbtBKkcFqiPxwOmUQLPSvHTckUrVPrdTArK73NnCUKMFoLZHKpjDlTUaWURJVrUVVNOxCCGP1sZdDmlHgw2YFxHOm6rlzHrEjHYikgSYRQcxWqRKFEjVsLIAVaGex0ZLSOptGYxuCjw7uAbgwJmYleUXVV0+BI2Gliso5hmJgGx5O3nnC/HzC65e27W37/7j3ctsEGX4YEs8fWFKXcp0gMAZny4Fasw3VCZeaaQApFEopQXtdaSEKI2U8bM0n3QEuuLNZJoMuNlW4bkoZApNt2TGHA+gkb+0zaY8zKfvQchwOhDbNVpOs6ErLk+PqzmxupT4p8CAGpNSoEYsytXQKV82eFQgnJNIwE72naDUrCdNwjjUbuel7/iZ98lvd9BP7lJ/3hs2LFik8XVhK74jMFIURIKUUycX1MDj+//qjt++0Fr7z+Q3z9N36F4f49VCIvkaY8yLLptjT9hs32khCz8qa1Rkm4efyYdtMzDgdcdCWwKAfqa6myclqis7JjsqQUGEVMLUkKkAopHc7GrKKJBDWmqiQlOOcInFe+zqpriogYcvf8U9m0T/tQZ3Wy5Nue8msVAjEXEvjF4E5uU1J4a09L5IvfEWMmuK74dp215RzNTHa01kRxWvZf+lurAhtjnAlmSqkE54e5WKE2kk3TdP44UYaARL62VQGuanS1PtSih2orqMcxK8yF6H9UtFeMIE1DrzSqtoGlrGKqxiCMycStfFHqZZ0NjKMlJMlkPQmJ0oaDtTw5HNh7xyFFBBKR0pxfOyuZMau8FbEIkuetYUuVUgIBRH6cJBFTflysj4up9H5EAokgQCEIeHwMaPK1iSkxTCMJhy5qagietm1IId+MdH1OXjge7rm4uMAYg7U2vy6L+rvf79nudvlmpvqmya1cUsoc++UtIWTCndcbFAjB9vohL73++rO89d8G/rdP9MNnxYoVnzqsJHbFZxEB2HMisR/qi62k78t/4k9yd/M+v/JP/wHj/R1GKlojMW1P07VIZWg2PU3TcXV1xTRN3N884eFzj7i/P3Kxe8Dd3T2kgESgpaAxhSCFiH8q6L+SvCTF7M0Mfip+QZDi1BhVSWVrKkld2AykJKbEOI70bTf7T0WNlkqpLC3LsyrQZR6sSCA0DONE0zRng1m18lVrjTYGoRRGmhOxLsv43ntMo9DGEKY4E9esBluMNEzTQIz+bLl/ufxf27dqQUJVZKP3ZQJfzcR0ucQuCnmN5ZjVwr6w9OHWVikhstWhNknNZQVCoBbfm0lsec7GcUQana9RuTZzwYSUIDMp9DEQXcKXdIfjceR4HAg2cD+MWCUJbcPd3R1PjvdY73MaRMq2hI9DLb04+16+T8oktSQlVEQBKtVEgNNrT8qcdrC0c1g7gjoNNdYbmhAC2ki01AjZ4SebbxSSYL/fz9d8t9sxDFnx3m63GCVLTNdE27anDGBZ7S95eDCJc690TuvISi5ac/nCyyj1TH+G3ihfK1asWDFjJbErPosYyQT2LbIvduIjfLFCCLQx/Omf/wUevfAS//of/X853r5H8h4hEn3b0W83OU5ABOx4wE4TdhrpNj0P+w3Pv/gCw3MPef/3vgYuE7tMFgUpZR9gDDmGKZRAeVJe9o06T2Ab7XCpkEqRUErM3fJK5SXqahFYDjm5kFVTH8O8dFtVzmpLmH2dJe5o2SLGQnldelKrklprbJ977rmzwZu67TINAZgV02XG6zJ71jn3gYgtY8ysiFYSPavEi9SCpcfyFCUmzvJ867VZ1p2eZ+eeD2Yts2Sfbumqr48kBdJo2mpHKL5SEVTxpEpM22YSKk8+2uRBRYlMkif3d9yPRyKGY/K8e7zj9jiQtFw0V51+59PtYcukhqeRFgpurP+uiu1yvyWZQmuNLpFdMjErpqbLz7lQEmX0fG2UbPHRowq51VqTTJpvNPJNmJ+Jr3MOgpif1zoYp5SaSawP+bWQfJjzh6stJAFSa5LSfO5HfvxZ3/O/Sb5hXbFixYoZK4ld8ZmDECKmlN4h/2GrvtgB6D9ie5TWfP5HfpxgR/7tP/lHDHfvoQWkMJKcRGuDTJHxMKBMw8PnHnL14qu8/PoP0XQbnnz7W/zy7X/N3VtvkKKHoJBKkVSe0I7kKttALRso5AtBIxXBGIiRFMIc3VXJmFbn8ltNQqhEtmmamYz7GLDTmL9vGmJpTKqKLJRoqhBpmgZlsme13+bl9nEcT3FScEamanNX0zQIrUgllktrjfPTmf3AWjsTJu99rtyVkpBCydSVhFA9rIIQstpZiY9f2BKWTV7V0lCHvUSJd8q+zdMw19OtWzNJLfmkIQTatp2J2N1hjyhRWJVo1wEkFq1o9YZhvpkQCp8SbcmXFVKRfCD4RHAOOzrc5Li/PzD5gJWSd4573r2/4xAmpOpI4TTkVpMuSOeqbPwQBbaeHyWVOBTymmpK21PCbuJ0E6DEU0kCRQ3Ojy8NcSR8okRreVCaTdfhbVbL+76H4gG200CrDarJSn1NYwjppLRrrRGzqlqU+BTLikAsQ1+ZbCchkE3HT/3lX3iWoa4I/G9CCPedNlyxYsUfL6wkdsVnFQdy3M5XgZ8GNnwEiYWTIvvFn/xp+osd3/iNf8P+8TtIQLeahKK9uGCzu+b6+Ze5ePQiVw+fR5Zlcykku0ePuH/7TSAPWaV0IqI1qkupWNTB8v8SRBK0RhFiJnkhRlL0xBgI0SGFJhXCWknhaE/T4UIIbPCoJvtVlzmuyKyWtiVCalZdw2kALIQwL/83TZOJZWkcWw5fVRJbjyPGmKfIn8qJXaqmSxWxKp35OuRl/2X01dKrOpOtQojrz5qmyRFl1YZQSKyPH8x5XTaBVYuD0Xl/1UZQB9+e9hrX18TcKuUc0udjtcHXFw1tW0i39zkSAEhJ4K3jsB8Ybo/c74/ECEFIbsaRt29v2XtHEAqRRK4SXpDYivq9pwnsh9kOlgQ0FSK7fFgOXPtg25qLAeFFeY16Uqki1lrTtoZmagjeoRcpF7ZkvubnIaCV4nJ7weFwYLDTPEBXbxbqcy2lRNbM5OpzJucgx3CKPIskSILtw+e4evT8s7zXvw38w38PnyErVqz4jGMlsSs+k1iosf8r8BXg58ntXR9LZE3T8tpXfowXX/s8x7sbgpvmFi7T9rT9FtO2CLnoT0gJ1bZ0F1e0TYeWoIRAioQgJw4EKZBCoTkt74tYSAqQhKENAR/BET+gJObp+RyrleQpw7WqoT5FXPD4FLPXVkl8yp7Rtu9ySgInv6coxM5ae6Y+VgsDlNavlAnaNE2FDGbiWQmjCwEbPI0ys2Jcye8y37YpzVV12KopS8/aZJIfXSz5r55UiE89jmqBqHaIqpIuG7hEOs+Rrde4Hk8lx1qdSPBygE015izjthKvcXIQwpw6IIREeE8kx1OZrqXpWrwPCJ0zgVPKUVxu8vNXSAIbI+/c3fLWzWNGQJiGGCJKqvy8iRNxDQvvc+asYlZfK4etpcbz0JbgI121om5bY8YWr62QIilFEgldlPT6fmiapsTB5VSMekNRlXmtcwybVnl47ng8cn9zi24bLi4u8DFwd3dHqtYQBCGcaoRlyj5YFzwKxdwJpw2f/6mfyX7j74xvkwtOVqxYseIMK4ld8VnGnqzELtVYTSazH4pKirrNlm6TbbS1WpSnwvjrzxAC3bRcPP8SqmtRyaO0OF8GTQEhyrCW1igESZwyS1utSSkTQWMTbdtgGoWRep7yDyHgU1YBq4XAeje3bVVUometRSboug5fanVTUdAk50Svbu+9n/231Y8aY06/zQM6YR6+quefj4tCUjPJ2W63CCEYx3EmQ7Wa1jmHWnhmQwgoma/NMAx479ntdrMHuC7lVyW3LuUvUYkXnGwW1YPrvZ8V5qo6L8luvQlYnnNNYfCh5KcaTd/3KNNgvGOw2T5hvUNOE857pNGEkAg2MB5G7DBhJ4/zkcl7Dtbz7s0N79/fQ9MjpCC5VCqGxcnH+pSVAClI8fx76antFgnD+f8ra52viZiHuerAWs2MhewdFlrQ9h1SweQcjBB8bnPDBYzSuGlg22+QUnI8HucbjXrT1XUdUkps8BwOB6TOQ193+/2ZF3qpfodwSo0QIjfpKW346b/2i8+aD7v6YVesWPGheKbb4BUrPo0QQiTygNd/A/wD8qDXQK6n/U6PPbUzLf69HLqp2wE0/Ybnv/hlzPYqU4my1NyoXDNbI7OUyMqjVLlIIYWASAkjBV1r6Ixme7GZSWD+g5+jiZIQBJ9ylqvOPtBK0qrNQBmNMnqeFIfsNXXOnSmVujG0fTf7Qkc7ZXVRQEgR6x13+/s577Xb9CQBk7NY70rm7OkaSKMZ7MQwTUzOzQ1ekNMLhmHgcDgQggMiwU0YJbjoN2ghUQK8nTBKoqXAjgNuGgnOEn0uemhbU6bXIymFPFFPxLlpVmorGa/nu1SWq6I7F0EUojonPZByukC5Dta7mdT3/YZUqm6FEGw3O7YXlyhpsJPHqIZGNdjBcvvkhmmyWOs5DCOj8/gE33jjTd6/u0OYBqlVtqKgCD6rob5EXsXFda3qbIwxt3SVm6aKwCnV4BQHdmqPq8jpB1lFjyRM185lEVGA6fK/h2GYizGsd/NQXr0xmkm+VCgEzk0olZMKqkrbNE3ODi6ZwACbrsNN06zi73a72c5hvcOnyGCzTUEoibm44uELLz7L2/wI/N3VD7tixYoPw6rErvhMQwgxpJR+D/i/lm/9FeAlQPGsN2nfQQ0SOeeJR6+9zvNf+jJf/6V/TNcohv2B7UXPtmmZxrzsHnwZJBOSKLONMhCRKg94uZTzYrXKQ18pBWLMh1mJV524r+qkFrJYBE4kI4U4x1GFEObmrkriZmWzFBTUXNazwHopEYlZvQTmetaqfC7V2vlawExg5wirp2pnK1Gqaug45jKFmvNa9zX7gOOp6GCZAbv8Xv139fFW7+uSsAY/zY1a8/XTGp8iqpCuZTpC27YlBSLgQg7qT1KgVS5BqOez2+2YJocSnrbtCUPiaB2D83ih+Pa773I7HPERghAQYvZDA0LIHD8mOLtBWtoLWFyTp/Fh0VviKSV2GRlWz8/HACHQaIFzniRAqTzMNVqHDRPRO4QEVL5OQuZK5nqdQgiM4/gBK0YgzTW+9Wf15iKVyI78Gso3DzJIlG7o2h5hOl770R9/1qrZbwP/4o/2KbFixYrvV6wkdsVnHkKIY0rp94H/W/nWXwZeAS74Hq02CCHoL6/5/M/+ee6/9XWO73yT64stwXlM16F1Wb7nvH4VmdMIlAAhJUoYKB5OmSDGU6zVclBKiITWkqbR+DLcFCIEX5W43E/vU27+ymQhEJzHOX8iHJxyQesy/VlpAokUA8nmkgEl9Gmoq8Q5CQFusvVK5OX5krSgy9K8EAkpWURfudxkxmJy/SmiVv8rpUQDdpzmFIIloU8p0febmbBX9XB5nSuBXyY0nD0PIUJMuWBiUXhgTD5fezxm8hyKn1Q7dJMLDpSQjKPleDwyjhY7Oe4Ox0xiY+DgHd98523uhoGkxKywgyDJGo1VlvaXDpQ62FW9sSzKDjhPIJifCwqBFdXTvLgOZb8uBnyNYtMKnRRt1+bXlTzdLEXhkeSq2+F44KLvaJTG+wjBl+Gvds4UPrOYFIuLURpBvslrmobkcn6uszY30tWUDt2c2Tv+9C/+zWf1w/4bckPfihUrVnwAK4ld8X0BIcQhpfQHwP8DeAL8LeB1vsdE9rnXXmf3A69jH7+FFAIlFG7ySKkRQqFFQshIlDL7ZskETUiQSudK0ZTQpXZUpFOV67JkoGZ2Sik5jAPWenwZQHq6dcp7T9/kbSn+0qpwppRQCGLyZwUAlZQsyXMlj8sg/KpERn/uy60WClV+7tw0X6NKJusXgJaGcRznQbM6GLZMGHDOobWZj79GbVUSHkLI7WHO0bYtXdedvMRFla7nuCRddZulmpxq4kLJ9s1xUQkhJPIpNdSFyN3dk+zttJ77w5H9MJJMg5Wet+7e5fHxwJgisunQKeLq/kW2BEghz5TXZVrB0+rrBzyznKuxQoiZzAoBYrH98lxDSiXaKhc2iJRyaYOAyTtCcEhisRpk8qpFJMWISIm2bdlutzRNw36/n9XtTPZPkWg1uk1rTV/I6jSV2DShzm5aUkqYbssrX/jCs77t/gchxPS9eP+uWLHi+w8riV3xfQMhxE1K6XeB/658628Br5KLEBr+iGRWAKZtuXzhJd4shOqy72najtF5tFQkDYRc/RmTQKoyFCMVWsuZBKgSmp8W7VR1kjykSPLxbGl+mqbcWrUgh8umLqEVFKIiye1aQgi8czgfMmFZxGNJIc5KCCpCiZw6i28qg1xVFa0DOpCn5isxz+dxKmtYVtOmkHLwffEIL4lzPaZKmqZpYrTTTJq6rsveyjKYVrdbxnNVLFvQ6u9YKtwz+ff5eOtgl/WeJARN1yOkxPuIjzYTvmliGh2Qa1OHyXEMgdEG3t7f8XtvvckhRbyUGCkgnEhbUCInFCh1fp0+Kie2fDvWTFjI+utTvHZJZKUQOBJK5gE2H0NWfWXOYxVanV4nKqvZ9/f3WDvSGoUpyQNzeoVSEPyZjcNoTdCaUMi5jtXiIud2M2MMstw8TZObSx6klASgaVs63fCDP/YTNF33LG+598lK7IoVK1Z8KFYSu+L7Ck8R2TvgzwOvcSKzdcz92T2zp50jpKK7fMD2+nnE8THH41gYSM5BmrlIKk1SKaJjwhhxInQL+0CAUwsSJxJm7ThP7isE2+0W6xxh0b5Va2SXimYlw9VTejwemaaJRp9ilbTOofZVca1RVHBSMNVCRa3LxnN0mBCzjbiqm13XFctAmr9f9xVDgBK92rZtvj7FQ7mMx6rXZ5lTu4yDqoS3DngdiwWg7/uFAhlmUgUnT2+r27mdrB5bjBHnYx6Qk7LcBGQ/6PE44mOOhjrsB5qmJcbczOZDYvKeN5884fff/jZvH/egMsETJVdXxGzViCnhSYiUSIsq3kpiZ2vHUy+19CFhWtU+UF9jtaEMyHFvcXHdSYSUK4pDjAhV1GcbSTKh6g1GyBnBMkEQkU3b0XUdBD9Hr3nv0Yu4M2BWyX257pvNpniL4+x1llIyWT9nxOZBNsFP/8d/41lTCX4FePN7+wmxYsWK7yesJHbF9x0Kkf1t4G3yUMjPkcns5zgR1yWprdlFArBkC8JH7ZvL51/k4rnneO83vsnD7WXJ5cwq3RwNJXPIe0oJn1LJ/IrIkgm6JIiVeEJu/8qlBfZsYKrv+7kmtqpjleSpRcB8FJQBouy1XA4TLdMXUhlWE+V3V5+ks2Ge0K/L6lrreYgKaqnB+TWppKZuXxu3UjmuTbM5K3NwzhHdadipDmvVVq+u686GupSSZzWnlVwt7RUhBEgn9XpJ8LUEL3LjVowRW8hXCHEm7RVzvu4ioSFJgfcB5wODi9zsD7z53ju8u78Fo/CQq1cXajUp4UUkiVw6INN8wZBVga8NWoWaLpMIKj4yG1aIXMsLKCVzCFepe3XOMUyAsyATjVHltSJQUaFLgQdlQHCaJpQ43WAxN5qVGxdOcWvLpAiKymzanCc7OXtWC2xdIJXXV0wC1W159ctfeZa3sQf+vhDi/e/9J8SKFSu+X7CS2BXflxBC3AP3KaVb4GtkMvt5chnCjnNSG8rXoXz9jY/b94NXXuXVH/9pwttvgB2ZnKcxXdlFykNcWiJFQ/CnP/45DeA0zFSOc/7/qg4aY2iaZs5vzaRtoFbCnoidmknwMAwzkXza/6m1RkkxL+9XNTDXuqZ5X0opHB8cnDJa5yl0kQBZi6tm4iwXS8pa56XpqvBCTkbo+z5bIuKJZFUbxDLeqS5LR9LZOe73ezabnF9qS2XtdrudkwhmT6/SM9mtimD1GWevrSZJgXQyT++TiaMo1yvUdi0paEz23bb9lru7e5KQHO3Ie7f3vPHuu7zxznvchbKMLhXgMimlDGvFWDyvkhhCJpzidANTh7Xqdc5NVh/hmy30Ns1DXQKZsjJrEDRCkXAQPS7A4EYiNW83st10PHpwxe7qCtUonJuwNucd9/2GTdNATLSmQSaw/jx1or5G62urXmNFuTFxuSBCJuY8XciKrUIzOIc2ihe++BV0uWH5DrgF/skn8uGxYsWKzwxWErvi+xoLMvse8Ktk5bXjnNRKsvJzA/wlcjbl5qP2adqe61df442mZTgM9NsNSUhESGjh8xJuym1bKWqiKOqlAN1kEhlSKC1hGuvzsJJUkuAt3k2nIaUQkUIwDWPusIUysCQLwWy52HYYMWSirEE27bysbwUcnCUllb2oKRHrINOimYuYCM7TGIW52i0GtDIpHMcj3lukzHWlUgjUHEHFySKRJJXJeVv9lHnCXQpBhHlgrSqldhgxUiGVnknuMAxorXGTnaO5qvJaY7qqOlyPVWs9D2q1bTvvK5dGJHTTkZIgOYfSDY1QSBEQSpGEKhm6Aqk1V9cP8amo1I1he3HBk/sjg4BvvP8ubzx+H5sSWxqCF8TkMCKrjY5EFAItJCZl0q2VJEmRl/bJanUMOU0CQKgTsfXVasAppcAoxRQcSiqSUqSY1VsdoVeSXihC8kQcUcGYJqL3dKolhkCrc3SakPDgwRVvvPkNLnZ9jmCLAWLiardDJombPEpKIhElJSF4Qiy+WSnZ7/fEGPPz4HMl8jS5QtgV1npiYI4oG49Htl3DwY58/k/+zLNaCX4V+J1P+vNjxYoVn26sJHbFHwsIIUZgBEgpCXJsTyW1mswVFPAnyQMlm4/YD1JJLl58he65FxHeM40TpmmyogcgchasRJGkRHI+gV7joOpgTFVQl5P2CjHX1lbPbGv60zJ9EvR9btidpmnRekVZmo9nuaoinJS1uXZ2cUxVfX16GT6XLViMUcQoCcExTRGzaMVqmoZgXfFYRo7H40w86+8/HA4E7+eK3+p5rQNHy2zcZTpBtSZIcRrMqtewqq/L2LA8xBZm727ddlanhTplnYaA1Iq+MdwfBmRRhXVjiEngXU5SCCkiZYke4+RfbqUmJZlVVwRTsjgvEEYjlMD5iRhErgROAa0NMsHoLMM45KEnxHwtkGIeAKvPRX1dyBwskG84stSLkoJeGR52LRdKI5omx6ylCEWVvtxs2fbd7C1WSnF384Tr62um4cima3GTZRoGjkKiNtA2JzW773uklozDxDRNc+NaXQE4tasJlJRo06BIjDGXZuTnJhG8Z3P5kJ/4c3/hWUisJVsJbj7pz40VK1Z8urGS2BV/7FCavp4mtQAPgG8C7wA/8DF7oN3uePVn/jy/+ff+P2itiMFDKhmxKIQUSBVythbkaKMY8lBN8bBW1GX008R5ic5Kkeg8o7NIeQqbz01JJ0uA957r3eXZYFMIbt5n13WkUktbY6eqAvt0SUElePWYvM8WgKbZzmooUHy7uakrhICIedCsqo1a6Hn7YRgQscRulXOuZHy5NF0tCWdpDYXUh7LMXo9vaYuIMXJxcZH/P5xivBbPd1Z1gycVYl+Pod5E9D05E9a0IEUhYP5kQ5CaB7tLbEw83G5JU2ASnhQgCYkl8mQ8cOtHpARhDFPN0lUaH4EYiDFBDKjFcxBSIsaASGJu3sqvo3KtgCQCRgiMVhAjIsAWxZVueLTZ8tzFDlN82NM0MI6Wvmm5vnxAt2nZPbzkhZee53Z/h3MTIubYsr7vudhsESHmdI1FgoKg+KrLc1JtGU3TzJFn9fVzcbFhGHKiRPb5svAmaxKCR6++zma3e5a36HvAP/qkPydWrFjx6cdKYlf8sUchtaSURuDfAf8S+GHy4NeHbZ8bvH7oR9i99DJPfu83MWUKPpNBhYLssyyDQygI4XzAKoQAhczOgzI1h7MQukpoqrdTSplJaRJnpK9uUxubajJA9cHa6UTsalVrVTKralnJ4fJnS8WzaZqzlIDa5hRj5KI/CdeVaMYYZ/Vu2/VnyuJSyauKblX1lg1cJ1/muZ902bxVc0rr9yvRryQ9UEhZPBUd1Oslyvle6jZvh8SniETQGkOjmtLYdcnF5UNePA7Yg+XN9i1unuyxx4EkJE4kVHJMfuQwWVSyGKVzQUW0CMBbj0gyu0KEyobWmEjR0xpDFDHbqmOAVO5/kkCmRIgRhcBEEFHQyYYr0/Kg7Xi+3/Go36FFpFWS2G0Ze4cxht3FA2TX8OoPvMYXfugLfPVrX+XJzXuM4xGjBG5ySGNodf5qSnFFjBGpczxXKL7funpQXz9LtTs/3yXlQmkSixskrRC65Ss/9x89a8HB75KbulasWLHiY7GS2BUrTpiAN4DfJg+WbD9qQyEE3e6SF37kT3DzB7+DTB4jW0RjkELPhA3vcG4iSXFGAGYCWkhYJXKpKIszYWgbLtqGyXp88MSYfYdKFXIpMs2tYfNt186PzYSO2RtarQRa65mQVnXNe/+BJfr6PWPMnP8aaolAIShN07DZbOi7flaFl4UDQI5fEqeJ9WUJgrUWYwyTdySXW7aW16hit9udWS7q+SwHy+CDJLZuN6cNFLWzkvU8JZWzXEOKQEBrRat7KJWqUhvapuPB9UMeXCbuXnvCle54vHnCuD/kkSuteGIv2bz7Nr//znvcWdDaI4ApQCPzJTMSUILJBVwETfbITs4hKJYBSokBRQkFLjYtMkl0ABVTVmDbnkdNz3XT8cC0tEKwbZusksdElILu4orm6oLnHr3ACy+/wmAHlJYoEpM9oJXILW+TpW86mqbBe5tTBrTGSEMIlIFCTQjurDWt2j2Ox2NpVsvXbRhtft3nlg82j57nx//izz+LlcCRbT77T/rDYMWKFZ9+rCR2xYoCIURIKd0Avw58A3iBj3mPCKl48Sd+mrf+3T/HvvkNpAKlNaK0d0nylDtEUvE7Pq1yRnEiZcsGrKp0QV5O7qTOTVAunLJca6JAmfbPxPWkdGUf5CnHtaIqqFWprOR2Vi6Lyll/f1VpK2GsJHDpiV1W2hpjCvHN8UtN0xCdn5MVlhaGSoJIJ0W4Wi3qNUopzb7fZWFDJftwsmRUElv/ba0lkGbPqSgxwXPla4xEFxFClagqhdaGpumQ1XIhFfjANI4oaXh4eUkvNC9cXDHeHwjecT8eeU5esOt7CI6vv38LRqD6nsE6ZBSMg0WkiFG61AGDUgYbLI8ePT8v01d7Rb35mJyl7Tr85PG3B+L9wEPT8dC0bIWkj5JLbbhoGnZNl6+9VIwpYPotFw8ecnl5iVYNCsXldoe1A22zYzgeETFhZI5vi8Hn14wUSKNBCoZpJATQ4nRzME3TfB1HZ/PrNcVcrsDJwhERBCF49LkfZHt9/Sxvwyfklq7DJ/15sGLFik8/VhK7YsU57oDfA/4h8CXg+Y/buL9+yEs/9tN8461vkko8U0gRiUQqRZJVTZQzQRJCoEUkioglEiMlkighEdn/qhSkvDzrYw70J/g5uijmloSTuiuy6liX46EStUzguqafidE0TdgSZaW0KBaF/oy41kEgKDmupjkrIqg/995zPB6JztN13Vx6ILVCy0xkKX7YSoKttSfS3uRtNotjruS1aRqapsFay36/n8lx3W5JZsdxzOQ7irPoMSEEbdNktTkGSstvTgYIASU1psmRZvl6yRyJ5Szeg5QaqQyN7gjWofuGq92OXjaYJOiTIEwjO2OIMvHig0c82F3w8rtvEbYt3cNHTCEyHI6MhyMgaBpD23ZsdltA8PjmMV3bz1W61VpS48Oqz9QeJsaocF7wQHdcmQbtI8o5jE9c9A0dCp0kTb+lV+DbXGrxpc9/Eb3p6Jqe3faCd473RDzD/oDREqMVx8OBKUHbN7RlGKw+38MwoJRiozZIpVGqKPPFqtF1HS54RlsHBEtVcAKb4KUf+sqzphJ8C/iNT/pDYMWKFZ8NrCR2xYoFhBC2qLH/DPgF8rCX/ohtkVrz4k/8LG/+q/+FcPuE5D1RJkRpUhIp/6GnEMBl8UBFSonNZlPqWeNJgV20cFlrOU4jIWRCmBDz0n0muKfHNU2DVDlxYJryNPnkYbvd0jTNWTOWkGnOZq0DUdVuUI8he1xPHtyqjlZSPI4jhDxc1TTNrAx3XZdJq7ck5+fHDMPAOI5sNhu23W5e7q++y3Eczzy6tZK2Eruq2NY83Rq3JaVEoOi6brZKALMaPEwjwae5DrVeq+vr63KcDjd5JpdtETEljGlpGoGNlhQF/XZHv91CFJjDEdG2OavVCEY7IEyDefgSIQnuDXC54+g8u7aF6+us8GqBUobL6x0Cxbbr5ufgpFaDS4koFVEqfIr5NSU1jVLsTMNWGfAT0ns6rbhoOhopaduOB8+/QOo7jhLk1QUiSZ689z6NbnkyOhpteO+dd7P3Vxu2mx5SvolSJiut9omj37RETisDVRF3RYmVJvuXj+MwlyBAbjWrNxHd7oov/+zPPcvbLwK/RE4HWbFixYrviJXErljxQdwBvwn8a+ArwNVHbyrorh/y8Mt/grd/6R8TC4lVOsdrVapaq0htiGdL5lVxrOQAWRTExGk4ylnG0aJNQwh5u0hWQSvZnKbpzAuqtSwDXgatwQg1E8C+7zkej9zc3HCx28x2AGAmitbaorgKjFFz6cLSv+ucI/mAFhIbPYfDYR4Ag1JnKrMil8rvr2kEgYTQp2n4agNQSuWkgVIacBiOxBTx/lRnuiTYlVTPebdJniUoNE0DSuJcoG16oir+36JgS2AaMgGz3iNSQiuFabu5rSunCniEySpz23f0/RaF4O27A0ZKxOh5cfMAFzxNY7APEl+7fZebuz1RKTptiMkhUqBVDUpJpuMBkuTq8oK7uzuMlnRtVpu9DWxagzsMtELSKMXgjsSU0LrlwrRcNC1JSHRKbLoebRR906G0ASn4wpe+yC2BBy+/hAuRm8kRJkt0nmAdD68fMI4jqcjTFxcXTNPEfn9H07UMwwAisru6wkU7q+nW2mKTOcW71efB+0jf9wy391ltN5rNZsOD5198FiX2XeDvCSGGT/oDYMWKFZ8NrCR2xYqnUNTYx2RLwc8BP8nHvFekbnjhx36ad37tX5BcyBmvhZiF6PExIEqe6HIZfPkFzAqjlJIU4rzsLoRAFp9kjbbyLs7LzuM40hgzR2i5EuavtZ4VTFyYh7ggk+eLiwuMUaW567SUXzNaM6HNUV26fA9OS/mbzYboPPv9fh68qjmied9mVlmVOOXDKqVoUjcrujVZoB6fMQbdmPl7WdXdzCT4w3yx9ZgriV2SckqOafWY5pzd3C4VFrFSNbdXUoIDOCVJbLYbktT46Gibnr7fIiKEw0S4uUcLi0lAkLQJrnXP85trgnBMGoKbsOORzeYCLRVKiqL0ZgIoQkRpwAdiyv8NKRHthIgR6SVYT5MEjdZIAclZJJFN35FiyAp0EgQSLnh8AmMatG6IbmS6P+COI51WtJdXXOw6Dod73nnn7fnmwhhD07XoVnO9uULqfP2q4l2veVW5qzqrm5yCoVIhuZxi2y4fvUDbdzwDfo9847hixYoVz4SVxK5Y8eHYA78F/Cvgy8DFh21U1aXdS6/Rv/ADHN74eh7aEYlI7o3Pi7QnkliJ0RJ1MGlOFiBhvSOR81cDYh6mySQtNyalBCFEVKORUs2+3Ep+6/6UbgA/k9xKJmOA4ThlX6Qxs6dVKTETxtyElUm1IjdmVd8tJRC/LvsDp8KG4pvNloMsrtUCA2BWdKuqm5MA8lfdR12irqr0shBhGQ023xCUVIWq7M7ENWSvsCrL50IIos8FCMG5fA2VgvJ7hChpDUpBIfNRBvxd9s1eXF5xcXGBeOlFbqaQ4/mtpxG5JKGVgp1qeDJO+JIhPOz3bNseI0AJ8DHSacXNcMDbia4xpOBJMSCCwFmbG8ukRIWAdllBboxBpnzNGqAzDRcXFwzDwPXukn63IyrD/X7P7sUXuX9yw0W/IY0WnKVBcnTZb13TJYQQ+Oiw/qSsCiEIrqRUoEr+cY2Ai2UQTS0qh/VcgZwERCISzas/8mOcUm8/EqG83+4/6Tf+ihUrPjt4ptC+FSv+uEEI4YG3yGrsW99pe7PZ8uKP/2wOTEoBQUSmnEqgtT5TsZZWgroMfsqYFTOBqySykrhaLLBMOKjkr5LWtm3n/x/HcS4UgEwaK+HMftlp9pIup+IrwV4qlPUcyrVZtHmdYrCapqHv+1n9XZ7vXOZQzq8qrAB939M0zUxwq92iJjBsNps5QWGZcFCvTbUX1HOqBHaZttBqQ9+083kqIc+U2fp9gOB8/pqV7YlhOEAMuOnA/v6W/c0dEsHDh89xef2AkCDEEmGmFC2GjdC0LtEFQbKe4/0eN405ASAmUsge6GF/YNwfSC4rstHnCDM3jPhxIg4T9v6IsB4VQSeBJCIlGKnQUuGn7Cke7MRgJ15//XWO+yPf/uabjLdHVEh0UtNLw6ZpMAKGwx7vHduLnskOPHnyhCdPnmCt5XA4sN/vmQaLkgatmjMFtr4W6mtzmU08OTsnO7QXF/zQn3omP+wN8L+SY+5WrFix4pmwKrErVnw0DuTM2F8GfhAwH7WhlIrrz/8QstkQDjeIGEhSEKUmlSXtFOMZwaqkrpK2JRlYFg2EEBAyT4k3Ji/LepeJ6Tz8leKZNYFU6klFKSbwp6GvSkYqIe66jr7vGMeRaRowxuRsV5Vjlw6HAxfbLRf9ZvbMVjW3ZoReX1/PSlwll1prbPDEoho3TTM/ptbATtOEEILt7mK2T9RrsyS2daCtkuJlSkIl2vm6LZqwioc3Ey2NSOAL0U1FhTXl/LebTTkvX57Pcu1jxHoP0oGISNFAGpn8Lbc2crW5xLQ9UWmcyCQ0+ISS0KHYRPA+YffHnFBwHAjW0ShNioFpGLm7uWU8DriLbbYaIEhEjod7xuNARCIGi7QBhCakhCjH3UWJFILDfk+rNEjF7voRw35gOhyJ0jEheXccCMOIHwdkJ7nYbLFpwsUJa0eEFpjOzGUaIQRiKjdcKZHIr0sf7NkNT9u2WX2dxg/cWHjv6a+vuX7xpWfxw94AvyWEiN9pwxUrVqyoWEnsihUfDQu8TW7wqkkFH4AAkhBsHzzi4sVXuPvtdxDBk5TGa4hJoCPwVJFBJWXLrNOlL7UuoTvncNHOqtdy6l6ITNYuthdzisGyTCDEQtaEnoljtTQs0xKWVa2VIC6nzZMPpPL9Oqle1dG2befjr2RytjQoSbfdIHyciWU9P8iDQTFGTNucHR+c58guFdzq31RKzZ7Mkzp7IrDVm2mMYRrG+fveexSZJHddx2azwVpbrkHet26zB3RyFklishZnJzZ6Q4vGu8Tj24GhO9CbjhdefZnh9h775J4YHEYouiDpguBuHJgOB0SpcA3Ok5o86DfZgfE4nKwm8UQYx8ORFLIlpY0CJRTV20shkK0H4SPKwOF+z9WjR1xdXfGbv/4bPHj4PI8eXXK8uefm7T2qkcTgmLxF9hLTKZLU2GMe5MtDcMzPj0yS6D23t7ezEuuDnZ8T7z1ta+YVBRdyUUTXdfONRLe5QOln+jNzAP7gk37Dr1ix4rOFlcSuWPERKOUHB+Dfkqswf5oPs+CUuljddbz2c3+J3/r6V4njAZQgxaZUhiZIgpQEmYhUj2yaW7hi5Oz/85J8IKWIc5nE1gaqSnC1VjMhzeqqn+0GIQR8yISyKUNWy/auM1XW5312XTfbASpZ7Pue4X4/+1wraa0WhouLi9Mglc46oi9Kb6NygL+PJz/vMomgWgGOx+OsvC7V6KrMen9Sj+u512zYSsqB+f/rjUEl00opGqVBG2hBL3y0dpqyFWEcy/T/KdpLJMoNgc/JE1GBGjBGIwPY40Sz69heXWVv73FEBYMCjM/5sfdOEZ2fh+j2+31+LkiM40Qq55RCmPNr3TgxHgeUUGghuGgMwgUckSBOjWOabC8gJq52l1z0G2IZxGuQpMFz3W+YDncgA1okYoLD/oCKmvYi59I+efIEpTUp5BuaTYkpq01ttJJu06O9RgrNaI8cj0dcsPPrJJabnurv7rqOy+dfeNZ82HfIRHbFihUrnhkriV2x4uMxkdu7/gnwo8DmozYUUvHcV36cB1/5Sd7/t7+UyZYSJJdJbpICEQVRACQoNoDZCjC5eUhm2Y5Vva5SSsbBzlmvh8MByAT2/njIS/xCovWpajbETGpHZ7PKV0gdxFlRzWS4gbl4IcwkGMAVRbMG8U/TlCfSF/WwZpGOkGQenvIqL41H59kfDzTazEpr/b3V0lCV1arg5aG1NJcpiBLRNTeAFRK79AFn721WqSshttYyTRNt02R/cmmdats2+06LslvzbVMZFiNEfCze5JQ9vSkEXLTc393xYNew7S852kiwE2/d3BB94O7+FuEjgogdHT2GjTIoH2mlwQ0Te3GLtxalFMdxIjiPRBBGi+NIcJ7pOOCPR7bdlgZJIyDFiEiRlCQbqemVYSskW6VplcaPlt3LW3rd8NL1I1CSy+0GpQUboXhyd4NtInJnmKYRe++50pfYYeSFR89xnEbu90dc8KAVzjpSGXgb7cTl9RU0oITEBY+QY3mdihxPpiQIhZSJVDy6Vy+++qzvs7fIKx8rVqxY8cxYB7tWrPh4eHIV5q8Btx+1UVWbdNvxuT//CzQPXkAKTaskjQbTKJSRSCMRCiKBkPz8ZZqGQGLyjiRPflBJThCoJK02XlnvaboOpRsSEh8STdfiU+TucCAK2OwuMG1fVFZB25rZaypRHO6PpACbbss0OqTUNLpFJAlRQBQ5XSElpNQQBcf9AFHQ6JboExKFUQ1aGoxqMKpBlse3ukXLTHrbtiUSkFrQbVqSgNFOJAFN1y58wQalDNPkGEc7q9K6aRitnVXn/d09x/0BichxZOPEcX/ATgNK5ustFaDyv0PyTG7EJYdLjsN0wEeHaTVNl48xpYREEkI8y8A1yhCTwkfJ/nDMBM9NPH7/XaQdsE8e0wrBD3/+i/zcn/5ZtG447CdEUDCBHOHl6xd50O0wHoabPccn99w9vmV/c4MRguQch5sbhts7xGiRx4kXui3PtR2vbHfspOZRv+GBaXl5s+P5pueBbHmu39EkhXTQy5YmSKRNKBLPP3yISyOT3dOkRAfE6Bn8iNw0CJOvYwOYJPDDBErSXFyQuhYnBKMtA24kvvHGt9jvjwyjIwmNbHqG4Yg0ErRAmAahslK76zv8NHL50ivP8h5L5BvF8Em/2VesWPHZwqrErljx8QjACHwN+H3gJT4iL6g2QV3/wOe5/MJXePOX/yk7o7HTQNv2eYhLSURI+KJEAoiquJYl9rrMXYdkhJTcD/ezYum9Z6oVs6qZfasxQCTNhQlV0e37PicmiGxlqEv5wMLb2KJVg5R1qOmUkjCOI73uZs9r9fICs1qstZ69utXOkGJe0u/bLhNIl5XXWk9bh3/GcZyPp+5jaQmoBLdGc8UY54rWtm3xPmfVtm1L3/eEENjv95QDzN5MYxjHER8CTduipMxDZ2W/l5eXHI9HptESfcCW6zJNE5N3jDErwslGjOrQG4UMkmE4YFRHmEbscGTTXnC1u+Rwc89hvydMlq1quSaiGoHTW4bpiI2BECJdamhpmMaBbd+wi4pOajZXz9EqjRESGRKxSXTaIFJOOtg2m1yg4BPb3Yau6/I16LK/9/7+jvv7e2LK/t9WKEKw+M5zdz9ykJYgI22CbdsQnEeJnE98b48EAT56tBBI3SBFVtnff/KEBw+eQ5uWEGIprAigctVwDAk/eWIaEX3Po1dfe5b32JGcEeufZeMVK1asqFhJ7IoVHwMhREopOeAN4H8Cfhh4+HGPUabhlZ/5c7zz1V/FOcum63HhlDYwk1chkLIsydvsL0UIYhlgEkIghT6L3opw1pq19HwuiWWMiRAcQuRq0BgSPgFEkgBRybIQhJQw5f9jTPNxKqWISZV9QkoB709B9k1jaFtTFFSB96l4Y0+FBDVBwA++RGR1Z5mydQCtqsx1eb8q27UJSqSELteutkQZYxAx4ScLIZJ8IJTrZF0ecNtsNvR9f9pnyZIlUYaoIj66ovyO2Cl7cKVWi/NssPaU/jBZS7qUSG3wU6BVCmctv/e1r6FocMNIsI5o87k8uLiAIbJLoBqNlVtGOxGK8GgazcX1q2z7DZ3UyJhohECFRHAOLyKuk4QEu82WYB0iCrquIwlFv93QXWwJtw2v/vCXuL+9ZXKW/fs3yJg9sFOrsCbiguf2cMfUJtq+wccIUtH2ChqNnyx3dpi9y6qcsw+evu9xU7a7WBcYx5HtVpKSYJosCZMV/ZQwWtF0Oy4ePnqWt9mBrMSuyQQrVqz4Q2ElsStWfGeMwHvAPwL+GvBn+Q5q7NXnPs/uldd5/NVfpWs0IHPU1mI7YPaBetw8rBNjPPtrXtXCGCOlIfTUWhXFWQHAcsApE8XEkBIiJuTy95f9LIfEyo7Pvo8wOfJJnIaylukA9XfVZf4QwqysbjabufkrxliKFE7qK5y8q/UxtQK1HlP15VaSWxMKjMrXI9hTzus4jiRn2Ww2XLa7XBZRh7eKB1WSvbUJkY8tUZIJTuS5qtNzXJk81QQHBPfjkc3xyKbZYMcJKRo2uuX25gY/3GDQqAgPrx/kGwwB16JjP1p0ytaIKDtiqdbVRmKkRgfFVrdoJfGTRcaAMT1RKpyW3A9HWqHQ25bhMCK04uLyiiDgjffexjnHt997h8Pjm5x44DwGxeQsXmkmDYOzHMYB0TQ5gcHafGMUAimJs8IIZy1+KIr/pmG73RGagPeBYbRobUgxP9+byyu0ahmmMbe76URSGm2aZxnscsCNECJ90m/0FStWfLawktgVK74DhBDxD6PGCsB0Pa///C9y963fwR7u0U3/1FATpHQihsrkt2Kz2IfUGpIkRTHHTQlKrFRJGBBK0LYN3kdSAmLJRxV+juCy1mGkInIiuSlkUmayf4AYApAVWalPzV8ySRLMqQBt3+UlfyFwwePKkjyy7FeQ/y1FaW3KA2xaN8RIXtIvSQbVBpGHxBq0NoA/sxFURTiFWHrPyleI2MnOQ2hwigbruq4kGnjG48A0jPPNQtO0Z9FmMcS5bSoTuEzgESerhYsBN2U/bpJwPxzR+zvCVuQkgHFgmPY0QXLR9STrCVrz/HPPYb3j5vETNtJgnUAJ2DQNUYHznkhCo1EovHUEk9CNRHYNDy6v6Dctt0/uaFxkd7XFRs/uwTUPHmnG6OkvL3He80hp9vf3fP23fhc3Tlw1LVoqYkyM3jGNllHAPSNHO2FsJu/Ke0Y7MQ2WKTiOZThPlXYzVL5ZMqY93VCkhFCS7e6C8fiEEANqcASTFXapFbqVXLzwMtp8ZLTyEm+T0wlWrFix4g+FlcSuWPFsqGrs/w/4j4C/AqgP3bIQxede/yEefvFHOfzOrzHaQCTORDbHacWZ0PV9f1ZWMKuBMS+P1+ip4OOskiqlqNLVMoM12w5OWbNVKV0iiUxkq8KY/1sKGKi+3IgsymRVeWsKQbU71BawqnZWlRZgGAaGYfhAicPT/tZcnNDMx16vybLNbJlckFIiOj8rp1WFrekJbpwYnZ3V1OovriSsJhGM45jbsfIVmcsOpJSYtpmPL7hClpWB6PEicXATbXA0RhMIuOHIOHp2uqeRTU5i8AGR8u8bhpzmYJRGS0Mk4fGImGhlg9IaGSVKaISQXFxsefGVl5FScvPkjpeef4kHDx7w9uP36K92bC6v+INvv8mwP5BS4vmLKzhOvP3tN2mkYgwRO4w5Y1gGjiEQTcsxTTnay1ri7S29VkSfa2T344ArqvmcVdzk6z9NE8M00ukW03SEdHruNpuevt+SpEKoBkHCOs/uc68h5DPNDn+NjxmaXLFixYqPwkpiV6x4BhQ1dgC+Sa6i/VPAxxr+VNPw+l/4Rf7Fb/0qwXkECqRASI0qWZ/zknVBJOeH+oU3VEqJSg12mpicLV7TUnzgc1C9MXnAKRZlMkbwIRVRVBMSM5nLVoQEBEIC60POTV2QyBhc8YNm761zuaK2LrdXUrlsHJvbw8q/K4nMHtMGIbKlIgmBj0Bp4RLKYBcE1xeyKbVGFBJeSa9C4IOfFWyRwE0Wicj/LuS0NoqJorDqRc0s5MfUDNpllBlSEDlFbx2nkeM44ENCEBiniSl4wnBESM2D/hLhJx5c7rg7vMfoR6TKKQuH+1s8eX+TSIhNB1oTVP6dRjBf0xeffwFp8nUchgPBOr79rTcYhoF3330XjWF0nsM4QNOQ1EBykSYKGqm5feNt7t99D20DuslNa2NweBUIjWJMHh8n9u6I6CUIwTRNdHrDaKecU0xCqDycNQ4DjdIIJPtxBK3RxiBCou07fIwcxoGUBEqZ7JUNlq7ryNZuwYtf+KFnfXt9jTVea8WKFd8FVhK7YsUzQghhU0pPyJmx/wc+hsRmsgcPXvsir/3cX+Wr/+Dv5+gnZWZFsRLUqpJW0hpjxHOqhdVaczwcT0vgMRJjJl1xQRydc8ji9awkzy+su5UwV/IZFv7H3dU10zTgYyROU26dMgZRGplCSDg3zUv2TZO9jvf39wzDwGazmZfpKzGr2bYxRlRZjq4kclm5W8+9KrDLoTCtNaP3OYaqnKcvxN17DzExjiMPHjzI34vZ9rDdbnPjls/Zu43Ss8XgcDgQnJ+rcOuwWFw0g1lrmbxbDJpJfIpM3hFEIgTL/bhn07REB2k/IFJAKcN+v6dpGtq2R2qDczanJDRZoXbB05kOLRsmZxmt425/4OrhFU3XobtcJnGcjjRXO37iB1/jvW+/zze+/QZN0xAk3H39D3DjxK7fcu89KsJ0t2ez2TB5S0gCWkOSkjFOxFYz4TjYkX67QTWaEHKSxGCPbPqOFoFsW0brmGxuOFMil2iYkowxDEe6orhLJdGq4XAYuH6wZbLHfFMg8g3IxcPnnuVt5cl2gjWZYMWKFX9orCR2xYo/HCbgd4D/FvgiH+eNFQKpNa//hV/gW7/6r7h75y26TZtVxRjp+36RVhAzuVpYB6x3HMchlxa4THCFzMR3u7soS823M2lsygCZCx7vyrBV4bBJQPWTulAGmLLzlpQSh+FIazRGKdw0zSQw+MToj4X4dsRI8a82ZThLFpW0+kwFbdvTNM1MEL33mTAXEj2V/XddxzAM83J1HfbabDaLMgfmVq9hGEhl+b/m3YqU93d3d5ftDm0zD4VZawmkef+ZkGYyr6WaLRDee7Rpy2Mck8/DYiFFQor4GBnthI2nc3AxkKaRu8OeF7YPwAVQkuM0kFKg1T2jGwluyjYGHwmT5eLBg2yxEBIXPVobXnrlFY5uQrQtD195mWE6cjfc8+Cla7rths40DBGGEBjvD4T3b3H7ETeM3N4c0ULSbnJs2e3xDktEbFokiZBAGM0YLSOebrspzWcWpQT3x4G+6TiOEy4EHr/zDqZpaI3BW0e7UbR9T9N1xBjZbrckkbjYbbJ67QQh5JuOxhhSjJiuRW42XL/8Cs/Q1fUG8O9YM2JXrFjxXWAlsStW/CFQbAV3ZDX2d/kOcVsA2wfP8SN//T/jn/+//u88fvyYR48esem6OR4rt16FD3hi6xK3UBKFxCiNaZuFrzbOqujxeDxtv1jin6ZMoqrHsyYK1CV0KQRC5CYw7z1GSVIh0lIkosyDZU1/8ojW2Ktlbu3hcKDrOjabzdmEf62pDSkxDANaa7bb7VyhW1u3qvL6dH1sVWX3+30+XyHPvLEpZA9uzYuN5ZpWW0SgpCyEfC2EyI1fUuQ4L+dctnCkMsSkFTIo/BgyaU4pD74lAcXqkfcdCdFxEIobJNug0SnhY0QSOdoj3kds8TBLB7vtluFwRAiBHSe2uwuM0uzv7hhcVjedDyQJ792+zxe+9Hmee/QCv/LLv8yDzRVd3xNGy/HunuHuHlzISrCC999/HxqNMBpUIKpEUgJP4s4O3IWRUQWCjEQVkFoiZX4tRAHKGJIQ+fmTEh8ykW+MousbhnHi8vqSvm0YreN4PGKMoVMamQSH+yO7qwtSihyPe37gh3+Udnsx+8M/Br8F/MaaTLBixYrvBiuJXbHiDw9LVmP/Ns+gxiIlr/zkn+a1n/yXvPPbv44Lnie3tzRNQyrT4DnLlNmjuZyy77oOb09L8SmlXAm68J3W4oA6MBZKZJKUEiQEF8tjs/p6ioxKSAl910EsEVre42NAS0VrDGazodWl1SomlDakKHKkVUpsN7szEuqcw1fFFIUUkr7vcC7MlbJCCKy19H0489nW46qEvNbLGiFnRdaHQCoktRY6NCKrzTHkc69FBsYYjDE0nZ7PvyrEdtEANgwDgZyTG1JWqpXJGbhCSVQMhAgygCDlzNwYOI4jKkqa/gqpIRnompbRBkY3MgwTRipMVKjmErvPg241MWK3u8re1KAwg+edr32Dy+tLPvfgIbe/+yY3v/9tOmOYxj27zZaHF5c8fv993hgnjuGAVgmlEjSaIEC1hr5pmWTCqcgUHHs/MohAlBHRSNrGoJREylORxDROSK3oN6VVObX0bUeK2bqR0ukGxrmJyedrZIFgHappIabckoZi++DRs0RrATwm58SuWLFixR8aK4ldseIPCSFEKGrsPwb+BvDz8PErp6br+eJf/kW+8dV/R1e8n957VGnUqpPz9Q9/Ddk3xrDZbAhNnFuoUkokfxqgCiHQtm0hfgCSqE45tMBcpiAXObAnwpjVTRcjpEgiq3N1OV2nNC/HL1MGqhpX1dZ6Tsv0gtMg2enyzCpwKSMQIhPipcJcywyq/1U1DaY8DpgJcyXP1XoQY8yRWOVY6/lW4lrtD/Uc8kWSCA2pRIaNxfOZCjH2PiKNRnmQCVQ6DYMlAS46nIpoadBCoUyL34/ECWzIqnXfG4ZxZPQT494iEhynkc/94OtcX1/zzrff4jAOvHB1mYsWSt3u+2+/y3a34f33n/Dw+ed49NxzNJue7sEl9A2brseUOKz3b94HmVCdJgXL3o8co2MUnnt7REtDJ1qEOCULTCmBEHif7S0Iyd3dHVIIHj58gBINox2yj1ZJhEzZ7hES3kdiSvkmK8GTJ0/YXHS0fcPm0TP5YSFHa7lP+j29YsWKzyZWErtixXcHS24Z+rvATwAf+Ve7FiA8+sEv8aWf/Yt8+1d+CT8N+BiICJJzmDJsRZQ5u9TlgSSRwCmLc4EYE1qf6llTSnkpuNF5ah0w0mCMRqRqF8jqZmMymctpAFmJjQJydZVgcpYUIlormiarwH6yWJun+O3ockNUSuyHfYnbahBac38cuDsc6fvshZWmye1ZMSJimlMD6tDUMAwzidRa59zbaZiJbiWndQAtDxgJdGNKNq6cyw6iy0psVaQDCRFLaUTxw/oYuLm/O+WdUq+bmUn5NGUlsqrBk7M571RrpMqDbTmCrMR6KU2UCiUlCMXoLBholaI1Em8kwQikkahGYZNjPE75eFQkIrF43njyHs5IbK8JwtC/8BzH6cj98Ui360hjzxvvv894c8d+v+et996FRnNwObJLNSKfSwp4EjEGpLPcTAceuwOjTIzSM0ZPmyS6WC5SiCQCsgzqee8RUs15vpMdGIZu9i6bpkVIMEaQpGAcHd5bWtOy3W6ZJsd+sCQiQgle/PwXn+U95ICvsg51rVix4rvESmJXrPguUNTYW+B/Bv4M8J/zHd5Pqmn4kb/6n/D467/D4Y07dpst2z4PyIQS9xTjuTWwNmClVCf/w6xa1gzYM+VTacCflvNLnFMoiuBHLfGmlKOgUkr4lAgxE8IUYx4HW6ilSqnSvqVn5RRONgY4JSDU4Slj1OyDrTgtT2cPa9M08z7r96vnt5J857JX04v8M1MU2a7rsle1NH5Voj5bDlIm8Nba2W/btu2ctZsV1YBzniTAtA26JDCEkAixDMohSFKhpZoLHgCOLtsRgmiQYUQoAY2mvdjQ6gY3TtDkOLHd5QUhCfp+y7v7x+z9xOXlJdfPPeQYHGOMiNbw9vvv8+T2CVpLdg+u83lohWgNTSMRUpKMIgh459vvZlJqJON05PHxjnvhcQ3YGFGtRhpJEvk1RUw0rWGz3dL3Pff7oaj5gt1uxzjIhd1CgFRoLXE+MjrL6ASqqOzVbrDbXaB1RHUdVy+8/CxvoxuyLWf1w65YseK7wkpiV6z4LlEit94kJxX8OeC1j9mWlGBz/ZAf/mv/Kb/yd/6fDId9JhNNk+u74qmpqmbIZpVyom3zxL4rIf5a67yEX5a+m6bYEJDnUVbIQnYThEjSues0xkCIp4HwWOwFo7OE6LKCSqJREiUlTdPOw1W73Y7NZsPxeMR7PycZVJJZbQ7L+KwQ0lyU8HQ2qzEGrfMyf43BglOdrRACW2wKoZBYkXKKQY3xClOuYTWl0cwV8upCgBjZ9puyzzST2BjjHMZ/cXHB7f4+E3USyuhTTFlMKGlO9gXy8cfSSDaT5+BBSsIY2MoeqSRt32fLhVHZohEiomnYNB273RUXIXF9fc04WlJKc1nDk5sb3DjSyUzqJxmJjaTtDKZpSN6RpEAXHh2UAKWzdcBNHEVgxBGixEtIZK9vCAFSQAk5Pw8Au90OKSX7u0NWaVNimmx5zQWkNkjZgIhl4M7QNR0ag3P5OjXKlNcR6KZ9lrfQkeyJXUnsihUrviusJHbFij8aDsC/IhPZ/xPQf9SGQghQild+9Kd45yf+HW/+m3+GNpLgptxbH8GnWhqQ80SnacDbwDhaui7v2ntPCif/bN/3jOOEFhKtcwVtcHlwyXmL9xKRIEqNIC/vV9UVMn9WSmVTr5AkV0oIBKBKdek0gRCYok5Wgle9tfv9nq7rZm/uPHDVNOjibRUyJwIoo5GIeZus7PazqlzV3iXZrR7Ytgxq2XGa0xecy1aHqg4Pw8CT25u5zMCUY4Lspa2WASkloXhDbcge3+OYI7/wDl9V580WO3lCSGeDZwnwISvGQipC8vgo8DaiG4USAqMVKMk45RuPbps9wM2m4fHtY3bbS3Sj6aTgD974JpcXu3I8jiThMOy5fvSQ7XbLcRzy0JrP5960HbrV+Bi4fOmau+OB/X7ggMPphPcJ5x2qbfAhoL0CA0rlKDUpJc5mq4pSikePnkNdS5zruLsTs+d5HEP2ycpLLnYdrRSEKd8oKaEw8jTQpzuDudghlX6Wwa49sBdCxE/6TbxixYrPJlYSu2LFHwFCCJ9Sehf4O+Q62p/7To/RTcuXf/6vc/P7v0463OYAfS9JqiHKhpg8wTsmZ5ncSIqB6BNpKr9TSSgqZmdMUXHDTA4liabR8/Q5yKKQJUJ08yDWsjRgGiaUlrSmzSTRR4xRSNUQhccHR0wJUmKyDucD3gekFDjvefDwYd6PtWfxYNa57L1NAZlynasPgUT2tjrnQAqszwUDTfH8xphzc+uSv5agpSSliBCJts9k2nnP5OzctGVUQwiJ1nQYlRMbavWtFhLHlJXf8rMQEyEkpnGEJNhut1nhFopxHLHWZsKcBEKA1rn0wCWfkxAiOZLKOiICZKJVTS5d0BqrUlYvpcSGgD0euLq64jiOjG7k2lyjjOTtd99CGcHN8CTbRlz2I8udwUmH1AljBForRjvhki3DdQkvEjYG9nFiHycOfuRoR6JKbLabrMC6bFnxKeJFpL3Y0TZ9yenNNzZKCJq+573DESUkzz18RBIghGS/3zMME+2mRWpDiCNSKEy7QUaBnW6J0hOk4eKV15FKfae3QSRH1D35pN/DK1as+OxiJbErVvzRMZGrM/8b4IeBq4/asA55XTz/Il/4c3+N3/6f/tu8RN02TAGc80RKG5JpCWHCxkjTNCilzwiiMWZWRRud1c7jNJahr/zzpmkQKufAJpm9rilFVFmqr95VpRQk5qX8lPKyvy1qKYAo6l1IESXUXDG6jPqqaQh1uT6kCN6TUh70qoqozAw759EWtTVHT508q1dXVx/w4tZjmVVW086lEeM4cri/mf3Bxpj5ussEpjFomc/VF6Wa+v/DmLeXYq6+rcv7SQqcCwgp8+BYIi+5C2bFOOf85vOeYlZRU0pEJEkmEommDLEN4wix2CSC5f2b95n8xORysUUsNpKgIqbtMJucBWu9xcXAECzWObwfsDEQZE46GLzl7nggSMDkYoucPeu4urrKKQ+ChVc48ODqikePHpUWMwcxcrHpy2sgoUqur0Bh/cQwTHSbbOEgJSAP3A1THhCUpuWn/sovPks+7B74H8t/V6xYseK7wkpiV6z4I6IMed0D/5Csxv4N4GNNgVIbPvczf567N7/Bm//2X0KS2VPpM5EIMk/QC6GQKfsW6/L9MjqqTtankg8bQyW5ci5TSD7zjWXNbSWD1YcqyMkBMeRldlUiulISKCUJZVsAV+pwG6MRiVzROk3z8n/Ops0k6mR52M4EOe83lP/m+K6maeZ82c1mQ3B2nprvupxXWosbajNYzThdLvHXqtpa4VszdLXWc+5rjBFX4rRkSXGo1zSSj8eHdKrnLefrQ8CHnKFLaU6LCHzKSQ8iJWzwiBiIRIIO+AQRhcliea75dRYj83W34xE3DQzDMJ+H0hIldR4wK4UEN8c9t4f73BQmEj4EbAoc7UQSMIaJwdmsSmsFCqIEmWIZvhoJzmPalrbraLWi1QaR4P72jpdffhlrLcM0Fo+14Xg84kL2PD969IjHN0/mgbv6epy8RQkBZL9t/9wLvPiDX/hOVoJIVmB/iXwDuGLFihXfFVYSu2LF9wY1cuu/BH6SXILwoZjJ1eaCL/783+LmzW9x8/abpBSRIuW8Uu9IKZKiQilDCImU/Dw0VfdTSYUg58o2ffWkxlNzVQyQZM46XaiZdV85vSCUoZ9YFE4zE2UhFMhT2kDNGFVKQczpA5tNf0aSdVGNK2GuamrbZrtCjJnQxjK4djwegZzn2rYtU8xRXEKIUo6QH3MaRpInQlpUWcjDXl2pSK1JBsv0glrQUIslIKcSVOJrvSuqb05FCCHgJ4uQJb2glCjEkMiU85RdG5IoLWIeFwOmFCR4JFvV4EJWiFstESS8nThOYybDVV1vNEareXAsicToHe/f3HB72BdfdSbbjsDRjtjgcSkQRSQIEEogVC6FIAS0yZ7otm2zMh8DKUn6LqvY1lreffddrq6uMOV5e1ha1Z7c3s6KdN/3jH7A+4iPHi00ITjGFEEKApH+6tHcBPYdsPphV6xY8UfGSmJXrPgeoNTR3gP/Bvivgf8LH2crAJIQbJ97kS/9/N/k1/7uf8no7pAEIgGDJEpJ1BKPoKzbIzlV0lZVEk6ErKq1IZzILmTCqgrJzNP7YY7DAhBFqU215rakI1SbQAqBGAWiRFi5mmM7L++Xf0vOlN5KlGsFbVV+QyiNYcETYmQaR7quo2ka7u/vsSV1oe97RjuhhJzrZaWUuGmas2allChpCN7ivKcppGsZ87XMoAVQKl+vKECR0L1hchZNeazOntuqMB+HAZRGKk1KudXMxYAQCSEl1mV7RvYeB4iCiMTjZqlRBI8SGmcTsijfIZyqdaWUqCjRXi/U7EiUihs7sY/5uXBTIJIQCo5uYrQjIQRUY/DR0SaFVnmIzydHcpKUPJu+RQtIUhJDIDrP5rrjarfl9vYW720pj5BzikTf59a4u7s7pFY0puUw3uOjp+1alBK44EjRI/uWL/2pP/ssVgJY/bArVqz4HmAlsStWfI9QIrfeBf4H4KeBvw7Ij9g4k1JjePFHfpJXvvZbfP1f/mPcZIFEYxqUNlgPiQEpRF6Cj+IsFWDZ2uW9n72WWjfzcjwxlBir/Havjy/HnAlUJbiFKNV9jmNWCnU5CyUyYfZFua3E9Hg8Zn+oPm/oqtmxlbxWi8NyuV8pxcXFxWyNGMdxPs5M7gwincjw0grxtMWiKqpV+QUwJlfmnjWLFduFVPlYlTZIqxbVtolhGBjHER8iUmpcCMSQUxaapkGRh9xGZ7HenxRiih+ViAoeG/M5awFaN7j7fVGH+/wyiGEuftBCo1NCRgUp4bzHpsC9dxyKSjxNOaVAt01ORAB02yC1wg4jYTqybS7mWLcQAt5ZZAyImNhdbNGieIiP91zIC15++WVubm5omwZlDO++/5jD4YBQMpdTuMh2d3FS7WMgAlEEXLREPI3ueeVLP/yd3iaR1Q+7YsWK7xFWErtixfcWA9lW8LfJtoLPfdSGlcSZfsOXf+Fvcf/WN3nza7+WUwAAUepNlWohOUAQELnlizI4FPKX1pmMikIqjWnz/0+CkCIpZtIrYkLENDc1zSqlECijiTZHJ9nys1xCm3BFMZRSkYScCwIi+UsI5oYrYCapSIUUsgxbyezfLUppVksNbdsTY+T+/p5xmuYYrxACiUxWtVTFIpDV46Zp6NoeQpxJcbUShBDY39/jnJt/T4I8MV99tMVqQYkaiz4ginAdQsBZj52mHFMWE1KZfMLkaX0pFYlESvakVgMIciMYCZESKWayn0K2T2htcVOxOBBhocRqApqAjCClJsacHjE6y37yHMepWEiySq2DRcpyfYyi6Tq65AnBFWU9N7ZJUawEUhJjIPmAaBQpeqIPSATj8eTJbduW6+trrPfsjwesdSjdEWO2VMSQz9P5KZdwpEgicv3yq1xcP3qW98g3gH9OtuCsWLFixXeNlcSuWPE9RInc2pOzY/974P8IXHzk9mRbQX/1kB/9W/8Fd//V2zx5602scwQPSbWlOjaQkj/zmaaUSAufalVFa2ZnbgLLjxmsRceAKsNWTWPmYoHl5H9VO6vKWvfpbfadprpULAUSiSxT+KIQsaUXNVfEln2Un9cGraqeArO6l0l1zpb13rPb7fLwkLU4IXJLFszHDNAoPRPV6petpLYihDAnOVTF2jmXB5RiVodDyV71sRYhMJ978Nmf23Q9m7YlpMhxHDhOI7EmGCRflGZFEqckhhgTLniSEByGI0Zpqp/XH4dSZNFSUnpn5To/x7kxzXlPUg3DMMzPb4weafMx9n3LMB558cXn2Ww2SGKOApufW/B24urBQ7SQGK2BCDGVSLb89eDqmrv9PYd332VzsUMpxTRNbC92hCCYnGN0Az5FpBTFQ+0xTQum5c/87/8LTPsdSw4i8DbwLdaSgxUrVvwRsZLYFSu+9xiBN4H/jjzg9b8Dmg/dstgKhFJcf+51vvSX/hP+9X///2Y43tMaRVcsAT5GhqLE5RalKbd2bXpQEj/Z4rGsDszi+SykqGnyUFejmnlZP6U4K6d1ud80bQ7uj5EQI7qQxJRy4YHWkk3XQwjY4FAxe1WTUNztjzRNw/F4pOsatpsN9/f3bLfbOV4qCYnUhiQkLsS5XUwbNcdVDTYPQB1LY5TWzVyOUO0DIgRCGPBtHk4ypi3ZskcOhwNaKq4uLxEy2wK6tp3tAVmBlfPgVoixHHOXs1FT4t33H+O9x2jNNDlUUZFjjAglSSGrqD548B4XIqrEWR2PR6wLc/TWcRy5H49I0xQvbCpDd9kCIccRkchEuWnmGwmtJUYqhDbIMKGbFiFzucWDyx2IWBRUjx0t03Hg6uoKKRIxeq52l3StwU+WaRxw40Sz2WQFXMCm7Wi14XA40Pc9yHIDUa6R1pqHDx9yOA5Y61GmxbtYXrMSHxLG5Prd7fMv8qU/8afLS/ojPbGJ3NL1L4BhHepasWLFHxUriV2x4nuMErm1B34T+K+A18n5sR+1ffaGNi2f/5m/gB2O/NLf+9s4n5DWYqQ6i9Wap+GLqmitRZbWrdPPs9e0KpQ1Xir5dFYLW7+WXtNMWkvjV1Fpl3WxkYQ2hl3bkkKcLQJwshHUNi3vfa6nLfYEvxhEq8Nj9WvZ4LWMAosClJR0upu3m8ZxJpUhZK9n3U/btvPgVArh7JpprUvkVjN7Z6dp4mq3oy8T+bXWVghB33Y5U9YPuYFLKXyMHO73WO9IAg7jkO0GgI9grWM4TkURTngSXb8liRxZhowgFLpEoQkhSCHStGnOtm1MQioxD65dXV6zvdhkdbfEj+0uNqiHD5DAzePHDOOBbdfy/PPPc/P4PaZpwnQtu+trCDv2++zF3XQ9mzbfUymlcmFGudZd29H2PU3XY2Ng9BaURDUGpTUqGGSSSAMx+rkA49UvfQW9yOX9CESyheBXAfdJv09XrFjx2cdKYles+PcDD9yR0wr+DvB/Bh5+1Ma1BMF0Gz7/M3+Rd771B/zev/qnMIwERPY+qoZEKMNQppDY7O20IdDKNmd/FhIJMXsWY1YJUx3IiRHBKWprSSAruaxB+SklQswRSkJIRFkOB0kS2WOakPOSPWS/qhACaz1JSKwPi0irNP9OYLYs1GPIP8we3ZhyHqoUgsmXeC6lEUKitJ79reM4crm9mG0RbdtCTGVZXtG1G6Ritik453A2kEKka7KSWyO1vPdE7+mbNnuLpUIKwbbvabqOu7s7bu9uaY2h61tiSDx68BDdtEzThPWRmATT5Lg/HnDWg5aMPmB9LhmIQmBMsV+UBfVIQrV1+C3QtIsqV63RUpB8yDFqXY4p85NFaEm32fDqK6/gxoFoHU/efY8Xnssvtfv7W1ptkMZgii0kpcRms+HB9XUehEuJ/XBEaoXRLaprkNqglGa0rsSKgfdublgzUZToNYloOn7qL/217/R+SEAAvgn8Tvn3ihUrVvyRsJLYFSv+PUAIkVJKluz9+5+BPwH8x3yHEgQhJZvrB/ypv/mf8/63v4X7gzdJU1b04NSE9XRhQVUwKyGEqtTGuVCgElSlFIITcVwmBdTYLVnC/Ou+jDEnkikFo50IzqNFSQQoSm2dsq/7btucWysQZ6kFlTBXpdjaPOOzPPb6JYTgarvLhQVSnaUb6OJ1rdemnkMKsSzJ52sT4sm6ME0T42Dn3Nq+bQkhD5bFGBmGId8oILi/v+dwuAeRVW47jigheXj9AGMMw5RtHVI3ucXLO4TOvlMpJYfDEes9nTKIFJAx5cG4mGtya2SalLkRTaRsQVCiFkck+q7jwdV1HtgSYKRABI/zFi06GinZ9h1eKxol+f+3967Bsp13eefvvay1+rJ773OOdCRLsmzJWFZs+YIAO9jCxsZOjI0hxpgyAYMjwIRh+DJVU/NlamqcmUzVXGqmplL5kqSGgYT7DIS7k0DZQAJ4yg4DviBTAWRjy7rrnL13X9Za720+/N+1uvtI50iDddf7VHX13t29Lt27z6lnPe/zf571es3JxWPOnTvHmcMj+UwVdF2H63pJYEiJCxcuYK3l6MwZDucH9CmMFwbEiB3a1LTC+4D3G7re5wspSaJIKfDy197Kjbe88vH+SUTgFLHYfBF4QjlcBQUFBVdCIbEFBU8RlFIupbRBlKefAm4Avv4Kr8+xT5bFVdfwpvd9kE/+7E9w4QtfICLL+MHlbNSdPPnd6KiB+A0kb9eCYIwZVdLg05hTOjRdaa3xKUr4v7aYuibGIL+bKSopFFsyGEIAY0kxkAftCTGgjCbEQEiRaS3L9inktAIGlTghvMaNFgW0QiE5tfJepMFrsDsAtEk8rr53NE3D0eKQ2WyGiz63ZjGS2F2SHlw3Nn5Za5lUW4ty3/f0veP09JTpdLpNKkjQbVomVc388IiHHn6Yg9mUaxfnxyawo4Us00cSE1OhK7E/oAxmqsDL30IDGI1FIsBClAG1EGU4L6aENQarhMhqktyMprYVVhumjcSmoaKUFxzM5QLCB0iJ2lgODmbMpzNicFhtSClbKCYNZ47OEnJMVwzZL+0dy6X4gb1KxBTxfY9pEhhLROH6ADpJy6xWxKAICbQyKFvzxm97nyQ/XBkB8Yn/JpLgUYa6CgoKvmoUEltQ8NSiR/IwP4MQ2WuAGy/34tEfay3XvuxWvu5938dnf+3nuO/uL4wLsELOth5VYCR5Km6zV3ebray1o2dWfKRxfN2e5zWTwN1zCTuZsBo1NmQ1TYNKsF6vaazYG2KK28xatopr2omv2hYyBJzLXtW6Gv2fw3bD0BnA6WpFyvsdfJ0DcW/blkSkqirqWpRZzTZpwXuPu8SLa7TZKr0xjo1U0+kUrTUtPX0vquXB4QKfG6+qqmJSN+Kl3bSooGiqmq7rmViDycUHLiRUAquNRFvp7O/VEpE2JDQoFUlakbxCG0NdVaBS/tsotLEYo/CuQ2GYNzWz+SxfECSICec7GltR12IXqOuaF117HoD1WqJYY0qcOXMG73ruvfdelpuOM2fOjI1dSilUbUHlHNi+J5Fo25aT5SmTWUMIWw8vSROV5WW3fS033/aave/wbrlEhlytwF8gKmyQU0pKKVXIbEFBwd8YhcQWFDyFyLaCFngI+CNkOfUHgLNX2Eb8sc2E6/7WbXj3Pla/+C85efBhVF2ho8H1Ugigtc2ksc/E1aK1wWayEULOh1WifKZk8wAUY4WpLBdHSNuBr91GMGOM5J4qSBiSiqDzoFncj8nS2pByIcOgoKaUsDukcXguxkjIpHeitlaClBK6sqLIJk3yQUoCfIdWlul0ytHhAdZayVFtW6bNhBRB12RLxb4lIUZRL7WSClZRX/tRhZ5WNYvZXJrFUBiliN5zMJtR2wq3abnq3DmMMcxmM85ffTXHx8f0m575wYK13hBSxPUBg0cTUCnhlcHZij6n+w7FEkZpDAYCKKOJOpFIYEBZRQwRXRkaW2Nrw9HBXC5GjBk/yxgD06ZhPhUPsO8ds+mUg4MZJycnTKdTrr/+eh555BEms6mQ/RC56tzVuM1mtGUcHh7K37mpScbg+w4XJeu290L++76XaC01wcUASVFpw5u+7Tswxo7f28vAIxdyvwN0ZBW2ENiCgoKvFoXEFhQ8xcjZsWtkqOWXgUPgA8DsCtuMg143vOpraf/uRf70N36J9nSJ1uBcrqJVCh8Ck8ls6zcdJvW1Aq3R1hKD26lclWGlEAI+q5sxxr2EgmHqX+fYJTX4Y7NC2rc9q81alMa6JioIMdIok5epE0pHutaRCKjJBJ+D/0OKGHKtahqOlfDJQ5BA/SZNs9cW8WG6Nufb1ihr6L0MHCmlmM1mojKnvETvZHjLd/2Y6hBiwOfX26ph1lRjEsFA2Jum4eTkJJdFVCNh9d4zm83ovAzU6wTJByZVTWNlMKw2Fat2Q3AbrM6qJtCbDk1CEaVcIA+4SQtagDxgZyoyqfTSzBY8ta2ZTC2VsfjQs5gfcHh4QIyBtu2zgu5Yrztqa0Rp9T0pTTHGsFqtWCzmzGYzFosFJ+qU2lbMZjM2qxUPP/ig+GSDZ7Y4IOULDucc667Hq5RVd4sxUlULuUnNK657+Su46VWvfryv/9CH8Vngt/LPBQUFBU8KCoktKHgaoJTqUkor4AtILe2NwFu5wr9BBaA1zcGCl33jW6iM4VO/8gtceOQhmsVcIqwU2GlDimB1hQZ8ro6NEaJKBCJGGSIahpIBpYTk5vrVIZ90KE7YBu6LmjqrZ3s2gWY6x+Rl8b7rhOSgWOUsW6UNqISLYllYt7JkbbRFKyQCiyRtX6YioqnqCSmAj47OSUNVSommqmld4HB2QIiO1WZNStN8rp7DgwOxQMTE2vWkEDEo5rMZdV1zcnpKRFPP5vIerUE3tQxV5brYzaYDNJN6Cgixvvb8NTLkpSKz+YxpDGhtISaWp2uOjo6orKQFXLx4Qowwn89x3tP2HS46Eo6mUjR2ypSG5WojHmClIQSayuKC1O3OJhINpiqLniquuvocyYv1YjGfUxlNt1lTVRWLxUIuDpRiMp8xrYV017bi8PAMq9UpKiZWJyvm8zl97zl35ir6vt8WWVQVLgjhB5FHV+s1y27DcrWhzakSlW3EwewcMbbMZzX1dM63fOCD1JPJ4331PTLQ9WvAI/mxosAWFBQ8KSgktqDg6cMGuIioUsOg1+XHupVCZcI5WRzyktffQdd1/PFv/RKb1ZJmNqVbbzDWorQmZpuA1pqQywxiViLFOWBGzyk5LSDGtDcANRDZ3ZxWYPSrDqS264SsWqWpmwZrJDXAD2pw2vphtTZAHPelIeeLMqYqKKMlsskkNHbHO6vo8DJRb/RYp2utZbPZ0G0ki9ZqzbSZYJV4S032xCqlmE4meA26spDUXt7tMKRWWVFlNYrpdJojwiQvdj6f00chftNmms8tjUkQq9Mlm80mFxOIEl0ZGR6zClwKHC7O0PUe3/VEJX7iad3QeYfxhondDppZnT+nkIhEGmuZ7jRhpZQgeqqmFg+zD3gt73dSNzz44IMkL5W7MQRWqxU+ySfvnKRUVEZxcHDAYnGAsobVZg3Ie22DIyRJZuj7HqV1JrseYxR91/PiV76Gr3n163a+qlcsOPg08BuIPzxQ1NiCgoInCYXEFhQ8TVBKxZxW8AiSH/uvgB9ByhAut9FWkV0c8rI3voW+7/jsxz7KhQcfZJED8FOQylQV1bi0nnxCpRy9pYcoLjOmEgCjjaCyjcQ+pa0CK1W0chqDerer1g6eWlmuF8IMQrIGkqpHVTeNQ1VbIo1YCvI2khxQo5QhJYe1emw0G+pkt9WyHcG57N9VI/FOyECVKME5CUEpNIhPWOdq3C4QnB9jvmbNRPaPwlqN1pa2bSU7tamZNQ3aGg5mC9brNXU9keV8L6UQxEDd1AQSznUkEpXVTCcTOYY29PRYo/AhStmAsZycnsrfJUoMGkBtB1VVAzXz6YxJ3eTmtVoIPRFTWWor2bzHxxcIyqNmotDPmpr5fD5mzfZ9T1XXhBhIwQMWW9c0k5qqqTldr4DEfD7Dblb4GDhdr/BBvLxaa5rZhBQjqqp4x9//B2MiwRUIbEA8sL+JeMIhE9jihy0oKHgyUEhsQcHTiBy7dQJUwMfz/Q9zhcQC2FoLpmfOcss3vR2VFP/vR/81KkbJDM35sSkp8V1mlVMlhYkQ1aCy5sD9uK+2DjettgRT1NetErur1A5pB0OawZghmzEQ3ZjPQxIS9F6iQkopD4ypUXnVOo6vMcagcoZs5zxkNRTE+1pVFbPJDKMzkdKKzbpFK1jM5iStcDmdQFkzpi4453Cd2+bETkXRFp+qoes66lrRNA1N02DrCmUMPm49oYN3NEVGO0ZTN2y6PHCHknaymNBK0gWMSkzqit4HKqtRWqOIzJspVVXRtharLHVtmTYTKWHIqq21NcfHxxilOVocjnWvJivgEOV9OTdGqQ0XDJ13uejCZRV9Q68N1lpa16LXBhcDOjAOe3Vdh6oqUugwWmOMQhlD7z033fZabnnd7U/k6x6BzwG/S1FhCwoKngIUEltQ8DQjE9klEjf0MaAG/iFw9RU2QgFaGw7OnePl3/RWNicX+fInP8F6eUryPUrMphKfpRS1rtBKkaLUr8pSv84kLO8WgzX1SPBksX9L1MBkIqv2ihZAGrxIKRcxbMsMQggQEgqNsQZjNd57Ue60IWWiHFMc96PUfnNYGOK2ciNXyjFYlZUoLh8dNiWiAu96KmPpusCma6mMxcUwKoQhBia6GrNj5T5ijMYgXs/RQmFk6VzlZXetIaVA38sgW9d1bDYbohcyX1UNxmqUkgxX6wyL2RxU4uLJCSpJU5rVNZPJjIPZjNVmQ200EZjVFYv5XJTuusaYCqUSTW2ZNJUM6YXApl1hUMwmNSoFNqtWLmqmU6w23PTSl+Kc4/7778+DeBBI2Kxg15NGsniRC4BkJAnBd35UVHvvcSfHLDdrVu2GqrJ0bZfVZYcKGl1NeMf3fP8TzYXdIG11dyPkNeTvf1FhCwoKnhQUEltQ8AxAKbVMKSlk0OvjwFXA+7kSkUUUWW0ss7PneOXb34Vfr7n/zz6NPw5gIKRIigmtBqVUEfLvoo6GPTsBaau8XtqotV9Dy6jshZ1Eg0qb8flBcfXeEzIZtdailaGu9ajOukwaB+IstoVtrusweLatz0WqaPNtGDxzwWB6UVqTVUSjQFu0NTgvyQvWGBTbYbVBpRxKH5IPrNdrptPZSMCttaMaORDAzjvW7WZbEuFitlzE3IC2jRqbTaagktgMDo8IKdJHx3Q2Qaltq1oE6qNDDhdHnJ6ekio5rxAC88mMpmpQWfGFxOLoiMVsKhFXMTGbTTg6PJSyhEzytdZMJhNi9KOi7b2npslFGfnvVttxmK+qa1KvSMGzXK9ZLteonE+rKos2hn7ToY3h1W/8Jm5+5W3j3/sKiMCfISpsixDYVAhsQUHBk4lCYgsKnjks8/2fA7+af74ykc0eUVvVnLnuBl73976bP61q2k/+ASEvKysThbwmaYYCidsa1FetDSHXsqa4HXQaEgm01mhlJElgCOlPsiw+VMsOt6C1xHWRJPlgILgpYrQswUefJI0g738gvaIYp3H4TGuJcfKZSMq5Cinzufmqc30muRqXibKWIlSIkaQgpMTG9Rilcm6ttHwZFPXUUhu7rbfVcu9cn88pk1iV0FaDhrquaF0/lj0kFOtcNxuC2BBMVqKJAWvl87XacPbwCJ8iJ8tjpnUFaKyW4TAfk0R5WU2KHq0tTW3p+4hKAd+3qAQpQlPXbJanLC9ewFjL0ZkFTWXp240kIWQbwDKnF1irRcFuEk3TEL3DxZDbyzzRGoLz9L4jJC/JEIManiS7Vtq+GnzyJK2ZLI741u/70BNJJAjACvgFtipsIbAFBQVPOgqJLSh4hpCLEAYi+2f5vga+Czi6wnay/G0th9dex6vf+R7aixe4965Po0LCKkkmDSEQQ25PiuKHVUrnAS81Ni9ZK0NMA7EblFHYelvT9uCPSi7wOaZqN0d2HLTKSmLMUVGDl3Y4Rkhh9MgOCujop80qrDFGlra7bvSfWiu/985hcxpB30l81CRntNbWUE80SkV655naaiTHw/uVlq96PM5wXOdkun94j4vFQvy7UcjhcrnOKmeu4O0dk8lk/GxDCETnSUrhXMdsMmVaS+tVXdd472m7Do2iXa+YNxOU1iwmM1qyguocSmuMVhDDOOA2m07RKE6Pj7HWMjs4gJh44MKDY3qEtbUkJlQV58+fZ7U63ftch/fabVq89xxaiWlLUdF1HltPWK9XEsllDXYy453f9w+47qUvHb+Dl0HIt88Dv0JWYZVSxQtbUFDwpKOQ2IKCZxA7RDYhRPbXgAnwHqQU4XLbjUT2zPUv5rV/7/2oGPnrz35a2p6MQRkFCrRV+E2X0zlzzaupMboihKHitBrzQiXcfiB02VqQUwiUFhU15TQClYCkpdxAKSJaFD0SEUVMkYjG1naMvIooWX7XCoIaK3Sd8+IrtXZs2dpNMhgSCrxvUVahKzvaF+h7YhCPrQtClpPSbNqexmjmsxkpRGIuh3BRUgXccslBzpmNXcfZs2dYLpdorTl79ixt29K2LcpaafPS1TjE5r2nrid0XUcIYSTZMUZqW3H+qqtp25aHL2yoTY3reqytSTGRfCA7jamtQSXNdD7D9z1duyaEIFaNekIzm0ASW4CxlqYR4h0Ry8I999yDUor5fC4DX8GzWmUSbsQOMp1O2eTq3mnTMJk03PfgA0J0mxqUBWtYrlbYqqLXGmVrJnPDum257mtu4c3v/g7xQV8eg+91iaiwF/PvRYEtKCh4SlBIbEHBM4xMZFf5108DBpmweg9wcIXthIBay/mXvozXfecH6NqW4y/9NW3XYaxh1a45qA9oGgjej35WNfIKnZufwqgimp2hHa1FqQ1JhLQhnWCM2gpxJJKDQjuQVbWjyvZtO1oVvPeErBAPnltjTJ6cb0cVdzif4bjA9twyl5Lq2gTei2Jr7Rj5tdp0gKPWiuroCMvWc7urSm42G5qcw+rzfrwPnJ6ejqqlc471eo3RW3V222YlzV6SriDDViqJ2rvZbACd82GRel+gz+1fMf8PHEKgb7vtwF2UjNgYI8kHfE5mMEZsACvntu1nSmFrieIKyXN8fEzSinPnzjGfzzGVJQTHdDrl+PiY1WrFyckxCVGFq7qm846u64imJumE27T0m54+BebnruZ9H/4xqqxYP069bAA+g/i8eyAWFbagoOCpQiGxBQXPAuwQWYWUIVQIgX07ML3CdrJM3zRcddPNfP37v5fP/Oav8lef/hNS71mcWbBarajRpFweoJSWBqZhyT6A0gqtzBhVFTKbUkr8kSpsid9wXEDqZlMc566QJllRYGPaJgQkhdESCxWBGBKQMEZJ+oGRpAFyScEu0dymJOiRKEcVxwSFGCPrTD4ncVtCEEMUj21K3Nfdz6xqsHZFXdei8CrDdC45q0kBWlThyWTKJsFyI37XRmspVug6jI6jnWEglSkllLZEnHhwE3jnxm2G6LOk1egxVrmeFy/nP5/Px/dXW8O6le10ZXM6QFZ/Y6Bz/Tj0pgw0TUNSkbZbs1ytWC6XzA8XmMpuybeSC5Lee3yM+OCkfrbt2LQdQWmW7YY4maEri+oVfQr0PnDH276Fl9/26r2/+2Mgkku/kGrlLwKOosIWFBQ8hSgktqDgWYIda8EDwF3AvwZmwB1Ac4XthMjWDdfcciuv+87vRhnDX/zJf5TpemMJvYMYgf1s2IFjDL9f6kdVaht7ldL2tbtJBsOy/7D0PyQBDKrnoO7KTe35XodhrxBFeW2aJicX+L3zqCoh3+MxUnwU2fXe49ou+1wlCQAiLjgaY1FW8lAJnirJ+TT1lBDdaKXoui7nstpRle26jq7rRtVYMm9luj9GWK1WKLbZt5vNBtd1o+0gBCGDWmuCjSS2A2qDUj18ttPpFJ3V5OGz3v2cfI4OaxppLnOhp+97+vx5+RCop5NcNdtzenpK27bM53Id5JzD1hW1btBG4YLnZL0CY3EounZD1BWb3tGFwPkbXsK3f/AH9jzQj4GIENYN8IfA75FzYYsKW1BQ8FSikNiCgmcRMpE9Bf76kqfejKizl9suE9ma8zfdzO3v+wB9DNz3+c/hfCuEy/nRAytk1lBZMw5gxRil0SltxbMYwbkwxjFJra3K22uUSigVR8Iq5FaavoZbPkGSAhfiGPElA2eDmqol7iu/w9xTBjkei5iAQMxZ+aL0RlKU4bTKNqOP1kfAZz9tSKSQCEmRkGpeH2TIzZCogieESJReVpabJc5HadYaMmtDoLFNrqqVdIakFCGBc56ud9thuZiJPeNIfk6D8FJz6zzOCSm21qKtxVYVXSbRpqppjHh9e++kqtZL7a7RBs3wmUa871lv1vL5KSHAh4eHzBYHGCP+1uV6RUppVG/ruqb3jqZp8D4SlKbzgZgU0RpcSKzbNctuw+zc1fzIRz5CPZk8EQLrkCa6X0BU2K4Q2IKCgqcahcQWFDzLoJQKWZEdiKxC0gq+Lv98ue3EI1vVnHvxjXzDe9/Pp37J8ZW7PodJCnbrXhHimmIalUXYel5R+0vHu21dW7KqHnXsoQxhV7nb9bWOntxBnbVm3J/4U2U4qrEVTdOgc01sDIMnN++HtKdgbtVJMyqXISSERmmWyxXR97nOVVIKEtvEA5PLHAYLwKSp9s5/Np3lWCxyqgKs12u8C+Nn4ZxDWVneH/JdvfeEpIhJYTEYbUg2EYJYKcgpEoP62zSTPJQG9Iq+8+N73FW4V6vV6InVWqOs5N8OSnbf9+PxY4ys25bJbIqqLOv1Gr1Z59pgSx8j635N1BaXwBuDtg3f9cM/wvUvecnlvm4DeSXfnyA2go8BG6VUoKCgoOApRiGxBQXPQiil/E6rlwfmyMDX63hCRLbimptfzh0f/CH+n5/9Sb78mc+QkngyZak6D1hlcnrpQNalJHYoJtglVAN527MRpJwXmyT/VeWmMQLZcpDGeC1rLTaT1GHgy/k8JJbI4f25CEENFoThjbJ3bB8TRps8eCW2iRjkE1MaKtsQAWsqktKjh3e96YRQ5/cy2AVSFBnZuzhGkNV1TVVJcoLvXVaf5Tw7H3AxgQ9EelFcg1gxOhdwLhBQVEqTENKprd6xC0TqWjzDScFkMqFpGvqJkNa2bQkxipqbRKVVSo0xYFExkvDYyt/JBbEzJKWwdUUgsek7XAx0m25Ux9ddS5dATyp8CLTO8/bv+h7e8Na3IY1qj/q6dfl+SCPogL8CfgJJJOif6X8/BQUFLwwUEltQ8CxFJrJr4F7gDxDy+mHgtsfZbozfOrruBl7/9z8E5qf58mc/S+wdPkUM2/QApRR931+inm73BUJiI6BSIilFRV4qVwptLck5wk4L166KqbWm7XsqXWH1fkSTlCGELbHNFbguD0ZJsxbYPEC13Wc+wSG1INfJ+ph9uBiszSquVyRt6PoNSSl6BRMatNX4ILFe7bqlri2mbjCAtRKltel6mhi5uF5z/vx5Zs0UF/zY/oWWga2+F97WecfpepUtCBUexWqzpp4cjJm5KQW0UUync2azGSBRZvP5FJQhJk9lRVH1od1rTavrmtlsRt/3ozK7ajeiBOdq36EmtnM91loOFgeoqub49IST1RpTVax9T0QuNKKyVNMpbR9YtT0ve93reO+H7tyLN9vBZufndb6/D/hp4B6gL6UGBQUFTxfUV7+LgoKCpxIppQpYADcDfwf4II9DZPN2ch8jpw89yF0f+zf8x9/4NZRKGCW+y5Cn440RRU/n5XpUzG1YStQ/gqi2QRTMSd1QNTUpRNq+gyiq3nDclJf/h4Ev55wog3EoPNimENihGjX7brtuAzFlO4HG+Y5ZMxktDQO5ku1lP8vTNZPJZIzqGqLDhvB/16/lfZtKEhHyf321tVRVRfSB2aRBJRnuin4bOeZDj1ViExhSBLpOGrC0skQSJyen+GxhkAsCIZ1tKyS0yi1hot4G5vM5R0dH0qYVI1pblJL3E4IbFWfvvRQOhMBkMkFbeX992F50JOD4+JjOS+HCbDYbh8am0zkYTTI19z74AA8cP4JLHm0VfehFpa0mOB9Zb3pefvsb+M8+8hHOXi2lcY+hwm7YktcBvwL818CDxQdbUFDwdKIosQUFz3IopVy2FtwN/HZ++HGJ7GgR0JrF1ed5zbd+B9pWfOo3f53Vasm0mTCZTeg27ZiVam2151utjEUbTchT8UnLla+PAcZyBE3KdbjDcYeorDFD1hpUlO2T2npsxSqg9uwM1taQjwegld1TiceYrRxdBbL8DtD3w9T/lsB2XYcxFm2QEgitpXAgJXofiQSIns4ZGlthbIXzgb5tMUZLJFce9FqtNqjs41UYAvL+bFXRO4dPCVNXKC1+2y5EGi0e181aooAPDw+ZzWZCrt2Q/xpHBXrwFYOQ2CGDt21blBnSGSAmh/OePnjavpPhLaOZMBWvsYLeOWI0LE/WdM7hQmDdb6BSmLrGh8Dy9BRta6658WZ+7B/9I85cddXO33EPG6SBaxd3A/8EeKQQ2IKCgqcbhcQWFDwHoJTqd4jsv80Pf4An4JHNkQJMj87wmm/9dubnr+W3/49/zoWLF6mqimkzYT6f4pyjd6JAWiUZo22QyCqlDUoltM7qbl4aH5a6x9SDuI3Ugq2Xdhgc2xK0SIoJvTMENijHorTuD235FEkMA2egEOKcckRY0jJYNRQOGJ19ogowGoyQ5aQMSWlAkhhCksEnFRMp9qRGfKY6e1+VloGp4Dyd89BHqqqiqipMpYkh0PfyufW9Hwe/tE64rpc2L+cJlcE5GeBqmilV1dB1Hd5Ls1bXiX2ibduxYGEg6kOOrCQqaIxVpBjpWkfbd/RBlNWDwwXzxYLJbEZIQoBb17JZOja9Y+06GfjyoiAnAi5Fkq649iUv40f/2/+eo3PnLvdV6vNtl6h+GfifgbuVUo6CgoKCpxmFxBYUPEewQ2S/APwWEiz/gzwOkUVtA6sm8wNu+dt3oKqa3/1X/yenDzzAyfKUq86eww4ZsYBWOc0gBDrnxql3YC+Sa3d5HyDG7QDYQHClWECNxEy2FZIa8uvNzj4H4j0os1pLrW1Mfked3Sq9cly53y0gcM6NqQXe9+N5SWRXzqCNkHTAajOqoJOUMNpi6khCiyrb93Rdj1EGZQw6JaJz9J1n3Qo5NMZQGcNms9lLcYgx0nWepmmYTqdjXWxSYExFiJLf2nYdm82GECPWGFAKjUEbSFHhoyemRAgaFwMueJQ1HMymNLOa+WJBM52w7lrWq41clPQ9J+sNXfSs1i0hJlHbY6Jte1JVc/3XfA0//o//J6678cbL5cF6Hk1gHwJ+Efid/D0sKCgoeNpRSGxBwXMImcgCfAkJlQf4fuDrGctYL7stCagmE275hjeggD/65V/kS3fdxQMP3c/hwYKmEUXW+YCpLMpUuSY27KioQopVkpsMZlVoo4hKj+Q2hDD6ZKMPe5FYKSliBJXzXs1kQgxhJK9DVK3OQ1zB+fyYpB9EJZP3g3d0IMigR+I4nK/U0Mq2aockxxTRgEkabSoi0u617npsVmtjjLKMHxPeB5LWKBdwvs1Wicim63BO/KjWamIEn4fVhjgvY4zkwmpD23u8ipJQkDR98CQf8QnJslXI+RoZvKsqS4yJruvxMaA1Od3AMJs1TGczdFOBNhyv1pyulizXLb3P1bQkjpenOTlC0zQTXO/QpuH1f+ddfM9//uOcvfrqKxUaxJ17h6QR/C7wU8BpsREUFBQ8UygktqDgOYZLiOzHd556YkQ2t3vd8vpv5My1L+Lf/bN/yt2f+zTHpydUbcdsNsPWFb13pCAE0YWASkNW67ZOdquEboe4dpfBh2PGGB91HsaYPW1P5XaE3bIFOd6+6grsqL96/H33mFrrsQ1riBHbtSeklKSsTINW4ILHaiN+X+9x0W1JXUhYbUhK4rlcSATX03ufz00G40JIgN87dlVVLBYL6rpmtVmzaR0oRTCG0Du8c/hM3nvnCF6yX30Cg8WahFUaFzy997gQqJuKxtZgkEiy1RLlLMv1mnW7AVuhjGaZFeKqqdn0HVXdkIB117E4czVvfM938N4772S+WGw//0ejR2K0QBTZBPwn4H8DHt55rqCgoOBpR0knKCh4jiKnFhwA1wJ/G/iHwBuQPNnH2xaA4Bz3/sWf84f/989x1yc/weZ0w9HREYvZgtb1RBepKgPD0j5qj5zuktbBOqCUJBoMGDJgLyWS0tg12BLCaFMQb23cO1el0jjItXucYV8kPQb7qx3rgpQeiArs0yWZuNm/O1gTamO3ZDjXxA43kz2mGgVa4bpelvMxoCJ1NSEmv2djGHzB0+kUheFktcS1PbqyGJRktrYdUUHygaQVBAgpURlD1TTMJlJ+sDvwpSst6nTyuOCzXxja4Oidw0wmaJtJ7XotjWC+p2oqgtacOX8d3/6DH+Yt73o3ddNsP8PHxgYhqmvkkuMu4H8E/ggpNfDP9L+DgoKCFy6KEltQ8BzFTmpBAv7DzlPfwBUqavO2YynCdbf8Ld5+549iJjM+9+9/n+PTEzrnOTxYUM8nMsDFttUr9nFv+AgYCdvY7JU50UBMhxKB4flL4b3Py+167/khKaGqTCbPem96f5d8WWvHYwzENcaIizkuK26Xy4fWLx0l9zalRJe26qtW4FXCpEiMUovrfCbIGIKSClpIpAihl/z/0DuOl8c0VcXs4IDoPaerDUpJ5a1WiuA9XQh0fU8IngSopFFotFEYJTm1k9mUum5AK/quz8UPib5z9L4jETFVRdVYTtcr6mZKQrNcbQgkehdwHlzy2KaiT5FrbryZ7/3x/4Lb33QHJkeIXQG7pQUJuB8h5vv/rQAADY9JREFUsJ9AamULgS0oKHhGUZTYgoLnOLIiOwXOAa8Hvht4N9Ly9Xjbyn2MXLj/Pj710d/gc//+d7nni19ExcS5c+eojBVfJxIzpbPK2PfSTCV1r2pULVNK+Bj2hrt2K2t3SeoQi9+2bSax7PlvR29tJsLb4TD1KLK7S6qH4wyEVmu7bXBg+x/fnu0hbs9PJUAr8f0qRfKR2lbj6wfFdiDf3nsSEY0ipEhwHrTCakNIkc26xVR1tiVAcF5iymJCGY1KGltV1FVFiBEFTGczKmtZrlacrldoa7BalN+UAilFOUelOF6eUtUNvXe0XupxtTVoU9H6jmpa89LbXsWPfuQfc+0NN0jU2OMT2JBvK6TQ4H8BPgosgVCqZQsKCp5pFBJbUPA8QErJsiWyr0SGvd4DHD6BbQFJFlgfH/P5T/whv/3TP8nxgw8CYFCcOXOGyuSChF6itSprSSGOsVZ7KmeKeyR2UDh3XxOjkL2BpEq5QNojirskdndfA4ndbRTbrcEdCLBksTqU3l902iWx22GznCiQ2CfaSpFCrsuNYkvQCVwMqJj2EhG02RLv4TyCj7RtT1SgE/gUIcSxOS1pBR5sUzOpanySyC9lDYTIqpV0AWMtlR0sDx7nZKAspoBCE1C0rqeazuh9oAsBlOGqG17EHd/2Lt77wz/EdDYf39NlENl6Xx37BPbfAccUAltQUPAsQbETFBQ8D5AragdrwZ8iofRfAX4IOPs422aSaJifOcNr3/YOtDH8/s//DF+6+y9Yu0DnHYvZQhqrqprQS31qZSzGGhRxjxgp9J7yGgNoLUkDQmbzQBiJSEJp8ZomcvOXFktCgnyviQwPJNKOv1UKE3IBA6CiwuhKSDBy03pfBZbdbBu/9oisvIEROiXQihDBaANR4YLUtlpriMgFgCi4cj4xkWPEoijWKRFCJHoh+ETZZxrtGFrauBL4mCt0ncP3jj4G7KTGA8H1eSgtEKPPWbeR1XLF4swR2IpV29H2gdnRGc6/+MW8/8c+zBu+5W3Y6nHtA7AlsDF/h74E/O8UAltQUPAsRCGxBQXPE+TO+mVKKQJ/hiz7OuAHgBseZ9tMCjVV0/CqN72ZFAIf/7mf5PTCRR56+AJdL9PxR4vFWC6QUsIoDSnsqaADCRxV1VxzOyqyuTRhGNLaVVWHGK/dc1NKP8oqsEs8h7SC0QurGGtj5Rg7ft1ReY6kuJ+ykA+4t0QVkCSDOLaWiWUgKYXOJNZ1HS4EJJgLyaHN++26Dq1tHiZTBBIqSTSCVoglQGsCCed62r5HpSTpByGg6wq0JgQvHtoYUUr+VskkNJrZ0YI2RroYUXXF+RfdwBu/7V28984f4Ojc2Z3P9YoYPK4RUWD/ClFgfw84Vkr1j7eDgoKCgqcThcQWFDzPoJRaZyJ7N/B/5YffB9z6ONuNZLKeTXnlHW/m3v/0eT79B7/PVdpw4cIxF44v0nvHrG6ojLRa9a6jsnrch9ZafJ7DkJTWxLBdtt99HLVNCxiIZMoET5ALFpTdPpdvQ2KtpBMI7TVajy1hw3sxxpAIe/7XXZvCYE8YsH8ejCp1TBEXU1Z9I8poQkpZTc6qcpRkhhREaY0JQoLgc3qD1RjEg5yQpjGttVgUhvYv71AJQhJLhaksLvT4FImkXESR5dKU28y0AWNpqor68Cwf+q/+S77xbW9FafVEyOv41tl6YH8P+BfAp5As2EJgCwoKnnUoJLag4HkIpVSbhIV9EfgZJNPzwzxBIqu1YXqw4LVvfychOP7ys58hKcPx8TGnqyXdpuXw4IBpM8FUVkwBYat0amtGr6gxhhjCntI6HCelbePWpT7UXXgvIuFjxnTl7Xc9sbuvFYvAo0nsfuOY2rc/7Ki2KSWaJtfoJqnLTUqIaO/d+HhIEZIipgQkqYRQorL6PuydW9w9fk56IBNjk0xOQZB0B2MtLkZSlPfpc+PYOPhGQpsKbzTveP938Z133snRuXP/f8griArrgQeQIoN/jqj561IpW1BQ8GxFIbEFBc9TKKW6lNIwYf5b+eHvBV4N1FfYThRKrbnqhhdzyxvexHrVkfgrmqbh9PiYdrlmuVySQuRwfkDwnpgkXzXGSPJur3Z2UFKH/Y9EdidP9rGitwYSGRJ7au1jnneKe/vWaltlq1UiRr/jo93PmRUtVeKy9oisgkTCBTcOae0OnXkXxlpcF5PU0Sok53awVChQRpMUY35uUnILOcJLGS12BS1NXDHGMXJssCmohJDxFESGVeIjnhwccN0rbuXd3/8h3vDWt6LN48YEX4qhVvbLwC8jFz13A23xvxYUFDybUUhsQcHzGDsDX18Bfh14EPhBpBxhctntEJ7UzA+4/uW3sl5v6H3Hyf33C5GtLvLQAw/Sto+QUuLo6AgbA6mKY03tsGQfQkCxbycYCa7hUckGA/bVUrvvZR2X+hmbsVIenlI5Z1WIJjuKr+S6am3G/aeoMEaNSu8utNZj3m3f97m0QUj69ngBZQxK5cgqrVApEbWUKAzv104komywSQxpBiAk14UAIaJ1IIWICx6Q0oLO9fjkSSqitM7DZBo7n3HjK27l3d//QW6/45ueSO7r5dAh/tefBX4R+IpSqn2mvrMFBQUFTxSFxBYUPM+hlAo7yQW/j6huDwBvRyK59nDpwNT08JCbXvVqfNfyl3/8SdYXL7KYHdA0E+677z6+8sADrPueo6ND5tMpWhtScFTaEIOj6zqC99tlfiBFRYoa5QfVd3cIS+doLD+ew5B+IIH/OxWzSchi58JOO1dAa4e1GmtrxHqrUNqSYiSOCQJRKmmDBmXkzHQkBvGe7qq6ylgRP418Lpuu28Z+KYX3fd7GjAQ9DiRe5F3qZoLF4JzDO7EfBBLGWtDS9FVnqquIbPoN1s7ocKBkmKteHGJmB3ztN38z3/qBD3DDTTfvXQT8DXAR+HPgf0VKDO4r9oGCgoLnCgqJLSh4ASAT2XX+9RPACVtVdnLJa7cDT4BSmunigBtufSXBdRzf+xUeuPuvOfKeuq659957uXjxIj5Ku9Z0OmUymYxRUNZaTI532lVXYce3urNE/1hqLGxtACAkmKTH/gIhjyrve8iXTaTcwmV2Bsi2lbCDImzx3j3Kb3vpZzLcP9ZNW7NNHND6Et+vkOs+9MRgMtGWlAKXIj72xBAgebyX1/qQYFKxXJ5iJpaz567i5lffxrff+WFecsstNNPpnif4b4ivAL8D/FPE/1rsAwUFBc8pFBJbUPACQbYWrJF/93chXtnbgG8EmsfaZiRkaM5cdZ7ZG+7g4S9/CaNqHv7Sl1gfn6AQ9XG5XPLAAw9weHjINefOUtf1mOdqdfWYJBbEHtC78KjBrkG5BQiZ5A5pBYNNYDzPoWzgkqGukAfKYgp7UV6757Bbh3slEnupHWL3eEOt7jZVYbudUgqVo7h8VotjrqGVZjPxEmuVqGyNsYbJZMrLv+52bn/nu7j1627n8Nw5qrrGVtVXS1xhmyH8LxELwd2lQragoOC5iEJiCwpemNgA9wC/ihDY29khsiNpUwpb1xgjy+C2rpkcHLA4c44vfu6zfOXzd+G856bpTdxzzz08eP/9LE9OqLXicH5AZXPtbNwf2tpVEZVS6NyItati7tXIxv1UA9hPKojJX5aExhghlxEMZPVRz7M/NLZ7nEvxWAroLiHe/X2bHpDrZpHflVJEDWgjFbDWYBTccMsr+IZ3/F1e85Zv5pobb6Sqa0k4+OqJ64BHgH8L/AQSn3Wc84ULCgoKnnMoJLag4IWLFllG/hhQAa/hMVILZGBJU9c1MUZcr5idPcP1t7yCsFmTQmB1cpH1ek1wjvVyyXK5hBA5mE+Z1A1hh9RdGnWVUsKYak9FHY5rzDbaaojCEuzEZ6WEyyRVwhi2JHbc107iwKDO7pLZrRUhPeo88qcw/nSlFIXhqf0GsITzHm0UemwkU2ijaWxNNal40YtehJnU3Pnf/Hdcdd312Lp+MuwCu+gQ9fWngH8G3F/Ia0FBwXMdT9r/kAUFBc8NpJQOEdX1ADgPvBR4M/BO4GaE0BY8f3AMfBRRX/9AKbX+KvdXUFBQ8KxAUWILCl54GHyxICbTE+CTwFF+/EYKkX0+YAl8HolW+xdKqXuf6RMqKCgoeDJRSGxBwQsMecDLI77Yi2xXZD4JzPLPhcg+d7FLXn8Gic1aPdMnVVBQUPBko5DYgoIXJjrk37+HsTbri8Dv7bzmBi6TWlDwrMQpkvn6K8DPU8hrQUHB8xyFxBYUvACRK2ktWzUWpPhgl8j2iCI7f6bPt+CyWAMPIdm/vw58HHhIKdU90ydWUFBQ8FSjDHYVFLxAkVJqkKKDBTLktUCIbA1cDbwaeAvwsvxcsRc8OxCAC0jW788jNpC7gYsl77WgoOCFhKLEFhS8QJHV2EsfTghZ7QGH+CvfCLwKOMvWM1vw9MIhcWi/DfwxmbQCX0b+Vl4pFf/Gey8oKCh4DqKQ2IKCFzAuQ2QbhMxeWkH6KoQwnXmmz/sFhr8E/gfgT4D7EUK7zveFvBYUFLxgUewEBQUFwGPaCxpgmn9+EXALW1V2TiGzTzX+EvgI8KfAfUjeayGtBQUFBRmFxBYUFDwmCql92nEpab2olHLP9EkVFBQUPFvx/wEWlvXGVh+HpgAAAABJRU5ErkJggg==",
          "x": "2025-10-15T00:00:00+00:00",
          "xanchor": "center",
          "xref": "x",
          "y": 105212.0917488,
          "yanchor": "middle",
          "yref": "y"
         },
         {
          "layer": "above",
          "sizex": 120002328.57349999,
          "sizey": 10020.183497600001,
          "source": "data:image/jpeg;base64,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",
          "x": "2025-10-14T19:15:00+00:00",
          "xanchor": "center",
          "xref": "x",
          "y": 105212.0917488,
          "yanchor": "middle",
          "yref": "y"
         }
        ],
        "paper_bgcolor": "#1E1E1E",
        "plot_bgcolor": "#2D2D2D",
        "template": {
         "data": {
          "bar": [
           {
            "error_x": {
             "color": "#f2f5fa"
            },
            "error_y": {
             "color": "#f2f5fa"
            },
            "marker": {
             "line": {
              "color": "rgb(17,17,17)",
              "width": 0.5
             },
             "pattern": {
              "fillmode": "overlay",
              "size": 10,
              "solidity": 0.2
             }
            },
            "type": "bar"
           }
          ],
          "barpolar": [
           {
            "marker": {
             "line": {
              "color": "rgb(17,17,17)",
              "width": 0.5
             },
             "pattern": {
              "fillmode": "overlay",
              "size": 10,
              "solidity": 0.2
             }
            },
            "type": "barpolar"
           }
          ],
          "carpet": [
           {
            "aaxis": {
             "endlinecolor": "#A2B1C6",
             "gridcolor": "#506784",
             "linecolor": "#506784",
             "minorgridcolor": "#506784",
             "startlinecolor": "#A2B1C6"
            },
            "baxis": {
             "endlinecolor": "#A2B1C6",
             "gridcolor": "#506784",
             "linecolor": "#506784",
             "minorgridcolor": "#506784",
             "startlinecolor": "#A2B1C6"
            },
            "type": "carpet"
           }
          ],
          "choropleth": [
           {
            "colorbar": {
             "outlinewidth": 0,
             "ticks": ""
            },
            "type": "choropleth"
           }
          ],
          "contour": [
           {
            "colorbar": {
             "outlinewidth": 0,
             "ticks": ""
            },
            "colorscale": [
             [
              0,
              "#0d0887"
             ],
             [
              0.1111111111111111,
              "#46039f"
             ],
             [
              0.2222222222222222,
              "#7201a8"
             ],
             [
              0.3333333333333333,
              "#9c179e"
             ],
             [
              0.4444444444444444,
              "#bd3786"
             ],
             [
              0.5555555555555556,
              "#d8576b"
             ],
             [
              0.6666666666666666,
              "#ed7953"
             ],
             [
              0.7777777777777778,
              "#fb9f3a"
             ],
             [
              0.8888888888888888,
              "#fdca26"
             ],
             [
              1,
              "#f0f921"
             ]
            ],
            "type": "contour"
           }
          ],
          "contourcarpet": [
           {
            "colorbar": {
             "outlinewidth": 0,
             "ticks": ""
            },
            "type": "contourcarpet"
           }
          ],
          "heatmap": [
           {
            "colorbar": {
             "outlinewidth": 0,
             "ticks": ""
            },
            "colorscale": [
             [
              0,
              "#0d0887"
             ],
             [
              0.1111111111111111,
              "#46039f"
             ],
             [
              0.2222222222222222,
              "#7201a8"
             ],
             [
              0.3333333333333333,
              "#9c179e"
             ],
             [
              0.4444444444444444,
              "#bd3786"
             ],
             [
              0.5555555555555556,
              "#d8576b"
             ],
             [
              0.6666666666666666,
              "#ed7953"
             ],
             [
              0.7777777777777778,
              "#fb9f3a"
             ],
             [
              0.8888888888888888,
              "#fdca26"
             ],
             [
              1,
              "#f0f921"
             ]
            ],
            "type": "heatmap"
           }
          ],
          "histogram": [
           {
            "marker": {
             "pattern": {
              "fillmode": "overlay",
              "size": 10,
              "solidity": 0.2
             }
            },
            "type": "histogram"
           }
          ],
          "histogram2d": [
           {
            "colorbar": {
             "outlinewidth": 0,
             "ticks": ""
            },
            "colorscale": [
             [
              0,
              "#0d0887"
             ],
             [
              0.1111111111111111,
              "#46039f"
             ],
             [
              0.2222222222222222,
              "#7201a8"
             ],
             [
              0.3333333333333333,
              "#9c179e"
             ],
             [
              0.4444444444444444,
              "#bd3786"
             ],
             [
              0.5555555555555556,
              "#d8576b"
             ],
             [
              0.6666666666666666,
              "#ed7953"
             ],
             [
              0.7777777777777778,
              "#fb9f3a"
             ],
             [
              0.8888888888888888,
              "#fdca26"
             ],
             [
              1,
              "#f0f921"
             ]
            ],
            "type": "histogram2d"
           }
          ],
          "histogram2dcontour": [
           {
            "colorbar": {
             "outlinewidth": 0,
             "ticks": ""
            },
            "colorscale": [
             [
              0,
              "#0d0887"
             ],
             [
              0.1111111111111111,
              "#46039f"
             ],
             [
              0.2222222222222222,
              "#7201a8"
             ],
             [
              0.3333333333333333,
              "#9c179e"
             ],
             [
              0.4444444444444444,
              "#bd3786"
             ],
             [
              0.5555555555555556,
              "#d8576b"
             ],
             [
              0.6666666666666666,
              "#ed7953"
             ],
             [
              0.7777777777777778,
              "#fb9f3a"
             ],
             [
              0.8888888888888888,
              "#fdca26"
             ],
             [
              1,
              "#f0f921"
             ]
            ],
            "type": "histogram2dcontour"
           }
          ],
          "mesh3d": [
           {
            "colorbar": {
             "outlinewidth": 0,
             "ticks": ""
            },
            "type": "mesh3d"
           }
          ],
          "parcoords": [
           {
            "line": {
             "colorbar": {
              "outlinewidth": 0,
              "ticks": ""
             }
            },
            "type": "parcoords"
           }
          ],
          "pie": [
           {
            "automargin": true,
            "type": "pie"
           }
          ],
          "scatter": [
           {
            "marker": {
             "line": {
              "color": "#283442"
             }
            },
            "type": "scatter"
           }
          ],
          "scatter3d": [
           {
            "line": {
             "colorbar": {
              "outlinewidth": 0,
              "ticks": ""
             }
            },
            "marker": {
             "colorbar": {
              "outlinewidth": 0,
              "ticks": ""
             }
            },
            "type": "scatter3d"
           }
          ],
          "scattercarpet": [
           {
            "marker": {
             "colorbar": {
              "outlinewidth": 0,
              "ticks": ""
             }
            },
            "type": "scattercarpet"
           }
          ],
          "scattergeo": [
           {
            "marker": {
             "colorbar": {
              "outlinewidth": 0,
              "ticks": ""
             }
            },
            "type": "scattergeo"
           }
          ],
          "scattergl": [
           {
            "marker": {
             "line": {
              "color": "#283442"
             }
            },
            "type": "scattergl"
           }
          ],
          "scattermap": [
           {
            "marker": {
             "colorbar": {
              "outlinewidth": 0,
              "ticks": ""
             }
            },
            "type": "scattermap"
           }
          ],
          "scattermapbox": [
           {
            "marker": {
             "colorbar": {
              "outlinewidth": 0,
              "ticks": ""
             }
            },
            "type": "scattermapbox"
           }
          ],
          "scatterpolar": [
           {
            "marker": {
             "colorbar": {
              "outlinewidth": 0,
              "ticks": ""
             }
            },
            "type": "scatterpolar"
           }
          ],
          "scatterpolargl": [
           {
            "marker": {
             "colorbar": {
              "outlinewidth": 0,
              "ticks": ""
             }
            },
            "type": "scatterpolargl"
           }
          ],
          "scatterternary": [
           {
            "marker": {
             "colorbar": {
              "outlinewidth": 0,
              "ticks": ""
             }
            },
            "type": "scatterternary"
           }
          ],
          "surface": [
           {
            "colorbar": {
             "outlinewidth": 0,
             "ticks": ""
            },
            "colorscale": [
             [
              0,
              "#0d0887"
             ],
             [
              0.1111111111111111,
              "#46039f"
             ],
             [
              0.2222222222222222,
              "#7201a8"
             ],
             [
              0.3333333333333333,
              "#9c179e"
             ],
             [
              0.4444444444444444,
              "#bd3786"
             ],
             [
              0.5555555555555556,
              "#d8576b"
             ],
             [
              0.6666666666666666,
              "#ed7953"
             ],
             [
              0.7777777777777778,
              "#fb9f3a"
             ],
             [
              0.8888888888888888,
              "#fdca26"
             ],
             [
              1,
              "#f0f921"
             ]
            ],
            "type": "surface"
           }
          ],
          "table": [
           {
            "cells": {
             "fill": {
              "color": "#506784"
             },
             "line": {
              "color": "rgb(17,17,17)"
             }
            },
            "header": {
             "fill": {
              "color": "#2a3f5f"
             },
             "line": {
              "color": "rgb(17,17,17)"
             }
            },
            "type": "table"
           }
          ]
         },
         "layout": {
          "annotationdefaults": {
           "arrowcolor": "#f2f5fa",
           "arrowhead": 0,
           "arrowwidth": 1
          },
          "autotypenumbers": "strict",
          "coloraxis": {
           "colorbar": {
            "outlinewidth": 0,
            "ticks": ""
           }
          },
          "colorscale": {
           "diverging": [
            [
             0,
             "#8e0152"
            ],
            [
             0.1,
             "#c51b7d"
            ],
            [
             0.2,
             "#de77ae"
            ],
            [
             0.3,
             "#f1b6da"
            ],
            [
             0.4,
             "#fde0ef"
            ],
            [
             0.5,
             "#f7f7f7"
            ],
            [
             0.6,
             "#e6f5d0"
            ],
            [
             0.7,
             "#b8e186"
            ],
            [
             0.8,
             "#7fbc41"
            ],
            [
             0.9,
             "#4d9221"
            ],
            [
             1,
             "#276419"
            ]
           ],
           "sequential": [
            [
             0,
             "#0d0887"
            ],
            [
             0.1111111111111111,
             "#46039f"
            ],
            [
             0.2222222222222222,
             "#7201a8"
            ],
            [
             0.3333333333333333,
             "#9c179e"
            ],
            [
             0.4444444444444444,
             "#bd3786"
            ],
            [
             0.5555555555555556,
             "#d8576b"
            ],
            [
             0.6666666666666666,
             "#ed7953"
            ],
            [
             0.7777777777777778,
             "#fb9f3a"
            ],
            [
             0.8888888888888888,
             "#fdca26"
            ],
            [
             1,
             "#f0f921"
            ]
           ],
           "sequentialminus": [
            [
             0,
             "#0d0887"
            ],
            [
             0.1111111111111111,
             "#46039f"
            ],
            [
             0.2222222222222222,
             "#7201a8"
            ],
            [
             0.3333333333333333,
             "#9c179e"
            ],
            [
             0.4444444444444444,
             "#bd3786"
            ],
            [
             0.5555555555555556,
             "#d8576b"
            ],
            [
             0.6666666666666666,
             "#ed7953"
            ],
            [
             0.7777777777777778,
             "#fb9f3a"
            ],
            [
             0.8888888888888888,
             "#fdca26"
            ],
            [
             1,
             "#f0f921"
            ]
           ]
          },
          "colorway": [
           "#636efa",
           "#EF553B",
           "#00cc96",
           "#ab63fa",
           "#FFA15A",
           "#19d3f3",
           "#FF6692",
           "#B6E880",
           "#FF97FF",
           "#FECB52"
          ],
          "font": {
           "color": "#f2f5fa"
          },
          "geo": {
           "bgcolor": "rgb(17,17,17)",
           "lakecolor": "rgb(17,17,17)",
           "landcolor": "rgb(17,17,17)",
           "showlakes": true,
           "showland": true,
           "subunitcolor": "#506784"
          },
          "hoverlabel": {
           "align": "left"
          },
          "hovermode": "closest",
          "mapbox": {
           "style": "dark"
          },
          "paper_bgcolor": "rgb(17,17,17)",
          "plot_bgcolor": "rgb(17,17,17)",
          "polar": {
           "angularaxis": {
            "gridcolor": "#506784",
            "linecolor": "#506784",
            "ticks": ""
           },
           "bgcolor": "rgb(17,17,17)",
           "radialaxis": {
            "gridcolor": "#506784",
            "linecolor": "#506784",
            "ticks": ""
           }
          },
          "scene": {
           "xaxis": {
            "backgroundcolor": "rgb(17,17,17)",
            "gridcolor": "#506784",
            "gridwidth": 2,
            "linecolor": "#506784",
            "showbackground": true,
            "ticks": "",
            "zerolinecolor": "#C8D4E3"
           },
           "yaxis": {
            "backgroundcolor": "rgb(17,17,17)",
            "gridcolor": "#506784",
            "gridwidth": 2,
            "linecolor": "#506784",
            "showbackground": true,
            "ticks": "",
            "zerolinecolor": "#C8D4E3"
           },
           "zaxis": {
            "backgroundcolor": "rgb(17,17,17)",
            "gridcolor": "#506784",
            "gridwidth": 2,
            "linecolor": "#506784",
            "showbackground": true,
            "ticks": "",
            "zerolinecolor": "#C8D4E3"
           }
          },
          "shapedefaults": {
           "line": {
            "color": "#f2f5fa"
           }
          },
          "sliderdefaults": {
           "bgcolor": "#C8D4E3",
           "bordercolor": "rgb(17,17,17)",
           "borderwidth": 1,
           "tickwidth": 0
          },
          "ternary": {
           "aaxis": {
            "gridcolor": "#506784",
            "linecolor": "#506784",
            "ticks": ""
           },
           "baxis": {
            "gridcolor": "#506784",
            "linecolor": "#506784",
            "ticks": ""
           },
           "bgcolor": "rgb(17,17,17)",
           "caxis": {
            "gridcolor": "#506784",
            "linecolor": "#506784",
            "ticks": ""
           }
          },
          "title": {
           "x": 0.05
          },
          "updatemenudefaults": {
           "bgcolor": "#506784",
           "borderwidth": 0
          },
          "xaxis": {
           "automargin": true,
           "gridcolor": "#283442",
           "linecolor": "#506784",
           "ticks": "",
           "title": {
            "standoff": 15
           },
           "zerolinecolor": "#283442",
           "zerolinewidth": 2
          },
          "yaxis": {
           "automargin": true,
           "gridcolor": "#283442",
           "linecolor": "#506784",
           "ticks": "",
           "title": {
            "standoff": 15
           },
           "zerolinecolor": "#283442",
           "zerolinewidth": 2
          }
         }
        },
        "title": {
         "text": "Crypto Prices with News Events"
        },
        "xaxis": {
         "range": [
          "2025-10-15T10:51:19.526643+00:00",
          "2025-10-16T10:51:19.526643+00:00"
         ],
         "rangeselector": {
          "activecolor": "#4D4D4D",
          "bgcolor": "#2D2D2D",
          "bordercolor": "#FFFFFF",
          "borderwidth": 1,
          "buttons": [
           {
            "count": 1,
            "label": "1H",
            "step": "hour",
            "stepmode": "backward"
           },
           {
            "count": 1,
            "label": "1D",
            "step": "day",
            "stepmode": "backward"
           },
           {
            "count": 3,
            "label": "3D",
            "step": "day",
            "stepmode": "backward"
           },
           {
            "label": "All",
            "step": "all"
           }
          ],
          "font": {
           "color": "#FFFFFF"
          }
         },
         "rangeslider": {
          "thickness": 0.1,
          "visible": true
         },
         "title": {
          "text": "Time"
         }
        },
        "yaxis": {
         "title": {
          "text": "Price (USD)"
         }
        }
       }
      }
     },
     "metadata": {},
     "output_type": "display_data"
    }
   ],
   "source": [
    "CRYPTO_COLORS = {\n",
    "    'bitcoin': '#F7931A',        # Orange\n",
    "    'ethereum': '#627EEA',       # Blue/Purple\n",
    "    'tether': '#26A17B',         # Green\n",
    "    'binancecoin': '#F3BA2F',    # Yellow/Gold\n",
    "    'solana': '#14F195',         # Bright Green/Cyan\n",
    "    'ripple': '#23292F',         # Dark Gray/Black\n",
    "    'cardano': '#0033AD',        # Blue\n",
    "    'dogecoin': '#C2A633',       # Gold/Yellow\n",
    "    'tron': '#FF060A',           # Red\n",
    "    'usd-coin': '#2775CA',       # Blue\n",
    "}\n",
    "\n",
    "import base64\n",
    "\n",
    "def img_to_base64(path):\n",
    "    with open(path, \"rb\") as f:\n",
    "        return \"data:image/jpeg;base64,\" + base64.b64encode(f.read()).decode()\n",
    "\n",
    "IMAGE_PATHS = {\n",
    "    'trump': img_to_base64('./images/round/trump.png'),\n",
    "    'elon': img_to_base64('./images/round/elon.png')\n",
    "}\n",
    "\n",
    "traces = []\n",
    "for crypto in selection.columns:\n",
    "    traces.append(go.Scatter(\n",
    "        x=pd.to_datetime(df['timestamp']).dt.round('1s'),\n",
    "        y=df[crypto],\n",
    "        mode='lines',\n",
    "        name=crypto,\n",
    "        line=dict(color=CRYPTO_COLORS.get(crypto, '#FFFFFF'), width=3),\n",
    "        marker=dict(size=4)\n",
    "    ))\n",
    "\n",
    "fig = go.Figure(data=traces)\n",
    "\n",
    "y_min = float(df[selection.columns].min().min())\n",
    "y_max = float(df[selection.columns].max().max())\n",
    "image_y = y_max + (y_max - y_min) * 0.05\n",
    "\n",
    "\n",
    "# --- Add each news image as overlay marker ---\n",
    "for i, row in df_news.iterrows():\n",
    "    date = pd.to_datetime(row['Date'])\n",
    "    \n",
    "    # Make date timezone-aware to match df timestamps\n",
    "    if date.tz is None:\n",
    "        date = date.tz_localize('UTC')\n",
    "    \n",
    "    # Calculate width as a fraction of the total time range\n",
    "    time_range = (pd.to_datetime(df['timestamp']).max() - pd.to_datetime(df['timestamp']).min()).total_seconds() * 1000\n",
    "    image_width = time_range * 0.5\n",
    "    \n",
    "    fig.add_layout_image(\n",
    "        dict(\n",
    "            source=IMAGE_PATHS['trump'] if row['person'].lower() == 'trump' else IMAGE_PATHS['elon'],\n",
    "            x=date,\n",
    "            y=image_y,\n",
    "            xref=\"x\",\n",
    "            yref=\"y\",\n",
    "            sizex=image_width,\n",
    "            sizey=(y_max - y_min) * 0.1,\n",
    "            xanchor=\"center\",\n",
    "            yanchor=\"middle\",\n",
    "            layer=\"above\"\n",
    "        )\n",
    "    )\n",
    "    \n",
    "    # Find the closest timestamp in the crypto data\n",
    "    df_temp = df.copy()\n",
    "    df_temp['timestamp'] = pd.to_datetime(df_temp['timestamp'])\n",
    "    closest_idx = (df_temp['timestamp'] - date).abs().idxmin()\n",
    "    \n",
    "    # Get prices at that timestamp for all selected cryptos\n",
    "    for crypto in selection.columns:\n",
    "        crypto_price = df.loc[closest_idx, crypto]\n",
    "        \n",
    "        # Add dashed line from image to price\n",
    "        fig.add_trace(go.Scatter(\n",
    "            x=[date, date],\n",
    "            y=[image_y, crypto_price],\n",
    "            mode='lines',\n",
    "            line=dict(color='white', width=1, dash='dash'),\n",
    "            showlegend=False,\n",
    "            hoverinfo='skip'\n",
    "        ))\n",
    "        \n",
    "        # Add point at the intersection with the price line\n",
    "        fig.add_trace(go.Scatter(\n",
    "            x=[date],\n",
    "            y=[crypto_price],\n",
    "            mode='markers',\n",
    "            marker=dict(\n",
    "                size=8,\n",
    "                color=CRYPTO_COLORS.get(crypto, '#FFFFFF'),\n",
    "                line=dict(color='white', width=2)\n",
    "            ),\n",
    "            showlegend=False,\n",
    "            hovertext=f\"{crypto}: ${crypto_price:.2f}<br>{row['Title']}\",\n",
    "            hoverinfo='text'\n",
    "        ))\n",
    "\n",
    "# Add invisible scatter points for hover text over images\n",
    "fig.add_trace(go.Scatter(\n",
    "    x=pd.to_datetime(df_news['Date']).dt.tz_localize('UTC') if pd.to_datetime(df_news['Date']).dt.tz is None else pd.to_datetime(df_news['Date']),\n",
    "    y=[image_y] * len(df_news),\n",
    "    mode='markers',\n",
    "    marker=dict(\n",
    "        size=50,\n",
    "        opacity=0,\n",
    "        color='rgba(0,0,0,0)'\n",
    "    ),\n",
    "    hovertext=df_news['Title'],\n",
    "    hoverinfo='text',\n",
    "    name='News Events',\n",
    "    showlegend=False\n",
    "))\n",
    "\n",
    "fig.update_layout(\n",
    "    title='Crypto Prices with News Events',\n",
    "    template='plotly_dark',\n",
    "    paper_bgcolor='#1E1E1E',\n",
    "    plot_bgcolor='#2D2D2D',\n",
    "    xaxis=dict(title='Time'),\n",
    "    yaxis=dict(title='Price (USD)'),\n",
    "    height=600,\n",
    "    hovermode='closest'\n",
    ")\n",
    "\n",
    "# Set initial view to last 24 hours\n",
    "latest_date = pd.to_datetime(df['timestamp']).max()\n",
    "initial_start = latest_date - pd.Timedelta(hours=24)\n",
    "\n",
    "fig.update_xaxes(\n",
    "    rangeslider_visible=True,\n",
    "    range=[latest_date - pd.Timedelta(hours=24), latest_date]\n",
    ")\n",
    "\n",
    "fig.update_xaxes(\n",
    "    rangeslider_visible=True,\n",
    "    rangeslider_thickness=0.1,\n",
    "    rangeselector=dict(\n",
    "        buttons=[\n",
    "            dict(count=1, label=\"1H\", step=\"hour\", stepmode=\"backward\"),\n",
    "            # dict(count=6, label=\"6H\", step=\"hour\", stepmode=\"backward\"),\n",
    "            # dict(count=12, label=\"12H\", step=\"hour\", stepmode=\"backward\"),\n",
    "            dict(count=1, label=\"1D\", step=\"day\", stepmode=\"backward\"),\n",
    "            dict(count=3, label=\"3D\", step=\"day\", stepmode=\"backward\"),\n",
    "            dict(step=\"all\", label=\"All\")\n",
    "        ],\n",
    "        bgcolor=\"#2D2D2D\",              # Dark background for buttons\n",
    "        activecolor=\"#4D4D4D\",          # Lighter dark when selected\n",
    "        bordercolor=\"#FFFFFF\",          # White border\n",
    "        borderwidth=1,\n",
    "        font=dict(color=\"#FFFFFF\")      # White text\n",
    "    )\n",
    ")\n",
    "\n",
    "fig.show()"
   ]
  },
  {
   "cell_type": "code",
   "execution_count": 97,
   "id": "254a110f",
   "metadata": {},
   "outputs": [
    {
     "name": "stdout",
     "output_type": "stream",
     "text": [
      "data:image/png;base64,iVBORw0KGgoAAAANSUhEUgAAAIAAAACACAYAAADDPmHLAABoS0lEQVR4nN29CbSl6XUVtv95vOObX8\n"
     ]
    }
   ],
   "source": [
    "uri = pil_to_base64_uri(\"./images/round/trump.jpg\")\n",
    "print(uri[:100])  "
   ]
  },
  {
   "cell_type": "code",
   "execution_count": null,
   "id": "ee22127f",
   "metadata": {},
   "outputs": [],
   "source": []
  },
  {
   "cell_type": "code",
   "execution_count": 5,
   "id": "5a9d7f51",
   "metadata": {},
   "outputs": [
    {
     "ename": "NameError",
     "evalue": "name 'df' is not defined",
     "output_type": "error",
     "traceback": [
      "\u001b[31m---------------------------------------------------------------------------\u001b[39m",
      "\u001b[31mNameError\u001b[39m                                 Traceback (most recent call last)",
      "\u001b[36mCell\u001b[39m\u001b[36m \u001b[39m\u001b[32mIn[5]\u001b[39m\u001b[32m, line 10\u001b[39m\n\u001b[32m      6\u001b[39m         options.append(cur_dict)\n\u001b[32m      8\u001b[39m     \u001b[38;5;28;01mreturn\u001b[39;00m options\n\u001b[32m---> \u001b[39m\u001b[32m10\u001b[39m options = get_Options(\u001b[43mdf\u001b[49m) \n",
      "\u001b[31mNameError\u001b[39m: name 'df' is not defined"
     ]
    }
   ],
   "source": [
    "def get_Options(df):\n",
    "    keys = [key.capitalize() for key in df.keys() if key != 'timestamp']\n",
    "    options = []\n",
    "    for key in keys:\n",
    "        cur_dict = {'label': key, 'value':key.lower()}\n",
    "        options.append(cur_dict)\n",
    "    \n",
    "    return options\n",
    "\n",
    "options = get_Options(df) \n"
   ]
  },
  {
   "cell_type": "code",
   "execution_count": 7,
   "id": "75a51f20",
   "metadata": {},
   "outputs": [
    {
     "name": "stdout",
     "output_type": "stream",
     "text": [
      "Dashboard running at: http://127.0.0.1:8050\n"
     ]
    },
    {
     "data": {
      "text/html": [
       "\n",
       "        <iframe\n",
       "            width=\"100%\"\n",
       "            height=\"650\"\n",
       "            src=\"http://127.0.0.1:8050/\"\n",
       "            frameborder=\"0\"\n",
       "            allowfullscreen\n",
       "            \n",
       "        ></iframe>\n",
       "        "
      ],
      "text/plain": [
       "<IPython.lib.display.IFrame at 0x1311cea90>"
      ]
     },
     "metadata": {},
     "output_type": "display_data"
    }
   ],
   "source": [
    "app = Dash(__name__)\n",
    "\n",
    "CRYPTO_COLORS = {\n",
    "    'bitcoin': '#F7931A',        # Orange\n",
    "    'ethereum': '#627EEA',       # Blue/Purple\n",
    "    'tether': '#26A17B',         # Green\n",
    "    'binancecoin': '#F3BA2F',    # Yellow/Gold\n",
    "    'solana': '#14F195',         # Bright Green/Cyan\n",
    "    'ripple': '#23292F',         # Dark Gray/Black\n",
    "    'cardano': '#0033AD',        # Blue\n",
    "    'dogecoin': '#C2A633',       # Gold/Yellow\n",
    "    'tron': '#FF060A',           # Red\n",
    "    'usd-coin': '#2775CA',       # Blue\n",
    "}\n",
    "\n",
    "app.layout = html.Div([\n",
    "    html.H1('Crypto Dashboard', style={'color': '#FFF', 'textAlign': 'center'}),\n",
    "    \n",
    "    # Hidden component to store data\n",
    "    dcc.Store(id='crypto-data-store'),\n",
    "    \n",
    "    html.Div([\n",
    "        html.Label('Select Cryptos to Display:', style={'color': '#FFF', 'fontWeight': 'bold'}),\n",
    "        dcc.Checklist(\n",
    "            id='crypto-selector',\n",
    "            options=[{'label': 'Tether', 'value': 'tether'},\n",
    "                    {'label': 'Ethereum', 'value': 'ethereum'},\n",
    "                    {'label': 'Binancecoin', 'value': 'binancecoin'},\n",
    "                    {'label': 'Cardano', 'value': 'cardano'},\n",
    "                    {'label': 'Dogecoin', 'value': 'dogecoin'},\n",
    "                    {'label': 'Solana', 'value': 'solana'},\n",
    "                    {'label': 'Tron', 'value': 'tron'},\n",
    "                    {'label': 'Ripple', 'value': 'ripple'},\n",
    "                    {'label': 'Usd-coin', 'value': 'usd-coin'},\n",
    "                    {'label': 'Bitcoin', 'value': 'bitcoin'}],\n",
    "            value=['bitcoin'],\n",
    "            inline=False,\n",
    "            style={'color': '#FFF', 'padding': '10px'}\n",
    "        ),\n",
    "    ], style={'padding': '20px', 'backgroundColor': '#2D2D2D', 'margin': '20px', 'borderRadius': '10px'}),\n",
    "    \n",
    "    html.Div([\n",
    "        html.Label('Start Time:', style={'color': '#FFF', 'marginRight': '10px'}),\n",
    "        dcc.Input(\n",
    "            id='start_time',\n",
    "            value='2025-10-13T16:00', \n",
    "            type='datetime-local',\n",
    "            style={'padding': '8px'}\n",
    "        ),\n",
    "        \n",
    "        html.Label('End Time:', style={'color': '#FFF', 'marginRight': '10px', 'marginLeft': '20px'}),\n",
    "        dcc.Input(\n",
    "            id='end_time',\n",
    "            value='2025-10-14T16:00', \n",
    "            type='datetime-local',\n",
    "            style={'padding': '8px'}\n",
    "        ),\n",
    "    ], style={'padding': '20px', 'backgroundColor': '#2D2D2D', 'margin': '20px', 'borderRadius': '10px'}),\n",
    "    \n",
    "    html.Div(id='query-status', style={'color': '#FFD700', 'padding': '10px', 'textAlign': 'center'}),\n",
    "    \n",
    "    dcc.Graph(id='chart')\n",
    "], style={'backgroundColor': '#121212', 'minHeight': '100vh'})\n",
    "\n",
    "# CALLBACK 1: Query database and store data (only triggers on time change)\n",
    "@app.callback(\n",
    "    [Output('crypto-data-store', 'data'),\n",
    "     Output('query-status', 'children')],\n",
    "    [Input('start_time', 'value'),\n",
    "     Input('end_time', 'value')]\n",
    ")\n",
    "def query_database(start_time, end_time):\n",
    "    \"\"\"This runs only when time changes - queries database\"\"\"\n",
    "    print(f\"QUERYING DATABASE: {start_time} to {end_time}\")\n",
    "    \n",
    "    # Query ALL cryptos from database\n",
    "    df_all = get_data(table, start_time, end_time)\n",
    "    \n",
    "    # Convert to JSON for storage\n",
    "    data_json = df_all.to_json(date_format='iso', orient='split')\n",
    "    \n",
    "    status = f\"Loaded {len(df_all)} records from database\"\n",
    "    \n",
    "    return data_json, status\n",
    "\n",
    "# CALLBACK 2: Update chart display (triggers on crypto selection OR when data changes)\n",
    "@app.callback(\n",
    "    Output('chart', 'figure'),\n",
    "    [Input('crypto-data-store', 'data'),    # Triggers when data is loaded\n",
    "     Input('crypto-selector', 'value')]     # Triggers when selection changes\n",
    ")\n",
    "def update_chart(stored_data, selected_cryptos):\n",
    "    \"\"\"This runs when crypto selection changes - uses stored data, NO new query\"\"\"\n",
    "    \n",
    "    if not stored_data:\n",
    "        return {\n",
    "            'data': [],\n",
    "            'layout': go.Layout(\n",
    "                title='Waiting for data...',\n",
    "                template='plotly_dark',\n",
    "                paper_bgcolor='#1E1E1E',\n",
    "                plot_bgcolor='#2D2D2D'\n",
    "            )\n",
    "        }\n",
    "    \n",
    "    print(f\"UPDATING CHART (no query): Showing {selected_cryptos}\")\n",
    "    \n",
    "    # Load data from storage (no database query!)\n",
    "    df = pd.read_json(stored_data, orient='split')\n",
    "    \n",
    "    # Filter by selected cryptos\n",
    "    traces = []\n",
    "    for crypto in selected_cryptos:\n",
    "        if len(df) == 0:\n",
    "            continue\n",
    "        \n",
    "        traces.append(go.Scatter(\n",
    "            x=df['timestamp'],\n",
    "            y=df[crypto],\n",
    "            mode='lines+markers',\n",
    "            name=crypto,\n",
    "            line=dict(color=CRYPTO_COLORS.get(crypto, '#FFFFFF'), width=3),\n",
    "            marker=dict(size=4)\n",
    "        ))\n",
    "\n",
    "    return {\n",
    "        'data': traces,\n",
    "        'layout': go.Layout(\n",
    "            title=f'Crypto Prices - Displaying {len(selected_cryptos)} cryptos',\n",
    "            template='plotly_dark',\n",
    "            paper_bgcolor='#1E1E1E',\n",
    "            plot_bgcolor='#2D2D2D',\n",
    "            xaxis={'title': 'Time'},\n",
    "            yaxis={'title': 'Price (USD)'},\n",
    "            hovermode='x unified'\n",
    "        )\n",
    "    }\n",
    "\n",
    "import threading\n",
    "\n",
    "def run_dash():\n",
    "    app.run(debug=False, port=8050, use_reloader=False)\n",
    "\n",
    "thread = threading.Thread(target=run_dash, daemon=True)\n",
    "thread.start()\n",
    "\n",
    "print(\"Dashboard running at: http://127.0.0.1:8050\")"
   ]
  },
  {
   "cell_type": "code",
   "execution_count": null,
   "id": "0a6029dc",
   "metadata": {},
   "outputs": [
    {
     "name": "stdout",
     "output_type": "stream",
     "text": [
      "Dashboard running at: http://127.0.0.1:8050\n"
     ]
    },
    {
     "name": "stdout",
     "output_type": "stream",
     "text": [
      "🔍 QUERYING DATABASE: 2025-10-13T16:00 to 2025-10-14T16:00🔍 QUERYING DATABASE: 2025-10-13T01:00 to 2025-10-14T16:00\n",
      "🔍 QUERYING DATABASE: 2025-10-13T16:00 to 2025-10-14T16:00\n",
      "🔍 QUERYING DATABASE: 2025-10-13T18:00 to 2025-10-14T16:00\n",
      "\n"
     ]
    },
    {
     "data": {
      "text/html": [
       "\n",
       "        <iframe\n",
       "            width=\"100%\"\n",
       "            height=\"650\"\n",
       "            src=\"http://127.0.0.1:8050/\"\n",
       "            frameborder=\"0\"\n",
       "            allowfullscreen\n",
       "            \n",
       "        ></iframe>\n",
       "        "
      ],
      "text/plain": [
       "<IPython.lib.display.IFrame at 0x12517b010>"
      ]
     },
     "metadata": {},
     "output_type": "display_data"
    },
    {
     "name": "stderr",
     "output_type": "stream",
     "text": [
      "[2025-10-14 16:32:54,018] ERROR in app: Exception on /_dash-update-component [POST]\n",
      "Traceback (most recent call last):\n",
      "  File \"/Users/davide/miniconda3/envs/prefect_env/lib/python3.11/site-packages/flask/app.py\", line 1511, in wsgi_app\n",
      "    response = self.full_dispatch_request()\n",
      "               ^^^^^^^^^^^^^^^^^^^^^^^^^^^^\n",
      "  File \"/Users/davide/miniconda3/envs/prefect_env/lib/python3.11/site-packages/flask/app.py\", line 919, in full_dispatch_request\n",
      "    rv = self.handle_user_exception(e)\n",
      "         ^^^^^^^^^^^^^^^^^^^^^^^^^^^^^\n",
      "  File \"/Users/davide/miniconda3/envs/prefect_env/lib/python3.11/site-packages/flask/app.py\", line 917, in full_dispatch_request\n",
      "    rv = self.dispatch_request()\n",
      "         ^^^^^^^^^^^^^^^^^^^^^^^\n",
      "  File \"/Users/davide/miniconda3/envs/prefect_env/lib/python3.11/site-packages/flask/app.py\", line 902, in dispatch_request\n",
      "    return self.ensure_sync(self.view_functions[rule.endpoint])(**view_args)  # type: ignore[no-any-return]\n",
      "           ^^^^^^^^^^^^^^^^^^^^^^^^^^^^^^^^^^^^^^^^^^^^^^^^^^^^^^^^^^^^^^^^^\n",
      "  File \"/Users/davide/miniconda3/envs/prefect_env/lib/python3.11/site-packages/dash/dash.py\", line 1494, in dispatch\n",
      "    response_data = ctx.run(partial_func)\n",
      "                    ^^^^^^^^^^^^^^^^^^^^^\n",
      "  File \"/Users/davide/miniconda3/envs/prefect_env/lib/python3.11/site-packages/dash/_callback.py\", line 688, in add_context\n",
      "    raise err\n",
      "  File \"/Users/davide/miniconda3/envs/prefect_env/lib/python3.11/site-packages/dash/_callback.py\", line 679, in add_context\n",
      "    output_value = _invoke_callback(func, *func_args, **func_kwargs)  # type: ignore[reportArgumentType]\n",
      "                   ^^^^^^^^^^^^^^^^^^^^^^^^^^^^^^^^^^^^^^^^^^^^^^^^^\n",
      "  File \"/Users/davide/miniconda3/envs/prefect_env/lib/python3.11/site-packages/dash/_callback.py\", line 59, in _invoke_callback\n",
      "    return func(*args, **kwargs)  # %% callback invoked %%\n",
      "           ^^^^^^^^^^^^^^^^^^^^^\n",
      "  File \"/var/folders/yc/f5g0c28x47g53ndmf5dwnb1c0000gn/T/ipykernel_46615/235980911.py\", line 63, in update_chart\n",
      "    df = get_mock_data(crypto, int(days))\n",
      "         ^^^^^^^^^^^^^\n",
      "NameError: name 'get_mock_data' is not defined\n",
      "[2025-10-14 16:32:54,027] ERROR in app: Exception on /_dash-update-component [POST]\n",
      "Traceback (most recent call last):\n",
      "  File \"/Users/davide/miniconda3/envs/prefect_env/lib/python3.11/site-packages/flask/app.py\", line 1511, in wsgi_app\n",
      "    response = self.full_dispatch_request()\n",
      "               ^^^^^^^^^^^^^^^^^^^^^^^^^^^^\n",
      "  File \"/Users/davide/miniconda3/envs/prefect_env/lib/python3.11/site-packages/flask/app.py\", line 919, in full_dispatch_request\n",
      "    rv = self.handle_user_exception(e)\n",
      "         ^^^^^^^^^^^^^^^^^^^^^^^^^^^^^\n",
      "  File \"/Users/davide/miniconda3/envs/prefect_env/lib/python3.11/site-packages/flask/app.py\", line 917, in full_dispatch_request\n",
      "    rv = self.dispatch_request()\n",
      "         ^^^^^^^^^^^^^^^^^^^^^^^\n",
      "  File \"/Users/davide/miniconda3/envs/prefect_env/lib/python3.11/site-packages/flask/app.py\", line 902, in dispatch_request\n",
      "    return self.ensure_sync(self.view_functions[rule.endpoint])(**view_args)  # type: ignore[no-any-return]\n",
      "           ^^^^^^^^^^^^^^^^^^^^^^^^^^^^^^^^^^^^^^^^^^^^^^^^^^^^^^^^^^^^^^^^^\n",
      "  File \"/Users/davide/miniconda3/envs/prefect_env/lib/python3.11/site-packages/dash/dash.py\", line 1494, in dispatch\n",
      "    response_data = ctx.run(partial_func)\n",
      "                    ^^^^^^^^^^^^^^^^^^^^^\n",
      "  File \"/Users/davide/miniconda3/envs/prefect_env/lib/python3.11/site-packages/dash/_callback.py\", line 688, in add_context\n",
      "    raise err\n",
      "  File \"/Users/davide/miniconda3/envs/prefect_env/lib/python3.11/site-packages/dash/_callback.py\", line 679, in add_context\n",
      "    output_value = _invoke_callback(func, *func_args, **func_kwargs)  # type: ignore[reportArgumentType]\n",
      "                   ^^^^^^^^^^^^^^^^^^^^^^^^^^^^^^^^^^^^^^^^^^^^^^^^^\n",
      "  File \"/Users/davide/miniconda3/envs/prefect_env/lib/python3.11/site-packages/dash/_callback.py\", line 59, in _invoke_callback\n",
      "    return func(*args, **kwargs)  # %% callback invoked %%\n",
      "           ^^^^^^^^^^^^^^^^^^^^^\n",
      "  File \"/var/folders/yc/f5g0c28x47g53ndmf5dwnb1c0000gn/T/ipykernel_46615/235980911.py\", line 63, in update_chart\n",
      "    df = get_mock_data(crypto, int(days))\n",
      "         ^^^^^^^^^^^^^\n",
      "NameError: name 'get_mock_data' is not defined\n",
      "[2025-10-14 16:33:09,799] ERROR in app: Exception on /_dash-update-component [POST]\n",
      "Traceback (most recent call last):\n",
      "  File \"/Users/davide/miniconda3/envs/prefect_env/lib/python3.11/site-packages/dash/dash.py\", line 1388, in _prepare_callback\n",
      "    cb = self.callback_map[output]\n",
      "         ~~~~~~~~~~~~~~~~~^^^^^^^^\n",
      "KeyError: '..crypto-data-store.data...query-status.children..'\n",
      "\n",
      "The above exception was the direct cause of the following exception:\n",
      "\n",
      "Traceback (most recent call last):\n",
      "  File \"/Users/davide/miniconda3/envs/prefect_env/lib/python3.11/site-packages/flask/app.py\", line 1511, in wsgi_app\n",
      "    response = self.full_dispatch_request()\n",
      "               ^^^^^^^^^^^^^^^^^^^^^^^^^^^^\n",
      "  File \"/Users/davide/miniconda3/envs/prefect_env/lib/python3.11/site-packages/flask/app.py\", line 919, in full_dispatch_request\n",
      "    rv = self.handle_user_exception(e)\n",
      "         ^^^^^^^^^^^^^^^^^^^^^^^^^^^^^\n",
      "  File \"/Users/davide/miniconda3/envs/prefect_env/lib/python3.11/site-packages/flask/app.py\", line 917, in full_dispatch_request\n",
      "    rv = self.dispatch_request()\n",
      "         ^^^^^^^^^^^^^^^^^^^^^^^\n",
      "  File \"/Users/davide/miniconda3/envs/prefect_env/lib/python3.11/site-packages/flask/app.py\", line 902, in dispatch_request\n",
      "    return self.ensure_sync(self.view_functions[rule.endpoint])(**view_args)  # type: ignore[no-any-return]\n",
      "           ^^^^^^^^^^^^^^^^^^^^^^^^^^^^^^^^^^^^^^^^^^^^^^^^^^^^^^^^^^^^^^^^^\n",
      "  File \"/Users/davide/miniconda3/envs/prefect_env/lib/python3.11/site-packages/dash/dash.py\", line 1489, in dispatch\n",
      "    func = self._prepare_callback(g, body)\n",
      "           ^^^^^^^^^^^^^^^^^^^^^^^^^^^^^^^\n",
      "  File \"/Users/davide/miniconda3/envs/prefect_env/lib/python3.11/site-packages/dash/dash.py\", line 1422, in _prepare_callback\n",
      "    raise KeyError(f\"Callback function not found for output '{output}'.\") from e\n",
      "KeyError: \"Callback function not found for output '..crypto-data-store.data...query-status.children..'.\"\n",
      "[2025-10-14 16:33:10,387] ERROR in app: Exception on /_dash-update-component [POST]\n",
      "Traceback (most recent call last):\n",
      "  File \"/Users/davide/miniconda3/envs/prefect_env/lib/python3.11/site-packages/dash/dash.py\", line 1388, in _prepare_callback\n",
      "    cb = self.callback_map[output]\n",
      "         ~~~~~~~~~~~~~~~~~^^^^^^^^\n",
      "KeyError: '..crypto-data-store.data...query-status.children..'\n",
      "\n",
      "The above exception was the direct cause of the following exception:\n",
      "\n",
      "Traceback (most recent call last):\n",
      "  File \"/Users/davide/miniconda3/envs/prefect_env/lib/python3.11/site-packages/flask/app.py\", line 1511, in wsgi_app\n",
      "    response = self.full_dispatch_request()\n",
      "               ^^^^^^^^^^^^^^^^^^^^^^^^^^^^\n",
      "  File \"/Users/davide/miniconda3/envs/prefect_env/lib/python3.11/site-packages/flask/app.py\", line 919, in full_dispatch_request\n",
      "    rv = self.handle_user_exception(e)\n",
      "         ^^^^^^^^^^^^^^^^^^^^^^^^^^^^^\n",
      "  File \"/Users/davide/miniconda3/envs/prefect_env/lib/python3.11/site-packages/flask/app.py\", line 917, in full_dispatch_request\n",
      "    rv = self.dispatch_request()\n",
      "         ^^^^^^^^^^^^^^^^^^^^^^^\n",
      "  File \"/Users/davide/miniconda3/envs/prefect_env/lib/python3.11/site-packages/flask/app.py\", line 902, in dispatch_request\n",
      "    return self.ensure_sync(self.view_functions[rule.endpoint])(**view_args)  # type: ignore[no-any-return]\n",
      "           ^^^^^^^^^^^^^^^^^^^^^^^^^^^^^^^^^^^^^^^^^^^^^^^^^^^^^^^^^^^^^^^^^\n",
      "  File \"/Users/davide/miniconda3/envs/prefect_env/lib/python3.11/site-packages/dash/dash.py\", line 1489, in dispatch\n",
      "    func = self._prepare_callback(g, body)\n",
      "           ^^^^^^^^^^^^^^^^^^^^^^^^^^^^^^^\n",
      "  File \"/Users/davide/miniconda3/envs/prefect_env/lib/python3.11/site-packages/dash/dash.py\", line 1422, in _prepare_callback\n",
      "    raise KeyError(f\"Callback function not found for output '{output}'.\") from e\n",
      "KeyError: \"Callback function not found for output '..crypto-data-store.data...query-status.children..'.\"\n",
      "[2025-10-14 16:33:12,898] ERROR in app: Exception on /_dash-update-component [POST]\n",
      "Traceback (most recent call last):\n",
      "  File \"/Users/davide/miniconda3/envs/prefect_env/lib/python3.11/site-packages/dash/dash.py\", line 1388, in _prepare_callback\n",
      "    cb = self.callback_map[output]\n",
      "         ~~~~~~~~~~~~~~~~~^^^^^^^^\n",
      "KeyError: '..crypto-data-store.data...query-status.children..'\n",
      "\n",
      "The above exception was the direct cause of the following exception:\n",
      "\n",
      "Traceback (most recent call last):\n",
      "  File \"/Users/davide/miniconda3/envs/prefect_env/lib/python3.11/site-packages/flask/app.py\", line 1511, in wsgi_app\n",
      "    response = self.full_dispatch_request()\n",
      "               ^^^^^^^^^^^^^^^^^^^^^^^^^^^^\n",
      "  File \"/Users/davide/miniconda3/envs/prefect_env/lib/python3.11/site-packages/flask/app.py\", line 919, in full_dispatch_request\n",
      "    rv = self.handle_user_exception(e)\n",
      "         ^^^^^^^^^^^^^^^^^^^^^^^^^^^^^\n",
      "  File \"/Users/davide/miniconda3/envs/prefect_env/lib/python3.11/site-packages/flask/app.py\", line 917, in full_dispatch_request\n",
      "    rv = self.dispatch_request()\n",
      "         ^^^^^^^^^^^^^^^^^^^^^^^\n",
      "  File \"/Users/davide/miniconda3/envs/prefect_env/lib/python3.11/site-packages/flask/app.py\", line 902, in dispatch_request\n",
      "    return self.ensure_sync(self.view_functions[rule.endpoint])(**view_args)  # type: ignore[no-any-return]\n",
      "           ^^^^^^^^^^^^^^^^^^^^^^^^^^^^^^^^^^^^^^^^^^^^^^^^^^^^^^^^^^^^^^^^^\n",
      "  File \"/Users/davide/miniconda3/envs/prefect_env/lib/python3.11/site-packages/dash/dash.py\", line 1489, in dispatch\n",
      "    func = self._prepare_callback(g, body)\n",
      "           ^^^^^^^^^^^^^^^^^^^^^^^^^^^^^^^\n",
      "  File \"/Users/davide/miniconda3/envs/prefect_env/lib/python3.11/site-packages/dash/dash.py\", line 1422, in _prepare_callback\n",
      "    raise KeyError(f\"Callback function not found for output '{output}'.\") from e\n",
      "KeyError: \"Callback function not found for output '..crypto-data-store.data...query-status.children..'.\"\n",
      "[2025-10-14 16:33:13,146] ERROR in app: Exception on /_dash-update-component [POST]\n",
      "Traceback (most recent call last):\n",
      "  File \"/Users/davide/miniconda3/envs/prefect_env/lib/python3.11/site-packages/dash/dash.py\", line 1388, in _prepare_callback\n",
      "    cb = self.callback_map[output]\n",
      "         ~~~~~~~~~~~~~~~~~^^^^^^^^\n",
      "KeyError: '..crypto-data-store.data...query-status.children..'\n",
      "\n",
      "The above exception was the direct cause of the following exception:\n",
      "\n",
      "Traceback (most recent call last):\n",
      "  File \"/Users/davide/miniconda3/envs/prefect_env/lib/python3.11/site-packages/flask/app.py\", line 1511, in wsgi_app\n",
      "    response = self.full_dispatch_request()\n",
      "               ^^^^^^^^^^^^^^^^^^^^^^^^^^^^\n",
      "  File \"/Users/davide/miniconda3/envs/prefect_env/lib/python3.11/site-packages/flask/app.py\", line 919, in full_dispatch_request\n",
      "    rv = self.handle_user_exception(e)\n",
      "         ^^^^^^^^^^^^^^^^^^^^^^^^^^^^^\n",
      "  File \"/Users/davide/miniconda3/envs/prefect_env/lib/python3.11/site-packages/flask/app.py\", line 917, in full_dispatch_request\n",
      "    rv = self.dispatch_request()\n",
      "         ^^^^^^^^^^^^^^^^^^^^^^^\n",
      "  File \"/Users/davide/miniconda3/envs/prefect_env/lib/python3.11/site-packages/flask/app.py\", line 902, in dispatch_request\n",
      "    return self.ensure_sync(self.view_functions[rule.endpoint])(**view_args)  # type: ignore[no-any-return]\n",
      "           ^^^^^^^^^^^^^^^^^^^^^^^^^^^^^^^^^^^^^^^^^^^^^^^^^^^^^^^^^^^^^^^^^\n",
      "  File \"/Users/davide/miniconda3/envs/prefect_env/lib/python3.11/site-packages/dash/dash.py\", line 1489, in dispatch\n",
      "    func = self._prepare_callback(g, body)\n",
      "           ^^^^^^^^^^^^^^^^^^^^^^^^^^^^^^^\n",
      "  File \"/Users/davide/miniconda3/envs/prefect_env/lib/python3.11/site-packages/dash/dash.py\", line 1422, in _prepare_callback\n",
      "    raise KeyError(f\"Callback function not found for output '{output}'.\") from e\n",
      "KeyError: \"Callback function not found for output '..crypto-data-store.data...query-status.children..'.\"\n",
      "[2025-10-14 16:33:23,822] ERROR in app: Exception on /_dash-update-component [POST]\n",
      "Traceback (most recent call last):\n",
      "  File \"/Users/davide/miniconda3/envs/prefect_env/lib/python3.11/site-packages/flask/app.py\", line 1511, in wsgi_app\n",
      "    response = self.full_dispatch_request()\n",
      "               ^^^^^^^^^^^^^^^^^^^^^^^^^^^^\n",
      "  File \"/Users/davide/miniconda3/envs/prefect_env/lib/python3.11/site-packages/flask/app.py\", line 919, in full_dispatch_request\n",
      "    rv = self.handle_user_exception(e)\n",
      "         ^^^^^^^^^^^^^^^^^^^^^^^^^^^^^\n",
      "  File \"/Users/davide/miniconda3/envs/prefect_env/lib/python3.11/site-packages/flask/app.py\", line 917, in full_dispatch_request\n",
      "    rv = self.dispatch_request()\n",
      "         ^^^^^^^^^^^^^^^^^^^^^^^\n",
      "  File \"/Users/davide/miniconda3/envs/prefect_env/lib/python3.11/site-packages/flask/app.py\", line 902, in dispatch_request\n",
      "    return self.ensure_sync(self.view_functions[rule.endpoint])(**view_args)  # type: ignore[no-any-return]\n",
      "           ^^^^^^^^^^^^^^^^^^^^^^^^^^^^^^^^^^^^^^^^^^^^^^^^^^^^^^^^^^^^^^^^^\n",
      "  File \"/Users/davide/miniconda3/envs/prefect_env/lib/python3.11/site-packages/dash/dash.py\", line 1494, in dispatch\n",
      "    response_data = ctx.run(partial_func)\n",
      "                    ^^^^^^^^^^^^^^^^^^^^^\n",
      "  File \"/Users/davide/miniconda3/envs/prefect_env/lib/python3.11/site-packages/dash/_callback.py\", line 688, in add_context\n",
      "    raise err\n",
      "  File \"/Users/davide/miniconda3/envs/prefect_env/lib/python3.11/site-packages/dash/_callback.py\", line 679, in add_context\n",
      "    output_value = _invoke_callback(func, *func_args, **func_kwargs)  # type: ignore[reportArgumentType]\n",
      "                   ^^^^^^^^^^^^^^^^^^^^^^^^^^^^^^^^^^^^^^^^^^^^^^^^^\n",
      "  File \"/Users/davide/miniconda3/envs/prefect_env/lib/python3.11/site-packages/dash/_callback.py\", line 59, in _invoke_callback\n",
      "    return func(*args, **kwargs)  # %% callback invoked %%\n",
      "           ^^^^^^^^^^^^^^^^^^^^^\n",
      "  File \"/var/folders/yc/f5g0c28x47g53ndmf5dwnb1c0000gn/T/ipykernel_46615/235980911.py\", line 63, in update_chart\n",
      "    df = get_mock_data(crypto, int(days))\n",
      "         ^^^^^^^^^^^^^\n",
      "NameError: name 'get_mock_data' is not defined\n",
      "[2025-10-14 16:33:24,260] ERROR in app: Exception on /_dash-update-component [POST]\n",
      "Traceback (most recent call last):\n",
      "  File \"/Users/davide/miniconda3/envs/prefect_env/lib/python3.11/site-packages/flask/app.py\", line 1511, in wsgi_app\n",
      "    response = self.full_dispatch_request()\n",
      "               ^^^^^^^^^^^^^^^^^^^^^^^^^^^^\n",
      "  File \"/Users/davide/miniconda3/envs/prefect_env/lib/python3.11/site-packages/flask/app.py\", line 919, in full_dispatch_request\n",
      "    rv = self.handle_user_exception(e)\n",
      "         ^^^^^^^^^^^^^^^^^^^^^^^^^^^^^\n",
      "  File \"/Users/davide/miniconda3/envs/prefect_env/lib/python3.11/site-packages/flask/app.py\", line 917, in full_dispatch_request\n",
      "    rv = self.dispatch_request()\n",
      "         ^^^^^^^^^^^^^^^^^^^^^^^\n",
      "  File \"/Users/davide/miniconda3/envs/prefect_env/lib/python3.11/site-packages/flask/app.py\", line 902, in dispatch_request\n",
      "    return self.ensure_sync(self.view_functions[rule.endpoint])(**view_args)  # type: ignore[no-any-return]\n",
      "           ^^^^^^^^^^^^^^^^^^^^^^^^^^^^^^^^^^^^^^^^^^^^^^^^^^^^^^^^^^^^^^^^^\n",
      "  File \"/Users/davide/miniconda3/envs/prefect_env/lib/python3.11/site-packages/dash/dash.py\", line 1494, in dispatch\n",
      "    response_data = ctx.run(partial_func)\n",
      "                    ^^^^^^^^^^^^^^^^^^^^^\n",
      "  File \"/Users/davide/miniconda3/envs/prefect_env/lib/python3.11/site-packages/dash/_callback.py\", line 688, in add_context\n",
      "    raise err\n",
      "  File \"/Users/davide/miniconda3/envs/prefect_env/lib/python3.11/site-packages/dash/_callback.py\", line 679, in add_context\n",
      "    output_value = _invoke_callback(func, *func_args, **func_kwargs)  # type: ignore[reportArgumentType]\n",
      "                   ^^^^^^^^^^^^^^^^^^^^^^^^^^^^^^^^^^^^^^^^^^^^^^^^^\n",
      "  File \"/Users/davide/miniconda3/envs/prefect_env/lib/python3.11/site-packages/dash/_callback.py\", line 59, in _invoke_callback\n",
      "    return func(*args, **kwargs)  # %% callback invoked %%\n",
      "           ^^^^^^^^^^^^^^^^^^^^^\n",
      "  File \"/var/folders/yc/f5g0c28x47g53ndmf5dwnb1c0000gn/T/ipykernel_46615/235980911.py\", line 63, in update_chart\n",
      "    df = get_mock_data(crypto, int(days))\n",
      "         ^^^^^^^^^^^^^\n",
      "NameError: name 'get_mock_data' is not defined\n",
      "[2025-10-14 16:33:24,643] ERROR in app: Exception on /_dash-update-component [POST]\n",
      "Traceback (most recent call last):\n",
      "  File \"/Users/davide/miniconda3/envs/prefect_env/lib/python3.11/site-packages/flask/app.py\", line 1511, in wsgi_app\n",
      "    response = self.full_dispatch_request()\n",
      "               ^^^^^^^^^^^^^^^^^^^^^^^^^^^^\n",
      "  File \"/Users/davide/miniconda3/envs/prefect_env/lib/python3.11/site-packages/flask/app.py\", line 919, in full_dispatch_request\n",
      "    rv = self.handle_user_exception(e)\n",
      "         ^^^^^^^^^^^^^^^^^^^^^^^^^^^^^\n",
      "  File \"/Users/davide/miniconda3/envs/prefect_env/lib/python3.11/site-packages/flask/app.py\", line 917, in full_dispatch_request\n",
      "    rv = self.dispatch_request()\n",
      "         ^^^^^^^^^^^^^^^^^^^^^^^\n",
      "  File \"/Users/davide/miniconda3/envs/prefect_env/lib/python3.11/site-packages/flask/app.py\", line 902, in dispatch_request\n",
      "    return self.ensure_sync(self.view_functions[rule.endpoint])(**view_args)  # type: ignore[no-any-return]\n",
      "           ^^^^^^^^^^^^^^^^^^^^^^^^^^^^^^^^^^^^^^^^^^^^^^^^^^^^^^^^^^^^^^^^^\n",
      "  File \"/Users/davide/miniconda3/envs/prefect_env/lib/python3.11/site-packages/dash/dash.py\", line 1494, in dispatch\n",
      "    response_data = ctx.run(partial_func)\n",
      "                    ^^^^^^^^^^^^^^^^^^^^^\n",
      "  File \"/Users/davide/miniconda3/envs/prefect_env/lib/python3.11/site-packages/dash/_callback.py\", line 688, in add_context\n",
      "    raise err\n",
      "  File \"/Users/davide/miniconda3/envs/prefect_env/lib/python3.11/site-packages/dash/_callback.py\", line 679, in add_context\n",
      "    output_value = _invoke_callback(func, *func_args, **func_kwargs)  # type: ignore[reportArgumentType]\n",
      "                   ^^^^^^^^^^^^^^^^^^^^^^^^^^^^^^^^^^^^^^^^^^^^^^^^^\n",
      "  File \"/Users/davide/miniconda3/envs/prefect_env/lib/python3.11/site-packages/dash/_callback.py\", line 59, in _invoke_callback\n",
      "    return func(*args, **kwargs)  # %% callback invoked %%\n",
      "           ^^^^^^^^^^^^^^^^^^^^^\n",
      "  File \"/var/folders/yc/f5g0c28x47g53ndmf5dwnb1c0000gn/T/ipykernel_46615/235980911.py\", line 63, in update_chart\n",
      "    df = get_mock_data(crypto, int(days))\n",
      "         ^^^^^^^^^^^^^\n",
      "NameError: name 'get_mock_data' is not defined\n"
     ]
    }
   ],
   "source": [
    "\n",
    "app = Dash(__name__)\n",
    "\n",
    "\n",
    "\n",
    "CRYPTO_COLORS = {\n",
    "    'bitcoin': '#F7931A',        # Orange\n",
    "    'ethereum': '#627EEA',       # Blue/Purple\n",
    "    'tether': \"#6F9C8D\",         # Green\n",
    "    'binancecoin': '#F3BA2F',    # Yellow/Gold\n",
    "    'solana': '#14F195',         # Bright Green/Cyan\n",
    "    'ripple': \"#C51CDF\",         # Dark Gray/Black\n",
    "    'cardano': '#0033AD',        # Blue\n",
    "    'dogecoin': '#C2A633',       # Gold/Yellow\n",
    "    'tron': '#FF060A',           # Red\n",
    "    'usd-coin': '#2775CA',       # Blue\n",
    "}\n",
    "\n",
    "app.layout = html.Div([\n",
    "    html.H1('Crypto Dashboard', style={'color': '#FFF', 'textAlign': 'center'}),\n",
    "    \n",
    "    dcc.RadioItems(\n",
    "        id='crypto-selector',\n",
    "        options=get_Options(df),\n",
    "        value=['BIT'],\n",
    "        inline=False,\n",
    "        style={'color': '#FFF', 'padding': '20px'}\n",
    "    ),\n",
    "    \n",
    "    dcc.Input(\n",
    "        id='start_time',\n",
    "        value='2025-10-13T16:00:00', \n",
    "        type='text'\n",
    "    ),\n",
    "\n",
    "    dcc.Input(\n",
    "        id='end_time',\n",
    "        value='2025-10-14T16:00:00', \n",
    "        type='text'\n",
    "    ),\n",
    "\n",
    "    # dcc.RadioItems(\n",
    "    #     id='timeframe',\n",
    "    #     options=[\n",
    "    #         {'label': ' 7d', 'value': '7'},\n",
    "    #         {'label': ' 30d', 'value': '30'}\n",
    "    #     ],\n",
    "    #     value='7',\n",
    "    #     inline=True,\n",
    "    #     style={'color': '#FFF', 'padding': '20px'}\n",
    "    # ),\n",
    "    \n",
    "    dcc.Graph(id='chart')\n",
    "], style={'backgroundColor': '#121212', 'minHeight': '100vh'})\n",
    "\n",
    "@app.callback(\n",
    "    Output('chart', 'figure'),\n",
    "    [Input('crypto-selector', 'value'),\n",
    "     Input('timeframe', 'value')]\n",
    ")\n",
    "def update_chart(cryptos, days):\n",
    "    traces = []\n",
    "    for crypto in cryptos:\n",
    "        df = get_mock_data(crypto, int(days))\n",
    "        traces.append(go.Scatter(\n",
    "            x=df['date'],\n",
    "            y=df['price'],\n",
    "            mode='lines+markers',\n",
    "            name=crypto,\n",
    "            line=dict(color=CRYPTO_COLORS[crypto], width=3)\n",
    "        ))\n",
    "    \n",
    "    return {\n",
    "        'data': traces,\n",
    "        'layout': go.Layout(\n",
    "            template='plotly_dark',\n",
    "            paper_bgcolor='#1E1E1E',\n",
    "            plot_bgcolor='#2D2D2D'\n",
    "        )\n",
    "    }\n",
    "\n",
    "# Run in a thread for notebooks\n",
    "import threading\n",
    "\n",
    "def run_dash():\n",
    "    app.run(debug=False, port=8050, use_reloader=False)\n",
    "\n",
    "thread = threading.Thread(target=run_dash, daemon=True)\n",
    "thread.start()\n",
    "\n",
    "print(\"Dashboard running at: http://127.0.0.1:8050\")"
   ]
  },
  {
   "cell_type": "code",
   "execution_count": 48,
   "id": "c18e295e",
   "metadata": {},
   "outputs": [
    {
     "ename": "AttributeError",
     "evalue": "'super' object has no attribute 'run_server'",
     "output_type": "error",
     "traceback": [
      "\u001b[31m---------------------------------------------------------------------------\u001b[39m",
      "\u001b[31mAttributeError\u001b[39m                            Traceback (most recent call last)",
      "\u001b[36mCell\u001b[39m\u001b[36m \u001b[39m\u001b[32mIn[48]\u001b[39m\u001b[32m, line 81\u001b[39m\n\u001b[32m     12\u001b[39m \u001b[38;5;66;03m# App layout\u001b[39;00m\n\u001b[32m     13\u001b[39m app.layout = html.Div([\n\u001b[32m     14\u001b[39m     html.Div([\n\u001b[32m     15\u001b[39m         html.H1(\u001b[33m'\u001b[39m\u001b[33mInteractive Crypto Dashboard\u001b[39m\u001b[33m'\u001b[39m, \n\u001b[32m   (...)\u001b[39m\u001b[32m     78\u001b[39m     ])\n\u001b[32m     79\u001b[39m ])\n\u001b[32m---> \u001b[39m\u001b[32m81\u001b[39m \u001b[43mapp\u001b[49m\u001b[43m.\u001b[49m\u001b[43mrun_server\u001b[49m\u001b[43m(\u001b[49m\u001b[43mmode\u001b[49m\u001b[43m=\u001b[49m\u001b[33;43m'\u001b[39;49m\u001b[33;43mexternal\u001b[39;49m\u001b[33;43m'\u001b[39;49m\u001b[43m,\u001b[49m\u001b[43m \u001b[49m\u001b[43mport\u001b[49m\u001b[43m=\u001b[49m\u001b[32;43m8050\u001b[39;49m\u001b[43m)\u001b[49m\n",
      "\u001b[36mFile \u001b[39m\u001b[32m~/miniconda3/envs/prefect_env/lib/python3.11/site-packages/jupyter_dash/jupyter_app.py:176\u001b[39m, in \u001b[36mJupyterDash.run_server\u001b[39m\u001b[34m(self, mode, width, height, inline_exceptions, **kwargs)\u001b[39m\n\u001b[32m    154\u001b[39m \u001b[38;5;250m\u001b[39m\u001b[33;03m\"\"\"\u001b[39;00m\n\u001b[32m    155\u001b[39m \u001b[33;03mServe the app using flask in a background thread. You should not run this on a\u001b[39;00m\n\u001b[32m    156\u001b[39m \u001b[33;03mproduction server, use gunicorn/waitress instead.\u001b[39;00m\n\u001b[32m   (...)\u001b[39m\u001b[32m    173\u001b[39m \u001b[33;03m    ``Dash.run_server`` method.\u001b[39;00m\n\u001b[32m    174\u001b[39m \u001b[33;03m\"\"\"\u001b[39;00m\n\u001b[32m    175\u001b[39m \u001b[38;5;66;03m# Get superclass run_server method\u001b[39;00m\n\u001b[32m--> \u001b[39m\u001b[32m176\u001b[39m super_run_server = \u001b[38;5;28;43msuper\u001b[39;49m\u001b[43m(\u001b[49m\u001b[43mJupyterDash\u001b[49m\u001b[43m,\u001b[49m\u001b[43m \u001b[49m\u001b[38;5;28;43mself\u001b[39;49m\u001b[43m)\u001b[49m\u001b[43m.\u001b[49m\u001b[43mrun_server\u001b[49m\n\u001b[32m    178\u001b[39m \u001b[38;5;28;01mif\u001b[39;00m \u001b[38;5;129;01mnot\u001b[39;00m JupyterDash._in_ipython:\n\u001b[32m    179\u001b[39m     \u001b[38;5;66;03m# If not in IPython context, call run run_server synchronously\u001b[39;00m\n\u001b[32m    180\u001b[39m     super_run_server(**kwargs)\n",
      "\u001b[31mAttributeError\u001b[39m: 'super' object has no attribute 'run_server'"
     ]
    }
   ],
   "source": [
    "\n",
    "\n",
    "app = JupyterDash(__name__)\n",
    "\n",
    "# Define color palette for different cryptos\n",
    "CRYPTO_COLORS = {\n",
    "    'BTC': '#F7931A',\n",
    "    'ETH': '#627EEA',\n",
    "    'SOL': '#00FFA3',\n",
    "    'ADA': '#0033AD',\n",
    "    'DOT': '#E6007A'\n",
    "}\n",
    "\n",
    "# App layout\n",
    "app.layout = html.Div([\n",
    "    html.Div([\n",
    "        html.H1('Interactive Crypto Dashboard', \n",
    "                style={'color': '#FFFFFF', 'marginBottom': '10px'}),\n",
    "        html.P('Select cryptocurrencies and timeframe to compare price trends',\n",
    "               style={'color': '#B0B0B0', 'fontSize': '16px'})\n",
    "    ], style={'textAlign': 'center', 'padding': '20px', 'backgroundColor': '#1E1E1E'}),\n",
    "    \n",
    "    html.Div([\n",
    "        # Controls Row\n",
    "        html.Div([\n",
    "            # Crypto Selection\n",
    "            html.Div([\n",
    "                html.Label('Select Cryptocurrencies to Overlay:', \n",
    "                          style={'color': '#FFFFFF', 'fontWeight': 'bold', 'marginBottom': '10px'}),\n",
    "                dcc.Checklist(\n",
    "                    id='crypto-selector',\n",
    "                    options=[\n",
    "                        {'label': ' Bitcoin (BTC)', 'value': 'BTC'},\n",
    "                        {'label': ' Ethereum (ETH)', 'value': 'ETH'},\n",
    "                        {'label': ' Solana (SOL)', 'value': 'SOL'},\n",
    "                        {'label': ' Cardano (ADA)', 'value': 'ADA'},\n",
    "                        {'label': ' Polkadot (DOT)', 'value': 'DOT'}\n",
    "                    ],\n",
    "                    value=['BTC', 'ETH'],  # Default selections\n",
    "                    inline=True,\n",
    "                    style={'color': '#FFFFFF'},\n",
    "                    labelStyle={'marginRight': '20px', 'marginBottom': '10px'}\n",
    "                )\n",
    "            ], style={'marginBottom': '20px'}),\n",
    "            \n",
    "            # Timeframe Selection\n",
    "            html.Div([\n",
    "                html.Div([\n",
    "                    html.Label('Quick Timeframe:', \n",
    "                              style={'color': '#FFFFFF', 'fontWeight': 'bold', 'marginBottom': '10px'}),\n",
    "                    dcc.RadioItems(\n",
    "                        id='timeframe-selector',\n",
    "                        options=[\n",
    "                            {'label': ' 7 Days', 'value': '7'},\n",
    "                            {'label': ' 30 Days', 'value': '30'},\n",
    "                            {'label': ' 90 Days', 'value': '90'},\n",
    "                            {'label': ' Custom', 'value': 'custom'}\n",
    "                        ],\n",
    "                        value='7',\n",
    "                        inline=True,\n",
    "                        style={'color': '#FFFFFF'},\n",
    "                        labelStyle={'marginRight': '20px'}\n",
    "                    )\n",
    "                ], style={'width': '100%', 'marginBottom': '15px'}),\n",
    "                \n",
    "                # Custom Date Range (hidden by default)\n",
    "                html.Div([\n",
    "                    html.Label('Custom Date Range:', \n",
    "                              style={'color': '#FFFFFF', 'fontWeight': 'bold', 'marginBottom': '10px'}),\n",
    "                    dcc.DatePickerRange(\n",
    "                        id='date-picker',\n",
    "                        start_date=(datetime.now() - timedelta(days=30)).date(),\n",
    "                        end_date=datetime.now().date(),\n",
    "                        display_format='YYYY-MM-DD',\n",
    "                        style={'marginTop': '10px'}\n",
    "                    )\n",
    "                ], id='date-picker-container', style={'display': 'none'})\n",
    "            ])\n",
    "        ], style={'backgroundColor': '#2D2D2D', 'padding': '20px', 'borderRadius': '10px', 'marginBottom': '20px'}),\n",
    "    ])\n",
    "])\n",
    "\n",
    "app.run_server(mode='external', port=8050)"
   ]
  },
  {
   "cell_type": "code",
   "execution_count": null,
   "id": "92ef5de4",
   "metadata": {},
   "outputs": [
    {
     "data": {
      "application/vnd.microsoft.datawrangler.viewer.v0+json": {
       "columns": [
        {
         "name": "index",
         "rawType": "int64",
         "type": "integer"
        },
        {
         "name": "tether",
         "rawType": "object",
         "type": "unknown"
        },
        {
         "name": "ethereum",
         "rawType": "object",
         "type": "unknown"
        },
        {
         "name": "binancecoin",
         "rawType": "object",
         "type": "unknown"
        },
        {
         "name": "cardano",
         "rawType": "object",
         "type": "unknown"
        },
        {
         "name": "dogecoin",
         "rawType": "object",
         "type": "unknown"
        },
        {
         "name": "solana",
         "rawType": "object",
         "type": "unknown"
        },
        {
         "name": "tron",
         "rawType": "object",
         "type": "unknown"
        },
        {
         "name": "ripple",
         "rawType": "object",
         "type": "unknown"
        },
        {
         "name": "usd-coin",
         "rawType": "object",
         "type": "unknown"
        },
        {
         "name": "bitcoin",
         "rawType": "object",
         "type": "unknown"
        },
        {
         "name": "timestamp",
         "rawType": "object",
         "type": "string"
        }
       ],
       "ref": "7978e49f-0d76-4aed-9cd2-4c2eabc9b8fe",
       "rows": [
        [
         "0",
         "0.864732",
         "3593.78",
         "1109.34",
         "0.620478",
         "0.182245",
         "170.24",
         "0.277479",
         "2.24",
         "0.863804",
         "99400",
         "2025-10-13T16:11:14.869496+00:00"
        ],
        [
         "1",
         "0.864693",
         "3595.99",
         "1108.51",
         "0.616431",
         "0.181916",
         "171.11",
         "0.277444",
         "2.24",
         "0.863591",
         "99110",
         "2025-10-13T16:27:35.479438+00:00"
        ],
        [
         "2",
         "0.865189",
         "3588.58",
         "1106.27",
         "0.617337",
         "0.181516",
         "172.21",
         "0.277501",
         "2.23",
         "0.864147",
         "98994",
         "2025-10-13T16:41:57.621896+00:00"
        ],
        [
         "3",
         "0.864757",
         "3596.14",
         "1105.54",
         "0.615812",
         "0.18149",
         "171.58",
         "0.277292",
         "2.23",
         "0.863806",
         "99031",
         "2025-10-13T16:52:47.604888+00:00"
        ],
        [
         "4",
         "0.864816",
         "3602.74",
         "1107.84",
         "0.61914",
         "0.182571",
         "173.19",
         "0.277334",
         "2.24",
         "0.863815",
         "99128",
         "2025-10-13T17:03:09.475261+00:00"
        ],
        [
         "5",
         "0.864824",
         "3599.65",
         "1105.36",
         "0.620353",
         "0.182879",
         "174.16",
         "0.277857",
         "2.25",
         "0.863774",
         "99083",
         "2025-10-13T17:16:36.588341+00:00"
        ],
        [
         "6",
         "0.864872",
         "3604.43",
         "1101.69",
         "0.620612",
         "0.182837",
         "174.11",
         "0.27792",
         "2.25",
         "0.863829",
         "99021",
         "2025-10-13T17:29:06.899306+00:00"
        ],
        [
         "7",
         "0.864749",
         "3615.01",
         "1102.96",
         "0.620189",
         "0.183373",
         "174.44",
         "0.277992",
         "2.25",
         "0.863778",
         "99088",
         "2025-10-13T17:39:51.669491+00:00"
        ],
        [
         "8",
         "0.865108",
         "3612.44",
         "1100.25",
         "0.619669",
         "0.182694",
         "173.79",
         "0.278156",
         "2.24",
         "0.864051",
         "98911",
         "2025-10-13T17:49:25.960711+00:00"
        ],
        [
         "9",
         "0.864877",
         "3626.14",
         "1104.94",
         "0.619045",
         "0.182707",
         "174.29",
         "0.278191",
         "2.24",
         "0.86387",
         "98895",
         "2025-10-13T17:58:29.675667+00:00"
        ],
        [
         "10",
         "0.8647",
         "3637.9",
         "1102.49",
         "0.624675",
         "0.184049",
         "176.85",
         "0.279285",
         "2.26",
         "0.863647",
         "99247",
         "2025-10-13T18:12:10.509852+00:00"
        ],
        [
         "11",
         "0.864726",
         "3654.32",
         "1104.53",
         "0.625721",
         "0.185448",
         "178.09",
         "0.279287",
         "2.27",
         "0.863651",
         "99649",
         "2025-10-13T18:29:10.595211+00:00"
        ],
        [
         "12",
         "0.865071",
         "3658.24",
         "1100.74",
         "0.624744",
         "0.185559",
         "177.96",
         "0.279565",
         "2.26",
         "0.864051",
         "99562",
         "2025-10-13T18:43:40.889049+00:00"
        ],
        [
         "13",
         "0.865161",
         "3651.14",
         "1092.8",
         "0.624256",
         "0.185268",
         "177.99",
         "0.279281",
         "2.26",
         "0.864162",
         "99536",
         "2025-10-13T18:53:46.984342+00:00"
        ],
        [
         "14",
         "0.865366",
         "3657.86",
         "1095.65",
         "0.623795",
         "0.18506",
         "178.11",
         "0.279116",
         "2.26",
         "0.864313",
         "99580",
         "2025-10-13T19:05:03.868564+00:00"
        ],
        [
         "15",
         "0.865157",
         "3679.37",
         "1099.9",
         "0.62661",
         "0.18607",
         "178.83",
         "0.279454",
         "2.27",
         "0.864134",
         "99774",
         "2025-10-13T19:18:04.890950+00:00"
        ],
        [
         "16",
         "0.86497",
         "3670.56",
         "1097.88",
         "0.625873",
         "0.186333",
         "178.97",
         "0.279544",
         "2.27",
         "0.863966",
         "99909",
         "2025-10-13T19:27:37.691384+00:00"
        ],
        [
         "17",
         "0.865154",
         "3675.57",
         "1101.83",
         "0.626149",
         "0.186654",
         "179.47",
         "0.27961",
         "2.27",
         "0.864122",
         "99924",
         "2025-10-13T19:37:41.059361+00:00"
        ],
        [
         "18",
         "0.865245",
         "3686.59",
         "1105.14",
         "0.62777",
         "0.187381",
         "179.9",
         "0.279774",
         "2.28",
         "0.86419",
         "100048",
         "2025-10-13T19:46:53.183035+00:00"
        ],
        [
         "19",
         "0.865345",
         "3691.4",
         "1101.2",
         "0.628296",
         "0.187371",
         "180.05",
         "0.279883",
         "2.28",
         "0.864293",
         "100202",
         "2025-10-13T19:56:10.482697+00:00"
        ],
        [
         "20",
         "0.865635",
         "3688.36",
         "1103.41",
         "0.62682",
         "0.187222",
         "179.58",
         "0.279851",
         "2.27",
         "0.864571",
         "100189",
         "2025-10-13T20:10:01.798969+00:00"
        ],
        [
         "21",
         "0.865331",
         "3678.02",
         "1103.9",
         "0.626727",
         "0.18741",
         "179.21",
         "0.2798",
         "2.28",
         "0.864277",
         "100010",
         "2025-10-13T20:25:27.737466+00:00"
        ],
        [
         "22",
         "0.865349",
         "3674.63",
         "1106.56",
         "0.627409",
         "0.187201",
         "179.22",
         "0.279788",
         "2.28",
         "0.864304",
         "99885",
         "2025-10-13T20:37:00.142411+00:00"
        ],
        [
         "23",
         "0.86539",
         "3683.39",
         "1109.65",
         "0.628962",
         "0.187815",
         "179.71",
         "0.279831",
         "2.28",
         "0.864328",
         "99906",
         "2025-10-13T20:46:07.829346+00:00"
        ],
        [
         "24",
         "0.865351",
         "3687.75",
         "1112.17",
         "0.632984",
         "0.18819",
         "179.96",
         "0.279917",
         "2.28",
         "0.864279",
         "100000",
         "2025-10-13T20:55:12.159325+00:00"
        ],
        [
         "25",
         "0.865286",
         "3701.96",
         "1106.54",
         "0.632959",
         "0.188274",
         "180.37",
         "0.280167",
         "2.28",
         "0.864176",
         "100036",
         "2025-10-13T21:06:58.014387+00:00"
        ],
        [
         "26",
         "0.865115",
         "3700.54",
         "1109.39",
         "0.634605",
         "0.188417",
         "180.07",
         "0.280116",
         "2.28",
         "0.86408",
         "100097",
         "2025-10-13T21:20:49.192020+00:00"
        ],
        [
         "27",
         "0.865076",
         "3693.5",
         "1109.6",
         "0.632354",
         "0.187836",
         "179.95",
         "0.280037",
         "2.27",
         "0.864032",
         "100070",
         "2025-10-13T21:29:32.206693+00:00"
        ],
        [
         "28",
         "0.865085",
         "3690.82",
         "1107.32",
         "0.631939",
         "0.187201",
         "179.82",
         "0.279958",
         "2.27",
         "0.864095",
         "100032",
         "2025-10-13T21:38:29.465115+00:00"
        ],
        [
         "29",
         "0.865075",
         "3689.25",
         "1108.99",
         "0.632865",
         "0.186949",
         "179.98",
         "0.279958",
         "2.27",
         "0.864029",
         "100005",
         "2025-10-13T21:48:11.797031+00:00"
        ],
        [
         "30",
         "0.865068",
         "3683.48",
         "1111.3",
         "0.631212",
         "0.186529",
         "179.98",
         "0.279937",
         "2.26",
         "0.86401",
         "100041",
         "2025-10-13T21:57:12.971070+00:00"
        ],
        [
         "31",
         "0.865117",
         "3690.38",
         "1121.17",
         "0.633189",
         "0.186454",
         "180.58",
         "0.280059",
         "2.27",
         "0.864054",
         "100135",
         "2025-10-13T22:09:10.370485+00:00"
        ],
        [
         "32",
         "0.865022",
         "3687.65",
         "1118.56",
         "0.633728",
         "0.186443",
         "180.17",
         "0.279887",
         "2.26",
         "0.863959",
         "100060",
         "2025-10-13T22:23:45.622352+00:00"
        ],
        [
         "33",
         "0.865209",
         "3684.08",
         "1113.27",
         "0.632",
         "0.185934",
         "179.96",
         "0.279595",
         "2.26",
         "0.864203",
         "99923",
         "2025-10-13T22:35:13.407004+00:00"
        ],
        [
         "34",
         "0.865146",
         "3688.07",
         "1115.09",
         "0.634653",
         "0.186348",
         "180.23",
         "0.279547",
         "2.26",
         "0.864114",
         "99936",
         "2025-10-13T22:44:45.293636+00:00"
        ],
        [
         "35",
         "0.865252",
         "3696.22",
         "1116.31",
         "0.633241",
         "0.186205",
         "180.21",
         "0.279662",
         "2.26",
         "0.864202",
         "99954",
         "2025-10-13T22:53:52.443431+00:00"
        ],
        [
         "36",
         "0.865407",
         "3689.99",
         "1117.34",
         "0.632276",
         "0.186135",
         "180.17",
         "0.279639",
         "2.26",
         "0.864453",
         "99889",
         "2025-10-13T23:05:14.810252+00:00"
        ],
        [
         "37",
         "0.865636",
         "3683.7",
         "1120.83",
         "0.633941",
         "0.186011",
         "180.31",
         "0.279705",
         "2.26",
         "0.8646",
         "99854",
         "2025-10-13T23:18:57.771057+00:00"
        ],
        [
         "38",
         "0.86548",
         "3679.42",
         "1123.02",
         "0.633238",
         "0.185826",
         "180.62",
         "0.279601",
         "2.26",
         "0.864529",
         "99864",
         "2025-10-13T23:29:20.014491+00:00"
        ],
        [
         "39",
         "0.86533",
         "3674.74",
         "1118.62",
         "0.632735",
         "0.185558",
         "180.26",
         "0.279458",
         "2.26",
         "0.86429",
         "99788",
         "2025-10-13T23:39:24.258232+00:00"
        ],
        [
         "40",
         "0.865414",
         "3667.26",
         "1117.57",
         "0.630839",
         "0.185099",
         "179.79",
         "0.279388",
         "2.25",
         "0.864371",
         "99546",
         "2025-10-13T23:49:00.666294+00:00"
        ],
        [
         "41",
         "0.865487",
         "3669.95",
         "1117.84",
         "0.629753",
         "0.184961",
         "179.87",
         "0.279157",
         "2.25",
         "0.864493",
         "99635",
         "2025-10-13T23:58:07.345493+00:00"
        ],
        [
         "42",
         "0.866302",
         "3687.94",
         "1137.51",
         "0.633615",
         "0.186289",
         "182.11",
         "0.279548",
         "2.27",
         "0.865273",
         "99878",
         "2025-10-14T00:34:03.257103+00:00"
        ],
        [
         "43",
         "0.865896",
         "3667.03",
         "1125.16",
         "0.628411",
         "0.185306",
         "181.11",
         "0.279255",
         "2.26",
         "0.864876",
         "99511",
         "2025-10-14T01:03:36.807090+00:00"
        ],
        [
         "44",
         "0.865097",
         "3649.85",
         "1115.9",
         "0.626703",
         "0.183796",
         "180.96",
         "0.278836",
         "2.25",
         "0.864105",
         "99049",
         "2025-10-14T01:45:58.949098+00:00"
        ],
        [
         "45",
         "0.865124",
         "3622.78",
         "1112.02",
         "0.620223",
         "0.181929",
         "179.01",
         "0.278565",
         "2.23",
         "0.864094",
         "98569",
         "2025-10-14T02:21:20.167367+00:00"
        ],
        [
         "46",
         "0.865073",
         "3610.2",
         "1113.97",
         "0.618737",
         "0.1812",
         "178.95",
         "0.278311",
         "2.22",
         "0.864062",
         "98404",
         "2025-10-14T02:50:09.606824+00:00"
        ],
        [
         "47",
         "0.86498",
         "3590.79",
         "1105.31",
         "0.615823",
         "0.179438",
         "178.22",
         "0.277457",
         "2.22",
         "0.864041",
         "98133",
         "2025-10-14T03:13:08.340879+00:00"
        ],
        [
         "48",
         "0.86475",
         "3581.04",
         "1100.78",
         "0.616126",
         "0.17907",
         "177.72",
         "0.277101",
         "2.21",
         "0.863778",
         "98020",
         "2025-10-14T03:31:47.370732+00:00"
        ],
        [
         "49",
         "0.864451",
         "3590.18",
         "1104.89",
         "0.615764",
         "0.179499",
         "177.97",
         "0.2771",
         "2.21",
         "0.863491",
         "98094",
         "2025-10-14T03:45:50.784224+00:00"
        ]
       ],
       "shape": {
        "columns": 11,
        "rows": 90
       }
      },
      "text/html": [
       "<div>\n",
       "<style scoped>\n",
       "    .dataframe tbody tr th:only-of-type {\n",
       "        vertical-align: middle;\n",
       "    }\n",
       "\n",
       "    .dataframe tbody tr th {\n",
       "        vertical-align: top;\n",
       "    }\n",
       "\n",
       "    .dataframe thead th {\n",
       "        text-align: right;\n",
       "    }\n",
       "</style>\n",
       "<table border=\"1\" class=\"dataframe\">\n",
       "  <thead>\n",
       "    <tr style=\"text-align: right;\">\n",
       "      <th></th>\n",
       "      <th>tether</th>\n",
       "      <th>ethereum</th>\n",
       "      <th>binancecoin</th>\n",
       "      <th>cardano</th>\n",
       "      <th>dogecoin</th>\n",
       "      <th>solana</th>\n",
       "      <th>tron</th>\n",
       "      <th>ripple</th>\n",
       "      <th>usd-coin</th>\n",
       "      <th>bitcoin</th>\n",
       "      <th>timestamp</th>\n",
       "    </tr>\n",
       "  </thead>\n",
       "  <tbody>\n",
       "    <tr>\n",
       "      <th>0</th>\n",
       "      <td>0.864732</td>\n",
       "      <td>3593.78</td>\n",
       "      <td>1109.34</td>\n",
       "      <td>0.620478</td>\n",
       "      <td>0.182245</td>\n",
       "      <td>170.24</td>\n",
       "      <td>0.277479</td>\n",
       "      <td>2.24</td>\n",
       "      <td>0.863804</td>\n",
       "      <td>99400</td>\n",
       "      <td>2025-10-13T16:11:14.869496+00:00</td>\n",
       "    </tr>\n",
       "    <tr>\n",
       "      <th>1</th>\n",
       "      <td>0.864693</td>\n",
       "      <td>3595.99</td>\n",
       "      <td>1108.51</td>\n",
       "      <td>0.616431</td>\n",
       "      <td>0.181916</td>\n",
       "      <td>171.11</td>\n",
       "      <td>0.277444</td>\n",
       "      <td>2.24</td>\n",
       "      <td>0.863591</td>\n",
       "      <td>99110</td>\n",
       "      <td>2025-10-13T16:27:35.479438+00:00</td>\n",
       "    </tr>\n",
       "    <tr>\n",
       "      <th>2</th>\n",
       "      <td>0.865189</td>\n",
       "      <td>3588.58</td>\n",
       "      <td>1106.27</td>\n",
       "      <td>0.617337</td>\n",
       "      <td>0.181516</td>\n",
       "      <td>172.21</td>\n",
       "      <td>0.277501</td>\n",
       "      <td>2.23</td>\n",
       "      <td>0.864147</td>\n",
       "      <td>98994</td>\n",
       "      <td>2025-10-13T16:41:57.621896+00:00</td>\n",
       "    </tr>\n",
       "    <tr>\n",
       "      <th>3</th>\n",
       "      <td>0.864757</td>\n",
       "      <td>3596.14</td>\n",
       "      <td>1105.54</td>\n",
       "      <td>0.615812</td>\n",
       "      <td>0.18149</td>\n",
       "      <td>171.58</td>\n",
       "      <td>0.277292</td>\n",
       "      <td>2.23</td>\n",
       "      <td>0.863806</td>\n",
       "      <td>99031</td>\n",
       "      <td>2025-10-13T16:52:47.604888+00:00</td>\n",
       "    </tr>\n",
       "    <tr>\n",
       "      <th>4</th>\n",
       "      <td>0.864816</td>\n",
       "      <td>3602.74</td>\n",
       "      <td>1107.84</td>\n",
       "      <td>0.61914</td>\n",
       "      <td>0.182571</td>\n",
       "      <td>173.19</td>\n",
       "      <td>0.277334</td>\n",
       "      <td>2.24</td>\n",
       "      <td>0.863815</td>\n",
       "      <td>99128</td>\n",
       "      <td>2025-10-13T17:03:09.475261+00:00</td>\n",
       "    </tr>\n",
       "    <tr>\n",
       "      <th>...</th>\n",
       "      <td>...</td>\n",
       "      <td>...</td>\n",
       "      <td>...</td>\n",
       "      <td>...</td>\n",
       "      <td>...</td>\n",
       "      <td>...</td>\n",
       "      <td>...</td>\n",
       "      <td>...</td>\n",
       "      <td>...</td>\n",
       "      <td>...</td>\n",
       "      <td>...</td>\n",
       "    </tr>\n",
       "    <tr>\n",
       "      <th>85</th>\n",
       "      <td>0.866865</td>\n",
       "      <td>3442.11</td>\n",
       "      <td>1034.53</td>\n",
       "      <td>0.586241</td>\n",
       "      <td>0.172299</td>\n",
       "      <td>169.7</td>\n",
       "      <td>0.269121</td>\n",
       "      <td>2.12</td>\n",
       "      <td>0.865843</td>\n",
       "      <td>96379</td>\n",
       "      <td>2025-10-14T11:11:25.513994+00:00</td>\n",
       "    </tr>\n",
       "    <tr>\n",
       "      <th>86</th>\n",
       "      <td>0.866616</td>\n",
       "      <td>3443.71</td>\n",
       "      <td>1030.31</td>\n",
       "      <td>0.5867</td>\n",
       "      <td>0.17271</td>\n",
       "      <td>169.6</td>\n",
       "      <td>0.269006</td>\n",
       "      <td>2.13</td>\n",
       "      <td>0.865576</td>\n",
       "      <td>96563</td>\n",
       "      <td>2025-10-14T11:23:53.673851+00:00</td>\n",
       "    </tr>\n",
       "    <tr>\n",
       "      <th>87</th>\n",
       "      <td>0.866311</td>\n",
       "      <td>3440.84</td>\n",
       "      <td>1025.47</td>\n",
       "      <td>0.586533</td>\n",
       "      <td>0.172723</td>\n",
       "      <td>169.5</td>\n",
       "      <td>0.268734</td>\n",
       "      <td>2.13</td>\n",
       "      <td>0.865273</td>\n",
       "      <td>96571</td>\n",
       "      <td>2025-10-14T11:34:06.024064+00:00</td>\n",
       "    </tr>\n",
       "    <tr>\n",
       "      <th>88</th>\n",
       "      <td>0.866358</td>\n",
       "      <td>3442.29</td>\n",
       "      <td>1017.7</td>\n",
       "      <td>0.587644</td>\n",
       "      <td>0.1727</td>\n",
       "      <td>169.41</td>\n",
       "      <td>0.269553</td>\n",
       "      <td>2.13</td>\n",
       "      <td>0.865305</td>\n",
       "      <td>96486</td>\n",
       "      <td>2025-10-14T11:43:34.246441+00:00</td>\n",
       "    </tr>\n",
       "    <tr>\n",
       "      <th>89</th>\n",
       "      <td>0.866551</td>\n",
       "      <td>3449.18</td>\n",
       "      <td>1015.42</td>\n",
       "      <td>0.587419</td>\n",
       "      <td>0.172683</td>\n",
       "      <td>169.49</td>\n",
       "      <td>0.269784</td>\n",
       "      <td>2.13</td>\n",
       "      <td>0.865481</td>\n",
       "      <td>96596</td>\n",
       "      <td>2025-10-14T11:53:07.888901+00:00</td>\n",
       "    </tr>\n",
       "  </tbody>\n",
       "</table>\n",
       "<p>90 rows × 11 columns</p>\n",
       "</div>"
      ],
      "text/plain": [
       "      tether ethereum binancecoin   cardano  dogecoin  solana      tron  \\\n",
       "0   0.864732  3593.78     1109.34  0.620478  0.182245  170.24  0.277479   \n",
       "1   0.864693  3595.99     1108.51  0.616431  0.181916  171.11  0.277444   \n",
       "2   0.865189  3588.58     1106.27  0.617337  0.181516  172.21  0.277501   \n",
       "3   0.864757  3596.14     1105.54  0.615812   0.18149  171.58  0.277292   \n",
       "4   0.864816  3602.74     1107.84   0.61914  0.182571  173.19  0.277334   \n",
       "..       ...      ...         ...       ...       ...     ...       ...   \n",
       "85  0.866865  3442.11     1034.53  0.586241  0.172299   169.7  0.269121   \n",
       "86  0.866616  3443.71     1030.31    0.5867   0.17271   169.6  0.269006   \n",
       "87  0.866311  3440.84     1025.47  0.586533  0.172723   169.5  0.268734   \n",
       "88  0.866358  3442.29      1017.7  0.587644    0.1727  169.41  0.269553   \n",
       "89  0.866551  3449.18     1015.42  0.587419  0.172683  169.49  0.269784   \n",
       "\n",
       "   ripple  usd-coin bitcoin                         timestamp  \n",
       "0    2.24  0.863804   99400  2025-10-13T16:11:14.869496+00:00  \n",
       "1    2.24  0.863591   99110  2025-10-13T16:27:35.479438+00:00  \n",
       "2    2.23  0.864147   98994  2025-10-13T16:41:57.621896+00:00  \n",
       "3    2.23  0.863806   99031  2025-10-13T16:52:47.604888+00:00  \n",
       "4    2.24  0.863815   99128  2025-10-13T17:03:09.475261+00:00  \n",
       "..    ...       ...     ...                               ...  \n",
       "85   2.12  0.865843   96379  2025-10-14T11:11:25.513994+00:00  \n",
       "86   2.13  0.865576   96563  2025-10-14T11:23:53.673851+00:00  \n",
       "87   2.13  0.865273   96571  2025-10-14T11:34:06.024064+00:00  \n",
       "88   2.13  0.865305   96486  2025-10-14T11:43:34.246441+00:00  \n",
       "89   2.13  0.865481   96596  2025-10-14T11:53:07.888901+00:00  \n",
       "\n",
       "[90 rows x 11 columns]"
      ]
     },
     "execution_count": 38,
     "metadata": {},
     "output_type": "execute_result"
    }
   ],
   "source": [
    "app.layout = html.Div([\n",
    "    html.Div([\n",
    "            # Publication year trend\n",
    "            html.Div([\n",
    "                dcc.Graph(\n",
    "                    figure=px.line(\n",
    "                        book_data.groupby('publication_year').size().reset_index(name='count'),\n",
    "                        x='publication_year', \n",
    "                        y='count',\n",
    "                        title='Books by Publication Year',\n",
    "                        labels={'count': 'Number of Books', 'publication_year': 'Year'}\n",
    "                    ).update_layout(height=400)\n",
    "                )\n",
    "            ], style={'width': '50%', 'display': 'inline-block'})\n",
    "        ])\n",
    "    ])"
   ]
  },
  {
   "cell_type": "code",
   "execution_count": null,
   "id": "19022276",
   "metadata": {},
   "outputs": [],
   "source": [
    "\n",
    "\n",
    "# Calculate summary metrics\n",
    "book_data['publisher'] = book_data['publisher'].apply(lambda x: x[:20] + \"...\" if len(x) > 20 else x)\n",
    "book_data['primary_category'] = book_data['primary_category'].str.lower().apply(lambda x: x[:20] + \"...\" if len(x) > 20 else x)\n",
    "total_books = len(book_data)\n",
    "ratings_count = book_data['ratings_count'].sum()\n",
    "avg_rating = book_data['avg_rating'].mean()\n",
    "if book_data['publication_year'].max() > datetime.now().year:\n",
    "    latest_year = datetime.now().year\n",
    "else:\n",
    "    latest_year = book_data['publication_year'].max()\n",
    "\n",
    "# Category distribution with \"Other\" grouping\n",
    "category_counts = book_data['primary_category'].value_counts()\n",
    "filtered_df = category_counts[category_counts >= len(book_data) * 0.02].reset_index()\n",
    "filtered_df.columns = ['primary_category', 'count']\n",
    "\n",
    "# Dashboard layout\n",
    "app.layout = html.Div([\n",
    "    # Header\n",
    "    html.Div([\n",
    "        html.H1(\"Book Analytics Dashboard\", \n",
    "                style={'text-align': 'center', 'color': '#2c3e50', 'margin-bottom': '30px'})\n",
    "    ]),\n",
    "\n",
    "    # Overview section\n",
    "    html.Div([\n",
    "        html.P(\n",
    "            \"This dashboard provides summary statistics and visualizations \"\n",
    "            \"for the collection of books sourced from Google Books and made \"\n",
    "            \"available to the Book Recommender. \"\n",
    "            \"Here, you can explore how many books are included, along with \"\n",
    "            \"insights into publication trends, ratings distribution, and \"\n",
    "            \"category breakdowns.\",\n",
    "            style={\n",
    "                'textAlign': 'center',\n",
    "                'color': '#2c3e50',\n",
    "                'marginTop': '40px',\n",
    "                'marginBottom': '40px',\n",
    "                'fontSize': '16px',\n",
    "                'lineHeight': '1.6'\n",
    "            }\n",
    "        )\n",
    "    ]),\n",
    "    \n",
    "    # Summary cards\n",
    "    html.Div([\n",
    "        html.Div([\n",
    "            html.H3(f\"{total_books:,}\", style={'margin': '0', 'color': '#3498db'}),\n",
    "            html.P(\"Total Books\", style={'margin': '5px 0'})\n",
    "        ], className='summary-card'),\n",
    "        \n",
    "        html.Div([\n",
    "            html.H3(f\"{avg_rating:.1f}\", style={'margin': '0', 'color': '#e74c3c'}),\n",
    "            html.P(\"Average Rating\", style={'margin': '5px 0'})\n",
    "        ], className='summary-card'),\n",
    "        \n",
    "        html.Div([\n",
    "            html.H3(f\"{latest_year}\", style={'margin': '0', 'color': '#27ae60'}),\n",
    "            html.P(\"Latest Publication\", style={'margin': '5px 0'})\n",
    "        ], className='summary-card')\n",
    "    ], style={'display': 'flex', 'justify-content': 'space-around', 'margin-bottom': '30px'}),\n",
    "    \n",
    "    # Charts section\n",
    "    html.Div([\n",
    "        # Publication year trend\n",
    "        html.Div([\n",
    "            dcc.Graph(\n",
    "                figure=px.line(\n",
    "                    book_data.groupby('publication_year').size().reset_index(name='count'),\n",
    "                    x='publication_year', \n",
    "                    y='count',\n",
    "                    title='Books by Publication Year',\n",
    "                    labels={'count': 'Number of Books', 'publication_year': 'Year'}\n",
    "                ).update_layout(height=400)\n",
    "            )\n",
    "        ], style={'width': '50%', 'display': 'inline-block'}),\n",
    "        \n",
    "        # Top publishers\n",
    "        html.Div([\n",
    "            dcc.Graph(\n",
    "                figure=px.bar(\n",
    "                    book_data['publisher'].value_counts().head(8).reset_index(),\n",
    "                    x='count', \n",
    "                    y='publisher',\n",
    "                    orientation='h',\n",
    "                    title='Top Publishers',\n",
    "                    labels={'count': 'Number of Books', 'publisher': 'Publisher'}\n",
    "                ).update_layout(height=400)\n",
    "            )\n",
    "        ], style={'width': '50%', 'display': 'inline-block'})\n",
    "    ]),\n",
    "    \n",
    "    html.Div([\n",
    "        # Category distribution\n",
    "        html.Div([\n",
    "            dcc.Graph(\n",
    "                figure=px.pie(\n",
    "                    filtered_df,\n",
    "                    values='count',\n",
    "                    names='primary_category',\n",
    "                    title='Books by Category'\n",
    "                ).update_layout(height=400)\n",
    "            )\n",
    "        ], style={'width': '50%', 'display': 'inline-block'}),\n",
    "        \n",
    "        # Rating distribution\n",
    "        html.Div([\n",
    "            dcc.Graph(\n",
    "                figure=px.histogram(\n",
    "                    book_data,\n",
    "                    x='avg_rating',\n",
    "                    nbins=10,\n",
    "                    title='Rating Distribution',\n",
    "                    labels={'avg_rating': 'Average Rating', 'count': 'Number of Books'}\n",
    "                ).update_layout(height=400)\n",
    "            )\n",
    "        ], style={'width': '50%', 'display': 'inline-block'})\n",
    "    ]),\n",
    "    \n",
    "    # Data table\n",
    "    html.Div([\n",
    "        html.H3(\"Book Details\", style={'margin-top': '30px'}),\n",
    "        dash_table.DataTable(\n",
    "            data=book_data.head(5).to_dict('records'),\n",
    "            columns=[\n",
    "                {'name': 'Title', 'id': 'title'},\n",
    "                {'name': 'Author', 'id': 'primary_author'},\n",
    "                {'name': 'Publisher', 'id': 'publisher'},\n",
    "                {'name': 'Year', 'id': 'publication_year'},\n",
    "                {'name': 'Rating', 'id': 'avg_rating', 'type': 'numeric', 'format': {'specifier': '.1f'}},\n",
    "                {'name': 'Ratings Count', 'id': 'ratings_count', 'type': 'numeric', 'format': {'specifier': 'd'}},\n",
    "                {'name': 'Category', 'id': 'primary_category'}\n",
    "            ],\n",
    "            style_cell={'textAlign': 'left', 'padding': '10px'},\n",
    "            style_header={'backgroundColor': '#3498db', 'color': 'white', 'fontWeight': 'bold'},\n",
    "            style_data_conditional=[\n",
    "                {\n",
    "                    'if': {'filter_query': '{avg_rating} > 4'},\n",
    "                    'backgroundColor': '#d5f4e6',\n",
    "                }\n",
    "            ]\n",
    "        )\n",
    "    ])\n",
    "], style={'max-width': '1200px', 'margin': '0 auto', 'padding': '20px'})\n",
    "\n",
    "# Add CSS styling\n",
    "app.index_string = '''\n",
    "<!DOCTYPE html>\n",
    "<html>\n",
    "    <head>\n",
    "        {%metas%}\n",
    "        <title>{%title%}</title>\n",
    "        {%favicon%}\n",
    "        {%css%}\n",
    "        <style>\n",
    "            .summary-card {\n",
    "                background: white;\n",
    "                padding: 20px;\n",
    "                border-radius: 8px;\n",
    "                box-shadow: 0 2px 10px rgba(0,0,0,0.1);\n",
    "                text-align: center;\n",
    "                width: 200px;\n",
    "            }\n",
    "            body {\n",
    "                font-family: 'Segoe UI', Tahoma, Geneva, Verdana, sans-serif;\n",
    "                background-color: #f8f9fa;\n",
    "                margin: 0;\n",
    "            }\n",
    "        </style>\n",
    "    </head>\n",
    "    <body>\n",
    "        {%app_entry%}\n",
    "        <footer>\n",
    "            {%config%}\n",
    "            {%scripts%}\n",
    "            {%renderer%}\n",
    "        </footer>\n",
    "    </body>\n",
    "</html>\n",
    "'''\n",
    "\n",
    "if __name__ == '__main__':\n",
    "    app.run(debug=True)"
   ]
  }
 ],
 "metadata": {
  "kernelspec": {
   "display_name": "prefect_env",
   "language": "python",
   "name": "python3"
  },
  "language_info": {
   "codemirror_mode": {
    "name": "ipython",
    "version": 3
   },
   "file_extension": ".py",
   "mimetype": "text/x-python",
   "name": "python",
   "nbconvert_exporter": "python",
   "pygments_lexer": "ipython3",
   "version": "3.11.13"
  }
 },
 "nbformat": 4,
 "nbformat_minor": 5
}
