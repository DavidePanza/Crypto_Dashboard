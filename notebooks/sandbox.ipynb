{
 "cells": [
  {
   "cell_type": "code",
   "execution_count": 1,
   "id": "4d972ed8",
   "metadata": {},
   "outputs": [],
   "source": [
    "# flows/bitcoin_flow.py\n",
    "from prefect import flow, task\n",
    "import requests\n",
    "import boto3\n",
    "import json\n",
    "from decimal import Decimal\n",
    "from datetime import datetime, UTC\n",
    "import time"
   ]
  },
  {
   "cell_type": "code",
   "execution_count": 18,
   "id": "930ac62d",
   "metadata": {},
   "outputs": [],
   "source": [
    "url = \"https://api.coingecko.com/api/v3/simple/price\"\n",
    "params = {\n",
    "    'ids': 'bitcoin,ethereum,tether,binancecoin,solana,ripple,usd-coin,cardano,dogecoin,tron',\n",
    "    'vs_currencies': 'eur',\n",
    "    'include_24hr_change': 'false',\n",
    "    'include_24hr_vol': 'false',\n",
    "    'include_market_cap': 'false'\n",
    "}\n",
    "\n",
    "response = requests.get(url, params=params)"
   ]
  },
  {
   "cell_type": "code",
   "execution_count": null,
   "id": "6c2e5f21",
   "metadata": {},
   "outputs": [
    {
     "data": {
      "text/plain": [
       "{'bitcoin': 99546, 'cardano': 0.624768, 'ethereum': 3613.61}"
      ]
     },
     "execution_count": 13,
     "metadata": {},
     "output_type": "execute_result"
    }
   ],
   "source": [
    "data_flatten = {key: item['eur'] for key, item in data.items()}"
   ]
  },
  {
   "cell_type": "code",
   "execution_count": 19,
   "id": "2bfbfd58",
   "metadata": {},
   "outputs": [],
   "source": [
    "@task\n",
    "def transform_data(raw_data):\n",
    "    \"\"\"Add timestamp and format data\"\"\"\n",
    "    return {\n",
    "       'timestamp': datetime.now(UTC).isoformat(),\n",
    "       **{key: item['eur'] for key, item in raw_data.items()}\n",
    "    }"
   ]
  },
  {
   "cell_type": "code",
   "execution_count": 21,
   "id": "05f61665",
   "metadata": {},
   "outputs": [
    {
     "data": {
      "text/plain": [
       "{'timestamp': '2025-10-13T07:51:09.888416+00:00',\n",
       " 'bitcoin': 99334,\n",
       " 'cardano': 0.619527,\n",
       " 'ethereum': 3593.53}"
      ]
     },
     "execution_count": 21,
     "metadata": {},
     "output_type": "execute_result"
    }
   ],
   "source": [
    "data_"
   ]
  },
  {
   "cell_type": "code",
   "execution_count": 20,
   "id": "b4f7b5ce",
   "metadata": {},
   "outputs": [
    {
     "data": {
      "text/html": [
       "<pre style=\"white-space:pre;overflow-x:auto;line-height:normal;font-family:Menlo,'DejaVu Sans Mono',consolas,'Courier New',monospace\">09:51:09.864 | <span style=\"color: #008080; text-decoration-color: #008080\">INFO</span>    | Task run 'fetch_bitcoin_data' - Finished in state <span style=\"color: #008000; text-decoration-color: #008000\">Completed</span>()\n",
       "</pre>\n"
      ],
      "text/plain": [
       "09:51:09.864 | \u001b[36mINFO\u001b[0m    | Task run 'fetch_bitcoin_data' - Finished in state \u001b[32mCompleted\u001b[0m()\n"
      ]
     },
     "metadata": {},
     "output_type": "display_data"
    },
    {
     "data": {
      "text/html": [
       "<pre style=\"white-space:pre;overflow-x:auto;line-height:normal;font-family:Menlo,'DejaVu Sans Mono',consolas,'Courier New',monospace\">09:51:09.889 | <span style=\"color: #008080; text-decoration-color: #008080\">INFO</span>    | Task run 'transform_data' - Finished in state <span style=\"color: #008000; text-decoration-color: #008000\">Completed</span>()\n",
       "</pre>\n"
      ],
      "text/plain": [
       "09:51:09.889 | \u001b[36mINFO\u001b[0m    | Task run 'transform_data' - Finished in state \u001b[32mCompleted\u001b[0m()\n"
      ]
     },
     "metadata": {},
     "output_type": "display_data"
    }
   ],
   "source": [
    "data = fetch_bitcoin_data()\n",
    "data_ = transform_data(data)"
   ]
  },
  {
   "cell_type": "code",
   "execution_count": 9,
   "id": "b4d4a681",
   "metadata": {},
   "outputs": [
    {
     "data": {
      "text/plain": [
       "{'timestamp': '2025-10-13T07:41:35.420753+00:00',\n",
       " 'bitcoin': {'bitcoin': {'eur': 99546},\n",
       "  'cardano': {'eur': 0.624768},\n",
       "  'ethereum': {'eur': 3613.61}}}"
      ]
     },
     "execution_count": 9,
     "metadata": {},
     "output_type": "execute_result"
    }
   ],
   "source": [
    "data_"
   ]
  },
  {
   "cell_type": "code",
   "execution_count": null,
   "id": "34aa09b6",
   "metadata": {},
   "outputs": [],
   "source": [
    "@task(retries=3, retry_delay_seconds=10)\n",
    "def fetch_bitcoin_data():\n",
    "    \"\"\"Fetch Bitcoin price data\"\"\"\n",
    "    url = \"https://api.coingecko.com/api/v3/simple/price\"\n",
    "    params = {\n",
    "        'ids': 'bitcoin,ethereum,cardano',\n",
    "        'vs_currencies': 'eur',\n",
    "        'include_24hr_change': 'false',\n",
    "        'include_24hr_vol': 'false',\n",
    "        'include_market_cap': 'false'\n",
    "    }\n",
    "\n",
    "    response = requests.get(url, params=params)\n",
    "    response.raise_for_status()\n",
    "    return response.json()\n",
    "\n",
    "@task\n",
    "def transform_data(raw_data):\n",
    "    \"\"\"Add timestamp and format data\"\"\"\n",
    "    return {\n",
    "       'timestamp': datetime.now(UTC).isoformat(),\n",
    "       **{key: item['eur'] for key, item in raw_data.items()}\n",
    "    }\n",
    "\n",
    "@task\n",
    "def save_to_dynamodb(data, table_name='crypto-prices'):\n",
    "    \"\"\"Save to DynamoDB - all cryptos in one item per timestamp\"\"\"\n",
    "    from decimal import Decimal\n",
    "    import time\n",
    "    \n",
    "    dynamodb = boto3.resource('dynamodb', region_name='eu-west-1')\n",
    "    table = dynamodb.Table(table_name)\n",
    "    \n",
    "    timestamp = data['timestamp']\n",
    "    ttl = int(time.time()) + (180 * 24 * 3600)  # Expire in 1800 days\n",
    "    \n",
    "    item = {\n",
    "        'PK': 'CRYPTO_PRICES',  # Fixed partition key\n",
    "        'timestamp': timestamp,  # Sort key\n",
    "        'ttl': ttl\n",
    "    }\n",
    "    \n",
    "    # Add all crypto prices as separate attributes\n",
    "    for key, value in data.items():\n",
    "        if key == 'timestamp':\n",
    "            continue\n",
    "        item[key] = Decimal(str(value))\n",
    "    \n",
    "    table.put_item(Item=item)\n",
    "    \n",
    "    return 1 \n",
    "\n",
    "@flow(name=\"Bitcoin Price Tracker\")\n",
    "def bitcoin_tracking_flow():\n",
    "    \"\"\"Main flow to track Bitcoin prices\"\"\"\n",
    "    raw_data = fetch_bitcoin_data()\n",
    "    transformed = transform_data(raw_data)\n",
    "    dynamodb_path = save_to_dynamodb(transformed)\n",
    "\n",
    "    print(f\"Saved Bitcoin data to {dynamodb_path}\")\n",
    "\n"
   ]
  },
  {
   "cell_type": "code",
   "execution_count": null,
   "id": "a47b468c",
   "metadata": {},
   "outputs": [],
   "source": [
    "if __name__ == \"__main__\":\n",
    "    bitcoin_tracking_flow()"
   ]
  },
  {
   "cell_type": "code",
   "execution_count": null,
   "id": "d24899ce",
   "metadata": {},
   "outputs": [],
   "source": [
    "from prefect import flow, task\n",
    "import requests\n",
    "import boto3\n",
    "from datetime import datetime\n",
    "from decimal import Decimal\n",
    "\n",
    "@task\n",
    "def save_to_dynamodb(data, table_name='crypto-prices'):\n",
    "    \"\"\"Save to DynamoDB - designed for time-series\"\"\"\n",
    "    dynamodb = boto3.resource('dynamodb')\n",
    "    table = dynamodb.Table(table_name)\n",
    "    \n",
    "    # Write each crypto as separate item\n",
    "    with table.batch_writer() as batch:\n",
    "        for crypto, values in data.items():\n",
    "            batch.put_item(Item={\n",
    "                'crypto': crypto,\n",
    "                'timestamp': timestamp,\n",
    "                'price_eur': Decimal(str(values['eur'])),\n",
    "                'ttl': int(datetime.utcnow().timestamp()) + (90 * 24 * 3600)  # Auto-delete after 90 days\n",
    "            })\n",
    "    \n",
    "    return len(data)\n",
    "\n",
    "@flow\n",
    "def scrape_flow():\n",
    "    data = fetch_crypto_prices()\n",
    "    count = save_to_dynamodb(data)\n",
    "    print(f\"✅ Saved {count} prices to DynamoDB\")"
   ]
  }
 ],
 "metadata": {
  "kernelspec": {
   "display_name": "prefect_env",
   "language": "python",
   "name": "python3"
  },
  "language_info": {
   "codemirror_mode": {
    "name": "ipython",
    "version": 3
   },
   "file_extension": ".py",
   "mimetype": "text/x-python",
   "name": "python",
   "nbconvert_exporter": "python",
   "pygments_lexer": "ipython3",
   "version": "3.11.13"
  }
 },
 "nbformat": 4,
 "nbformat_minor": 5
}
