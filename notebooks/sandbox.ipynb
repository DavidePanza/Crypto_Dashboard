{
 "cells": [
  {
   "cell_type": "code",
   "execution_count": 1,
   "id": "4d972ed8",
   "metadata": {},
   "outputs": [
    {
     "data": {
      "text/plain": [
       "True"
      ]
     },
     "execution_count": 1,
     "metadata": {},
     "output_type": "execute_result"
    }
   ],
   "source": [
    "# flows/bitcoin_flow.py\n",
    "from prefect import flow, task\n",
    "import requests\n",
    "import boto3\n",
    "import json\n",
    "from decimal import Decimal\n",
    "from datetime import datetime, UTC\n",
    "import time\n",
    "import os\n",
    "from dotenv import load_dotenv\n",
    "\n",
    "load_dotenv()"
   ]
  },
  {
   "cell_type": "code",
   "execution_count": null,
   "id": "34aa09b6",
   "metadata": {},
   "outputs": [],
   "source": [
    "@task(retries=3, retry_delay_seconds=10)\n",
    "def fetch_crypto_data():\n",
    "    \"\"\"Fetch crypto price data\"\"\"\n",
    "    url = \"https://api.coingecko.com/api/v3/simple/price\"\n",
    "    params = {\n",
    "        'ids': 'bitcoin,ethereum,tether,binancecoin,solana,ripple,usd-coin,cardano,dogecoin,tron',\n",
    "        'vs_currencies': 'eur',\n",
    "        'include_24hr_change': 'false',\n",
    "        'include_24hr_vol': 'false',\n",
    "        'include_market_cap': 'false'\n",
    "    }\n",
    "\n",
    "    response = requests.get(url, params=params)\n",
    "    response.raise_for_status()\n",
    "    return response.json()\n",
    "\n",
    "@task\n",
    "def transform_data(raw_data):\n",
    "    \"\"\"Add timestamp and format data\"\"\"\n",
    "    return {\n",
    "       'timestamp': datetime.now(UTC).isoformat(),\n",
    "       **{key: item['eur'] for key, item in raw_data.items()}\n",
    "    }\n",
    "\n",
    "@task\n",
    "def save_to_dynamodb(data, table_name='crypto-prices'):\n",
    "    \"\"\"Save to DynamoDB - all cryptos in one item per timestamp\"\"\"\n",
    "    from decimal import Decimal\n",
    "    import time\n",
    "    \n",
    "    dynamodb = boto3.resource('dynamodb', region_name=os.getenv('AWS_DEFAULT_REGION'))\n",
    "    table = dynamodb.Table(table_name)\n",
    "    \n",
    "    timestamp = data['timestamp']\n",
    "    ttl = int(time.time()) + (180 * 24 * 3600)  # Expire in 180 days\n",
    "    \n",
    "    item = {\n",
    "        'PK': 'CRYPTO_PRICES',  # fixed partition key\n",
    "        'timestamp': timestamp,  # sort key\n",
    "        'ttl': ttl\n",
    "    }\n",
    "\n",
    "    for key, value in data.items():\n",
    "        if key == 'timestamp':\n",
    "            continue\n",
    "        item[key] = Decimal(str(value))\n",
    "    \n",
    "    table.put_item(Item=item)\n",
    "    \n",
    "    return 1 \n",
    "\n",
    "@flow(name=\"Crypto Price Tracker\")\n",
    "def crypto_tracking_flow():\n",
    "    \"\"\"Main flow to track Crypto prices\"\"\"\n",
    "    raw_data = fetch_crypto_data()\n",
    "    transformed = transform_data(raw_data)\n",
    "    dynamodb_path = save_to_dynamodb(transformed)\n",
    "\n",
    "    print(f\"Saved crypto data to {dynamodb_path}\")\n",
    "\n"
   ]
  },
  {
   "cell_type": "code",
   "execution_count": null,
   "id": "a47b468c",
   "metadata": {},
   "outputs": [
    {
     "data": {
      "text/html": [
       "<pre style=\"white-space:pre;overflow-x:auto;line-height:normal;font-family:Menlo,'DejaVu Sans Mono',consolas,'Courier New',monospace\">10:44:10.622 | <span style=\"color: #008080; text-decoration-color: #008080\">INFO</span>    | Flow run<span style=\"color: #800080; text-decoration-color: #800080\"> 'smoky-frog'</span> - Beginning flow run<span style=\"color: #800080; text-decoration-color: #800080\"> 'smoky-frog'</span> for flow<span style=\"color: #800080; text-decoration-color: #800080; font-weight: bold\"> 'Bitcoin Price Tracker'</span>\n",
       "</pre>\n"
      ],
      "text/plain": [
       "10:44:10.622 | \u001b[36mINFO\u001b[0m    | Flow run\u001b[35m 'smoky-frog'\u001b[0m - Beginning flow run\u001b[35m 'smoky-frog'\u001b[0m for flow\u001b[1;35m 'Bitcoin Price Tracker'\u001b[0m\n"
      ]
     },
     "metadata": {},
     "output_type": "display_data"
    },
    {
     "data": {
      "text/html": [
       "<pre style=\"white-space:pre;overflow-x:auto;line-height:normal;font-family:Menlo,'DejaVu Sans Mono',consolas,'Courier New',monospace\">10:44:10.898 | <span style=\"color: #008080; text-decoration-color: #008080\">INFO</span>    | Task run 'fetch_bitcoin_data-fd7' - Finished in state <span style=\"color: #008000; text-decoration-color: #008000\">Completed</span>()\n",
       "</pre>\n"
      ],
      "text/plain": [
       "10:44:10.898 | \u001b[36mINFO\u001b[0m    | Task run 'fetch_bitcoin_data-fd7' - Finished in state \u001b[32mCompleted\u001b[0m()\n"
      ]
     },
     "metadata": {},
     "output_type": "display_data"
    },
    {
     "data": {
      "text/html": [
       "<pre style=\"white-space:pre;overflow-x:auto;line-height:normal;font-family:Menlo,'DejaVu Sans Mono',consolas,'Courier New',monospace\">10:44:10.912 | <span style=\"color: #008080; text-decoration-color: #008080\">INFO</span>    | Task run 'transform_data-1af' - Finished in state <span style=\"color: #008000; text-decoration-color: #008000\">Completed</span>()\n",
       "</pre>\n"
      ],
      "text/plain": [
       "10:44:10.912 | \u001b[36mINFO\u001b[0m    | Task run 'transform_data-1af' - Finished in state \u001b[32mCompleted\u001b[0m()\n"
      ]
     },
     "metadata": {},
     "output_type": "display_data"
    },
    {
     "data": {
      "text/html": [
       "<pre style=\"white-space:pre;overflow-x:auto;line-height:normal;font-family:Menlo,'DejaVu Sans Mono',consolas,'Courier New',monospace\">10:44:11.370 | <span style=\"color: #008080; text-decoration-color: #008080\">INFO</span>    | Task run 'save_to_dynamodb-253' - Finished in state <span style=\"color: #008000; text-decoration-color: #008000\">Completed</span>()\n",
       "</pre>\n"
      ],
      "text/plain": [
       "10:44:11.370 | \u001b[36mINFO\u001b[0m    | Task run 'save_to_dynamodb-253' - Finished in state \u001b[32mCompleted\u001b[0m()\n"
      ]
     },
     "metadata": {},
     "output_type": "display_data"
    },
    {
     "name": "stdout",
     "output_type": "stream",
     "text": [
      "Saved crypto data to 1\n"
     ]
    },
    {
     "data": {
      "text/html": [
       "<pre style=\"white-space:pre;overflow-x:auto;line-height:normal;font-family:Menlo,'DejaVu Sans Mono',consolas,'Courier New',monospace\">10:44:11.384 | <span style=\"color: #008080; text-decoration-color: #008080\">INFO</span>    | Flow run<span style=\"color: #800080; text-decoration-color: #800080\"> 'smoky-frog'</span> - Finished in state <span style=\"color: #008000; text-decoration-color: #008000\">Completed</span>()\n",
       "</pre>\n"
      ],
      "text/plain": [
       "10:44:11.384 | \u001b[36mINFO\u001b[0m    | Flow run\u001b[35m 'smoky-frog'\u001b[0m - Finished in state \u001b[32mCompleted\u001b[0m()\n"
      ]
     },
     "metadata": {},
     "output_type": "display_data"
    }
   ],
   "source": [
    "if __name__ == \"__main__\":\n",
    "    crypto_tracking_flow()"
   ]
  },
  {
   "cell_type": "code",
   "execution_count": 4,
   "id": "d83ab0b5",
   "metadata": {},
   "outputs": [
    {
     "name": "stdout",
     "output_type": "stream",
     "text": [
      "Account ID: 976095577681\n",
      "User ARN: arn:aws:iam::976095577681:user/aws-practice-user\n",
      "Region: eu-west-1\n"
     ]
    }
   ],
   "source": [
    "sts = boto3.client('sts')\n",
    "identity = sts.get_caller_identity()\n",
    "\n",
    "print(f\"Account ID: {identity['Account']}\")\n",
    "print(f\"User ARN: {identity['Arn']}\")\n",
    "print(f\"Region: {boto3.Session().region_name}\")"
   ]
  },
  {
   "cell_type": "code",
   "execution_count": null,
   "id": "eaa6ec71",
   "metadata": {},
   "outputs": [],
   "source": []
  }
 ],
 "metadata": {
  "kernelspec": {
   "display_name": "prefect_env",
   "language": "python",
   "name": "python3"
  },
  "language_info": {
   "codemirror_mode": {
    "name": "ipython",
    "version": 3
   },
   "file_extension": ".py",
   "mimetype": "text/x-python",
   "name": "python",
   "nbconvert_exporter": "python",
   "pygments_lexer": "ipython3",
   "version": "3.11.13"
  }
 },
 "nbformat": 4,
 "nbformat_minor": 5
}
